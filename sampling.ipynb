{
 "cells": [
  {
   "cell_type": "code",
   "execution_count": 1,
   "metadata": {},
   "outputs": [],
   "source": [
    "# this is just to know how much time will it take to run this entire ipython notebook \n",
    "from datetime import datetime"
   ]
  },
  {
   "cell_type": "code",
   "execution_count": 2,
   "metadata": {},
   "outputs": [],
   "source": [
    "import pandas as pd\n",
    "import numpy as np"
   ]
  },
  {
   "cell_type": "code",
   "execution_count": 3,
   "metadata": {},
   "outputs": [],
   "source": [
    "import matplotlib\n",
    "matplotlib.use('nbagg')\n",
    "\n",
    "import matplotlib.pyplot as plt\n",
    "plt.rcParams.update({'figure.max_open_warning': 0})\n",
    "\n",
    "import seaborn as sns\n",
    "sns.set_style('whitegrid')"
   ]
  },
  {
   "cell_type": "markdown",
   "metadata": {},
   "source": [
    "## reading data from the csv file"
   ]
  },
  {
   "cell_type": "code",
   "execution_count": 4,
   "metadata": {},
   "outputs": [
    {
     "data": {
      "text/html": [
       "<div>\n",
       "<style scoped>\n",
       "    .dataframe tbody tr th:only-of-type {\n",
       "        vertical-align: middle;\n",
       "    }\n",
       "\n",
       "    .dataframe tbody tr th {\n",
       "        vertical-align: top;\n",
       "    }\n",
       "\n",
       "    .dataframe thead th {\n",
       "        text-align: right;\n",
       "    }\n",
       "</style>\n",
       "<table border=\"1\" class=\"dataframe\">\n",
       "  <thead>\n",
       "    <tr style=\"text-align: right;\">\n",
       "      <th></th>\n",
       "      <th>movie</th>\n",
       "      <th>user</th>\n",
       "      <th>rating</th>\n",
       "      <th>date</th>\n",
       "    </tr>\n",
       "  </thead>\n",
       "  <tbody>\n",
       "    <tr>\n",
       "      <th>58698779</th>\n",
       "      <td>10774</td>\n",
       "      <td>510180</td>\n",
       "      <td>3.0</td>\n",
       "      <td>1999-11-11</td>\n",
       "    </tr>\n",
       "    <tr>\n",
       "      <th>96212476</th>\n",
       "      <td>17064</td>\n",
       "      <td>510180</td>\n",
       "      <td>2.0</td>\n",
       "      <td>1999-11-11</td>\n",
       "    </tr>\n",
       "    <tr>\n",
       "      <th>6901473</th>\n",
       "      <td>1367</td>\n",
       "      <td>510180</td>\n",
       "      <td>5.0</td>\n",
       "      <td>1999-11-11</td>\n",
       "    </tr>\n",
       "    <tr>\n",
       "      <th>49973109</th>\n",
       "      <td>9003</td>\n",
       "      <td>510180</td>\n",
       "      <td>3.0</td>\n",
       "      <td>1999-11-11</td>\n",
       "    </tr>\n",
       "    <tr>\n",
       "      <th>20393918</th>\n",
       "      <td>3870</td>\n",
       "      <td>510180</td>\n",
       "      <td>2.0</td>\n",
       "      <td>1999-11-11</td>\n",
       "    </tr>\n",
       "  </tbody>\n",
       "</table>\n",
       "</div>"
      ],
      "text/plain": [
       "          movie    user  rating       date\n",
       "58698779  10774  510180     3.0 1999-11-11\n",
       "96212476  17064  510180     2.0 1999-11-11\n",
       "6901473    1367  510180     5.0 1999-11-11\n",
       "49973109   9003  510180     3.0 1999-11-11\n",
       "20393918   3870  510180     2.0 1999-11-11"
      ]
     },
     "execution_count": 4,
     "metadata": {},
     "output_type": "execute_result"
    }
   ],
   "source": [
    "df = pd.read_csv('data.csv', sep=',', \n",
    "                       names=['movie', 'user','rating','date'])\n",
    "df.date = pd.to_datetime(df.date)\n",
    "\n",
    "# we are arranging the ratings according to time.\n",
    "df.sort_values(by='date', inplace=True)\n",
    "df.head()"
   ]
  },
  {
   "cell_type": "code",
   "execution_count": 5,
   "metadata": {},
   "outputs": [
    {
     "data": {
      "text/html": [
       "<div>\n",
       "<style scoped>\n",
       "    .dataframe tbody tr th:only-of-type {\n",
       "        vertical-align: middle;\n",
       "    }\n",
       "\n",
       "    .dataframe tbody tr th {\n",
       "        vertical-align: top;\n",
       "    }\n",
       "\n",
       "    .dataframe thead th {\n",
       "        text-align: right;\n",
       "    }\n",
       "</style>\n",
       "<table border=\"1\" class=\"dataframe\">\n",
       "  <thead>\n",
       "    <tr style=\"text-align: right;\">\n",
       "      <th></th>\n",
       "      <th>movie</th>\n",
       "      <th>user</th>\n",
       "      <th>rating</th>\n",
       "      <th>date</th>\n",
       "    </tr>\n",
       "  </thead>\n",
       "  <tbody>\n",
       "    <tr>\n",
       "      <th>58698779</th>\n",
       "      <td>10774</td>\n",
       "      <td>510180</td>\n",
       "      <td>3.0</td>\n",
       "      <td>1999-11-11</td>\n",
       "    </tr>\n",
       "    <tr>\n",
       "      <th>96212476</th>\n",
       "      <td>17064</td>\n",
       "      <td>510180</td>\n",
       "      <td>2.0</td>\n",
       "      <td>1999-11-11</td>\n",
       "    </tr>\n",
       "    <tr>\n",
       "      <th>6901473</th>\n",
       "      <td>1367</td>\n",
       "      <td>510180</td>\n",
       "      <td>5.0</td>\n",
       "      <td>1999-11-11</td>\n",
       "    </tr>\n",
       "    <tr>\n",
       "      <th>49973109</th>\n",
       "      <td>9003</td>\n",
       "      <td>510180</td>\n",
       "      <td>3.0</td>\n",
       "      <td>1999-11-11</td>\n",
       "    </tr>\n",
       "    <tr>\n",
       "      <th>20393918</th>\n",
       "      <td>3870</td>\n",
       "      <td>510180</td>\n",
       "      <td>2.0</td>\n",
       "      <td>1999-11-11</td>\n",
       "    </tr>\n",
       "  </tbody>\n",
       "</table>\n",
       "</div>"
      ],
      "text/plain": [
       "          movie    user  rating       date\n",
       "58698779  10774  510180     3.0 1999-11-11\n",
       "96212476  17064  510180     2.0 1999-11-11\n",
       "6901473    1367  510180     5.0 1999-11-11\n",
       "49973109   9003  510180     3.0 1999-11-11\n",
       "20393918   3870  510180     2.0 1999-11-11"
      ]
     },
     "execution_count": 5,
     "metadata": {},
     "output_type": "execute_result"
    }
   ],
   "source": [
    "df = pd.read_csv('data.csv', sep=',', \n",
    "                       names=['movie', 'user','rating','date'])\n",
    "df.date = pd.to_datetime(df.date)\n",
    "\n",
    "# we are arranging the ratings according to time.\n",
    "df.sort_values(by='date', inplace=True)\n",
    "df.head()"
   ]
  },
  {
   "cell_type": "markdown",
   "metadata": {},
   "source": [
    "### Is there any entry that has Nan values...??"
   ]
  },
  {
   "cell_type": "code",
   "execution_count": 6,
   "metadata": {},
   "outputs": [
    {
     "data": {
      "text/html": [
       "<div>\n",
       "<style scoped>\n",
       "    .dataframe tbody tr th:only-of-type {\n",
       "        vertical-align: middle;\n",
       "    }\n",
       "\n",
       "    .dataframe tbody tr th {\n",
       "        vertical-align: top;\n",
       "    }\n",
       "\n",
       "    .dataframe thead th {\n",
       "        text-align: right;\n",
       "    }\n",
       "</style>\n",
       "<table border=\"1\" class=\"dataframe\">\n",
       "  <thead>\n",
       "    <tr style=\"text-align: right;\">\n",
       "      <th></th>\n",
       "      <th>movie</th>\n",
       "      <th>user</th>\n",
       "      <th>rating</th>\n",
       "      <th>date</th>\n",
       "    </tr>\n",
       "  </thead>\n",
       "  <tbody>\n",
       "    <tr>\n",
       "      <th>95880696</th>\n",
       "      <td>16992</td>\n",
       "      <td>962</td>\n",
       "      <td>NaN</td>\n",
       "      <td>NaT</td>\n",
       "    </tr>\n",
       "    <tr>\n",
       "      <th>95963294</th>\n",
       "      <td>17002</td>\n",
       "      <td>51082</td>\n",
       "      <td>NaN</td>\n",
       "      <td>NaT</td>\n",
       "    </tr>\n",
       "  </tbody>\n",
       "</table>\n",
       "</div>"
      ],
      "text/plain": [
       "          movie   user  rating date\n",
       "95880696  16992    962     NaN  NaT\n",
       "95963294  17002  51082     NaN  NaT"
      ]
     },
     "execution_count": 6,
     "metadata": {},
     "output_type": "execute_result"
    }
   ],
   "source": [
    "# it returns True for a row that has atleast one Nan value.\n",
    "null_bool = df.isnull().any(axis = 1)\n",
    "df[null_bool]"
   ]
  },
  {
   "cell_type": "code",
   "execution_count": 7,
   "metadata": {},
   "outputs": [],
   "source": [
    "df.drop(df[null_bool].index, inplace=True)"
   ]
  },
  {
   "cell_type": "code",
   "execution_count": 8,
   "metadata": {},
   "outputs": [
    {
     "name": "stdout",
     "output_type": "stream",
     "text": [
      "No of Nan values in our dataframe :  0\n"
     ]
    }
   ],
   "source": [
    "print(\"No of Nan values in our dataframe : \", sum(df.isnull().any()))"
   ]
  },
  {
   "cell_type": "markdown",
   "metadata": {},
   "source": [
    "### Let's try to find the duplicates if any..."
   ]
  },
  {
   "cell_type": "code",
   "execution_count": 9,
   "metadata": {},
   "outputs": [
    {
     "name": "stdout",
     "output_type": "stream",
     "text": [
      "There are 1211 duplicate rating entries in the data..\n"
     ]
    }
   ],
   "source": [
    "dup_bool = df.duplicated(['movie','user','rating'])\n",
    "dups = sum(dup_bool) # by considering all columns..( including timestamp )\n",
    "print(\"There are {} duplicate rating entries in the data..\".format(dups))"
   ]
  },
  {
   "cell_type": "code",
   "execution_count": 10,
   "metadata": {},
   "outputs": [
    {
     "data": {
      "text/plain": [
       "16969    762\n",
       "16968    449\n",
       "Name: movie, dtype: int64"
      ]
     },
     "execution_count": 10,
     "metadata": {},
     "output_type": "execute_result"
    }
   ],
   "source": [
    "# let's find what are the movies that has duplicate entries of user ratings....\n",
    "df[dup_bool].movie.value_counts()"
   ]
  },
  {
   "cell_type": "markdown",
   "metadata": {},
   "source": [
    "__Removing those duplicate entries__  (inplace)"
   ]
  },
  {
   "cell_type": "code",
   "execution_count": 11,
   "metadata": {},
   "outputs": [],
   "source": [
    "df.drop(df[dup_bool].index, inplace=True)"
   ]
  },
  {
   "cell_type": "code",
   "execution_count": 12,
   "metadata": {},
   "outputs": [
    {
     "name": "stdout",
     "output_type": "stream",
     "text": [
      "No of duplicate rows (movie, user, rating) entries : 0\n"
     ]
    }
   ],
   "source": [
    "print(\"No of duplicate rows (movie, user, rating) entries :\", sum(df.duplicated()))"
   ]
  },
  {
   "cell_type": "markdown",
   "metadata": {},
   "source": [
    " "
   ]
  },
  {
   "cell_type": "markdown",
   "metadata": {},
   "source": [
    " "
   ]
  },
  {
   "cell_type": "markdown",
   "metadata": {},
   "source": [
    " "
   ]
  },
  {
   "cell_type": "code",
   "execution_count": 13,
   "metadata": {},
   "outputs": [
    {
     "name": "stdout",
     "output_type": "stream",
     "text": [
      "\n",
      "No of ratings that we have, after removing nan rows and duplicates are : 100479045\n"
     ]
    }
   ],
   "source": [
    "print(\"\\nNo of ratings that we have, after removing nan rows and duplicates are :\", df.shape[0])"
   ]
  },
  {
   "cell_type": "markdown",
   "metadata": {},
   "source": [
    " "
   ]
  },
  {
   "cell_type": "markdown",
   "metadata": {},
   "source": [
    " "
   ]
  },
  {
   "cell_type": "markdown",
   "metadata": {},
   "source": [
    " "
   ]
  },
  {
   "cell_type": "markdown",
   "metadata": {},
   "source": [
    " "
   ]
  },
  {
   "cell_type": "markdown",
   "metadata": {},
   "source": [
    " "
   ]
  },
  {
   "cell_type": "markdown",
   "metadata": {},
   "source": [
    "## No. of Ratings, Users and Movies  "
   ]
  },
  {
   "cell_type": "code",
   "execution_count": 14,
   "metadata": {},
   "outputs": [
    {
     "name": "stdout",
     "output_type": "stream",
     "text": [
      "Total data \n",
      "--------------------------------------------------\n",
      "\n",
      "Total no of ratings : 100479045\n",
      "Total No of Users   : 480189\n",
      "Total No of movies  : 17770\n"
     ]
    }
   ],
   "source": [
    "movies = df.movie.value_counts()\n",
    "users = df.user.value_counts()\n",
    "ratings = df.rating\n",
    "print(\"Total data \")\n",
    "print(\"-\"*50)\n",
    "print(\"\\nTotal no of ratings :\",df.shape[0])\n",
    "print(\"Total No of Users   :\", len(users))\n",
    "print(\"Total No of movies  :\", len(movies))"
   ]
  },
  {
   "cell_type": "markdown",
   "metadata": {},
   "source": [
    "## Train data"
   ]
  },
  {
   "cell_type": "code",
   "execution_count": 15,
   "metadata": {},
   "outputs": [],
   "source": [
    "big_train_df = df.iloc[:int(df.shape[0]*0.80)]"
   ]
  },
  {
   "cell_type": "code",
   "execution_count": 16,
   "metadata": {},
   "outputs": [
    {
     "data": {
      "text/plain": [
       "(80383236, 4)"
      ]
     },
     "execution_count": 16,
     "metadata": {},
     "output_type": "execute_result"
    }
   ],
   "source": [
    "big_train_df.shape"
   ]
  },
  {
   "cell_type": "code",
   "execution_count": 17,
   "metadata": {},
   "outputs": [
    {
     "data": {
      "text/html": [
       "<div>\n",
       "<style scoped>\n",
       "    .dataframe tbody tr th:only-of-type {\n",
       "        vertical-align: middle;\n",
       "    }\n",
       "\n",
       "    .dataframe tbody tr th {\n",
       "        vertical-align: top;\n",
       "    }\n",
       "\n",
       "    .dataframe thead th {\n",
       "        text-align: right;\n",
       "    }\n",
       "</style>\n",
       "<table border=\"1\" class=\"dataframe\">\n",
       "  <thead>\n",
       "    <tr style=\"text-align: right;\">\n",
       "      <th></th>\n",
       "      <th>movie</th>\n",
       "      <th>user</th>\n",
       "      <th>rating</th>\n",
       "      <th>date</th>\n",
       "    </tr>\n",
       "  </thead>\n",
       "  <tbody>\n",
       "    <tr>\n",
       "      <th>58698779</th>\n",
       "      <td>10774</td>\n",
       "      <td>510180</td>\n",
       "      <td>3.0</td>\n",
       "      <td>1999-11-11</td>\n",
       "    </tr>\n",
       "    <tr>\n",
       "      <th>96212476</th>\n",
       "      <td>17064</td>\n",
       "      <td>510180</td>\n",
       "      <td>2.0</td>\n",
       "      <td>1999-11-11</td>\n",
       "    </tr>\n",
       "  </tbody>\n",
       "</table>\n",
       "</div>"
      ],
      "text/plain": [
       "          movie    user  rating       date\n",
       "58698779  10774  510180     3.0 1999-11-11\n",
       "96212476  17064  510180     2.0 1999-11-11"
      ]
     },
     "execution_count": 17,
     "metadata": {},
     "output_type": "execute_result"
    }
   ],
   "source": [
    "big_train_df.head(2)"
   ]
  },
  {
   "cell_type": "code",
   "execution_count": 18,
   "metadata": {},
   "outputs": [
    {
     "name": "stdout",
     "output_type": "stream",
     "text": [
      "Training data \n",
      "--------------------------------------------------\n",
      "\n",
      "Total no of ratings : 80383236\n",
      "Total No of Users   : 405024\n",
      "Total No of movies  : 17423\n"
     ]
    }
   ],
   "source": [
    "movies = big_train_df.movie.value_counts()\n",
    "users = big_train_df.user.value_counts()\n",
    "print(\"Training data \")\n",
    "print(\"-\"*50)\n",
    "print(\"\\nTotal no of ratings :\",big_train_df.shape[0])\n",
    "print(\"Total No of Users   :\", len(users))\n",
    "print(\"Total No of movies  :\", len(movies))"
   ]
  },
  {
   "cell_type": "markdown",
   "metadata": {},
   "source": [
    "# Creating sparse matrix for Train data"
   ]
  },
  {
   "cell_type": "code",
   "execution_count": 4,
   "metadata": {},
   "outputs": [
    {
     "name": "stdout",
     "output_type": "stream",
     "text": [
      "It is present in your pwd, getting it from disk....\n",
      "DONE..\n",
      "0:00:03.176980\n"
     ]
    }
   ],
   "source": [
    "import os\n",
    "from scipy import sparse\n",
    "start = datetime.now()\n",
    "if os.path.isfile('sample/train_sparse_matrix.npz'):\n",
    "    print(\"It is present in your pwd, getting it from disk....\")\n",
    "    # just get it from the disk instead of computing it\n",
    "    train_sparse_matrix = sparse.load_npz('sample/train_sparse_matrix.npz')\n",
    "    print(\"DONE..\")\n",
    "else: \n",
    "    print(\"We are creating sparse_matrix from the dataframe..\")\n",
    "    # create sparse_matrix and store it for after usage.\n",
    "    # csr_matrix(data_values, (row_index, col_index), shape_of_matrix)\n",
    "    # It should be in such a way that, MATRIX[row, col] = data\n",
    "    train_sparse_matrix = sparse.csr_matrix((big_train_df.rating.values, (big_train_df.user.values,\n",
    "                                               big_train_df.movie.values)))\n",
    "    \n",
    "    print('Done. It\\'s shape is : (user, movie) : ',train_sparse_matrix.shape)\n",
    "    print('Saving it into disk for furthur usage..')\n",
    "    # save it into disk\n",
    "    sparse.save_npz(\"sample/train_sparse_matrix.npz\", train_sparse_matrix)\n",
    "    print('Done..\\n')\n",
    " \n",
    "print(datetime.now() - start)"
   ]
  },
  {
   "cell_type": "markdown",
   "metadata": {},
   "source": [
    "### Sparsity"
   ]
  },
  {
   "cell_type": "code",
   "execution_count": 5,
   "metadata": {},
   "outputs": [],
   "source": [
    "us,mv = train_sparse_matrix.shape\n",
    "elem = train_sparse_matrix.count_nonzero()"
   ]
  },
  {
   "cell_type": "code",
   "execution_count": 6,
   "metadata": {},
   "outputs": [
    {
     "name": "stdout",
     "output_type": "stream",
     "text": [
      "Sparsity Of matrix : 99.82927583214679 % \n"
     ]
    }
   ],
   "source": [
    "print(\"Sparsity Of matrix : {} % \".format(  (1-(elem/(us*mv))) * 100) )"
   ]
  },
  {
   "cell_type": "markdown",
   "metadata": {},
   "source": [
    "## Test"
   ]
  },
  {
   "cell_type": "code",
   "execution_count": 25,
   "metadata": {},
   "outputs": [
    {
     "data": {
      "text/plain": [
       "(20095809, 4)"
      ]
     },
     "execution_count": 25,
     "metadata": {},
     "output_type": "execute_result"
    }
   ],
   "source": [
    "big_test_df = df.iloc[int(df.shape[0]*0.80) : ]\n",
    "big_test_df.shape"
   ]
  },
  {
   "cell_type": "code",
   "execution_count": 26,
   "metadata": {},
   "outputs": [
    {
     "data": {
      "text/html": [
       "<div>\n",
       "<style scoped>\n",
       "    .dataframe tbody tr th:only-of-type {\n",
       "        vertical-align: middle;\n",
       "    }\n",
       "\n",
       "    .dataframe tbody tr th {\n",
       "        vertical-align: top;\n",
       "    }\n",
       "\n",
       "    .dataframe thead th {\n",
       "        text-align: right;\n",
       "    }\n",
       "</style>\n",
       "<table border=\"1\" class=\"dataframe\">\n",
       "  <thead>\n",
       "    <tr style=\"text-align: right;\">\n",
       "      <th></th>\n",
       "      <th>movie</th>\n",
       "      <th>user</th>\n",
       "      <th>rating</th>\n",
       "      <th>date</th>\n",
       "    </tr>\n",
       "  </thead>\n",
       "  <tbody>\n",
       "    <tr>\n",
       "      <th>52863848</th>\n",
       "      <td>9617</td>\n",
       "      <td>316390</td>\n",
       "      <td>2.0</td>\n",
       "      <td>2005-08-08</td>\n",
       "    </tr>\n",
       "    <tr>\n",
       "      <th>12989568</th>\n",
       "      <td>2462</td>\n",
       "      <td>605375</td>\n",
       "      <td>4.0</td>\n",
       "      <td>2005-08-08</td>\n",
       "    </tr>\n",
       "  </tbody>\n",
       "</table>\n",
       "</div>"
      ],
      "text/plain": [
       "          movie    user  rating       date\n",
       "52863848   9617  316390     2.0 2005-08-08\n",
       "12989568   2462  605375     4.0 2005-08-08"
      ]
     },
     "execution_count": 26,
     "metadata": {},
     "output_type": "execute_result"
    }
   ],
   "source": [
    "big_test_df.head(2)"
   ]
  },
  {
   "cell_type": "code",
   "execution_count": 27,
   "metadata": {},
   "outputs": [
    {
     "name": "stdout",
     "output_type": "stream",
     "text": [
      "Test data \n",
      "--------------------------------------------------\n",
      "\n",
      "Total no of ratings : 20095809\n",
      "Total No of Users   : 349327\n",
      "Total No of movies  : 17757\n"
     ]
    }
   ],
   "source": [
    "movies = big_test_df.movie.value_counts()\n",
    "users = big_test_df.user.value_counts()\n",
    "\n",
    "print(\"Test data \")\n",
    "print(\"-\"*50)\n",
    "print(\"\\nTotal no of ratings :\",big_test_df.shape[0])\n",
    "print(\"Total No of Users   :\", len(users))\n",
    "print(\"Total No of movies  :\", len(movies))"
   ]
  },
  {
   "cell_type": "markdown",
   "metadata": {},
   "source": [
    "#  Creating sparse matrix for Test data"
   ]
  },
  {
   "cell_type": "code",
   "execution_count": 7,
   "metadata": {},
   "outputs": [
    {
     "name": "stdout",
     "output_type": "stream",
     "text": [
      "It is present in your pwd, getting it from disk....\n",
      "DONE..\n",
      "0:00:00.878847\n"
     ]
    }
   ],
   "source": [
    "import os\n",
    "from scipy import sparse\n",
    "start = datetime.now()\n",
    "if os.path.isfile('sample/test_sparse_matrix.npz'):\n",
    "    print(\"It is present in your pwd, getting it from disk....\")\n",
    "    # just get it from the disk instead of computing it\n",
    "    test_sparse_matrix = sparse.load_npz('sample/test_sparse_matrix.npz')\n",
    "    print(\"DONE..\")\n",
    "else: \n",
    "    print(\"We are creating sparse_matrix from the dataframe..\")\n",
    "    # create sparse_matrix and store it for after usage.\n",
    "    # csr_matrix(data_values, (row_index, col_index), shape_of_matrix)\n",
    "    # It should be in such a way that, MATRIX[row, col] = data\n",
    "    test_sparse_matrix = sparse.csr_matrix((big_test_df.rating.values, (big_test_df.user.values,\n",
    "                                               big_test_df.movie.values)))\n",
    "    \n",
    "    print('Done. It\\'s shape is : (user, movie) : ',test_sparse_matrix.shape)\n",
    "    print('Saving it into disk for furthur usage..')\n",
    "    # save it into disk\n",
    "    sparse.save_npz(\"sample/test_sparse_matrix.npz\", test_sparse_matrix)\n",
    "    print('Done..\\n')\n",
    " \n",
    "print(datetime.now() - start)"
   ]
  },
  {
   "cell_type": "markdown",
   "metadata": {},
   "source": [
    "### Sparsity"
   ]
  },
  {
   "cell_type": "code",
   "execution_count": 8,
   "metadata": {},
   "outputs": [],
   "source": [
    "uss,mvv = test_sparse_matrix.shape\n",
    "elem = test_sparse_matrix.count_nonzero()"
   ]
  },
  {
   "cell_type": "code",
   "execution_count": 9,
   "metadata": {
    "scrolled": true
   },
   "outputs": [
    {
     "name": "stdout",
     "output_type": "stream",
     "text": [
      "Sparsity Of matrix : 99.95731855608713 % \n"
     ]
    }
   ],
   "source": [
    "print(\"Sparsity Of matrix : {} % \".format(  (1-(elem/(uss*mvv))) * 100) )"
   ]
  },
  {
   "cell_type": "markdown",
   "metadata": {},
   "source": [
    " "
   ]
  },
  {
   "cell_type": "markdown",
   "metadata": {},
   "source": [
    " "
   ]
  },
  {
   "cell_type": "markdown",
   "metadata": {},
   "source": [
    "# Sampling Train and Test data "
   ]
  },
  {
   "cell_type": "code",
   "execution_count": 10,
   "metadata": {},
   "outputs": [],
   "source": [
    "import os\n",
    "import random"
   ]
  },
  {
   "cell_type": "markdown",
   "metadata": {},
   "source": [
    "## Train"
   ]
  },
  {
   "cell_type": "code",
   "execution_count": 11,
   "metadata": {
    "scrolled": true
   },
   "outputs": [
    {
     "name": "stdout",
     "output_type": "stream",
     "text": [
      "It is present in your pwd, getting it from disk....\n",
      "DONE..\n",
      "0:00:00.026033\n"
     ]
    }
   ],
   "source": [
    "import os\n",
    "from scipy import sparse\n",
    "\n",
    "start = datetime.now()\n",
    "if os.path.isfile('sample/sample_train_sparse_matrix.npz'):\n",
    "    print(\"It is present in your pwd, getting it from disk....\")\n",
    "    # just get it from the disk instead of computing it\n",
    "    sample_train_sparse_matrix = sparse.load_npz('sample/sample_train_sparse_matrix.npz')\n",
    "    print(\"DONE..\")\n",
    "else: \n",
    "    row_ind, col_ind = train_sparse_matrix.nonzero()\n",
    "    row_ind = np.unique(row_ind)\n",
    "    col_ind = np.unique(col_ind)\n",
    "\n",
    "    print(\"(users, movies) : ({} {})\".format(len(row_ind), len(col_ind)))\n",
    "\n",
    "    np.random.seed(15)\n",
    "    sample_movies = np.random.choice(col_ind, 1000, replace=False)\n",
    "    sample_users = np.random.choice(row_ind, 10000, replace=False)\n",
    "\n",
    "    sample_train_sparse_matrix = train_sparse_matrix[sample_users, :][:,sample_movies]\n",
    "    print('Done. It\\'s shape is : (user, movie) : ',sample_train_sparse_matrix.shape)\n",
    "    print('Saving it into disk for furthur usage..')\n",
    "    # save it into disk\n",
    "    sparse.save_npz(\"sample/sample_train_sparse_matrix.npz\", sample_train_sparse_matrix)\n",
    "    print('Done..\\n')\n",
    "\n",
    "\n",
    "print(datetime.now() - start)"
   ]
  },
  {
   "cell_type": "markdown",
   "metadata": {},
   "source": [
    "## Test"
   ]
  },
  {
   "cell_type": "code",
   "execution_count": 12,
   "metadata": {
    "scrolled": true
   },
   "outputs": [
    {
     "name": "stdout",
     "output_type": "stream",
     "text": [
      "It is present in your pwd, getting it from disk....\n",
      "DONE..\n",
      "0:00:00.015002\n"
     ]
    }
   ],
   "source": [
    "import os\n",
    "from scipy import sparse\n",
    "\n",
    "start = datetime.now()\n",
    "if os.path.isfile('sample/sample_test_sparse_matrix.npz'):\n",
    "    print(\"It is present in your pwd, getting it from disk....\")\n",
    "    # just get it from the disk instead of computing it\n",
    "    sample_test_sparse_matrix = sparse.load_npz('sample/sample_test_sparse_matrix.npz')\n",
    "    print(\"DONE..\")\n",
    "else: \n",
    "    row_ind, col_ind = test_sparse_matrix.nonzero()\n",
    "    row_ind = np.unique(row_ind)\n",
    "    col_ind = np.unique(col_ind)\n",
    "\n",
    "    print(\"(users, movies) : ({} {})\".format(len(row_ind), len(col_ind)))\n",
    "\n",
    "    np.random.seed(15)\n",
    "    sample_movies = np.random.choice(col_ind, 500, replace=False)\n",
    "    sample_users = np.random.choice(row_ind, 5000, replace=False)\n",
    "\n",
    "    sample_test_sparse_matrix = test_sparse_matrix[sample_users, :][:,sample_movies]\n",
    "    print('Done. It\\'s shape is : (user, movie) : ',sample_test_sparse_matrix.shape)\n",
    "    print('Saving it into disk for furthur usage..')\n",
    "    # save it into disk\n",
    "    sparse.save_npz(\"sample/sample_test_sparse_matrix.npz\", sample_test_sparse_matrix)\n",
    "    print('Done..\\n')\n",
    "\n",
    "\n",
    "print(datetime.now() - start)"
   ]
  },
  {
   "cell_type": "markdown",
   "metadata": {},
   "source": [
    " "
   ]
  },
  {
   "cell_type": "markdown",
   "metadata": {},
   "source": [
    " "
   ]
  },
  {
   "cell_type": "markdown",
   "metadata": {},
   "source": [
    " "
   ]
  },
  {
   "cell_type": "markdown",
   "metadata": {},
   "source": [
    "# Computing Average Ratings (from Train data)"
   ]
  },
  {
   "cell_type": "code",
   "execution_count": 13,
   "metadata": {},
   "outputs": [],
   "source": [
    "averages = dict()"
   ]
  },
  {
   "cell_type": "code",
   "execution_count": 14,
   "metadata": {},
   "outputs": [],
   "source": [
    "# Boolean matrix of ratings ( whether a user rated that movie or not)\n",
    "is_rated = sample_train_sparse_matrix!=0"
   ]
  },
  {
   "cell_type": "code",
   "execution_count": 15,
   "metadata": {},
   "outputs": [
    {
     "data": {
      "text/plain": [
       "{'global': 3.6244573311785024}"
      ]
     },
     "execution_count": 15,
     "metadata": {},
     "output_type": "execute_result"
    }
   ],
   "source": [
    "# get the global average of ratings in our train set.\n",
    "global_average = sample_train_sparse_matrix.sum()/sample_train_sparse_matrix.count_nonzero()\n",
    "averages['global'] = global_average\n",
    "averages"
   ]
  },
  {
   "cell_type": "markdown",
   "metadata": {},
   "source": [
    "### User averages"
   ]
  },
  {
   "cell_type": "code",
   "execution_count": 16,
   "metadata": {},
   "outputs": [
    {
     "data": {
      "text/plain": [
       "4.5"
      ]
     },
     "execution_count": 16,
     "metadata": {},
     "output_type": "execute_result"
    }
   ],
   "source": [
    "# get the user averages in dictionary (key: userid, value: avg rating)\n",
    "#_____________________________________________________________________#\n",
    "\n",
    "# \".A1\" is for converting Column_Matrix to 1-D numpy array \n",
    "sum_of_ratings_per_user = sample_train_sparse_matrix.sum(axis=1).A1\n",
    "# no of ratings that each user has given.\n",
    "no_of_ratings_per_user = is_rated.sum(axis=1).A1\n",
    "\n",
    "# creae a dictonary of users and their average ratigns..\n",
    "average_user_ratings = { i : sum_of_ratings_per_user[i]/no_of_ratings_per_user[i]  \n",
    "                                 for i in range(sample_train_sparse_matrix.shape[0]) \n",
    "                                    if no_of_ratings_per_user[i] !=0}\n",
    "\n",
    "# add user averages to th eaverages dictionary\n",
    "averages['user'] = average_user_ratings\n",
    "\n",
    "# test it..\n",
    "averages['user'][97]"
   ]
  },
  {
   "cell_type": "markdown",
   "metadata": {},
   "source": [
    "### Movie Averages"
   ]
  },
  {
   "cell_type": "code",
   "execution_count": 17,
   "metadata": {},
   "outputs": [
    {
     "data": {
      "text/plain": [
       "3.742857142857143"
      ]
     },
     "execution_count": 17,
     "metadata": {},
     "output_type": "execute_result"
    }
   ],
   "source": [
    "# get the Movie Average ratings in dictionary (key: movieId, value: avg_rating)\n",
    "#_____________________________________________________________________#\n",
    "\n",
    "# sum of the ratings that a movie got by any user(who rated that movie..)\n",
    "sum_of_ratings_per_movie = sample_train_sparse_matrix.sum(axis=0).A1\n",
    "# no of ratings that a movie got.\n",
    "no_of_ratings_per_movie = is_rated.sum(axis=0).A1\n",
    "\n",
    "average_movie_ratings = {i : sum_of_ratings_per_movie[i]/ no_of_ratings_per_movie[i] \n",
    "                                for i in range(sample_train_sparse_matrix.shape[1])\n",
    "                                    if no_of_ratings_per_movie[i]!=0 }\n",
    "\n",
    "# add thie'per_movie' avg ratings to averages dictionary\n",
    "averages['movie'] = average_movie_ratings\n",
    "\n",
    "# test this dictionary\n",
    "averages['movie'][30]"
   ]
  },
  {
   "cell_type": "markdown",
   "metadata": {},
   "source": [
    " "
   ]
  },
  {
   "cell_type": "markdown",
   "metadata": {},
   "source": [
    " "
   ]
  },
  {
   "cell_type": "markdown",
   "metadata": {},
   "source": [
    "# Computing  Similarities (top 5 along with its ratings)"
   ]
  },
  {
   "cell_type": "code",
   "execution_count": 18,
   "metadata": {},
   "outputs": [],
   "source": [
    "from sklearn.metrics.pairwise import cosine_similarity"
   ]
  },
  {
   "cell_type": "code",
   "execution_count": 19,
   "metadata": {},
   "outputs": [
    {
     "data": {
      "text/plain": [
       "126228"
      ]
     },
     "execution_count": 19,
     "metadata": {},
     "output_type": "execute_result"
    }
   ],
   "source": [
    "sample_train_sparse_matrix.count_nonzero()"
   ]
  },
  {
   "cell_type": "code",
   "execution_count": 20,
   "metadata": {},
   "outputs": [],
   "source": [
    "sample_train_users, sample_train_movies, sample_train_ratings = sparse.find(sample_train_sparse_matrix)"
   ]
  },
  {
   "cell_type": "code",
   "execution_count": 21,
   "metadata": {},
   "outputs": [
    {
     "data": {
      "text/plain": [
       "(126228, 126228, 126228)"
      ]
     },
     "execution_count": 21,
     "metadata": {},
     "output_type": "execute_result"
    }
   ],
   "source": [
    "len((sample_train_users)), len(sample_train_movies), len(sample_train_ratings)"
   ]
  },
  {
   "cell_type": "code",
   "execution_count": 22,
   "metadata": {},
   "outputs": [
    {
     "data": {
      "text/plain": [
       "(10000, 1000)"
      ]
     },
     "execution_count": 22,
     "metadata": {},
     "output_type": "execute_result"
    }
   ],
   "source": [
    "sample_train_sparse_matrix.shape"
   ]
  },
  {
   "cell_type": "markdown",
   "metadata": {},
   "source": [
    "## Preparing Train data "
   ]
  },
  {
   "cell_type": "code",
   "execution_count": 25,
   "metadata": {
    "scrolled": true
   },
   "outputs": [
    {
     "name": "stdout",
     "output_type": "stream",
     "text": [
      "preparing 126228 tuples for the dataset..\n",
      "\n",
      "Done for 20000 rows----- 0:03:39.840224\n",
      "Done for 40000 rows----- 0:07:16.607182\n",
      "Done for 60000 rows----- 0:10:55.431298\n",
      "Done for 80000 rows----- 0:14:33.573389\n",
      "Done for 100000 rows----- 0:18:09.811165\n",
      "Done for 120000 rows----- 0:21:43.599572\n",
      "0:22:49.433886\n"
     ]
    }
   ],
   "source": [
    "start = datetime.now()\n",
    "print('preparing {} tuples for the dataset..\\n'.format(len(sample_train_ratings)))\n",
    "with open('sample/reg_train.csv', mode='a') as reg_data_file:\n",
    "    count = 0\n",
    "    for (user, movie, rating)  in zip(sample_train_users, sample_train_movies, sample_train_ratings):\n",
    "        st = datetime.now()\n",
    "    #     print(user, movie)    \n",
    "        #--------------------- Ratings of \"movie\" by similar users of \"user\" ---------------------\n",
    "        # compute the similar Users of the \"user\"        \n",
    "        user_sim = cosine_similarity(sample_train_sparse_matrix[user], sample_train_sparse_matrix).ravel()\n",
    "        top_sim_users = user_sim.argsort()[::-1][1:] # we are ignoring 'The User' from its similar users.\n",
    "        # get the ratings of most similar users for this movie\n",
    "        top_ratings = sample_train_sparse_matrix[top_sim_users, movie].toarray().ravel()\n",
    "        # we will make it's length \"5\" by adding movie averages to .\n",
    "        top_sim_users_ratings = list(top_ratings[top_ratings != 0][:5])\n",
    "        top_sim_users_ratings.extend([averages['movie'][movie]]*(5 - len(top_sim_users_ratings)))\n",
    "    #     print(top_sim_users_ratings, end=\" \")    \n",
    "\n",
    "\n",
    "        #--------------------- Ratings by \"user\"  to similar movies of \"movie\" ---------------------\n",
    "        # compute the similar movies of the \"movie\"        \n",
    "        movie_sim = cosine_similarity(sample_train_sparse_matrix[:,movie].T, sample_train_sparse_matrix.T).ravel()\n",
    "        top_sim_movies = movie_sim.argsort()[::-1][1:] # we are ignoring 'The User' from its similar users.\n",
    "        # get the ratings of most similar movie rated by this user..\n",
    "        top_ratings = sample_train_sparse_matrix[user, top_sim_movies].toarray().ravel()\n",
    "        # we will make it's length \"5\" by adding user averages to.\n",
    "        top_sim_movies_ratings = list(top_ratings[top_ratings != 0][:5])\n",
    "        top_sim_movies_ratings.extend([averages['user'][user]]*(5-len(top_sim_movies_ratings))) \n",
    "    #     print(top_sim_movies_ratings, end=\" : -- \")\n",
    "\n",
    "        #-----------------prepare the row to be stores in a file-----------------#\n",
    "        row = list()\n",
    "        row.append(user)\n",
    "        row.append(movie)\n",
    "        # Now add the other features to this data...\n",
    "        row.append(averages['global']) # first feature\n",
    "        # next 5 features are similar_users \"movie\" ratings\n",
    "        row.extend(top_sim_users_ratings)\n",
    "        # next 5 features are \"user\" ratings for similar_movies\n",
    "        row.extend(top_sim_movies_ratings)\n",
    "        # Avg_user rating\n",
    "        row.append(averages['user'][user])\n",
    "        # Avg_movie rating\n",
    "        row.append(averages['movie'][movie])\n",
    "        \n",
    "        # finalley, The actual Rating of this user-movie pair...\n",
    "        row.append(rating)\n",
    "        count = count + 1\n",
    "    \n",
    "        # add rows to the file opened..\n",
    "        reg_data_file.write(','.join(map(str, row)))\n",
    "        reg_data_file.write('\\n')        \n",
    "        if (count)%20000 == 0:\n",
    "            # print(','.join(map(str, row)))\n",
    "            print(\"Done for {} rows----- {}\".format(count, datetime.now() - start))\n",
    "\n",
    "    \n",
    "print(datetime.now() - start)"
   ]
  },
  {
   "cell_type": "code",
   "execution_count": 26,
   "metadata": {
    "scrolled": true
   },
   "outputs": [
    {
     "data": {
      "text/plain": [
       "126228"
      ]
     },
     "execution_count": 26,
     "metadata": {},
     "output_type": "execute_result"
    }
   ],
   "source": [
    "sample_train_sparse_matrix.count_nonzero()"
   ]
  },
  {
   "cell_type": "markdown",
   "metadata": {},
   "source": [
    "## Preparing Test data"
   ]
  },
  {
   "cell_type": "code",
   "execution_count": 27,
   "metadata": {},
   "outputs": [
    {
     "data": {
      "text/plain": [
       "20095713"
      ]
     },
     "execution_count": 27,
     "metadata": {},
     "output_type": "execute_result"
    }
   ],
   "source": [
    "test_sparse_matrix.count_nonzero()"
   ]
  },
  {
   "cell_type": "code",
   "execution_count": 28,
   "metadata": {},
   "outputs": [
    {
     "data": {
      "text/plain": [
       "8208"
      ]
     },
     "execution_count": 28,
     "metadata": {},
     "output_type": "execute_result"
    }
   ],
   "source": [
    "sample_test_sparse_matrix.count_nonzero()"
   ]
  },
  {
   "cell_type": "code",
   "execution_count": 29,
   "metadata": {},
   "outputs": [],
   "source": [
    "sample_test_users, sample_test_movies, sample_test_ratings = sparse.find(sample_test_sparse_matrix)"
   ]
  },
  {
   "cell_type": "code",
   "execution_count": 30,
   "metadata": {},
   "outputs": [
    {
     "data": {
      "text/plain": [
       "2449"
      ]
     },
     "execution_count": 30,
     "metadata": {},
     "output_type": "execute_result"
    }
   ],
   "source": [
    "len(np.unique(sample_test_users))"
   ]
  },
  {
   "cell_type": "code",
   "execution_count": 31,
   "metadata": {},
   "outputs": [
    {
     "data": {
      "text/plain": [
       "(8208, 8208, 8208)"
      ]
     },
     "execution_count": 31,
     "metadata": {},
     "output_type": "execute_result"
    }
   ],
   "source": [
    "len(sample_test_users), len(sample_test_movies), len(sample_test_ratings)"
   ]
  },
  {
   "cell_type": "code",
   "execution_count": 32,
   "metadata": {},
   "outputs": [
    {
     "data": {
      "text/plain": [
       "<5000x500 sparse matrix of type '<class 'numpy.float64'>'\n",
       "\twith 8208 stored elements in Compressed Sparse Row format>"
      ]
     },
     "execution_count": 32,
     "metadata": {},
     "output_type": "execute_result"
    }
   ],
   "source": [
    "sample_test_sparse_matrix"
   ]
  },
  {
   "cell_type": "code",
   "execution_count": 36,
   "metadata": {
    "scrolled": false
   },
   "outputs": [
    {
     "name": "stdout",
     "output_type": "stream",
     "text": [
      "preparing 8208 tuples for the dataset..\n",
      "\n",
      "Done for 1000 rows----- 0:00:02.598097\n",
      "Done for 2000 rows----- 0:00:05.128580\n",
      "Done for 3000 rows----- 0:00:07.767561\n",
      "Done for 4000 rows----- 0:00:10.327983\n",
      "Done for 5000 rows----- 0:00:12.891760\n",
      "Done for 6000 rows----- 0:00:15.433792\n",
      "Done for 7000 rows----- 0:00:17.963353\n",
      "Done for 8000 rows----- 0:00:20.453164\n",
      " 0:00:20.977416\n",
      "\n",
      "No. of cold start problems handled : 1598\n"
     ]
    }
   ],
   "source": [
    "start = datetime.now()\n",
    "cold_start_count = 0\n",
    "print('preparing {} tuples for the dataset..\\n'.format(len(sample_test_ratings)))\n",
    "with open('sample/reg_test.csv', mode='a') as reg_data_file:\n",
    "    count = 0 \n",
    "    for (user, movie, rating)  in zip(sample_test_users, sample_test_movies, sample_test_ratings):\n",
    "        st = datetime.now()\n",
    "\n",
    "    #--------------------- Ratings of \"movie\" by similar users of \"user\" ---------------------\n",
    "        #print(user, movie)\n",
    "        try:\n",
    "            # compute the similar Users of the \"user\"        \n",
    "            user_sim = cosine_similarity(sample_test_sparse_matrix[user], sample_test_sparse_matrix).ravel()\n",
    "            top_sim_users = user_sim.argsort()[::-1][1:] # we are ignoring 'The User' from its similar users.\n",
    "            # get the ratings of most similar users for this movie\n",
    "            top_ratings = sample_test_sparse_matrix[top_sim_users, movie].toarray().ravel()\n",
    "            # we will make it's length \"5\" by adding movie averages to .\n",
    "            top_sim_users_ratings = list(top_ratings[top_ratings != 0][:5])\n",
    "            top_sim_users_ratings.extend([averages['movie'][movie]]*(5 - len(top_sim_users_ratings)))\n",
    "            #print(top_sim_users_ratings, end=\"--\")\n",
    "                \n",
    "        except KeyError:\n",
    "            # It is a new User or new Movie or there are no ratings for given user for top similar movies...\n",
    "            ########## Cold STart Problem ##########\n",
    "            cold_start_count = cold_start_count + 1\n",
    "            top_sim_users_ratings.extend([averages['global']]*(5 - len(top_sim_users_ratings)))\n",
    "            #print(top_sim_users_ratings)\n",
    "        except:\n",
    "            # we just want KeyErrors to be resolved. Not every Exception...\n",
    "            raise\n",
    "\n",
    "    \n",
    "    \n",
    "        #--------------------- Ratings by \"user\"  to similar movies of \"movie\" ---------------------\n",
    "        try:\n",
    "            # compute the similar movies of the \"movie\"        \n",
    "            movie_sim = cosine_similarity(sample_test_sparse_matrix[:,movie].T, sample_test_sparse_matrix.T).ravel()\n",
    "            top_sim_movies = movie_sim.argsort()[::-1][1:] # we are ignoring 'The User' from its similar users.\n",
    "            # get the ratings of most similar movie rated by this user..\n",
    "            top_ratings = sample_test_sparse_matrix[user, top_sim_movies].toarray().ravel()\n",
    "            # we will make it's length \"5\" by adding user averages to.\n",
    "            top_sim_movies_ratings = list(top_ratings[top_ratings != 0][:5])\n",
    "            top_sim_movies_ratings.extend([averages['user'][user]]*(5-len(top_sim_movies_ratings))) \n",
    "            #print(top_sim_movies_ratings)\n",
    "        except KeyError:\n",
    "            cold_start_count = cold_start_count + 1\n",
    "            #print(top_sim_movies_ratings, end=\" : -- \")\n",
    "            top_sim_movies_ratings.extend([averages['global']]*(5-len(top_sim_movies_ratings)))\n",
    "            #print(top_sim_movies_ratings)\n",
    "        except :\n",
    "            raise\n",
    "\n",
    "        #-----------------prepare the row to be stores in a file-----------------#\n",
    "        row = list()\n",
    "        # add usser and movie name first\n",
    "        row.append(user)\n",
    "        row.append(movie)\n",
    "        row.append(averages['global']) # first feature\n",
    "        #print(row)\n",
    "        # next 5 features are similar_users \"movie\" ratings\n",
    "        row.extend(top_sim_users_ratings)\n",
    "        #print(row)\n",
    "        # next 5 features are \"user\" ratings for similar_movies\n",
    "        row.extend(top_sim_movies_ratings)\n",
    "        #print(row)\n",
    "        # Avg_user rating\n",
    "        try:\n",
    "            row.append(averages['user'][user])\n",
    "        except KeyError:\n",
    "            row.append(averages['global'])\n",
    "        except:\n",
    "            raise\n",
    "        #print(row)\n",
    "        # Avg_movie rating\n",
    "        try:\n",
    "            row.append(averages['movie'][movie])\n",
    "        except KeyError:\n",
    "            row.append(averages['global'])\n",
    "        except:\n",
    "            raise\n",
    "        #print(row)\n",
    "        # finalley, The actual Rating of this user-movie pair...\n",
    "        row.append(rating)\n",
    "        #print(row)\n",
    "        count = count + 1\n",
    "    \n",
    "        # add rows to the file opened..\n",
    "        reg_data_file.write(','.join(map(str, row)))\n",
    "        #print(','.join(map(str, row)))\n",
    "        reg_data_file.write('\\n')        \n",
    "        if (count)%1000 == 0:\n",
    "            #print(','.join(map(str, row)))\n",
    "            print(\"Done for {} rows----- {}\".format(count, datetime.now() - start))\n",
    "print(\"\",datetime.now() - start)\n",
    "print(\"\\nNo. of cold start problems handled :\", cold_start_count)"
   ]
  },
  {
   "cell_type": "markdown",
   "metadata": {},
   "source": [
    "#### Percentage if Cold Start Cases handled"
   ]
  },
  {
   "cell_type": "code",
   "execution_count": 37,
   "metadata": {},
   "outputs": [
    {
     "name": "stdout",
     "output_type": "stream",
     "text": [
      "Cold Start Cases : 19.46881091617934%\n"
     ]
    }
   ],
   "source": [
    "print(\"Cold Start Cases : {}%\".format((cold_start_count/len(sample_test_ratings)) * 100 ))"
   ]
  },
  {
   "cell_type": "markdown",
   "metadata": {},
   "source": [
    " \n",
    " "
   ]
  },
  {
   "cell_type": "markdown",
   "metadata": {},
   "source": [
    " ### Reading from the file to make a Train_dataframe"
   ]
  },
  {
   "cell_type": "code",
   "execution_count": 39,
   "metadata": {},
   "outputs": [
    {
     "data": {
      "text/html": [
       "<div>\n",
       "<style scoped>\n",
       "    .dataframe tbody tr th:only-of-type {\n",
       "        vertical-align: middle;\n",
       "    }\n",
       "\n",
       "    .dataframe tbody tr th {\n",
       "        vertical-align: top;\n",
       "    }\n",
       "\n",
       "    .dataframe thead th {\n",
       "        text-align: right;\n",
       "    }\n",
       "</style>\n",
       "<table border=\"1\" class=\"dataframe\">\n",
       "  <thead>\n",
       "    <tr style=\"text-align: right;\">\n",
       "      <th></th>\n",
       "      <th>user</th>\n",
       "      <th>movie</th>\n",
       "      <th>GAvg</th>\n",
       "      <th>sur1</th>\n",
       "      <th>sur2</th>\n",
       "      <th>sur3</th>\n",
       "      <th>sur4</th>\n",
       "      <th>sur5</th>\n",
       "      <th>smr1</th>\n",
       "      <th>smr2</th>\n",
       "      <th>smr3</th>\n",
       "      <th>smr4</th>\n",
       "      <th>smr5</th>\n",
       "      <th>UAvg</th>\n",
       "      <th>MAvg</th>\n",
       "      <th>rating</th>\n",
       "    </tr>\n",
       "  </thead>\n",
       "  <tbody>\n",
       "    <tr>\n",
       "      <th>0</th>\n",
       "      <td>1590</td>\n",
       "      <td>0</td>\n",
       "      <td>3.624457</td>\n",
       "      <td>1.0</td>\n",
       "      <td>2.0</td>\n",
       "      <td>2.0</td>\n",
       "      <td>2.0</td>\n",
       "      <td>2.0</td>\n",
       "      <td>3.0</td>\n",
       "      <td>4.0</td>\n",
       "      <td>4.0</td>\n",
       "      <td>2.0</td>\n",
       "      <td>3.0</td>\n",
       "      <td>3.895522</td>\n",
       "      <td>2.00</td>\n",
       "      <td>3.0</td>\n",
       "    </tr>\n",
       "    <tr>\n",
       "      <th>1</th>\n",
       "      <td>1907</td>\n",
       "      <td>0</td>\n",
       "      <td>3.624457</td>\n",
       "      <td>3.0</td>\n",
       "      <td>2.0</td>\n",
       "      <td>2.0</td>\n",
       "      <td>2.0</td>\n",
       "      <td>2.0</td>\n",
       "      <td>1.0</td>\n",
       "      <td>4.0</td>\n",
       "      <td>4.0</td>\n",
       "      <td>5.0</td>\n",
       "      <td>4.0</td>\n",
       "      <td>3.238636</td>\n",
       "      <td>2.00</td>\n",
       "      <td>1.0</td>\n",
       "    </tr>\n",
       "    <tr>\n",
       "      <th>2</th>\n",
       "      <td>231</td>\n",
       "      <td>1</td>\n",
       "      <td>3.624457</td>\n",
       "      <td>3.0</td>\n",
       "      <td>3.0</td>\n",
       "      <td>4.0</td>\n",
       "      <td>4.0</td>\n",
       "      <td>4.0</td>\n",
       "      <td>2.0</td>\n",
       "      <td>5.0</td>\n",
       "      <td>5.0</td>\n",
       "      <td>5.0</td>\n",
       "      <td>4.0</td>\n",
       "      <td>3.761905</td>\n",
       "      <td>3.35</td>\n",
       "      <td>3.0</td>\n",
       "    </tr>\n",
       "    <tr>\n",
       "      <th>3</th>\n",
       "      <td>847</td>\n",
       "      <td>1</td>\n",
       "      <td>3.624457</td>\n",
       "      <td>3.0</td>\n",
       "      <td>4.0</td>\n",
       "      <td>3.0</td>\n",
       "      <td>3.0</td>\n",
       "      <td>2.0</td>\n",
       "      <td>4.0</td>\n",
       "      <td>4.0</td>\n",
       "      <td>4.0</td>\n",
       "      <td>4.0</td>\n",
       "      <td>4.0</td>\n",
       "      <td>4.090909</td>\n",
       "      <td>3.35</td>\n",
       "      <td>5.0</td>\n",
       "    </tr>\n",
       "    <tr>\n",
       "      <th>4</th>\n",
       "      <td>993</td>\n",
       "      <td>1</td>\n",
       "      <td>3.624457</td>\n",
       "      <td>3.0</td>\n",
       "      <td>4.0</td>\n",
       "      <td>4.0</td>\n",
       "      <td>3.0</td>\n",
       "      <td>3.0</td>\n",
       "      <td>3.0</td>\n",
       "      <td>2.0</td>\n",
       "      <td>3.0</td>\n",
       "      <td>5.0</td>\n",
       "      <td>3.0</td>\n",
       "      <td>3.172414</td>\n",
       "      <td>3.35</td>\n",
       "      <td>3.0</td>\n",
       "    </tr>\n",
       "  </tbody>\n",
       "</table>\n",
       "</div>"
      ],
      "text/plain": [
       "   user  movie      GAvg  sur1  sur2  sur3  sur4  sur5  smr1  smr2  smr3  \\\n",
       "0  1590      0  3.624457   1.0   2.0   2.0   2.0   2.0   3.0   4.0   4.0   \n",
       "1  1907      0  3.624457   3.0   2.0   2.0   2.0   2.0   1.0   4.0   4.0   \n",
       "2   231      1  3.624457   3.0   3.0   4.0   4.0   4.0   2.0   5.0   5.0   \n",
       "3   847      1  3.624457   3.0   4.0   3.0   3.0   2.0   4.0   4.0   4.0   \n",
       "4   993      1  3.624457   3.0   4.0   4.0   3.0   3.0   3.0   2.0   3.0   \n",
       "\n",
       "   smr4  smr5      UAvg  MAvg  rating  \n",
       "0   2.0   3.0  3.895522  2.00     3.0  \n",
       "1   5.0   4.0  3.238636  2.00     1.0  \n",
       "2   5.0   4.0  3.761905  3.35     3.0  \n",
       "3   4.0   4.0  4.090909  3.35     5.0  \n",
       "4   5.0   3.0  3.172414  3.35     3.0  "
      ]
     },
     "execution_count": 39,
     "metadata": {},
     "output_type": "execute_result"
    }
   ],
   "source": [
    "reg_train = pd.read_csv('sample/reg_train.csv', names = ['user', 'movie', 'GAvg', 'sur1', 'sur2', 'sur3', 'sur4', 'sur5',\n",
    "                                                         'smr1', 'smr2', 'smr3', 'smr4', 'smr5',\n",
    "                                                        'UAvg', 'MAvg', 'rating'], header=None)\n",
    "reg_train.head()"
   ]
  },
  {
   "cell_type": "code",
   "execution_count": 40,
   "metadata": {},
   "outputs": [
    {
     "data": {
      "text/plain": [
       "(126228, 16)"
      ]
     },
     "execution_count": 40,
     "metadata": {},
     "output_type": "execute_result"
    }
   ],
   "source": [
    "reg_train.shape"
   ]
  },
  {
   "cell_type": "markdown",
   "metadata": {},
   "source": [
    " ### Reading from the file to make a Test_dataframe"
   ]
  },
  {
   "cell_type": "code",
   "execution_count": 47,
   "metadata": {},
   "outputs": [
    {
     "data": {
      "text/html": [
       "<div>\n",
       "<style scoped>\n",
       "    .dataframe tbody tr th:only-of-type {\n",
       "        vertical-align: middle;\n",
       "    }\n",
       "\n",
       "    .dataframe tbody tr th {\n",
       "        vertical-align: top;\n",
       "    }\n",
       "\n",
       "    .dataframe thead th {\n",
       "        text-align: right;\n",
       "    }\n",
       "</style>\n",
       "<table border=\"1\" class=\"dataframe\">\n",
       "  <thead>\n",
       "    <tr style=\"text-align: right;\">\n",
       "      <th></th>\n",
       "      <th>user</th>\n",
       "      <th>movie</th>\n",
       "      <th>GAvg</th>\n",
       "      <th>sur1</th>\n",
       "      <th>sur2</th>\n",
       "      <th>sur3</th>\n",
       "      <th>sur4</th>\n",
       "      <th>sur5</th>\n",
       "      <th>smr1</th>\n",
       "      <th>smr2</th>\n",
       "      <th>smr3</th>\n",
       "      <th>smr4</th>\n",
       "      <th>smr5</th>\n",
       "      <th>UAvg</th>\n",
       "      <th>MAvg</th>\n",
       "      <th>rating</th>\n",
       "    </tr>\n",
       "  </thead>\n",
       "  <tbody>\n",
       "    <tr>\n",
       "      <th>0</th>\n",
       "      <td>118</td>\n",
       "      <td>0</td>\n",
       "      <td>3.624457</td>\n",
       "      <td>5.0</td>\n",
       "      <td>4.0</td>\n",
       "      <td>4.0</td>\n",
       "      <td>5.0</td>\n",
       "      <td>4.0</td>\n",
       "      <td>4.20339</td>\n",
       "      <td>4.20339</td>\n",
       "      <td>4.20339</td>\n",
       "      <td>4.20339</td>\n",
       "      <td>4.20339</td>\n",
       "      <td>4.203390</td>\n",
       "      <td>2.0</td>\n",
       "      <td>3.0</td>\n",
       "    </tr>\n",
       "    <tr>\n",
       "      <th>1</th>\n",
       "      <td>192</td>\n",
       "      <td>0</td>\n",
       "      <td>3.624457</td>\n",
       "      <td>3.0</td>\n",
       "      <td>3.0</td>\n",
       "      <td>2.0</td>\n",
       "      <td>4.0</td>\n",
       "      <td>4.0</td>\n",
       "      <td>5.00000</td>\n",
       "      <td>4.00000</td>\n",
       "      <td>3.00000</td>\n",
       "      <td>3.00000</td>\n",
       "      <td>3.00000</td>\n",
       "      <td>3.000000</td>\n",
       "      <td>2.0</td>\n",
       "      <td>5.0</td>\n",
       "    </tr>\n",
       "    <tr>\n",
       "      <th>2</th>\n",
       "      <td>214</td>\n",
       "      <td>0</td>\n",
       "      <td>3.624457</td>\n",
       "      <td>3.0</td>\n",
       "      <td>4.0</td>\n",
       "      <td>4.0</td>\n",
       "      <td>2.0</td>\n",
       "      <td>4.0</td>\n",
       "      <td>5.00000</td>\n",
       "      <td>4.00000</td>\n",
       "      <td>5.00000</td>\n",
       "      <td>3.00000</td>\n",
       "      <td>5.00000</td>\n",
       "      <td>3.500000</td>\n",
       "      <td>2.0</td>\n",
       "      <td>3.0</td>\n",
       "    </tr>\n",
       "    <tr>\n",
       "      <th>3</th>\n",
       "      <td>283</td>\n",
       "      <td>0</td>\n",
       "      <td>3.624457</td>\n",
       "      <td>3.0</td>\n",
       "      <td>3.0</td>\n",
       "      <td>5.0</td>\n",
       "      <td>4.0</td>\n",
       "      <td>4.0</td>\n",
       "      <td>5.00000</td>\n",
       "      <td>5.00000</td>\n",
       "      <td>5.00000</td>\n",
       "      <td>5.00000</td>\n",
       "      <td>2.00000</td>\n",
       "      <td>4.133333</td>\n",
       "      <td>2.0</td>\n",
       "      <td>5.0</td>\n",
       "    </tr>\n",
       "  </tbody>\n",
       "</table>\n",
       "</div>"
      ],
      "text/plain": [
       "   user  movie      GAvg  sur1  sur2  sur3  sur4  sur5     smr1     smr2  \\\n",
       "0   118      0  3.624457   5.0   4.0   4.0   5.0   4.0  4.20339  4.20339   \n",
       "1   192      0  3.624457   3.0   3.0   2.0   4.0   4.0  5.00000  4.00000   \n",
       "2   214      0  3.624457   3.0   4.0   4.0   2.0   4.0  5.00000  4.00000   \n",
       "3   283      0  3.624457   3.0   3.0   5.0   4.0   4.0  5.00000  5.00000   \n",
       "\n",
       "      smr3     smr4     smr5      UAvg  MAvg  rating  \n",
       "0  4.20339  4.20339  4.20339  4.203390   2.0     3.0  \n",
       "1  3.00000  3.00000  3.00000  3.000000   2.0     5.0  \n",
       "2  5.00000  3.00000  5.00000  3.500000   2.0     3.0  \n",
       "3  5.00000  5.00000  2.00000  4.133333   2.0     5.0  "
      ]
     },
     "execution_count": 47,
     "metadata": {},
     "output_type": "execute_result"
    }
   ],
   "source": [
    "reg_test_df = pd.read_csv('sample/reg_test.csv', names = ['user', 'movie', 'GAvg', 'sur1', 'sur2', 'sur3', 'sur4', 'sur5',\n",
    "                                                         'smr1', 'smr2', 'smr3', 'smr4', 'smr5',\n",
    "                                                        'UAvg', 'MAvg', 'rating'], header=None)\n",
    "reg_test_df.head(4)"
   ]
  },
  {
   "cell_type": "markdown",
   "metadata": {},
   "source": [
    " "
   ]
  },
  {
   "cell_type": "markdown",
   "metadata": {},
   "source": [
    " "
   ]
  },
  {
   "cell_type": "markdown",
   "metadata": {},
   "source": [
    " "
   ]
  },
  {
   "cell_type": "markdown",
   "metadata": {},
   "source": [
    " "
   ]
  },
  {
   "cell_type": "markdown",
   "metadata": {},
   "source": [
    " "
   ]
  },
  {
   "cell_type": "markdown",
   "metadata": {},
   "source": [
    " "
   ]
  },
  {
   "cell_type": "markdown",
   "metadata": {},
   "source": [
    "----------------------------------------------------------------------------------------------------\n",
    "---"
   ]
  },
  {
   "cell_type": "markdown",
   "metadata": {},
   "source": [
    "### Some Utility Functions for the model evaluation..** "
   ]
  },
  {
   "cell_type": "code",
   "execution_count": 46,
   "metadata": {},
   "outputs": [],
   "source": [
    "# to show how large or how small are the errors...\n",
    "def print_error_dists(abs_errors):\n",
    "    t0 = sum( abs_errors > 0 )\n",
    "    t1 = sum( abs_errors > 1 )\n",
    "    t2 = sum( abs_errors > 2 )\n",
    "    t3 = sum( abs_errors > 3 )\n",
    "    t4 = sum( abs_errors > 4 )\n",
    "    \n",
    "    print('No. of predicted ratings with error between 0 and 1(inclusive) :', t0-t1)\n",
    "    print('No. of predicted ratings with error between 1 and 2(inclusive) :', t1-t2)\n",
    "    print('No. of predicted ratings with error between 2 and 3(inclusive) :', t2-t3)\n",
    "    print('No. of predicted ratings with error between 3 and 4(inclusive) :', t3-t4)\n",
    "    print('No. of predicted ratings with error > 4 :', t4)"
   ]
  },
  {
   "cell_type": "code",
   "execution_count": 75,
   "metadata": {},
   "outputs": [],
   "source": [
    "# to get rmse and mape for XGboost..\n",
    "def get_error_metrics(y_true, y_pred):\n",
    "    rmse = np.sqrt(np.mean([ (y_true[i] - y_pred[i])**2 for i in range(len(y_pred)) ]))\n",
    "    mape = np.mean(np.abs( (y_true - y_pred)/y_true )) * 100\n",
    "    return rmse, mape"
   ]
  },
  {
   "cell_type": "markdown",
   "metadata": {},
   "source": [
    "----------------------------------------------------------------------------------------------------\n",
    "---"
   ]
  },
  {
   "cell_type": "markdown",
   "metadata": {},
   "source": [
    "### Some Global dictionary that stores rmse and mape for all the models...."
   ]
  },
  {
   "cell_type": "markdown",
   "metadata": {},
   "source": [
    "- It stores the metrics in a dictionary of dictionaries\n",
    "\n",
    "> __keys__ : model names(string)\n",
    "\n",
    "> __value__: dict(__key__ : metric, __value__ : value )"
   ]
  },
  {
   "cell_type": "code",
   "execution_count": 69,
   "metadata": {},
   "outputs": [],
   "source": [
    "models_evaluation_train = dict()\n",
    "models_evaluation_test = dict()"
   ]
  },
  {
   "cell_type": "code",
   "execution_count": 70,
   "metadata": {
    "scrolled": true
   },
   "outputs": [
    {
     "data": {
      "text/plain": [
       "({}, {})"
      ]
     },
     "execution_count": 70,
     "metadata": {},
     "output_type": "execute_result"
    }
   ],
   "source": [
    "models_evaluation_train, models_evaluation_test"
   ]
  },
  {
   "cell_type": "markdown",
   "metadata": {},
   "source": [
    "----------------------------------------------------------------------------------------------------\n",
    "---"
   ]
  },
  {
   "cell_type": "markdown",
   "metadata": {},
   "source": [
    " "
   ]
  },
  {
   "cell_type": "markdown",
   "metadata": {},
   "source": [
    " "
   ]
  },
  {
   "cell_type": "markdown",
   "metadata": {},
   "source": [
    " "
   ]
  },
  {
   "cell_type": "markdown",
   "metadata": {},
   "source": [
    " "
   ]
  },
  {
   "cell_type": "markdown",
   "metadata": {},
   "source": [
    "Install xgboost in windows : https://www.youtube.com/watch?v=k51sX_ApQYU "
   ]
  },
  {
   "cell_type": "code",
   "execution_count": 48,
   "metadata": {},
   "outputs": [],
   "source": [
    "import os\n",
    "\n",
    "mingw_path = 'C:\\\\Program Files\\\\mingw-w64\\\\x86_64-7.2.0-posix-seh-rt_v5-rev1\\\\mingw64\\\\bin'\n",
    "\n",
    "os.environ['PATH'] = mingw_path + ';' + os.environ['PATH']"
   ]
  },
  {
   "cell_type": "code",
   "execution_count": 41,
   "metadata": {},
   "outputs": [],
   "source": [
    "import xgboost as xgb"
   ]
  },
  {
   "cell_type": "markdown",
   "metadata": {},
   "source": [
    "## 1. First XGBoost with default parameters.."
   ]
  },
  {
   "cell_type": "code",
   "execution_count": 44,
   "metadata": {},
   "outputs": [
    {
     "data": {
      "text/plain": [
       "XGBRegressor(base_score=0.5, booster='gbtree', colsample_bylevel=1,\n",
       "       colsample_bytree=1, gamma=0, learning_rate=0.1, max_delta_step=0,\n",
       "       max_depth=3, min_child_weight=1, missing=None, n_estimators=100,\n",
       "       n_jobs=13, nthread=None, objective='reg:linear', random_state=15,\n",
       "       reg_alpha=0, reg_lambda=1, scale_pos_weight=1, seed=None,\n",
       "       silent=False, subsample=1)"
      ]
     },
     "execution_count": 44,
     "metadata": {},
     "output_type": "execute_result"
    }
   ],
   "source": [
    "first_xgb = xgb.XGBRegressor(silent=False, n_jobs=13, random_state=15, n_estimators=100)\n",
    "\n",
    "x_train = reg_train.drop(['user','movie','rating'], axis=1)\n",
    "y_train = reg_train['rating']\n",
    "\n",
    "start = datetime.now()\n",
    "\n",
    "first_xgb.fit(x_train, y_train, eval_metric = 'rmse')"
   ]
  },
  {
   "cell_type": "code",
   "execution_count": 45,
   "metadata": {},
   "outputs": [
    {
     "name": "stdout",
     "output_type": "stream",
     "text": [
      "0:00:00.947163\n"
     ]
    }
   ],
   "source": [
    "print(datetime.now() - start)"
   ]
  },
  {
   "cell_type": "code",
   "execution_count": 49,
   "metadata": {},
   "outputs": [
    {
     "name": "stdout",
     "output_type": "stream",
     "text": [
      "0:00:00.099681\n"
     ]
    }
   ],
   "source": [
    "start =datetime.now()\n",
    "y_train_pred = first_xgb.predict(x_train)\n",
    "print(datetime.now()-start)"
   ]
  },
  {
   "cell_type": "code",
   "execution_count": 59,
   "metadata": {},
   "outputs": [],
   "source": [
    "rmse_train, mape_train = get_error_metrics(y_train.values, y_train_pred)"
   ]
  },
  {
   "cell_type": "code",
   "execution_count": 60,
   "metadata": {},
   "outputs": [
    {
     "data": {
      "text/plain": [
       "(0.8473548013960125, 25.039259953928468)"
      ]
     },
     "execution_count": 60,
     "metadata": {},
     "output_type": "execute_result"
    }
   ],
   "source": [
    "rmse_train, mape_train"
   ]
  },
  {
   "cell_type": "code",
   "execution_count": 84,
   "metadata": {},
   "outputs": [
    {
     "name": "stdout",
     "output_type": "stream",
     "text": [
      "No. of predicted ratings with error between 0 and 1(inclusive) : 98337\n",
      "No. of predicted ratings with error between 1 and 2(inclusive) : 24755\n",
      "No. of predicted ratings with error between 2 and 3(inclusive) : 2923\n",
      "No. of predicted ratings with error between 3 and 4(inclusive) : 213\n",
      "No. of predicted ratings with error > 4 : 0\n"
     ]
    }
   ],
   "source": [
    "print_error_dists(abs_errors=np.abs(y_train.values - y_train_pred))"
   ]
  },
  {
   "cell_type": "markdown",
   "metadata": {},
   "source": [
    " "
   ]
  },
  {
   "cell_type": "markdown",
   "metadata": {},
   "source": [
    " "
   ]
  },
  {
   "cell_type": "markdown",
   "metadata": {},
   "source": [
    "#### Store the errors values in our global dictionary..."
   ]
  },
  {
   "cell_type": "code",
   "execution_count": 226,
   "metadata": {},
   "outputs": [
    {
     "data": {
      "text/plain": [
       "{'mape': 25.039259953928468,\n",
       " 'predictions': array([2.3490567, 1.7247627, 3.4073272, ..., 3.038171 , 3.0399516,\n",
       "        3.8002818], dtype=float32),\n",
       " 'rmse': 0.8473548013960125}"
      ]
     },
     "execution_count": 226,
     "metadata": {},
     "output_type": "execute_result"
    }
   ],
   "source": [
    "###################################################\n",
    "models_evaluation_train['first_xgb'] = {'rmse':rmse_train, 'mape':mape_train}\n",
    "models_evaluation_train['first_xgb']['predictions'] = y_train_pred\n",
    "\n",
    "models_evaluation_train['first_xgb']"
   ]
  },
  {
   "cell_type": "markdown",
   "metadata": {},
   "source": [
    " "
   ]
  },
  {
   "cell_type": "markdown",
   "metadata": {},
   "source": [
    " "
   ]
  },
  {
   "cell_type": "markdown",
   "metadata": {},
   "source": [
    " "
   ]
  },
  {
   "cell_type": "code",
   "execution_count": 85,
   "metadata": {},
   "outputs": [
    {
     "data": {
      "application/javascript": [
       "/* Put everything inside the global mpl namespace */\n",
       "window.mpl = {};\n",
       "\n",
       "\n",
       "mpl.get_websocket_type = function() {\n",
       "    if (typeof(WebSocket) !== 'undefined') {\n",
       "        return WebSocket;\n",
       "    } else if (typeof(MozWebSocket) !== 'undefined') {\n",
       "        return MozWebSocket;\n",
       "    } else {\n",
       "        alert('Your browser does not have WebSocket support.' +\n",
       "              'Please try Chrome, Safari or Firefox ≥ 6. ' +\n",
       "              'Firefox 4 and 5 are also supported but you ' +\n",
       "              'have to enable WebSockets in about:config.');\n",
       "    };\n",
       "}\n",
       "\n",
       "mpl.figure = function(figure_id, websocket, ondownload, parent_element) {\n",
       "    this.id = figure_id;\n",
       "\n",
       "    this.ws = websocket;\n",
       "\n",
       "    this.supports_binary = (this.ws.binaryType != undefined);\n",
       "\n",
       "    if (!this.supports_binary) {\n",
       "        var warnings = document.getElementById(\"mpl-warnings\");\n",
       "        if (warnings) {\n",
       "            warnings.style.display = 'block';\n",
       "            warnings.textContent = (\n",
       "                \"This browser does not support binary websocket messages. \" +\n",
       "                    \"Performance may be slow.\");\n",
       "        }\n",
       "    }\n",
       "\n",
       "    this.imageObj = new Image();\n",
       "\n",
       "    this.context = undefined;\n",
       "    this.message = undefined;\n",
       "    this.canvas = undefined;\n",
       "    this.rubberband_canvas = undefined;\n",
       "    this.rubberband_context = undefined;\n",
       "    this.format_dropdown = undefined;\n",
       "\n",
       "    this.image_mode = 'full';\n",
       "\n",
       "    this.root = $('<div/>');\n",
       "    this._root_extra_style(this.root)\n",
       "    this.root.attr('style', 'display: inline-block');\n",
       "\n",
       "    $(parent_element).append(this.root);\n",
       "\n",
       "    this._init_header(this);\n",
       "    this._init_canvas(this);\n",
       "    this._init_toolbar(this);\n",
       "\n",
       "    var fig = this;\n",
       "\n",
       "    this.waiting = false;\n",
       "\n",
       "    this.ws.onopen =  function () {\n",
       "            fig.send_message(\"supports_binary\", {value: fig.supports_binary});\n",
       "            fig.send_message(\"send_image_mode\", {});\n",
       "            if (mpl.ratio != 1) {\n",
       "                fig.send_message(\"set_dpi_ratio\", {'dpi_ratio': mpl.ratio});\n",
       "            }\n",
       "            fig.send_message(\"refresh\", {});\n",
       "        }\n",
       "\n",
       "    this.imageObj.onload = function() {\n",
       "            if (fig.image_mode == 'full') {\n",
       "                // Full images could contain transparency (where diff images\n",
       "                // almost always do), so we need to clear the canvas so that\n",
       "                // there is no ghosting.\n",
       "                fig.context.clearRect(0, 0, fig.canvas.width, fig.canvas.height);\n",
       "            }\n",
       "            fig.context.drawImage(fig.imageObj, 0, 0);\n",
       "        };\n",
       "\n",
       "    this.imageObj.onunload = function() {\n",
       "        fig.ws.close();\n",
       "    }\n",
       "\n",
       "    this.ws.onmessage = this._make_on_message_function(this);\n",
       "\n",
       "    this.ondownload = ondownload;\n",
       "}\n",
       "\n",
       "mpl.figure.prototype._init_header = function() {\n",
       "    var titlebar = $(\n",
       "        '<div class=\"ui-dialog-titlebar ui-widget-header ui-corner-all ' +\n",
       "        'ui-helper-clearfix\"/>');\n",
       "    var titletext = $(\n",
       "        '<div class=\"ui-dialog-title\" style=\"width: 100%; ' +\n",
       "        'text-align: center; padding: 3px;\"/>');\n",
       "    titlebar.append(titletext)\n",
       "    this.root.append(titlebar);\n",
       "    this.header = titletext[0];\n",
       "}\n",
       "\n",
       "\n",
       "\n",
       "mpl.figure.prototype._canvas_extra_style = function(canvas_div) {\n",
       "\n",
       "}\n",
       "\n",
       "\n",
       "mpl.figure.prototype._root_extra_style = function(canvas_div) {\n",
       "\n",
       "}\n",
       "\n",
       "mpl.figure.prototype._init_canvas = function() {\n",
       "    var fig = this;\n",
       "\n",
       "    var canvas_div = $('<div/>');\n",
       "\n",
       "    canvas_div.attr('style', 'position: relative; clear: both; outline: 0');\n",
       "\n",
       "    function canvas_keyboard_event(event) {\n",
       "        return fig.key_event(event, event['data']);\n",
       "    }\n",
       "\n",
       "    canvas_div.keydown('key_press', canvas_keyboard_event);\n",
       "    canvas_div.keyup('key_release', canvas_keyboard_event);\n",
       "    this.canvas_div = canvas_div\n",
       "    this._canvas_extra_style(canvas_div)\n",
       "    this.root.append(canvas_div);\n",
       "\n",
       "    var canvas = $('<canvas/>');\n",
       "    canvas.addClass('mpl-canvas');\n",
       "    canvas.attr('style', \"left: 0; top: 0; z-index: 0; outline: 0\")\n",
       "\n",
       "    this.canvas = canvas[0];\n",
       "    this.context = canvas[0].getContext(\"2d\");\n",
       "\n",
       "    var backingStore = this.context.backingStorePixelRatio ||\n",
       "\tthis.context.webkitBackingStorePixelRatio ||\n",
       "\tthis.context.mozBackingStorePixelRatio ||\n",
       "\tthis.context.msBackingStorePixelRatio ||\n",
       "\tthis.context.oBackingStorePixelRatio ||\n",
       "\tthis.context.backingStorePixelRatio || 1;\n",
       "\n",
       "    mpl.ratio = (window.devicePixelRatio || 1) / backingStore;\n",
       "\n",
       "    var rubberband = $('<canvas/>');\n",
       "    rubberband.attr('style', \"position: absolute; left: 0; top: 0; z-index: 1;\")\n",
       "\n",
       "    var pass_mouse_events = true;\n",
       "\n",
       "    canvas_div.resizable({\n",
       "        start: function(event, ui) {\n",
       "            pass_mouse_events = false;\n",
       "        },\n",
       "        resize: function(event, ui) {\n",
       "            fig.request_resize(ui.size.width, ui.size.height);\n",
       "        },\n",
       "        stop: function(event, ui) {\n",
       "            pass_mouse_events = true;\n",
       "            fig.request_resize(ui.size.width, ui.size.height);\n",
       "        },\n",
       "    });\n",
       "\n",
       "    function mouse_event_fn(event) {\n",
       "        if (pass_mouse_events)\n",
       "            return fig.mouse_event(event, event['data']);\n",
       "    }\n",
       "\n",
       "    rubberband.mousedown('button_press', mouse_event_fn);\n",
       "    rubberband.mouseup('button_release', mouse_event_fn);\n",
       "    // Throttle sequential mouse events to 1 every 20ms.\n",
       "    rubberband.mousemove('motion_notify', mouse_event_fn);\n",
       "\n",
       "    rubberband.mouseenter('figure_enter', mouse_event_fn);\n",
       "    rubberband.mouseleave('figure_leave', mouse_event_fn);\n",
       "\n",
       "    canvas_div.on(\"wheel\", function (event) {\n",
       "        event = event.originalEvent;\n",
       "        event['data'] = 'scroll'\n",
       "        if (event.deltaY < 0) {\n",
       "            event.step = 1;\n",
       "        } else {\n",
       "            event.step = -1;\n",
       "        }\n",
       "        mouse_event_fn(event);\n",
       "    });\n",
       "\n",
       "    canvas_div.append(canvas);\n",
       "    canvas_div.append(rubberband);\n",
       "\n",
       "    this.rubberband = rubberband;\n",
       "    this.rubberband_canvas = rubberband[0];\n",
       "    this.rubberband_context = rubberband[0].getContext(\"2d\");\n",
       "    this.rubberband_context.strokeStyle = \"#000000\";\n",
       "\n",
       "    this._resize_canvas = function(width, height) {\n",
       "        // Keep the size of the canvas, canvas container, and rubber band\n",
       "        // canvas in synch.\n",
       "        canvas_div.css('width', width)\n",
       "        canvas_div.css('height', height)\n",
       "\n",
       "        canvas.attr('width', width * mpl.ratio);\n",
       "        canvas.attr('height', height * mpl.ratio);\n",
       "        canvas.attr('style', 'width: ' + width + 'px; height: ' + height + 'px;');\n",
       "\n",
       "        rubberband.attr('width', width);\n",
       "        rubberband.attr('height', height);\n",
       "    }\n",
       "\n",
       "    // Set the figure to an initial 600x600px, this will subsequently be updated\n",
       "    // upon first draw.\n",
       "    this._resize_canvas(600, 600);\n",
       "\n",
       "    // Disable right mouse context menu.\n",
       "    $(this.rubberband_canvas).bind(\"contextmenu\",function(e){\n",
       "        return false;\n",
       "    });\n",
       "\n",
       "    function set_focus () {\n",
       "        canvas.focus();\n",
       "        canvas_div.focus();\n",
       "    }\n",
       "\n",
       "    window.setTimeout(set_focus, 100);\n",
       "}\n",
       "\n",
       "mpl.figure.prototype._init_toolbar = function() {\n",
       "    var fig = this;\n",
       "\n",
       "    var nav_element = $('<div/>')\n",
       "    nav_element.attr('style', 'width: 100%');\n",
       "    this.root.append(nav_element);\n",
       "\n",
       "    // Define a callback function for later on.\n",
       "    function toolbar_event(event) {\n",
       "        return fig.toolbar_button_onclick(event['data']);\n",
       "    }\n",
       "    function toolbar_mouse_event(event) {\n",
       "        return fig.toolbar_button_onmouseover(event['data']);\n",
       "    }\n",
       "\n",
       "    for(var toolbar_ind in mpl.toolbar_items) {\n",
       "        var name = mpl.toolbar_items[toolbar_ind][0];\n",
       "        var tooltip = mpl.toolbar_items[toolbar_ind][1];\n",
       "        var image = mpl.toolbar_items[toolbar_ind][2];\n",
       "        var method_name = mpl.toolbar_items[toolbar_ind][3];\n",
       "\n",
       "        if (!name) {\n",
       "            // put a spacer in here.\n",
       "            continue;\n",
       "        }\n",
       "        var button = $('<button/>');\n",
       "        button.addClass('ui-button ui-widget ui-state-default ui-corner-all ' +\n",
       "                        'ui-button-icon-only');\n",
       "        button.attr('role', 'button');\n",
       "        button.attr('aria-disabled', 'false');\n",
       "        button.click(method_name, toolbar_event);\n",
       "        button.mouseover(tooltip, toolbar_mouse_event);\n",
       "\n",
       "        var icon_img = $('<span/>');\n",
       "        icon_img.addClass('ui-button-icon-primary ui-icon');\n",
       "        icon_img.addClass(image);\n",
       "        icon_img.addClass('ui-corner-all');\n",
       "\n",
       "        var tooltip_span = $('<span/>');\n",
       "        tooltip_span.addClass('ui-button-text');\n",
       "        tooltip_span.html(tooltip);\n",
       "\n",
       "        button.append(icon_img);\n",
       "        button.append(tooltip_span);\n",
       "\n",
       "        nav_element.append(button);\n",
       "    }\n",
       "\n",
       "    var fmt_picker_span = $('<span/>');\n",
       "\n",
       "    var fmt_picker = $('<select/>');\n",
       "    fmt_picker.addClass('mpl-toolbar-option ui-widget ui-widget-content');\n",
       "    fmt_picker_span.append(fmt_picker);\n",
       "    nav_element.append(fmt_picker_span);\n",
       "    this.format_dropdown = fmt_picker[0];\n",
       "\n",
       "    for (var ind in mpl.extensions) {\n",
       "        var fmt = mpl.extensions[ind];\n",
       "        var option = $(\n",
       "            '<option/>', {selected: fmt === mpl.default_extension}).html(fmt);\n",
       "        fmt_picker.append(option)\n",
       "    }\n",
       "\n",
       "    // Add hover states to the ui-buttons\n",
       "    $( \".ui-button\" ).hover(\n",
       "        function() { $(this).addClass(\"ui-state-hover\");},\n",
       "        function() { $(this).removeClass(\"ui-state-hover\");}\n",
       "    );\n",
       "\n",
       "    var status_bar = $('<span class=\"mpl-message\"/>');\n",
       "    nav_element.append(status_bar);\n",
       "    this.message = status_bar[0];\n",
       "}\n",
       "\n",
       "mpl.figure.prototype.request_resize = function(x_pixels, y_pixels) {\n",
       "    // Request matplotlib to resize the figure. Matplotlib will then trigger a resize in the client,\n",
       "    // which will in turn request a refresh of the image.\n",
       "    this.send_message('resize', {'width': x_pixels, 'height': y_pixels});\n",
       "}\n",
       "\n",
       "mpl.figure.prototype.send_message = function(type, properties) {\n",
       "    properties['type'] = type;\n",
       "    properties['figure_id'] = this.id;\n",
       "    this.ws.send(JSON.stringify(properties));\n",
       "}\n",
       "\n",
       "mpl.figure.prototype.send_draw_message = function() {\n",
       "    if (!this.waiting) {\n",
       "        this.waiting = true;\n",
       "        this.ws.send(JSON.stringify({type: \"draw\", figure_id: this.id}));\n",
       "    }\n",
       "}\n",
       "\n",
       "\n",
       "mpl.figure.prototype.handle_save = function(fig, msg) {\n",
       "    var format_dropdown = fig.format_dropdown;\n",
       "    var format = format_dropdown.options[format_dropdown.selectedIndex].value;\n",
       "    fig.ondownload(fig, format);\n",
       "}\n",
       "\n",
       "\n",
       "mpl.figure.prototype.handle_resize = function(fig, msg) {\n",
       "    var size = msg['size'];\n",
       "    if (size[0] != fig.canvas.width || size[1] != fig.canvas.height) {\n",
       "        fig._resize_canvas(size[0], size[1]);\n",
       "        fig.send_message(\"refresh\", {});\n",
       "    };\n",
       "}\n",
       "\n",
       "mpl.figure.prototype.handle_rubberband = function(fig, msg) {\n",
       "    var x0 = msg['x0'] / mpl.ratio;\n",
       "    var y0 = (fig.canvas.height - msg['y0']) / mpl.ratio;\n",
       "    var x1 = msg['x1'] / mpl.ratio;\n",
       "    var y1 = (fig.canvas.height - msg['y1']) / mpl.ratio;\n",
       "    x0 = Math.floor(x0) + 0.5;\n",
       "    y0 = Math.floor(y0) + 0.5;\n",
       "    x1 = Math.floor(x1) + 0.5;\n",
       "    y1 = Math.floor(y1) + 0.5;\n",
       "    var min_x = Math.min(x0, x1);\n",
       "    var min_y = Math.min(y0, y1);\n",
       "    var width = Math.abs(x1 - x0);\n",
       "    var height = Math.abs(y1 - y0);\n",
       "\n",
       "    fig.rubberband_context.clearRect(\n",
       "        0, 0, fig.canvas.width, fig.canvas.height);\n",
       "\n",
       "    fig.rubberband_context.strokeRect(min_x, min_y, width, height);\n",
       "}\n",
       "\n",
       "mpl.figure.prototype.handle_figure_label = function(fig, msg) {\n",
       "    // Updates the figure title.\n",
       "    fig.header.textContent = msg['label'];\n",
       "}\n",
       "\n",
       "mpl.figure.prototype.handle_cursor = function(fig, msg) {\n",
       "    var cursor = msg['cursor'];\n",
       "    switch(cursor)\n",
       "    {\n",
       "    case 0:\n",
       "        cursor = 'pointer';\n",
       "        break;\n",
       "    case 1:\n",
       "        cursor = 'default';\n",
       "        break;\n",
       "    case 2:\n",
       "        cursor = 'crosshair';\n",
       "        break;\n",
       "    case 3:\n",
       "        cursor = 'move';\n",
       "        break;\n",
       "    }\n",
       "    fig.rubberband_canvas.style.cursor = cursor;\n",
       "}\n",
       "\n",
       "mpl.figure.prototype.handle_message = function(fig, msg) {\n",
       "    fig.message.textContent = msg['message'];\n",
       "}\n",
       "\n",
       "mpl.figure.prototype.handle_draw = function(fig, msg) {\n",
       "    // Request the server to send over a new figure.\n",
       "    fig.send_draw_message();\n",
       "}\n",
       "\n",
       "mpl.figure.prototype.handle_image_mode = function(fig, msg) {\n",
       "    fig.image_mode = msg['mode'];\n",
       "}\n",
       "\n",
       "mpl.figure.prototype.updated_canvas_event = function() {\n",
       "    // Called whenever the canvas gets updated.\n",
       "    this.send_message(\"ack\", {});\n",
       "}\n",
       "\n",
       "// A function to construct a web socket function for onmessage handling.\n",
       "// Called in the figure constructor.\n",
       "mpl.figure.prototype._make_on_message_function = function(fig) {\n",
       "    return function socket_on_message(evt) {\n",
       "        if (evt.data instanceof Blob) {\n",
       "            /* FIXME: We get \"Resource interpreted as Image but\n",
       "             * transferred with MIME type text/plain:\" errors on\n",
       "             * Chrome.  But how to set the MIME type?  It doesn't seem\n",
       "             * to be part of the websocket stream */\n",
       "            evt.data.type = \"image/png\";\n",
       "\n",
       "            /* Free the memory for the previous frames */\n",
       "            if (fig.imageObj.src) {\n",
       "                (window.URL || window.webkitURL).revokeObjectURL(\n",
       "                    fig.imageObj.src);\n",
       "            }\n",
       "\n",
       "            fig.imageObj.src = (window.URL || window.webkitURL).createObjectURL(\n",
       "                evt.data);\n",
       "            fig.updated_canvas_event();\n",
       "            fig.waiting = false;\n",
       "            return;\n",
       "        }\n",
       "        else if (typeof evt.data === 'string' && evt.data.slice(0, 21) == \"data:image/png;base64\") {\n",
       "            fig.imageObj.src = evt.data;\n",
       "            fig.updated_canvas_event();\n",
       "            fig.waiting = false;\n",
       "            return;\n",
       "        }\n",
       "\n",
       "        var msg = JSON.parse(evt.data);\n",
       "        var msg_type = msg['type'];\n",
       "\n",
       "        // Call the  \"handle_{type}\" callback, which takes\n",
       "        // the figure and JSON message as its only arguments.\n",
       "        try {\n",
       "            var callback = fig[\"handle_\" + msg_type];\n",
       "        } catch (e) {\n",
       "            console.log(\"No handler for the '\" + msg_type + \"' message type: \", msg);\n",
       "            return;\n",
       "        }\n",
       "\n",
       "        if (callback) {\n",
       "            try {\n",
       "                // console.log(\"Handling '\" + msg_type + \"' message: \", msg);\n",
       "                callback(fig, msg);\n",
       "            } catch (e) {\n",
       "                console.log(\"Exception inside the 'handler_\" + msg_type + \"' callback:\", e, e.stack, msg);\n",
       "            }\n",
       "        }\n",
       "    };\n",
       "}\n",
       "\n",
       "// from http://stackoverflow.com/questions/1114465/getting-mouse-location-in-canvas\n",
       "mpl.findpos = function(e) {\n",
       "    //this section is from http://www.quirksmode.org/js/events_properties.html\n",
       "    var targ;\n",
       "    if (!e)\n",
       "        e = window.event;\n",
       "    if (e.target)\n",
       "        targ = e.target;\n",
       "    else if (e.srcElement)\n",
       "        targ = e.srcElement;\n",
       "    if (targ.nodeType == 3) // defeat Safari bug\n",
       "        targ = targ.parentNode;\n",
       "\n",
       "    // jQuery normalizes the pageX and pageY\n",
       "    // pageX,Y are the mouse positions relative to the document\n",
       "    // offset() returns the position of the element relative to the document\n",
       "    var x = e.pageX - $(targ).offset().left;\n",
       "    var y = e.pageY - $(targ).offset().top;\n",
       "\n",
       "    return {\"x\": x, \"y\": y};\n",
       "};\n",
       "\n",
       "/*\n",
       " * return a copy of an object with only non-object keys\n",
       " * we need this to avoid circular references\n",
       " * http://stackoverflow.com/a/24161582/3208463\n",
       " */\n",
       "function simpleKeys (original) {\n",
       "  return Object.keys(original).reduce(function (obj, key) {\n",
       "    if (typeof original[key] !== 'object')\n",
       "        obj[key] = original[key]\n",
       "    return obj;\n",
       "  }, {});\n",
       "}\n",
       "\n",
       "mpl.figure.prototype.mouse_event = function(event, name) {\n",
       "    var canvas_pos = mpl.findpos(event)\n",
       "\n",
       "    if (name === 'button_press')\n",
       "    {\n",
       "        this.canvas.focus();\n",
       "        this.canvas_div.focus();\n",
       "    }\n",
       "\n",
       "    var x = canvas_pos.x * mpl.ratio;\n",
       "    var y = canvas_pos.y * mpl.ratio;\n",
       "\n",
       "    this.send_message(name, {x: x, y: y, button: event.button,\n",
       "                             step: event.step,\n",
       "                             guiEvent: simpleKeys(event)});\n",
       "\n",
       "    /* This prevents the web browser from automatically changing to\n",
       "     * the text insertion cursor when the button is pressed.  We want\n",
       "     * to control all of the cursor setting manually through the\n",
       "     * 'cursor' event from matplotlib */\n",
       "    event.preventDefault();\n",
       "    return false;\n",
       "}\n",
       "\n",
       "mpl.figure.prototype._key_event_extra = function(event, name) {\n",
       "    // Handle any extra behaviour associated with a key event\n",
       "}\n",
       "\n",
       "mpl.figure.prototype.key_event = function(event, name) {\n",
       "\n",
       "    // Prevent repeat events\n",
       "    if (name == 'key_press')\n",
       "    {\n",
       "        if (event.which === this._key)\n",
       "            return;\n",
       "        else\n",
       "            this._key = event.which;\n",
       "    }\n",
       "    if (name == 'key_release')\n",
       "        this._key = null;\n",
       "\n",
       "    var value = '';\n",
       "    if (event.ctrlKey && event.which != 17)\n",
       "        value += \"ctrl+\";\n",
       "    if (event.altKey && event.which != 18)\n",
       "        value += \"alt+\";\n",
       "    if (event.shiftKey && event.which != 16)\n",
       "        value += \"shift+\";\n",
       "\n",
       "    value += 'k';\n",
       "    value += event.which.toString();\n",
       "\n",
       "    this._key_event_extra(event, name);\n",
       "\n",
       "    this.send_message(name, {key: value,\n",
       "                             guiEvent: simpleKeys(event)});\n",
       "    return false;\n",
       "}\n",
       "\n",
       "mpl.figure.prototype.toolbar_button_onclick = function(name) {\n",
       "    if (name == 'download') {\n",
       "        this.handle_save(this, null);\n",
       "    } else {\n",
       "        this.send_message(\"toolbar_button\", {name: name});\n",
       "    }\n",
       "};\n",
       "\n",
       "mpl.figure.prototype.toolbar_button_onmouseover = function(tooltip) {\n",
       "    this.message.textContent = tooltip;\n",
       "};\n",
       "mpl.toolbar_items = [[\"Home\", \"Reset original view\", \"fa fa-home icon-home\", \"home\"], [\"Back\", \"Back to  previous view\", \"fa fa-arrow-left icon-arrow-left\", \"back\"], [\"Forward\", \"Forward to next view\", \"fa fa-arrow-right icon-arrow-right\", \"forward\"], [\"\", \"\", \"\", \"\"], [\"Pan\", \"Pan axes with left mouse, zoom with right\", \"fa fa-arrows icon-move\", \"pan\"], [\"Zoom\", \"Zoom to rectangle\", \"fa fa-square-o icon-check-empty\", \"zoom\"], [\"\", \"\", \"\", \"\"], [\"Download\", \"Download plot\", \"fa fa-floppy-o icon-save\", \"download\"]];\n",
       "\n",
       "mpl.extensions = [\"eps\", \"jpeg\", \"pdf\", \"png\", \"ps\", \"raw\", \"svg\", \"tif\"];\n",
       "\n",
       "mpl.default_extension = \"png\";var comm_websocket_adapter = function(comm) {\n",
       "    // Create a \"websocket\"-like object which calls the given IPython comm\n",
       "    // object with the appropriate methods. Currently this is a non binary\n",
       "    // socket, so there is still some room for performance tuning.\n",
       "    var ws = {};\n",
       "\n",
       "    ws.close = function() {\n",
       "        comm.close()\n",
       "    };\n",
       "    ws.send = function(m) {\n",
       "        //console.log('sending', m);\n",
       "        comm.send(m);\n",
       "    };\n",
       "    // Register the callback with on_msg.\n",
       "    comm.on_msg(function(msg) {\n",
       "        //console.log('receiving', msg['content']['data'], msg);\n",
       "        // Pass the mpl event to the overriden (by mpl) onmessage function.\n",
       "        ws.onmessage(msg['content']['data'])\n",
       "    });\n",
       "    return ws;\n",
       "}\n",
       "\n",
       "mpl.mpl_figure_comm = function(comm, msg) {\n",
       "    // This is the function which gets called when the mpl process\n",
       "    // starts-up an IPython Comm through the \"matplotlib\" channel.\n",
       "\n",
       "    var id = msg.content.data.id;\n",
       "    // Get hold of the div created by the display call when the Comm\n",
       "    // socket was opened in Python.\n",
       "    var element = $(\"#\" + id);\n",
       "    var ws_proxy = comm_websocket_adapter(comm)\n",
       "\n",
       "    function ondownload(figure, format) {\n",
       "        window.open(figure.imageObj.src);\n",
       "    }\n",
       "\n",
       "    var fig = new mpl.figure(id, ws_proxy,\n",
       "                           ondownload,\n",
       "                           element.get(0));\n",
       "\n",
       "    // Call onopen now - mpl needs it, as it is assuming we've passed it a real\n",
       "    // web socket which is closed, not our websocket->open comm proxy.\n",
       "    ws_proxy.onopen();\n",
       "\n",
       "    fig.parent_element = element.get(0);\n",
       "    fig.cell_info = mpl.find_output_cell(\"<div id='\" + id + \"'></div>\");\n",
       "    if (!fig.cell_info) {\n",
       "        console.error(\"Failed to find cell for figure\", id, fig);\n",
       "        return;\n",
       "    }\n",
       "\n",
       "    var output_index = fig.cell_info[2]\n",
       "    var cell = fig.cell_info[0];\n",
       "\n",
       "};\n",
       "\n",
       "mpl.figure.prototype.handle_close = function(fig, msg) {\n",
       "    var width = fig.canvas.width/mpl.ratio\n",
       "    fig.root.unbind('remove')\n",
       "\n",
       "    // Update the output cell to use the data from the current canvas.\n",
       "    fig.push_to_output();\n",
       "    var dataURL = fig.canvas.toDataURL();\n",
       "    // Re-enable the keyboard manager in IPython - without this line, in FF,\n",
       "    // the notebook keyboard shortcuts fail.\n",
       "    IPython.keyboard_manager.enable()\n",
       "    $(fig.parent_element).html('<img src=\"' + dataURL + '\" width=\"' + width + '\">');\n",
       "    fig.close_ws(fig, msg);\n",
       "}\n",
       "\n",
       "mpl.figure.prototype.close_ws = function(fig, msg){\n",
       "    fig.send_message('closing', msg);\n",
       "    // fig.ws.close()\n",
       "}\n",
       "\n",
       "mpl.figure.prototype.push_to_output = function(remove_interactive) {\n",
       "    // Turn the data on the canvas into data in the output cell.\n",
       "    var width = this.canvas.width/mpl.ratio\n",
       "    var dataURL = this.canvas.toDataURL();\n",
       "    this.cell_info[1]['text/html'] = '<img src=\"' + dataURL + '\" width=\"' + width + '\">';\n",
       "}\n",
       "\n",
       "mpl.figure.prototype.updated_canvas_event = function() {\n",
       "    // Tell IPython that the notebook contents must change.\n",
       "    IPython.notebook.set_dirty(true);\n",
       "    this.send_message(\"ack\", {});\n",
       "    var fig = this;\n",
       "    // Wait a second, then push the new image to the DOM so\n",
       "    // that it is saved nicely (might be nice to debounce this).\n",
       "    setTimeout(function () { fig.push_to_output() }, 1000);\n",
       "}\n",
       "\n",
       "mpl.figure.prototype._init_toolbar = function() {\n",
       "    var fig = this;\n",
       "\n",
       "    var nav_element = $('<div/>')\n",
       "    nav_element.attr('style', 'width: 100%');\n",
       "    this.root.append(nav_element);\n",
       "\n",
       "    // Define a callback function for later on.\n",
       "    function toolbar_event(event) {\n",
       "        return fig.toolbar_button_onclick(event['data']);\n",
       "    }\n",
       "    function toolbar_mouse_event(event) {\n",
       "        return fig.toolbar_button_onmouseover(event['data']);\n",
       "    }\n",
       "\n",
       "    for(var toolbar_ind in mpl.toolbar_items){\n",
       "        var name = mpl.toolbar_items[toolbar_ind][0];\n",
       "        var tooltip = mpl.toolbar_items[toolbar_ind][1];\n",
       "        var image = mpl.toolbar_items[toolbar_ind][2];\n",
       "        var method_name = mpl.toolbar_items[toolbar_ind][3];\n",
       "\n",
       "        if (!name) { continue; };\n",
       "\n",
       "        var button = $('<button class=\"btn btn-default\" href=\"#\" title=\"' + name + '\"><i class=\"fa ' + image + ' fa-lg\"></i></button>');\n",
       "        button.click(method_name, toolbar_event);\n",
       "        button.mouseover(tooltip, toolbar_mouse_event);\n",
       "        nav_element.append(button);\n",
       "    }\n",
       "\n",
       "    // Add the status bar.\n",
       "    var status_bar = $('<span class=\"mpl-message\" style=\"text-align:right; float: right;\"/>');\n",
       "    nav_element.append(status_bar);\n",
       "    this.message = status_bar[0];\n",
       "\n",
       "    // Add the close button to the window.\n",
       "    var buttongrp = $('<div class=\"btn-group inline pull-right\"></div>');\n",
       "    var button = $('<button class=\"btn btn-mini btn-primary\" href=\"#\" title=\"Stop Interaction\"><i class=\"fa fa-power-off icon-remove icon-large\"></i></button>');\n",
       "    button.click(function (evt) { fig.handle_close(fig, {}); } );\n",
       "    button.mouseover('Stop Interaction', toolbar_mouse_event);\n",
       "    buttongrp.append(button);\n",
       "    var titlebar = this.root.find($('.ui-dialog-titlebar'));\n",
       "    titlebar.prepend(buttongrp);\n",
       "}\n",
       "\n",
       "mpl.figure.prototype._root_extra_style = function(el){\n",
       "    var fig = this\n",
       "    el.on(\"remove\", function(){\n",
       "\tfig.close_ws(fig, {});\n",
       "    });\n",
       "}\n",
       "\n",
       "mpl.figure.prototype._canvas_extra_style = function(el){\n",
       "    // this is important to make the div 'focusable\n",
       "    el.attr('tabindex', 0)\n",
       "    // reach out to IPython and tell the keyboard manager to turn it's self\n",
       "    // off when our div gets focus\n",
       "\n",
       "    // location in version 3\n",
       "    if (IPython.notebook.keyboard_manager) {\n",
       "        IPython.notebook.keyboard_manager.register_events(el);\n",
       "    }\n",
       "    else {\n",
       "        // location in version 2\n",
       "        IPython.keyboard_manager.register_events(el);\n",
       "    }\n",
       "\n",
       "}\n",
       "\n",
       "mpl.figure.prototype._key_event_extra = function(event, name) {\n",
       "    var manager = IPython.notebook.keyboard_manager;\n",
       "    if (!manager)\n",
       "        manager = IPython.keyboard_manager;\n",
       "\n",
       "    // Check for shift+enter\n",
       "    if (event.shiftKey && event.which == 13) {\n",
       "        this.canvas_div.blur();\n",
       "        event.shiftKey = false;\n",
       "        // Send a \"J\" for go to next cell\n",
       "        event.which = 74;\n",
       "        event.keyCode = 74;\n",
       "        manager.command_mode();\n",
       "        manager.handle_keydown(event);\n",
       "    }\n",
       "}\n",
       "\n",
       "mpl.figure.prototype.handle_save = function(fig, msg) {\n",
       "    fig.ondownload(fig, null);\n",
       "}\n",
       "\n",
       "\n",
       "mpl.find_output_cell = function(html_output) {\n",
       "    // Return the cell and output element which can be found *uniquely* in the notebook.\n",
       "    // Note - this is a bit hacky, but it is done because the \"notebook_saving.Notebook\"\n",
       "    // IPython event is triggered only after the cells have been serialised, which for\n",
       "    // our purposes (turning an active figure into a static one), is too late.\n",
       "    var cells = IPython.notebook.get_cells();\n",
       "    var ncells = cells.length;\n",
       "    for (var i=0; i<ncells; i++) {\n",
       "        var cell = cells[i];\n",
       "        if (cell.cell_type === 'code'){\n",
       "            for (var j=0; j<cell.output_area.outputs.length; j++) {\n",
       "                var data = cell.output_area.outputs[j];\n",
       "                if (data.data) {\n",
       "                    // IPython >= 3 moved mimebundle to data attribute of output\n",
       "                    data = data.data;\n",
       "                }\n",
       "                if (data['text/html'] == html_output) {\n",
       "                    return [cell, data, j];\n",
       "                }\n",
       "            }\n",
       "        }\n",
       "    }\n",
       "}\n",
       "\n",
       "// Register the function which deals with the matplotlib target/channel.\n",
       "// The kernel may be null if the page has been refreshed.\n",
       "if (IPython.notebook.kernel != null) {\n",
       "    IPython.notebook.kernel.comm_manager.register_target('matplotlib', mpl.mpl_figure_comm);\n",
       "}\n"
      ],
      "text/plain": [
       "<IPython.core.display.Javascript object>"
      ]
     },
     "metadata": {},
     "output_type": "display_data"
    },
    {
     "data": {
      "text/html": [
       "<img src=\"data:image/png;base64,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\" width=\"640\">"
      ],
      "text/plain": [
       "<IPython.core.display.HTML object>"
      ]
     },
     "metadata": {},
     "output_type": "display_data"
    }
   ],
   "source": [
    "xgb.plot_importance(first_xgb)\n",
    "plt.show()"
   ]
  },
  {
   "cell_type": "markdown",
   "metadata": {},
   "source": [
    "## For Test Data"
   ]
  },
  {
   "cell_type": "code",
   "execution_count": 73,
   "metadata": {},
   "outputs": [],
   "source": [
    "x_test = reg_test_df.drop(['user','movie','rating'], axis=1)\n",
    "y_test = reg_test_df['rating']\n",
    "\n",
    "y_test_pred = first_xgb.predict(x_test)\n",
    "rmse_test, mape_test = get_error_metrics(y_true=y_test.values, y_pred=y_test_pred)\n",
    "rmse_test, mape_test"
   ]
  },
  {
   "cell_type": "code",
   "execution_count": 78,
   "metadata": {
    "scrolled": true
   },
   "outputs": [
    {
     "name": "stdout",
     "output_type": "stream",
     "text": [
      "No. of predicted ratings with error between 0 and 1(inclusive) : 4905\n",
      "No. of predicted ratings with error between 1 and 2(inclusive) : 2612\n",
      "No. of predicted ratings with error between 2 and 3(inclusive) : 602\n",
      "No. of predicted ratings with error between 3 and 4(inclusive) : 89\n",
      "No. of predicted ratings with error > 4 : 0\n"
     ]
    }
   ],
   "source": [
    "print_error_dists(np.abs(y_test.values-y_test_pred))"
   ]
  },
  {
   "cell_type": "markdown",
   "metadata": {},
   "source": [
    " "
   ]
  },
  {
   "cell_type": "markdown",
   "metadata": {},
   "source": [
    "#### Storing these error metrics to our global dictionary.. "
   ]
  },
  {
   "cell_type": "code",
   "execution_count": 254,
   "metadata": {},
   "outputs": [
    {
     "data": {
      "text/plain": [
       "{'mape': 35.05026182158571,\n",
       " 'predictions': array([3.854013 , 2.3819778, 3.0049725, ..., 3.4059603, 3.237263 ,\n",
       "        3.0150583], dtype=float32),\n",
       " 'rmse': 1.1896540970709255}"
      ]
     },
     "execution_count": 254,
     "metadata": {},
     "output_type": "execute_result"
    }
   ],
   "source": [
    "models_evaluation_test['first_xgb'] = {'rmse': rmse_test, 'mape':mape_test}\n",
    "models_evaluation_test['first_xgb']['predictions'] = y_test_pred\n",
    "\n",
    "models_evaluation_test['first_xgb']"
   ]
  },
  {
   "cell_type": "markdown",
   "metadata": {},
   "source": [
    " "
   ]
  },
  {
   "cell_type": "code",
   "execution_count": 82,
   "metadata": {},
   "outputs": [
    {
     "data": {
      "application/javascript": [
       "/* Put everything inside the global mpl namespace */\n",
       "window.mpl = {};\n",
       "\n",
       "\n",
       "mpl.get_websocket_type = function() {\n",
       "    if (typeof(WebSocket) !== 'undefined') {\n",
       "        return WebSocket;\n",
       "    } else if (typeof(MozWebSocket) !== 'undefined') {\n",
       "        return MozWebSocket;\n",
       "    } else {\n",
       "        alert('Your browser does not have WebSocket support.' +\n",
       "              'Please try Chrome, Safari or Firefox ≥ 6. ' +\n",
       "              'Firefox 4 and 5 are also supported but you ' +\n",
       "              'have to enable WebSockets in about:config.');\n",
       "    };\n",
       "}\n",
       "\n",
       "mpl.figure = function(figure_id, websocket, ondownload, parent_element) {\n",
       "    this.id = figure_id;\n",
       "\n",
       "    this.ws = websocket;\n",
       "\n",
       "    this.supports_binary = (this.ws.binaryType != undefined);\n",
       "\n",
       "    if (!this.supports_binary) {\n",
       "        var warnings = document.getElementById(\"mpl-warnings\");\n",
       "        if (warnings) {\n",
       "            warnings.style.display = 'block';\n",
       "            warnings.textContent = (\n",
       "                \"This browser does not support binary websocket messages. \" +\n",
       "                    \"Performance may be slow.\");\n",
       "        }\n",
       "    }\n",
       "\n",
       "    this.imageObj = new Image();\n",
       "\n",
       "    this.context = undefined;\n",
       "    this.message = undefined;\n",
       "    this.canvas = undefined;\n",
       "    this.rubberband_canvas = undefined;\n",
       "    this.rubberband_context = undefined;\n",
       "    this.format_dropdown = undefined;\n",
       "\n",
       "    this.image_mode = 'full';\n",
       "\n",
       "    this.root = $('<div/>');\n",
       "    this._root_extra_style(this.root)\n",
       "    this.root.attr('style', 'display: inline-block');\n",
       "\n",
       "    $(parent_element).append(this.root);\n",
       "\n",
       "    this._init_header(this);\n",
       "    this._init_canvas(this);\n",
       "    this._init_toolbar(this);\n",
       "\n",
       "    var fig = this;\n",
       "\n",
       "    this.waiting = false;\n",
       "\n",
       "    this.ws.onopen =  function () {\n",
       "            fig.send_message(\"supports_binary\", {value: fig.supports_binary});\n",
       "            fig.send_message(\"send_image_mode\", {});\n",
       "            if (mpl.ratio != 1) {\n",
       "                fig.send_message(\"set_dpi_ratio\", {'dpi_ratio': mpl.ratio});\n",
       "            }\n",
       "            fig.send_message(\"refresh\", {});\n",
       "        }\n",
       "\n",
       "    this.imageObj.onload = function() {\n",
       "            if (fig.image_mode == 'full') {\n",
       "                // Full images could contain transparency (where diff images\n",
       "                // almost always do), so we need to clear the canvas so that\n",
       "                // there is no ghosting.\n",
       "                fig.context.clearRect(0, 0, fig.canvas.width, fig.canvas.height);\n",
       "            }\n",
       "            fig.context.drawImage(fig.imageObj, 0, 0);\n",
       "        };\n",
       "\n",
       "    this.imageObj.onunload = function() {\n",
       "        fig.ws.close();\n",
       "    }\n",
       "\n",
       "    this.ws.onmessage = this._make_on_message_function(this);\n",
       "\n",
       "    this.ondownload = ondownload;\n",
       "}\n",
       "\n",
       "mpl.figure.prototype._init_header = function() {\n",
       "    var titlebar = $(\n",
       "        '<div class=\"ui-dialog-titlebar ui-widget-header ui-corner-all ' +\n",
       "        'ui-helper-clearfix\"/>');\n",
       "    var titletext = $(\n",
       "        '<div class=\"ui-dialog-title\" style=\"width: 100%; ' +\n",
       "        'text-align: center; padding: 3px;\"/>');\n",
       "    titlebar.append(titletext)\n",
       "    this.root.append(titlebar);\n",
       "    this.header = titletext[0];\n",
       "}\n",
       "\n",
       "\n",
       "\n",
       "mpl.figure.prototype._canvas_extra_style = function(canvas_div) {\n",
       "\n",
       "}\n",
       "\n",
       "\n",
       "mpl.figure.prototype._root_extra_style = function(canvas_div) {\n",
       "\n",
       "}\n",
       "\n",
       "mpl.figure.prototype._init_canvas = function() {\n",
       "    var fig = this;\n",
       "\n",
       "    var canvas_div = $('<div/>');\n",
       "\n",
       "    canvas_div.attr('style', 'position: relative; clear: both; outline: 0');\n",
       "\n",
       "    function canvas_keyboard_event(event) {\n",
       "        return fig.key_event(event, event['data']);\n",
       "    }\n",
       "\n",
       "    canvas_div.keydown('key_press', canvas_keyboard_event);\n",
       "    canvas_div.keyup('key_release', canvas_keyboard_event);\n",
       "    this.canvas_div = canvas_div\n",
       "    this._canvas_extra_style(canvas_div)\n",
       "    this.root.append(canvas_div);\n",
       "\n",
       "    var canvas = $('<canvas/>');\n",
       "    canvas.addClass('mpl-canvas');\n",
       "    canvas.attr('style', \"left: 0; top: 0; z-index: 0; outline: 0\")\n",
       "\n",
       "    this.canvas = canvas[0];\n",
       "    this.context = canvas[0].getContext(\"2d\");\n",
       "\n",
       "    var backingStore = this.context.backingStorePixelRatio ||\n",
       "\tthis.context.webkitBackingStorePixelRatio ||\n",
       "\tthis.context.mozBackingStorePixelRatio ||\n",
       "\tthis.context.msBackingStorePixelRatio ||\n",
       "\tthis.context.oBackingStorePixelRatio ||\n",
       "\tthis.context.backingStorePixelRatio || 1;\n",
       "\n",
       "    mpl.ratio = (window.devicePixelRatio || 1) / backingStore;\n",
       "\n",
       "    var rubberband = $('<canvas/>');\n",
       "    rubberband.attr('style', \"position: absolute; left: 0; top: 0; z-index: 1;\")\n",
       "\n",
       "    var pass_mouse_events = true;\n",
       "\n",
       "    canvas_div.resizable({\n",
       "        start: function(event, ui) {\n",
       "            pass_mouse_events = false;\n",
       "        },\n",
       "        resize: function(event, ui) {\n",
       "            fig.request_resize(ui.size.width, ui.size.height);\n",
       "        },\n",
       "        stop: function(event, ui) {\n",
       "            pass_mouse_events = true;\n",
       "            fig.request_resize(ui.size.width, ui.size.height);\n",
       "        },\n",
       "    });\n",
       "\n",
       "    function mouse_event_fn(event) {\n",
       "        if (pass_mouse_events)\n",
       "            return fig.mouse_event(event, event['data']);\n",
       "    }\n",
       "\n",
       "    rubberband.mousedown('button_press', mouse_event_fn);\n",
       "    rubberband.mouseup('button_release', mouse_event_fn);\n",
       "    // Throttle sequential mouse events to 1 every 20ms.\n",
       "    rubberband.mousemove('motion_notify', mouse_event_fn);\n",
       "\n",
       "    rubberband.mouseenter('figure_enter', mouse_event_fn);\n",
       "    rubberband.mouseleave('figure_leave', mouse_event_fn);\n",
       "\n",
       "    canvas_div.on(\"wheel\", function (event) {\n",
       "        event = event.originalEvent;\n",
       "        event['data'] = 'scroll'\n",
       "        if (event.deltaY < 0) {\n",
       "            event.step = 1;\n",
       "        } else {\n",
       "            event.step = -1;\n",
       "        }\n",
       "        mouse_event_fn(event);\n",
       "    });\n",
       "\n",
       "    canvas_div.append(canvas);\n",
       "    canvas_div.append(rubberband);\n",
       "\n",
       "    this.rubberband = rubberband;\n",
       "    this.rubberband_canvas = rubberband[0];\n",
       "    this.rubberband_context = rubberband[0].getContext(\"2d\");\n",
       "    this.rubberband_context.strokeStyle = \"#000000\";\n",
       "\n",
       "    this._resize_canvas = function(width, height) {\n",
       "        // Keep the size of the canvas, canvas container, and rubber band\n",
       "        // canvas in synch.\n",
       "        canvas_div.css('width', width)\n",
       "        canvas_div.css('height', height)\n",
       "\n",
       "        canvas.attr('width', width * mpl.ratio);\n",
       "        canvas.attr('height', height * mpl.ratio);\n",
       "        canvas.attr('style', 'width: ' + width + 'px; height: ' + height + 'px;');\n",
       "\n",
       "        rubberband.attr('width', width);\n",
       "        rubberband.attr('height', height);\n",
       "    }\n",
       "\n",
       "    // Set the figure to an initial 600x600px, this will subsequently be updated\n",
       "    // upon first draw.\n",
       "    this._resize_canvas(600, 600);\n",
       "\n",
       "    // Disable right mouse context menu.\n",
       "    $(this.rubberband_canvas).bind(\"contextmenu\",function(e){\n",
       "        return false;\n",
       "    });\n",
       "\n",
       "    function set_focus () {\n",
       "        canvas.focus();\n",
       "        canvas_div.focus();\n",
       "    }\n",
       "\n",
       "    window.setTimeout(set_focus, 100);\n",
       "}\n",
       "\n",
       "mpl.figure.prototype._init_toolbar = function() {\n",
       "    var fig = this;\n",
       "\n",
       "    var nav_element = $('<div/>')\n",
       "    nav_element.attr('style', 'width: 100%');\n",
       "    this.root.append(nav_element);\n",
       "\n",
       "    // Define a callback function for later on.\n",
       "    function toolbar_event(event) {\n",
       "        return fig.toolbar_button_onclick(event['data']);\n",
       "    }\n",
       "    function toolbar_mouse_event(event) {\n",
       "        return fig.toolbar_button_onmouseover(event['data']);\n",
       "    }\n",
       "\n",
       "    for(var toolbar_ind in mpl.toolbar_items) {\n",
       "        var name = mpl.toolbar_items[toolbar_ind][0];\n",
       "        var tooltip = mpl.toolbar_items[toolbar_ind][1];\n",
       "        var image = mpl.toolbar_items[toolbar_ind][2];\n",
       "        var method_name = mpl.toolbar_items[toolbar_ind][3];\n",
       "\n",
       "        if (!name) {\n",
       "            // put a spacer in here.\n",
       "            continue;\n",
       "        }\n",
       "        var button = $('<button/>');\n",
       "        button.addClass('ui-button ui-widget ui-state-default ui-corner-all ' +\n",
       "                        'ui-button-icon-only');\n",
       "        button.attr('role', 'button');\n",
       "        button.attr('aria-disabled', 'false');\n",
       "        button.click(method_name, toolbar_event);\n",
       "        button.mouseover(tooltip, toolbar_mouse_event);\n",
       "\n",
       "        var icon_img = $('<span/>');\n",
       "        icon_img.addClass('ui-button-icon-primary ui-icon');\n",
       "        icon_img.addClass(image);\n",
       "        icon_img.addClass('ui-corner-all');\n",
       "\n",
       "        var tooltip_span = $('<span/>');\n",
       "        tooltip_span.addClass('ui-button-text');\n",
       "        tooltip_span.html(tooltip);\n",
       "\n",
       "        button.append(icon_img);\n",
       "        button.append(tooltip_span);\n",
       "\n",
       "        nav_element.append(button);\n",
       "    }\n",
       "\n",
       "    var fmt_picker_span = $('<span/>');\n",
       "\n",
       "    var fmt_picker = $('<select/>');\n",
       "    fmt_picker.addClass('mpl-toolbar-option ui-widget ui-widget-content');\n",
       "    fmt_picker_span.append(fmt_picker);\n",
       "    nav_element.append(fmt_picker_span);\n",
       "    this.format_dropdown = fmt_picker[0];\n",
       "\n",
       "    for (var ind in mpl.extensions) {\n",
       "        var fmt = mpl.extensions[ind];\n",
       "        var option = $(\n",
       "            '<option/>', {selected: fmt === mpl.default_extension}).html(fmt);\n",
       "        fmt_picker.append(option)\n",
       "    }\n",
       "\n",
       "    // Add hover states to the ui-buttons\n",
       "    $( \".ui-button\" ).hover(\n",
       "        function() { $(this).addClass(\"ui-state-hover\");},\n",
       "        function() { $(this).removeClass(\"ui-state-hover\");}\n",
       "    );\n",
       "\n",
       "    var status_bar = $('<span class=\"mpl-message\"/>');\n",
       "    nav_element.append(status_bar);\n",
       "    this.message = status_bar[0];\n",
       "}\n",
       "\n",
       "mpl.figure.prototype.request_resize = function(x_pixels, y_pixels) {\n",
       "    // Request matplotlib to resize the figure. Matplotlib will then trigger a resize in the client,\n",
       "    // which will in turn request a refresh of the image.\n",
       "    this.send_message('resize', {'width': x_pixels, 'height': y_pixels});\n",
       "}\n",
       "\n",
       "mpl.figure.prototype.send_message = function(type, properties) {\n",
       "    properties['type'] = type;\n",
       "    properties['figure_id'] = this.id;\n",
       "    this.ws.send(JSON.stringify(properties));\n",
       "}\n",
       "\n",
       "mpl.figure.prototype.send_draw_message = function() {\n",
       "    if (!this.waiting) {\n",
       "        this.waiting = true;\n",
       "        this.ws.send(JSON.stringify({type: \"draw\", figure_id: this.id}));\n",
       "    }\n",
       "}\n",
       "\n",
       "\n",
       "mpl.figure.prototype.handle_save = function(fig, msg) {\n",
       "    var format_dropdown = fig.format_dropdown;\n",
       "    var format = format_dropdown.options[format_dropdown.selectedIndex].value;\n",
       "    fig.ondownload(fig, format);\n",
       "}\n",
       "\n",
       "\n",
       "mpl.figure.prototype.handle_resize = function(fig, msg) {\n",
       "    var size = msg['size'];\n",
       "    if (size[0] != fig.canvas.width || size[1] != fig.canvas.height) {\n",
       "        fig._resize_canvas(size[0], size[1]);\n",
       "        fig.send_message(\"refresh\", {});\n",
       "    };\n",
       "}\n",
       "\n",
       "mpl.figure.prototype.handle_rubberband = function(fig, msg) {\n",
       "    var x0 = msg['x0'] / mpl.ratio;\n",
       "    var y0 = (fig.canvas.height - msg['y0']) / mpl.ratio;\n",
       "    var x1 = msg['x1'] / mpl.ratio;\n",
       "    var y1 = (fig.canvas.height - msg['y1']) / mpl.ratio;\n",
       "    x0 = Math.floor(x0) + 0.5;\n",
       "    y0 = Math.floor(y0) + 0.5;\n",
       "    x1 = Math.floor(x1) + 0.5;\n",
       "    y1 = Math.floor(y1) + 0.5;\n",
       "    var min_x = Math.min(x0, x1);\n",
       "    var min_y = Math.min(y0, y1);\n",
       "    var width = Math.abs(x1 - x0);\n",
       "    var height = Math.abs(y1 - y0);\n",
       "\n",
       "    fig.rubberband_context.clearRect(\n",
       "        0, 0, fig.canvas.width, fig.canvas.height);\n",
       "\n",
       "    fig.rubberband_context.strokeRect(min_x, min_y, width, height);\n",
       "}\n",
       "\n",
       "mpl.figure.prototype.handle_figure_label = function(fig, msg) {\n",
       "    // Updates the figure title.\n",
       "    fig.header.textContent = msg['label'];\n",
       "}\n",
       "\n",
       "mpl.figure.prototype.handle_cursor = function(fig, msg) {\n",
       "    var cursor = msg['cursor'];\n",
       "    switch(cursor)\n",
       "    {\n",
       "    case 0:\n",
       "        cursor = 'pointer';\n",
       "        break;\n",
       "    case 1:\n",
       "        cursor = 'default';\n",
       "        break;\n",
       "    case 2:\n",
       "        cursor = 'crosshair';\n",
       "        break;\n",
       "    case 3:\n",
       "        cursor = 'move';\n",
       "        break;\n",
       "    }\n",
       "    fig.rubberband_canvas.style.cursor = cursor;\n",
       "}\n",
       "\n",
       "mpl.figure.prototype.handle_message = function(fig, msg) {\n",
       "    fig.message.textContent = msg['message'];\n",
       "}\n",
       "\n",
       "mpl.figure.prototype.handle_draw = function(fig, msg) {\n",
       "    // Request the server to send over a new figure.\n",
       "    fig.send_draw_message();\n",
       "}\n",
       "\n",
       "mpl.figure.prototype.handle_image_mode = function(fig, msg) {\n",
       "    fig.image_mode = msg['mode'];\n",
       "}\n",
       "\n",
       "mpl.figure.prototype.updated_canvas_event = function() {\n",
       "    // Called whenever the canvas gets updated.\n",
       "    this.send_message(\"ack\", {});\n",
       "}\n",
       "\n",
       "// A function to construct a web socket function for onmessage handling.\n",
       "// Called in the figure constructor.\n",
       "mpl.figure.prototype._make_on_message_function = function(fig) {\n",
       "    return function socket_on_message(evt) {\n",
       "        if (evt.data instanceof Blob) {\n",
       "            /* FIXME: We get \"Resource interpreted as Image but\n",
       "             * transferred with MIME type text/plain:\" errors on\n",
       "             * Chrome.  But how to set the MIME type?  It doesn't seem\n",
       "             * to be part of the websocket stream */\n",
       "            evt.data.type = \"image/png\";\n",
       "\n",
       "            /* Free the memory for the previous frames */\n",
       "            if (fig.imageObj.src) {\n",
       "                (window.URL || window.webkitURL).revokeObjectURL(\n",
       "                    fig.imageObj.src);\n",
       "            }\n",
       "\n",
       "            fig.imageObj.src = (window.URL || window.webkitURL).createObjectURL(\n",
       "                evt.data);\n",
       "            fig.updated_canvas_event();\n",
       "            fig.waiting = false;\n",
       "            return;\n",
       "        }\n",
       "        else if (typeof evt.data === 'string' && evt.data.slice(0, 21) == \"data:image/png;base64\") {\n",
       "            fig.imageObj.src = evt.data;\n",
       "            fig.updated_canvas_event();\n",
       "            fig.waiting = false;\n",
       "            return;\n",
       "        }\n",
       "\n",
       "        var msg = JSON.parse(evt.data);\n",
       "        var msg_type = msg['type'];\n",
       "\n",
       "        // Call the  \"handle_{type}\" callback, which takes\n",
       "        // the figure and JSON message as its only arguments.\n",
       "        try {\n",
       "            var callback = fig[\"handle_\" + msg_type];\n",
       "        } catch (e) {\n",
       "            console.log(\"No handler for the '\" + msg_type + \"' message type: \", msg);\n",
       "            return;\n",
       "        }\n",
       "\n",
       "        if (callback) {\n",
       "            try {\n",
       "                // console.log(\"Handling '\" + msg_type + \"' message: \", msg);\n",
       "                callback(fig, msg);\n",
       "            } catch (e) {\n",
       "                console.log(\"Exception inside the 'handler_\" + msg_type + \"' callback:\", e, e.stack, msg);\n",
       "            }\n",
       "        }\n",
       "    };\n",
       "}\n",
       "\n",
       "// from http://stackoverflow.com/questions/1114465/getting-mouse-location-in-canvas\n",
       "mpl.findpos = function(e) {\n",
       "    //this section is from http://www.quirksmode.org/js/events_properties.html\n",
       "    var targ;\n",
       "    if (!e)\n",
       "        e = window.event;\n",
       "    if (e.target)\n",
       "        targ = e.target;\n",
       "    else if (e.srcElement)\n",
       "        targ = e.srcElement;\n",
       "    if (targ.nodeType == 3) // defeat Safari bug\n",
       "        targ = targ.parentNode;\n",
       "\n",
       "    // jQuery normalizes the pageX and pageY\n",
       "    // pageX,Y are the mouse positions relative to the document\n",
       "    // offset() returns the position of the element relative to the document\n",
       "    var x = e.pageX - $(targ).offset().left;\n",
       "    var y = e.pageY - $(targ).offset().top;\n",
       "\n",
       "    return {\"x\": x, \"y\": y};\n",
       "};\n",
       "\n",
       "/*\n",
       " * return a copy of an object with only non-object keys\n",
       " * we need this to avoid circular references\n",
       " * http://stackoverflow.com/a/24161582/3208463\n",
       " */\n",
       "function simpleKeys (original) {\n",
       "  return Object.keys(original).reduce(function (obj, key) {\n",
       "    if (typeof original[key] !== 'object')\n",
       "        obj[key] = original[key]\n",
       "    return obj;\n",
       "  }, {});\n",
       "}\n",
       "\n",
       "mpl.figure.prototype.mouse_event = function(event, name) {\n",
       "    var canvas_pos = mpl.findpos(event)\n",
       "\n",
       "    if (name === 'button_press')\n",
       "    {\n",
       "        this.canvas.focus();\n",
       "        this.canvas_div.focus();\n",
       "    }\n",
       "\n",
       "    var x = canvas_pos.x * mpl.ratio;\n",
       "    var y = canvas_pos.y * mpl.ratio;\n",
       "\n",
       "    this.send_message(name, {x: x, y: y, button: event.button,\n",
       "                             step: event.step,\n",
       "                             guiEvent: simpleKeys(event)});\n",
       "\n",
       "    /* This prevents the web browser from automatically changing to\n",
       "     * the text insertion cursor when the button is pressed.  We want\n",
       "     * to control all of the cursor setting manually through the\n",
       "     * 'cursor' event from matplotlib */\n",
       "    event.preventDefault();\n",
       "    return false;\n",
       "}\n",
       "\n",
       "mpl.figure.prototype._key_event_extra = function(event, name) {\n",
       "    // Handle any extra behaviour associated with a key event\n",
       "}\n",
       "\n",
       "mpl.figure.prototype.key_event = function(event, name) {\n",
       "\n",
       "    // Prevent repeat events\n",
       "    if (name == 'key_press')\n",
       "    {\n",
       "        if (event.which === this._key)\n",
       "            return;\n",
       "        else\n",
       "            this._key = event.which;\n",
       "    }\n",
       "    if (name == 'key_release')\n",
       "        this._key = null;\n",
       "\n",
       "    var value = '';\n",
       "    if (event.ctrlKey && event.which != 17)\n",
       "        value += \"ctrl+\";\n",
       "    if (event.altKey && event.which != 18)\n",
       "        value += \"alt+\";\n",
       "    if (event.shiftKey && event.which != 16)\n",
       "        value += \"shift+\";\n",
       "\n",
       "    value += 'k';\n",
       "    value += event.which.toString();\n",
       "\n",
       "    this._key_event_extra(event, name);\n",
       "\n",
       "    this.send_message(name, {key: value,\n",
       "                             guiEvent: simpleKeys(event)});\n",
       "    return false;\n",
       "}\n",
       "\n",
       "mpl.figure.prototype.toolbar_button_onclick = function(name) {\n",
       "    if (name == 'download') {\n",
       "        this.handle_save(this, null);\n",
       "    } else {\n",
       "        this.send_message(\"toolbar_button\", {name: name});\n",
       "    }\n",
       "};\n",
       "\n",
       "mpl.figure.prototype.toolbar_button_onmouseover = function(tooltip) {\n",
       "    this.message.textContent = tooltip;\n",
       "};\n",
       "mpl.toolbar_items = [[\"Home\", \"Reset original view\", \"fa fa-home icon-home\", \"home\"], [\"Back\", \"Back to  previous view\", \"fa fa-arrow-left icon-arrow-left\", \"back\"], [\"Forward\", \"Forward to next view\", \"fa fa-arrow-right icon-arrow-right\", \"forward\"], [\"\", \"\", \"\", \"\"], [\"Pan\", \"Pan axes with left mouse, zoom with right\", \"fa fa-arrows icon-move\", \"pan\"], [\"Zoom\", \"Zoom to rectangle\", \"fa fa-square-o icon-check-empty\", \"zoom\"], [\"\", \"\", \"\", \"\"], [\"Download\", \"Download plot\", \"fa fa-floppy-o icon-save\", \"download\"]];\n",
       "\n",
       "mpl.extensions = [\"eps\", \"jpeg\", \"pdf\", \"png\", \"ps\", \"raw\", \"svg\", \"tif\"];\n",
       "\n",
       "mpl.default_extension = \"png\";var comm_websocket_adapter = function(comm) {\n",
       "    // Create a \"websocket\"-like object which calls the given IPython comm\n",
       "    // object with the appropriate methods. Currently this is a non binary\n",
       "    // socket, so there is still some room for performance tuning.\n",
       "    var ws = {};\n",
       "\n",
       "    ws.close = function() {\n",
       "        comm.close()\n",
       "    };\n",
       "    ws.send = function(m) {\n",
       "        //console.log('sending', m);\n",
       "        comm.send(m);\n",
       "    };\n",
       "    // Register the callback with on_msg.\n",
       "    comm.on_msg(function(msg) {\n",
       "        //console.log('receiving', msg['content']['data'], msg);\n",
       "        // Pass the mpl event to the overriden (by mpl) onmessage function.\n",
       "        ws.onmessage(msg['content']['data'])\n",
       "    });\n",
       "    return ws;\n",
       "}\n",
       "\n",
       "mpl.mpl_figure_comm = function(comm, msg) {\n",
       "    // This is the function which gets called when the mpl process\n",
       "    // starts-up an IPython Comm through the \"matplotlib\" channel.\n",
       "\n",
       "    var id = msg.content.data.id;\n",
       "    // Get hold of the div created by the display call when the Comm\n",
       "    // socket was opened in Python.\n",
       "    var element = $(\"#\" + id);\n",
       "    var ws_proxy = comm_websocket_adapter(comm)\n",
       "\n",
       "    function ondownload(figure, format) {\n",
       "        window.open(figure.imageObj.src);\n",
       "    }\n",
       "\n",
       "    var fig = new mpl.figure(id, ws_proxy,\n",
       "                           ondownload,\n",
       "                           element.get(0));\n",
       "\n",
       "    // Call onopen now - mpl needs it, as it is assuming we've passed it a real\n",
       "    // web socket which is closed, not our websocket->open comm proxy.\n",
       "    ws_proxy.onopen();\n",
       "\n",
       "    fig.parent_element = element.get(0);\n",
       "    fig.cell_info = mpl.find_output_cell(\"<div id='\" + id + \"'></div>\");\n",
       "    if (!fig.cell_info) {\n",
       "        console.error(\"Failed to find cell for figure\", id, fig);\n",
       "        return;\n",
       "    }\n",
       "\n",
       "    var output_index = fig.cell_info[2]\n",
       "    var cell = fig.cell_info[0];\n",
       "\n",
       "};\n",
       "\n",
       "mpl.figure.prototype.handle_close = function(fig, msg) {\n",
       "    var width = fig.canvas.width/mpl.ratio\n",
       "    fig.root.unbind('remove')\n",
       "\n",
       "    // Update the output cell to use the data from the current canvas.\n",
       "    fig.push_to_output();\n",
       "    var dataURL = fig.canvas.toDataURL();\n",
       "    // Re-enable the keyboard manager in IPython - without this line, in FF,\n",
       "    // the notebook keyboard shortcuts fail.\n",
       "    IPython.keyboard_manager.enable()\n",
       "    $(fig.parent_element).html('<img src=\"' + dataURL + '\" width=\"' + width + '\">');\n",
       "    fig.close_ws(fig, msg);\n",
       "}\n",
       "\n",
       "mpl.figure.prototype.close_ws = function(fig, msg){\n",
       "    fig.send_message('closing', msg);\n",
       "    // fig.ws.close()\n",
       "}\n",
       "\n",
       "mpl.figure.prototype.push_to_output = function(remove_interactive) {\n",
       "    // Turn the data on the canvas into data in the output cell.\n",
       "    var width = this.canvas.width/mpl.ratio\n",
       "    var dataURL = this.canvas.toDataURL();\n",
       "    this.cell_info[1]['text/html'] = '<img src=\"' + dataURL + '\" width=\"' + width + '\">';\n",
       "}\n",
       "\n",
       "mpl.figure.prototype.updated_canvas_event = function() {\n",
       "    // Tell IPython that the notebook contents must change.\n",
       "    IPython.notebook.set_dirty(true);\n",
       "    this.send_message(\"ack\", {});\n",
       "    var fig = this;\n",
       "    // Wait a second, then push the new image to the DOM so\n",
       "    // that it is saved nicely (might be nice to debounce this).\n",
       "    setTimeout(function () { fig.push_to_output() }, 1000);\n",
       "}\n",
       "\n",
       "mpl.figure.prototype._init_toolbar = function() {\n",
       "    var fig = this;\n",
       "\n",
       "    var nav_element = $('<div/>')\n",
       "    nav_element.attr('style', 'width: 100%');\n",
       "    this.root.append(nav_element);\n",
       "\n",
       "    // Define a callback function for later on.\n",
       "    function toolbar_event(event) {\n",
       "        return fig.toolbar_button_onclick(event['data']);\n",
       "    }\n",
       "    function toolbar_mouse_event(event) {\n",
       "        return fig.toolbar_button_onmouseover(event['data']);\n",
       "    }\n",
       "\n",
       "    for(var toolbar_ind in mpl.toolbar_items){\n",
       "        var name = mpl.toolbar_items[toolbar_ind][0];\n",
       "        var tooltip = mpl.toolbar_items[toolbar_ind][1];\n",
       "        var image = mpl.toolbar_items[toolbar_ind][2];\n",
       "        var method_name = mpl.toolbar_items[toolbar_ind][3];\n",
       "\n",
       "        if (!name) { continue; };\n",
       "\n",
       "        var button = $('<button class=\"btn btn-default\" href=\"#\" title=\"' + name + '\"><i class=\"fa ' + image + ' fa-lg\"></i></button>');\n",
       "        button.click(method_name, toolbar_event);\n",
       "        button.mouseover(tooltip, toolbar_mouse_event);\n",
       "        nav_element.append(button);\n",
       "    }\n",
       "\n",
       "    // Add the status bar.\n",
       "    var status_bar = $('<span class=\"mpl-message\" style=\"text-align:right; float: right;\"/>');\n",
       "    nav_element.append(status_bar);\n",
       "    this.message = status_bar[0];\n",
       "\n",
       "    // Add the close button to the window.\n",
       "    var buttongrp = $('<div class=\"btn-group inline pull-right\"></div>');\n",
       "    var button = $('<button class=\"btn btn-mini btn-primary\" href=\"#\" title=\"Stop Interaction\"><i class=\"fa fa-power-off icon-remove icon-large\"></i></button>');\n",
       "    button.click(function (evt) { fig.handle_close(fig, {}); } );\n",
       "    button.mouseover('Stop Interaction', toolbar_mouse_event);\n",
       "    buttongrp.append(button);\n",
       "    var titlebar = this.root.find($('.ui-dialog-titlebar'));\n",
       "    titlebar.prepend(buttongrp);\n",
       "}\n",
       "\n",
       "mpl.figure.prototype._root_extra_style = function(el){\n",
       "    var fig = this\n",
       "    el.on(\"remove\", function(){\n",
       "\tfig.close_ws(fig, {});\n",
       "    });\n",
       "}\n",
       "\n",
       "mpl.figure.prototype._canvas_extra_style = function(el){\n",
       "    // this is important to make the div 'focusable\n",
       "    el.attr('tabindex', 0)\n",
       "    // reach out to IPython and tell the keyboard manager to turn it's self\n",
       "    // off when our div gets focus\n",
       "\n",
       "    // location in version 3\n",
       "    if (IPython.notebook.keyboard_manager) {\n",
       "        IPython.notebook.keyboard_manager.register_events(el);\n",
       "    }\n",
       "    else {\n",
       "        // location in version 2\n",
       "        IPython.keyboard_manager.register_events(el);\n",
       "    }\n",
       "\n",
       "}\n",
       "\n",
       "mpl.figure.prototype._key_event_extra = function(event, name) {\n",
       "    var manager = IPython.notebook.keyboard_manager;\n",
       "    if (!manager)\n",
       "        manager = IPython.keyboard_manager;\n",
       "\n",
       "    // Check for shift+enter\n",
       "    if (event.shiftKey && event.which == 13) {\n",
       "        this.canvas_div.blur();\n",
       "        event.shiftKey = false;\n",
       "        // Send a \"J\" for go to next cell\n",
       "        event.which = 74;\n",
       "        event.keyCode = 74;\n",
       "        manager.command_mode();\n",
       "        manager.handle_keydown(event);\n",
       "    }\n",
       "}\n",
       "\n",
       "mpl.figure.prototype.handle_save = function(fig, msg) {\n",
       "    fig.ondownload(fig, null);\n",
       "}\n",
       "\n",
       "\n",
       "mpl.find_output_cell = function(html_output) {\n",
       "    // Return the cell and output element which can be found *uniquely* in the notebook.\n",
       "    // Note - this is a bit hacky, but it is done because the \"notebook_saving.Notebook\"\n",
       "    // IPython event is triggered only after the cells have been serialised, which for\n",
       "    // our purposes (turning an active figure into a static one), is too late.\n",
       "    var cells = IPython.notebook.get_cells();\n",
       "    var ncells = cells.length;\n",
       "    for (var i=0; i<ncells; i++) {\n",
       "        var cell = cells[i];\n",
       "        if (cell.cell_type === 'code'){\n",
       "            for (var j=0; j<cell.output_area.outputs.length; j++) {\n",
       "                var data = cell.output_area.outputs[j];\n",
       "                if (data.data) {\n",
       "                    // IPython >= 3 moved mimebundle to data attribute of output\n",
       "                    data = data.data;\n",
       "                }\n",
       "                if (data['text/html'] == html_output) {\n",
       "                    return [cell, data, j];\n",
       "                }\n",
       "            }\n",
       "        }\n",
       "    }\n",
       "}\n",
       "\n",
       "// Register the function which deals with the matplotlib target/channel.\n",
       "// The kernel may be null if the page has been refreshed.\n",
       "if (IPython.notebook.kernel != null) {\n",
       "    IPython.notebook.kernel.comm_manager.register_target('matplotlib', mpl.mpl_figure_comm);\n",
       "}\n"
      ],
      "text/plain": [
       "<IPython.core.display.Javascript object>"
      ]
     },
     "metadata": {},
     "output_type": "display_data"
    },
    {
     "data": {
      "text/html": [
       "<img src=\"data:image/png;base64,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\" width=\"640\">"
      ],
      "text/plain": [
       "<IPython.core.display.HTML object>"
      ]
     },
     "metadata": {},
     "output_type": "display_data"
    }
   ],
   "source": [
    "sns.distplot(np.abs( (y_test.values-y_test_pred)/y_test.values), hist=False)\n",
    "plt.show()"
   ]
  },
  {
   "cell_type": "markdown",
   "metadata": {},
   "source": [
    "-----------------------------------------------------------------------------------------------------\n",
    "---\n",
    " "
   ]
  },
  {
   "cell_type": "markdown",
   "metadata": {},
   "source": [
    " \n",
    " "
   ]
  },
  {
   "cell_type": "markdown",
   "metadata": {},
   "source": [
    "-----------------------------------------------------------------------------------------------------\n",
    "---\n",
    " "
   ]
  },
  {
   "cell_type": "code",
   "execution_count": 88,
   "metadata": {},
   "outputs": [],
   "source": [
    "import random\n",
    "import numpy as np\n",
    "\n",
    "my_seed = 15\n",
    "random.seed(my_seed)\n",
    "np.random.seed(my_seed)"
   ]
  },
  {
   "cell_type": "markdown",
   "metadata": {},
   "source": [
    "## 1.2. Surprise -  CustomBaseLineModel \n",
    "    - with normal baseline model, we can't  count the number of cold start problems"
   ]
  },
  {
   "cell_type": "code",
   "execution_count": 89,
   "metadata": {},
   "outputs": [],
   "source": [
    "from surprise import Reader, Dataset, BaselineOnly"
   ]
  },
  {
   "cell_type": "markdown",
   "metadata": {},
   "source": [
    "- #### Predicted_rating : ( baseline prediction )"
   ]
  },
  {
   "cell_type": "markdown",
   "metadata": {},
   "source": [
    ">$   \\large {\\hat{r}_{ui} = b_{ui} =\\mu + b_u + b_i} $"
   ]
  },
  {
   "cell_type": "markdown",
   "metadata": {},
   "source": [
    "- ####  Optimization function ( Least Squares Problem )"
   ]
  },
  {
   "cell_type": "markdown",
   "metadata": {},
   "source": [
    "> $ \\large \\sum_{r_{ui} \\in R_{train}} \\left(r_{ui} - (\\mu + b_u + b_i)\\right)^2 +\n",
    "\\lambda \\left(b_u^2 + b_i^2 \\right).\\text {        [mimimize } {b_u, b_i]}$"
   ]
  },
  {
   "cell_type": "markdown",
   "metadata": {},
   "source": [
    "- #### Preparing TrainData for this baseline model from surprise"
   ]
  },
  {
   "cell_type": "code",
   "execution_count": 90,
   "metadata": {
    "scrolled": true
   },
   "outputs": [
    {
     "data": {
      "text/html": [
       "<div>\n",
       "<style scoped>\n",
       "    .dataframe tbody tr th:only-of-type {\n",
       "        vertical-align: middle;\n",
       "    }\n",
       "\n",
       "    .dataframe tbody tr th {\n",
       "        vertical-align: top;\n",
       "    }\n",
       "\n",
       "    .dataframe thead th {\n",
       "        text-align: right;\n",
       "    }\n",
       "</style>\n",
       "<table border=\"1\" class=\"dataframe\">\n",
       "  <thead>\n",
       "    <tr style=\"text-align: right;\">\n",
       "      <th></th>\n",
       "      <th>user</th>\n",
       "      <th>movie</th>\n",
       "      <th>GAvg</th>\n",
       "      <th>sur1</th>\n",
       "      <th>sur2</th>\n",
       "      <th>sur3</th>\n",
       "      <th>sur4</th>\n",
       "      <th>sur5</th>\n",
       "      <th>smr1</th>\n",
       "      <th>smr2</th>\n",
       "      <th>smr3</th>\n",
       "      <th>smr4</th>\n",
       "      <th>smr5</th>\n",
       "      <th>UAvg</th>\n",
       "      <th>MAvg</th>\n",
       "      <th>rating</th>\n",
       "    </tr>\n",
       "  </thead>\n",
       "  <tbody>\n",
       "    <tr>\n",
       "      <th>0</th>\n",
       "      <td>1590</td>\n",
       "      <td>0</td>\n",
       "      <td>3.624457</td>\n",
       "      <td>1.0</td>\n",
       "      <td>2.0</td>\n",
       "      <td>2.0</td>\n",
       "      <td>2.0</td>\n",
       "      <td>2.0</td>\n",
       "      <td>3.0</td>\n",
       "      <td>4.0</td>\n",
       "      <td>4.0</td>\n",
       "      <td>2.0</td>\n",
       "      <td>3.0</td>\n",
       "      <td>3.895522</td>\n",
       "      <td>2.00</td>\n",
       "      <td>3.0</td>\n",
       "    </tr>\n",
       "    <tr>\n",
       "      <th>1</th>\n",
       "      <td>1907</td>\n",
       "      <td>0</td>\n",
       "      <td>3.624457</td>\n",
       "      <td>3.0</td>\n",
       "      <td>2.0</td>\n",
       "      <td>2.0</td>\n",
       "      <td>2.0</td>\n",
       "      <td>2.0</td>\n",
       "      <td>1.0</td>\n",
       "      <td>4.0</td>\n",
       "      <td>4.0</td>\n",
       "      <td>5.0</td>\n",
       "      <td>4.0</td>\n",
       "      <td>3.238636</td>\n",
       "      <td>2.00</td>\n",
       "      <td>1.0</td>\n",
       "    </tr>\n",
       "    <tr>\n",
       "      <th>2</th>\n",
       "      <td>231</td>\n",
       "      <td>1</td>\n",
       "      <td>3.624457</td>\n",
       "      <td>3.0</td>\n",
       "      <td>3.0</td>\n",
       "      <td>4.0</td>\n",
       "      <td>4.0</td>\n",
       "      <td>4.0</td>\n",
       "      <td>2.0</td>\n",
       "      <td>5.0</td>\n",
       "      <td>5.0</td>\n",
       "      <td>5.0</td>\n",
       "      <td>4.0</td>\n",
       "      <td>3.761905</td>\n",
       "      <td>3.35</td>\n",
       "      <td>3.0</td>\n",
       "    </tr>\n",
       "    <tr>\n",
       "      <th>3</th>\n",
       "      <td>847</td>\n",
       "      <td>1</td>\n",
       "      <td>3.624457</td>\n",
       "      <td>3.0</td>\n",
       "      <td>4.0</td>\n",
       "      <td>3.0</td>\n",
       "      <td>3.0</td>\n",
       "      <td>2.0</td>\n",
       "      <td>4.0</td>\n",
       "      <td>4.0</td>\n",
       "      <td>4.0</td>\n",
       "      <td>4.0</td>\n",
       "      <td>4.0</td>\n",
       "      <td>4.090909</td>\n",
       "      <td>3.35</td>\n",
       "      <td>5.0</td>\n",
       "    </tr>\n",
       "    <tr>\n",
       "      <th>4</th>\n",
       "      <td>993</td>\n",
       "      <td>1</td>\n",
       "      <td>3.624457</td>\n",
       "      <td>3.0</td>\n",
       "      <td>4.0</td>\n",
       "      <td>4.0</td>\n",
       "      <td>3.0</td>\n",
       "      <td>3.0</td>\n",
       "      <td>3.0</td>\n",
       "      <td>2.0</td>\n",
       "      <td>3.0</td>\n",
       "      <td>5.0</td>\n",
       "      <td>3.0</td>\n",
       "      <td>3.172414</td>\n",
       "      <td>3.35</td>\n",
       "      <td>3.0</td>\n",
       "    </tr>\n",
       "  </tbody>\n",
       "</table>\n",
       "</div>"
      ],
      "text/plain": [
       "   user  movie      GAvg  sur1  sur2  sur3  sur4  sur5  smr1  smr2  smr3  \\\n",
       "0  1590      0  3.624457   1.0   2.0   2.0   2.0   2.0   3.0   4.0   4.0   \n",
       "1  1907      0  3.624457   3.0   2.0   2.0   2.0   2.0   1.0   4.0   4.0   \n",
       "2   231      1  3.624457   3.0   3.0   4.0   4.0   4.0   2.0   5.0   5.0   \n",
       "3   847      1  3.624457   3.0   4.0   3.0   3.0   2.0   4.0   4.0   4.0   \n",
       "4   993      1  3.624457   3.0   4.0   4.0   3.0   3.0   3.0   2.0   3.0   \n",
       "\n",
       "   smr4  smr5      UAvg  MAvg  rating  \n",
       "0   2.0   3.0  3.895522  2.00     3.0  \n",
       "1   5.0   4.0  3.238636  2.00     1.0  \n",
       "2   5.0   4.0  3.761905  3.35     3.0  \n",
       "3   4.0   4.0  4.090909  3.35     5.0  \n",
       "4   5.0   3.0  3.172414  3.35     3.0  "
      ]
     },
     "execution_count": 90,
     "metadata": {},
     "output_type": "execute_result"
    }
   ],
   "source": [
    "reg_train.head()"
   ]
  },
  {
   "cell_type": "code",
   "execution_count": 91,
   "metadata": {},
   "outputs": [
    {
     "data": {
      "text/plain": [
       "(126228, 16)"
      ]
     },
     "execution_count": 91,
     "metadata": {},
     "output_type": "execute_result"
    }
   ],
   "source": [
    "reg_train.shape"
   ]
  },
  {
   "cell_type": "code",
   "execution_count": 93,
   "metadata": {},
   "outputs": [
    {
     "data": {
      "text/html": [
       "<div>\n",
       "<style scoped>\n",
       "    .dataframe tbody tr th:only-of-type {\n",
       "        vertical-align: middle;\n",
       "    }\n",
       "\n",
       "    .dataframe tbody tr th {\n",
       "        vertical-align: top;\n",
       "    }\n",
       "\n",
       "    .dataframe thead th {\n",
       "        text-align: right;\n",
       "    }\n",
       "</style>\n",
       "<table border=\"1\" class=\"dataframe\">\n",
       "  <thead>\n",
       "    <tr style=\"text-align: right;\">\n",
       "      <th></th>\n",
       "      <th>user</th>\n",
       "      <th>movie</th>\n",
       "      <th>rating</th>\n",
       "    </tr>\n",
       "  </thead>\n",
       "  <tbody>\n",
       "    <tr>\n",
       "      <th>0</th>\n",
       "      <td>1590</td>\n",
       "      <td>0</td>\n",
       "      <td>3.0</td>\n",
       "    </tr>\n",
       "    <tr>\n",
       "      <th>1</th>\n",
       "      <td>1907</td>\n",
       "      <td>0</td>\n",
       "      <td>1.0</td>\n",
       "    </tr>\n",
       "    <tr>\n",
       "      <th>2</th>\n",
       "      <td>231</td>\n",
       "      <td>1</td>\n",
       "      <td>3.0</td>\n",
       "    </tr>\n",
       "    <tr>\n",
       "      <th>3</th>\n",
       "      <td>847</td>\n",
       "      <td>1</td>\n",
       "      <td>5.0</td>\n",
       "    </tr>\n",
       "    <tr>\n",
       "      <th>4</th>\n",
       "      <td>993</td>\n",
       "      <td>1</td>\n",
       "      <td>3.0</td>\n",
       "    </tr>\n",
       "  </tbody>\n",
       "</table>\n",
       "</div>"
      ],
      "text/plain": [
       "   user  movie  rating\n",
       "0  1590      0     3.0\n",
       "1  1907      0     1.0\n",
       "2   231      1     3.0\n",
       "3   847      1     5.0\n",
       "4   993      1     3.0"
      ]
     },
     "execution_count": 93,
     "metadata": {},
     "output_type": "execute_result"
    }
   ],
   "source": [
    "reg_train[['user','movie','rating']].head()"
   ]
  },
  {
   "cell_type": "code",
   "execution_count": 94,
   "metadata": {},
   "outputs": [],
   "source": [
    "reader = Reader(rating_scale=(1,5))"
   ]
  },
  {
   "cell_type": "code",
   "execution_count": 95,
   "metadata": {},
   "outputs": [],
   "source": [
    "train_data = Dataset.load_from_df(reg_train[['user', 'movie', 'rating']], reader)"
   ]
  },
  {
   "cell_type": "code",
   "execution_count": 96,
   "metadata": {},
   "outputs": [],
   "source": [
    "# build the trainset from traindata\n",
    "trainset = train_data.build_full_trainset()"
   ]
  },
  {
   "cell_type": "markdown",
   "metadata": {},
   "source": [
    " \n",
    " "
   ]
  },
  {
   "cell_type": "markdown",
   "metadata": {},
   "source": [
    "### Baseline Model"
   ]
  },
  {
   "cell_type": "code",
   "execution_count": 97,
   "metadata": {},
   "outputs": [],
   "source": [
    "class BaseLineAlgo(BaselineOnly):\n",
    "\n",
    "    def __init__(self, sim_options={}, bsl_options={}):\n",
    "\n",
    "        BaselineOnly.__init__(self, bsl_options=bsl_options)\n",
    "\n",
    "    def fit(self, trainset):\n",
    "        self.trainset = trainset\n",
    "        BaselineOnly.fit(self, trainset)\n",
    "        return self\n",
    "\n",
    "    def estimate(self, u, i):\n",
    "        details = {'cold_start':False}\n",
    "        if not (self.trainset.knows_user(u) and self.trainset.knows_item(i)):\n",
    "            details = {'cold_start':True}\n",
    "        \n",
    "        return BaselineOnly.estimate(self, u, i), details"
   ]
  },
  {
   "cell_type": "code",
   "execution_count": 98,
   "metadata": {},
   "outputs": [],
   "source": [
    "bsl_options = {'method': 'sgd',\n",
    "               'learning_rate': .001\n",
    "               }\n",
    "my_bsl_algo = BaseLineAlgo(bsl_options=bsl_options)"
   ]
  },
  {
   "cell_type": "code",
   "execution_count": 99,
   "metadata": {},
   "outputs": [
    {
     "name": "stdout",
     "output_type": "stream",
     "text": [
      "Estimating biases using sgd...\n"
     ]
    },
    {
     "data": {
      "text/plain": [
       "<__main__.BaseLineAlgo at 0x2397e27df28>"
      ]
     },
     "execution_count": 99,
     "metadata": {},
     "output_type": "execute_result"
    }
   ],
   "source": [
    "my_bsl_algo.fit(trainset)"
   ]
  },
  {
   "cell_type": "markdown",
   "metadata": {},
   "source": [
    " "
   ]
  },
  {
   "cell_type": "markdown",
   "metadata": {},
   "source": [
    " "
   ]
  },
  {
   "cell_type": "code",
   "execution_count": 167,
   "metadata": {},
   "outputs": [],
   "source": [
    "def get_ratings(predictions):\n",
    "    actual = np.array([pred.r_ui for pred in predictions])\n",
    "    pred = np.array([pred.est for pred in predictions])\n",
    "    \n",
    "    return actual, pred"
   ]
  },
  {
   "cell_type": "code",
   "execution_count": 169,
   "metadata": {},
   "outputs": [],
   "source": [
    "def get_errors(predictions, include_cold_start = True, print_them=False):\n",
    "    \n",
    "    if include_cold_start:\n",
    "        actual, pred = get_ratings(predictions)\n",
    "        rmse = np.sqrt(np.mean(pred - actual)**2)\n",
    "        mape = np.mean(np.abs(pred - actual)/actual)\n",
    "    else:\n",
    "        rmse = np.sqrt(np.mean([(pred.r_ui - pred.est)**2  for pred in predictions if not pred.details['cold_start']]))\n",
    "        mape = np.mean([ np.abs(pred.est - pred.r_ui)/pred.r_ui   for pred in predictions if not pred.details['cold_start']])\n",
    "    \n",
    "    if print_them:\n",
    "        print(\"\\nRMSE : {}\\n\\nMAPE : {}\".format(rmse, mape*100))\n",
    "    return rmse, mape*100\n"
   ]
  },
  {
   "cell_type": "markdown",
   "metadata": {},
   "source": [
    "### evaluating Training data"
   ]
  },
  {
   "cell_type": "code",
   "execution_count": 101,
   "metadata": {},
   "outputs": [],
   "source": [
    "bsl_train_preds = my_bsl_algo.test(trainset.build_testset())"
   ]
  },
  {
   "cell_type": "code",
   "execution_count": 102,
   "metadata": {},
   "outputs": [
    {
     "data": {
      "text/plain": [
       "Prediction(uid=1590, iid=0, r_ui=3.0, est=3.809650263762233, details={'cold_start': False, 'was_impossible': False})"
      ]
     },
     "execution_count": 102,
     "metadata": {},
     "output_type": "execute_result"
    }
   ],
   "source": [
    "bsl_train_preds[0]"
   ]
  },
  {
   "cell_type": "code",
   "execution_count": 103,
   "metadata": {},
   "outputs": [
    {
     "data": {
      "text/plain": [
       "False"
      ]
     },
     "execution_count": 103,
     "metadata": {},
     "output_type": "execute_result"
    }
   ],
   "source": [
    "bsl_train_preds[0].details['cold_start']"
   ]
  },
  {
   "cell_type": "code",
   "execution_count": 104,
   "metadata": {},
   "outputs": [
    {
     "name": "stdout",
     "output_type": "stream",
     "text": [
      "\n",
      "RMSE : 0.9312622541249634\n",
      "\n",
      "MAPE : 28.756547341945467\n"
     ]
    }
   ],
   "source": [
    "my_bsl_train_rmse, my_bsl_train_mape = get_errors(bsl_train_preds, print_them=True)"
   ]
  },
  {
   "cell_type": "code",
   "execution_count": 215,
   "metadata": {},
   "outputs": [
    {
     "data": {
      "text/plain": [
       "array([3.80965026, 3.19968029, 3.792209  , ..., 3.69131461, 3.93049387,\n",
       "       3.91066456])"
      ]
     },
     "execution_count": 215,
     "metadata": {},
     "output_type": "execute_result"
    }
   ],
   "source": [
    "_, my_bsl_train_preds = get_ratings(bsl_train_preds)\n",
    "my_bsl_train_preds"
   ]
  },
  {
   "cell_type": "code",
   "execution_count": 234,
   "metadata": {
    "scrolled": true
   },
   "outputs": [
    {
     "data": {
      "text/plain": [
       "{'mape': 28.756547341945467,\n",
       " 'predictions': array([3.80965026, 3.19968029, 3.792209  , ..., 3.69131461, 3.93049387,\n",
       "        3.91066456]),\n",
       " 'rmse': 0.9312622541249634}"
      ]
     },
     "execution_count": 234,
     "metadata": {},
     "output_type": "execute_result"
    }
   ],
   "source": [
    "# Just store these error metrics in our models_evaluation datastructure\n",
    "#########################################################################\n",
    "models_evaluation_train['bsl_algo'] = {'rmse':my_bsl_train_rmse, 'mape':my_bsl_train_mape}\n",
    "models_evaluation_train['bsl_algo']['predictions'] = my_bsl_train_preds\n",
    "\n",
    "models_evaluation_train['bsl_algo']"
   ]
  },
  {
   "cell_type": "markdown",
   "metadata": {},
   "source": [
    "### Evaluating Test data"
   ]
  },
  {
   "cell_type": "code",
   "execution_count": 112,
   "metadata": {},
   "outputs": [
    {
     "data": {
      "text/html": [
       "<div>\n",
       "<style scoped>\n",
       "    .dataframe tbody tr th:only-of-type {\n",
       "        vertical-align: middle;\n",
       "    }\n",
       "\n",
       "    .dataframe tbody tr th {\n",
       "        vertical-align: top;\n",
       "    }\n",
       "\n",
       "    .dataframe thead th {\n",
       "        text-align: right;\n",
       "    }\n",
       "</style>\n",
       "<table border=\"1\" class=\"dataframe\">\n",
       "  <thead>\n",
       "    <tr style=\"text-align: right;\">\n",
       "      <th></th>\n",
       "      <th>user</th>\n",
       "      <th>movie</th>\n",
       "      <th>GAvg</th>\n",
       "      <th>sur1</th>\n",
       "      <th>sur2</th>\n",
       "      <th>sur3</th>\n",
       "      <th>sur4</th>\n",
       "      <th>sur5</th>\n",
       "      <th>smr1</th>\n",
       "      <th>smr2</th>\n",
       "      <th>smr3</th>\n",
       "      <th>smr4</th>\n",
       "      <th>smr5</th>\n",
       "      <th>UAvg</th>\n",
       "      <th>MAvg</th>\n",
       "      <th>rating</th>\n",
       "    </tr>\n",
       "  </thead>\n",
       "  <tbody>\n",
       "    <tr>\n",
       "      <th>0</th>\n",
       "      <td>118</td>\n",
       "      <td>0</td>\n",
       "      <td>3.624457</td>\n",
       "      <td>5.0</td>\n",
       "      <td>4.0</td>\n",
       "      <td>4.0</td>\n",
       "      <td>5.0</td>\n",
       "      <td>4.0</td>\n",
       "      <td>4.20339</td>\n",
       "      <td>4.20339</td>\n",
       "      <td>4.20339</td>\n",
       "      <td>4.20339</td>\n",
       "      <td>4.20339</td>\n",
       "      <td>4.203390</td>\n",
       "      <td>2.0</td>\n",
       "      <td>3.0</td>\n",
       "    </tr>\n",
       "    <tr>\n",
       "      <th>1</th>\n",
       "      <td>192</td>\n",
       "      <td>0</td>\n",
       "      <td>3.624457</td>\n",
       "      <td>3.0</td>\n",
       "      <td>3.0</td>\n",
       "      <td>2.0</td>\n",
       "      <td>4.0</td>\n",
       "      <td>4.0</td>\n",
       "      <td>5.00000</td>\n",
       "      <td>4.00000</td>\n",
       "      <td>3.00000</td>\n",
       "      <td>3.00000</td>\n",
       "      <td>3.00000</td>\n",
       "      <td>3.000000</td>\n",
       "      <td>2.0</td>\n",
       "      <td>5.0</td>\n",
       "    </tr>\n",
       "    <tr>\n",
       "      <th>2</th>\n",
       "      <td>214</td>\n",
       "      <td>0</td>\n",
       "      <td>3.624457</td>\n",
       "      <td>3.0</td>\n",
       "      <td>4.0</td>\n",
       "      <td>4.0</td>\n",
       "      <td>2.0</td>\n",
       "      <td>4.0</td>\n",
       "      <td>5.00000</td>\n",
       "      <td>4.00000</td>\n",
       "      <td>5.00000</td>\n",
       "      <td>3.00000</td>\n",
       "      <td>5.00000</td>\n",
       "      <td>3.500000</td>\n",
       "      <td>2.0</td>\n",
       "      <td>3.0</td>\n",
       "    </tr>\n",
       "    <tr>\n",
       "      <th>3</th>\n",
       "      <td>283</td>\n",
       "      <td>0</td>\n",
       "      <td>3.624457</td>\n",
       "      <td>3.0</td>\n",
       "      <td>3.0</td>\n",
       "      <td>5.0</td>\n",
       "      <td>4.0</td>\n",
       "      <td>4.0</td>\n",
       "      <td>5.00000</td>\n",
       "      <td>5.00000</td>\n",
       "      <td>5.00000</td>\n",
       "      <td>5.00000</td>\n",
       "      <td>2.00000</td>\n",
       "      <td>4.133333</td>\n",
       "      <td>2.0</td>\n",
       "      <td>5.0</td>\n",
       "    </tr>\n",
       "    <tr>\n",
       "      <th>4</th>\n",
       "      <td>297</td>\n",
       "      <td>0</td>\n",
       "      <td>3.624457</td>\n",
       "      <td>3.0</td>\n",
       "      <td>3.0</td>\n",
       "      <td>3.0</td>\n",
       "      <td>3.0</td>\n",
       "      <td>5.0</td>\n",
       "      <td>5.00000</td>\n",
       "      <td>3.00000</td>\n",
       "      <td>4.00000</td>\n",
       "      <td>5.00000</td>\n",
       "      <td>5.00000</td>\n",
       "      <td>4.333333</td>\n",
       "      <td>2.0</td>\n",
       "      <td>3.0</td>\n",
       "    </tr>\n",
       "  </tbody>\n",
       "</table>\n",
       "</div>"
      ],
      "text/plain": [
       "   user  movie      GAvg  sur1  sur2  sur3  sur4  sur5     smr1     smr2  \\\n",
       "0   118      0  3.624457   5.0   4.0   4.0   5.0   4.0  4.20339  4.20339   \n",
       "1   192      0  3.624457   3.0   3.0   2.0   4.0   4.0  5.00000  4.00000   \n",
       "2   214      0  3.624457   3.0   4.0   4.0   2.0   4.0  5.00000  4.00000   \n",
       "3   283      0  3.624457   3.0   3.0   5.0   4.0   4.0  5.00000  5.00000   \n",
       "4   297      0  3.624457   3.0   3.0   3.0   3.0   5.0  5.00000  3.00000   \n",
       "\n",
       "      smr3     smr4     smr5      UAvg  MAvg  rating  \n",
       "0  4.20339  4.20339  4.20339  4.203390   2.0     3.0  \n",
       "1  3.00000  3.00000  3.00000  3.000000   2.0     5.0  \n",
       "2  5.00000  3.00000  5.00000  3.500000   2.0     3.0  \n",
       "3  5.00000  5.00000  2.00000  4.133333   2.0     5.0  \n",
       "4  4.00000  5.00000  5.00000  4.333333   2.0     3.0  "
      ]
     },
     "execution_count": 112,
     "metadata": {},
     "output_type": "execute_result"
    }
   ],
   "source": [
    "reg_test_df.head()"
   ]
  },
  {
   "cell_type": "code",
   "execution_count": 118,
   "metadata": {},
   "outputs": [],
   "source": [
    "testset = list(zip(reg_test_df.user.values, reg_test_df.movie.values, reg_test_df.rating.values))"
   ]
  },
  {
   "cell_type": "code",
   "execution_count": 119,
   "metadata": {},
   "outputs": [],
   "source": [
    "test_preds = my_bsl_algo.test(testset)"
   ]
  },
  {
   "cell_type": "code",
   "execution_count": 120,
   "metadata": {},
   "outputs": [
    {
     "data": {
      "text/plain": [
       "Prediction(uid=118, iid=0, r_ui=3.0, est=3.948776296894135, details={'cold_start': False, 'was_impossible': False})"
      ]
     },
     "execution_count": 120,
     "metadata": {},
     "output_type": "execute_result"
    }
   ],
   "source": [
    "test_preds[0]"
   ]
  },
  {
   "cell_type": "code",
   "execution_count": 121,
   "metadata": {},
   "outputs": [
    {
     "name": "stdout",
     "output_type": "stream",
     "text": [
      "\n",
      "RMSE : 1.1674790109548865\n",
      "\n",
      "MAPE : 35.805018461619866\n"
     ]
    }
   ],
   "source": [
    "my_bsl_test_rmse, my_bsl_test_mape = get_errors(test_preds, print_them=True)"
   ]
  },
  {
   "cell_type": "code",
   "execution_count": 236,
   "metadata": {},
   "outputs": [
    {
     "data": {
      "text/plain": [
       "{'mape': 35.805018461619866,\n",
       " 'predictions': array([3.9487763 , 3.54248358, 3.56137288, ..., 3.5184957 , 3.5188059 ,\n",
       "        3.51197286]),\n",
       " 'rmse': 1.1674790109548865}"
      ]
     },
     "execution_count": 236,
     "metadata": {},
     "output_type": "execute_result"
    }
   ],
   "source": [
    "#### Store these error metrics in our model_evaluations dict \n",
    "##############################################################################\n",
    "models_evaluation_test['bsl_algo'] = {'rmse':my_bsl_test_rmse, 'mape':my_bsl_test_mape}\n",
    "\n",
    "_, my_bsl_test_preds = get_ratings(test_preds)\n",
    "models_evaluation_test['bsl_algo']['predictions'] = my_bsl_test_preds\n",
    "\n",
    "models_evaluation_test['bsl_algo']"
   ]
  },
  {
   "cell_type": "markdown",
   "metadata": {},
   "source": [
    " \n",
    " "
   ]
  },
  {
   "cell_type": "markdown",
   "metadata": {},
   "source": [
    " \n",
    " "
   ]
  },
  {
   "cell_type": "markdown",
   "metadata": {},
   "source": [
    "## 1.3  XGBoost with Baseline Predictor"
   ]
  },
  {
   "cell_type": "code",
   "execution_count": 130,
   "metadata": {},
   "outputs": [
    {
     "data": {
      "text/html": [
       "<div>\n",
       "<style scoped>\n",
       "    .dataframe tbody tr th:only-of-type {\n",
       "        vertical-align: middle;\n",
       "    }\n",
       "\n",
       "    .dataframe tbody tr th {\n",
       "        vertical-align: top;\n",
       "    }\n",
       "\n",
       "    .dataframe thead th {\n",
       "        text-align: right;\n",
       "    }\n",
       "</style>\n",
       "<table border=\"1\" class=\"dataframe\">\n",
       "  <thead>\n",
       "    <tr style=\"text-align: right;\">\n",
       "      <th></th>\n",
       "      <th>user</th>\n",
       "      <th>movie</th>\n",
       "      <th>GAvg</th>\n",
       "      <th>sur1</th>\n",
       "      <th>sur2</th>\n",
       "      <th>sur3</th>\n",
       "      <th>sur4</th>\n",
       "      <th>sur5</th>\n",
       "      <th>smr1</th>\n",
       "      <th>smr2</th>\n",
       "      <th>smr3</th>\n",
       "      <th>smr4</th>\n",
       "      <th>smr5</th>\n",
       "      <th>UAvg</th>\n",
       "      <th>MAvg</th>\n",
       "      <th>rating</th>\n",
       "    </tr>\n",
       "  </thead>\n",
       "  <tbody>\n",
       "    <tr>\n",
       "      <th>0</th>\n",
       "      <td>1590</td>\n",
       "      <td>0</td>\n",
       "      <td>3.624457</td>\n",
       "      <td>1.0</td>\n",
       "      <td>2.0</td>\n",
       "      <td>2.0</td>\n",
       "      <td>2.0</td>\n",
       "      <td>2.0</td>\n",
       "      <td>3.0</td>\n",
       "      <td>4.0</td>\n",
       "      <td>4.0</td>\n",
       "      <td>2.0</td>\n",
       "      <td>3.0</td>\n",
       "      <td>3.895522</td>\n",
       "      <td>2.0</td>\n",
       "      <td>3.0</td>\n",
       "    </tr>\n",
       "    <tr>\n",
       "      <th>1</th>\n",
       "      <td>1907</td>\n",
       "      <td>0</td>\n",
       "      <td>3.624457</td>\n",
       "      <td>3.0</td>\n",
       "      <td>2.0</td>\n",
       "      <td>2.0</td>\n",
       "      <td>2.0</td>\n",
       "      <td>2.0</td>\n",
       "      <td>1.0</td>\n",
       "      <td>4.0</td>\n",
       "      <td>4.0</td>\n",
       "      <td>5.0</td>\n",
       "      <td>4.0</td>\n",
       "      <td>3.238636</td>\n",
       "      <td>2.0</td>\n",
       "      <td>1.0</td>\n",
       "    </tr>\n",
       "  </tbody>\n",
       "</table>\n",
       "</div>"
      ],
      "text/plain": [
       "   user  movie      GAvg  sur1  sur2  sur3  sur4  sur5  smr1  smr2  smr3  \\\n",
       "0  1590      0  3.624457   1.0   2.0   2.0   2.0   2.0   3.0   4.0   4.0   \n",
       "1  1907      0  3.624457   3.0   2.0   2.0   2.0   2.0   1.0   4.0   4.0   \n",
       "\n",
       "   smr4  smr5      UAvg  MAvg  rating  \n",
       "0   2.0   3.0  3.895522   2.0     3.0  \n",
       "1   5.0   4.0  3.238636   2.0     1.0  "
      ]
     },
     "execution_count": 130,
     "metadata": {},
     "output_type": "execute_result"
    }
   ],
   "source": [
    "# previously....\n",
    "reg_train.head(2)"
   ]
  },
  {
   "cell_type": "code",
   "execution_count": 179,
   "metadata": {},
   "outputs": [
    {
     "data": {
      "text/html": [
       "<div>\n",
       "<style scoped>\n",
       "    .dataframe tbody tr th:only-of-type {\n",
       "        vertical-align: middle;\n",
       "    }\n",
       "\n",
       "    .dataframe tbody tr th {\n",
       "        vertical-align: top;\n",
       "    }\n",
       "\n",
       "    .dataframe thead th {\n",
       "        text-align: right;\n",
       "    }\n",
       "</style>\n",
       "<table border=\"1\" class=\"dataframe\">\n",
       "  <thead>\n",
       "    <tr style=\"text-align: right;\">\n",
       "      <th></th>\n",
       "      <th>user</th>\n",
       "      <th>movie</th>\n",
       "      <th>GAvg</th>\n",
       "      <th>sur1</th>\n",
       "      <th>sur2</th>\n",
       "      <th>sur3</th>\n",
       "      <th>sur4</th>\n",
       "      <th>sur5</th>\n",
       "      <th>smr1</th>\n",
       "      <th>smr2</th>\n",
       "      <th>smr3</th>\n",
       "      <th>smr4</th>\n",
       "      <th>smr5</th>\n",
       "      <th>UAvg</th>\n",
       "      <th>MAvg</th>\n",
       "      <th>rating</th>\n",
       "      <th>bslpr</th>\n",
       "    </tr>\n",
       "  </thead>\n",
       "  <tbody>\n",
       "    <tr>\n",
       "      <th>0</th>\n",
       "      <td>1590</td>\n",
       "      <td>0</td>\n",
       "      <td>3.624457</td>\n",
       "      <td>1.0</td>\n",
       "      <td>2.0</td>\n",
       "      <td>2.0</td>\n",
       "      <td>2.0</td>\n",
       "      <td>2.0</td>\n",
       "      <td>3.0</td>\n",
       "      <td>4.0</td>\n",
       "      <td>4.0</td>\n",
       "      <td>2.0</td>\n",
       "      <td>3.0</td>\n",
       "      <td>3.895522</td>\n",
       "      <td>2.0</td>\n",
       "      <td>3.0</td>\n",
       "      <td>3.80965</td>\n",
       "    </tr>\n",
       "    <tr>\n",
       "      <th>1</th>\n",
       "      <td>1907</td>\n",
       "      <td>0</td>\n",
       "      <td>3.624457</td>\n",
       "      <td>3.0</td>\n",
       "      <td>2.0</td>\n",
       "      <td>2.0</td>\n",
       "      <td>2.0</td>\n",
       "      <td>2.0</td>\n",
       "      <td>1.0</td>\n",
       "      <td>4.0</td>\n",
       "      <td>4.0</td>\n",
       "      <td>5.0</td>\n",
       "      <td>4.0</td>\n",
       "      <td>3.238636</td>\n",
       "      <td>2.0</td>\n",
       "      <td>1.0</td>\n",
       "      <td>3.19968</td>\n",
       "    </tr>\n",
       "  </tbody>\n",
       "</table>\n",
       "</div>"
      ],
      "text/plain": [
       "   user  movie      GAvg  sur1  sur2  sur3  sur4  sur5  smr1  smr2  smr3  \\\n",
       "0  1590      0  3.624457   1.0   2.0   2.0   2.0   2.0   3.0   4.0   4.0   \n",
       "1  1907      0  3.624457   3.0   2.0   2.0   2.0   2.0   1.0   4.0   4.0   \n",
       "\n",
       "   smr4  smr5      UAvg  MAvg  rating    bslpr  \n",
       "0   2.0   3.0  3.895522   2.0     3.0  3.80965  \n",
       "1   5.0   4.0  3.238636   2.0     1.0  3.19968  "
      ]
     },
     "execution_count": 179,
     "metadata": {},
     "output_type": "execute_result"
    }
   ],
   "source": [
    "# add our baseline_predicted value as our feature..\n",
    "reg_train['bslpr'] = models_evaluation_train['bsl_algo']['predictions']\n",
    "reg_train.head(2)"
   ]
  },
  {
   "cell_type": "markdown",
   "metadata": {},
   "source": [
    "### 1.3.1 train XGBoost with this additional baseline feature"
   ]
  },
  {
   "cell_type": "code",
   "execution_count": 192,
   "metadata": {},
   "outputs": [
    {
     "data": {
      "text/plain": [
       "XGBRegressor(base_score=0.5, booster='gbtree', colsample_bylevel=1,\n",
       "       colsample_bytree=1, gamma=0, learning_rate=0.1, max_delta_step=0,\n",
       "       max_depth=3, min_child_weight=1, missing=None, n_estimators=100,\n",
       "       n_jobs=10, nthread=None, objective='reg:linear', random_state=15,\n",
       "       reg_alpha=0, reg_lambda=1, scale_pos_weight=1, seed=None,\n",
       "       silent=True, subsample=1)"
      ]
     },
     "execution_count": 192,
     "metadata": {},
     "output_type": "execute_result"
    }
   ],
   "source": [
    "x_train = reg_train.drop(['user', 'movie','rating'], axis=1)\n",
    "y_train = reg_train['rating']\n",
    "\n",
    "xgb_bsl = xgb.XGBRegressor(n_jobs=10, random_state=15)\n",
    "xgb_bsl.fit(x_train, y_train,eval_metric='rmse')"
   ]
  },
  {
   "cell_type": "markdown",
   "metadata": {},
   "source": [
    "### 1.3.2 Evaluating with train data..."
   ]
  },
  {
   "cell_type": "code",
   "execution_count": 199,
   "metadata": {
    "scrolled": true
   },
   "outputs": [
    {
     "name": "stdout",
     "output_type": "stream",
     "text": [
      "0:00:00.092995\n"
     ]
    }
   ],
   "source": [
    "start = datetime.now()\n",
    "xgb_bsl_train_preds = xgb_bsl.predict(x_train)\n",
    "print(datetime.now()-start)"
   ]
  },
  {
   "cell_type": "code",
   "execution_count": 241,
   "metadata": {},
   "outputs": [
    {
     "data": {
      "text/plain": [
       "(0.8473682995786805, 25.044914451887806)"
      ]
     },
     "execution_count": 241,
     "metadata": {},
     "output_type": "execute_result"
    }
   ],
   "source": [
    "rmse, mape = get_error_metrics(y_true = y_train, y_pred = xgb_bsl_train_preds)\n",
    "rmse, mape"
   ]
  },
  {
   "cell_type": "code",
   "execution_count": 202,
   "metadata": {},
   "outputs": [
    {
     "name": "stdout",
     "output_type": "stream",
     "text": [
      "No. of predicted ratings with error between 0 and 1(inclusive) : 98336\n",
      "No. of predicted ratings with error between 1 and 2(inclusive) : 24744\n",
      "No. of predicted ratings with error between 2 and 3(inclusive) : 2932\n",
      "No. of predicted ratings with error between 3 and 4(inclusive) : 216\n",
      "No. of predicted ratings with error > 4 : 0\n"
     ]
    }
   ],
   "source": [
    "print_error_dists(abs_errors=np.abs(y_train.values - xgb_bsl_train_preds))"
   ]
  },
  {
   "cell_type": "code",
   "execution_count": 243,
   "metadata": {},
   "outputs": [
    {
     "data": {
      "text/plain": [
       "{'mape': 25.044914451887806,\n",
       " 'predictions': array([2.372274 , 1.7693403, 3.4035742, ..., 3.0373535, 3.0171025,\n",
       "        3.8241556], dtype=float32),\n",
       " 'rmse': 0.8473682995786805}"
      ]
     },
     "execution_count": 243,
     "metadata": {},
     "output_type": "execute_result"
    }
   ],
   "source": [
    "#- Storing the metrics \n",
    "############################################\n",
    "models_evaluation_train['xgb_bsl'] = {'rmse':rmse, 'mape':mape}\n",
    "models_evaluation_train['xgb_bsl']['predictions'] = xgb_bsl_train_preds\n",
    "\n",
    "models_evaluation_train['xgb_bsl']"
   ]
  },
  {
   "cell_type": "code",
   "execution_count": 194,
   "metadata": {},
   "outputs": [
    {
     "data": {
      "application/javascript": [
       "/* Put everything inside the global mpl namespace */\n",
       "window.mpl = {};\n",
       "\n",
       "\n",
       "mpl.get_websocket_type = function() {\n",
       "    if (typeof(WebSocket) !== 'undefined') {\n",
       "        return WebSocket;\n",
       "    } else if (typeof(MozWebSocket) !== 'undefined') {\n",
       "        return MozWebSocket;\n",
       "    } else {\n",
       "        alert('Your browser does not have WebSocket support.' +\n",
       "              'Please try Chrome, Safari or Firefox ≥ 6. ' +\n",
       "              'Firefox 4 and 5 are also supported but you ' +\n",
       "              'have to enable WebSockets in about:config.');\n",
       "    };\n",
       "}\n",
       "\n",
       "mpl.figure = function(figure_id, websocket, ondownload, parent_element) {\n",
       "    this.id = figure_id;\n",
       "\n",
       "    this.ws = websocket;\n",
       "\n",
       "    this.supports_binary = (this.ws.binaryType != undefined);\n",
       "\n",
       "    if (!this.supports_binary) {\n",
       "        var warnings = document.getElementById(\"mpl-warnings\");\n",
       "        if (warnings) {\n",
       "            warnings.style.display = 'block';\n",
       "            warnings.textContent = (\n",
       "                \"This browser does not support binary websocket messages. \" +\n",
       "                    \"Performance may be slow.\");\n",
       "        }\n",
       "    }\n",
       "\n",
       "    this.imageObj = new Image();\n",
       "\n",
       "    this.context = undefined;\n",
       "    this.message = undefined;\n",
       "    this.canvas = undefined;\n",
       "    this.rubberband_canvas = undefined;\n",
       "    this.rubberband_context = undefined;\n",
       "    this.format_dropdown = undefined;\n",
       "\n",
       "    this.image_mode = 'full';\n",
       "\n",
       "    this.root = $('<div/>');\n",
       "    this._root_extra_style(this.root)\n",
       "    this.root.attr('style', 'display: inline-block');\n",
       "\n",
       "    $(parent_element).append(this.root);\n",
       "\n",
       "    this._init_header(this);\n",
       "    this._init_canvas(this);\n",
       "    this._init_toolbar(this);\n",
       "\n",
       "    var fig = this;\n",
       "\n",
       "    this.waiting = false;\n",
       "\n",
       "    this.ws.onopen =  function () {\n",
       "            fig.send_message(\"supports_binary\", {value: fig.supports_binary});\n",
       "            fig.send_message(\"send_image_mode\", {});\n",
       "            if (mpl.ratio != 1) {\n",
       "                fig.send_message(\"set_dpi_ratio\", {'dpi_ratio': mpl.ratio});\n",
       "            }\n",
       "            fig.send_message(\"refresh\", {});\n",
       "        }\n",
       "\n",
       "    this.imageObj.onload = function() {\n",
       "            if (fig.image_mode == 'full') {\n",
       "                // Full images could contain transparency (where diff images\n",
       "                // almost always do), so we need to clear the canvas so that\n",
       "                // there is no ghosting.\n",
       "                fig.context.clearRect(0, 0, fig.canvas.width, fig.canvas.height);\n",
       "            }\n",
       "            fig.context.drawImage(fig.imageObj, 0, 0);\n",
       "        };\n",
       "\n",
       "    this.imageObj.onunload = function() {\n",
       "        fig.ws.close();\n",
       "    }\n",
       "\n",
       "    this.ws.onmessage = this._make_on_message_function(this);\n",
       "\n",
       "    this.ondownload = ondownload;\n",
       "}\n",
       "\n",
       "mpl.figure.prototype._init_header = function() {\n",
       "    var titlebar = $(\n",
       "        '<div class=\"ui-dialog-titlebar ui-widget-header ui-corner-all ' +\n",
       "        'ui-helper-clearfix\"/>');\n",
       "    var titletext = $(\n",
       "        '<div class=\"ui-dialog-title\" style=\"width: 100%; ' +\n",
       "        'text-align: center; padding: 3px;\"/>');\n",
       "    titlebar.append(titletext)\n",
       "    this.root.append(titlebar);\n",
       "    this.header = titletext[0];\n",
       "}\n",
       "\n",
       "\n",
       "\n",
       "mpl.figure.prototype._canvas_extra_style = function(canvas_div) {\n",
       "\n",
       "}\n",
       "\n",
       "\n",
       "mpl.figure.prototype._root_extra_style = function(canvas_div) {\n",
       "\n",
       "}\n",
       "\n",
       "mpl.figure.prototype._init_canvas = function() {\n",
       "    var fig = this;\n",
       "\n",
       "    var canvas_div = $('<div/>');\n",
       "\n",
       "    canvas_div.attr('style', 'position: relative; clear: both; outline: 0');\n",
       "\n",
       "    function canvas_keyboard_event(event) {\n",
       "        return fig.key_event(event, event['data']);\n",
       "    }\n",
       "\n",
       "    canvas_div.keydown('key_press', canvas_keyboard_event);\n",
       "    canvas_div.keyup('key_release', canvas_keyboard_event);\n",
       "    this.canvas_div = canvas_div\n",
       "    this._canvas_extra_style(canvas_div)\n",
       "    this.root.append(canvas_div);\n",
       "\n",
       "    var canvas = $('<canvas/>');\n",
       "    canvas.addClass('mpl-canvas');\n",
       "    canvas.attr('style', \"left: 0; top: 0; z-index: 0; outline: 0\")\n",
       "\n",
       "    this.canvas = canvas[0];\n",
       "    this.context = canvas[0].getContext(\"2d\");\n",
       "\n",
       "    var backingStore = this.context.backingStorePixelRatio ||\n",
       "\tthis.context.webkitBackingStorePixelRatio ||\n",
       "\tthis.context.mozBackingStorePixelRatio ||\n",
       "\tthis.context.msBackingStorePixelRatio ||\n",
       "\tthis.context.oBackingStorePixelRatio ||\n",
       "\tthis.context.backingStorePixelRatio || 1;\n",
       "\n",
       "    mpl.ratio = (window.devicePixelRatio || 1) / backingStore;\n",
       "\n",
       "    var rubberband = $('<canvas/>');\n",
       "    rubberband.attr('style', \"position: absolute; left: 0; top: 0; z-index: 1;\")\n",
       "\n",
       "    var pass_mouse_events = true;\n",
       "\n",
       "    canvas_div.resizable({\n",
       "        start: function(event, ui) {\n",
       "            pass_mouse_events = false;\n",
       "        },\n",
       "        resize: function(event, ui) {\n",
       "            fig.request_resize(ui.size.width, ui.size.height);\n",
       "        },\n",
       "        stop: function(event, ui) {\n",
       "            pass_mouse_events = true;\n",
       "            fig.request_resize(ui.size.width, ui.size.height);\n",
       "        },\n",
       "    });\n",
       "\n",
       "    function mouse_event_fn(event) {\n",
       "        if (pass_mouse_events)\n",
       "            return fig.mouse_event(event, event['data']);\n",
       "    }\n",
       "\n",
       "    rubberband.mousedown('button_press', mouse_event_fn);\n",
       "    rubberband.mouseup('button_release', mouse_event_fn);\n",
       "    // Throttle sequential mouse events to 1 every 20ms.\n",
       "    rubberband.mousemove('motion_notify', mouse_event_fn);\n",
       "\n",
       "    rubberband.mouseenter('figure_enter', mouse_event_fn);\n",
       "    rubberband.mouseleave('figure_leave', mouse_event_fn);\n",
       "\n",
       "    canvas_div.on(\"wheel\", function (event) {\n",
       "        event = event.originalEvent;\n",
       "        event['data'] = 'scroll'\n",
       "        if (event.deltaY < 0) {\n",
       "            event.step = 1;\n",
       "        } else {\n",
       "            event.step = -1;\n",
       "        }\n",
       "        mouse_event_fn(event);\n",
       "    });\n",
       "\n",
       "    canvas_div.append(canvas);\n",
       "    canvas_div.append(rubberband);\n",
       "\n",
       "    this.rubberband = rubberband;\n",
       "    this.rubberband_canvas = rubberband[0];\n",
       "    this.rubberband_context = rubberband[0].getContext(\"2d\");\n",
       "    this.rubberband_context.strokeStyle = \"#000000\";\n",
       "\n",
       "    this._resize_canvas = function(width, height) {\n",
       "        // Keep the size of the canvas, canvas container, and rubber band\n",
       "        // canvas in synch.\n",
       "        canvas_div.css('width', width)\n",
       "        canvas_div.css('height', height)\n",
       "\n",
       "        canvas.attr('width', width * mpl.ratio);\n",
       "        canvas.attr('height', height * mpl.ratio);\n",
       "        canvas.attr('style', 'width: ' + width + 'px; height: ' + height + 'px;');\n",
       "\n",
       "        rubberband.attr('width', width);\n",
       "        rubberband.attr('height', height);\n",
       "    }\n",
       "\n",
       "    // Set the figure to an initial 600x600px, this will subsequently be updated\n",
       "    // upon first draw.\n",
       "    this._resize_canvas(600, 600);\n",
       "\n",
       "    // Disable right mouse context menu.\n",
       "    $(this.rubberband_canvas).bind(\"contextmenu\",function(e){\n",
       "        return false;\n",
       "    });\n",
       "\n",
       "    function set_focus () {\n",
       "        canvas.focus();\n",
       "        canvas_div.focus();\n",
       "    }\n",
       "\n",
       "    window.setTimeout(set_focus, 100);\n",
       "}\n",
       "\n",
       "mpl.figure.prototype._init_toolbar = function() {\n",
       "    var fig = this;\n",
       "\n",
       "    var nav_element = $('<div/>')\n",
       "    nav_element.attr('style', 'width: 100%');\n",
       "    this.root.append(nav_element);\n",
       "\n",
       "    // Define a callback function for later on.\n",
       "    function toolbar_event(event) {\n",
       "        return fig.toolbar_button_onclick(event['data']);\n",
       "    }\n",
       "    function toolbar_mouse_event(event) {\n",
       "        return fig.toolbar_button_onmouseover(event['data']);\n",
       "    }\n",
       "\n",
       "    for(var toolbar_ind in mpl.toolbar_items) {\n",
       "        var name = mpl.toolbar_items[toolbar_ind][0];\n",
       "        var tooltip = mpl.toolbar_items[toolbar_ind][1];\n",
       "        var image = mpl.toolbar_items[toolbar_ind][2];\n",
       "        var method_name = mpl.toolbar_items[toolbar_ind][3];\n",
       "\n",
       "        if (!name) {\n",
       "            // put a spacer in here.\n",
       "            continue;\n",
       "        }\n",
       "        var button = $('<button/>');\n",
       "        button.addClass('ui-button ui-widget ui-state-default ui-corner-all ' +\n",
       "                        'ui-button-icon-only');\n",
       "        button.attr('role', 'button');\n",
       "        button.attr('aria-disabled', 'false');\n",
       "        button.click(method_name, toolbar_event);\n",
       "        button.mouseover(tooltip, toolbar_mouse_event);\n",
       "\n",
       "        var icon_img = $('<span/>');\n",
       "        icon_img.addClass('ui-button-icon-primary ui-icon');\n",
       "        icon_img.addClass(image);\n",
       "        icon_img.addClass('ui-corner-all');\n",
       "\n",
       "        var tooltip_span = $('<span/>');\n",
       "        tooltip_span.addClass('ui-button-text');\n",
       "        tooltip_span.html(tooltip);\n",
       "\n",
       "        button.append(icon_img);\n",
       "        button.append(tooltip_span);\n",
       "\n",
       "        nav_element.append(button);\n",
       "    }\n",
       "\n",
       "    var fmt_picker_span = $('<span/>');\n",
       "\n",
       "    var fmt_picker = $('<select/>');\n",
       "    fmt_picker.addClass('mpl-toolbar-option ui-widget ui-widget-content');\n",
       "    fmt_picker_span.append(fmt_picker);\n",
       "    nav_element.append(fmt_picker_span);\n",
       "    this.format_dropdown = fmt_picker[0];\n",
       "\n",
       "    for (var ind in mpl.extensions) {\n",
       "        var fmt = mpl.extensions[ind];\n",
       "        var option = $(\n",
       "            '<option/>', {selected: fmt === mpl.default_extension}).html(fmt);\n",
       "        fmt_picker.append(option)\n",
       "    }\n",
       "\n",
       "    // Add hover states to the ui-buttons\n",
       "    $( \".ui-button\" ).hover(\n",
       "        function() { $(this).addClass(\"ui-state-hover\");},\n",
       "        function() { $(this).removeClass(\"ui-state-hover\");}\n",
       "    );\n",
       "\n",
       "    var status_bar = $('<span class=\"mpl-message\"/>');\n",
       "    nav_element.append(status_bar);\n",
       "    this.message = status_bar[0];\n",
       "}\n",
       "\n",
       "mpl.figure.prototype.request_resize = function(x_pixels, y_pixels) {\n",
       "    // Request matplotlib to resize the figure. Matplotlib will then trigger a resize in the client,\n",
       "    // which will in turn request a refresh of the image.\n",
       "    this.send_message('resize', {'width': x_pixels, 'height': y_pixels});\n",
       "}\n",
       "\n",
       "mpl.figure.prototype.send_message = function(type, properties) {\n",
       "    properties['type'] = type;\n",
       "    properties['figure_id'] = this.id;\n",
       "    this.ws.send(JSON.stringify(properties));\n",
       "}\n",
       "\n",
       "mpl.figure.prototype.send_draw_message = function() {\n",
       "    if (!this.waiting) {\n",
       "        this.waiting = true;\n",
       "        this.ws.send(JSON.stringify({type: \"draw\", figure_id: this.id}));\n",
       "    }\n",
       "}\n",
       "\n",
       "\n",
       "mpl.figure.prototype.handle_save = function(fig, msg) {\n",
       "    var format_dropdown = fig.format_dropdown;\n",
       "    var format = format_dropdown.options[format_dropdown.selectedIndex].value;\n",
       "    fig.ondownload(fig, format);\n",
       "}\n",
       "\n",
       "\n",
       "mpl.figure.prototype.handle_resize = function(fig, msg) {\n",
       "    var size = msg['size'];\n",
       "    if (size[0] != fig.canvas.width || size[1] != fig.canvas.height) {\n",
       "        fig._resize_canvas(size[0], size[1]);\n",
       "        fig.send_message(\"refresh\", {});\n",
       "    };\n",
       "}\n",
       "\n",
       "mpl.figure.prototype.handle_rubberband = function(fig, msg) {\n",
       "    var x0 = msg['x0'] / mpl.ratio;\n",
       "    var y0 = (fig.canvas.height - msg['y0']) / mpl.ratio;\n",
       "    var x1 = msg['x1'] / mpl.ratio;\n",
       "    var y1 = (fig.canvas.height - msg['y1']) / mpl.ratio;\n",
       "    x0 = Math.floor(x0) + 0.5;\n",
       "    y0 = Math.floor(y0) + 0.5;\n",
       "    x1 = Math.floor(x1) + 0.5;\n",
       "    y1 = Math.floor(y1) + 0.5;\n",
       "    var min_x = Math.min(x0, x1);\n",
       "    var min_y = Math.min(y0, y1);\n",
       "    var width = Math.abs(x1 - x0);\n",
       "    var height = Math.abs(y1 - y0);\n",
       "\n",
       "    fig.rubberband_context.clearRect(\n",
       "        0, 0, fig.canvas.width, fig.canvas.height);\n",
       "\n",
       "    fig.rubberband_context.strokeRect(min_x, min_y, width, height);\n",
       "}\n",
       "\n",
       "mpl.figure.prototype.handle_figure_label = function(fig, msg) {\n",
       "    // Updates the figure title.\n",
       "    fig.header.textContent = msg['label'];\n",
       "}\n",
       "\n",
       "mpl.figure.prototype.handle_cursor = function(fig, msg) {\n",
       "    var cursor = msg['cursor'];\n",
       "    switch(cursor)\n",
       "    {\n",
       "    case 0:\n",
       "        cursor = 'pointer';\n",
       "        break;\n",
       "    case 1:\n",
       "        cursor = 'default';\n",
       "        break;\n",
       "    case 2:\n",
       "        cursor = 'crosshair';\n",
       "        break;\n",
       "    case 3:\n",
       "        cursor = 'move';\n",
       "        break;\n",
       "    }\n",
       "    fig.rubberband_canvas.style.cursor = cursor;\n",
       "}\n",
       "\n",
       "mpl.figure.prototype.handle_message = function(fig, msg) {\n",
       "    fig.message.textContent = msg['message'];\n",
       "}\n",
       "\n",
       "mpl.figure.prototype.handle_draw = function(fig, msg) {\n",
       "    // Request the server to send over a new figure.\n",
       "    fig.send_draw_message();\n",
       "}\n",
       "\n",
       "mpl.figure.prototype.handle_image_mode = function(fig, msg) {\n",
       "    fig.image_mode = msg['mode'];\n",
       "}\n",
       "\n",
       "mpl.figure.prototype.updated_canvas_event = function() {\n",
       "    // Called whenever the canvas gets updated.\n",
       "    this.send_message(\"ack\", {});\n",
       "}\n",
       "\n",
       "// A function to construct a web socket function for onmessage handling.\n",
       "// Called in the figure constructor.\n",
       "mpl.figure.prototype._make_on_message_function = function(fig) {\n",
       "    return function socket_on_message(evt) {\n",
       "        if (evt.data instanceof Blob) {\n",
       "            /* FIXME: We get \"Resource interpreted as Image but\n",
       "             * transferred with MIME type text/plain:\" errors on\n",
       "             * Chrome.  But how to set the MIME type?  It doesn't seem\n",
       "             * to be part of the websocket stream */\n",
       "            evt.data.type = \"image/png\";\n",
       "\n",
       "            /* Free the memory for the previous frames */\n",
       "            if (fig.imageObj.src) {\n",
       "                (window.URL || window.webkitURL).revokeObjectURL(\n",
       "                    fig.imageObj.src);\n",
       "            }\n",
       "\n",
       "            fig.imageObj.src = (window.URL || window.webkitURL).createObjectURL(\n",
       "                evt.data);\n",
       "            fig.updated_canvas_event();\n",
       "            fig.waiting = false;\n",
       "            return;\n",
       "        }\n",
       "        else if (typeof evt.data === 'string' && evt.data.slice(0, 21) == \"data:image/png;base64\") {\n",
       "            fig.imageObj.src = evt.data;\n",
       "            fig.updated_canvas_event();\n",
       "            fig.waiting = false;\n",
       "            return;\n",
       "        }\n",
       "\n",
       "        var msg = JSON.parse(evt.data);\n",
       "        var msg_type = msg['type'];\n",
       "\n",
       "        // Call the  \"handle_{type}\" callback, which takes\n",
       "        // the figure and JSON message as its only arguments.\n",
       "        try {\n",
       "            var callback = fig[\"handle_\" + msg_type];\n",
       "        } catch (e) {\n",
       "            console.log(\"No handler for the '\" + msg_type + \"' message type: \", msg);\n",
       "            return;\n",
       "        }\n",
       "\n",
       "        if (callback) {\n",
       "            try {\n",
       "                // console.log(\"Handling '\" + msg_type + \"' message: \", msg);\n",
       "                callback(fig, msg);\n",
       "            } catch (e) {\n",
       "                console.log(\"Exception inside the 'handler_\" + msg_type + \"' callback:\", e, e.stack, msg);\n",
       "            }\n",
       "        }\n",
       "    };\n",
       "}\n",
       "\n",
       "// from http://stackoverflow.com/questions/1114465/getting-mouse-location-in-canvas\n",
       "mpl.findpos = function(e) {\n",
       "    //this section is from http://www.quirksmode.org/js/events_properties.html\n",
       "    var targ;\n",
       "    if (!e)\n",
       "        e = window.event;\n",
       "    if (e.target)\n",
       "        targ = e.target;\n",
       "    else if (e.srcElement)\n",
       "        targ = e.srcElement;\n",
       "    if (targ.nodeType == 3) // defeat Safari bug\n",
       "        targ = targ.parentNode;\n",
       "\n",
       "    // jQuery normalizes the pageX and pageY\n",
       "    // pageX,Y are the mouse positions relative to the document\n",
       "    // offset() returns the position of the element relative to the document\n",
       "    var x = e.pageX - $(targ).offset().left;\n",
       "    var y = e.pageY - $(targ).offset().top;\n",
       "\n",
       "    return {\"x\": x, \"y\": y};\n",
       "};\n",
       "\n",
       "/*\n",
       " * return a copy of an object with only non-object keys\n",
       " * we need this to avoid circular references\n",
       " * http://stackoverflow.com/a/24161582/3208463\n",
       " */\n",
       "function simpleKeys (original) {\n",
       "  return Object.keys(original).reduce(function (obj, key) {\n",
       "    if (typeof original[key] !== 'object')\n",
       "        obj[key] = original[key]\n",
       "    return obj;\n",
       "  }, {});\n",
       "}\n",
       "\n",
       "mpl.figure.prototype.mouse_event = function(event, name) {\n",
       "    var canvas_pos = mpl.findpos(event)\n",
       "\n",
       "    if (name === 'button_press')\n",
       "    {\n",
       "        this.canvas.focus();\n",
       "        this.canvas_div.focus();\n",
       "    }\n",
       "\n",
       "    var x = canvas_pos.x * mpl.ratio;\n",
       "    var y = canvas_pos.y * mpl.ratio;\n",
       "\n",
       "    this.send_message(name, {x: x, y: y, button: event.button,\n",
       "                             step: event.step,\n",
       "                             guiEvent: simpleKeys(event)});\n",
       "\n",
       "    /* This prevents the web browser from automatically changing to\n",
       "     * the text insertion cursor when the button is pressed.  We want\n",
       "     * to control all of the cursor setting manually through the\n",
       "     * 'cursor' event from matplotlib */\n",
       "    event.preventDefault();\n",
       "    return false;\n",
       "}\n",
       "\n",
       "mpl.figure.prototype._key_event_extra = function(event, name) {\n",
       "    // Handle any extra behaviour associated with a key event\n",
       "}\n",
       "\n",
       "mpl.figure.prototype.key_event = function(event, name) {\n",
       "\n",
       "    // Prevent repeat events\n",
       "    if (name == 'key_press')\n",
       "    {\n",
       "        if (event.which === this._key)\n",
       "            return;\n",
       "        else\n",
       "            this._key = event.which;\n",
       "    }\n",
       "    if (name == 'key_release')\n",
       "        this._key = null;\n",
       "\n",
       "    var value = '';\n",
       "    if (event.ctrlKey && event.which != 17)\n",
       "        value += \"ctrl+\";\n",
       "    if (event.altKey && event.which != 18)\n",
       "        value += \"alt+\";\n",
       "    if (event.shiftKey && event.which != 16)\n",
       "        value += \"shift+\";\n",
       "\n",
       "    value += 'k';\n",
       "    value += event.which.toString();\n",
       "\n",
       "    this._key_event_extra(event, name);\n",
       "\n",
       "    this.send_message(name, {key: value,\n",
       "                             guiEvent: simpleKeys(event)});\n",
       "    return false;\n",
       "}\n",
       "\n",
       "mpl.figure.prototype.toolbar_button_onclick = function(name) {\n",
       "    if (name == 'download') {\n",
       "        this.handle_save(this, null);\n",
       "    } else {\n",
       "        this.send_message(\"toolbar_button\", {name: name});\n",
       "    }\n",
       "};\n",
       "\n",
       "mpl.figure.prototype.toolbar_button_onmouseover = function(tooltip) {\n",
       "    this.message.textContent = tooltip;\n",
       "};\n",
       "mpl.toolbar_items = [[\"Home\", \"Reset original view\", \"fa fa-home icon-home\", \"home\"], [\"Back\", \"Back to  previous view\", \"fa fa-arrow-left icon-arrow-left\", \"back\"], [\"Forward\", \"Forward to next view\", \"fa fa-arrow-right icon-arrow-right\", \"forward\"], [\"\", \"\", \"\", \"\"], [\"Pan\", \"Pan axes with left mouse, zoom with right\", \"fa fa-arrows icon-move\", \"pan\"], [\"Zoom\", \"Zoom to rectangle\", \"fa fa-square-o icon-check-empty\", \"zoom\"], [\"\", \"\", \"\", \"\"], [\"Download\", \"Download plot\", \"fa fa-floppy-o icon-save\", \"download\"]];\n",
       "\n",
       "mpl.extensions = [\"eps\", \"jpeg\", \"pdf\", \"png\", \"ps\", \"raw\", \"svg\", \"tif\"];\n",
       "\n",
       "mpl.default_extension = \"png\";var comm_websocket_adapter = function(comm) {\n",
       "    // Create a \"websocket\"-like object which calls the given IPython comm\n",
       "    // object with the appropriate methods. Currently this is a non binary\n",
       "    // socket, so there is still some room for performance tuning.\n",
       "    var ws = {};\n",
       "\n",
       "    ws.close = function() {\n",
       "        comm.close()\n",
       "    };\n",
       "    ws.send = function(m) {\n",
       "        //console.log('sending', m);\n",
       "        comm.send(m);\n",
       "    };\n",
       "    // Register the callback with on_msg.\n",
       "    comm.on_msg(function(msg) {\n",
       "        //console.log('receiving', msg['content']['data'], msg);\n",
       "        // Pass the mpl event to the overriden (by mpl) onmessage function.\n",
       "        ws.onmessage(msg['content']['data'])\n",
       "    });\n",
       "    return ws;\n",
       "}\n",
       "\n",
       "mpl.mpl_figure_comm = function(comm, msg) {\n",
       "    // This is the function which gets called when the mpl process\n",
       "    // starts-up an IPython Comm through the \"matplotlib\" channel.\n",
       "\n",
       "    var id = msg.content.data.id;\n",
       "    // Get hold of the div created by the display call when the Comm\n",
       "    // socket was opened in Python.\n",
       "    var element = $(\"#\" + id);\n",
       "    var ws_proxy = comm_websocket_adapter(comm)\n",
       "\n",
       "    function ondownload(figure, format) {\n",
       "        window.open(figure.imageObj.src);\n",
       "    }\n",
       "\n",
       "    var fig = new mpl.figure(id, ws_proxy,\n",
       "                           ondownload,\n",
       "                           element.get(0));\n",
       "\n",
       "    // Call onopen now - mpl needs it, as it is assuming we've passed it a real\n",
       "    // web socket which is closed, not our websocket->open comm proxy.\n",
       "    ws_proxy.onopen();\n",
       "\n",
       "    fig.parent_element = element.get(0);\n",
       "    fig.cell_info = mpl.find_output_cell(\"<div id='\" + id + \"'></div>\");\n",
       "    if (!fig.cell_info) {\n",
       "        console.error(\"Failed to find cell for figure\", id, fig);\n",
       "        return;\n",
       "    }\n",
       "\n",
       "    var output_index = fig.cell_info[2]\n",
       "    var cell = fig.cell_info[0];\n",
       "\n",
       "};\n",
       "\n",
       "mpl.figure.prototype.handle_close = function(fig, msg) {\n",
       "    var width = fig.canvas.width/mpl.ratio\n",
       "    fig.root.unbind('remove')\n",
       "\n",
       "    // Update the output cell to use the data from the current canvas.\n",
       "    fig.push_to_output();\n",
       "    var dataURL = fig.canvas.toDataURL();\n",
       "    // Re-enable the keyboard manager in IPython - without this line, in FF,\n",
       "    // the notebook keyboard shortcuts fail.\n",
       "    IPython.keyboard_manager.enable()\n",
       "    $(fig.parent_element).html('<img src=\"' + dataURL + '\" width=\"' + width + '\">');\n",
       "    fig.close_ws(fig, msg);\n",
       "}\n",
       "\n",
       "mpl.figure.prototype.close_ws = function(fig, msg){\n",
       "    fig.send_message('closing', msg);\n",
       "    // fig.ws.close()\n",
       "}\n",
       "\n",
       "mpl.figure.prototype.push_to_output = function(remove_interactive) {\n",
       "    // Turn the data on the canvas into data in the output cell.\n",
       "    var width = this.canvas.width/mpl.ratio\n",
       "    var dataURL = this.canvas.toDataURL();\n",
       "    this.cell_info[1]['text/html'] = '<img src=\"' + dataURL + '\" width=\"' + width + '\">';\n",
       "}\n",
       "\n",
       "mpl.figure.prototype.updated_canvas_event = function() {\n",
       "    // Tell IPython that the notebook contents must change.\n",
       "    IPython.notebook.set_dirty(true);\n",
       "    this.send_message(\"ack\", {});\n",
       "    var fig = this;\n",
       "    // Wait a second, then push the new image to the DOM so\n",
       "    // that it is saved nicely (might be nice to debounce this).\n",
       "    setTimeout(function () { fig.push_to_output() }, 1000);\n",
       "}\n",
       "\n",
       "mpl.figure.prototype._init_toolbar = function() {\n",
       "    var fig = this;\n",
       "\n",
       "    var nav_element = $('<div/>')\n",
       "    nav_element.attr('style', 'width: 100%');\n",
       "    this.root.append(nav_element);\n",
       "\n",
       "    // Define a callback function for later on.\n",
       "    function toolbar_event(event) {\n",
       "        return fig.toolbar_button_onclick(event['data']);\n",
       "    }\n",
       "    function toolbar_mouse_event(event) {\n",
       "        return fig.toolbar_button_onmouseover(event['data']);\n",
       "    }\n",
       "\n",
       "    for(var toolbar_ind in mpl.toolbar_items){\n",
       "        var name = mpl.toolbar_items[toolbar_ind][0];\n",
       "        var tooltip = mpl.toolbar_items[toolbar_ind][1];\n",
       "        var image = mpl.toolbar_items[toolbar_ind][2];\n",
       "        var method_name = mpl.toolbar_items[toolbar_ind][3];\n",
       "\n",
       "        if (!name) { continue; };\n",
       "\n",
       "        var button = $('<button class=\"btn btn-default\" href=\"#\" title=\"' + name + '\"><i class=\"fa ' + image + ' fa-lg\"></i></button>');\n",
       "        button.click(method_name, toolbar_event);\n",
       "        button.mouseover(tooltip, toolbar_mouse_event);\n",
       "        nav_element.append(button);\n",
       "    }\n",
       "\n",
       "    // Add the status bar.\n",
       "    var status_bar = $('<span class=\"mpl-message\" style=\"text-align:right; float: right;\"/>');\n",
       "    nav_element.append(status_bar);\n",
       "    this.message = status_bar[0];\n",
       "\n",
       "    // Add the close button to the window.\n",
       "    var buttongrp = $('<div class=\"btn-group inline pull-right\"></div>');\n",
       "    var button = $('<button class=\"btn btn-mini btn-primary\" href=\"#\" title=\"Stop Interaction\"><i class=\"fa fa-power-off icon-remove icon-large\"></i></button>');\n",
       "    button.click(function (evt) { fig.handle_close(fig, {}); } );\n",
       "    button.mouseover('Stop Interaction', toolbar_mouse_event);\n",
       "    buttongrp.append(button);\n",
       "    var titlebar = this.root.find($('.ui-dialog-titlebar'));\n",
       "    titlebar.prepend(buttongrp);\n",
       "}\n",
       "\n",
       "mpl.figure.prototype._root_extra_style = function(el){\n",
       "    var fig = this\n",
       "    el.on(\"remove\", function(){\n",
       "\tfig.close_ws(fig, {});\n",
       "    });\n",
       "}\n",
       "\n",
       "mpl.figure.prototype._canvas_extra_style = function(el){\n",
       "    // this is important to make the div 'focusable\n",
       "    el.attr('tabindex', 0)\n",
       "    // reach out to IPython and tell the keyboard manager to turn it's self\n",
       "    // off when our div gets focus\n",
       "\n",
       "    // location in version 3\n",
       "    if (IPython.notebook.keyboard_manager) {\n",
       "        IPython.notebook.keyboard_manager.register_events(el);\n",
       "    }\n",
       "    else {\n",
       "        // location in version 2\n",
       "        IPython.keyboard_manager.register_events(el);\n",
       "    }\n",
       "\n",
       "}\n",
       "\n",
       "mpl.figure.prototype._key_event_extra = function(event, name) {\n",
       "    var manager = IPython.notebook.keyboard_manager;\n",
       "    if (!manager)\n",
       "        manager = IPython.keyboard_manager;\n",
       "\n",
       "    // Check for shift+enter\n",
       "    if (event.shiftKey && event.which == 13) {\n",
       "        this.canvas_div.blur();\n",
       "        event.shiftKey = false;\n",
       "        // Send a \"J\" for go to next cell\n",
       "        event.which = 74;\n",
       "        event.keyCode = 74;\n",
       "        manager.command_mode();\n",
       "        manager.handle_keydown(event);\n",
       "    }\n",
       "}\n",
       "\n",
       "mpl.figure.prototype.handle_save = function(fig, msg) {\n",
       "    fig.ondownload(fig, null);\n",
       "}\n",
       "\n",
       "\n",
       "mpl.find_output_cell = function(html_output) {\n",
       "    // Return the cell and output element which can be found *uniquely* in the notebook.\n",
       "    // Note - this is a bit hacky, but it is done because the \"notebook_saving.Notebook\"\n",
       "    // IPython event is triggered only after the cells have been serialised, which for\n",
       "    // our purposes (turning an active figure into a static one), is too late.\n",
       "    var cells = IPython.notebook.get_cells();\n",
       "    var ncells = cells.length;\n",
       "    for (var i=0; i<ncells; i++) {\n",
       "        var cell = cells[i];\n",
       "        if (cell.cell_type === 'code'){\n",
       "            for (var j=0; j<cell.output_area.outputs.length; j++) {\n",
       "                var data = cell.output_area.outputs[j];\n",
       "                if (data.data) {\n",
       "                    // IPython >= 3 moved mimebundle to data attribute of output\n",
       "                    data = data.data;\n",
       "                }\n",
       "                if (data['text/html'] == html_output) {\n",
       "                    return [cell, data, j];\n",
       "                }\n",
       "            }\n",
       "        }\n",
       "    }\n",
       "}\n",
       "\n",
       "// Register the function which deals with the matplotlib target/channel.\n",
       "// The kernel may be null if the page has been refreshed.\n",
       "if (IPython.notebook.kernel != null) {\n",
       "    IPython.notebook.kernel.comm_manager.register_target('matplotlib', mpl.mpl_figure_comm);\n",
       "}\n"
      ],
      "text/plain": [
       "<IPython.core.display.Javascript object>"
      ]
     },
     "metadata": {},
     "output_type": "display_data"
    },
    {
     "data": {
      "text/html": [
       "<img src=\"data:image/png;base64,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\" width=\"640\">"
      ],
      "text/plain": [
       "<IPython.core.display.HTML object>"
      ]
     },
     "metadata": {},
     "output_type": "display_data"
    }
   ],
   "source": [
    "xgb.plot_importance(xgb_bsl)\n",
    "plt.show()"
   ]
  },
  {
   "cell_type": "markdown",
   "metadata": {},
   "source": [
    " - Observations :\n",
    " "
   ]
  },
  {
   "cell_type": "markdown",
   "metadata": {},
   "source": [
    " "
   ]
  },
  {
   "cell_type": "markdown",
   "metadata": {},
   "source": [
    " "
   ]
  },
  {
   "cell_type": "markdown",
   "metadata": {},
   "source": [
    " "
   ]
  },
  {
   "cell_type": "markdown",
   "metadata": {},
   "source": [
    "### 1.3.3 Evaluating new XGB with Traindata"
   ]
  },
  {
   "cell_type": "code",
   "execution_count": 195,
   "metadata": {},
   "outputs": [
    {
     "data": {
      "text/html": [
       "<div>\n",
       "<style scoped>\n",
       "    .dataframe tbody tr th:only-of-type {\n",
       "        vertical-align: middle;\n",
       "    }\n",
       "\n",
       "    .dataframe tbody tr th {\n",
       "        vertical-align: top;\n",
       "    }\n",
       "\n",
       "    .dataframe thead th {\n",
       "        text-align: right;\n",
       "    }\n",
       "</style>\n",
       "<table border=\"1\" class=\"dataframe\">\n",
       "  <thead>\n",
       "    <tr style=\"text-align: right;\">\n",
       "      <th></th>\n",
       "      <th>user</th>\n",
       "      <th>movie</th>\n",
       "      <th>GAvg</th>\n",
       "      <th>sur1</th>\n",
       "      <th>sur2</th>\n",
       "      <th>sur3</th>\n",
       "      <th>sur4</th>\n",
       "      <th>sur5</th>\n",
       "      <th>smr1</th>\n",
       "      <th>smr2</th>\n",
       "      <th>smr3</th>\n",
       "      <th>smr4</th>\n",
       "      <th>smr5</th>\n",
       "      <th>UAvg</th>\n",
       "      <th>MAvg</th>\n",
       "      <th>rating</th>\n",
       "    </tr>\n",
       "  </thead>\n",
       "  <tbody>\n",
       "    <tr>\n",
       "      <th>0</th>\n",
       "      <td>118</td>\n",
       "      <td>0</td>\n",
       "      <td>3.624457</td>\n",
       "      <td>5.0</td>\n",
       "      <td>4.0</td>\n",
       "      <td>4.0</td>\n",
       "      <td>5.0</td>\n",
       "      <td>4.0</td>\n",
       "      <td>4.20339</td>\n",
       "      <td>4.20339</td>\n",
       "      <td>4.20339</td>\n",
       "      <td>4.20339</td>\n",
       "      <td>4.20339</td>\n",
       "      <td>4.20339</td>\n",
       "      <td>2.0</td>\n",
       "      <td>3.0</td>\n",
       "    </tr>\n",
       "    <tr>\n",
       "      <th>1</th>\n",
       "      <td>192</td>\n",
       "      <td>0</td>\n",
       "      <td>3.624457</td>\n",
       "      <td>3.0</td>\n",
       "      <td>3.0</td>\n",
       "      <td>2.0</td>\n",
       "      <td>4.0</td>\n",
       "      <td>4.0</td>\n",
       "      <td>5.00000</td>\n",
       "      <td>4.00000</td>\n",
       "      <td>3.00000</td>\n",
       "      <td>3.00000</td>\n",
       "      <td>3.00000</td>\n",
       "      <td>3.00000</td>\n",
       "      <td>2.0</td>\n",
       "      <td>5.0</td>\n",
       "    </tr>\n",
       "  </tbody>\n",
       "</table>\n",
       "</div>"
      ],
      "text/plain": [
       "   user  movie      GAvg  sur1  sur2  sur3  sur4  sur5     smr1     smr2  \\\n",
       "0   118      0  3.624457   5.0   4.0   4.0   5.0   4.0  4.20339  4.20339   \n",
       "1   192      0  3.624457   3.0   3.0   2.0   4.0   4.0  5.00000  4.00000   \n",
       "\n",
       "      smr3     smr4     smr5     UAvg  MAvg  rating  \n",
       "0  4.20339  4.20339  4.20339  4.20339   2.0     3.0  \n",
       "1  3.00000  3.00000  3.00000  3.00000   2.0     5.0  "
      ]
     },
     "execution_count": 195,
     "metadata": {},
     "output_type": "execute_result"
    }
   ],
   "source": [
    "reg_test_df.head(2)"
   ]
  },
  {
   "cell_type": "code",
   "execution_count": 248,
   "metadata": {},
   "outputs": [
    {
     "data": {
      "text/html": [
       "<div>\n",
       "<style scoped>\n",
       "    .dataframe tbody tr th:only-of-type {\n",
       "        vertical-align: middle;\n",
       "    }\n",
       "\n",
       "    .dataframe tbody tr th {\n",
       "        vertical-align: top;\n",
       "    }\n",
       "\n",
       "    .dataframe thead th {\n",
       "        text-align: right;\n",
       "    }\n",
       "</style>\n",
       "<table border=\"1\" class=\"dataframe\">\n",
       "  <thead>\n",
       "    <tr style=\"text-align: right;\">\n",
       "      <th></th>\n",
       "      <th>user</th>\n",
       "      <th>movie</th>\n",
       "      <th>GAvg</th>\n",
       "      <th>sur1</th>\n",
       "      <th>sur2</th>\n",
       "      <th>sur3</th>\n",
       "      <th>sur4</th>\n",
       "      <th>sur5</th>\n",
       "      <th>smr1</th>\n",
       "      <th>smr2</th>\n",
       "      <th>smr3</th>\n",
       "      <th>smr4</th>\n",
       "      <th>smr5</th>\n",
       "      <th>UAvg</th>\n",
       "      <th>MAvg</th>\n",
       "      <th>rating</th>\n",
       "      <th>bslpr</th>\n",
       "    </tr>\n",
       "  </thead>\n",
       "  <tbody>\n",
       "    <tr>\n",
       "      <th>0</th>\n",
       "      <td>118</td>\n",
       "      <td>0</td>\n",
       "      <td>3.624457</td>\n",
       "      <td>5.0</td>\n",
       "      <td>4.0</td>\n",
       "      <td>4.0</td>\n",
       "      <td>5.0</td>\n",
       "      <td>4.0</td>\n",
       "      <td>4.20339</td>\n",
       "      <td>4.20339</td>\n",
       "      <td>4.20339</td>\n",
       "      <td>4.20339</td>\n",
       "      <td>4.20339</td>\n",
       "      <td>4.20339</td>\n",
       "      <td>2.0</td>\n",
       "      <td>3.0</td>\n",
       "      <td>3.948776</td>\n",
       "    </tr>\n",
       "    <tr>\n",
       "      <th>1</th>\n",
       "      <td>192</td>\n",
       "      <td>0</td>\n",
       "      <td>3.624457</td>\n",
       "      <td>3.0</td>\n",
       "      <td>3.0</td>\n",
       "      <td>2.0</td>\n",
       "      <td>4.0</td>\n",
       "      <td>4.0</td>\n",
       "      <td>5.00000</td>\n",
       "      <td>4.00000</td>\n",
       "      <td>3.00000</td>\n",
       "      <td>3.00000</td>\n",
       "      <td>3.00000</td>\n",
       "      <td>3.00000</td>\n",
       "      <td>2.0</td>\n",
       "      <td>5.0</td>\n",
       "      <td>3.542484</td>\n",
       "    </tr>\n",
       "  </tbody>\n",
       "</table>\n",
       "</div>"
      ],
      "text/plain": [
       "   user  movie      GAvg  sur1  sur2  sur3  sur4  sur5     smr1     smr2  \\\n",
       "0   118      0  3.624457   5.0   4.0   4.0   5.0   4.0  4.20339  4.20339   \n",
       "1   192      0  3.624457   3.0   3.0   2.0   4.0   4.0  5.00000  4.00000   \n",
       "\n",
       "      smr3     smr4     smr5     UAvg  MAvg  rating     bslpr  \n",
       "0  4.20339  4.20339  4.20339  4.20339   2.0     3.0  3.948776  \n",
       "1  3.00000  3.00000  3.00000  3.00000   2.0     5.0  3.542484  "
      ]
     },
     "execution_count": 248,
     "metadata": {},
     "output_type": "execute_result"
    }
   ],
   "source": [
    "# add that baseline predicted ratings with Surprise to the test data as well\n",
    "reg_test_df['bslpr']  = models_evaluation_test['bsl_algo']['predictions']\n",
    "\n",
    "reg_test_df.head(2)"
   ]
  },
  {
   "cell_type": "code",
   "execution_count": 250,
   "metadata": {},
   "outputs": [
    {
     "data": {
      "text/plain": [
       "(1.1896540970709255, 35.05026182158571)"
      ]
     },
     "execution_count": 250,
     "metadata": {},
     "output_type": "execute_result"
    }
   ],
   "source": [
    "x_test = reg_test_df.drop(['user','movie','rating'], axis=1)\n",
    "y_test = reg_test_df['rating']\n",
    "\n",
    "xgb_bsl_test_preds = xgb_bsl.predict(x_test)\n",
    "rmse_test, mape_test = get_error_metrics(y_true=y_test.values, y_pred=xgb_bsl_test_preds)\n",
    "rmse_test, mape_test"
   ]
  },
  {
   "cell_type": "code",
   "execution_count": 255,
   "metadata": {},
   "outputs": [
    {
     "data": {
      "text/plain": [
       "{'mape': 35.05026182158571,\n",
       " 'predictions': array([3.8989341, 2.40227  , 3.0303586, ..., 3.402841 , 3.2198586,\n",
       "        3.0186212], dtype=float32),\n",
       " 'rmse': 1.1896540970709255}"
      ]
     },
     "execution_count": 255,
     "metadata": {},
     "output_type": "execute_result"
    }
   ],
   "source": [
    "# __ Storing these metrics to the dictionary__\n",
    "#########################################################\n",
    "models_evaluation_test['xgb_bsl'] = {'rmse': rmse_test, 'mape': mape_test}\n",
    "models_evaluation_test['xgb_bsl']['predictions'] = xgb_bsl_test_preds\n",
    "\n",
    "models_evaluation_test['xgb_bsl']"
   ]
  },
  {
   "cell_type": "markdown",
   "metadata": {},
   "source": [
    " "
   ]
  },
  {
   "cell_type": "markdown",
   "metadata": {},
   "source": [
    " "
   ]
  },
  {
   "cell_type": "markdown",
   "metadata": {},
   "source": [
    " "
   ]
  },
  {
   "cell_type": "code",
   "execution_count": 252,
   "metadata": {
    "scrolled": true
   },
   "outputs": [
    {
     "name": "stdout",
     "output_type": "stream",
     "text": [
      "No. of predicted ratings with error between 0 and 1(inclusive) : 4906\n",
      "No. of predicted ratings with error between 1 and 2(inclusive) : 2616\n",
      "No. of predicted ratings with error between 2 and 3(inclusive) : 596\n",
      "No. of predicted ratings with error between 3 and 4(inclusive) : 90\n",
      "No. of predicted ratings with error > 4 : 0\n"
     ]
    }
   ],
   "source": [
    "print_error_dists(np.abs(y_test.values-xgb_bsl_test_preds))"
   ]
  },
  {
   "cell_type": "markdown",
   "metadata": {},
   "source": [
    " "
   ]
  },
  {
   "cell_type": "code",
   "execution_count": 257,
   "metadata": {},
   "outputs": [
    {
     "data": {
      "application/javascript": [
       "/* Put everything inside the global mpl namespace */\n",
       "window.mpl = {};\n",
       "\n",
       "\n",
       "mpl.get_websocket_type = function() {\n",
       "    if (typeof(WebSocket) !== 'undefined') {\n",
       "        return WebSocket;\n",
       "    } else if (typeof(MozWebSocket) !== 'undefined') {\n",
       "        return MozWebSocket;\n",
       "    } else {\n",
       "        alert('Your browser does not have WebSocket support.' +\n",
       "              'Please try Chrome, Safari or Firefox ≥ 6. ' +\n",
       "              'Firefox 4 and 5 are also supported but you ' +\n",
       "              'have to enable WebSockets in about:config.');\n",
       "    };\n",
       "}\n",
       "\n",
       "mpl.figure = function(figure_id, websocket, ondownload, parent_element) {\n",
       "    this.id = figure_id;\n",
       "\n",
       "    this.ws = websocket;\n",
       "\n",
       "    this.supports_binary = (this.ws.binaryType != undefined);\n",
       "\n",
       "    if (!this.supports_binary) {\n",
       "        var warnings = document.getElementById(\"mpl-warnings\");\n",
       "        if (warnings) {\n",
       "            warnings.style.display = 'block';\n",
       "            warnings.textContent = (\n",
       "                \"This browser does not support binary websocket messages. \" +\n",
       "                    \"Performance may be slow.\");\n",
       "        }\n",
       "    }\n",
       "\n",
       "    this.imageObj = new Image();\n",
       "\n",
       "    this.context = undefined;\n",
       "    this.message = undefined;\n",
       "    this.canvas = undefined;\n",
       "    this.rubberband_canvas = undefined;\n",
       "    this.rubberband_context = undefined;\n",
       "    this.format_dropdown = undefined;\n",
       "\n",
       "    this.image_mode = 'full';\n",
       "\n",
       "    this.root = $('<div/>');\n",
       "    this._root_extra_style(this.root)\n",
       "    this.root.attr('style', 'display: inline-block');\n",
       "\n",
       "    $(parent_element).append(this.root);\n",
       "\n",
       "    this._init_header(this);\n",
       "    this._init_canvas(this);\n",
       "    this._init_toolbar(this);\n",
       "\n",
       "    var fig = this;\n",
       "\n",
       "    this.waiting = false;\n",
       "\n",
       "    this.ws.onopen =  function () {\n",
       "            fig.send_message(\"supports_binary\", {value: fig.supports_binary});\n",
       "            fig.send_message(\"send_image_mode\", {});\n",
       "            if (mpl.ratio != 1) {\n",
       "                fig.send_message(\"set_dpi_ratio\", {'dpi_ratio': mpl.ratio});\n",
       "            }\n",
       "            fig.send_message(\"refresh\", {});\n",
       "        }\n",
       "\n",
       "    this.imageObj.onload = function() {\n",
       "            if (fig.image_mode == 'full') {\n",
       "                // Full images could contain transparency (where diff images\n",
       "                // almost always do), so we need to clear the canvas so that\n",
       "                // there is no ghosting.\n",
       "                fig.context.clearRect(0, 0, fig.canvas.width, fig.canvas.height);\n",
       "            }\n",
       "            fig.context.drawImage(fig.imageObj, 0, 0);\n",
       "        };\n",
       "\n",
       "    this.imageObj.onunload = function() {\n",
       "        fig.ws.close();\n",
       "    }\n",
       "\n",
       "    this.ws.onmessage = this._make_on_message_function(this);\n",
       "\n",
       "    this.ondownload = ondownload;\n",
       "}\n",
       "\n",
       "mpl.figure.prototype._init_header = function() {\n",
       "    var titlebar = $(\n",
       "        '<div class=\"ui-dialog-titlebar ui-widget-header ui-corner-all ' +\n",
       "        'ui-helper-clearfix\"/>');\n",
       "    var titletext = $(\n",
       "        '<div class=\"ui-dialog-title\" style=\"width: 100%; ' +\n",
       "        'text-align: center; padding: 3px;\"/>');\n",
       "    titlebar.append(titletext)\n",
       "    this.root.append(titlebar);\n",
       "    this.header = titletext[0];\n",
       "}\n",
       "\n",
       "\n",
       "\n",
       "mpl.figure.prototype._canvas_extra_style = function(canvas_div) {\n",
       "\n",
       "}\n",
       "\n",
       "\n",
       "mpl.figure.prototype._root_extra_style = function(canvas_div) {\n",
       "\n",
       "}\n",
       "\n",
       "mpl.figure.prototype._init_canvas = function() {\n",
       "    var fig = this;\n",
       "\n",
       "    var canvas_div = $('<div/>');\n",
       "\n",
       "    canvas_div.attr('style', 'position: relative; clear: both; outline: 0');\n",
       "\n",
       "    function canvas_keyboard_event(event) {\n",
       "        return fig.key_event(event, event['data']);\n",
       "    }\n",
       "\n",
       "    canvas_div.keydown('key_press', canvas_keyboard_event);\n",
       "    canvas_div.keyup('key_release', canvas_keyboard_event);\n",
       "    this.canvas_div = canvas_div\n",
       "    this._canvas_extra_style(canvas_div)\n",
       "    this.root.append(canvas_div);\n",
       "\n",
       "    var canvas = $('<canvas/>');\n",
       "    canvas.addClass('mpl-canvas');\n",
       "    canvas.attr('style', \"left: 0; top: 0; z-index: 0; outline: 0\")\n",
       "\n",
       "    this.canvas = canvas[0];\n",
       "    this.context = canvas[0].getContext(\"2d\");\n",
       "\n",
       "    var backingStore = this.context.backingStorePixelRatio ||\n",
       "\tthis.context.webkitBackingStorePixelRatio ||\n",
       "\tthis.context.mozBackingStorePixelRatio ||\n",
       "\tthis.context.msBackingStorePixelRatio ||\n",
       "\tthis.context.oBackingStorePixelRatio ||\n",
       "\tthis.context.backingStorePixelRatio || 1;\n",
       "\n",
       "    mpl.ratio = (window.devicePixelRatio || 1) / backingStore;\n",
       "\n",
       "    var rubberband = $('<canvas/>');\n",
       "    rubberband.attr('style', \"position: absolute; left: 0; top: 0; z-index: 1;\")\n",
       "\n",
       "    var pass_mouse_events = true;\n",
       "\n",
       "    canvas_div.resizable({\n",
       "        start: function(event, ui) {\n",
       "            pass_mouse_events = false;\n",
       "        },\n",
       "        resize: function(event, ui) {\n",
       "            fig.request_resize(ui.size.width, ui.size.height);\n",
       "        },\n",
       "        stop: function(event, ui) {\n",
       "            pass_mouse_events = true;\n",
       "            fig.request_resize(ui.size.width, ui.size.height);\n",
       "        },\n",
       "    });\n",
       "\n",
       "    function mouse_event_fn(event) {\n",
       "        if (pass_mouse_events)\n",
       "            return fig.mouse_event(event, event['data']);\n",
       "    }\n",
       "\n",
       "    rubberband.mousedown('button_press', mouse_event_fn);\n",
       "    rubberband.mouseup('button_release', mouse_event_fn);\n",
       "    // Throttle sequential mouse events to 1 every 20ms.\n",
       "    rubberband.mousemove('motion_notify', mouse_event_fn);\n",
       "\n",
       "    rubberband.mouseenter('figure_enter', mouse_event_fn);\n",
       "    rubberband.mouseleave('figure_leave', mouse_event_fn);\n",
       "\n",
       "    canvas_div.on(\"wheel\", function (event) {\n",
       "        event = event.originalEvent;\n",
       "        event['data'] = 'scroll'\n",
       "        if (event.deltaY < 0) {\n",
       "            event.step = 1;\n",
       "        } else {\n",
       "            event.step = -1;\n",
       "        }\n",
       "        mouse_event_fn(event);\n",
       "    });\n",
       "\n",
       "    canvas_div.append(canvas);\n",
       "    canvas_div.append(rubberband);\n",
       "\n",
       "    this.rubberband = rubberband;\n",
       "    this.rubberband_canvas = rubberband[0];\n",
       "    this.rubberband_context = rubberband[0].getContext(\"2d\");\n",
       "    this.rubberband_context.strokeStyle = \"#000000\";\n",
       "\n",
       "    this._resize_canvas = function(width, height) {\n",
       "        // Keep the size of the canvas, canvas container, and rubber band\n",
       "        // canvas in synch.\n",
       "        canvas_div.css('width', width)\n",
       "        canvas_div.css('height', height)\n",
       "\n",
       "        canvas.attr('width', width * mpl.ratio);\n",
       "        canvas.attr('height', height * mpl.ratio);\n",
       "        canvas.attr('style', 'width: ' + width + 'px; height: ' + height + 'px;');\n",
       "\n",
       "        rubberband.attr('width', width);\n",
       "        rubberband.attr('height', height);\n",
       "    }\n",
       "\n",
       "    // Set the figure to an initial 600x600px, this will subsequently be updated\n",
       "    // upon first draw.\n",
       "    this._resize_canvas(600, 600);\n",
       "\n",
       "    // Disable right mouse context menu.\n",
       "    $(this.rubberband_canvas).bind(\"contextmenu\",function(e){\n",
       "        return false;\n",
       "    });\n",
       "\n",
       "    function set_focus () {\n",
       "        canvas.focus();\n",
       "        canvas_div.focus();\n",
       "    }\n",
       "\n",
       "    window.setTimeout(set_focus, 100);\n",
       "}\n",
       "\n",
       "mpl.figure.prototype._init_toolbar = function() {\n",
       "    var fig = this;\n",
       "\n",
       "    var nav_element = $('<div/>')\n",
       "    nav_element.attr('style', 'width: 100%');\n",
       "    this.root.append(nav_element);\n",
       "\n",
       "    // Define a callback function for later on.\n",
       "    function toolbar_event(event) {\n",
       "        return fig.toolbar_button_onclick(event['data']);\n",
       "    }\n",
       "    function toolbar_mouse_event(event) {\n",
       "        return fig.toolbar_button_onmouseover(event['data']);\n",
       "    }\n",
       "\n",
       "    for(var toolbar_ind in mpl.toolbar_items) {\n",
       "        var name = mpl.toolbar_items[toolbar_ind][0];\n",
       "        var tooltip = mpl.toolbar_items[toolbar_ind][1];\n",
       "        var image = mpl.toolbar_items[toolbar_ind][2];\n",
       "        var method_name = mpl.toolbar_items[toolbar_ind][3];\n",
       "\n",
       "        if (!name) {\n",
       "            // put a spacer in here.\n",
       "            continue;\n",
       "        }\n",
       "        var button = $('<button/>');\n",
       "        button.addClass('ui-button ui-widget ui-state-default ui-corner-all ' +\n",
       "                        'ui-button-icon-only');\n",
       "        button.attr('role', 'button');\n",
       "        button.attr('aria-disabled', 'false');\n",
       "        button.click(method_name, toolbar_event);\n",
       "        button.mouseover(tooltip, toolbar_mouse_event);\n",
       "\n",
       "        var icon_img = $('<span/>');\n",
       "        icon_img.addClass('ui-button-icon-primary ui-icon');\n",
       "        icon_img.addClass(image);\n",
       "        icon_img.addClass('ui-corner-all');\n",
       "\n",
       "        var tooltip_span = $('<span/>');\n",
       "        tooltip_span.addClass('ui-button-text');\n",
       "        tooltip_span.html(tooltip);\n",
       "\n",
       "        button.append(icon_img);\n",
       "        button.append(tooltip_span);\n",
       "\n",
       "        nav_element.append(button);\n",
       "    }\n",
       "\n",
       "    var fmt_picker_span = $('<span/>');\n",
       "\n",
       "    var fmt_picker = $('<select/>');\n",
       "    fmt_picker.addClass('mpl-toolbar-option ui-widget ui-widget-content');\n",
       "    fmt_picker_span.append(fmt_picker);\n",
       "    nav_element.append(fmt_picker_span);\n",
       "    this.format_dropdown = fmt_picker[0];\n",
       "\n",
       "    for (var ind in mpl.extensions) {\n",
       "        var fmt = mpl.extensions[ind];\n",
       "        var option = $(\n",
       "            '<option/>', {selected: fmt === mpl.default_extension}).html(fmt);\n",
       "        fmt_picker.append(option)\n",
       "    }\n",
       "\n",
       "    // Add hover states to the ui-buttons\n",
       "    $( \".ui-button\" ).hover(\n",
       "        function() { $(this).addClass(\"ui-state-hover\");},\n",
       "        function() { $(this).removeClass(\"ui-state-hover\");}\n",
       "    );\n",
       "\n",
       "    var status_bar = $('<span class=\"mpl-message\"/>');\n",
       "    nav_element.append(status_bar);\n",
       "    this.message = status_bar[0];\n",
       "}\n",
       "\n",
       "mpl.figure.prototype.request_resize = function(x_pixels, y_pixels) {\n",
       "    // Request matplotlib to resize the figure. Matplotlib will then trigger a resize in the client,\n",
       "    // which will in turn request a refresh of the image.\n",
       "    this.send_message('resize', {'width': x_pixels, 'height': y_pixels});\n",
       "}\n",
       "\n",
       "mpl.figure.prototype.send_message = function(type, properties) {\n",
       "    properties['type'] = type;\n",
       "    properties['figure_id'] = this.id;\n",
       "    this.ws.send(JSON.stringify(properties));\n",
       "}\n",
       "\n",
       "mpl.figure.prototype.send_draw_message = function() {\n",
       "    if (!this.waiting) {\n",
       "        this.waiting = true;\n",
       "        this.ws.send(JSON.stringify({type: \"draw\", figure_id: this.id}));\n",
       "    }\n",
       "}\n",
       "\n",
       "\n",
       "mpl.figure.prototype.handle_save = function(fig, msg) {\n",
       "    var format_dropdown = fig.format_dropdown;\n",
       "    var format = format_dropdown.options[format_dropdown.selectedIndex].value;\n",
       "    fig.ondownload(fig, format);\n",
       "}\n",
       "\n",
       "\n",
       "mpl.figure.prototype.handle_resize = function(fig, msg) {\n",
       "    var size = msg['size'];\n",
       "    if (size[0] != fig.canvas.width || size[1] != fig.canvas.height) {\n",
       "        fig._resize_canvas(size[0], size[1]);\n",
       "        fig.send_message(\"refresh\", {});\n",
       "    };\n",
       "}\n",
       "\n",
       "mpl.figure.prototype.handle_rubberband = function(fig, msg) {\n",
       "    var x0 = msg['x0'] / mpl.ratio;\n",
       "    var y0 = (fig.canvas.height - msg['y0']) / mpl.ratio;\n",
       "    var x1 = msg['x1'] / mpl.ratio;\n",
       "    var y1 = (fig.canvas.height - msg['y1']) / mpl.ratio;\n",
       "    x0 = Math.floor(x0) + 0.5;\n",
       "    y0 = Math.floor(y0) + 0.5;\n",
       "    x1 = Math.floor(x1) + 0.5;\n",
       "    y1 = Math.floor(y1) + 0.5;\n",
       "    var min_x = Math.min(x0, x1);\n",
       "    var min_y = Math.min(y0, y1);\n",
       "    var width = Math.abs(x1 - x0);\n",
       "    var height = Math.abs(y1 - y0);\n",
       "\n",
       "    fig.rubberband_context.clearRect(\n",
       "        0, 0, fig.canvas.width, fig.canvas.height);\n",
       "\n",
       "    fig.rubberband_context.strokeRect(min_x, min_y, width, height);\n",
       "}\n",
       "\n",
       "mpl.figure.prototype.handle_figure_label = function(fig, msg) {\n",
       "    // Updates the figure title.\n",
       "    fig.header.textContent = msg['label'];\n",
       "}\n",
       "\n",
       "mpl.figure.prototype.handle_cursor = function(fig, msg) {\n",
       "    var cursor = msg['cursor'];\n",
       "    switch(cursor)\n",
       "    {\n",
       "    case 0:\n",
       "        cursor = 'pointer';\n",
       "        break;\n",
       "    case 1:\n",
       "        cursor = 'default';\n",
       "        break;\n",
       "    case 2:\n",
       "        cursor = 'crosshair';\n",
       "        break;\n",
       "    case 3:\n",
       "        cursor = 'move';\n",
       "        break;\n",
       "    }\n",
       "    fig.rubberband_canvas.style.cursor = cursor;\n",
       "}\n",
       "\n",
       "mpl.figure.prototype.handle_message = function(fig, msg) {\n",
       "    fig.message.textContent = msg['message'];\n",
       "}\n",
       "\n",
       "mpl.figure.prototype.handle_draw = function(fig, msg) {\n",
       "    // Request the server to send over a new figure.\n",
       "    fig.send_draw_message();\n",
       "}\n",
       "\n",
       "mpl.figure.prototype.handle_image_mode = function(fig, msg) {\n",
       "    fig.image_mode = msg['mode'];\n",
       "}\n",
       "\n",
       "mpl.figure.prototype.updated_canvas_event = function() {\n",
       "    // Called whenever the canvas gets updated.\n",
       "    this.send_message(\"ack\", {});\n",
       "}\n",
       "\n",
       "// A function to construct a web socket function for onmessage handling.\n",
       "// Called in the figure constructor.\n",
       "mpl.figure.prototype._make_on_message_function = function(fig) {\n",
       "    return function socket_on_message(evt) {\n",
       "        if (evt.data instanceof Blob) {\n",
       "            /* FIXME: We get \"Resource interpreted as Image but\n",
       "             * transferred with MIME type text/plain:\" errors on\n",
       "             * Chrome.  But how to set the MIME type?  It doesn't seem\n",
       "             * to be part of the websocket stream */\n",
       "            evt.data.type = \"image/png\";\n",
       "\n",
       "            /* Free the memory for the previous frames */\n",
       "            if (fig.imageObj.src) {\n",
       "                (window.URL || window.webkitURL).revokeObjectURL(\n",
       "                    fig.imageObj.src);\n",
       "            }\n",
       "\n",
       "            fig.imageObj.src = (window.URL || window.webkitURL).createObjectURL(\n",
       "                evt.data);\n",
       "            fig.updated_canvas_event();\n",
       "            fig.waiting = false;\n",
       "            return;\n",
       "        }\n",
       "        else if (typeof evt.data === 'string' && evt.data.slice(0, 21) == \"data:image/png;base64\") {\n",
       "            fig.imageObj.src = evt.data;\n",
       "            fig.updated_canvas_event();\n",
       "            fig.waiting = false;\n",
       "            return;\n",
       "        }\n",
       "\n",
       "        var msg = JSON.parse(evt.data);\n",
       "        var msg_type = msg['type'];\n",
       "\n",
       "        // Call the  \"handle_{type}\" callback, which takes\n",
       "        // the figure and JSON message as its only arguments.\n",
       "        try {\n",
       "            var callback = fig[\"handle_\" + msg_type];\n",
       "        } catch (e) {\n",
       "            console.log(\"No handler for the '\" + msg_type + \"' message type: \", msg);\n",
       "            return;\n",
       "        }\n",
       "\n",
       "        if (callback) {\n",
       "            try {\n",
       "                // console.log(\"Handling '\" + msg_type + \"' message: \", msg);\n",
       "                callback(fig, msg);\n",
       "            } catch (e) {\n",
       "                console.log(\"Exception inside the 'handler_\" + msg_type + \"' callback:\", e, e.stack, msg);\n",
       "            }\n",
       "        }\n",
       "    };\n",
       "}\n",
       "\n",
       "// from http://stackoverflow.com/questions/1114465/getting-mouse-location-in-canvas\n",
       "mpl.findpos = function(e) {\n",
       "    //this section is from http://www.quirksmode.org/js/events_properties.html\n",
       "    var targ;\n",
       "    if (!e)\n",
       "        e = window.event;\n",
       "    if (e.target)\n",
       "        targ = e.target;\n",
       "    else if (e.srcElement)\n",
       "        targ = e.srcElement;\n",
       "    if (targ.nodeType == 3) // defeat Safari bug\n",
       "        targ = targ.parentNode;\n",
       "\n",
       "    // jQuery normalizes the pageX and pageY\n",
       "    // pageX,Y are the mouse positions relative to the document\n",
       "    // offset() returns the position of the element relative to the document\n",
       "    var x = e.pageX - $(targ).offset().left;\n",
       "    var y = e.pageY - $(targ).offset().top;\n",
       "\n",
       "    return {\"x\": x, \"y\": y};\n",
       "};\n",
       "\n",
       "/*\n",
       " * return a copy of an object with only non-object keys\n",
       " * we need this to avoid circular references\n",
       " * http://stackoverflow.com/a/24161582/3208463\n",
       " */\n",
       "function simpleKeys (original) {\n",
       "  return Object.keys(original).reduce(function (obj, key) {\n",
       "    if (typeof original[key] !== 'object')\n",
       "        obj[key] = original[key]\n",
       "    return obj;\n",
       "  }, {});\n",
       "}\n",
       "\n",
       "mpl.figure.prototype.mouse_event = function(event, name) {\n",
       "    var canvas_pos = mpl.findpos(event)\n",
       "\n",
       "    if (name === 'button_press')\n",
       "    {\n",
       "        this.canvas.focus();\n",
       "        this.canvas_div.focus();\n",
       "    }\n",
       "\n",
       "    var x = canvas_pos.x * mpl.ratio;\n",
       "    var y = canvas_pos.y * mpl.ratio;\n",
       "\n",
       "    this.send_message(name, {x: x, y: y, button: event.button,\n",
       "                             step: event.step,\n",
       "                             guiEvent: simpleKeys(event)});\n",
       "\n",
       "    /* This prevents the web browser from automatically changing to\n",
       "     * the text insertion cursor when the button is pressed.  We want\n",
       "     * to control all of the cursor setting manually through the\n",
       "     * 'cursor' event from matplotlib */\n",
       "    event.preventDefault();\n",
       "    return false;\n",
       "}\n",
       "\n",
       "mpl.figure.prototype._key_event_extra = function(event, name) {\n",
       "    // Handle any extra behaviour associated with a key event\n",
       "}\n",
       "\n",
       "mpl.figure.prototype.key_event = function(event, name) {\n",
       "\n",
       "    // Prevent repeat events\n",
       "    if (name == 'key_press')\n",
       "    {\n",
       "        if (event.which === this._key)\n",
       "            return;\n",
       "        else\n",
       "            this._key = event.which;\n",
       "    }\n",
       "    if (name == 'key_release')\n",
       "        this._key = null;\n",
       "\n",
       "    var value = '';\n",
       "    if (event.ctrlKey && event.which != 17)\n",
       "        value += \"ctrl+\";\n",
       "    if (event.altKey && event.which != 18)\n",
       "        value += \"alt+\";\n",
       "    if (event.shiftKey && event.which != 16)\n",
       "        value += \"shift+\";\n",
       "\n",
       "    value += 'k';\n",
       "    value += event.which.toString();\n",
       "\n",
       "    this._key_event_extra(event, name);\n",
       "\n",
       "    this.send_message(name, {key: value,\n",
       "                             guiEvent: simpleKeys(event)});\n",
       "    return false;\n",
       "}\n",
       "\n",
       "mpl.figure.prototype.toolbar_button_onclick = function(name) {\n",
       "    if (name == 'download') {\n",
       "        this.handle_save(this, null);\n",
       "    } else {\n",
       "        this.send_message(\"toolbar_button\", {name: name});\n",
       "    }\n",
       "};\n",
       "\n",
       "mpl.figure.prototype.toolbar_button_onmouseover = function(tooltip) {\n",
       "    this.message.textContent = tooltip;\n",
       "};\n",
       "mpl.toolbar_items = [[\"Home\", \"Reset original view\", \"fa fa-home icon-home\", \"home\"], [\"Back\", \"Back to  previous view\", \"fa fa-arrow-left icon-arrow-left\", \"back\"], [\"Forward\", \"Forward to next view\", \"fa fa-arrow-right icon-arrow-right\", \"forward\"], [\"\", \"\", \"\", \"\"], [\"Pan\", \"Pan axes with left mouse, zoom with right\", \"fa fa-arrows icon-move\", \"pan\"], [\"Zoom\", \"Zoom to rectangle\", \"fa fa-square-o icon-check-empty\", \"zoom\"], [\"\", \"\", \"\", \"\"], [\"Download\", \"Download plot\", \"fa fa-floppy-o icon-save\", \"download\"]];\n",
       "\n",
       "mpl.extensions = [\"eps\", \"jpeg\", \"pdf\", \"png\", \"ps\", \"raw\", \"svg\", \"tif\"];\n",
       "\n",
       "mpl.default_extension = \"png\";var comm_websocket_adapter = function(comm) {\n",
       "    // Create a \"websocket\"-like object which calls the given IPython comm\n",
       "    // object with the appropriate methods. Currently this is a non binary\n",
       "    // socket, so there is still some room for performance tuning.\n",
       "    var ws = {};\n",
       "\n",
       "    ws.close = function() {\n",
       "        comm.close()\n",
       "    };\n",
       "    ws.send = function(m) {\n",
       "        //console.log('sending', m);\n",
       "        comm.send(m);\n",
       "    };\n",
       "    // Register the callback with on_msg.\n",
       "    comm.on_msg(function(msg) {\n",
       "        //console.log('receiving', msg['content']['data'], msg);\n",
       "        // Pass the mpl event to the overriden (by mpl) onmessage function.\n",
       "        ws.onmessage(msg['content']['data'])\n",
       "    });\n",
       "    return ws;\n",
       "}\n",
       "\n",
       "mpl.mpl_figure_comm = function(comm, msg) {\n",
       "    // This is the function which gets called when the mpl process\n",
       "    // starts-up an IPython Comm through the \"matplotlib\" channel.\n",
       "\n",
       "    var id = msg.content.data.id;\n",
       "    // Get hold of the div created by the display call when the Comm\n",
       "    // socket was opened in Python.\n",
       "    var element = $(\"#\" + id);\n",
       "    var ws_proxy = comm_websocket_adapter(comm)\n",
       "\n",
       "    function ondownload(figure, format) {\n",
       "        window.open(figure.imageObj.src);\n",
       "    }\n",
       "\n",
       "    var fig = new mpl.figure(id, ws_proxy,\n",
       "                           ondownload,\n",
       "                           element.get(0));\n",
       "\n",
       "    // Call onopen now - mpl needs it, as it is assuming we've passed it a real\n",
       "    // web socket which is closed, not our websocket->open comm proxy.\n",
       "    ws_proxy.onopen();\n",
       "\n",
       "    fig.parent_element = element.get(0);\n",
       "    fig.cell_info = mpl.find_output_cell(\"<div id='\" + id + \"'></div>\");\n",
       "    if (!fig.cell_info) {\n",
       "        console.error(\"Failed to find cell for figure\", id, fig);\n",
       "        return;\n",
       "    }\n",
       "\n",
       "    var output_index = fig.cell_info[2]\n",
       "    var cell = fig.cell_info[0];\n",
       "\n",
       "};\n",
       "\n",
       "mpl.figure.prototype.handle_close = function(fig, msg) {\n",
       "    var width = fig.canvas.width/mpl.ratio\n",
       "    fig.root.unbind('remove')\n",
       "\n",
       "    // Update the output cell to use the data from the current canvas.\n",
       "    fig.push_to_output();\n",
       "    var dataURL = fig.canvas.toDataURL();\n",
       "    // Re-enable the keyboard manager in IPython - without this line, in FF,\n",
       "    // the notebook keyboard shortcuts fail.\n",
       "    IPython.keyboard_manager.enable()\n",
       "    $(fig.parent_element).html('<img src=\"' + dataURL + '\" width=\"' + width + '\">');\n",
       "    fig.close_ws(fig, msg);\n",
       "}\n",
       "\n",
       "mpl.figure.prototype.close_ws = function(fig, msg){\n",
       "    fig.send_message('closing', msg);\n",
       "    // fig.ws.close()\n",
       "}\n",
       "\n",
       "mpl.figure.prototype.push_to_output = function(remove_interactive) {\n",
       "    // Turn the data on the canvas into data in the output cell.\n",
       "    var width = this.canvas.width/mpl.ratio\n",
       "    var dataURL = this.canvas.toDataURL();\n",
       "    this.cell_info[1]['text/html'] = '<img src=\"' + dataURL + '\" width=\"' + width + '\">';\n",
       "}\n",
       "\n",
       "mpl.figure.prototype.updated_canvas_event = function() {\n",
       "    // Tell IPython that the notebook contents must change.\n",
       "    IPython.notebook.set_dirty(true);\n",
       "    this.send_message(\"ack\", {});\n",
       "    var fig = this;\n",
       "    // Wait a second, then push the new image to the DOM so\n",
       "    // that it is saved nicely (might be nice to debounce this).\n",
       "    setTimeout(function () { fig.push_to_output() }, 1000);\n",
       "}\n",
       "\n",
       "mpl.figure.prototype._init_toolbar = function() {\n",
       "    var fig = this;\n",
       "\n",
       "    var nav_element = $('<div/>')\n",
       "    nav_element.attr('style', 'width: 100%');\n",
       "    this.root.append(nav_element);\n",
       "\n",
       "    // Define a callback function for later on.\n",
       "    function toolbar_event(event) {\n",
       "        return fig.toolbar_button_onclick(event['data']);\n",
       "    }\n",
       "    function toolbar_mouse_event(event) {\n",
       "        return fig.toolbar_button_onmouseover(event['data']);\n",
       "    }\n",
       "\n",
       "    for(var toolbar_ind in mpl.toolbar_items){\n",
       "        var name = mpl.toolbar_items[toolbar_ind][0];\n",
       "        var tooltip = mpl.toolbar_items[toolbar_ind][1];\n",
       "        var image = mpl.toolbar_items[toolbar_ind][2];\n",
       "        var method_name = mpl.toolbar_items[toolbar_ind][3];\n",
       "\n",
       "        if (!name) { continue; };\n",
       "\n",
       "        var button = $('<button class=\"btn btn-default\" href=\"#\" title=\"' + name + '\"><i class=\"fa ' + image + ' fa-lg\"></i></button>');\n",
       "        button.click(method_name, toolbar_event);\n",
       "        button.mouseover(tooltip, toolbar_mouse_event);\n",
       "        nav_element.append(button);\n",
       "    }\n",
       "\n",
       "    // Add the status bar.\n",
       "    var status_bar = $('<span class=\"mpl-message\" style=\"text-align:right; float: right;\"/>');\n",
       "    nav_element.append(status_bar);\n",
       "    this.message = status_bar[0];\n",
       "\n",
       "    // Add the close button to the window.\n",
       "    var buttongrp = $('<div class=\"btn-group inline pull-right\"></div>');\n",
       "    var button = $('<button class=\"btn btn-mini btn-primary\" href=\"#\" title=\"Stop Interaction\"><i class=\"fa fa-power-off icon-remove icon-large\"></i></button>');\n",
       "    button.click(function (evt) { fig.handle_close(fig, {}); } );\n",
       "    button.mouseover('Stop Interaction', toolbar_mouse_event);\n",
       "    buttongrp.append(button);\n",
       "    var titlebar = this.root.find($('.ui-dialog-titlebar'));\n",
       "    titlebar.prepend(buttongrp);\n",
       "}\n",
       "\n",
       "mpl.figure.prototype._root_extra_style = function(el){\n",
       "    var fig = this\n",
       "    el.on(\"remove\", function(){\n",
       "\tfig.close_ws(fig, {});\n",
       "    });\n",
       "}\n",
       "\n",
       "mpl.figure.prototype._canvas_extra_style = function(el){\n",
       "    // this is important to make the div 'focusable\n",
       "    el.attr('tabindex', 0)\n",
       "    // reach out to IPython and tell the keyboard manager to turn it's self\n",
       "    // off when our div gets focus\n",
       "\n",
       "    // location in version 3\n",
       "    if (IPython.notebook.keyboard_manager) {\n",
       "        IPython.notebook.keyboard_manager.register_events(el);\n",
       "    }\n",
       "    else {\n",
       "        // location in version 2\n",
       "        IPython.keyboard_manager.register_events(el);\n",
       "    }\n",
       "\n",
       "}\n",
       "\n",
       "mpl.figure.prototype._key_event_extra = function(event, name) {\n",
       "    var manager = IPython.notebook.keyboard_manager;\n",
       "    if (!manager)\n",
       "        manager = IPython.keyboard_manager;\n",
       "\n",
       "    // Check for shift+enter\n",
       "    if (event.shiftKey && event.which == 13) {\n",
       "        this.canvas_div.blur();\n",
       "        event.shiftKey = false;\n",
       "        // Send a \"J\" for go to next cell\n",
       "        event.which = 74;\n",
       "        event.keyCode = 74;\n",
       "        manager.command_mode();\n",
       "        manager.handle_keydown(event);\n",
       "    }\n",
       "}\n",
       "\n",
       "mpl.figure.prototype.handle_save = function(fig, msg) {\n",
       "    fig.ondownload(fig, null);\n",
       "}\n",
       "\n",
       "\n",
       "mpl.find_output_cell = function(html_output) {\n",
       "    // Return the cell and output element which can be found *uniquely* in the notebook.\n",
       "    // Note - this is a bit hacky, but it is done because the \"notebook_saving.Notebook\"\n",
       "    // IPython event is triggered only after the cells have been serialised, which for\n",
       "    // our purposes (turning an active figure into a static one), is too late.\n",
       "    var cells = IPython.notebook.get_cells();\n",
       "    var ncells = cells.length;\n",
       "    for (var i=0; i<ncells; i++) {\n",
       "        var cell = cells[i];\n",
       "        if (cell.cell_type === 'code'){\n",
       "            for (var j=0; j<cell.output_area.outputs.length; j++) {\n",
       "                var data = cell.output_area.outputs[j];\n",
       "                if (data.data) {\n",
       "                    // IPython >= 3 moved mimebundle to data attribute of output\n",
       "                    data = data.data;\n",
       "                }\n",
       "                if (data['text/html'] == html_output) {\n",
       "                    return [cell, data, j];\n",
       "                }\n",
       "            }\n",
       "        }\n",
       "    }\n",
       "}\n",
       "\n",
       "// Register the function which deals with the matplotlib target/channel.\n",
       "// The kernel may be null if the page has been refreshed.\n",
       "if (IPython.notebook.kernel != null) {\n",
       "    IPython.notebook.kernel.comm_manager.register_target('matplotlib', mpl.mpl_figure_comm);\n",
       "}\n"
      ],
      "text/plain": [
       "<IPython.core.display.Javascript object>"
      ]
     },
     "metadata": {},
     "output_type": "display_data"
    },
    {
     "data": {
      "text/html": [
       "<img src=\"data:image/png;base64,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\" width=\"640\">"
      ],
      "text/plain": [
       "<IPython.core.display.HTML object>"
      ]
     },
     "metadata": {},
     "output_type": "display_data"
    }
   ],
   "source": [
    "sns.distplot(np.abs(y_test.values - models_evaluation_test['xgb_bsl']['predictions']) / y_test.values, hist=False) \n",
    "plt.show()"
   ]
  },
  {
   "cell_type": "code",
   "execution_count": 264,
   "metadata": {},
   "outputs": [
    {
     "name": "stdout",
     "output_type": "stream",
     "text": [
      "\n",
      "TEST METRICS :\n",
      "------------------------------\n",
      "First_xgb :(1.1896540970709255, 35.05026182158571)\n",
      "\n",
      "xgb_bsl :(1.1896540970709255, 35.05026182158571)\n"
     ]
    }
   ],
   "source": [
    "print('\\nTEST METRICS :')\n",
    "print('-'*30)\n",
    "\n",
    "print('First_xgb :({}, {})'.format(models_evaluation_test['first_xgb']['rmse'], models_evaluation_test['first_xgb']['mape']))\n",
    "print('\\nxgb_bsl :({}, {})'.format(models_evaluation_test['xgb_bsl']['rmse'], models_evaluation_test['xgb_bsl']['mape']))"
   ]
  },
  {
   "cell_type": "markdown",
   "metadata": {},
   "source": [
    " "
   ]
  },
  {
   "cell_type": "markdown",
   "metadata": {},
   "source": [
    "> Seems, there is no improvement at all with adding just the baseline_predictions to the model.. "
   ]
  },
  {
   "cell_type": "markdown",
   "metadata": {},
   "source": [
    " "
   ]
  },
  {
   "cell_type": "markdown",
   "metadata": {},
   "source": [
    "# 2. Surprise -   KNN with BaseLineModel"
   ]
  },
  {
   "cell_type": "code",
   "execution_count": null,
   "metadata": {},
   "outputs": [],
   "source": []
  },
  {
   "cell_type": "markdown",
   "metadata": {},
   "source": [
    " "
   ]
  },
  {
   "cell_type": "markdown",
   "metadata": {},
   "source": [
    " "
   ]
  },
  {
   "cell_type": "markdown",
   "metadata": {},
   "source": [
    " "
   ]
  },
  {
   "cell_type": "markdown",
   "metadata": {},
   "source": [
    " "
   ]
  },
  {
   "cell_type": "markdown",
   "metadata": {},
   "source": [
    " "
   ]
  },
  {
   "cell_type": "markdown",
   "metadata": {},
   "source": [
    " "
   ]
  },
  {
   "cell_type": "markdown",
   "metadata": {},
   "source": [
    " "
   ]
  },
  {
   "cell_type": "markdown",
   "metadata": {},
   "source": [
    " "
   ]
  },
  {
   "cell_type": "markdown",
   "metadata": {},
   "source": [
    " "
   ]
  },
  {
   "cell_type": "markdown",
   "metadata": {},
   "source": [
    " "
   ]
  },
  {
   "cell_type": "markdown",
   "metadata": {},
   "source": [
    " "
   ]
  },
  {
   "cell_type": "markdown",
   "metadata": {},
   "source": [
    " "
   ]
  },
  {
   "cell_type": "markdown",
   "metadata": {},
   "source": [
    " "
   ]
  },
  {
   "cell_type": "markdown",
   "metadata": {},
   "source": [
    " "
   ]
  },
  {
   "cell_type": "markdown",
   "metadata": {},
   "source": [
    " "
   ]
  },
  {
   "cell_type": "markdown",
   "metadata": {},
   "source": [
    " "
   ]
  },
  {
   "cell_type": "markdown",
   "metadata": {},
   "source": [
    " "
   ]
  },
  {
   "cell_type": "markdown",
   "metadata": {},
   "source": [
    " "
   ]
  },
  {
   "cell_type": "markdown",
   "metadata": {},
   "source": [
    " "
   ]
  },
  {
   "cell_type": "markdown",
   "metadata": {},
   "source": [
    " "
   ]
  },
  {
   "cell_type": "markdown",
   "metadata": {},
   "source": [
    " "
   ]
  },
  {
   "cell_type": "markdown",
   "metadata": {},
   "source": [
    " "
   ]
  },
  {
   "cell_type": "markdown",
   "metadata": {},
   "source": [
    " "
   ]
  },
  {
   "cell_type": "markdown",
   "metadata": {},
   "source": [
    " "
   ]
  },
  {
   "cell_type": "markdown",
   "metadata": {},
   "source": [
    " "
   ]
  },
  {
   "cell_type": "markdown",
   "metadata": {},
   "source": [
    " "
   ]
  },
  {
   "cell_type": "markdown",
   "metadata": {},
   "source": [
    " "
   ]
  },
  {
   "cell_type": "markdown",
   "metadata": {},
   "source": [
    " "
   ]
  },
  {
   "cell_type": "markdown",
   "metadata": {},
   "source": [
    " "
   ]
  },
  {
   "cell_type": "markdown",
   "metadata": {},
   "source": [
    " "
   ]
  },
  {
   "cell_type": "markdown",
   "metadata": {},
   "source": [
    " "
   ]
  },
  {
   "cell_type": "markdown",
   "metadata": {},
   "source": [
    " "
   ]
  },
  {
   "cell_type": "markdown",
   "metadata": {},
   "source": [
    " "
   ]
  },
  {
   "cell_type": "markdown",
   "metadata": {},
   "source": [
    " "
   ]
  },
  {
   "cell_type": "markdown",
   "metadata": {},
   "source": [
    " "
   ]
  },
  {
   "cell_type": "markdown",
   "metadata": {},
   "source": [
    " "
   ]
  },
  {
   "cell_type": "code",
   "execution_count": null,
   "metadata": {},
   "outputs": [],
   "source": []
  },
  {
   "cell_type": "code",
   "execution_count": null,
   "metadata": {},
   "outputs": [],
   "source": []
  },
  {
   "cell_type": "code",
   "execution_count": null,
   "metadata": {},
   "outputs": [],
   "source": []
  },
  {
   "cell_type": "code",
   "execution_count": null,
   "metadata": {},
   "outputs": [],
   "source": []
  },
  {
   "cell_type": "code",
   "execution_count": null,
   "metadata": {},
   "outputs": [],
   "source": []
  },
  {
   "cell_type": "code",
   "execution_count": null,
   "metadata": {},
   "outputs": [],
   "source": []
  },
  {
   "cell_type": "code",
   "execution_count": null,
   "metadata": {},
   "outputs": [],
   "source": []
  },
  {
   "cell_type": "code",
   "execution_count": null,
   "metadata": {},
   "outputs": [],
   "source": []
  },
  {
   "cell_type": "markdown",
   "metadata": {},
   "source": [
    " \n",
    " "
   ]
  },
  {
   "cell_type": "markdown",
   "metadata": {},
   "source": [
    " \n",
    " "
   ]
  },
  {
   "cell_type": "markdown",
   "metadata": {},
   "source": [
    " \n",
    " "
   ]
  },
  {
   "cell_type": "markdown",
   "metadata": {},
   "source": [
    " \n",
    " "
   ]
  },
  {
   "cell_type": "markdown",
   "metadata": {},
   "source": [
    " \n",
    " "
   ]
  },
  {
   "cell_type": "markdown",
   "metadata": {},
   "source": [
    " \n",
    " "
   ]
  },
  {
   "cell_type": "markdown",
   "metadata": {},
   "source": [
    " \n",
    " "
   ]
  }
 ],
 "metadata": {
  "kernelspec": {
   "display_name": "Python 3",
   "language": "python",
   "name": "python3"
  },
  "language_info": {
   "codemirror_mode": {
    "name": "ipython",
    "version": 3
   },
   "file_extension": ".py",
   "mimetype": "text/x-python",
   "name": "python",
   "nbconvert_exporter": "python",
   "pygments_lexer": "ipython3",
   "version": "3.6.4"
  }
 },
 "nbformat": 4,
 "nbformat_minor": 2
}
