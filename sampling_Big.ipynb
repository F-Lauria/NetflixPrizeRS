{
 "cells": [
  {
   "cell_type": "code",
   "execution_count": 3,
   "metadata": {},
   "outputs": [],
   "source": [
    "# this is just to know how much time will it take to run this entire ipython notebook \n",
    "from datetime import datetime"
   ]
  },
  {
   "cell_type": "code",
   "execution_count": 4,
   "metadata": {},
   "outputs": [],
   "source": [
    "import pandas as pd\n",
    "import numpy as np"
   ]
  },
  {
   "cell_type": "code",
   "execution_count": 5,
   "metadata": {},
   "outputs": [],
   "source": [
    "import matplotlib\n",
    "matplotlib.use('nbagg')\n",
    "\n",
    "import matplotlib.pyplot as plt\n",
    "plt.rcParams.update({'figure.max_open_warning': 0})\n",
    "\n",
    "import seaborn as sns\n",
    "sns.set_style('whitegrid')"
   ]
  },
  {
   "cell_type": "markdown",
   "metadata": {},
   "source": [
    "## reading data from the csv file"
   ]
  },
  {
   "cell_type": "code",
   "execution_count": 4,
   "metadata": {},
   "outputs": [
    {
     "data": {
      "text/html": [
       "<div>\n",
       "<style scoped>\n",
       "    .dataframe tbody tr th:only-of-type {\n",
       "        vertical-align: middle;\n",
       "    }\n",
       "\n",
       "    .dataframe tbody tr th {\n",
       "        vertical-align: top;\n",
       "    }\n",
       "\n",
       "    .dataframe thead th {\n",
       "        text-align: right;\n",
       "    }\n",
       "</style>\n",
       "<table border=\"1\" class=\"dataframe\">\n",
       "  <thead>\n",
       "    <tr style=\"text-align: right;\">\n",
       "      <th></th>\n",
       "      <th>movie</th>\n",
       "      <th>user</th>\n",
       "      <th>rating</th>\n",
       "      <th>date</th>\n",
       "    </tr>\n",
       "  </thead>\n",
       "  <tbody>\n",
       "    <tr>\n",
       "      <th>58698779</th>\n",
       "      <td>10774</td>\n",
       "      <td>510180</td>\n",
       "      <td>3.0</td>\n",
       "      <td>1999-11-11</td>\n",
       "    </tr>\n",
       "    <tr>\n",
       "      <th>96212476</th>\n",
       "      <td>17064</td>\n",
       "      <td>510180</td>\n",
       "      <td>2.0</td>\n",
       "      <td>1999-11-11</td>\n",
       "    </tr>\n",
       "    <tr>\n",
       "      <th>6901473</th>\n",
       "      <td>1367</td>\n",
       "      <td>510180</td>\n",
       "      <td>5.0</td>\n",
       "      <td>1999-11-11</td>\n",
       "    </tr>\n",
       "    <tr>\n",
       "      <th>49973109</th>\n",
       "      <td>9003</td>\n",
       "      <td>510180</td>\n",
       "      <td>3.0</td>\n",
       "      <td>1999-11-11</td>\n",
       "    </tr>\n",
       "    <tr>\n",
       "      <th>20393918</th>\n",
       "      <td>3870</td>\n",
       "      <td>510180</td>\n",
       "      <td>2.0</td>\n",
       "      <td>1999-11-11</td>\n",
       "    </tr>\n",
       "  </tbody>\n",
       "</table>\n",
       "</div>"
      ],
      "text/plain": [
       "          movie    user  rating       date\n",
       "58698779  10774  510180     3.0 1999-11-11\n",
       "96212476  17064  510180     2.0 1999-11-11\n",
       "6901473    1367  510180     5.0 1999-11-11\n",
       "49973109   9003  510180     3.0 1999-11-11\n",
       "20393918   3870  510180     2.0 1999-11-11"
      ]
     },
     "execution_count": 4,
     "metadata": {},
     "output_type": "execute_result"
    }
   ],
   "source": [
    "df = pd.read_csv('data.csv', sep=',', \n",
    "                       names=['movie', 'user','rating','date'])\n",
    "df.date = pd.to_datetime(df.date)\n",
    "\n",
    "# we are arranging the ratings according to time.\n",
    "df.sort_values(by='date', inplace=True)\n",
    "df.head()"
   ]
  },
  {
   "cell_type": "code",
   "execution_count": 5,
   "metadata": {},
   "outputs": [
    {
     "data": {
      "text/html": [
       "<div>\n",
       "<style scoped>\n",
       "    .dataframe tbody tr th:only-of-type {\n",
       "        vertical-align: middle;\n",
       "    }\n",
       "\n",
       "    .dataframe tbody tr th {\n",
       "        vertical-align: top;\n",
       "    }\n",
       "\n",
       "    .dataframe thead th {\n",
       "        text-align: right;\n",
       "    }\n",
       "</style>\n",
       "<table border=\"1\" class=\"dataframe\">\n",
       "  <thead>\n",
       "    <tr style=\"text-align: right;\">\n",
       "      <th></th>\n",
       "      <th>movie</th>\n",
       "      <th>user</th>\n",
       "      <th>rating</th>\n",
       "      <th>date</th>\n",
       "    </tr>\n",
       "  </thead>\n",
       "  <tbody>\n",
       "    <tr>\n",
       "      <th>58698779</th>\n",
       "      <td>10774</td>\n",
       "      <td>510180</td>\n",
       "      <td>3.0</td>\n",
       "      <td>1999-11-11</td>\n",
       "    </tr>\n",
       "    <tr>\n",
       "      <th>96212476</th>\n",
       "      <td>17064</td>\n",
       "      <td>510180</td>\n",
       "      <td>2.0</td>\n",
       "      <td>1999-11-11</td>\n",
       "    </tr>\n",
       "    <tr>\n",
       "      <th>6901473</th>\n",
       "      <td>1367</td>\n",
       "      <td>510180</td>\n",
       "      <td>5.0</td>\n",
       "      <td>1999-11-11</td>\n",
       "    </tr>\n",
       "    <tr>\n",
       "      <th>49973109</th>\n",
       "      <td>9003</td>\n",
       "      <td>510180</td>\n",
       "      <td>3.0</td>\n",
       "      <td>1999-11-11</td>\n",
       "    </tr>\n",
       "    <tr>\n",
       "      <th>20393918</th>\n",
       "      <td>3870</td>\n",
       "      <td>510180</td>\n",
       "      <td>2.0</td>\n",
       "      <td>1999-11-11</td>\n",
       "    </tr>\n",
       "  </tbody>\n",
       "</table>\n",
       "</div>"
      ],
      "text/plain": [
       "          movie    user  rating       date\n",
       "58698779  10774  510180     3.0 1999-11-11\n",
       "96212476  17064  510180     2.0 1999-11-11\n",
       "6901473    1367  510180     5.0 1999-11-11\n",
       "49973109   9003  510180     3.0 1999-11-11\n",
       "20393918   3870  510180     2.0 1999-11-11"
      ]
     },
     "execution_count": 5,
     "metadata": {},
     "output_type": "execute_result"
    }
   ],
   "source": [
    "df = pd.read_csv('data.csv', sep=',', \n",
    "                       names=['movie', 'user','rating','date'])\n",
    "df.date = pd.to_datetime(df.date)\n",
    "\n",
    "# we are arranging the ratings according to time.\n",
    "df.sort_values(by='date', inplace=True)\n",
    "df.head()"
   ]
  },
  {
   "cell_type": "markdown",
   "metadata": {},
   "source": [
    "### Is there any entry that has Nan values...??"
   ]
  },
  {
   "cell_type": "code",
   "execution_count": 6,
   "metadata": {},
   "outputs": [
    {
     "data": {
      "text/html": [
       "<div>\n",
       "<style scoped>\n",
       "    .dataframe tbody tr th:only-of-type {\n",
       "        vertical-align: middle;\n",
       "    }\n",
       "\n",
       "    .dataframe tbody tr th {\n",
       "        vertical-align: top;\n",
       "    }\n",
       "\n",
       "    .dataframe thead th {\n",
       "        text-align: right;\n",
       "    }\n",
       "</style>\n",
       "<table border=\"1\" class=\"dataframe\">\n",
       "  <thead>\n",
       "    <tr style=\"text-align: right;\">\n",
       "      <th></th>\n",
       "      <th>movie</th>\n",
       "      <th>user</th>\n",
       "      <th>rating</th>\n",
       "      <th>date</th>\n",
       "    </tr>\n",
       "  </thead>\n",
       "  <tbody>\n",
       "    <tr>\n",
       "      <th>95880696</th>\n",
       "      <td>16992</td>\n",
       "      <td>962</td>\n",
       "      <td>NaN</td>\n",
       "      <td>NaT</td>\n",
       "    </tr>\n",
       "    <tr>\n",
       "      <th>95963294</th>\n",
       "      <td>17002</td>\n",
       "      <td>51082</td>\n",
       "      <td>NaN</td>\n",
       "      <td>NaT</td>\n",
       "    </tr>\n",
       "  </tbody>\n",
       "</table>\n",
       "</div>"
      ],
      "text/plain": [
       "          movie   user  rating date\n",
       "95880696  16992    962     NaN  NaT\n",
       "95963294  17002  51082     NaN  NaT"
      ]
     },
     "execution_count": 6,
     "metadata": {},
     "output_type": "execute_result"
    }
   ],
   "source": [
    "# it returns True for a row that has atleast one Nan value.\n",
    "null_bool = df.isnull().any(axis = 1)\n",
    "df[null_bool]"
   ]
  },
  {
   "cell_type": "code",
   "execution_count": 7,
   "metadata": {},
   "outputs": [],
   "source": [
    "df.drop(df[null_bool].index, inplace=True)"
   ]
  },
  {
   "cell_type": "code",
   "execution_count": 8,
   "metadata": {},
   "outputs": [
    {
     "name": "stdout",
     "output_type": "stream",
     "text": [
      "No of Nan values in our dataframe :  0\n"
     ]
    }
   ],
   "source": [
    "print(\"No of Nan values in our dataframe : \", sum(df.isnull().any()))"
   ]
  },
  {
   "cell_type": "markdown",
   "metadata": {},
   "source": [
    "### Let's try to find the duplicates if any..."
   ]
  },
  {
   "cell_type": "code",
   "execution_count": 9,
   "metadata": {},
   "outputs": [
    {
     "name": "stdout",
     "output_type": "stream",
     "text": [
      "There are 1211 duplicate rating entries in the data..\n"
     ]
    }
   ],
   "source": [
    "dup_bool = df.duplicated(['movie','user','rating'])\n",
    "dups = sum(dup_bool) # by considering all columns..( including timestamp )\n",
    "print(\"There are {} duplicate rating entries in the data..\".format(dups))"
   ]
  },
  {
   "cell_type": "code",
   "execution_count": 10,
   "metadata": {},
   "outputs": [
    {
     "data": {
      "text/plain": [
       "16969    762\n",
       "16968    449\n",
       "Name: movie, dtype: int64"
      ]
     },
     "execution_count": 10,
     "metadata": {},
     "output_type": "execute_result"
    }
   ],
   "source": [
    "# let's find what are the movies that has duplicate entries of user ratings....\n",
    "df[dup_bool].movie.value_counts()"
   ]
  },
  {
   "cell_type": "markdown",
   "metadata": {},
   "source": [
    "__Removing those duplicate entries__  (inplace)"
   ]
  },
  {
   "cell_type": "code",
   "execution_count": 11,
   "metadata": {},
   "outputs": [],
   "source": [
    "df.drop(df[dup_bool].index, inplace=True)"
   ]
  },
  {
   "cell_type": "code",
   "execution_count": 12,
   "metadata": {},
   "outputs": [
    {
     "name": "stdout",
     "output_type": "stream",
     "text": [
      "No of duplicate rows (movie, user, rating) entries : 0\n"
     ]
    }
   ],
   "source": [
    "print(\"No of duplicate rows (movie, user, rating) entries :\", sum(df.duplicated()))"
   ]
  },
  {
   "cell_type": "markdown",
   "metadata": {},
   "source": [
    " "
   ]
  },
  {
   "cell_type": "markdown",
   "metadata": {},
   "source": [
    " "
   ]
  },
  {
   "cell_type": "markdown",
   "metadata": {},
   "source": [
    " "
   ]
  },
  {
   "cell_type": "code",
   "execution_count": 13,
   "metadata": {},
   "outputs": [
    {
     "name": "stdout",
     "output_type": "stream",
     "text": [
      "\n",
      "No of ratings that we have, after removing nan rows and duplicates are : 100479045\n"
     ]
    }
   ],
   "source": [
    "print(\"\\nNo of ratings that we have, after removing nan rows and duplicates are :\", df.shape[0])"
   ]
  },
  {
   "cell_type": "markdown",
   "metadata": {},
   "source": [
    " "
   ]
  },
  {
   "cell_type": "markdown",
   "metadata": {},
   "source": [
    " "
   ]
  },
  {
   "cell_type": "markdown",
   "metadata": {},
   "source": [
    " "
   ]
  },
  {
   "cell_type": "markdown",
   "metadata": {},
   "source": [
    " "
   ]
  },
  {
   "cell_type": "markdown",
   "metadata": {},
   "source": [
    " "
   ]
  },
  {
   "cell_type": "markdown",
   "metadata": {},
   "source": [
    "## No. of Ratings, Users and Movies  "
   ]
  },
  {
   "cell_type": "code",
   "execution_count": 14,
   "metadata": {},
   "outputs": [
    {
     "name": "stdout",
     "output_type": "stream",
     "text": [
      "Total data \n",
      "--------------------------------------------------\n",
      "\n",
      "Total no of ratings : 100479045\n",
      "Total No of Users   : 480189\n",
      "Total No of movies  : 17770\n"
     ]
    }
   ],
   "source": [
    "movies = df.movie.value_counts()\n",
    "users = df.user.value_counts()\n",
    "ratings = df.rating\n",
    "print(\"Total data \")\n",
    "print(\"-\"*50)\n",
    "print(\"\\nTotal no of ratings :\",df.shape[0])\n",
    "print(\"Total No of Users   :\", len(users))\n",
    "print(\"Total No of movies  :\", len(movies))"
   ]
  },
  {
   "cell_type": "markdown",
   "metadata": {},
   "source": [
    "## Train data"
   ]
  },
  {
   "cell_type": "code",
   "execution_count": 15,
   "metadata": {},
   "outputs": [],
   "source": [
    "big_train_df = df.iloc[:int(df.shape[0]*0.80)]"
   ]
  },
  {
   "cell_type": "code",
   "execution_count": 16,
   "metadata": {},
   "outputs": [
    {
     "data": {
      "text/plain": [
       "(80383236, 4)"
      ]
     },
     "execution_count": 16,
     "metadata": {},
     "output_type": "execute_result"
    }
   ],
   "source": [
    "big_train_df.shape"
   ]
  },
  {
   "cell_type": "code",
   "execution_count": 17,
   "metadata": {},
   "outputs": [
    {
     "data": {
      "text/html": [
       "<div>\n",
       "<style scoped>\n",
       "    .dataframe tbody tr th:only-of-type {\n",
       "        vertical-align: middle;\n",
       "    }\n",
       "\n",
       "    .dataframe tbody tr th {\n",
       "        vertical-align: top;\n",
       "    }\n",
       "\n",
       "    .dataframe thead th {\n",
       "        text-align: right;\n",
       "    }\n",
       "</style>\n",
       "<table border=\"1\" class=\"dataframe\">\n",
       "  <thead>\n",
       "    <tr style=\"text-align: right;\">\n",
       "      <th></th>\n",
       "      <th>movie</th>\n",
       "      <th>user</th>\n",
       "      <th>rating</th>\n",
       "      <th>date</th>\n",
       "    </tr>\n",
       "  </thead>\n",
       "  <tbody>\n",
       "    <tr>\n",
       "      <th>58698779</th>\n",
       "      <td>10774</td>\n",
       "      <td>510180</td>\n",
       "      <td>3.0</td>\n",
       "      <td>1999-11-11</td>\n",
       "    </tr>\n",
       "    <tr>\n",
       "      <th>96212476</th>\n",
       "      <td>17064</td>\n",
       "      <td>510180</td>\n",
       "      <td>2.0</td>\n",
       "      <td>1999-11-11</td>\n",
       "    </tr>\n",
       "  </tbody>\n",
       "</table>\n",
       "</div>"
      ],
      "text/plain": [
       "          movie    user  rating       date\n",
       "58698779  10774  510180     3.0 1999-11-11\n",
       "96212476  17064  510180     2.0 1999-11-11"
      ]
     },
     "execution_count": 17,
     "metadata": {},
     "output_type": "execute_result"
    }
   ],
   "source": [
    "big_train_df.head(2)"
   ]
  },
  {
   "cell_type": "code",
   "execution_count": 18,
   "metadata": {},
   "outputs": [
    {
     "name": "stdout",
     "output_type": "stream",
     "text": [
      "Training data \n",
      "--------------------------------------------------\n",
      "\n",
      "Total no of ratings : 80383236\n",
      "Total No of Users   : 405024\n",
      "Total No of movies  : 17423\n"
     ]
    }
   ],
   "source": [
    "movies = big_train_df.movie.value_counts()\n",
    "users = big_train_df.user.value_counts()\n",
    "print(\"Training data \")\n",
    "print(\"-\"*50)\n",
    "print(\"\\nTotal no of ratings :\",big_train_df.shape[0])\n",
    "print(\"Total No of Users   :\", len(users))\n",
    "print(\"Total No of movies  :\", len(movies))"
   ]
  },
  {
   "cell_type": "markdown",
   "metadata": {},
   "source": [
    "# 2. Creating sparse matrix for Train data"
   ]
  },
  {
   "cell_type": "code",
   "execution_count": 19,
   "metadata": {},
   "outputs": [
    {
     "name": "stdout",
     "output_type": "stream",
     "text": [
      "It is present in your pwd, getting it from disk....\n",
      "DONE..\n",
      "0:00:03.095818\n"
     ]
    }
   ],
   "source": [
    "import os\n",
    "from scipy import sparse\n",
    "start = datetime.now()\n",
    "if os.path.isfile('sample/train_sparse_matrix.npz'):\n",
    "    print(\"It is present in your pwd, getting it from disk....\")\n",
    "    # just get it from the disk instead of computing it\n",
    "    train_sparse_matrix = sparse.load_npz('sample/train_sparse_matrix.npz')\n",
    "    print(\"DONE..\")\n",
    "else: \n",
    "    print(\"We are creating sparse_matrix from the dataframe..\")\n",
    "    # create sparse_matrix and store it for after usage.\n",
    "    # csr_matrix(data_values, (row_index, col_index), shape_of_matrix)\n",
    "    # It should be in such a way that, MATRIX[row, col] = data\n",
    "    train_sparse_matrix = sparse.csr_matrix((big_train_df.rating.values, (big_train_df.user.values,\n",
    "                                               big_train_df.movie.values)))\n",
    "    \n",
    "    print('Done. It\\'s shape is : (user, movie) : ',train_sparse_matrix.shape)\n",
    "    print('Saving it into disk for furthur usage..')\n",
    "    # save it into disk\n",
    "    sparse.save_npz(\"sample/train_sparse_matrix.npz\", train_sparse_matrix)\n",
    "    print('Done..\\n')\n",
    " \n",
    "print(datetime.now() - start)"
   ]
  },
  {
   "cell_type": "markdown",
   "metadata": {},
   "source": [
    "### Sparsity"
   ]
  },
  {
   "cell_type": "code",
   "execution_count": 20,
   "metadata": {},
   "outputs": [],
   "source": [
    "u,m = train_sparse_matrix.shape\n",
    "elem = train_sparse_matrix.count_nonzero()"
   ]
  },
  {
   "cell_type": "code",
   "execution_count": 21,
   "metadata": {},
   "outputs": [
    {
     "name": "stdout",
     "output_type": "stream",
     "text": [
      "Sparsity Of matrix : 99.82927583214679 % \n"
     ]
    }
   ],
   "source": [
    "print(\"Sparsity Of matrix : {} % \".format(  (1-(elem/(u*m))) * 100) )"
   ]
  },
  {
   "cell_type": "markdown",
   "metadata": {},
   "source": [
    "## Test"
   ]
  },
  {
   "cell_type": "code",
   "execution_count": 23,
   "metadata": {},
   "outputs": [
    {
     "data": {
      "text/plain": [
       "(20095809, 4)"
      ]
     },
     "execution_count": 23,
     "metadata": {},
     "output_type": "execute_result"
    }
   ],
   "source": [
    "big_test_df = df.iloc[int(df.shape[0]*0.80) : ]\n",
    "big_test_df.shape"
   ]
  },
  {
   "cell_type": "code",
   "execution_count": 24,
   "metadata": {},
   "outputs": [
    {
     "data": {
      "text/html": [
       "<div>\n",
       "<style scoped>\n",
       "    .dataframe tbody tr th:only-of-type {\n",
       "        vertical-align: middle;\n",
       "    }\n",
       "\n",
       "    .dataframe tbody tr th {\n",
       "        vertical-align: top;\n",
       "    }\n",
       "\n",
       "    .dataframe thead th {\n",
       "        text-align: right;\n",
       "    }\n",
       "</style>\n",
       "<table border=\"1\" class=\"dataframe\">\n",
       "  <thead>\n",
       "    <tr style=\"text-align: right;\">\n",
       "      <th></th>\n",
       "      <th>movie</th>\n",
       "      <th>user</th>\n",
       "      <th>rating</th>\n",
       "      <th>date</th>\n",
       "    </tr>\n",
       "  </thead>\n",
       "  <tbody>\n",
       "    <tr>\n",
       "      <th>52863848</th>\n",
       "      <td>9617</td>\n",
       "      <td>316390</td>\n",
       "      <td>2.0</td>\n",
       "      <td>2005-08-08</td>\n",
       "    </tr>\n",
       "    <tr>\n",
       "      <th>12989568</th>\n",
       "      <td>2462</td>\n",
       "      <td>605375</td>\n",
       "      <td>4.0</td>\n",
       "      <td>2005-08-08</td>\n",
       "    </tr>\n",
       "  </tbody>\n",
       "</table>\n",
       "</div>"
      ],
      "text/plain": [
       "          movie    user  rating       date\n",
       "52863848   9617  316390     2.0 2005-08-08\n",
       "12989568   2462  605375     4.0 2005-08-08"
      ]
     },
     "execution_count": 24,
     "metadata": {},
     "output_type": "execute_result"
    }
   ],
   "source": [
    "big_test_df.head(2)"
   ]
  },
  {
   "cell_type": "code",
   "execution_count": 25,
   "metadata": {},
   "outputs": [
    {
     "name": "stdout",
     "output_type": "stream",
     "text": [
      "Test data \n",
      "--------------------------------------------------\n",
      "\n",
      "Total no of ratings : 20095809\n",
      "Total No of Users   : 349327\n",
      "Total No of movies  : 17757\n"
     ]
    }
   ],
   "source": [
    "movies = big_test_df.movie.value_counts()\n",
    "users = big_test_df.user.value_counts()\n",
    "\n",
    "print(\"Test data \")\n",
    "print(\"-\"*50)\n",
    "print(\"\\nTotal no of ratings :\",big_test_df.shape[0])\n",
    "print(\"Total No of Users   :\", len(users))\n",
    "print(\"Total No of movies  :\", len(movies))"
   ]
  },
  {
   "cell_type": "markdown",
   "metadata": {},
   "source": [
    "# 3. Creating sparse matrix for Test data"
   ]
  },
  {
   "cell_type": "code",
   "execution_count": 26,
   "metadata": {},
   "outputs": [
    {
     "name": "stdout",
     "output_type": "stream",
     "text": [
      "It is present in your pwd, getting it from disk....\n",
      "DONE..\n",
      "0:00:00.847732\n"
     ]
    }
   ],
   "source": [
    "import os\n",
    "from scipy import sparse\n",
    "start = datetime.now()\n",
    "if os.path.isfile('sample/test_sparse_matrix.npz'):\n",
    "    print(\"It is present in your pwd, getting it from disk....\")\n",
    "    # just get it from the disk instead of computing it\n",
    "    test_sparse_matrix = sparse.load_npz('sample/test_sparse_matrix.npz')\n",
    "    print(\"DONE..\")\n",
    "else: \n",
    "    print(\"We are creating sparse_matrix from the dataframe..\")\n",
    "    # create sparse_matrix and store it for after usage.\n",
    "    # csr_matrix(data_values, (row_index, col_index), shape_of_matrix)\n",
    "    # It should be in such a way that, MATRIX[row, col] = data\n",
    "    test_sparse_matrix = sparse.csr_matrix((big_test_df.rating.values, (big_test_df.user.values,\n",
    "                                               big_test_df.movie.values)))\n",
    "    \n",
    "    print('Done. It\\'s shape is : (user, movie) : ',test_sparse_matrix.shape)\n",
    "    print('Saving it into disk for furthur usage..')\n",
    "    # save it into disk\n",
    "    sparse.save_npz(\"sample/test_sparse_matrix.npz\", test_sparse_matrix)\n",
    "    print('Done..\\n')\n",
    " \n",
    "print(datetime.now() - start)"
   ]
  },
  {
   "cell_type": "markdown",
   "metadata": {},
   "source": [
    "### Sparsity"
   ]
  },
  {
   "cell_type": "code",
   "execution_count": 27,
   "metadata": {},
   "outputs": [],
   "source": [
    "u,m = test_sparse_matrix.shape\n",
    "elem = test_sparse_matrix.count_nonzero()"
   ]
  },
  {
   "cell_type": "code",
   "execution_count": 28,
   "metadata": {},
   "outputs": [
    {
     "name": "stdout",
     "output_type": "stream",
     "text": [
      "Sparsity Of matrix : 99.95731855608713 % \n"
     ]
    }
   ],
   "source": [
    "print(\"Sparsity Of matrix : {} % \".format(  (1-(elem/(u*m))) * 100) )"
   ]
  },
  {
   "cell_type": "markdown",
   "metadata": {},
   "source": [
    " "
   ]
  },
  {
   "cell_type": "markdown",
   "metadata": {},
   "source": [
    " "
   ]
  },
  {
   "cell_type": "markdown",
   "metadata": {},
   "source": [
    "# Sampling Train and Test data "
   ]
  },
  {
   "cell_type": "code",
   "execution_count": 6,
   "metadata": {},
   "outputs": [],
   "source": [
    "import os\n",
    "import random"
   ]
  },
  {
   "cell_type": "markdown",
   "metadata": {},
   "source": [
    "## Train"
   ]
  },
  {
   "cell_type": "code",
   "execution_count": 7,
   "metadata": {
    "scrolled": true
   },
   "outputs": [
    {
     "name": "stdout",
     "output_type": "stream",
     "text": [
      "It is present in your pwd, getting it from disk....\n",
      "DONE..\n",
      "0:00:00.030006\n"
     ]
    }
   ],
   "source": [
    "import os\n",
    "from scipy import sparse\n",
    "\n",
    "start = datetime.now()\n",
    "if os.path.isfile('sample/big/sample_train_sparse_matrix.npz'):\n",
    "    print(\"It is present in your pwd, getting it from disk....\")\n",
    "    # just get it from the disk instead of computing it\n",
    "    sample_train_sparse_matrix = sparse.load_npz('sample/big/sample_train_sparse_matrix.npz')\n",
    "    print(\"DONE..\")\n",
    "else: \n",
    "    train_row_ind, train_col_ind = train_sparse_matrix.nonzero()\n",
    "    train_row_ind = np.unique(train_row_ind)\n",
    "    train_col_ind = np.unique(train_col_ind)\n",
    "\n",
    "    print(\"In big matrix, (users, movies) : ({} {})\".format(len(train_row_ind), len(train_col_ind)))\n",
    "\n",
    "    np.random.seed(15)\n",
    "    sample_train_movies = np.random.choice(train_col_ind, 2000, replace=False)\n",
    "    sample_train_users = np.random.choice(train_row_ind, 20000, replace=False)\n",
    "\n",
    "    sample_train_sparse_matrix = train_sparse_matrix[sample_train_users, :][:,sample_train_movies]\n",
    "    \n",
    "    print('In sampled matrix, (users, movies) : ',[len(np.unique(i)) for i in sample_train_sparse_matrix.nonzero()])\n",
    "    print('Saving it into disk for furthur usage..')\n",
    "    # save it into disk\n",
    "    sparse.save_npz(\"sample/big/sample_train_sparse_matrix.npz\", sample_train_sparse_matrix)\n",
    "    print('Done..\\n')\n",
    "\n",
    "\n",
    "print(datetime.now() - start)"
   ]
  },
  {
   "cell_type": "code",
   "execution_count": 8,
   "metadata": {},
   "outputs": [
    {
     "data": {
      "text/plain": [
       "486139"
      ]
     },
     "execution_count": 8,
     "metadata": {},
     "output_type": "execute_result"
    }
   ],
   "source": [
    "sample_train_sparse_matrix.count_nonzero()"
   ]
  },
  {
   "cell_type": "markdown",
   "metadata": {},
   "source": [
    "## Test"
   ]
  },
  {
   "cell_type": "code",
   "execution_count": 9,
   "metadata": {
    "scrolled": true
   },
   "outputs": [
    {
     "name": "stdout",
     "output_type": "stream",
     "text": [
      "It is present in your pwd, getting it from disk....\n",
      "DONE..\n",
      "0:00:00.015005\n"
     ]
    }
   ],
   "source": [
    "import os\n",
    "from scipy import sparse\n",
    "\n",
    "start = datetime.now()\n",
    "if os.path.isfile('sample/big/sample_test_sparse_matrix.npz'):\n",
    "    print(\"It is present in your pwd, getting it from disk....\")\n",
    "    # just get it from the disk instead of computing it\n",
    "    sample_test_sparse_matrix = sparse.load_npz('sample/big/sample_test_sparse_matrix.npz')\n",
    "    print(\"DONE..\")\n",
    "else: \n",
    "    test_row_ind, test_col_ind = test_sparse_matrix.nonzero()\n",
    "    test_row_ind = np.unique(test_row_ind)\n",
    "    test_col_ind = np.unique(test_col_ind)\n",
    "\n",
    "    print(\"In big matrix (users, movies) : ({} {})\".format(len(test_row_ind), len(test_col_ind)))\n",
    "\n",
    "    np.random.seed(15)\n",
    "    sample_test_movies = np.random.choice(test_col_ind, 3500, replace=False)\n",
    "    sample_test_users = np.random.choice(test_row_ind, 10000, replace=False)\n",
    "\n",
    "    sample_test_sparse_matrix = test_sparse_matrix[sample_test_users, :][:,sample_test_movies]\n",
    "    print('In sampled matrix, (users, movies) : ',[len(np.unique(i)) for i in sample_test_sparse_matrix.nonzero()])\n",
    "    print('Saving it into disk for furthur usage..')\n",
    "    # save it into disk\n",
    "    sparse.save_npz(\"sample/big/sample_test_sparse_matrix.npz\", sample_test_sparse_matrix)\n",
    "    print('Done..\\n')\n",
    "\n",
    "\n",
    "print(datetime.now() - start)"
   ]
  },
  {
   "cell_type": "markdown",
   "metadata": {},
   "source": [
    " "
   ]
  },
  {
   "cell_type": "markdown",
   "metadata": {},
   "source": [
    " "
   ]
  },
  {
   "cell_type": "markdown",
   "metadata": {},
   "source": [
    " "
   ]
  },
  {
   "cell_type": "markdown",
   "metadata": {},
   "source": [
    " "
   ]
  },
  {
   "cell_type": "markdown",
   "metadata": {},
   "source": [
    " "
   ]
  },
  {
   "cell_type": "markdown",
   "metadata": {},
   "source": [
    " "
   ]
  },
  {
   "cell_type": "markdown",
   "metadata": {},
   "source": [
    " "
   ]
  },
  {
   "cell_type": "markdown",
   "metadata": {},
   "source": [
    " "
   ]
  },
  {
   "cell_type": "markdown",
   "metadata": {},
   "source": [
    " "
   ]
  },
  {
   "cell_type": "markdown",
   "metadata": {},
   "source": [
    " "
   ]
  },
  {
   "cell_type": "markdown",
   "metadata": {},
   "source": [
    " "
   ]
  },
  {
   "cell_type": "markdown",
   "metadata": {},
   "source": [
    "# Computing Average Ratings (from Train data)"
   ]
  },
  {
   "cell_type": "code",
   "execution_count": 10,
   "metadata": {},
   "outputs": [],
   "source": [
    "averages = dict()"
   ]
  },
  {
   "cell_type": "code",
   "execution_count": 11,
   "metadata": {},
   "outputs": [],
   "source": [
    "# Boolean matrix of ratings ( whether a user rated that movie or not)\n",
    "is_rated = sample_train_sparse_matrix!=0"
   ]
  },
  {
   "cell_type": "code",
   "execution_count": 12,
   "metadata": {},
   "outputs": [
    {
     "data": {
      "text/plain": [
       "{'global': 3.568888733469234}"
      ]
     },
     "execution_count": 12,
     "metadata": {},
     "output_type": "execute_result"
    }
   ],
   "source": [
    "# get the global average of ratings in our train set.\n",
    "global_average = sample_train_sparse_matrix.sum()/sample_train_sparse_matrix.count_nonzero()\n",
    "averages['global'] = global_average\n",
    "averages"
   ]
  },
  {
   "cell_type": "markdown",
   "metadata": {},
   "source": [
    "### User averages"
   ]
  },
  {
   "cell_type": "code",
   "execution_count": 13,
   "metadata": {},
   "outputs": [
    {
     "data": {
      "text/plain": [
       "4.416666666666667"
      ]
     },
     "execution_count": 13,
     "metadata": {},
     "output_type": "execute_result"
    }
   ],
   "source": [
    "# get the user averages in dictionary (key: userid, value: avg rating)\n",
    "#_____________________________________________________________________#\n",
    "\n",
    "# \".A1\" is for converting Column_Matrix to 1-D numpy array \n",
    "sum_of_ratings_per_user = sample_train_sparse_matrix.sum(axis=1).A1\n",
    "# no of ratings that each user has given.\n",
    "no_of_ratings_per_user = is_rated.sum(axis=1).A1\n",
    "\n",
    "# creae a dictonary of users and their average ratigns..\n",
    "average_user_ratings = { i : sum_of_ratings_per_user[i]/no_of_ratings_per_user[i]  \n",
    "                                 for i in range(sample_train_sparse_matrix.shape[0]) \n",
    "                                    if no_of_ratings_per_user[i] !=0}\n",
    "\n",
    "# add user averages to th eaverages dictionary\n",
    "averages['user'] = average_user_ratings\n",
    "\n",
    "# test it..\n",
    "averages['user'][97]"
   ]
  },
  {
   "cell_type": "markdown",
   "metadata": {},
   "source": [
    "### Movie Averages"
   ]
  },
  {
   "cell_type": "code",
   "execution_count": 14,
   "metadata": {},
   "outputs": [
    {
     "data": {
      "text/plain": [
       "3.7222222222222223"
      ]
     },
     "execution_count": 14,
     "metadata": {},
     "output_type": "execute_result"
    }
   ],
   "source": [
    "# get the Movie Average ratings in dictionary (key: movieId, value: avg_rating)\n",
    "#_____________________________________________________________________#\n",
    "\n",
    "# sum of the ratings that a movie got by any user(who rated that movie..)\n",
    "sum_of_ratings_per_movie = sample_train_sparse_matrix.sum(axis=0).A1\n",
    "# no of ratings that a movie got.\n",
    "no_of_ratings_per_movie = is_rated.sum(axis=0).A1\n",
    "\n",
    "average_movie_ratings = {i : sum_of_ratings_per_movie[i]/ no_of_ratings_per_movie[i] \n",
    "                                for i in range(sample_train_sparse_matrix.shape[1])\n",
    "                                    if no_of_ratings_per_movie[i]!=0 }\n",
    "\n",
    "# add thie'per_movie' avg ratings to averages dictionary\n",
    "averages['movie'] = average_movie_ratings\n",
    "\n",
    "# test this dictionary\n",
    "averages['movie'][30]"
   ]
  },
  {
   "cell_type": "markdown",
   "metadata": {},
   "source": [
    " "
   ]
  },
  {
   "cell_type": "markdown",
   "metadata": {},
   "source": [
    " "
   ]
  },
  {
   "cell_type": "markdown",
   "metadata": {},
   "source": [
    "# Preparing Train and Test data for XGBoost"
   ]
  },
  {
   "cell_type": "code",
   "execution_count": 15,
   "metadata": {},
   "outputs": [],
   "source": [
    "from sklearn.metrics.pairwise import cosine_similarity"
   ]
  },
  {
   "cell_type": "code",
   "execution_count": 16,
   "metadata": {},
   "outputs": [],
   "source": [
    "sample_train_users, sample_train_movies, sample_train_ratings = sparse.find(sample_train_sparse_matrix)"
   ]
  },
  {
   "cell_type": "code",
   "execution_count": 17,
   "metadata": {},
   "outputs": [
    {
     "data": {
      "text/plain": [
       "(486139, 486139, 486139)"
      ]
     },
     "execution_count": 17,
     "metadata": {},
     "output_type": "execute_result"
    }
   ],
   "source": [
    "len((sample_train_users)), len(sample_train_movies), len(sample_train_ratings)"
   ]
  },
  {
   "cell_type": "markdown",
   "metadata": {},
   "source": [
    "## Preparing Train data "
   ]
  },
  {
   "cell_type": "code",
   "execution_count": 20,
   "metadata": {
    "scrolled": true
   },
   "outputs": [
    {
     "name": "stdout",
     "output_type": "stream",
     "text": [
      "It is already in the disk. you don't have to prepare it again\n",
      "0:00:00\n"
     ]
    }
   ],
   "source": [
    "start = datetime.now()\n",
    "if os.path.isfile('sample/big/reg_train.csv'):\n",
    "    print(\"It is already in the disk. you don't have to prepare it again\")\n",
    "else:\n",
    "    print('preparing {} tuples for the dataset..\\n'.format(len(sample_train_ratings)))\n",
    "    with open('sample/big/reg_train.csv', mode='a') as reg_data_file:\n",
    "        count = 0\n",
    "        for (user, movie, rating)  in zip(sample_train_users, sample_train_movies, sample_train_ratings):\n",
    "            st = datetime.now()\n",
    "        #     print(user, movie)    \n",
    "            #--------------------- Ratings of \"movie\" by similar users of \"user\" ---------------------\n",
    "            # compute the similar Users of the \"user\"        \n",
    "            user_sim = cosine_similarity(sample_train_sparse_matrix[user], sample_train_sparse_matrix).ravel()\n",
    "            top_sim_users = user_sim.argsort()[::-1][1:] # we are ignoring 'The User' from its similar users.\n",
    "            # get the ratings of most similar users for this movie\n",
    "            top_ratings = sample_train_sparse_matrix[top_sim_users, movie].toarray().ravel()\n",
    "            # we will make it's length \"5\" by adding movie averages to .\n",
    "            top_sim_users_ratings = list(top_ratings[top_ratings != 0][:5])\n",
    "            top_sim_users_ratings.extend([averages['movie'][movie]]*(5 - len(top_sim_users_ratings)))\n",
    "        #     print(top_sim_users_ratings, end=\" \")    \n",
    "\n",
    "\n",
    "            #--------------------- Ratings by \"user\"  to similar movies of \"movie\" ---------------------\n",
    "            # compute the similar movies of the \"movie\"        \n",
    "            movie_sim = cosine_similarity(sample_train_sparse_matrix[:,movie].T, sample_train_sparse_matrix.T).ravel()\n",
    "            top_sim_movies = movie_sim.argsort()[::-1][1:] # we are ignoring 'The User' from its similar users.\n",
    "            # get the ratings of most similar movie rated by this user..\n",
    "            top_ratings = sample_train_sparse_matrix[user, top_sim_movies].toarray().ravel()\n",
    "            # we will make it's length \"5\" by adding user averages to.\n",
    "            top_sim_movies_ratings = list(top_ratings[top_ratings != 0][:5])\n",
    "            top_sim_movies_ratings.extend([averages['user'][user]]*(5-len(top_sim_movies_ratings))) \n",
    "        #     print(top_sim_movies_ratings, end=\" : -- \")\n",
    "\n",
    "            #-----------------prepare the row to be stores in a file-----------------#\n",
    "            row = list()\n",
    "            row.append(averages['global']) # first feature\n",
    "            # next 5 features are similar_users \"movie\" ratings\n",
    "            row.extend(top_sim_users_ratings)\n",
    "            # next 5 features are \"user\" ratings for similar_movies\n",
    "            row.extend(top_sim_movies_ratings)\n",
    "            # Avg_user rating\n",
    "            row.append(averages['user'][user])\n",
    "            # Avg_movie rating\n",
    "            row.append(averages['movie'][movie])\n",
    "\n",
    "            # finalley, The actual Rating of this user-movie pair...\n",
    "            row.append(rating)\n",
    "            count = count + 1\n",
    "\n",
    "            # add rows to the file opened..\n",
    "            reg_data_file.write(','.join(map(str, row)))\n",
    "            reg_data_file.write('\\n')        \n",
    "            if (count)%10000 == 0:\n",
    "                # print(','.join(map(str, row)))\n",
    "                print(\"Done for {} rows----- {}\".format(count, datetime.now() - start))    \n",
    "print(datetime.now() - start)"
   ]
  },
  {
   "cell_type": "markdown",
   "metadata": {},
   "source": [
    "## Preparing Test data"
   ]
  },
  {
   "cell_type": "code",
   "execution_count": 21,
   "metadata": {},
   "outputs": [],
   "source": [
    "sample_test_users, sample_test_movies, sample_test_ratings = sparse.find(sample_test_sparse_matrix)"
   ]
  },
  {
   "cell_type": "code",
   "execution_count": 22,
   "metadata": {},
   "outputs": [
    {
     "data": {
      "text/plain": [
       "(110403, 110403, 110403)"
      ]
     },
     "execution_count": 22,
     "metadata": {},
     "output_type": "execute_result"
    }
   ],
   "source": [
    "len(sample_test_users), len(sample_test_movies), len(sample_test_ratings)"
   ]
  },
  {
   "cell_type": "code",
   "execution_count": 23,
   "metadata": {
    "scrolled": true
   },
   "outputs": [
    {
     "name": "stdout",
     "output_type": "stream",
     "text": [
      "It is already in the disk. you don't have to prepare it again\n",
      " 0:00:00\n",
      "\n",
      "No. of cold start problems handled : 0\n"
     ]
    }
   ],
   "source": [
    "start = datetime.now()\n",
    "cold_start_count = 0\n",
    "\n",
    "if os.path.isfile('sample/big/reg_test.csv'):\n",
    "    print(\"It is already in the disk. you don't have to prepare it again\")\n",
    "else:\n",
    "    print('preparing {} tuples for the dataset..\\n'.format(len(sample_test_ratings)))\n",
    "    with open('sample/big/reg_test.csv', mode='a') as reg_data_file:\n",
    "        count = 0 \n",
    "        for (user, movie, rating)  in zip(sample_test_users, sample_test_movies, sample_test_ratings):\n",
    "            st = datetime.now()\n",
    "\n",
    "        #--------------------- Ratings of \"movie\" by similar users of \"user\" ---------------------\n",
    "            #print(user, movie)\n",
    "            try:\n",
    "                # compute the similar Users of the \"user\"        \n",
    "                user_sim = cosine_similarity(sample_test_sparse_matrix[user], sample_test_sparse_matrix).ravel()\n",
    "                top_sim_users = user_sim.argsort()[::-1][1:] # we are ignoring 'The User' from its similar users.\n",
    "                # get the ratings of most similar users for this movie\n",
    "                top_ratings = sample_test_sparse_matrix[top_sim_users, movie].toarray().ravel()\n",
    "                # we will make it's length \"5\" by adding movie averages to .\n",
    "                top_sim_users_ratings = list(top_ratings[top_ratings != 0][:5])\n",
    "                top_sim_users_ratings.extend([averages['movie'][movie]]*(5 - len(top_sim_users_ratings)))\n",
    "                #print(top_sim_users_ratings, end=\"--\")\n",
    "\n",
    "            except KeyError:\n",
    "                # It is a new User or new Movie or there are no ratings for given user for top similar movies...\n",
    "                ########## Cold STart Problem ##########\n",
    "                cold_start_count = cold_start_count + 1\n",
    "                top_sim_users_ratings.extend([averages['global']]*(5 - len(top_sim_users_ratings)))\n",
    "                #print(top_sim_users_ratings)\n",
    "            except:\n",
    "                # we just want KeyErrors to be resolved. Not every Exception...\n",
    "                raise\n",
    "\n",
    "\n",
    "\n",
    "            #--------------------- Ratings by \"user\"  to similar movies of \"movie\" ---------------------\n",
    "            try:\n",
    "                # compute the similar movies of the \"movie\"        \n",
    "                movie_sim = cosine_similarity(sample_test_sparse_matrix[:,movie].T, sample_test_sparse_matrix.T).ravel()\n",
    "                top_sim_movies = movie_sim.argsort()[::-1][1:] # we are ignoring 'The User' from its similar users.\n",
    "                # get the ratings of most similar movie rated by this user..\n",
    "                top_ratings = sample_test_sparse_matrix[user, top_sim_movies].toarray().ravel()\n",
    "                # we will make it's length \"5\" by adding user averages to.\n",
    "                top_sim_movies_ratings = list(top_ratings[top_ratings != 0][:5])\n",
    "                top_sim_movies_ratings.extend([averages['user'][user]]*(5-len(top_sim_movies_ratings))) \n",
    "                #print(top_sim_movies_ratings)\n",
    "            except KeyError:\n",
    "                cold_start_count = cold_start_count + 1\n",
    "                #print(top_sim_movies_ratings, end=\" : -- \")\n",
    "                top_sim_movies_ratings.extend([averages['global']]*(5-len(top_sim_movies_ratings)))\n",
    "                #print(top_sim_movies_ratings)\n",
    "            except :\n",
    "                raise\n",
    "\n",
    "            #-----------------prepare the row to be stores in a file-----------------#\n",
    "            row = list()\n",
    "            row.append(averages['global']) # first feature\n",
    "            #print(row)\n",
    "            # next 5 features are similar_users \"movie\" ratings\n",
    "            row.extend(top_sim_users_ratings)\n",
    "            #print(row)\n",
    "            # next 5 features are \"user\" ratings for similar_movies\n",
    "            row.extend(top_sim_movies_ratings)\n",
    "            #print(row)\n",
    "            # Avg_user rating\n",
    "            try:\n",
    "                row.append(averages['user'][user])\n",
    "            except KeyError:\n",
    "                row.append(averages['global'])\n",
    "            except:\n",
    "                raise\n",
    "            #print(row)\n",
    "            # Avg_movie rating\n",
    "            try:\n",
    "                row.append(averages['movie'][movie])\n",
    "            except KeyError:\n",
    "                row.append(averages['global'])\n",
    "            except:\n",
    "                raise\n",
    "            #print(row)\n",
    "            # finalley, The actual Rating of this user-movie pair...\n",
    "            row.append(rating)\n",
    "            #print(row)\n",
    "            count = count + 1\n",
    "\n",
    "            # add rows to the file opened..\n",
    "            reg_data_file.write(','.join(map(str, row)))\n",
    "            #print(','.join(map(str, row)))\n",
    "            reg_data_file.write('\\n')        \n",
    "            if (count)%5000 == 0:\n",
    "                #print(','.join(map(str, row)))\n",
    "                print(\"Done for {} rows----- {}\".format(count, datetime.now() - start))\n",
    "print(\"\",datetime.now() - start)\n",
    "print(\"\\nNo. of cold start problems handled :\", cold_start_count)"
   ]
  },
  {
   "cell_type": "markdown",
   "metadata": {},
   "source": [
    "#### Percentage if Cold Start Cases handled"
   ]
  },
  {
   "cell_type": "code",
   "execution_count": 158,
   "metadata": {
    "scrolled": true
   },
   "outputs": [
    {
     "name": "stdout",
     "output_type": "stream",
     "text": [
      "Cold Start Cases : 49.635426573553254%\n"
     ]
    }
   ],
   "source": [
    "print(\"Cold Start Cases : {}%\".format((cold_start_count/len(sample_test_ratings)) * 100 ))"
   ]
  },
  {
   "cell_type": "markdown",
   "metadata": {},
   "source": [
    " \n",
    " "
   ]
  },
  {
   "cell_type": "markdown",
   "metadata": {},
   "source": [
    " ## Reading from the file to make a dataframe"
   ]
  },
  {
   "cell_type": "code",
   "execution_count": 53,
   "metadata": {},
   "outputs": [
    {
     "data": {
      "text/html": [
       "<div>\n",
       "<style scoped>\n",
       "    .dataframe tbody tr th:only-of-type {\n",
       "        vertical-align: middle;\n",
       "    }\n",
       "\n",
       "    .dataframe tbody tr th {\n",
       "        vertical-align: top;\n",
       "    }\n",
       "\n",
       "    .dataframe thead th {\n",
       "        text-align: right;\n",
       "    }\n",
       "</style>\n",
       "<table border=\"1\" class=\"dataframe\">\n",
       "  <thead>\n",
       "    <tr style=\"text-align: right;\">\n",
       "      <th></th>\n",
       "      <th>GAvg</th>\n",
       "      <th>sur1</th>\n",
       "      <th>sur2</th>\n",
       "      <th>sur3</th>\n",
       "      <th>sur4</th>\n",
       "      <th>sur5</th>\n",
       "      <th>smr1</th>\n",
       "      <th>smr2</th>\n",
       "      <th>smr3</th>\n",
       "      <th>smr4</th>\n",
       "      <th>smr5</th>\n",
       "      <th>UAvg</th>\n",
       "      <th>MAvg</th>\n",
       "      <th>rating</th>\n",
       "    </tr>\n",
       "  </thead>\n",
       "  <tbody>\n",
       "    <tr>\n",
       "      <th>0</th>\n",
       "      <td>3.568889</td>\n",
       "      <td>3.0</td>\n",
       "      <td>4.0</td>\n",
       "      <td>1.0</td>\n",
       "      <td>4.0</td>\n",
       "      <td>3.0</td>\n",
       "      <td>5.0</td>\n",
       "      <td>2.0</td>\n",
       "      <td>5.0</td>\n",
       "      <td>4.0</td>\n",
       "      <td>3.0</td>\n",
       "      <td>3.759690</td>\n",
       "      <td>3.0</td>\n",
       "      <td>3.0</td>\n",
       "    </tr>\n",
       "    <tr>\n",
       "      <th>1</th>\n",
       "      <td>3.568889</td>\n",
       "      <td>4.0</td>\n",
       "      <td>3.0</td>\n",
       "      <td>3.0</td>\n",
       "      <td>4.0</td>\n",
       "      <td>3.0</td>\n",
       "      <td>1.0</td>\n",
       "      <td>4.0</td>\n",
       "      <td>3.0</td>\n",
       "      <td>5.0</td>\n",
       "      <td>5.0</td>\n",
       "      <td>3.311377</td>\n",
       "      <td>3.0</td>\n",
       "      <td>1.0</td>\n",
       "    </tr>\n",
       "    <tr>\n",
       "      <th>2</th>\n",
       "      <td>3.568889</td>\n",
       "      <td>4.0</td>\n",
       "      <td>1.0</td>\n",
       "      <td>3.0</td>\n",
       "      <td>4.0</td>\n",
       "      <td>3.0</td>\n",
       "      <td>3.0</td>\n",
       "      <td>4.0</td>\n",
       "      <td>2.0</td>\n",
       "      <td>5.0</td>\n",
       "      <td>3.0</td>\n",
       "      <td>2.661871</td>\n",
       "      <td>3.0</td>\n",
       "      <td>3.0</td>\n",
       "    </tr>\n",
       "    <tr>\n",
       "      <th>3</th>\n",
       "      <td>3.568889</td>\n",
       "      <td>4.0</td>\n",
       "      <td>3.0</td>\n",
       "      <td>3.0</td>\n",
       "      <td>1.0</td>\n",
       "      <td>3.0</td>\n",
       "      <td>3.0</td>\n",
       "      <td>5.0</td>\n",
       "      <td>4.0</td>\n",
       "      <td>4.0</td>\n",
       "      <td>1.0</td>\n",
       "      <td>3.615385</td>\n",
       "      <td>3.0</td>\n",
       "      <td>4.0</td>\n",
       "    </tr>\n",
       "    <tr>\n",
       "      <th>4</th>\n",
       "      <td>3.568889</td>\n",
       "      <td>4.0</td>\n",
       "      <td>4.0</td>\n",
       "      <td>3.0</td>\n",
       "      <td>3.0</td>\n",
       "      <td>1.0</td>\n",
       "      <td>3.0</td>\n",
       "      <td>3.0</td>\n",
       "      <td>3.0</td>\n",
       "      <td>3.0</td>\n",
       "      <td>3.0</td>\n",
       "      <td>3.000000</td>\n",
       "      <td>3.0</td>\n",
       "      <td>3.0</td>\n",
       "    </tr>\n",
       "  </tbody>\n",
       "</table>\n",
       "</div>"
      ],
      "text/plain": [
       "       GAvg  sur1  sur2  sur3  sur4  sur5  smr1  smr2  smr3  smr4  smr5  \\\n",
       "0  3.568889   3.0   4.0   1.0   4.0   3.0   5.0   2.0   5.0   4.0   3.0   \n",
       "1  3.568889   4.0   3.0   3.0   4.0   3.0   1.0   4.0   3.0   5.0   5.0   \n",
       "2  3.568889   4.0   1.0   3.0   4.0   3.0   3.0   4.0   2.0   5.0   3.0   \n",
       "3  3.568889   4.0   3.0   3.0   1.0   3.0   3.0   5.0   4.0   4.0   1.0   \n",
       "4  3.568889   4.0   4.0   3.0   3.0   1.0   3.0   3.0   3.0   3.0   3.0   \n",
       "\n",
       "       UAvg  MAvg  rating  \n",
       "0  3.759690   3.0     3.0  \n",
       "1  3.311377   3.0     1.0  \n",
       "2  2.661871   3.0     3.0  \n",
       "3  3.615385   3.0     4.0  \n",
       "4  3.000000   3.0     3.0  "
      ]
     },
     "execution_count": 53,
     "metadata": {},
     "output_type": "execute_result"
    }
   ],
   "source": [
    "reg_train = pd.read_csv('sample/big/reg_train.csv',names = [ 'GAvg', 'sur1', 'sur2', 'sur3', 'sur4', 'sur5',\n",
    "                                                         'smr1', 'smr2', 'smr3', 'smr4', 'smr5',\n",
    "                                                        'UAvg', 'MAvg', 'rating'], header=None)\n",
    "reg_train.head()"
   ]
  },
  {
   "cell_type": "code",
   "execution_count": 54,
   "metadata": {},
   "outputs": [
    {
     "data": {
      "text/plain": [
       "(486139, 14)"
      ]
     },
     "execution_count": 54,
     "metadata": {},
     "output_type": "execute_result"
    }
   ],
   "source": [
    "reg_train.shape"
   ]
  },
  {
   "cell_type": "markdown",
   "metadata": {},
   "source": [
    "# XGBoost Regressor"
   ]
  },
  {
   "cell_type": "markdown",
   "metadata": {},
   "source": [
    "Install xgboost in windows : https://www.youtube.com/watch?v=k51sX_ApQYU "
   ]
  },
  {
   "cell_type": "code",
   "execution_count": 50,
   "metadata": {},
   "outputs": [],
   "source": [
    "import os\n",
    "\n",
    "mingw_path = 'C:\\\\Program Files\\\\mingw-w64\\\\x86_64-7.2.0-posix-seh-rt_v5-rev1\\\\mingw64\\\\bin'\n",
    "\n",
    "os.environ['PATH'] = mingw_path + ';' + os.environ['PATH']"
   ]
  },
  {
   "cell_type": "code",
   "execution_count": 51,
   "metadata": {},
   "outputs": [],
   "source": [
    "import xgboost as xgb"
   ]
  },
  {
   "cell_type": "code",
   "execution_count": 52,
   "metadata": {},
   "outputs": [],
   "source": [
    "reg_xgb = xgb.XGBRegressor(silent=False, n_jobs=10, random_state=15)"
   ]
  },
  {
   "cell_type": "code",
   "execution_count": 55,
   "metadata": {},
   "outputs": [],
   "source": [
    "x_train = reg_train.drop(['rating'], axis=1)\n",
    "\n",
    "y_train = reg_train['rating']"
   ]
  },
  {
   "cell_type": "code",
   "execution_count": 56,
   "metadata": {},
   "outputs": [],
   "source": [
    "start = datetime.now()"
   ]
  },
  {
   "cell_type": "code",
   "execution_count": 57,
   "metadata": {
    "scrolled": true
   },
   "outputs": [
    {
     "data": {
      "text/plain": [
       "XGBRegressor(base_score=0.5, booster='gbtree', colsample_bylevel=1,\n",
       "       colsample_bytree=1, gamma=0, learning_rate=0.1, max_delta_step=0,\n",
       "       max_depth=3, min_child_weight=1, missing=None, n_estimators=100,\n",
       "       n_jobs=10, nthread=None, objective='reg:linear', random_state=15,\n",
       "       reg_alpha=0, reg_lambda=1, scale_pos_weight=1, seed=None,\n",
       "       silent=False, subsample=1)"
      ]
     },
     "execution_count": 57,
     "metadata": {},
     "output_type": "execute_result"
    }
   ],
   "source": [
    "reg_xgb.fit(x_train, y_train, eval_metric = 'rmse')"
   ]
  },
  {
   "cell_type": "code",
   "execution_count": 58,
   "metadata": {},
   "outputs": [
    {
     "name": "stdout",
     "output_type": "stream",
     "text": [
      "0:00:09.433541\n"
     ]
    }
   ],
   "source": [
    "print(datetime.now() - start)"
   ]
  },
  {
   "cell_type": "code",
   "execution_count": 59,
   "metadata": {},
   "outputs": [
    {
     "name": "stdout",
     "output_type": "stream",
     "text": [
      "0:00:00.242061\n"
     ]
    }
   ],
   "source": [
    "start =datetime.now()\n",
    "y_train_pred = reg_xgb.predict(x_train)\n",
    "print(datetime.now()-start)"
   ]
  },
  {
   "cell_type": "code",
   "execution_count": 60,
   "metadata": {},
   "outputs": [],
   "source": [
    "from sklearn.metrics import mean_squared_error"
   ]
  },
  {
   "cell_type": "code",
   "execution_count": 61,
   "metadata": {},
   "outputs": [],
   "source": [
    "rmse_train = np.sqrt(mean_squared_error(y_train, y_train_pred))\n",
    "mape_train = np.mean(np.abs( (y_train.values - y_train_pred)/y_train.values )) * 100"
   ]
  },
  {
   "cell_type": "code",
   "execution_count": 62,
   "metadata": {
    "scrolled": true
   },
   "outputs": [
    {
     "data": {
      "text/plain": [
       "(0.8704784998407008, 26.43305715452889)"
      ]
     },
     "execution_count": 62,
     "metadata": {},
     "output_type": "execute_result"
    }
   ],
   "source": [
    "rmse_train, mape_train"
   ]
  },
  {
   "cell_type": "code",
   "execution_count": 65,
   "metadata": {},
   "outputs": [
    {
     "data": {
      "application/javascript": [
       "/* Put everything inside the global mpl namespace */\n",
       "window.mpl = {};\n",
       "\n",
       "\n",
       "mpl.get_websocket_type = function() {\n",
       "    if (typeof(WebSocket) !== 'undefined') {\n",
       "        return WebSocket;\n",
       "    } else if (typeof(MozWebSocket) !== 'undefined') {\n",
       "        return MozWebSocket;\n",
       "    } else {\n",
       "        alert('Your browser does not have WebSocket support.' +\n",
       "              'Please try Chrome, Safari or Firefox ≥ 6. ' +\n",
       "              'Firefox 4 and 5 are also supported but you ' +\n",
       "              'have to enable WebSockets in about:config.');\n",
       "    };\n",
       "}\n",
       "\n",
       "mpl.figure = function(figure_id, websocket, ondownload, parent_element) {\n",
       "    this.id = figure_id;\n",
       "\n",
       "    this.ws = websocket;\n",
       "\n",
       "    this.supports_binary = (this.ws.binaryType != undefined);\n",
       "\n",
       "    if (!this.supports_binary) {\n",
       "        var warnings = document.getElementById(\"mpl-warnings\");\n",
       "        if (warnings) {\n",
       "            warnings.style.display = 'block';\n",
       "            warnings.textContent = (\n",
       "                \"This browser does not support binary websocket messages. \" +\n",
       "                    \"Performance may be slow.\");\n",
       "        }\n",
       "    }\n",
       "\n",
       "    this.imageObj = new Image();\n",
       "\n",
       "    this.context = undefined;\n",
       "    this.message = undefined;\n",
       "    this.canvas = undefined;\n",
       "    this.rubberband_canvas = undefined;\n",
       "    this.rubberband_context = undefined;\n",
       "    this.format_dropdown = undefined;\n",
       "\n",
       "    this.image_mode = 'full';\n",
       "\n",
       "    this.root = $('<div/>');\n",
       "    this._root_extra_style(this.root)\n",
       "    this.root.attr('style', 'display: inline-block');\n",
       "\n",
       "    $(parent_element).append(this.root);\n",
       "\n",
       "    this._init_header(this);\n",
       "    this._init_canvas(this);\n",
       "    this._init_toolbar(this);\n",
       "\n",
       "    var fig = this;\n",
       "\n",
       "    this.waiting = false;\n",
       "\n",
       "    this.ws.onopen =  function () {\n",
       "            fig.send_message(\"supports_binary\", {value: fig.supports_binary});\n",
       "            fig.send_message(\"send_image_mode\", {});\n",
       "            if (mpl.ratio != 1) {\n",
       "                fig.send_message(\"set_dpi_ratio\", {'dpi_ratio': mpl.ratio});\n",
       "            }\n",
       "            fig.send_message(\"refresh\", {});\n",
       "        }\n",
       "\n",
       "    this.imageObj.onload = function() {\n",
       "            if (fig.image_mode == 'full') {\n",
       "                // Full images could contain transparency (where diff images\n",
       "                // almost always do), so we need to clear the canvas so that\n",
       "                // there is no ghosting.\n",
       "                fig.context.clearRect(0, 0, fig.canvas.width, fig.canvas.height);\n",
       "            }\n",
       "            fig.context.drawImage(fig.imageObj, 0, 0);\n",
       "        };\n",
       "\n",
       "    this.imageObj.onunload = function() {\n",
       "        fig.ws.close();\n",
       "    }\n",
       "\n",
       "    this.ws.onmessage = this._make_on_message_function(this);\n",
       "\n",
       "    this.ondownload = ondownload;\n",
       "}\n",
       "\n",
       "mpl.figure.prototype._init_header = function() {\n",
       "    var titlebar = $(\n",
       "        '<div class=\"ui-dialog-titlebar ui-widget-header ui-corner-all ' +\n",
       "        'ui-helper-clearfix\"/>');\n",
       "    var titletext = $(\n",
       "        '<div class=\"ui-dialog-title\" style=\"width: 100%; ' +\n",
       "        'text-align: center; padding: 3px;\"/>');\n",
       "    titlebar.append(titletext)\n",
       "    this.root.append(titlebar);\n",
       "    this.header = titletext[0];\n",
       "}\n",
       "\n",
       "\n",
       "\n",
       "mpl.figure.prototype._canvas_extra_style = function(canvas_div) {\n",
       "\n",
       "}\n",
       "\n",
       "\n",
       "mpl.figure.prototype._root_extra_style = function(canvas_div) {\n",
       "\n",
       "}\n",
       "\n",
       "mpl.figure.prototype._init_canvas = function() {\n",
       "    var fig = this;\n",
       "\n",
       "    var canvas_div = $('<div/>');\n",
       "\n",
       "    canvas_div.attr('style', 'position: relative; clear: both; outline: 0');\n",
       "\n",
       "    function canvas_keyboard_event(event) {\n",
       "        return fig.key_event(event, event['data']);\n",
       "    }\n",
       "\n",
       "    canvas_div.keydown('key_press', canvas_keyboard_event);\n",
       "    canvas_div.keyup('key_release', canvas_keyboard_event);\n",
       "    this.canvas_div = canvas_div\n",
       "    this._canvas_extra_style(canvas_div)\n",
       "    this.root.append(canvas_div);\n",
       "\n",
       "    var canvas = $('<canvas/>');\n",
       "    canvas.addClass('mpl-canvas');\n",
       "    canvas.attr('style', \"left: 0; top: 0; z-index: 0; outline: 0\")\n",
       "\n",
       "    this.canvas = canvas[0];\n",
       "    this.context = canvas[0].getContext(\"2d\");\n",
       "\n",
       "    var backingStore = this.context.backingStorePixelRatio ||\n",
       "\tthis.context.webkitBackingStorePixelRatio ||\n",
       "\tthis.context.mozBackingStorePixelRatio ||\n",
       "\tthis.context.msBackingStorePixelRatio ||\n",
       "\tthis.context.oBackingStorePixelRatio ||\n",
       "\tthis.context.backingStorePixelRatio || 1;\n",
       "\n",
       "    mpl.ratio = (window.devicePixelRatio || 1) / backingStore;\n",
       "\n",
       "    var rubberband = $('<canvas/>');\n",
       "    rubberband.attr('style', \"position: absolute; left: 0; top: 0; z-index: 1;\")\n",
       "\n",
       "    var pass_mouse_events = true;\n",
       "\n",
       "    canvas_div.resizable({\n",
       "        start: function(event, ui) {\n",
       "            pass_mouse_events = false;\n",
       "        },\n",
       "        resize: function(event, ui) {\n",
       "            fig.request_resize(ui.size.width, ui.size.height);\n",
       "        },\n",
       "        stop: function(event, ui) {\n",
       "            pass_mouse_events = true;\n",
       "            fig.request_resize(ui.size.width, ui.size.height);\n",
       "        },\n",
       "    });\n",
       "\n",
       "    function mouse_event_fn(event) {\n",
       "        if (pass_mouse_events)\n",
       "            return fig.mouse_event(event, event['data']);\n",
       "    }\n",
       "\n",
       "    rubberband.mousedown('button_press', mouse_event_fn);\n",
       "    rubberband.mouseup('button_release', mouse_event_fn);\n",
       "    // Throttle sequential mouse events to 1 every 20ms.\n",
       "    rubberband.mousemove('motion_notify', mouse_event_fn);\n",
       "\n",
       "    rubberband.mouseenter('figure_enter', mouse_event_fn);\n",
       "    rubberband.mouseleave('figure_leave', mouse_event_fn);\n",
       "\n",
       "    canvas_div.on(\"wheel\", function (event) {\n",
       "        event = event.originalEvent;\n",
       "        event['data'] = 'scroll'\n",
       "        if (event.deltaY < 0) {\n",
       "            event.step = 1;\n",
       "        } else {\n",
       "            event.step = -1;\n",
       "        }\n",
       "        mouse_event_fn(event);\n",
       "    });\n",
       "\n",
       "    canvas_div.append(canvas);\n",
       "    canvas_div.append(rubberband);\n",
       "\n",
       "    this.rubberband = rubberband;\n",
       "    this.rubberband_canvas = rubberband[0];\n",
       "    this.rubberband_context = rubberband[0].getContext(\"2d\");\n",
       "    this.rubberband_context.strokeStyle = \"#000000\";\n",
       "\n",
       "    this._resize_canvas = function(width, height) {\n",
       "        // Keep the size of the canvas, canvas container, and rubber band\n",
       "        // canvas in synch.\n",
       "        canvas_div.css('width', width)\n",
       "        canvas_div.css('height', height)\n",
       "\n",
       "        canvas.attr('width', width * mpl.ratio);\n",
       "        canvas.attr('height', height * mpl.ratio);\n",
       "        canvas.attr('style', 'width: ' + width + 'px; height: ' + height + 'px;');\n",
       "\n",
       "        rubberband.attr('width', width);\n",
       "        rubberband.attr('height', height);\n",
       "    }\n",
       "\n",
       "    // Set the figure to an initial 600x600px, this will subsequently be updated\n",
       "    // upon first draw.\n",
       "    this._resize_canvas(600, 600);\n",
       "\n",
       "    // Disable right mouse context menu.\n",
       "    $(this.rubberband_canvas).bind(\"contextmenu\",function(e){\n",
       "        return false;\n",
       "    });\n",
       "\n",
       "    function set_focus () {\n",
       "        canvas.focus();\n",
       "        canvas_div.focus();\n",
       "    }\n",
       "\n",
       "    window.setTimeout(set_focus, 100);\n",
       "}\n",
       "\n",
       "mpl.figure.prototype._init_toolbar = function() {\n",
       "    var fig = this;\n",
       "\n",
       "    var nav_element = $('<div/>')\n",
       "    nav_element.attr('style', 'width: 100%');\n",
       "    this.root.append(nav_element);\n",
       "\n",
       "    // Define a callback function for later on.\n",
       "    function toolbar_event(event) {\n",
       "        return fig.toolbar_button_onclick(event['data']);\n",
       "    }\n",
       "    function toolbar_mouse_event(event) {\n",
       "        return fig.toolbar_button_onmouseover(event['data']);\n",
       "    }\n",
       "\n",
       "    for(var toolbar_ind in mpl.toolbar_items) {\n",
       "        var name = mpl.toolbar_items[toolbar_ind][0];\n",
       "        var tooltip = mpl.toolbar_items[toolbar_ind][1];\n",
       "        var image = mpl.toolbar_items[toolbar_ind][2];\n",
       "        var method_name = mpl.toolbar_items[toolbar_ind][3];\n",
       "\n",
       "        if (!name) {\n",
       "            // put a spacer in here.\n",
       "            continue;\n",
       "        }\n",
       "        var button = $('<button/>');\n",
       "        button.addClass('ui-button ui-widget ui-state-default ui-corner-all ' +\n",
       "                        'ui-button-icon-only');\n",
       "        button.attr('role', 'button');\n",
       "        button.attr('aria-disabled', 'false');\n",
       "        button.click(method_name, toolbar_event);\n",
       "        button.mouseover(tooltip, toolbar_mouse_event);\n",
       "\n",
       "        var icon_img = $('<span/>');\n",
       "        icon_img.addClass('ui-button-icon-primary ui-icon');\n",
       "        icon_img.addClass(image);\n",
       "        icon_img.addClass('ui-corner-all');\n",
       "\n",
       "        var tooltip_span = $('<span/>');\n",
       "        tooltip_span.addClass('ui-button-text');\n",
       "        tooltip_span.html(tooltip);\n",
       "\n",
       "        button.append(icon_img);\n",
       "        button.append(tooltip_span);\n",
       "\n",
       "        nav_element.append(button);\n",
       "    }\n",
       "\n",
       "    var fmt_picker_span = $('<span/>');\n",
       "\n",
       "    var fmt_picker = $('<select/>');\n",
       "    fmt_picker.addClass('mpl-toolbar-option ui-widget ui-widget-content');\n",
       "    fmt_picker_span.append(fmt_picker);\n",
       "    nav_element.append(fmt_picker_span);\n",
       "    this.format_dropdown = fmt_picker[0];\n",
       "\n",
       "    for (var ind in mpl.extensions) {\n",
       "        var fmt = mpl.extensions[ind];\n",
       "        var option = $(\n",
       "            '<option/>', {selected: fmt === mpl.default_extension}).html(fmt);\n",
       "        fmt_picker.append(option)\n",
       "    }\n",
       "\n",
       "    // Add hover states to the ui-buttons\n",
       "    $( \".ui-button\" ).hover(\n",
       "        function() { $(this).addClass(\"ui-state-hover\");},\n",
       "        function() { $(this).removeClass(\"ui-state-hover\");}\n",
       "    );\n",
       "\n",
       "    var status_bar = $('<span class=\"mpl-message\"/>');\n",
       "    nav_element.append(status_bar);\n",
       "    this.message = status_bar[0];\n",
       "}\n",
       "\n",
       "mpl.figure.prototype.request_resize = function(x_pixels, y_pixels) {\n",
       "    // Request matplotlib to resize the figure. Matplotlib will then trigger a resize in the client,\n",
       "    // which will in turn request a refresh of the image.\n",
       "    this.send_message('resize', {'width': x_pixels, 'height': y_pixels});\n",
       "}\n",
       "\n",
       "mpl.figure.prototype.send_message = function(type, properties) {\n",
       "    properties['type'] = type;\n",
       "    properties['figure_id'] = this.id;\n",
       "    this.ws.send(JSON.stringify(properties));\n",
       "}\n",
       "\n",
       "mpl.figure.prototype.send_draw_message = function() {\n",
       "    if (!this.waiting) {\n",
       "        this.waiting = true;\n",
       "        this.ws.send(JSON.stringify({type: \"draw\", figure_id: this.id}));\n",
       "    }\n",
       "}\n",
       "\n",
       "\n",
       "mpl.figure.prototype.handle_save = function(fig, msg) {\n",
       "    var format_dropdown = fig.format_dropdown;\n",
       "    var format = format_dropdown.options[format_dropdown.selectedIndex].value;\n",
       "    fig.ondownload(fig, format);\n",
       "}\n",
       "\n",
       "\n",
       "mpl.figure.prototype.handle_resize = function(fig, msg) {\n",
       "    var size = msg['size'];\n",
       "    if (size[0] != fig.canvas.width || size[1] != fig.canvas.height) {\n",
       "        fig._resize_canvas(size[0], size[1]);\n",
       "        fig.send_message(\"refresh\", {});\n",
       "    };\n",
       "}\n",
       "\n",
       "mpl.figure.prototype.handle_rubberband = function(fig, msg) {\n",
       "    var x0 = msg['x0'] / mpl.ratio;\n",
       "    var y0 = (fig.canvas.height - msg['y0']) / mpl.ratio;\n",
       "    var x1 = msg['x1'] / mpl.ratio;\n",
       "    var y1 = (fig.canvas.height - msg['y1']) / mpl.ratio;\n",
       "    x0 = Math.floor(x0) + 0.5;\n",
       "    y0 = Math.floor(y0) + 0.5;\n",
       "    x1 = Math.floor(x1) + 0.5;\n",
       "    y1 = Math.floor(y1) + 0.5;\n",
       "    var min_x = Math.min(x0, x1);\n",
       "    var min_y = Math.min(y0, y1);\n",
       "    var width = Math.abs(x1 - x0);\n",
       "    var height = Math.abs(y1 - y0);\n",
       "\n",
       "    fig.rubberband_context.clearRect(\n",
       "        0, 0, fig.canvas.width, fig.canvas.height);\n",
       "\n",
       "    fig.rubberband_context.strokeRect(min_x, min_y, width, height);\n",
       "}\n",
       "\n",
       "mpl.figure.prototype.handle_figure_label = function(fig, msg) {\n",
       "    // Updates the figure title.\n",
       "    fig.header.textContent = msg['label'];\n",
       "}\n",
       "\n",
       "mpl.figure.prototype.handle_cursor = function(fig, msg) {\n",
       "    var cursor = msg['cursor'];\n",
       "    switch(cursor)\n",
       "    {\n",
       "    case 0:\n",
       "        cursor = 'pointer';\n",
       "        break;\n",
       "    case 1:\n",
       "        cursor = 'default';\n",
       "        break;\n",
       "    case 2:\n",
       "        cursor = 'crosshair';\n",
       "        break;\n",
       "    case 3:\n",
       "        cursor = 'move';\n",
       "        break;\n",
       "    }\n",
       "    fig.rubberband_canvas.style.cursor = cursor;\n",
       "}\n",
       "\n",
       "mpl.figure.prototype.handle_message = function(fig, msg) {\n",
       "    fig.message.textContent = msg['message'];\n",
       "}\n",
       "\n",
       "mpl.figure.prototype.handle_draw = function(fig, msg) {\n",
       "    // Request the server to send over a new figure.\n",
       "    fig.send_draw_message();\n",
       "}\n",
       "\n",
       "mpl.figure.prototype.handle_image_mode = function(fig, msg) {\n",
       "    fig.image_mode = msg['mode'];\n",
       "}\n",
       "\n",
       "mpl.figure.prototype.updated_canvas_event = function() {\n",
       "    // Called whenever the canvas gets updated.\n",
       "    this.send_message(\"ack\", {});\n",
       "}\n",
       "\n",
       "// A function to construct a web socket function for onmessage handling.\n",
       "// Called in the figure constructor.\n",
       "mpl.figure.prototype._make_on_message_function = function(fig) {\n",
       "    return function socket_on_message(evt) {\n",
       "        if (evt.data instanceof Blob) {\n",
       "            /* FIXME: We get \"Resource interpreted as Image but\n",
       "             * transferred with MIME type text/plain:\" errors on\n",
       "             * Chrome.  But how to set the MIME type?  It doesn't seem\n",
       "             * to be part of the websocket stream */\n",
       "            evt.data.type = \"image/png\";\n",
       "\n",
       "            /* Free the memory for the previous frames */\n",
       "            if (fig.imageObj.src) {\n",
       "                (window.URL || window.webkitURL).revokeObjectURL(\n",
       "                    fig.imageObj.src);\n",
       "            }\n",
       "\n",
       "            fig.imageObj.src = (window.URL || window.webkitURL).createObjectURL(\n",
       "                evt.data);\n",
       "            fig.updated_canvas_event();\n",
       "            fig.waiting = false;\n",
       "            return;\n",
       "        }\n",
       "        else if (typeof evt.data === 'string' && evt.data.slice(0, 21) == \"data:image/png;base64\") {\n",
       "            fig.imageObj.src = evt.data;\n",
       "            fig.updated_canvas_event();\n",
       "            fig.waiting = false;\n",
       "            return;\n",
       "        }\n",
       "\n",
       "        var msg = JSON.parse(evt.data);\n",
       "        var msg_type = msg['type'];\n",
       "\n",
       "        // Call the  \"handle_{type}\" callback, which takes\n",
       "        // the figure and JSON message as its only arguments.\n",
       "        try {\n",
       "            var callback = fig[\"handle_\" + msg_type];\n",
       "        } catch (e) {\n",
       "            console.log(\"No handler for the '\" + msg_type + \"' message type: \", msg);\n",
       "            return;\n",
       "        }\n",
       "\n",
       "        if (callback) {\n",
       "            try {\n",
       "                // console.log(\"Handling '\" + msg_type + \"' message: \", msg);\n",
       "                callback(fig, msg);\n",
       "            } catch (e) {\n",
       "                console.log(\"Exception inside the 'handler_\" + msg_type + \"' callback:\", e, e.stack, msg);\n",
       "            }\n",
       "        }\n",
       "    };\n",
       "}\n",
       "\n",
       "// from http://stackoverflow.com/questions/1114465/getting-mouse-location-in-canvas\n",
       "mpl.findpos = function(e) {\n",
       "    //this section is from http://www.quirksmode.org/js/events_properties.html\n",
       "    var targ;\n",
       "    if (!e)\n",
       "        e = window.event;\n",
       "    if (e.target)\n",
       "        targ = e.target;\n",
       "    else if (e.srcElement)\n",
       "        targ = e.srcElement;\n",
       "    if (targ.nodeType == 3) // defeat Safari bug\n",
       "        targ = targ.parentNode;\n",
       "\n",
       "    // jQuery normalizes the pageX and pageY\n",
       "    // pageX,Y are the mouse positions relative to the document\n",
       "    // offset() returns the position of the element relative to the document\n",
       "    var x = e.pageX - $(targ).offset().left;\n",
       "    var y = e.pageY - $(targ).offset().top;\n",
       "\n",
       "    return {\"x\": x, \"y\": y};\n",
       "};\n",
       "\n",
       "/*\n",
       " * return a copy of an object with only non-object keys\n",
       " * we need this to avoid circular references\n",
       " * http://stackoverflow.com/a/24161582/3208463\n",
       " */\n",
       "function simpleKeys (original) {\n",
       "  return Object.keys(original).reduce(function (obj, key) {\n",
       "    if (typeof original[key] !== 'object')\n",
       "        obj[key] = original[key]\n",
       "    return obj;\n",
       "  }, {});\n",
       "}\n",
       "\n",
       "mpl.figure.prototype.mouse_event = function(event, name) {\n",
       "    var canvas_pos = mpl.findpos(event)\n",
       "\n",
       "    if (name === 'button_press')\n",
       "    {\n",
       "        this.canvas.focus();\n",
       "        this.canvas_div.focus();\n",
       "    }\n",
       "\n",
       "    var x = canvas_pos.x * mpl.ratio;\n",
       "    var y = canvas_pos.y * mpl.ratio;\n",
       "\n",
       "    this.send_message(name, {x: x, y: y, button: event.button,\n",
       "                             step: event.step,\n",
       "                             guiEvent: simpleKeys(event)});\n",
       "\n",
       "    /* This prevents the web browser from automatically changing to\n",
       "     * the text insertion cursor when the button is pressed.  We want\n",
       "     * to control all of the cursor setting manually through the\n",
       "     * 'cursor' event from matplotlib */\n",
       "    event.preventDefault();\n",
       "    return false;\n",
       "}\n",
       "\n",
       "mpl.figure.prototype._key_event_extra = function(event, name) {\n",
       "    // Handle any extra behaviour associated with a key event\n",
       "}\n",
       "\n",
       "mpl.figure.prototype.key_event = function(event, name) {\n",
       "\n",
       "    // Prevent repeat events\n",
       "    if (name == 'key_press')\n",
       "    {\n",
       "        if (event.which === this._key)\n",
       "            return;\n",
       "        else\n",
       "            this._key = event.which;\n",
       "    }\n",
       "    if (name == 'key_release')\n",
       "        this._key = null;\n",
       "\n",
       "    var value = '';\n",
       "    if (event.ctrlKey && event.which != 17)\n",
       "        value += \"ctrl+\";\n",
       "    if (event.altKey && event.which != 18)\n",
       "        value += \"alt+\";\n",
       "    if (event.shiftKey && event.which != 16)\n",
       "        value += \"shift+\";\n",
       "\n",
       "    value += 'k';\n",
       "    value += event.which.toString();\n",
       "\n",
       "    this._key_event_extra(event, name);\n",
       "\n",
       "    this.send_message(name, {key: value,\n",
       "                             guiEvent: simpleKeys(event)});\n",
       "    return false;\n",
       "}\n",
       "\n",
       "mpl.figure.prototype.toolbar_button_onclick = function(name) {\n",
       "    if (name == 'download') {\n",
       "        this.handle_save(this, null);\n",
       "    } else {\n",
       "        this.send_message(\"toolbar_button\", {name: name});\n",
       "    }\n",
       "};\n",
       "\n",
       "mpl.figure.prototype.toolbar_button_onmouseover = function(tooltip) {\n",
       "    this.message.textContent = tooltip;\n",
       "};\n",
       "mpl.toolbar_items = [[\"Home\", \"Reset original view\", \"fa fa-home icon-home\", \"home\"], [\"Back\", \"Back to  previous view\", \"fa fa-arrow-left icon-arrow-left\", \"back\"], [\"Forward\", \"Forward to next view\", \"fa fa-arrow-right icon-arrow-right\", \"forward\"], [\"\", \"\", \"\", \"\"], [\"Pan\", \"Pan axes with left mouse, zoom with right\", \"fa fa-arrows icon-move\", \"pan\"], [\"Zoom\", \"Zoom to rectangle\", \"fa fa-square-o icon-check-empty\", \"zoom\"], [\"\", \"\", \"\", \"\"], [\"Download\", \"Download plot\", \"fa fa-floppy-o icon-save\", \"download\"]];\n",
       "\n",
       "mpl.extensions = [\"eps\", \"jpeg\", \"pdf\", \"png\", \"ps\", \"raw\", \"svg\", \"tif\"];\n",
       "\n",
       "mpl.default_extension = \"png\";var comm_websocket_adapter = function(comm) {\n",
       "    // Create a \"websocket\"-like object which calls the given IPython comm\n",
       "    // object with the appropriate methods. Currently this is a non binary\n",
       "    // socket, so there is still some room for performance tuning.\n",
       "    var ws = {};\n",
       "\n",
       "    ws.close = function() {\n",
       "        comm.close()\n",
       "    };\n",
       "    ws.send = function(m) {\n",
       "        //console.log('sending', m);\n",
       "        comm.send(m);\n",
       "    };\n",
       "    // Register the callback with on_msg.\n",
       "    comm.on_msg(function(msg) {\n",
       "        //console.log('receiving', msg['content']['data'], msg);\n",
       "        // Pass the mpl event to the overriden (by mpl) onmessage function.\n",
       "        ws.onmessage(msg['content']['data'])\n",
       "    });\n",
       "    return ws;\n",
       "}\n",
       "\n",
       "mpl.mpl_figure_comm = function(comm, msg) {\n",
       "    // This is the function which gets called when the mpl process\n",
       "    // starts-up an IPython Comm through the \"matplotlib\" channel.\n",
       "\n",
       "    var id = msg.content.data.id;\n",
       "    // Get hold of the div created by the display call when the Comm\n",
       "    // socket was opened in Python.\n",
       "    var element = $(\"#\" + id);\n",
       "    var ws_proxy = comm_websocket_adapter(comm)\n",
       "\n",
       "    function ondownload(figure, format) {\n",
       "        window.open(figure.imageObj.src);\n",
       "    }\n",
       "\n",
       "    var fig = new mpl.figure(id, ws_proxy,\n",
       "                           ondownload,\n",
       "                           element.get(0));\n",
       "\n",
       "    // Call onopen now - mpl needs it, as it is assuming we've passed it a real\n",
       "    // web socket which is closed, not our websocket->open comm proxy.\n",
       "    ws_proxy.onopen();\n",
       "\n",
       "    fig.parent_element = element.get(0);\n",
       "    fig.cell_info = mpl.find_output_cell(\"<div id='\" + id + \"'></div>\");\n",
       "    if (!fig.cell_info) {\n",
       "        console.error(\"Failed to find cell for figure\", id, fig);\n",
       "        return;\n",
       "    }\n",
       "\n",
       "    var output_index = fig.cell_info[2]\n",
       "    var cell = fig.cell_info[0];\n",
       "\n",
       "};\n",
       "\n",
       "mpl.figure.prototype.handle_close = function(fig, msg) {\n",
       "    var width = fig.canvas.width/mpl.ratio\n",
       "    fig.root.unbind('remove')\n",
       "\n",
       "    // Update the output cell to use the data from the current canvas.\n",
       "    fig.push_to_output();\n",
       "    var dataURL = fig.canvas.toDataURL();\n",
       "    // Re-enable the keyboard manager in IPython - without this line, in FF,\n",
       "    // the notebook keyboard shortcuts fail.\n",
       "    IPython.keyboard_manager.enable()\n",
       "    $(fig.parent_element).html('<img src=\"' + dataURL + '\" width=\"' + width + '\">');\n",
       "    fig.close_ws(fig, msg);\n",
       "}\n",
       "\n",
       "mpl.figure.prototype.close_ws = function(fig, msg){\n",
       "    fig.send_message('closing', msg);\n",
       "    // fig.ws.close()\n",
       "}\n",
       "\n",
       "mpl.figure.prototype.push_to_output = function(remove_interactive) {\n",
       "    // Turn the data on the canvas into data in the output cell.\n",
       "    var width = this.canvas.width/mpl.ratio\n",
       "    var dataURL = this.canvas.toDataURL();\n",
       "    this.cell_info[1]['text/html'] = '<img src=\"' + dataURL + '\" width=\"' + width + '\">';\n",
       "}\n",
       "\n",
       "mpl.figure.prototype.updated_canvas_event = function() {\n",
       "    // Tell IPython that the notebook contents must change.\n",
       "    IPython.notebook.set_dirty(true);\n",
       "    this.send_message(\"ack\", {});\n",
       "    var fig = this;\n",
       "    // Wait a second, then push the new image to the DOM so\n",
       "    // that it is saved nicely (might be nice to debounce this).\n",
       "    setTimeout(function () { fig.push_to_output() }, 1000);\n",
       "}\n",
       "\n",
       "mpl.figure.prototype._init_toolbar = function() {\n",
       "    var fig = this;\n",
       "\n",
       "    var nav_element = $('<div/>')\n",
       "    nav_element.attr('style', 'width: 100%');\n",
       "    this.root.append(nav_element);\n",
       "\n",
       "    // Define a callback function for later on.\n",
       "    function toolbar_event(event) {\n",
       "        return fig.toolbar_button_onclick(event['data']);\n",
       "    }\n",
       "    function toolbar_mouse_event(event) {\n",
       "        return fig.toolbar_button_onmouseover(event['data']);\n",
       "    }\n",
       "\n",
       "    for(var toolbar_ind in mpl.toolbar_items){\n",
       "        var name = mpl.toolbar_items[toolbar_ind][0];\n",
       "        var tooltip = mpl.toolbar_items[toolbar_ind][1];\n",
       "        var image = mpl.toolbar_items[toolbar_ind][2];\n",
       "        var method_name = mpl.toolbar_items[toolbar_ind][3];\n",
       "\n",
       "        if (!name) { continue; };\n",
       "\n",
       "        var button = $('<button class=\"btn btn-default\" href=\"#\" title=\"' + name + '\"><i class=\"fa ' + image + ' fa-lg\"></i></button>');\n",
       "        button.click(method_name, toolbar_event);\n",
       "        button.mouseover(tooltip, toolbar_mouse_event);\n",
       "        nav_element.append(button);\n",
       "    }\n",
       "\n",
       "    // Add the status bar.\n",
       "    var status_bar = $('<span class=\"mpl-message\" style=\"text-align:right; float: right;\"/>');\n",
       "    nav_element.append(status_bar);\n",
       "    this.message = status_bar[0];\n",
       "\n",
       "    // Add the close button to the window.\n",
       "    var buttongrp = $('<div class=\"btn-group inline pull-right\"></div>');\n",
       "    var button = $('<button class=\"btn btn-mini btn-primary\" href=\"#\" title=\"Stop Interaction\"><i class=\"fa fa-power-off icon-remove icon-large\"></i></button>');\n",
       "    button.click(function (evt) { fig.handle_close(fig, {}); } );\n",
       "    button.mouseover('Stop Interaction', toolbar_mouse_event);\n",
       "    buttongrp.append(button);\n",
       "    var titlebar = this.root.find($('.ui-dialog-titlebar'));\n",
       "    titlebar.prepend(buttongrp);\n",
       "}\n",
       "\n",
       "mpl.figure.prototype._root_extra_style = function(el){\n",
       "    var fig = this\n",
       "    el.on(\"remove\", function(){\n",
       "\tfig.close_ws(fig, {});\n",
       "    });\n",
       "}\n",
       "\n",
       "mpl.figure.prototype._canvas_extra_style = function(el){\n",
       "    // this is important to make the div 'focusable\n",
       "    el.attr('tabindex', 0)\n",
       "    // reach out to IPython and tell the keyboard manager to turn it's self\n",
       "    // off when our div gets focus\n",
       "\n",
       "    // location in version 3\n",
       "    if (IPython.notebook.keyboard_manager) {\n",
       "        IPython.notebook.keyboard_manager.register_events(el);\n",
       "    }\n",
       "    else {\n",
       "        // location in version 2\n",
       "        IPython.keyboard_manager.register_events(el);\n",
       "    }\n",
       "\n",
       "}\n",
       "\n",
       "mpl.figure.prototype._key_event_extra = function(event, name) {\n",
       "    var manager = IPython.notebook.keyboard_manager;\n",
       "    if (!manager)\n",
       "        manager = IPython.keyboard_manager;\n",
       "\n",
       "    // Check for shift+enter\n",
       "    if (event.shiftKey && event.which == 13) {\n",
       "        this.canvas_div.blur();\n",
       "        event.shiftKey = false;\n",
       "        // Send a \"J\" for go to next cell\n",
       "        event.which = 74;\n",
       "        event.keyCode = 74;\n",
       "        manager.command_mode();\n",
       "        manager.handle_keydown(event);\n",
       "    }\n",
       "}\n",
       "\n",
       "mpl.figure.prototype.handle_save = function(fig, msg) {\n",
       "    fig.ondownload(fig, null);\n",
       "}\n",
       "\n",
       "\n",
       "mpl.find_output_cell = function(html_output) {\n",
       "    // Return the cell and output element which can be found *uniquely* in the notebook.\n",
       "    // Note - this is a bit hacky, but it is done because the \"notebook_saving.Notebook\"\n",
       "    // IPython event is triggered only after the cells have been serialised, which for\n",
       "    // our purposes (turning an active figure into a static one), is too late.\n",
       "    var cells = IPython.notebook.get_cells();\n",
       "    var ncells = cells.length;\n",
       "    for (var i=0; i<ncells; i++) {\n",
       "        var cell = cells[i];\n",
       "        if (cell.cell_type === 'code'){\n",
       "            for (var j=0; j<cell.output_area.outputs.length; j++) {\n",
       "                var data = cell.output_area.outputs[j];\n",
       "                if (data.data) {\n",
       "                    // IPython >= 3 moved mimebundle to data attribute of output\n",
       "                    data = data.data;\n",
       "                }\n",
       "                if (data['text/html'] == html_output) {\n",
       "                    return [cell, data, j];\n",
       "                }\n",
       "            }\n",
       "        }\n",
       "    }\n",
       "}\n",
       "\n",
       "// Register the function which deals with the matplotlib target/channel.\n",
       "// The kernel may be null if the page has been refreshed.\n",
       "if (IPython.notebook.kernel != null) {\n",
       "    IPython.notebook.kernel.comm_manager.register_target('matplotlib', mpl.mpl_figure_comm);\n",
       "}\n"
      ],
      "text/plain": [
       "<IPython.core.display.Javascript object>"
      ]
     },
     "metadata": {},
     "output_type": "display_data"
    },
    {
     "data": {
      "text/html": [
       "<img src=\"data:image/png;base64,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\" width=\"640\">"
      ],
      "text/plain": [
       "<IPython.core.display.HTML object>"
      ]
     },
     "metadata": {},
     "output_type": "display_data"
    }
   ],
   "source": [
    "xgb.plot_importance(reg_xgb)\n",
    "\n",
    "plt.show()"
   ]
  },
  {
   "cell_type": "markdown",
   "metadata": {},
   "source": [
    "## Testing it with the test data"
   ]
  },
  {
   "cell_type": "code",
   "execution_count": 66,
   "metadata": {},
   "outputs": [
    {
     "data": {
      "text/html": [
       "<div>\n",
       "<style scoped>\n",
       "    .dataframe tbody tr th:only-of-type {\n",
       "        vertical-align: middle;\n",
       "    }\n",
       "\n",
       "    .dataframe tbody tr th {\n",
       "        vertical-align: top;\n",
       "    }\n",
       "\n",
       "    .dataframe thead th {\n",
       "        text-align: right;\n",
       "    }\n",
       "</style>\n",
       "<table border=\"1\" class=\"dataframe\">\n",
       "  <thead>\n",
       "    <tr style=\"text-align: right;\">\n",
       "      <th></th>\n",
       "      <th>GAvg</th>\n",
       "      <th>sur1</th>\n",
       "      <th>sur2</th>\n",
       "      <th>sur3</th>\n",
       "      <th>sur4</th>\n",
       "      <th>sur5</th>\n",
       "      <th>smr1</th>\n",
       "      <th>smr2</th>\n",
       "      <th>smr3</th>\n",
       "      <th>smr4</th>\n",
       "      <th>smr5</th>\n",
       "      <th>UAvg</th>\n",
       "      <th>MAvg</th>\n",
       "      <th>rating</th>\n",
       "    </tr>\n",
       "  </thead>\n",
       "  <tbody>\n",
       "    <tr>\n",
       "      <th>0</th>\n",
       "      <td>3.568889</td>\n",
       "      <td>4.0</td>\n",
       "      <td>3.0</td>\n",
       "      <td>3.0</td>\n",
       "      <td>5.0</td>\n",
       "      <td>5.0</td>\n",
       "      <td>5.0</td>\n",
       "      <td>4.0</td>\n",
       "      <td>5.0</td>\n",
       "      <td>5.0</td>\n",
       "      <td>5.0</td>\n",
       "      <td>4.154472</td>\n",
       "      <td>3.0</td>\n",
       "      <td>3.0</td>\n",
       "    </tr>\n",
       "    <tr>\n",
       "      <th>1</th>\n",
       "      <td>3.568889</td>\n",
       "      <td>4.0</td>\n",
       "      <td>3.0</td>\n",
       "      <td>4.0</td>\n",
       "      <td>3.0</td>\n",
       "      <td>4.0</td>\n",
       "      <td>4.0</td>\n",
       "      <td>2.0</td>\n",
       "      <td>5.0</td>\n",
       "      <td>5.0</td>\n",
       "      <td>1.0</td>\n",
       "      <td>4.285714</td>\n",
       "      <td>3.0</td>\n",
       "      <td>5.0</td>\n",
       "    </tr>\n",
       "    <tr>\n",
       "      <th>2</th>\n",
       "      <td>3.568889</td>\n",
       "      <td>3.0</td>\n",
       "      <td>1.0</td>\n",
       "      <td>4.0</td>\n",
       "      <td>5.0</td>\n",
       "      <td>3.0</td>\n",
       "      <td>5.0</td>\n",
       "      <td>5.0</td>\n",
       "      <td>5.0</td>\n",
       "      <td>5.0</td>\n",
       "      <td>4.0</td>\n",
       "      <td>3.500000</td>\n",
       "      <td>3.0</td>\n",
       "      <td>3.0</td>\n",
       "    </tr>\n",
       "    <tr>\n",
       "      <th>3</th>\n",
       "      <td>3.568889</td>\n",
       "      <td>4.0</td>\n",
       "      <td>5.0</td>\n",
       "      <td>3.0</td>\n",
       "      <td>3.0</td>\n",
       "      <td>5.0</td>\n",
       "      <td>5.0</td>\n",
       "      <td>5.0</td>\n",
       "      <td>5.0</td>\n",
       "      <td>5.0</td>\n",
       "      <td>4.0</td>\n",
       "      <td>4.173913</td>\n",
       "      <td>3.0</td>\n",
       "      <td>5.0</td>\n",
       "    </tr>\n",
       "  </tbody>\n",
       "</table>\n",
       "</div>"
      ],
      "text/plain": [
       "       GAvg  sur1  sur2  sur3  sur4  sur5  smr1  smr2  smr3  smr4  smr5  \\\n",
       "0  3.568889   4.0   3.0   3.0   5.0   5.0   5.0   4.0   5.0   5.0   5.0   \n",
       "1  3.568889   4.0   3.0   4.0   3.0   4.0   4.0   2.0   5.0   5.0   1.0   \n",
       "2  3.568889   3.0   1.0   4.0   5.0   3.0   5.0   5.0   5.0   5.0   4.0   \n",
       "3  3.568889   4.0   5.0   3.0   3.0   5.0   5.0   5.0   5.0   5.0   4.0   \n",
       "\n",
       "       UAvg  MAvg  rating  \n",
       "0  4.154472   3.0     3.0  \n",
       "1  4.285714   3.0     5.0  \n",
       "2  3.500000   3.0     3.0  \n",
       "3  4.173913   3.0     5.0  "
      ]
     },
     "execution_count": 66,
     "metadata": {},
     "output_type": "execute_result"
    }
   ],
   "source": [
    "reg_test_df = pd.read_csv('sample/big/reg_test.csv',names = ['GAvg', 'sur1', 'sur2', 'sur3', 'sur4', 'sur5',\n",
    "                                                         'smr1', 'smr2', 'smr3', 'smr4', 'smr5',\n",
    "                                                        'UAvg', 'MAvg', 'rating'], header=None)\n",
    "reg_test_df.head(4)"
   ]
  },
  {
   "cell_type": "code",
   "execution_count": 67,
   "metadata": {},
   "outputs": [],
   "source": [
    "x_test = reg_test_df.drop(['rating'], axis=1)\n",
    "\n",
    "y_test = reg_test_df['rating']"
   ]
  },
  {
   "cell_type": "markdown",
   "metadata": {},
   "source": [
    "## For basic model"
   ]
  },
  {
   "cell_type": "code",
   "execution_count": 68,
   "metadata": {},
   "outputs": [
    {
     "data": {
      "text/plain": [
       "(1.0671246633875136, 31.616862205367706)"
      ]
     },
     "execution_count": 68,
     "metadata": {},
     "output_type": "execute_result"
    }
   ],
   "source": [
    "y_test_pred = reg_xgb.predict(x_test)\n",
    "mape_test = np.mean(np.abs( (y_test.values - y_test_pred)/y_test.values )) * 100\n",
    "rmse_test = np.sqrt(mean_squared_error(y_test, y_test_pred))\n",
    "\n",
    "rmse_test, mape_test"
   ]
  },
  {
   "cell_type": "markdown",
   "metadata": {},
   "source": [
    " \n",
    " "
   ]
  },
  {
   "cell_type": "markdown",
   "metadata": {},
   "source": [
    " \n",
    " "
   ]
  },
  {
   "cell_type": "markdown",
   "metadata": {},
   "source": [
    "## Trying Linear Regression with the data \n"
   ]
  },
  {
   "cell_type": "markdown",
   "metadata": {},
   "source": [
    " "
   ]
  },
  {
   "cell_type": "code",
   "execution_count": 78,
   "metadata": {},
   "outputs": [],
   "source": [
    "# to get rmse and mape for XGboost..\n",
    "def get_error_metrics(y_true, y_pred):\n",
    "    rmse = np.sqrt(np.mean([ (y_true[i] - y_pred[i])**2 for i in range(len(y_pred)) ]))\n",
    "    mape = np.mean(np.abs( (y_true - y_pred)/y_true )) * 100\n",
    "    return rmse, mape"
   ]
  },
  {
   "cell_type": "markdown",
   "metadata": {},
   "source": [
    " "
   ]
  },
  {
   "cell_type": "markdown",
   "metadata": {},
   "source": [
    " "
   ]
  },
  {
   "cell_type": "code",
   "execution_count": 69,
   "metadata": {},
   "outputs": [
    {
     "data": {
      "text/html": [
       "<div>\n",
       "<style scoped>\n",
       "    .dataframe tbody tr th:only-of-type {\n",
       "        vertical-align: middle;\n",
       "    }\n",
       "\n",
       "    .dataframe tbody tr th {\n",
       "        vertical-align: top;\n",
       "    }\n",
       "\n",
       "    .dataframe thead th {\n",
       "        text-align: right;\n",
       "    }\n",
       "</style>\n",
       "<table border=\"1\" class=\"dataframe\">\n",
       "  <thead>\n",
       "    <tr style=\"text-align: right;\">\n",
       "      <th></th>\n",
       "      <th>GAvg</th>\n",
       "      <th>sur1</th>\n",
       "      <th>sur2</th>\n",
       "      <th>sur3</th>\n",
       "      <th>sur4</th>\n",
       "      <th>sur5</th>\n",
       "      <th>smr1</th>\n",
       "      <th>smr2</th>\n",
       "      <th>smr3</th>\n",
       "      <th>smr4</th>\n",
       "      <th>smr5</th>\n",
       "      <th>UAvg</th>\n",
       "      <th>MAvg</th>\n",
       "    </tr>\n",
       "  </thead>\n",
       "  <tbody>\n",
       "    <tr>\n",
       "      <th>0</th>\n",
       "      <td>3.568889</td>\n",
       "      <td>3.0</td>\n",
       "      <td>4.0</td>\n",
       "      <td>1.0</td>\n",
       "      <td>4.0</td>\n",
       "      <td>3.0</td>\n",
       "      <td>5.0</td>\n",
       "      <td>2.0</td>\n",
       "      <td>5.0</td>\n",
       "      <td>4.0</td>\n",
       "      <td>3.0</td>\n",
       "      <td>3.759690</td>\n",
       "      <td>3.0</td>\n",
       "    </tr>\n",
       "    <tr>\n",
       "      <th>1</th>\n",
       "      <td>3.568889</td>\n",
       "      <td>4.0</td>\n",
       "      <td>3.0</td>\n",
       "      <td>3.0</td>\n",
       "      <td>4.0</td>\n",
       "      <td>3.0</td>\n",
       "      <td>1.0</td>\n",
       "      <td>4.0</td>\n",
       "      <td>3.0</td>\n",
       "      <td>5.0</td>\n",
       "      <td>5.0</td>\n",
       "      <td>3.311377</td>\n",
       "      <td>3.0</td>\n",
       "    </tr>\n",
       "  </tbody>\n",
       "</table>\n",
       "</div>"
      ],
      "text/plain": [
       "       GAvg  sur1  sur2  sur3  sur4  sur5  smr1  smr2  smr3  smr4  smr5  \\\n",
       "0  3.568889   3.0   4.0   1.0   4.0   3.0   5.0   2.0   5.0   4.0   3.0   \n",
       "1  3.568889   4.0   3.0   3.0   4.0   3.0   1.0   4.0   3.0   5.0   5.0   \n",
       "\n",
       "       UAvg  MAvg  \n",
       "0  3.759690   3.0  \n",
       "1  3.311377   3.0  "
      ]
     },
     "execution_count": 69,
     "metadata": {},
     "output_type": "execute_result"
    }
   ],
   "source": [
    "x_train.head(2)"
   ]
  },
  {
   "cell_type": "code",
   "execution_count": 71,
   "metadata": {},
   "outputs": [
    {
     "data": {
      "text/plain": [
       "0    3.0\n",
       "1    1.0\n",
       "Name: rating, dtype: float64"
      ]
     },
     "execution_count": 71,
     "metadata": {},
     "output_type": "execute_result"
    }
   ],
   "source": [
    "y_train.head(2)"
   ]
  },
  {
   "cell_type": "code",
   "execution_count": 73,
   "metadata": {},
   "outputs": [],
   "source": [
    "from sklearn.linear_model import LinearRegression"
   ]
  },
  {
   "cell_type": "code",
   "execution_count": 74,
   "metadata": {},
   "outputs": [],
   "source": [
    "lr_reg = LinearRegression(fit_intercept=True, normalize=True, n_jobs = 10)"
   ]
  },
  {
   "cell_type": "code",
   "execution_count": 75,
   "metadata": {},
   "outputs": [
    {
     "data": {
      "text/plain": [
       "LinearRegression(copy_X=True, fit_intercept=True, n_jobs=10, normalize=True)"
      ]
     },
     "execution_count": 75,
     "metadata": {},
     "output_type": "execute_result"
    }
   ],
   "source": [
    "lr_reg.fit(x_train, y_train)"
   ]
  },
  {
   "cell_type": "markdown",
   "metadata": {},
   "source": [
    "- __Train Data__"
   ]
  },
  {
   "cell_type": "code",
   "execution_count": 76,
   "metadata": {},
   "outputs": [],
   "source": [
    "lr_reg_train_preds = lr_reg.predict(x_train)"
   ]
  },
  {
   "cell_type": "code",
   "execution_count": 79,
   "metadata": {},
   "outputs": [
    {
     "data": {
      "text/plain": [
       "(0.8732285631100922, 26.540119744131275)"
      ]
     },
     "execution_count": 79,
     "metadata": {},
     "output_type": "execute_result"
    }
   ],
   "source": [
    "lr_reg_train_rmse, lr_reg_train_mape = get_error_metrics(y_train, lr_reg_train_preds)\n",
    "lr_reg_train_rmse, lr_reg_train_mape"
   ]
  },
  {
   "cell_type": "markdown",
   "metadata": {},
   "source": [
    "- __Test Data__"
   ]
  },
  {
   "cell_type": "code",
   "execution_count": 83,
   "metadata": {},
   "outputs": [],
   "source": [
    "lr_reg_test_preds = lr_reg.predict(x_test)"
   ]
  },
  {
   "cell_type": "code",
   "execution_count": 85,
   "metadata": {},
   "outputs": [
    {
     "data": {
      "text/plain": [
       "(1.0629627653197444, 31.266110475214827)"
      ]
     },
     "execution_count": 85,
     "metadata": {},
     "output_type": "execute_result"
    }
   ],
   "source": [
    "lr_reg_test_rmse, lr_reg_test_mape = get_error_metrics(y_test, lr_reg_test_preds)\n",
    "lr_reg_test_rmse, lr_reg_test_mape"
   ]
  },
  {
   "cell_type": "markdown",
   "metadata": {},
   "source": [
    " "
   ]
  },
  {
   "cell_type": "markdown",
   "metadata": {},
   "source": [
    " "
   ]
  },
  {
   "cell_type": "markdown",
   "metadata": {},
   "source": [
    " "
   ]
  },
  {
   "cell_type": "markdown",
   "metadata": {},
   "source": [
    " "
   ]
  },
  {
   "cell_type": "markdown",
   "metadata": {},
   "source": [
    "## Preparing Trainset and testset for Surprise based alorithms"
   ]
  },
  {
   "cell_type": "markdown",
   "metadata": {},
   "source": [
    "### TrainSet"
   ]
  },
  {
   "cell_type": "code",
   "execution_count": 96,
   "metadata": {},
   "outputs": [
    {
     "data": {
      "text/html": [
       "<div>\n",
       "<style scoped>\n",
       "    .dataframe tbody tr th:only-of-type {\n",
       "        vertical-align: middle;\n",
       "    }\n",
       "\n",
       "    .dataframe tbody tr th {\n",
       "        vertical-align: top;\n",
       "    }\n",
       "\n",
       "    .dataframe thead th {\n",
       "        text-align: right;\n",
       "    }\n",
       "</style>\n",
       "<table border=\"1\" class=\"dataframe\">\n",
       "  <thead>\n",
       "    <tr style=\"text-align: right;\">\n",
       "      <th></th>\n",
       "      <th>user</th>\n",
       "      <th>movie</th>\n",
       "      <th>rating</th>\n",
       "    </tr>\n",
       "  </thead>\n",
       "  <tbody>\n",
       "    <tr>\n",
       "      <th>0</th>\n",
       "      <td>1590</td>\n",
       "      <td>0</td>\n",
       "      <td>3.0</td>\n",
       "    </tr>\n",
       "    <tr>\n",
       "      <th>1</th>\n",
       "      <td>1907</td>\n",
       "      <td>0</td>\n",
       "      <td>1.0</td>\n",
       "    </tr>\n",
       "  </tbody>\n",
       "</table>\n",
       "</div>"
      ],
      "text/plain": [
       "   user  movie  rating\n",
       "0  1590      0     3.0\n",
       "1  1907      0     1.0"
      ]
     },
     "execution_count": 96,
     "metadata": {},
     "output_type": "execute_result"
    }
   ],
   "source": [
    "surp_train = pd.DataFrame({'user': sample_train_users,\n",
    "                           'movie': sample_train_movies,\n",
    "                           'rating': sample_train_ratings}, )\n",
    "surp_train = surp_train[['user','movie','rating']]\n",
    "surp_train.head(2)"
   ]
  },
  {
   "cell_type": "code",
   "execution_count": 99,
   "metadata": {},
   "outputs": [],
   "source": [
    "from surprise import Reader, Dataset"
   ]
  },
  {
   "cell_type": "code",
   "execution_count": 110,
   "metadata": {},
   "outputs": [],
   "source": [
    "trainset = Dataset.load_from_df(surp_train,Reader(rating_scale=(1,5))).build_full_trainset()"
   ]
  },
  {
   "cell_type": "code",
   "execution_count": 111,
   "metadata": {},
   "outputs": [
    {
     "data": {
      "text/plain": [
       "(18755, 1949, 486139)"
      ]
     },
     "execution_count": 111,
     "metadata": {},
     "output_type": "execute_result"
    }
   ],
   "source": [
    "trainset.n_users, trainset.n_items, trainset.n_ratings"
   ]
  },
  {
   "cell_type": "markdown",
   "metadata": {},
   "source": [
    "### TestSet"
   ]
  },
  {
   "cell_type": "code",
   "execution_count": 106,
   "metadata": {},
   "outputs": [
    {
     "data": {
      "text/html": [
       "<div>\n",
       "<style scoped>\n",
       "    .dataframe tbody tr th:only-of-type {\n",
       "        vertical-align: middle;\n",
       "    }\n",
       "\n",
       "    .dataframe tbody tr th {\n",
       "        vertical-align: top;\n",
       "    }\n",
       "\n",
       "    .dataframe thead th {\n",
       "        text-align: right;\n",
       "    }\n",
       "</style>\n",
       "<table border=\"1\" class=\"dataframe\">\n",
       "  <thead>\n",
       "    <tr style=\"text-align: right;\">\n",
       "      <th></th>\n",
       "      <th>user</th>\n",
       "      <th>movie</th>\n",
       "      <th>rating</th>\n",
       "    </tr>\n",
       "  </thead>\n",
       "  <tbody>\n",
       "    <tr>\n",
       "      <th>0</th>\n",
       "      <td>118</td>\n",
       "      <td>0</td>\n",
       "      <td>3.0</td>\n",
       "    </tr>\n",
       "    <tr>\n",
       "      <th>1</th>\n",
       "      <td>192</td>\n",
       "      <td>0</td>\n",
       "      <td>5.0</td>\n",
       "    </tr>\n",
       "  </tbody>\n",
       "</table>\n",
       "</div>"
      ],
      "text/plain": [
       "   user  movie  rating\n",
       "0   118      0     3.0\n",
       "1   192      0     5.0"
      ]
     },
     "execution_count": 106,
     "metadata": {},
     "output_type": "execute_result"
    }
   ],
   "source": [
    "surp_test = pd.DataFrame({'user': sample_test_users,\n",
    "                           'movie': sample_test_movies,\n",
    "                           'rating': sample_test_ratings})\n",
    "surp_test = surp_test[['user','movie','rating']]\n",
    "surp_test.head(2)"
   ]
  },
  {
   "cell_type": "code",
   "execution_count": 112,
   "metadata": {
    "scrolled": false
   },
   "outputs": [],
   "source": [
    "testset = list(zip(sample_test_users, sample_test_movies, sample_test_ratings))"
   ]
  },
  {
   "cell_type": "markdown",
   "metadata": {},
   "source": [
    "## Generic function to run any surprise based algorithm \n",
    "\n",
    "    - given prefectly initialized ALGO, TRAINSET and TESTSET\n",
    "    "
   ]
  },
  {
   "cell_type": "code",
   "execution_count": 140,
   "metadata": {},
   "outputs": [],
   "source": [
    "##########################################################\n",
    "# get  (actual_list , predicted_list) ratings given list \n",
    "# of predictions (prediction is a class in Surprise).    \n",
    "##########################################################\n",
    "def get_ratings(predictions):\n",
    "    actual = np.array([pred.r_ui for pred in predictions])\n",
    "    pred = np.array([pred.est for pred in predictions])\n",
    "    \n",
    "    return actual, pred\n",
    "\n",
    "################################################################\n",
    "# get ''rmse'' and ''mape'' , given list of prediction classes \n",
    "################################################################\n",
    "def get_errors(predictions, print_them=False):\n",
    "\n",
    "    actual, pred = get_ratings(predictions)\n",
    "    rmse = np.sqrt(np.mean(pred - actual)**2)\n",
    "    mape = np.mean(np.abs(pred - actual)/actual)\n",
    "\n",
    "    return rmse, mape*100\n",
    "\n",
    "##################################################################################\n",
    "# It will return predicted ratings, rmse and mape of both train and test data   #\n",
    "##################################################################################\n",
    "def run_surprise(algo, trainset, testset, verbose=True): \n",
    "    '''\n",
    "        return train_dict, test_dict\n",
    "    \n",
    "        It returns two dictionaries, one for train and the other is for test\n",
    "        Each of them have 3 key-value pairs, which specify ''rmse'', ''mape'', and ''predicted ratings''.\n",
    "    '''\n",
    "    start = datetime.now()\n",
    "    # dictionaries that stores metrics for train and test..\n",
    "    train = dict()\n",
    "    test = dict()\n",
    "    \n",
    "    # train the algorithm with the trainset\n",
    "    st = datetime.now()\n",
    "    print('Training the model...')\n",
    "    algo.fit(trainset)\n",
    "    print('Done. time taken : {} \\n'.format(datetime.now()-st))\n",
    "    \n",
    "    # ---------------- Evaluating train data--------------------#\n",
    "    st = datetime.now()\n",
    "    print('Evaluating the model with train data..')\n",
    "    # get the train predictions (list of prediction class inside Surprise)\n",
    "    train_preds = algo.test(trainset.build_testset())\n",
    "    # get predicted ratings from the train predictions..\n",
    "    train_actual_ratings, train_pred_ratings = get_ratings(train_preds)\n",
    "    # get ''rmse'' and ''mape'' from the train predictions.\n",
    "    train_rmse, train_mape = get_errors(train_preds)\n",
    "    print('time taken : {}'.format(datetime.now()-st))\n",
    "    \n",
    "    if verbose:\n",
    "        print('-'*15)\n",
    "        print('Train Data')\n",
    "        print('-'*15)\n",
    "        print(\"RMSE : {}\\n\\nMAPE : {}\\n\".format(train_rmse, train_mape))\n",
    "    \n",
    "    #store them in the train dictionary\n",
    "    if verbose:\n",
    "        print('adding train results in the dictionary..')\n",
    "    train['rmse'] = train_rmse\n",
    "    train['mape'] = train_mape\n",
    "    train['predictions'] = train_pred_ratings\n",
    "    \n",
    "    #------------ Evaluating Test data---------------#\n",
    "    st = datetime.now()\n",
    "    print('\\nEvaluating for test data...')\n",
    "    # get the predictions( list of prediction classes) of test data\n",
    "    test_preds = algo.test(testset)\n",
    "    # get the predicted ratings from the list of predictions\n",
    "    test_actual_ratings, test_pred_ratings = get_ratings(test_preds)\n",
    "    # get error metrics from the predicted and actual ratings\n",
    "    test_rmse, test_mape = get_errors(test_preds)\n",
    "    print('time taken : {}'.format(datetime.now()-st))\n",
    "    \n",
    "    if verbose:\n",
    "        print('-'*15)\n",
    "        print('Test Data')\n",
    "        print('-'*15)\n",
    "        print(\"RMSE : {}\\n\\nMAPE : {}\\n\".format(test_rmse, test_mape))\n",
    "    # store them in test dictionary\n",
    "    if verbose:\n",
    "        print('storing the test results in test dictionary...')\n",
    "    test['rmse'] = test_rmse\n",
    "    test['mape'] = test_mape\n",
    "    test['predictions'] = test_pred_ratings\n",
    "    \n",
    "    print('\\n'+'-'*45)\n",
    "    print('Total time taken to run this algorithm :', datetime.now() - start)\n",
    "    \n",
    "    # return two dictionaries train and test\n",
    "    return train, test"
   ]
  },
  {
   "cell_type": "markdown",
   "metadata": {},
   "source": [
    " "
   ]
  },
  {
   "cell_type": "markdown",
   "metadata": {},
   "source": [
    " "
   ]
  },
  {
   "cell_type": "markdown",
   "metadata": {},
   "source": [
    " "
   ]
  },
  {
   "cell_type": "markdown",
   "metadata": {},
   "source": [
    "### Some Global dictionary that stores rmse and mape for all the models....\n",
    "\n",
    "- It stores the metrics in a dictionary of dictionaries\n",
    "\n",
    "> __keys__ : model names(string)\n",
    "\n",
    "> __value__: dict(__key__ : metric, __value__ : value )"
   ]
  },
  {
   "cell_type": "code",
   "execution_count": 142,
   "metadata": {},
   "outputs": [
    {
     "data": {
      "text/plain": [
       "({}, {})"
      ]
     },
     "execution_count": 142,
     "metadata": {},
     "output_type": "execute_result"
    }
   ],
   "source": [
    "models_evaluation_train = dict()\n",
    "models_evaluation_test = dict()\n",
    "\n",
    "models_evaluation_train, models_evaluation_test"
   ]
  },
  {
   "cell_type": "markdown",
   "metadata": {},
   "source": [
    " "
   ]
  },
  {
   "cell_type": "markdown",
   "metadata": {},
   "source": [
    " "
   ]
  },
  {
   "cell_type": "markdown",
   "metadata": {},
   "source": [
    " "
   ]
  },
  {
   "cell_type": "markdown",
   "metadata": {},
   "source": [
    "## 1. Baseline Model  ( with User and Item biases )"
   ]
  },
  {
   "cell_type": "code",
   "execution_count": 143,
   "metadata": {},
   "outputs": [],
   "source": [
    "from surprise import BaselineOnly"
   ]
  },
  {
   "cell_type": "markdown",
   "metadata": {},
   "source": [
    "- #### Predicted_rating : ( baseline prediction )\n",
    "\n",
    ">$   \\large {\\hat{r}_{ui} = b_{ui} =\\mu + b_u + b_i} $\n",
    "\n",
    "- ####  Optimization function ( Least Squares Problem )\n",
    "\n",
    "> $ \\large \\sum_{r_{ui} \\in R_{train}} \\left(r_{ui} - (\\mu + b_u + b_i)\\right)^2 +\n",
    "\\lambda \\left(b_u^2 + b_i^2 \\right).\\text {        [mimimize } {b_u, b_i]}$"
   ]
  },
  {
   "cell_type": "code",
   "execution_count": 145,
   "metadata": {},
   "outputs": [],
   "source": [
    "bsl_options = {'method': 'sgd',\n",
    "               'learning_rate': .001\n",
    "               }\n",
    "bsl = BaselineOnly(bsl_options=bsl_options)"
   ]
  },
  {
   "cell_type": "code",
   "execution_count": 146,
   "metadata": {},
   "outputs": [
    {
     "name": "stdout",
     "output_type": "stream",
     "text": [
      "Training the model...\n",
      "Estimating biases using sgd...\n",
      "Done. time taken : 0:00:02.715700 \n",
      "\n",
      "Evaluating the model with train data..\n",
      "time taken : 0:00:03.341869\n",
      "---------------\n",
      "Train Data\n",
      "---------------\n",
      "RMSE : 0.008262711523719485\n",
      "\n",
      "MAPE : 29.3585572595359\n",
      "\n",
      "adding train results in the dictionary..\n",
      "\n",
      "Evaluating for test data...\n",
      "time taken : 0:00:01.041294\n",
      "---------------\n",
      "Test Data\n",
      "---------------\n",
      "RMSE : 0.1771676808411062\n",
      "\n",
      "MAPE : 34.61122256138336\n",
      "\n",
      "storing the test results in test dictionary...\n",
      "\n",
      "---------------------------------------------\n",
      "Total time taken to run this algorithm : 0:00:07.100834\n"
     ]
    }
   ],
   "source": [
    "bsl_train_results, bsl_test_results = run_surprise(bsl, trainset, testset, verbose=True)"
   ]
  },
  {
   "cell_type": "code",
   "execution_count": 147,
   "metadata": {},
   "outputs": [
    {
     "data": {
      "text/plain": [
       "{'mape': 34.61122256138336,\n",
       " 'predictions': array([4.0362061 , 3.63812962, 3.53202119, ..., 3.57248683, 3.52791376,\n",
       "        3.5332751 ]),\n",
       " 'rmse': 0.1771676808411062}"
      ]
     },
     "execution_count": 147,
     "metadata": {},
     "output_type": "execute_result"
    }
   ],
   "source": [
    "# store them in models dictionary..\n",
    "models_evaluation_train['bsl'] = bsl_train_results\n",
    "models_evaluation_test['bsl'] = bsl_test_results\n",
    "\n",
    "models_evaluation_test['bsl']"
   ]
  },
  {
   "cell_type": "markdown",
   "metadata": {},
   "source": [
    " "
   ]
  },
  {
   "cell_type": "markdown",
   "metadata": {},
   "source": [
    " "
   ]
  },
  {
   "cell_type": "markdown",
   "metadata": {},
   "source": [
    " "
   ]
  },
  {
   "cell_type": "markdown",
   "metadata": {},
   "source": [
    "# 2. KNN with Baseline_model "
   ]
  },
  {
   "cell_type": "code",
   "execution_count": 150,
   "metadata": {},
   "outputs": [],
   "source": [
    "from surprise import KNNBaseline"
   ]
  },
  {
   "cell_type": "markdown",
   "metadata": {},
   "source": [
    "- __predicted Rating__ : ( ___ based on User-User similarity ___ )\n",
    "\n",
    "\\begin{align} \\hat{r}_{ui} = b_{ui} + \\frac{ \\sum\\limits_{v \\in N^k_i(u)}\n",
    "\\text{sim}(u, v) \\cdot (r_{vi} - b_{vi})} {\\sum\\limits_{v \\in\n",
    "N^k_i(u)} \\text{sim}(u, v)} \\end{align}\n",
    "\n",
    "- $\\pmb{b_{ui}}$ -  _Baseline prediction_ of (user,movie) rating\n",
    "\n",
    "\n",
    "- $ \\pmb {N_i^k (u)}$ - Set of __K similar__ users (neighbours) of __user (u)__ who rated __movie(i)__  \n",
    "\n",
    "\n",
    "- _sim (u, v)_ - __Similarity__ between users __u and v__  \n",
    "    - Generally, it will be cosine similarity or Pearson correlation coefficient. \n",
    "    - But we use __shrunk Pearson-baseline correlation coefficient__, which is based on the pearsonBaseline similarity ( we take base line predictions instead of mean rating of user/item)\n",
    "        - Computation of the correlation coefficient is based only on the common user support.\n",
    "        - similarities based on a greater user support are more reliable ie., Users who has more number of common movie ratings are considered as more similar than users who has few no of movies  in common which are rated.\n",
    "        - \\begin{align}\\begin{aligned}\\text{pearson_baseline_shrunk_sim}(u, v) &= \\frac{|I_{uv}| - 1}{|I_{uv}| - 1 + \\text{shrinkage}} \\cdot \\hat{\\rho}_{uv}\\end{aligned}\\end{align}\n",
    "            - $\\pmb{|I_{uv}|}$ - No of common movies between users(u and v)\n",
    "            - __shrinkage__ - kind of hyperparameter. The defalut value suggested is ___100___\n",
    "                - __0__ : There is no shrinkage at all ( It is normal pearson correlation coefficient ) \n",
    "            - $ \\pmb {\\hat \\rho_uv}$ - Pearson Correlation Coefficient ( between users )\n",
    "                - \\begin{align} \\text{pearson_baseline_sim}(u, v) = \\hat{\\rho}_{uv} = \\frac{\n",
    "    \\sum\\limits_{i \\in I_{uv}} (r_{ui} -  b_{ui}) \\cdot (r_{vi} -\n",
    "    b_{vi})} {\\sqrt{\\sum\\limits_{i \\in I_{uv}} (r_{ui} -  b_{ui})^2}\n",
    "    \\cdot \\sqrt{\\sum\\limits_{i \\in I_{uv}} (r_{vi} -  b_{vi})^2}} \\end{align}\n",
    " "
   ]
  },
  {
   "cell_type": "markdown",
   "metadata": {},
   "source": [
    " ------------ or \n",
    " --"
   ]
  },
  {
   "cell_type": "markdown",
   "metadata": {},
   "source": [
    "- __ Predicted rating __ ( based on Item Item similarity ):\n",
    " \\begin{align} \\hat{r}_{ui} = b_{ui} + \\frac{ \\sum\\limits_{j \\in N^k_u(i)}\\text{sim}(i, j) \\cdot (r_{uj} - b_{uj})} {\\sum\\limits_{j \\in N^k_u(j)} \\text{sim}(i, j)} \\end{align}\n",
    "\n",
    "    -  ___Notations follows same as above (user user based predicted rating ) ___"
   ]
  },
  {
   "cell_type": "markdown",
   "metadata": {},
   "source": [
    "- We can do both and blend them ( see if we can better results when combined ) "
   ]
  },
  {
   "cell_type": "markdown",
   "metadata": {},
   "source": [
    "## 2.1 KNN with User User similarities "
   ]
  },
  {
   "cell_type": "code",
   "execution_count": 149,
   "metadata": {},
   "outputs": [],
   "source": [
    "# we specify , how to compute similarities and what to consider with sim_options to our algorithm\n",
    "sim_options = {'user_based' : True,\n",
    "               'name': 'pearson_baseline',\n",
    "               'shrinkage': 100,\n",
    "               'min_support': 2\n",
    "              } \n",
    "\n",
    "bsl_options = {'method': 'sgd'} # we keep other parameters like regularization parameter and learning_rate as default values."
   ]
  },
  {
   "cell_type": "code",
   "execution_count": 152,
   "metadata": {},
   "outputs": [
    {
     "name": "stdout",
     "output_type": "stream",
     "text": [
      "Training the model...\n",
      "Estimating biases using sgd...\n",
      "Computing the pearson_baseline similarity matrix...\n",
      "Done computing similarity matrix.\n",
      "Done. time taken : 0:04:04.990253 \n",
      "\n",
      "Evaluating the model with train data..\n",
      "time taken : 0:08:48.295399\n",
      "---------------\n",
      "Train Data\n",
      "---------------\n",
      "RMSE : 0.021891842171299455\n",
      "\n",
      "MAPE : 12.070669791163008\n",
      "\n",
      "adding train results in the dictionary..\n",
      "\n",
      "Evaluating for test data...\n",
      "time taken : 0:00:09.347439\n",
      "---------------\n",
      "Test Data\n",
      "---------------\n",
      "RMSE : 0.25956829995437974\n",
      "\n",
      "MAPE : 36.31289890650797\n",
      "\n",
      "storing the test results in test dictionary...\n",
      "\n",
      "---------------------------------------------\n",
      "Total time taken to run this algorithm : 0:13:02.634091\n"
     ]
    }
   ],
   "source": [
    "knn_bsl_u = KNNBaseline(k=40, sim_options = sim_options, bsl_options = bsl_options)\n",
    "\n",
    "knn_bsl_u_train_results, knn_bsl_u_test_results = run_surprise(knn_bsl_u, trainset, testset, verbose=True)"
   ]
  },
  {
   "cell_type": "code",
   "execution_count": 153,
   "metadata": {},
   "outputs": [
    {
     "data": {
      "text/plain": [
       "{'mape': 36.31289890650797,\n",
       " 'predictions': array([4.46080639, 3.46900566, 3.46660633, ..., 3.5859398 , 3.48940251,\n",
       "        3.47741795]),\n",
       " 'rmse': 0.25956829995437974}"
      ]
     },
     "execution_count": 153,
     "metadata": {},
     "output_type": "execute_result"
    }
   ],
   "source": [
    "models_evaluation_train['knn_bsl_u'] = knn_bsl_u_train_results\n",
    "models_evaluation_test['knn_bsl_u']  = knn_bsl_u_test_results\n",
    "\n",
    "models_evaluation_test['knn_bsl_u'] "
   ]
  },
  {
   "cell_type": "markdown",
   "metadata": {},
   "source": [
    " "
   ]
  },
  {
   "cell_type": "markdown",
   "metadata": {},
   "source": [
    " "
   ]
  },
  {
   "cell_type": "markdown",
   "metadata": {},
   "source": [
    "## 2.2 KNN with Item Item similarities "
   ]
  },
  {
   "cell_type": "code",
   "execution_count": 149,
   "metadata": {},
   "outputs": [],
   "source": [
    "# we specify , how to compute similarities and what to consider with sim_options to our algorithm\n",
    "sim_options = {'user_based' : False,\n",
    "               'name': 'pearson_baseline',\n",
    "               'shrinkage': 100,\n",
    "               'min_support': 2\n",
    "              } \n",
    "\n",
    "bsl_options = {'method': 'sgd'} # we keep other parameters like regularization parameter and learning_rate as default values."
   ]
  },
  {
   "cell_type": "code",
   "execution_count": 154,
   "metadata": {
    "scrolled": false
   },
   "outputs": [
    {
     "name": "stdout",
     "output_type": "stream",
     "text": [
      "Training the model...\n",
      "Estimating biases using sgd...\n",
      "Computing the pearson_baseline similarity matrix...\n",
      "Done computing similarity matrix.\n",
      "Done. time taken : 0:04:08.932198 \n",
      "\n",
      "Evaluating the model with train data..\n",
      "time taken : 0:08:53.843315\n",
      "---------------\n",
      "Train Data\n",
      "---------------\n",
      "RMSE : 0.021891842171299455\n",
      "\n",
      "MAPE : 12.070669791163008\n",
      "\n",
      "adding train results in the dictionary..\n",
      "\n",
      "Evaluating for test data...\n",
      "time taken : 0:00:09.513562\n",
      "---------------\n",
      "Test Data\n",
      "---------------\n",
      "RMSE : 0.25956829995437974\n",
      "\n",
      "MAPE : 36.31289890650797\n",
      "\n",
      "storing the test results in test dictionary...\n",
      "\n",
      "---------------------------------------------\n",
      "Total time taken to run this algorithm : 0:13:12.289075\n"
     ]
    }
   ],
   "source": [
    "knn_bsl_m = KNNBaseline(k=40, sim_options = sim_options, bsl_options = bsl_options)\n",
    "\n",
    "knn_bsl_m_train_results, knn_bsl_m_test_results = run_surprise(knn_bsl_m, trainset, testset, verbose=True)"
   ]
  },
  {
   "cell_type": "code",
   "execution_count": 155,
   "metadata": {},
   "outputs": [
    {
     "data": {
      "text/plain": [
       "{'mape': 36.31289890650797,\n",
       " 'predictions': array([4.46080639, 3.46900566, 3.46660633, ..., 3.5859398 , 3.48940251,\n",
       "        3.47741795]),\n",
       " 'rmse': 0.25956829995437974}"
      ]
     },
     "execution_count": 155,
     "metadata": {},
     "output_type": "execute_result"
    }
   ],
   "source": [
    "models_evaluation_train['knn_bsl_m'] = knn_bsl_m_train_results\n",
    "models_evaluation_test['knn_bsl_m']  = knn_bsl_m_test_results\n",
    "\n",
    "models_evaluation_test['knn_bsl_m'] "
   ]
  },
  {
   "cell_type": "markdown",
   "metadata": {},
   "source": [
    " "
   ]
  },
  {
   "cell_type": "markdown",
   "metadata": {},
   "source": [
    " "
   ]
  },
  {
   "cell_type": "markdown",
   "metadata": {},
   "source": [
    " "
   ]
  },
  {
   "cell_type": "markdown",
   "metadata": {},
   "source": [
    " "
   ]
  },
  {
   "cell_type": "markdown",
   "metadata": {},
   "source": [
    "# 3. Matrix Factorization Techniques"
   ]
  },
  {
   "cell_type": "markdown",
   "metadata": {},
   "source": [
    " "
   ]
  },
  {
   "cell_type": "markdown",
   "metadata": {},
   "source": [
    "## 3.1 SVD -  MF algorithm with user item interactions "
   ]
  },
  {
   "cell_type": "markdown",
   "metadata": {},
   "source": [
    "- __ Predicted Rating : __\n",
    "    - \n",
    "    - $ \\hat r_{ui} = \\mu + b_u + b_i + q_i^Tp_u $ "
   ]
  },
  {
   "cell_type": "markdown",
   "metadata": {},
   "source": [
    "\n",
    "- __Optimization problem with user item interactions and regularization (to avoid overfitting)__\n",
    "    - \n",
    "    - $ \\sum_{r_{ui} \\in R_{train}} \\left(r_{ui} - \\hat{r}_{ui} \\right)^2 +\n",
    "\\lambda\\left(b_i^2 + b_u^2 + ||q_i||^2 + ||p_u||^2\\right) $"
   ]
  },
  {
   "cell_type": "markdown",
   "metadata": {},
   "source": [
    " "
   ]
  },
  {
   "cell_type": "markdown",
   "metadata": {},
   "source": [
    " "
   ]
  },
  {
   "cell_type": "markdown",
   "metadata": {},
   "source": [
    " "
   ]
  },
  {
   "cell_type": "markdown",
   "metadata": {},
   "source": [
    " "
   ]
  },
  {
   "cell_type": "markdown",
   "metadata": {},
   "source": [
    " "
   ]
  },
  {
   "cell_type": "markdown",
   "metadata": {},
   "source": [
    " "
   ]
  },
  {
   "cell_type": "markdown",
   "metadata": {},
   "source": [
    " "
   ]
  },
  {
   "cell_type": "markdown",
   "metadata": {},
   "source": [
    " "
   ]
  },
  {
   "cell_type": "markdown",
   "metadata": {},
   "source": [
    " "
   ]
  },
  {
   "cell_type": "markdown",
   "metadata": {},
   "source": [
    " "
   ]
  },
  {
   "cell_type": "markdown",
   "metadata": {},
   "source": [
    " "
   ]
  },
  {
   "cell_type": "markdown",
   "metadata": {},
   "source": [
    " "
   ]
  },
  {
   "cell_type": "markdown",
   "metadata": {},
   "source": [
    " "
   ]
  },
  {
   "cell_type": "markdown",
   "metadata": {},
   "source": [
    " "
   ]
  },
  {
   "cell_type": "markdown",
   "metadata": {},
   "source": [
    " "
   ]
  },
  {
   "cell_type": "markdown",
   "metadata": {},
   "source": [
    " "
   ]
  },
  {
   "cell_type": "markdown",
   "metadata": {},
   "source": [
    " "
   ]
  },
  {
   "cell_type": "markdown",
   "metadata": {},
   "source": [
    " "
   ]
  },
  {
   "cell_type": "markdown",
   "metadata": {},
   "source": [
    " "
   ]
  },
  {
   "cell_type": "markdown",
   "metadata": {},
   "source": [
    " "
   ]
  },
  {
   "cell_type": "markdown",
   "metadata": {},
   "source": [
    " "
   ]
  },
  {
   "cell_type": "markdown",
   "metadata": {},
   "source": [
    " "
   ]
  },
  {
   "cell_type": "markdown",
   "metadata": {},
   "source": [
    " "
   ]
  },
  {
   "cell_type": "markdown",
   "metadata": {},
   "source": [
    " "
   ]
  },
  {
   "cell_type": "markdown",
   "metadata": {},
   "source": [
    " "
   ]
  },
  {
   "cell_type": "markdown",
   "metadata": {},
   "source": [
    " "
   ]
  },
  {
   "cell_type": "markdown",
   "metadata": {},
   "source": [
    " "
   ]
  },
  {
   "cell_type": "markdown",
   "metadata": {},
   "source": [
    " "
   ]
  },
  {
   "cell_type": "markdown",
   "metadata": {},
   "source": [
    "## SVD  - with user item interactions"
   ]
  },
  {
   "cell_type": "code",
   "execution_count": 133,
   "metadata": {},
   "outputs": [],
   "source": [
    "from surprise import SVD"
   ]
  },
  {
   "cell_type": "code",
   "execution_count": 141,
   "metadata": {
    "scrolled": false
   },
   "outputs": [
    {
     "name": "stdout",
     "output_type": "stream",
     "text": [
      "Training the model...\n",
      "Done. time taken : 0:00:31.635192 \n",
      "\n",
      "Evaluating the model with train data..\n",
      "time taken : 0:00:03.819961\n",
      "---------------\n",
      "Train Data\n",
      "---------------\n",
      "RMSE : 0.01671259218143058\n",
      "\n",
      "MAPE : 19.441192939322928\n",
      "\n",
      "adding train results in the dictionary..\n",
      "\n",
      "Evaluating for test data...\n",
      "time taken : 0:00:00.729189\n",
      "---------------\n",
      "Test Data\n",
      "---------------\n",
      "RMSE : 0.21920608712220402\n",
      "\n",
      "MAPE : 35.22882567005053\n",
      "\n",
      "storing the test results in test dictionary...\n",
      "\n",
      "---------------------------------------------\n",
      "Total time taken to run this algorithm : 0:00:36.184342\n"
     ]
    }
   ],
   "source": [
    "svd = SVD(n_factors=115, n_epochs=20, random_state=15)\n",
    "svd_train_results, svd_test_results = run_surprise(svd, trainset, testset, verbose=True)"
   ]
  },
  {
   "cell_type": "code",
   "execution_count": null,
   "metadata": {},
   "outputs": [],
   "source": []
  },
  {
   "cell_type": "code",
   "execution_count": null,
   "metadata": {},
   "outputs": [],
   "source": []
  },
  {
   "cell_type": "code",
   "execution_count": null,
   "metadata": {},
   "outputs": [],
   "source": []
  },
  {
   "cell_type": "code",
   "execution_count": null,
   "metadata": {},
   "outputs": [],
   "source": []
  },
  {
   "cell_type": "code",
   "execution_count": null,
   "metadata": {},
   "outputs": [],
   "source": []
  },
  {
   "cell_type": "code",
   "execution_count": null,
   "metadata": {},
   "outputs": [],
   "source": []
  },
  {
   "cell_type": "code",
   "execution_count": null,
   "metadata": {},
   "outputs": [],
   "source": []
  },
  {
   "cell_type": "code",
   "execution_count": null,
   "metadata": {},
   "outputs": [],
   "source": []
  },
  {
   "cell_type": "markdown",
   "metadata": {},
   "source": [
    " \n",
    " "
   ]
  },
  {
   "cell_type": "markdown",
   "metadata": {},
   "source": [
    " \n",
    " "
   ]
  },
  {
   "cell_type": "markdown",
   "metadata": {},
   "source": [
    " \n",
    " "
   ]
  },
  {
   "cell_type": "markdown",
   "metadata": {},
   "source": [
    " \n",
    " "
   ]
  },
  {
   "cell_type": "markdown",
   "metadata": {},
   "source": [
    " \n",
    " "
   ]
  },
  {
   "cell_type": "markdown",
   "metadata": {},
   "source": [
    " \n",
    " "
   ]
  },
  {
   "cell_type": "markdown",
   "metadata": {},
   "source": [
    " \n",
    " "
   ]
  },
  {
   "cell_type": "markdown",
   "metadata": {},
   "source": [
    " \n",
    " "
   ]
  },
  {
   "cell_type": "markdown",
   "metadata": {},
   "source": [
    " \n",
    " "
   ]
  },
  {
   "cell_type": "markdown",
   "metadata": {},
   "source": [
    " \n",
    " "
   ]
  },
  {
   "cell_type": "markdown",
   "metadata": {},
   "source": [
    " \n",
    " "
   ]
  },
  {
   "cell_type": "markdown",
   "metadata": {},
   "source": [
    " \n",
    " "
   ]
  },
  {
   "cell_type": "markdown",
   "metadata": {},
   "source": [
    " \n",
    " "
   ]
  },
  {
   "cell_type": "markdown",
   "metadata": {},
   "source": [
    " \n",
    " "
   ]
  },
  {
   "cell_type": "markdown",
   "metadata": {},
   "source": [
    " \n",
    " "
   ]
  },
  {
   "cell_type": "markdown",
   "metadata": {},
   "source": [
    " \n",
    " "
   ]
  },
  {
   "cell_type": "markdown",
   "metadata": {},
   "source": [
    " \n",
    " "
   ]
  },
  {
   "cell_type": "markdown",
   "metadata": {},
   "source": [
    " \n",
    " "
   ]
  },
  {
   "cell_type": "markdown",
   "metadata": {},
   "source": [
    " \n",
    " "
   ]
  },
  {
   "cell_type": "markdown",
   "metadata": {},
   "source": [
    " \n",
    " "
   ]
  },
  {
   "cell_type": "markdown",
   "metadata": {},
   "source": [
    " \n",
    " "
   ]
  }
 ],
 "metadata": {
  "kernelspec": {
   "display_name": "Python 3",
   "language": "python",
   "name": "python3"
  },
  "language_info": {
   "codemirror_mode": {
    "name": "ipython",
    "version": 3
   },
   "file_extension": ".py",
   "mimetype": "text/x-python",
   "name": "python",
   "nbconvert_exporter": "python",
   "pygments_lexer": "ipython3",
   "version": "3.6.4"
  }
 },
 "nbformat": 4,
 "nbformat_minor": 2
}
