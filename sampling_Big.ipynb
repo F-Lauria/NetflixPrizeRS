{
 "cells": [
  {
   "cell_type": "code",
   "execution_count": 1,
   "metadata": {
    "collapsed": true
   },
   "outputs": [],
   "source": [
    "# this is just to know how much time will it take to run this entire ipython notebook \n",
    "from datetime import datetime"
   ]
  },
  {
   "cell_type": "code",
   "execution_count": 2,
   "metadata": {
    "collapsed": true
   },
   "outputs": [],
   "source": [
    "import pandas as pd\n",
    "import numpy as np"
   ]
  },
  {
   "cell_type": "code",
   "execution_count": 3,
   "metadata": {
    "collapsed": true
   },
   "outputs": [],
   "source": [
    "import matplotlib\n",
    "matplotlib.use('nbagg')\n",
    "\n",
    "import matplotlib.pyplot as plt\n",
    "plt.rcParams.update({'figure.max_open_warning': 0})\n",
    "\n",
    "import seaborn as sns\n",
    "sns.set_style('whitegrid')"
   ]
  },
  {
   "cell_type": "markdown",
   "metadata": {},
   "source": [
    "## reading data from the csv file"
   ]
  },
  {
   "cell_type": "code",
   "execution_count": null,
   "metadata": {
    "collapsed": true
   },
   "outputs": [],
   "source": [
    "df = pd.read_csv('data.csv', sep=',', \n",
    "                       names=['movie', 'user','rating','date'])\n",
    "df.date = pd.to_datetime(df.date)\n",
    "\n",
    "# we are arranging the ratings according to time.\n",
    "df.sort_values(by='date', inplace=True)\n",
    "df.head()"
   ]
  },
  {
   "cell_type": "code",
   "execution_count": null,
   "metadata": {
    "collapsed": true
   },
   "outputs": [],
   "source": [
    "df = pd.read_csv('data.csv', sep=',', \n",
    "                       names=['movie', 'user','rating','date'])\n",
    "df.date = pd.to_datetime(df.date)\n",
    "\n",
    "# we are arranging the ratings according to time.\n",
    "df.sort_values(by='date', inplace=True)\n",
    "df.head()"
   ]
  },
  {
   "cell_type": "markdown",
   "metadata": {},
   "source": [
    "### Is there any entry that has Nan values...??"
   ]
  },
  {
   "cell_type": "code",
   "execution_count": null,
   "metadata": {},
   "outputs": [],
   "source": [
    "# it returns True for a row that has atleast one Nan value.\n",
    "null_bool = df.isnull().any(axis = 1)\n",
    "df[null_bool]"
   ]
  },
  {
   "cell_type": "code",
   "execution_count": null,
   "metadata": {
    "collapsed": true
   },
   "outputs": [],
   "source": [
    "df.drop(df[null_bool].index, inplace=True)"
   ]
  },
  {
   "cell_type": "code",
   "execution_count": 8,
   "metadata": {},
   "outputs": [
    {
     "name": "stdout",
     "output_type": "stream",
     "text": [
      "No of Nan values in our dataframe :  0\n"
     ]
    }
   ],
   "source": [
    "print(\"No of Nan values in our dataframe : \", sum(df.isnull().any()))"
   ]
  },
  {
   "cell_type": "markdown",
   "metadata": {},
   "source": [
    "### Let's try to find the duplicates if any..."
   ]
  },
  {
   "cell_type": "code",
   "execution_count": 9,
   "metadata": {},
   "outputs": [
    {
     "name": "stdout",
     "output_type": "stream",
     "text": [
      "There are 1211 duplicate rating entries in the data..\n"
     ]
    }
   ],
   "source": [
    "dup_bool = df.duplicated(['movie','user','rating'])\n",
    "dups = sum(dup_bool) # by considering all columns..( including timestamp )\n",
    "print(\"There are {} duplicate rating entries in the data..\".format(dups))"
   ]
  },
  {
   "cell_type": "code",
   "execution_count": 10,
   "metadata": {},
   "outputs": [
    {
     "data": {
      "text/plain": [
       "16969    762\n",
       "16968    449\n",
       "Name: movie, dtype: int64"
      ]
     },
     "execution_count": 10,
     "metadata": {},
     "output_type": "execute_result"
    }
   ],
   "source": [
    "# let's find what are the movies that has duplicate entries of user ratings....\n",
    "df[dup_bool].movie.value_counts()"
   ]
  },
  {
   "cell_type": "markdown",
   "metadata": {},
   "source": [
    "__Removing those duplicate entries__  (inplace)"
   ]
  },
  {
   "cell_type": "code",
   "execution_count": 11,
   "metadata": {
    "collapsed": true
   },
   "outputs": [],
   "source": [
    "df.drop(df[dup_bool].index, inplace=True)"
   ]
  },
  {
   "cell_type": "code",
   "execution_count": 12,
   "metadata": {},
   "outputs": [
    {
     "name": "stdout",
     "output_type": "stream",
     "text": [
      "No of duplicate rows (movie, user, rating) entries : 0\n"
     ]
    }
   ],
   "source": [
    "print(\"No of duplicate rows (movie, user, rating) entries :\", sum(df.duplicated()))"
   ]
  },
  {
   "cell_type": "markdown",
   "metadata": {},
   "source": [
    " "
   ]
  },
  {
   "cell_type": "markdown",
   "metadata": {},
   "source": [
    " "
   ]
  },
  {
   "cell_type": "markdown",
   "metadata": {},
   "source": [
    " "
   ]
  },
  {
   "cell_type": "code",
   "execution_count": 13,
   "metadata": {},
   "outputs": [
    {
     "name": "stdout",
     "output_type": "stream",
     "text": [
      "\n",
      "No of ratings that we have, after removing nan rows and duplicates are : 100479045\n"
     ]
    }
   ],
   "source": [
    "print(\"\\nNo of ratings that we have, after removing nan rows and duplicates are :\", df.shape[0])"
   ]
  },
  {
   "cell_type": "markdown",
   "metadata": {},
   "source": [
    " "
   ]
  },
  {
   "cell_type": "markdown",
   "metadata": {},
   "source": [
    " "
   ]
  },
  {
   "cell_type": "markdown",
   "metadata": {},
   "source": [
    " "
   ]
  },
  {
   "cell_type": "markdown",
   "metadata": {},
   "source": [
    " "
   ]
  },
  {
   "cell_type": "markdown",
   "metadata": {},
   "source": [
    " "
   ]
  },
  {
   "cell_type": "markdown",
   "metadata": {},
   "source": [
    "## No. of Ratings, Users and Movies  "
   ]
  },
  {
   "cell_type": "code",
   "execution_count": 14,
   "metadata": {},
   "outputs": [
    {
     "name": "stdout",
     "output_type": "stream",
     "text": [
      "Total data \n",
      "--------------------------------------------------\n",
      "\n",
      "Total no of ratings : 100479045\n",
      "Total No of Users   : 480189\n",
      "Total No of movies  : 17770\n"
     ]
    }
   ],
   "source": [
    "movies = df.movie.value_counts()\n",
    "users = df.user.value_counts()\n",
    "ratings = df.rating\n",
    "print(\"Total data \")\n",
    "print(\"-\"*50)\n",
    "print(\"\\nTotal no of ratings :\",df.shape[0])\n",
    "print(\"Total No of Users   :\", len(users))\n",
    "print(\"Total No of movies  :\", len(movies))"
   ]
  },
  {
   "cell_type": "markdown",
   "metadata": {},
   "source": [
    "## Train data"
   ]
  },
  {
   "cell_type": "code",
   "execution_count": 15,
   "metadata": {
    "collapsed": true
   },
   "outputs": [],
   "source": [
    "big_train_df = df.iloc[:int(df.shape[0]*0.80)]"
   ]
  },
  {
   "cell_type": "code",
   "execution_count": 16,
   "metadata": {},
   "outputs": [
    {
     "data": {
      "text/plain": [
       "(80383236, 4)"
      ]
     },
     "execution_count": 16,
     "metadata": {},
     "output_type": "execute_result"
    }
   ],
   "source": [
    "big_train_df.shape"
   ]
  },
  {
   "cell_type": "code",
   "execution_count": 17,
   "metadata": {},
   "outputs": [
    {
     "data": {
      "text/html": [
       "<div>\n",
       "<style scoped>\n",
       "    .dataframe tbody tr th:only-of-type {\n",
       "        vertical-align: middle;\n",
       "    }\n",
       "\n",
       "    .dataframe tbody tr th {\n",
       "        vertical-align: top;\n",
       "    }\n",
       "\n",
       "    .dataframe thead th {\n",
       "        text-align: right;\n",
       "    }\n",
       "</style>\n",
       "<table border=\"1\" class=\"dataframe\">\n",
       "  <thead>\n",
       "    <tr style=\"text-align: right;\">\n",
       "      <th></th>\n",
       "      <th>movie</th>\n",
       "      <th>user</th>\n",
       "      <th>rating</th>\n",
       "      <th>date</th>\n",
       "    </tr>\n",
       "  </thead>\n",
       "  <tbody>\n",
       "    <tr>\n",
       "      <th>58698779</th>\n",
       "      <td>10774</td>\n",
       "      <td>510180</td>\n",
       "      <td>3.0</td>\n",
       "      <td>1999-11-11</td>\n",
       "    </tr>\n",
       "    <tr>\n",
       "      <th>96212476</th>\n",
       "      <td>17064</td>\n",
       "      <td>510180</td>\n",
       "      <td>2.0</td>\n",
       "      <td>1999-11-11</td>\n",
       "    </tr>\n",
       "  </tbody>\n",
       "</table>\n",
       "</div>"
      ],
      "text/plain": [
       "          movie    user  rating       date\n",
       "58698779  10774  510180     3.0 1999-11-11\n",
       "96212476  17064  510180     2.0 1999-11-11"
      ]
     },
     "execution_count": 17,
     "metadata": {},
     "output_type": "execute_result"
    }
   ],
   "source": [
    "big_train_df.head(2)"
   ]
  },
  {
   "cell_type": "code",
   "execution_count": 18,
   "metadata": {},
   "outputs": [
    {
     "name": "stdout",
     "output_type": "stream",
     "text": [
      "Training data \n",
      "--------------------------------------------------\n",
      "\n",
      "Total no of ratings : 80383236\n",
      "Total No of Users   : 405024\n",
      "Total No of movies  : 17423\n"
     ]
    }
   ],
   "source": [
    "movies = big_train_df.movie.value_counts()\n",
    "users = big_train_df.user.value_counts()\n",
    "print(\"Training data \")\n",
    "print(\"-\"*50)\n",
    "print(\"\\nTotal no of ratings :\",big_train_df.shape[0])\n",
    "print(\"Total No of Users   :\", len(users))\n",
    "print(\"Total No of movies  :\", len(movies))"
   ]
  },
  {
   "cell_type": "markdown",
   "metadata": {},
   "source": [
    "# 2. Creating sparse matrix for Train data"
   ]
  },
  {
   "cell_type": "code",
   "execution_count": null,
   "metadata": {
    "collapsed": true
   },
   "outputs": [],
   "source": [
    "import os\n",
    "from scipy import sparse\n",
    "start = datetime.now()\n",
    "if os.path.isfile('sample/train_sparse_matrix.npz'):\n",
    "    print(\"It is present in your pwd, getting it from disk....\")\n",
    "    # just get it from the disk instead of computing it\n",
    "    train_sparse_matrix = sparse.load_npz('sample/train_sparse_matrix.npz')\n",
    "    print(\"DONE..\")\n",
    "else: \n",
    "    print(\"We are creating sparse_matrix from the dataframe..\")\n",
    "    # create sparse_matrix and store it for after usage.\n",
    "    # csr_matrix(data_values, (row_index, col_index), shape_of_matrix)\n",
    "    # It should be in such a way that, MATRIX[row, col] = data\n",
    "    train_sparse_matrix = sparse.csr_matrix((big_train_df.rating.values, (big_train_df.user.values,\n",
    "                                               big_train_df.movie.values)))\n",
    "    \n",
    "    print('Done. It\\'s shape is : (user, movie) : ',train_sparse_matrix.shape)\n",
    "    print('Saving it into disk for furthur usage..')\n",
    "    # save it into disk\n",
    "    sparse.save_npz(\"sample/train_sparse_matrix.npz\", train_sparse_matrix)\n",
    "    print('Done..\\n')\n",
    " \n",
    "print(datetime.now() - start)"
   ]
  },
  {
   "cell_type": "markdown",
   "metadata": {},
   "source": [
    "### Sparsity"
   ]
  },
  {
   "cell_type": "code",
   "execution_count": 20,
   "metadata": {
    "collapsed": true
   },
   "outputs": [],
   "source": [
    "u,m = train_sparse_matrix.shape\n",
    "elem = train_sparse_matrix.count_nonzero()"
   ]
  },
  {
   "cell_type": "code",
   "execution_count": 21,
   "metadata": {},
   "outputs": [
    {
     "name": "stdout",
     "output_type": "stream",
     "text": [
      "Sparsity Of matrix : 99.82927583214679 % \n"
     ]
    }
   ],
   "source": [
    "print(\"Sparsity Of matrix : {} % \".format(  (1-(elem/(u*m))) * 100) )"
   ]
  },
  {
   "cell_type": "markdown",
   "metadata": {},
   "source": [
    "## Test"
   ]
  },
  {
   "cell_type": "code",
   "execution_count": 23,
   "metadata": {},
   "outputs": [
    {
     "data": {
      "text/plain": [
       "(20095809, 4)"
      ]
     },
     "execution_count": 23,
     "metadata": {},
     "output_type": "execute_result"
    }
   ],
   "source": [
    "big_test_df = df.iloc[int(df.shape[0]*0.80) : ]\n",
    "big_test_df.shape"
   ]
  },
  {
   "cell_type": "code",
   "execution_count": 24,
   "metadata": {},
   "outputs": [
    {
     "data": {
      "text/html": [
       "<div>\n",
       "<style scoped>\n",
       "    .dataframe tbody tr th:only-of-type {\n",
       "        vertical-align: middle;\n",
       "    }\n",
       "\n",
       "    .dataframe tbody tr th {\n",
       "        vertical-align: top;\n",
       "    }\n",
       "\n",
       "    .dataframe thead th {\n",
       "        text-align: right;\n",
       "    }\n",
       "</style>\n",
       "<table border=\"1\" class=\"dataframe\">\n",
       "  <thead>\n",
       "    <tr style=\"text-align: right;\">\n",
       "      <th></th>\n",
       "      <th>movie</th>\n",
       "      <th>user</th>\n",
       "      <th>rating</th>\n",
       "      <th>date</th>\n",
       "    </tr>\n",
       "  </thead>\n",
       "  <tbody>\n",
       "    <tr>\n",
       "      <th>52863848</th>\n",
       "      <td>9617</td>\n",
       "      <td>316390</td>\n",
       "      <td>2.0</td>\n",
       "      <td>2005-08-08</td>\n",
       "    </tr>\n",
       "    <tr>\n",
       "      <th>12989568</th>\n",
       "      <td>2462</td>\n",
       "      <td>605375</td>\n",
       "      <td>4.0</td>\n",
       "      <td>2005-08-08</td>\n",
       "    </tr>\n",
       "  </tbody>\n",
       "</table>\n",
       "</div>"
      ],
      "text/plain": [
       "          movie    user  rating       date\n",
       "52863848   9617  316390     2.0 2005-08-08\n",
       "12989568   2462  605375     4.0 2005-08-08"
      ]
     },
     "execution_count": 24,
     "metadata": {},
     "output_type": "execute_result"
    }
   ],
   "source": [
    "big_test_df.head(2)"
   ]
  },
  {
   "cell_type": "code",
   "execution_count": 25,
   "metadata": {},
   "outputs": [
    {
     "name": "stdout",
     "output_type": "stream",
     "text": [
      "Test data \n",
      "--------------------------------------------------\n",
      "\n",
      "Total no of ratings : 20095809\n",
      "Total No of Users   : 349327\n",
      "Total No of movies  : 17757\n"
     ]
    }
   ],
   "source": [
    "movies = big_test_df.movie.value_counts()\n",
    "users = big_test_df.user.value_counts()\n",
    "\n",
    "print(\"Test data \")\n",
    "print(\"-\"*50)\n",
    "print(\"\\nTotal no of ratings :\",big_test_df.shape[0])\n",
    "print(\"Total No of Users   :\", len(users))\n",
    "print(\"Total No of movies  :\", len(movies))"
   ]
  },
  {
   "cell_type": "markdown",
   "metadata": {},
   "source": [
    "# 3. Creating sparse matrix for Test data"
   ]
  },
  {
   "cell_type": "code",
   "execution_count": 26,
   "metadata": {},
   "outputs": [
    {
     "name": "stdout",
     "output_type": "stream",
     "text": [
      "It is present in your pwd, getting it from disk....\n",
      "DONE..\n",
      "0:00:00.847732\n"
     ]
    }
   ],
   "source": [
    "import os\n",
    "from scipy import sparse\n",
    "start = datetime.now()\n",
    "if os.path.isfile('sample/test_sparse_matrix.npz'):\n",
    "    print(\"It is present in your pwd, getting it from disk....\")\n",
    "    # just get it from the disk instead of computing it\n",
    "    test_sparse_matrix = sparse.load_npz('sample/test_sparse_matrix.npz')\n",
    "    print(\"DONE..\")\n",
    "else: \n",
    "    print(\"We are creating sparse_matrix from the dataframe..\")\n",
    "    # create sparse_matrix and store it for after usage.\n",
    "    # csr_matrix(data_values, (row_index, col_index), shape_of_matrix)\n",
    "    # It should be in such a way that, MATRIX[row, col] = data\n",
    "    test_sparse_matrix = sparse.csr_matrix((big_test_df.rating.values, (big_test_df.user.values,\n",
    "                                               big_test_df.movie.values)))\n",
    "    \n",
    "    print('Done. It\\'s shape is : (user, movie) : ',test_sparse_matrix.shape)\n",
    "    print('Saving it into disk for furthur usage..')\n",
    "    # save it into disk\n",
    "    sparse.save_npz(\"sample/test_sparse_matrix.npz\", test_sparse_matrix)\n",
    "    print('Done..\\n')\n",
    " \n",
    "print(datetime.now() - start)"
   ]
  },
  {
   "cell_type": "markdown",
   "metadata": {},
   "source": [
    "### Sparsity"
   ]
  },
  {
   "cell_type": "code",
   "execution_count": 27,
   "metadata": {
    "collapsed": true
   },
   "outputs": [],
   "source": [
    "u,m = test_sparse_matrix.shape\n",
    "elem = test_sparse_matrix.count_nonzero()"
   ]
  },
  {
   "cell_type": "code",
   "execution_count": 28,
   "metadata": {},
   "outputs": [
    {
     "name": "stdout",
     "output_type": "stream",
     "text": [
      "Sparsity Of matrix : 99.95731855608713 % \n"
     ]
    }
   ],
   "source": [
    "print(\"Sparsity Of matrix : {} % \".format(  (1-(elem/(u*m))) * 100) )"
   ]
  },
  {
   "cell_type": "markdown",
   "metadata": {},
   "source": [
    " "
   ]
  },
  {
   "cell_type": "markdown",
   "metadata": {},
   "source": [
    " "
   ]
  },
  {
   "cell_type": "markdown",
   "metadata": {},
   "source": [
    "# Sampling Train and Test data "
   ]
  },
  {
   "cell_type": "code",
   "execution_count": 4,
   "metadata": {
    "collapsed": true
   },
   "outputs": [],
   "source": [
    "import os\n",
    "import random"
   ]
  },
  {
   "cell_type": "markdown",
   "metadata": {},
   "source": [
    "## Train"
   ]
  },
  {
   "cell_type": "code",
   "execution_count": 5,
   "metadata": {
    "scrolled": true
   },
   "outputs": [
    {
     "name": "stdout",
     "output_type": "stream",
     "text": [
      "It is present in your pwd, getting it from disk....\n",
      "DONE..\n",
      "0:00:01.721964\n"
     ]
    }
   ],
   "source": [
    "import os\n",
    "from scipy import sparse\n",
    "\n",
    "start = datetime.now()\n",
    "if os.path.isfile('sample/big/sample_train_sparse_matrix.npz'):\n",
    "    print(\"It is present in your pwd, getting it from disk....\")\n",
    "    # just get it from the disk instead of computing it\n",
    "    sample_train_sparse_matrix = sparse.load_npz('sample/big/sample_train_sparse_matrix.npz')\n",
    "    print(\"DONE..\")\n",
    "else: \n",
    "    train_row_ind, train_col_ind = train_sparse_matrix.nonzero()\n",
    "    train_row_ind = np.unique(train_row_ind)\n",
    "    train_col_ind = np.unique(train_col_ind)\n",
    "\n",
    "    print(\"In big matrix, (users, movies) : ({} {})\".format(len(train_row_ind), len(train_col_ind)))\n",
    "\n",
    "    np.random.seed(15)\n",
    "    sample_train_movies = np.random.choice(train_col_ind, 2000, replace=False)\n",
    "    sample_train_users = np.random.choice(train_row_ind, 20000, replace=False)\n",
    "\n",
    "    sample_train_sparse_matrix = train_sparse_matrix[sample_train_users, :][:,sample_train_movies]\n",
    "    \n",
    "    print('In sampled matrix, (users, movies) : ',[len(np.unique(i)) for i in sample_train_sparse_matrix.nonzero()])\n",
    "    print('Saving it into disk for furthur usage..')\n",
    "    # save it into disk\n",
    "    sparse.save_npz(\"sample/big/sample_train_sparse_matrix.npz\", sample_train_sparse_matrix)\n",
    "    print('Done..\\n')\n",
    "\n",
    "\n",
    "print(datetime.now() - start)"
   ]
  },
  {
   "cell_type": "code",
   "execution_count": 6,
   "metadata": {},
   "outputs": [
    {
     "data": {
      "text/plain": [
       "486139"
      ]
     },
     "execution_count": 6,
     "metadata": {},
     "output_type": "execute_result"
    }
   ],
   "source": [
    "sample_train_sparse_matrix.count_nonzero()"
   ]
  },
  {
   "cell_type": "markdown",
   "metadata": {},
   "source": [
    "## Test"
   ]
  },
  {
   "cell_type": "code",
   "execution_count": 7,
   "metadata": {
    "scrolled": true
   },
   "outputs": [
    {
     "name": "stdout",
     "output_type": "stream",
     "text": [
      "It is present in your pwd, getting it from disk....\n",
      "DONE..\n",
      "0:00:00.111318\n"
     ]
    }
   ],
   "source": [
    "import os\n",
    "from scipy import sparse\n",
    "\n",
    "start = datetime.now()\n",
    "if os.path.isfile('sample/big/sample_test_sparse_matrix.npz'):\n",
    "    print(\"It is present in your pwd, getting it from disk....\")\n",
    "    # just get it from the disk instead of computing it\n",
    "    sample_test_sparse_matrix = sparse.load_npz('sample/big/sample_test_sparse_matrix.npz')\n",
    "    print(\"DONE..\")\n",
    "else: \n",
    "    test_row_ind, test_col_ind = test_sparse_matrix.nonzero()\n",
    "    test_row_ind = np.unique(test_row_ind)\n",
    "    test_col_ind = np.unique(test_col_ind)\n",
    "\n",
    "    print(\"In big matrix (users, movies) : ({} {})\".format(len(test_row_ind), len(test_col_ind)))\n",
    "\n",
    "    np.random.seed(15)\n",
    "    sample_test_movies = np.random.choice(test_col_ind, 3500, replace=False)\n",
    "    sample_test_users = np.random.choice(test_row_ind, 10000, replace=False)\n",
    "\n",
    "    sample_test_sparse_matrix = test_sparse_matrix[sample_test_users, :][:,sample_test_movies]\n",
    "    print('In sampled matrix, (users, movies) : ',[len(np.unique(i)) for i in sample_test_sparse_matrix.nonzero()])\n",
    "    print('Saving it into disk for furthur usage..')\n",
    "    # save it into disk\n",
    "    sparse.save_npz(\"sample/big/sample_test_sparse_matrix.npz\", sample_test_sparse_matrix)\n",
    "    print('Done..\\n')\n",
    "\n",
    "\n",
    "print(datetime.now() - start)"
   ]
  },
  {
   "cell_type": "code",
   "execution_count": 8,
   "metadata": {},
   "outputs": [
    {
     "data": {
      "text/plain": [
       "110403"
      ]
     },
     "execution_count": 8,
     "metadata": {},
     "output_type": "execute_result"
    }
   ],
   "source": [
    "sample_test_sparse_matrix.count_nonzero()"
   ]
  },
  {
   "cell_type": "markdown",
   "metadata": {},
   "source": [
    " "
   ]
  },
  {
   "cell_type": "markdown",
   "metadata": {},
   "source": [
    "# Computing Average Ratings (from Train data)"
   ]
  },
  {
   "cell_type": "code",
   "execution_count": 9,
   "metadata": {
    "collapsed": true
   },
   "outputs": [],
   "source": [
    "averages = dict()"
   ]
  },
  {
   "cell_type": "code",
   "execution_count": 14,
   "metadata": {
    "collapsed": true
   },
   "outputs": [],
   "source": [
    "# Boolean matrix of ratings ( whether a user rated that movie or not)\n",
    "is_rated = sample_train_sparse_matrix!=0"
   ]
  },
  {
   "cell_type": "code",
   "execution_count": 15,
   "metadata": {},
   "outputs": [
    {
     "data": {
      "text/plain": [
       "{'global': 3.568888733469234}"
      ]
     },
     "execution_count": 15,
     "metadata": {},
     "output_type": "execute_result"
    }
   ],
   "source": [
    "# get the global average of ratings in our train set.\n",
    "global_average = sample_train_sparse_matrix.sum()/sample_train_sparse_matrix.count_nonzero()\n",
    "averages['global'] = global_average\n",
    "averages"
   ]
  },
  {
   "cell_type": "markdown",
   "metadata": {},
   "source": [
    "### User averages"
   ]
  },
  {
   "cell_type": "code",
   "execution_count": 13,
   "metadata": {},
   "outputs": [
    {
     "data": {
      "text/plain": [
       "4.416666666666667"
      ]
     },
     "execution_count": 13,
     "metadata": {},
     "output_type": "execute_result"
    }
   ],
   "source": [
    "# get the user averages in dictionary (key: userid, value: avg rating)\n",
    "#_____________________________________________________________________#\n",
    "\n",
    "# \".A1\" is for converting Column_Matrix to 1-D numpy array \n",
    "sum_of_ratings_per_user = sample_train_sparse_matrix.sum(axis=1).A1\n",
    "# no of ratings that each user has given.\n",
    "no_of_ratings_per_user = is_rated.sum(axis=1).A1\n",
    "\n",
    "# creae a dictonary of users and their average ratigns..\n",
    "average_user_ratings = { i : sum_of_ratings_per_user[i]/no_of_ratings_per_user[i]  \n",
    "                                 for i in range(sample_train_sparse_matrix.shape[0]) \n",
    "                                    if no_of_ratings_per_user[i] !=0}\n",
    "\n",
    "# add user averages to th eaverages dictionary\n",
    "averages['user'] = average_user_ratings\n",
    "\n",
    "# test it..\n",
    "averages['user'][97]"
   ]
  },
  {
   "cell_type": "markdown",
   "metadata": {},
   "source": [
    "### Movie Averages"
   ]
  },
  {
   "cell_type": "code",
   "execution_count": 14,
   "metadata": {},
   "outputs": [
    {
     "data": {
      "text/plain": [
       "3.7222222222222223"
      ]
     },
     "execution_count": 14,
     "metadata": {},
     "output_type": "execute_result"
    }
   ],
   "source": [
    "# get the Movie Average ratings in dictionary (key: movieId, value: avg_rating)\n",
    "#_____________________________________________________________________#\n",
    "\n",
    "# sum of the ratings that a movie got by any user(who rated that movie..)\n",
    "sum_of_ratings_per_movie = sample_train_sparse_matrix.sum(axis=0).A1\n",
    "# no of ratings that a movie got.\n",
    "no_of_ratings_per_movie = is_rated.sum(axis=0).A1\n",
    "\n",
    "average_movie_ratings = {i : sum_of_ratings_per_movie[i]/ no_of_ratings_per_movie[i] \n",
    "                                for i in range(sample_train_sparse_matrix.shape[1])\n",
    "                                    if no_of_ratings_per_movie[i]!=0 }\n",
    "\n",
    "# add thie'per_movie' avg ratings to averages dictionary\n",
    "averages['movie'] = average_movie_ratings\n",
    "\n",
    "# test this dictionary\n",
    "averages['movie'][30]"
   ]
  },
  {
   "cell_type": "markdown",
   "metadata": {},
   "source": [
    " "
   ]
  },
  {
   "cell_type": "markdown",
   "metadata": {},
   "source": [
    " "
   ]
  },
  {
   "cell_type": "markdown",
   "metadata": {},
   "source": [
    "# Preparing Train and Test data for XGBoost"
   ]
  },
  {
   "cell_type": "code",
   "execution_count": 14,
   "metadata": {
    "collapsed": true
   },
   "outputs": [],
   "source": [
    "from sklearn.metrics.pairwise import cosine_similarity"
   ]
  },
  {
   "cell_type": "code",
   "execution_count": 27,
   "metadata": {
    "collapsed": true
   },
   "outputs": [],
   "source": [
    "sample_train_users, sample_train_movies, sample_train_ratings = sparse.find(sample_train_sparse_matrix)"
   ]
  },
  {
   "cell_type": "code",
   "execution_count": 28,
   "metadata": {},
   "outputs": [
    {
     "data": {
      "text/plain": [
       "(486139, 486139, 486139)"
      ]
     },
     "execution_count": 28,
     "metadata": {},
     "output_type": "execute_result"
    }
   ],
   "source": [
    "len((sample_train_users)), len(sample_train_movies), len(sample_train_ratings)"
   ]
  },
  {
   "cell_type": "markdown",
   "metadata": {},
   "source": [
    "## Preparing Train data "
   ]
  },
  {
   "cell_type": "code",
   "execution_count": 10,
   "metadata": {
    "scrolled": true
   },
   "outputs": [
    {
     "name": "stdout",
     "output_type": "stream",
     "text": [
      "It is already in the disk. you don't have to prepare it again\n",
      "0:00:00\n"
     ]
    }
   ],
   "source": [
    "start = datetime.now()\n",
    "if os.path.isfile('sample/big/reg_train.csv'):\n",
    "    print(\"It is already in the disk. you don't have to prepare it again\")\n",
    "else:\n",
    "    print('preparing {} tuples for the dataset..\\n'.format(len(sample_train_ratings)))\n",
    "    with open('sample/big/reg_train.csv', mode='a') as reg_data_file:\n",
    "        count = 0\n",
    "        for (user, movie, rating)  in zip(sample_train_users, sample_train_movies, sample_train_ratings):\n",
    "            st = datetime.now()\n",
    "        #     print(user, movie)    \n",
    "            #--------------------- Ratings of \"movie\" by similar users of \"user\" ---------------------\n",
    "            # compute the similar Users of the \"user\"        \n",
    "            user_sim = cosine_similarity(sample_train_sparse_matrix[user], sample_train_sparse_matrix).ravel()\n",
    "            top_sim_users = user_sim.argsort()[::-1][1:] # we are ignoring 'The User' from its similar users.\n",
    "            # get the ratings of most similar users for this movie\n",
    "            top_ratings = sample_train_sparse_matrix[top_sim_users, movie].toarray().ravel()\n",
    "            # we will make it's length \"5\" by adding movie averages to .\n",
    "            top_sim_users_ratings = list(top_ratings[top_ratings != 0][:5])\n",
    "            top_sim_users_ratings.extend([averages['movie'][movie]]*(5 - len(top_sim_users_ratings)))\n",
    "        #     print(top_sim_users_ratings, end=\" \")    \n",
    "\n",
    "\n",
    "            #--------------------- Ratings by \"user\"  to similar movies of \"movie\" ---------------------\n",
    "            # compute the similar movies of the \"movie\"        \n",
    "            movie_sim = cosine_similarity(sample_train_sparse_matrix[:,movie].T, sample_train_sparse_matrix.T).ravel()\n",
    "            top_sim_movies = movie_sim.argsort()[::-1][1:] # we are ignoring 'The User' from its similar users.\n",
    "            # get the ratings of most similar movie rated by this user..\n",
    "            top_ratings = sample_train_sparse_matrix[user, top_sim_movies].toarray().ravel()\n",
    "            # we will make it's length \"5\" by adding user averages to.\n",
    "            top_sim_movies_ratings = list(top_ratings[top_ratings != 0][:5])\n",
    "            top_sim_movies_ratings.extend([averages['user'][user]]*(5-len(top_sim_movies_ratings))) \n",
    "        #     print(top_sim_movies_ratings, end=\" : -- \")\n",
    "\n",
    "            #-----------------prepare the row to be stores in a file-----------------#\n",
    "            row = list()\n",
    "            row.append(averages['global']) # first feature\n",
    "            # next 5 features are similar_users \"movie\" ratings\n",
    "            row.extend(top_sim_users_ratings)\n",
    "            # next 5 features are \"user\" ratings for similar_movies\n",
    "            row.extend(top_sim_movies_ratings)\n",
    "            # Avg_user rating\n",
    "            row.append(averages['user'][user])\n",
    "            # Avg_movie rating\n",
    "            row.append(averages['movie'][movie])\n",
    "\n",
    "            # finalley, The actual Rating of this user-movie pair...\n",
    "            row.append(rating)\n",
    "            count = count + 1\n",
    "\n",
    "            # add rows to the file opened..\n",
    "            reg_data_file.write(','.join(map(str, row)))\n",
    "            reg_data_file.write('\\n')        \n",
    "            if (count)%10000 == 0:\n",
    "                # print(','.join(map(str, row)))\n",
    "                print(\"Done for {} rows----- {}\".format(count, datetime.now() - start))    \n",
    "print(datetime.now() - start)"
   ]
  },
  {
   "cell_type": "markdown",
   "metadata": {},
   "source": [
    "## Preparing Test data"
   ]
  },
  {
   "cell_type": "code",
   "execution_count": 25,
   "metadata": {
    "collapsed": true
   },
   "outputs": [],
   "source": [
    "sample_test_users, sample_test_movies, sample_test_ratings = sparse.find(sample_test_sparse_matrix)"
   ]
  },
  {
   "cell_type": "code",
   "execution_count": 26,
   "metadata": {},
   "outputs": [
    {
     "data": {
      "text/plain": [
       "(110403, 110403, 110403)"
      ]
     },
     "execution_count": 26,
     "metadata": {},
     "output_type": "execute_result"
    }
   ],
   "source": [
    "len(sample_test_users), len(sample_test_movies), len(sample_test_ratings)"
   ]
  },
  {
   "cell_type": "code",
   "execution_count": 13,
   "metadata": {
    "scrolled": true
   },
   "outputs": [
    {
     "name": "stdout",
     "output_type": "stream",
     "text": [
      "It is already in the disk. you don't have to prepare it again\n",
      " 0:00:00\n",
      "\n",
      "No. of cold start problems handled : 0\n"
     ]
    }
   ],
   "source": [
    "start = datetime.now()\n",
    "cold_start_count = 0\n",
    "\n",
    "if os.path.isfile('sample/big/reg_test.csv'):\n",
    "    print(\"It is already in the disk. you don't have to prepare it again\")\n",
    "else:\n",
    "    print('preparing {} tuples for the dataset..\\n'.format(len(sample_test_ratings)))\n",
    "    with open('sample/big/reg_test.csv', mode='a') as reg_data_file:\n",
    "        count = 0 \n",
    "        for (user, movie, rating)  in zip(sample_test_users, sample_test_movies, sample_test_ratings):\n",
    "            st = datetime.now()\n",
    "\n",
    "        #--------------------- Ratings of \"movie\" by similar users of \"user\" ---------------------\n",
    "            #print(user, movie)\n",
    "            try:\n",
    "                # compute the similar Users of the \"user\"        \n",
    "                user_sim = cosine_similarity(sample_test_sparse_matrix[user], sample_test_sparse_matrix).ravel()\n",
    "                top_sim_users = user_sim.argsort()[::-1][1:] # we are ignoring 'The User' from its similar users.\n",
    "                # get the ratings of most similar users for this movie\n",
    "                top_ratings = sample_test_sparse_matrix[top_sim_users, movie].toarray().ravel()\n",
    "                # we will make it's length \"5\" by adding movie averages to .\n",
    "                top_sim_users_ratings = list(top_ratings[top_ratings != 0][:5])\n",
    "                top_sim_users_ratings.extend([averages['movie'][movie]]*(5 - len(top_sim_users_ratings)))\n",
    "                #print(top_sim_users_ratings, end=\"--\")\n",
    "\n",
    "            except KeyError:\n",
    "                # It is a new User or new Movie or there are no ratings for given user for top similar movies...\n",
    "                ########## Cold STart Problem ##########\n",
    "                cold_start_count = cold_start_count + 1\n",
    "                top_sim_users_ratings.extend([averages['global']]*(5 - len(top_sim_users_ratings)))\n",
    "                #print(top_sim_users_ratings)\n",
    "            except:\n",
    "                # we just want KeyErrors to be resolved. Not every Exception...\n",
    "                raise\n",
    "\n",
    "\n",
    "\n",
    "            #--------------------- Ratings by \"user\"  to similar movies of \"movie\" ---------------------\n",
    "            try:\n",
    "                # compute the similar movies of the \"movie\"        \n",
    "                movie_sim = cosine_similarity(sample_test_sparse_matrix[:,movie].T, sample_test_sparse_matrix.T).ravel()\n",
    "                top_sim_movies = movie_sim.argsort()[::-1][1:] # we are ignoring 'The User' from its similar users.\n",
    "                # get the ratings of most similar movie rated by this user..\n",
    "                top_ratings = sample_test_sparse_matrix[user, top_sim_movies].toarray().ravel()\n",
    "                # we will make it's length \"5\" by adding user averages to.\n",
    "                top_sim_movies_ratings = list(top_ratings[top_ratings != 0][:5])\n",
    "                top_sim_movies_ratings.extend([averages['user'][user]]*(5-len(top_sim_movies_ratings))) \n",
    "                #print(top_sim_movies_ratings)\n",
    "            except KeyError:\n",
    "                cold_start_count = cold_start_count + 1\n",
    "                #print(top_sim_movies_ratings, end=\" : -- \")\n",
    "                top_sim_movies_ratings.extend([averages['global']]*(5-len(top_sim_movies_ratings)))\n",
    "                #print(top_sim_movies_ratings)\n",
    "            except :\n",
    "                raise\n",
    "\n",
    "            #-----------------prepare the row to be stores in a file-----------------#\n",
    "            row = list()\n",
    "            row.append(averages['global']) # first feature\n",
    "            #print(row)\n",
    "            # next 5 features are similar_users \"movie\" ratings\n",
    "            row.extend(top_sim_users_ratings)\n",
    "            #print(row)\n",
    "            # next 5 features are \"user\" ratings for similar_movies\n",
    "            row.extend(top_sim_movies_ratings)\n",
    "            #print(row)\n",
    "            # Avg_user rating\n",
    "            try:\n",
    "                row.append(averages['user'][user])\n",
    "            except KeyError:\n",
    "                row.append(averages['global'])\n",
    "            except:\n",
    "                raise\n",
    "            #print(row)\n",
    "            # Avg_movie rating\n",
    "            try:\n",
    "                row.append(averages['movie'][movie])\n",
    "            except KeyError:\n",
    "                row.append(averages['global'])\n",
    "            except:\n",
    "                raise\n",
    "            #print(row)\n",
    "            # finalley, The actual Rating of this user-movie pair...\n",
    "            row.append(rating)\n",
    "            #print(row)\n",
    "            count = count + 1\n",
    "\n",
    "            # add rows to the file opened..\n",
    "            reg_data_file.write(','.join(map(str, row)))\n",
    "            #print(','.join(map(str, row)))\n",
    "            reg_data_file.write('\\n')        \n",
    "            if (count)%5000 == 0:\n",
    "                #print(','.join(map(str, row)))\n",
    "                print(\"Done for {} rows----- {}\".format(count, datetime.now() - start))\n",
    "print(\"\",datetime.now() - start)\n",
    "print(\"\\nNo. of cold start problems handled :\", cold_start_count)"
   ]
  },
  {
   "cell_type": "markdown",
   "metadata": {},
   "source": [
    "#### Percentage if Cold Start Cases handled"
   ]
  },
  {
   "cell_type": "code",
   "execution_count": 158,
   "metadata": {
    "scrolled": true
   },
   "outputs": [
    {
     "name": "stdout",
     "output_type": "stream",
     "text": [
      "Cold Start Cases : 49.635426573553254%\n"
     ]
    }
   ],
   "source": [
    "print(\"Cold Start Cases : {}%\".format((cold_start_count/len(sample_test_ratings)) * 100 ))"
   ]
  },
  {
   "cell_type": "markdown",
   "metadata": {},
   "source": [
    " \n",
    " "
   ]
  },
  {
   "cell_type": "markdown",
   "metadata": {},
   "source": [
    " ## Reading from the file to make a dataframe"
   ]
  },
  {
   "cell_type": "code",
   "execution_count": 38,
   "metadata": {},
   "outputs": [
    {
     "data": {
      "text/html": [
       "<div>\n",
       "<style>\n",
       "    .dataframe thead tr:only-child th {\n",
       "        text-align: right;\n",
       "    }\n",
       "\n",
       "    .dataframe thead th {\n",
       "        text-align: left;\n",
       "    }\n",
       "\n",
       "    .dataframe tbody tr th {\n",
       "        vertical-align: top;\n",
       "    }\n",
       "</style>\n",
       "<table border=\"1\" class=\"dataframe\">\n",
       "  <thead>\n",
       "    <tr style=\"text-align: right;\">\n",
       "      <th></th>\n",
       "      <th>GAvg</th>\n",
       "      <th>sur1</th>\n",
       "      <th>sur2</th>\n",
       "      <th>sur3</th>\n",
       "      <th>sur4</th>\n",
       "      <th>sur5</th>\n",
       "      <th>smr1</th>\n",
       "      <th>smr2</th>\n",
       "      <th>smr3</th>\n",
       "      <th>smr4</th>\n",
       "      <th>smr5</th>\n",
       "      <th>UAvg</th>\n",
       "      <th>MAvg</th>\n",
       "      <th>rating</th>\n",
       "    </tr>\n",
       "  </thead>\n",
       "  <tbody>\n",
       "    <tr>\n",
       "      <th>0</th>\n",
       "      <td>3.568889</td>\n",
       "      <td>3.0</td>\n",
       "      <td>4.0</td>\n",
       "      <td>1.0</td>\n",
       "      <td>4.0</td>\n",
       "      <td>3.0</td>\n",
       "      <td>5.0</td>\n",
       "      <td>2.0</td>\n",
       "      <td>5.0</td>\n",
       "      <td>4.0</td>\n",
       "      <td>3.0</td>\n",
       "      <td>3.759690</td>\n",
       "      <td>3.0</td>\n",
       "      <td>3.0</td>\n",
       "    </tr>\n",
       "    <tr>\n",
       "      <th>1</th>\n",
       "      <td>3.568889</td>\n",
       "      <td>4.0</td>\n",
       "      <td>3.0</td>\n",
       "      <td>3.0</td>\n",
       "      <td>4.0</td>\n",
       "      <td>3.0</td>\n",
       "      <td>1.0</td>\n",
       "      <td>4.0</td>\n",
       "      <td>3.0</td>\n",
       "      <td>5.0</td>\n",
       "      <td>5.0</td>\n",
       "      <td>3.311377</td>\n",
       "      <td>3.0</td>\n",
       "      <td>1.0</td>\n",
       "    </tr>\n",
       "    <tr>\n",
       "      <th>2</th>\n",
       "      <td>3.568889</td>\n",
       "      <td>4.0</td>\n",
       "      <td>1.0</td>\n",
       "      <td>3.0</td>\n",
       "      <td>4.0</td>\n",
       "      <td>3.0</td>\n",
       "      <td>3.0</td>\n",
       "      <td>4.0</td>\n",
       "      <td>2.0</td>\n",
       "      <td>5.0</td>\n",
       "      <td>3.0</td>\n",
       "      <td>2.661871</td>\n",
       "      <td>3.0</td>\n",
       "      <td>3.0</td>\n",
       "    </tr>\n",
       "    <tr>\n",
       "      <th>3</th>\n",
       "      <td>3.568889</td>\n",
       "      <td>4.0</td>\n",
       "      <td>3.0</td>\n",
       "      <td>3.0</td>\n",
       "      <td>1.0</td>\n",
       "      <td>3.0</td>\n",
       "      <td>3.0</td>\n",
       "      <td>5.0</td>\n",
       "      <td>4.0</td>\n",
       "      <td>4.0</td>\n",
       "      <td>1.0</td>\n",
       "      <td>3.615385</td>\n",
       "      <td>3.0</td>\n",
       "      <td>4.0</td>\n",
       "    </tr>\n",
       "    <tr>\n",
       "      <th>4</th>\n",
       "      <td>3.568889</td>\n",
       "      <td>4.0</td>\n",
       "      <td>4.0</td>\n",
       "      <td>3.0</td>\n",
       "      <td>3.0</td>\n",
       "      <td>1.0</td>\n",
       "      <td>3.0</td>\n",
       "      <td>3.0</td>\n",
       "      <td>3.0</td>\n",
       "      <td>3.0</td>\n",
       "      <td>3.0</td>\n",
       "      <td>3.000000</td>\n",
       "      <td>3.0</td>\n",
       "      <td>3.0</td>\n",
       "    </tr>\n",
       "  </tbody>\n",
       "</table>\n",
       "</div>"
      ],
      "text/plain": [
       "       GAvg  sur1  sur2  sur3  sur4  sur5  smr1  smr2  smr3  smr4  smr5  \\\n",
       "0  3.568889   3.0   4.0   1.0   4.0   3.0   5.0   2.0   5.0   4.0   3.0   \n",
       "1  3.568889   4.0   3.0   3.0   4.0   3.0   1.0   4.0   3.0   5.0   5.0   \n",
       "2  3.568889   4.0   1.0   3.0   4.0   3.0   3.0   4.0   2.0   5.0   3.0   \n",
       "3  3.568889   4.0   3.0   3.0   1.0   3.0   3.0   5.0   4.0   4.0   1.0   \n",
       "4  3.568889   4.0   4.0   3.0   3.0   1.0   3.0   3.0   3.0   3.0   3.0   \n",
       "\n",
       "       UAvg  MAvg  rating  \n",
       "0  3.759690   3.0     3.0  \n",
       "1  3.311377   3.0     1.0  \n",
       "2  2.661871   3.0     3.0  \n",
       "3  3.615385   3.0     4.0  \n",
       "4  3.000000   3.0     3.0  "
      ]
     },
     "execution_count": 38,
     "metadata": {},
     "output_type": "execute_result"
    }
   ],
   "source": [
    "reg_train = pd.read_csv('sample/big/reg_train.csv',names = [ 'GAvg', 'sur1', 'sur2', 'sur3', 'sur4', 'sur5',\n",
    "                                                         'smr1', 'smr2', 'smr3', 'smr4', 'smr5',\n",
    "                                                        'UAvg', 'MAvg', 'rating'], header=None)\n",
    "reg_train.head()"
   ]
  },
  {
   "cell_type": "code",
   "execution_count": 39,
   "metadata": {},
   "outputs": [
    {
     "data": {
      "text/plain": [
       "(486139, 14)"
      ]
     },
     "execution_count": 39,
     "metadata": {},
     "output_type": "execute_result"
    }
   ],
   "source": [
    "reg_train.shape"
   ]
  },
  {
   "cell_type": "markdown",
   "metadata": {},
   "source": [
    "# XGBoost Regressor"
   ]
  },
  {
   "cell_type": "markdown",
   "metadata": {},
   "source": [
    "Install xgboost in windows : https://www.youtube.com/watch?v=k51sX_ApQYU "
   ]
  },
  {
   "cell_type": "code",
   "execution_count": 20,
   "metadata": {
    "collapsed": true
   },
   "outputs": [],
   "source": [
    "import os\n",
    "\n",
    "mingw_path = 'C:\\\\Program Files\\\\mingw-w64\\\\x86_64-7.2.0-posix-seh-rt_v5-rev1\\\\mingw64\\\\bin'\n",
    "\n",
    "os.environ['PATH'] = mingw_path + ';' + os.environ['PATH']"
   ]
  },
  {
   "cell_type": "code",
   "execution_count": 21,
   "metadata": {
    "collapsed": true
   },
   "outputs": [],
   "source": [
    "import xgboost as xgb"
   ]
  },
  {
   "cell_type": "code",
   "execution_count": 22,
   "metadata": {},
   "outputs": [
    {
     "name": "stdout",
     "output_type": "stream",
     "text": [
      "Time taken to train the model : 0:00:03.387476\n",
      "\n"
     ]
    }
   ],
   "source": [
    "reg_xgb = xgb.XGBRegressor(silent=False, n_jobs=10, random_state=15)\n",
    "\n",
    "x_train = reg_train.drop(['rating'], axis=1)\n",
    "\n",
    "y_train = reg_train['rating']\n",
    "\n",
    "start = datetime.now()\n",
    "\n",
    "reg_xgb.fit(x_train, y_train, eval_metric = 'rmse')\n",
    "\n",
    "print('Time taken to train the model : {}\\n'.format(datetime.now() - start))"
   ]
  },
  {
   "cell_type": "code",
   "execution_count": 23,
   "metadata": {},
   "outputs": [
    {
     "name": "stdout",
     "output_type": "stream",
     "text": [
      "Time taken to predict training data : 0:00:00.253862\n",
      "\n"
     ]
    }
   ],
   "source": [
    "start =datetime.now()\n",
    "y_train_pred = reg_xgb.predict(x_train)\n",
    "print('Time taken to predict training data : {}\\n'.format(datetime.now() - start))"
   ]
  },
  {
   "cell_type": "code",
   "execution_count": 24,
   "metadata": {
    "collapsed": true
   },
   "outputs": [],
   "source": [
    "from sklearn.metrics import mean_squared_error"
   ]
  },
  {
   "cell_type": "code",
   "execution_count": 25,
   "metadata": {
    "collapsed": true
   },
   "outputs": [],
   "source": [
    "rmse_train = np.sqrt(mean_squared_error(y_train, y_train_pred))\n",
    "mape_train = np.mean(np.abs( (y_train.values - y_train_pred)/y_train.values )) * 100"
   ]
  },
  {
   "cell_type": "code",
   "execution_count": 26,
   "metadata": {
    "scrolled": true
   },
   "outputs": [
    {
     "data": {
      "text/plain": [
       "(0.8704784998407008, 26.43305715452889)"
      ]
     },
     "execution_count": 26,
     "metadata": {},
     "output_type": "execute_result"
    }
   ],
   "source": [
    "rmse_train, mape_train"
   ]
  },
  {
   "cell_type": "code",
   "execution_count": 27,
   "metadata": {
    "scrolled": false
   },
   "outputs": [
    {
     "data": {
      "application/javascript": [
       "/* Put everything inside the global mpl namespace */\n",
       "window.mpl = {};\n",
       "\n",
       "\n",
       "mpl.get_websocket_type = function() {\n",
       "    if (typeof(WebSocket) !== 'undefined') {\n",
       "        return WebSocket;\n",
       "    } else if (typeof(MozWebSocket) !== 'undefined') {\n",
       "        return MozWebSocket;\n",
       "    } else {\n",
       "        alert('Your browser does not have WebSocket support.' +\n",
       "              'Please try Chrome, Safari or Firefox ≥ 6. ' +\n",
       "              'Firefox 4 and 5 are also supported but you ' +\n",
       "              'have to enable WebSockets in about:config.');\n",
       "    };\n",
       "}\n",
       "\n",
       "mpl.figure = function(figure_id, websocket, ondownload, parent_element) {\n",
       "    this.id = figure_id;\n",
       "\n",
       "    this.ws = websocket;\n",
       "\n",
       "    this.supports_binary = (this.ws.binaryType != undefined);\n",
       "\n",
       "    if (!this.supports_binary) {\n",
       "        var warnings = document.getElementById(\"mpl-warnings\");\n",
       "        if (warnings) {\n",
       "            warnings.style.display = 'block';\n",
       "            warnings.textContent = (\n",
       "                \"This browser does not support binary websocket messages. \" +\n",
       "                    \"Performance may be slow.\");\n",
       "        }\n",
       "    }\n",
       "\n",
       "    this.imageObj = new Image();\n",
       "\n",
       "    this.context = undefined;\n",
       "    this.message = undefined;\n",
       "    this.canvas = undefined;\n",
       "    this.rubberband_canvas = undefined;\n",
       "    this.rubberband_context = undefined;\n",
       "    this.format_dropdown = undefined;\n",
       "\n",
       "    this.image_mode = 'full';\n",
       "\n",
       "    this.root = $('<div/>');\n",
       "    this._root_extra_style(this.root)\n",
       "    this.root.attr('style', 'display: inline-block');\n",
       "\n",
       "    $(parent_element).append(this.root);\n",
       "\n",
       "    this._init_header(this);\n",
       "    this._init_canvas(this);\n",
       "    this._init_toolbar(this);\n",
       "\n",
       "    var fig = this;\n",
       "\n",
       "    this.waiting = false;\n",
       "\n",
       "    this.ws.onopen =  function () {\n",
       "            fig.send_message(\"supports_binary\", {value: fig.supports_binary});\n",
       "            fig.send_message(\"send_image_mode\", {});\n",
       "            if (mpl.ratio != 1) {\n",
       "                fig.send_message(\"set_dpi_ratio\", {'dpi_ratio': mpl.ratio});\n",
       "            }\n",
       "            fig.send_message(\"refresh\", {});\n",
       "        }\n",
       "\n",
       "    this.imageObj.onload = function() {\n",
       "            if (fig.image_mode == 'full') {\n",
       "                // Full images could contain transparency (where diff images\n",
       "                // almost always do), so we need to clear the canvas so that\n",
       "                // there is no ghosting.\n",
       "                fig.context.clearRect(0, 0, fig.canvas.width, fig.canvas.height);\n",
       "            }\n",
       "            fig.context.drawImage(fig.imageObj, 0, 0);\n",
       "        };\n",
       "\n",
       "    this.imageObj.onunload = function() {\n",
       "        fig.ws.close();\n",
       "    }\n",
       "\n",
       "    this.ws.onmessage = this._make_on_message_function(this);\n",
       "\n",
       "    this.ondownload = ondownload;\n",
       "}\n",
       "\n",
       "mpl.figure.prototype._init_header = function() {\n",
       "    var titlebar = $(\n",
       "        '<div class=\"ui-dialog-titlebar ui-widget-header ui-corner-all ' +\n",
       "        'ui-helper-clearfix\"/>');\n",
       "    var titletext = $(\n",
       "        '<div class=\"ui-dialog-title\" style=\"width: 100%; ' +\n",
       "        'text-align: center; padding: 3px;\"/>');\n",
       "    titlebar.append(titletext)\n",
       "    this.root.append(titlebar);\n",
       "    this.header = titletext[0];\n",
       "}\n",
       "\n",
       "\n",
       "\n",
       "mpl.figure.prototype._canvas_extra_style = function(canvas_div) {\n",
       "\n",
       "}\n",
       "\n",
       "\n",
       "mpl.figure.prototype._root_extra_style = function(canvas_div) {\n",
       "\n",
       "}\n",
       "\n",
       "mpl.figure.prototype._init_canvas = function() {\n",
       "    var fig = this;\n",
       "\n",
       "    var canvas_div = $('<div/>');\n",
       "\n",
       "    canvas_div.attr('style', 'position: relative; clear: both; outline: 0');\n",
       "\n",
       "    function canvas_keyboard_event(event) {\n",
       "        return fig.key_event(event, event['data']);\n",
       "    }\n",
       "\n",
       "    canvas_div.keydown('key_press', canvas_keyboard_event);\n",
       "    canvas_div.keyup('key_release', canvas_keyboard_event);\n",
       "    this.canvas_div = canvas_div\n",
       "    this._canvas_extra_style(canvas_div)\n",
       "    this.root.append(canvas_div);\n",
       "\n",
       "    var canvas = $('<canvas/>');\n",
       "    canvas.addClass('mpl-canvas');\n",
       "    canvas.attr('style', \"left: 0; top: 0; z-index: 0; outline: 0\")\n",
       "\n",
       "    this.canvas = canvas[0];\n",
       "    this.context = canvas[0].getContext(\"2d\");\n",
       "\n",
       "    var backingStore = this.context.backingStorePixelRatio ||\n",
       "\tthis.context.webkitBackingStorePixelRatio ||\n",
       "\tthis.context.mozBackingStorePixelRatio ||\n",
       "\tthis.context.msBackingStorePixelRatio ||\n",
       "\tthis.context.oBackingStorePixelRatio ||\n",
       "\tthis.context.backingStorePixelRatio || 1;\n",
       "\n",
       "    mpl.ratio = (window.devicePixelRatio || 1) / backingStore;\n",
       "\n",
       "    var rubberband = $('<canvas/>');\n",
       "    rubberband.attr('style', \"position: absolute; left: 0; top: 0; z-index: 1;\")\n",
       "\n",
       "    var pass_mouse_events = true;\n",
       "\n",
       "    canvas_div.resizable({\n",
       "        start: function(event, ui) {\n",
       "            pass_mouse_events = false;\n",
       "        },\n",
       "        resize: function(event, ui) {\n",
       "            fig.request_resize(ui.size.width, ui.size.height);\n",
       "        },\n",
       "        stop: function(event, ui) {\n",
       "            pass_mouse_events = true;\n",
       "            fig.request_resize(ui.size.width, ui.size.height);\n",
       "        },\n",
       "    });\n",
       "\n",
       "    function mouse_event_fn(event) {\n",
       "        if (pass_mouse_events)\n",
       "            return fig.mouse_event(event, event['data']);\n",
       "    }\n",
       "\n",
       "    rubberband.mousedown('button_press', mouse_event_fn);\n",
       "    rubberband.mouseup('button_release', mouse_event_fn);\n",
       "    // Throttle sequential mouse events to 1 every 20ms.\n",
       "    rubberband.mousemove('motion_notify', mouse_event_fn);\n",
       "\n",
       "    rubberband.mouseenter('figure_enter', mouse_event_fn);\n",
       "    rubberband.mouseleave('figure_leave', mouse_event_fn);\n",
       "\n",
       "    canvas_div.on(\"wheel\", function (event) {\n",
       "        event = event.originalEvent;\n",
       "        event['data'] = 'scroll'\n",
       "        if (event.deltaY < 0) {\n",
       "            event.step = 1;\n",
       "        } else {\n",
       "            event.step = -1;\n",
       "        }\n",
       "        mouse_event_fn(event);\n",
       "    });\n",
       "\n",
       "    canvas_div.append(canvas);\n",
       "    canvas_div.append(rubberband);\n",
       "\n",
       "    this.rubberband = rubberband;\n",
       "    this.rubberband_canvas = rubberband[0];\n",
       "    this.rubberband_context = rubberband[0].getContext(\"2d\");\n",
       "    this.rubberband_context.strokeStyle = \"#000000\";\n",
       "\n",
       "    this._resize_canvas = function(width, height) {\n",
       "        // Keep the size of the canvas, canvas container, and rubber band\n",
       "        // canvas in synch.\n",
       "        canvas_div.css('width', width)\n",
       "        canvas_div.css('height', height)\n",
       "\n",
       "        canvas.attr('width', width * mpl.ratio);\n",
       "        canvas.attr('height', height * mpl.ratio);\n",
       "        canvas.attr('style', 'width: ' + width + 'px; height: ' + height + 'px;');\n",
       "\n",
       "        rubberband.attr('width', width);\n",
       "        rubberband.attr('height', height);\n",
       "    }\n",
       "\n",
       "    // Set the figure to an initial 600x600px, this will subsequently be updated\n",
       "    // upon first draw.\n",
       "    this._resize_canvas(600, 600);\n",
       "\n",
       "    // Disable right mouse context menu.\n",
       "    $(this.rubberband_canvas).bind(\"contextmenu\",function(e){\n",
       "        return false;\n",
       "    });\n",
       "\n",
       "    function set_focus () {\n",
       "        canvas.focus();\n",
       "        canvas_div.focus();\n",
       "    }\n",
       "\n",
       "    window.setTimeout(set_focus, 100);\n",
       "}\n",
       "\n",
       "mpl.figure.prototype._init_toolbar = function() {\n",
       "    var fig = this;\n",
       "\n",
       "    var nav_element = $('<div/>')\n",
       "    nav_element.attr('style', 'width: 100%');\n",
       "    this.root.append(nav_element);\n",
       "\n",
       "    // Define a callback function for later on.\n",
       "    function toolbar_event(event) {\n",
       "        return fig.toolbar_button_onclick(event['data']);\n",
       "    }\n",
       "    function toolbar_mouse_event(event) {\n",
       "        return fig.toolbar_button_onmouseover(event['data']);\n",
       "    }\n",
       "\n",
       "    for(var toolbar_ind in mpl.toolbar_items) {\n",
       "        var name = mpl.toolbar_items[toolbar_ind][0];\n",
       "        var tooltip = mpl.toolbar_items[toolbar_ind][1];\n",
       "        var image = mpl.toolbar_items[toolbar_ind][2];\n",
       "        var method_name = mpl.toolbar_items[toolbar_ind][3];\n",
       "\n",
       "        if (!name) {\n",
       "            // put a spacer in here.\n",
       "            continue;\n",
       "        }\n",
       "        var button = $('<button/>');\n",
       "        button.addClass('ui-button ui-widget ui-state-default ui-corner-all ' +\n",
       "                        'ui-button-icon-only');\n",
       "        button.attr('role', 'button');\n",
       "        button.attr('aria-disabled', 'false');\n",
       "        button.click(method_name, toolbar_event);\n",
       "        button.mouseover(tooltip, toolbar_mouse_event);\n",
       "\n",
       "        var icon_img = $('<span/>');\n",
       "        icon_img.addClass('ui-button-icon-primary ui-icon');\n",
       "        icon_img.addClass(image);\n",
       "        icon_img.addClass('ui-corner-all');\n",
       "\n",
       "        var tooltip_span = $('<span/>');\n",
       "        tooltip_span.addClass('ui-button-text');\n",
       "        tooltip_span.html(tooltip);\n",
       "\n",
       "        button.append(icon_img);\n",
       "        button.append(tooltip_span);\n",
       "\n",
       "        nav_element.append(button);\n",
       "    }\n",
       "\n",
       "    var fmt_picker_span = $('<span/>');\n",
       "\n",
       "    var fmt_picker = $('<select/>');\n",
       "    fmt_picker.addClass('mpl-toolbar-option ui-widget ui-widget-content');\n",
       "    fmt_picker_span.append(fmt_picker);\n",
       "    nav_element.append(fmt_picker_span);\n",
       "    this.format_dropdown = fmt_picker[0];\n",
       "\n",
       "    for (var ind in mpl.extensions) {\n",
       "        var fmt = mpl.extensions[ind];\n",
       "        var option = $(\n",
       "            '<option/>', {selected: fmt === mpl.default_extension}).html(fmt);\n",
       "        fmt_picker.append(option)\n",
       "    }\n",
       "\n",
       "    // Add hover states to the ui-buttons\n",
       "    $( \".ui-button\" ).hover(\n",
       "        function() { $(this).addClass(\"ui-state-hover\");},\n",
       "        function() { $(this).removeClass(\"ui-state-hover\");}\n",
       "    );\n",
       "\n",
       "    var status_bar = $('<span class=\"mpl-message\"/>');\n",
       "    nav_element.append(status_bar);\n",
       "    this.message = status_bar[0];\n",
       "}\n",
       "\n",
       "mpl.figure.prototype.request_resize = function(x_pixels, y_pixels) {\n",
       "    // Request matplotlib to resize the figure. Matplotlib will then trigger a resize in the client,\n",
       "    // which will in turn request a refresh of the image.\n",
       "    this.send_message('resize', {'width': x_pixels, 'height': y_pixels});\n",
       "}\n",
       "\n",
       "mpl.figure.prototype.send_message = function(type, properties) {\n",
       "    properties['type'] = type;\n",
       "    properties['figure_id'] = this.id;\n",
       "    this.ws.send(JSON.stringify(properties));\n",
       "}\n",
       "\n",
       "mpl.figure.prototype.send_draw_message = function() {\n",
       "    if (!this.waiting) {\n",
       "        this.waiting = true;\n",
       "        this.ws.send(JSON.stringify({type: \"draw\", figure_id: this.id}));\n",
       "    }\n",
       "}\n",
       "\n",
       "\n",
       "mpl.figure.prototype.handle_save = function(fig, msg) {\n",
       "    var format_dropdown = fig.format_dropdown;\n",
       "    var format = format_dropdown.options[format_dropdown.selectedIndex].value;\n",
       "    fig.ondownload(fig, format);\n",
       "}\n",
       "\n",
       "\n",
       "mpl.figure.prototype.handle_resize = function(fig, msg) {\n",
       "    var size = msg['size'];\n",
       "    if (size[0] != fig.canvas.width || size[1] != fig.canvas.height) {\n",
       "        fig._resize_canvas(size[0], size[1]);\n",
       "        fig.send_message(\"refresh\", {});\n",
       "    };\n",
       "}\n",
       "\n",
       "mpl.figure.prototype.handle_rubberband = function(fig, msg) {\n",
       "    var x0 = msg['x0'] / mpl.ratio;\n",
       "    var y0 = (fig.canvas.height - msg['y0']) / mpl.ratio;\n",
       "    var x1 = msg['x1'] / mpl.ratio;\n",
       "    var y1 = (fig.canvas.height - msg['y1']) / mpl.ratio;\n",
       "    x0 = Math.floor(x0) + 0.5;\n",
       "    y0 = Math.floor(y0) + 0.5;\n",
       "    x1 = Math.floor(x1) + 0.5;\n",
       "    y1 = Math.floor(y1) + 0.5;\n",
       "    var min_x = Math.min(x0, x1);\n",
       "    var min_y = Math.min(y0, y1);\n",
       "    var width = Math.abs(x1 - x0);\n",
       "    var height = Math.abs(y1 - y0);\n",
       "\n",
       "    fig.rubberband_context.clearRect(\n",
       "        0, 0, fig.canvas.width, fig.canvas.height);\n",
       "\n",
       "    fig.rubberband_context.strokeRect(min_x, min_y, width, height);\n",
       "}\n",
       "\n",
       "mpl.figure.prototype.handle_figure_label = function(fig, msg) {\n",
       "    // Updates the figure title.\n",
       "    fig.header.textContent = msg['label'];\n",
       "}\n",
       "\n",
       "mpl.figure.prototype.handle_cursor = function(fig, msg) {\n",
       "    var cursor = msg['cursor'];\n",
       "    switch(cursor)\n",
       "    {\n",
       "    case 0:\n",
       "        cursor = 'pointer';\n",
       "        break;\n",
       "    case 1:\n",
       "        cursor = 'default';\n",
       "        break;\n",
       "    case 2:\n",
       "        cursor = 'crosshair';\n",
       "        break;\n",
       "    case 3:\n",
       "        cursor = 'move';\n",
       "        break;\n",
       "    }\n",
       "    fig.rubberband_canvas.style.cursor = cursor;\n",
       "}\n",
       "\n",
       "mpl.figure.prototype.handle_message = function(fig, msg) {\n",
       "    fig.message.textContent = msg['message'];\n",
       "}\n",
       "\n",
       "mpl.figure.prototype.handle_draw = function(fig, msg) {\n",
       "    // Request the server to send over a new figure.\n",
       "    fig.send_draw_message();\n",
       "}\n",
       "\n",
       "mpl.figure.prototype.handle_image_mode = function(fig, msg) {\n",
       "    fig.image_mode = msg['mode'];\n",
       "}\n",
       "\n",
       "mpl.figure.prototype.updated_canvas_event = function() {\n",
       "    // Called whenever the canvas gets updated.\n",
       "    this.send_message(\"ack\", {});\n",
       "}\n",
       "\n",
       "// A function to construct a web socket function for onmessage handling.\n",
       "// Called in the figure constructor.\n",
       "mpl.figure.prototype._make_on_message_function = function(fig) {\n",
       "    return function socket_on_message(evt) {\n",
       "        if (evt.data instanceof Blob) {\n",
       "            /* FIXME: We get \"Resource interpreted as Image but\n",
       "             * transferred with MIME type text/plain:\" errors on\n",
       "             * Chrome.  But how to set the MIME type?  It doesn't seem\n",
       "             * to be part of the websocket stream */\n",
       "            evt.data.type = \"image/png\";\n",
       "\n",
       "            /* Free the memory for the previous frames */\n",
       "            if (fig.imageObj.src) {\n",
       "                (window.URL || window.webkitURL).revokeObjectURL(\n",
       "                    fig.imageObj.src);\n",
       "            }\n",
       "\n",
       "            fig.imageObj.src = (window.URL || window.webkitURL).createObjectURL(\n",
       "                evt.data);\n",
       "            fig.updated_canvas_event();\n",
       "            fig.waiting = false;\n",
       "            return;\n",
       "        }\n",
       "        else if (typeof evt.data === 'string' && evt.data.slice(0, 21) == \"data:image/png;base64\") {\n",
       "            fig.imageObj.src = evt.data;\n",
       "            fig.updated_canvas_event();\n",
       "            fig.waiting = false;\n",
       "            return;\n",
       "        }\n",
       "\n",
       "        var msg = JSON.parse(evt.data);\n",
       "        var msg_type = msg['type'];\n",
       "\n",
       "        // Call the  \"handle_{type}\" callback, which takes\n",
       "        // the figure and JSON message as its only arguments.\n",
       "        try {\n",
       "            var callback = fig[\"handle_\" + msg_type];\n",
       "        } catch (e) {\n",
       "            console.log(\"No handler for the '\" + msg_type + \"' message type: \", msg);\n",
       "            return;\n",
       "        }\n",
       "\n",
       "        if (callback) {\n",
       "            try {\n",
       "                // console.log(\"Handling '\" + msg_type + \"' message: \", msg);\n",
       "                callback(fig, msg);\n",
       "            } catch (e) {\n",
       "                console.log(\"Exception inside the 'handler_\" + msg_type + \"' callback:\", e, e.stack, msg);\n",
       "            }\n",
       "        }\n",
       "    };\n",
       "}\n",
       "\n",
       "// from http://stackoverflow.com/questions/1114465/getting-mouse-location-in-canvas\n",
       "mpl.findpos = function(e) {\n",
       "    //this section is from http://www.quirksmode.org/js/events_properties.html\n",
       "    var targ;\n",
       "    if (!e)\n",
       "        e = window.event;\n",
       "    if (e.target)\n",
       "        targ = e.target;\n",
       "    else if (e.srcElement)\n",
       "        targ = e.srcElement;\n",
       "    if (targ.nodeType == 3) // defeat Safari bug\n",
       "        targ = targ.parentNode;\n",
       "\n",
       "    // jQuery normalizes the pageX and pageY\n",
       "    // pageX,Y are the mouse positions relative to the document\n",
       "    // offset() returns the position of the element relative to the document\n",
       "    var x = e.pageX - $(targ).offset().left;\n",
       "    var y = e.pageY - $(targ).offset().top;\n",
       "\n",
       "    return {\"x\": x, \"y\": y};\n",
       "};\n",
       "\n",
       "/*\n",
       " * return a copy of an object with only non-object keys\n",
       " * we need this to avoid circular references\n",
       " * http://stackoverflow.com/a/24161582/3208463\n",
       " */\n",
       "function simpleKeys (original) {\n",
       "  return Object.keys(original).reduce(function (obj, key) {\n",
       "    if (typeof original[key] !== 'object')\n",
       "        obj[key] = original[key]\n",
       "    return obj;\n",
       "  }, {});\n",
       "}\n",
       "\n",
       "mpl.figure.prototype.mouse_event = function(event, name) {\n",
       "    var canvas_pos = mpl.findpos(event)\n",
       "\n",
       "    if (name === 'button_press')\n",
       "    {\n",
       "        this.canvas.focus();\n",
       "        this.canvas_div.focus();\n",
       "    }\n",
       "\n",
       "    var x = canvas_pos.x * mpl.ratio;\n",
       "    var y = canvas_pos.y * mpl.ratio;\n",
       "\n",
       "    this.send_message(name, {x: x, y: y, button: event.button,\n",
       "                             step: event.step,\n",
       "                             guiEvent: simpleKeys(event)});\n",
       "\n",
       "    /* This prevents the web browser from automatically changing to\n",
       "     * the text insertion cursor when the button is pressed.  We want\n",
       "     * to control all of the cursor setting manually through the\n",
       "     * 'cursor' event from matplotlib */\n",
       "    event.preventDefault();\n",
       "    return false;\n",
       "}\n",
       "\n",
       "mpl.figure.prototype._key_event_extra = function(event, name) {\n",
       "    // Handle any extra behaviour associated with a key event\n",
       "}\n",
       "\n",
       "mpl.figure.prototype.key_event = function(event, name) {\n",
       "\n",
       "    // Prevent repeat events\n",
       "    if (name == 'key_press')\n",
       "    {\n",
       "        if (event.which === this._key)\n",
       "            return;\n",
       "        else\n",
       "            this._key = event.which;\n",
       "    }\n",
       "    if (name == 'key_release')\n",
       "        this._key = null;\n",
       "\n",
       "    var value = '';\n",
       "    if (event.ctrlKey && event.which != 17)\n",
       "        value += \"ctrl+\";\n",
       "    if (event.altKey && event.which != 18)\n",
       "        value += \"alt+\";\n",
       "    if (event.shiftKey && event.which != 16)\n",
       "        value += \"shift+\";\n",
       "\n",
       "    value += 'k';\n",
       "    value += event.which.toString();\n",
       "\n",
       "    this._key_event_extra(event, name);\n",
       "\n",
       "    this.send_message(name, {key: value,\n",
       "                             guiEvent: simpleKeys(event)});\n",
       "    return false;\n",
       "}\n",
       "\n",
       "mpl.figure.prototype.toolbar_button_onclick = function(name) {\n",
       "    if (name == 'download') {\n",
       "        this.handle_save(this, null);\n",
       "    } else {\n",
       "        this.send_message(\"toolbar_button\", {name: name});\n",
       "    }\n",
       "};\n",
       "\n",
       "mpl.figure.prototype.toolbar_button_onmouseover = function(tooltip) {\n",
       "    this.message.textContent = tooltip;\n",
       "};\n",
       "mpl.toolbar_items = [[\"Home\", \"Reset original view\", \"fa fa-home icon-home\", \"home\"], [\"Back\", \"Back to  previous view\", \"fa fa-arrow-left icon-arrow-left\", \"back\"], [\"Forward\", \"Forward to next view\", \"fa fa-arrow-right icon-arrow-right\", \"forward\"], [\"\", \"\", \"\", \"\"], [\"Pan\", \"Pan axes with left mouse, zoom with right\", \"fa fa-arrows icon-move\", \"pan\"], [\"Zoom\", \"Zoom to rectangle\", \"fa fa-square-o icon-check-empty\", \"zoom\"], [\"\", \"\", \"\", \"\"], [\"Download\", \"Download plot\", \"fa fa-floppy-o icon-save\", \"download\"]];\n",
       "\n",
       "mpl.extensions = [\"eps\", \"jpeg\", \"pdf\", \"png\", \"ps\", \"raw\", \"svg\", \"tif\"];\n",
       "\n",
       "mpl.default_extension = \"png\";var comm_websocket_adapter = function(comm) {\n",
       "    // Create a \"websocket\"-like object which calls the given IPython comm\n",
       "    // object with the appropriate methods. Currently this is a non binary\n",
       "    // socket, so there is still some room for performance tuning.\n",
       "    var ws = {};\n",
       "\n",
       "    ws.close = function() {\n",
       "        comm.close()\n",
       "    };\n",
       "    ws.send = function(m) {\n",
       "        //console.log('sending', m);\n",
       "        comm.send(m);\n",
       "    };\n",
       "    // Register the callback with on_msg.\n",
       "    comm.on_msg(function(msg) {\n",
       "        //console.log('receiving', msg['content']['data'], msg);\n",
       "        // Pass the mpl event to the overriden (by mpl) onmessage function.\n",
       "        ws.onmessage(msg['content']['data'])\n",
       "    });\n",
       "    return ws;\n",
       "}\n",
       "\n",
       "mpl.mpl_figure_comm = function(comm, msg) {\n",
       "    // This is the function which gets called when the mpl process\n",
       "    // starts-up an IPython Comm through the \"matplotlib\" channel.\n",
       "\n",
       "    var id = msg.content.data.id;\n",
       "    // Get hold of the div created by the display call when the Comm\n",
       "    // socket was opened in Python.\n",
       "    var element = $(\"#\" + id);\n",
       "    var ws_proxy = comm_websocket_adapter(comm)\n",
       "\n",
       "    function ondownload(figure, format) {\n",
       "        window.open(figure.imageObj.src);\n",
       "    }\n",
       "\n",
       "    var fig = new mpl.figure(id, ws_proxy,\n",
       "                           ondownload,\n",
       "                           element.get(0));\n",
       "\n",
       "    // Call onopen now - mpl needs it, as it is assuming we've passed it a real\n",
       "    // web socket which is closed, not our websocket->open comm proxy.\n",
       "    ws_proxy.onopen();\n",
       "\n",
       "    fig.parent_element = element.get(0);\n",
       "    fig.cell_info = mpl.find_output_cell(\"<div id='\" + id + \"'></div>\");\n",
       "    if (!fig.cell_info) {\n",
       "        console.error(\"Failed to find cell for figure\", id, fig);\n",
       "        return;\n",
       "    }\n",
       "\n",
       "    var output_index = fig.cell_info[2]\n",
       "    var cell = fig.cell_info[0];\n",
       "\n",
       "};\n",
       "\n",
       "mpl.figure.prototype.handle_close = function(fig, msg) {\n",
       "    var width = fig.canvas.width/mpl.ratio\n",
       "    fig.root.unbind('remove')\n",
       "\n",
       "    // Update the output cell to use the data from the current canvas.\n",
       "    fig.push_to_output();\n",
       "    var dataURL = fig.canvas.toDataURL();\n",
       "    // Re-enable the keyboard manager in IPython - without this line, in FF,\n",
       "    // the notebook keyboard shortcuts fail.\n",
       "    IPython.keyboard_manager.enable()\n",
       "    $(fig.parent_element).html('<img src=\"' + dataURL + '\" width=\"' + width + '\">');\n",
       "    fig.close_ws(fig, msg);\n",
       "}\n",
       "\n",
       "mpl.figure.prototype.close_ws = function(fig, msg){\n",
       "    fig.send_message('closing', msg);\n",
       "    // fig.ws.close()\n",
       "}\n",
       "\n",
       "mpl.figure.prototype.push_to_output = function(remove_interactive) {\n",
       "    // Turn the data on the canvas into data in the output cell.\n",
       "    var width = this.canvas.width/mpl.ratio\n",
       "    var dataURL = this.canvas.toDataURL();\n",
       "    this.cell_info[1]['text/html'] = '<img src=\"' + dataURL + '\" width=\"' + width + '\">';\n",
       "}\n",
       "\n",
       "mpl.figure.prototype.updated_canvas_event = function() {\n",
       "    // Tell IPython that the notebook contents must change.\n",
       "    IPython.notebook.set_dirty(true);\n",
       "    this.send_message(\"ack\", {});\n",
       "    var fig = this;\n",
       "    // Wait a second, then push the new image to the DOM so\n",
       "    // that it is saved nicely (might be nice to debounce this).\n",
       "    setTimeout(function () { fig.push_to_output() }, 1000);\n",
       "}\n",
       "\n",
       "mpl.figure.prototype._init_toolbar = function() {\n",
       "    var fig = this;\n",
       "\n",
       "    var nav_element = $('<div/>')\n",
       "    nav_element.attr('style', 'width: 100%');\n",
       "    this.root.append(nav_element);\n",
       "\n",
       "    // Define a callback function for later on.\n",
       "    function toolbar_event(event) {\n",
       "        return fig.toolbar_button_onclick(event['data']);\n",
       "    }\n",
       "    function toolbar_mouse_event(event) {\n",
       "        return fig.toolbar_button_onmouseover(event['data']);\n",
       "    }\n",
       "\n",
       "    for(var toolbar_ind in mpl.toolbar_items){\n",
       "        var name = mpl.toolbar_items[toolbar_ind][0];\n",
       "        var tooltip = mpl.toolbar_items[toolbar_ind][1];\n",
       "        var image = mpl.toolbar_items[toolbar_ind][2];\n",
       "        var method_name = mpl.toolbar_items[toolbar_ind][3];\n",
       "\n",
       "        if (!name) { continue; };\n",
       "\n",
       "        var button = $('<button class=\"btn btn-default\" href=\"#\" title=\"' + name + '\"><i class=\"fa ' + image + ' fa-lg\"></i></button>');\n",
       "        button.click(method_name, toolbar_event);\n",
       "        button.mouseover(tooltip, toolbar_mouse_event);\n",
       "        nav_element.append(button);\n",
       "    }\n",
       "\n",
       "    // Add the status bar.\n",
       "    var status_bar = $('<span class=\"mpl-message\" style=\"text-align:right; float: right;\"/>');\n",
       "    nav_element.append(status_bar);\n",
       "    this.message = status_bar[0];\n",
       "\n",
       "    // Add the close button to the window.\n",
       "    var buttongrp = $('<div class=\"btn-group inline pull-right\"></div>');\n",
       "    var button = $('<button class=\"btn btn-mini btn-primary\" href=\"#\" title=\"Stop Interaction\"><i class=\"fa fa-power-off icon-remove icon-large\"></i></button>');\n",
       "    button.click(function (evt) { fig.handle_close(fig, {}); } );\n",
       "    button.mouseover('Stop Interaction', toolbar_mouse_event);\n",
       "    buttongrp.append(button);\n",
       "    var titlebar = this.root.find($('.ui-dialog-titlebar'));\n",
       "    titlebar.prepend(buttongrp);\n",
       "}\n",
       "\n",
       "mpl.figure.prototype._root_extra_style = function(el){\n",
       "    var fig = this\n",
       "    el.on(\"remove\", function(){\n",
       "\tfig.close_ws(fig, {});\n",
       "    });\n",
       "}\n",
       "\n",
       "mpl.figure.prototype._canvas_extra_style = function(el){\n",
       "    // this is important to make the div 'focusable\n",
       "    el.attr('tabindex', 0)\n",
       "    // reach out to IPython and tell the keyboard manager to turn it's self\n",
       "    // off when our div gets focus\n",
       "\n",
       "    // location in version 3\n",
       "    if (IPython.notebook.keyboard_manager) {\n",
       "        IPython.notebook.keyboard_manager.register_events(el);\n",
       "    }\n",
       "    else {\n",
       "        // location in version 2\n",
       "        IPython.keyboard_manager.register_events(el);\n",
       "    }\n",
       "\n",
       "}\n",
       "\n",
       "mpl.figure.prototype._key_event_extra = function(event, name) {\n",
       "    var manager = IPython.notebook.keyboard_manager;\n",
       "    if (!manager)\n",
       "        manager = IPython.keyboard_manager;\n",
       "\n",
       "    // Check for shift+enter\n",
       "    if (event.shiftKey && event.which == 13) {\n",
       "        this.canvas_div.blur();\n",
       "        event.shiftKey = false;\n",
       "        // Send a \"J\" for go to next cell\n",
       "        event.which = 74;\n",
       "        event.keyCode = 74;\n",
       "        manager.command_mode();\n",
       "        manager.handle_keydown(event);\n",
       "    }\n",
       "}\n",
       "\n",
       "mpl.figure.prototype.handle_save = function(fig, msg) {\n",
       "    fig.ondownload(fig, null);\n",
       "}\n",
       "\n",
       "\n",
       "mpl.find_output_cell = function(html_output) {\n",
       "    // Return the cell and output element which can be found *uniquely* in the notebook.\n",
       "    // Note - this is a bit hacky, but it is done because the \"notebook_saving.Notebook\"\n",
       "    // IPython event is triggered only after the cells have been serialised, which for\n",
       "    // our purposes (turning an active figure into a static one), is too late.\n",
       "    var cells = IPython.notebook.get_cells();\n",
       "    var ncells = cells.length;\n",
       "    for (var i=0; i<ncells; i++) {\n",
       "        var cell = cells[i];\n",
       "        if (cell.cell_type === 'code'){\n",
       "            for (var j=0; j<cell.output_area.outputs.length; j++) {\n",
       "                var data = cell.output_area.outputs[j];\n",
       "                if (data.data) {\n",
       "                    // IPython >= 3 moved mimebundle to data attribute of output\n",
       "                    data = data.data;\n",
       "                }\n",
       "                if (data['text/html'] == html_output) {\n",
       "                    return [cell, data, j];\n",
       "                }\n",
       "            }\n",
       "        }\n",
       "    }\n",
       "}\n",
       "\n",
       "// Register the function which deals with the matplotlib target/channel.\n",
       "// The kernel may be null if the page has been refreshed.\n",
       "if (IPython.notebook.kernel != null) {\n",
       "    IPython.notebook.kernel.comm_manager.register_target('matplotlib', mpl.mpl_figure_comm);\n",
       "}\n"
      ],
      "text/plain": [
       "<IPython.core.display.Javascript object>"
      ]
     },
     "metadata": {},
     "output_type": "display_data"
    },
    {
     "data": {
      "text/html": [
       "<img src=\"data:image/png;base64,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\" width=\"640\">"
      ],
      "text/plain": [
       "<IPython.core.display.HTML object>"
      ]
     },
     "metadata": {},
     "output_type": "display_data"
    }
   ],
   "source": [
    "xgb.plot_importance(reg_xgb)\n",
    "\n",
    "plt.show()"
   ]
  },
  {
   "cell_type": "markdown",
   "metadata": {},
   "source": [
    "## Testing it with the test data"
   ]
  },
  {
   "cell_type": "code",
   "execution_count": 29,
   "metadata": {},
   "outputs": [
    {
     "data": {
      "text/html": [
       "<div>\n",
       "<style>\n",
       "    .dataframe thead tr:only-child th {\n",
       "        text-align: right;\n",
       "    }\n",
       "\n",
       "    .dataframe thead th {\n",
       "        text-align: left;\n",
       "    }\n",
       "\n",
       "    .dataframe tbody tr th {\n",
       "        vertical-align: top;\n",
       "    }\n",
       "</style>\n",
       "<table border=\"1\" class=\"dataframe\">\n",
       "  <thead>\n",
       "    <tr style=\"text-align: right;\">\n",
       "      <th></th>\n",
       "      <th>GAvg</th>\n",
       "      <th>sur1</th>\n",
       "      <th>sur2</th>\n",
       "      <th>sur3</th>\n",
       "      <th>sur4</th>\n",
       "      <th>sur5</th>\n",
       "      <th>smr1</th>\n",
       "      <th>smr2</th>\n",
       "      <th>smr3</th>\n",
       "      <th>smr4</th>\n",
       "      <th>smr5</th>\n",
       "      <th>UAvg</th>\n",
       "      <th>MAvg</th>\n",
       "      <th>rating</th>\n",
       "    </tr>\n",
       "  </thead>\n",
       "  <tbody>\n",
       "    <tr>\n",
       "      <th>0</th>\n",
       "      <td>3.568889</td>\n",
       "      <td>4.0</td>\n",
       "      <td>3.0</td>\n",
       "      <td>3.0</td>\n",
       "      <td>5.0</td>\n",
       "      <td>5.0</td>\n",
       "      <td>5.0</td>\n",
       "      <td>4.0</td>\n",
       "      <td>5.0</td>\n",
       "      <td>5.0</td>\n",
       "      <td>5.0</td>\n",
       "      <td>4.154472</td>\n",
       "      <td>3.0</td>\n",
       "      <td>3.0</td>\n",
       "    </tr>\n",
       "    <tr>\n",
       "      <th>1</th>\n",
       "      <td>3.568889</td>\n",
       "      <td>4.0</td>\n",
       "      <td>3.0</td>\n",
       "      <td>4.0</td>\n",
       "      <td>3.0</td>\n",
       "      <td>4.0</td>\n",
       "      <td>4.0</td>\n",
       "      <td>2.0</td>\n",
       "      <td>5.0</td>\n",
       "      <td>5.0</td>\n",
       "      <td>1.0</td>\n",
       "      <td>4.285714</td>\n",
       "      <td>3.0</td>\n",
       "      <td>5.0</td>\n",
       "    </tr>\n",
       "    <tr>\n",
       "      <th>2</th>\n",
       "      <td>3.568889</td>\n",
       "      <td>3.0</td>\n",
       "      <td>1.0</td>\n",
       "      <td>4.0</td>\n",
       "      <td>5.0</td>\n",
       "      <td>3.0</td>\n",
       "      <td>5.0</td>\n",
       "      <td>5.0</td>\n",
       "      <td>5.0</td>\n",
       "      <td>5.0</td>\n",
       "      <td>4.0</td>\n",
       "      <td>3.500000</td>\n",
       "      <td>3.0</td>\n",
       "      <td>3.0</td>\n",
       "    </tr>\n",
       "    <tr>\n",
       "      <th>3</th>\n",
       "      <td>3.568889</td>\n",
       "      <td>4.0</td>\n",
       "      <td>5.0</td>\n",
       "      <td>3.0</td>\n",
       "      <td>3.0</td>\n",
       "      <td>5.0</td>\n",
       "      <td>5.0</td>\n",
       "      <td>5.0</td>\n",
       "      <td>5.0</td>\n",
       "      <td>5.0</td>\n",
       "      <td>4.0</td>\n",
       "      <td>4.173913</td>\n",
       "      <td>3.0</td>\n",
       "      <td>5.0</td>\n",
       "    </tr>\n",
       "  </tbody>\n",
       "</table>\n",
       "</div>"
      ],
      "text/plain": [
       "       GAvg  sur1  sur2  sur3  sur4  sur5  smr1  smr2  smr3  smr4  smr5  \\\n",
       "0  3.568889   4.0   3.0   3.0   5.0   5.0   5.0   4.0   5.0   5.0   5.0   \n",
       "1  3.568889   4.0   3.0   4.0   3.0   4.0   4.0   2.0   5.0   5.0   1.0   \n",
       "2  3.568889   3.0   1.0   4.0   5.0   3.0   5.0   5.0   5.0   5.0   4.0   \n",
       "3  3.568889   4.0   5.0   3.0   3.0   5.0   5.0   5.0   5.0   5.0   4.0   \n",
       "\n",
       "       UAvg  MAvg  rating  \n",
       "0  4.154472   3.0     3.0  \n",
       "1  4.285714   3.0     5.0  \n",
       "2  3.500000   3.0     3.0  \n",
       "3  4.173913   3.0     5.0  "
      ]
     },
     "execution_count": 29,
     "metadata": {},
     "output_type": "execute_result"
    }
   ],
   "source": [
    "reg_test_df = pd.read_csv('sample/big/reg_test.csv',names = ['GAvg', 'sur1', 'sur2', 'sur3', 'sur4', 'sur5',\n",
    "                                                         'smr1', 'smr2', 'smr3', 'smr4', 'smr5',\n",
    "                                                        'UAvg', 'MAvg', 'rating'], header=None)\n",
    "reg_test_df.head(4)"
   ]
  },
  {
   "cell_type": "code",
   "execution_count": 30,
   "metadata": {
    "collapsed": true
   },
   "outputs": [],
   "source": [
    "x_test = reg_test_df.drop(['rating'], axis=1)\n",
    "\n",
    "y_test = reg_test_df['rating']"
   ]
  },
  {
   "cell_type": "markdown",
   "metadata": {},
   "source": [
    "## For basic model"
   ]
  },
  {
   "cell_type": "code",
   "execution_count": null,
   "metadata": {
    "collapsed": true
   },
   "outputs": [],
   "source": [
    "y_test_pred = reg_xgb.predict(x_test)\n",
    "mape_test = np.mean(np.abs( (y_test.values - y_test_pred)/y_test.values )) * 100\n",
    "rmse_test = np.sqrt(mean_squared_error(y_test, y_test_pred))\n",
    "\n",
    "rmse_test, mape_test"
   ]
  },
  {
   "cell_type": "markdown",
   "metadata": {},
   "source": [
    "## Trying Linear Regression with the data \n"
   ]
  },
  {
   "cell_type": "code",
   "execution_count": 34,
   "metadata": {
    "collapsed": true
   },
   "outputs": [],
   "source": [
    "from sklearn.linear_model import LinearRegression"
   ]
  },
  {
   "cell_type": "code",
   "execution_count": 35,
   "metadata": {
    "collapsed": true
   },
   "outputs": [],
   "source": [
    "# to get rmse and mape for XGboost..\n",
    "def get_error_metrics(y_true, y_pred):\n",
    "    rmse = np.sqrt(np.mean([ (y_true[i] - y_pred[i])**2 for i in range(len(y_pred)) ]))\n",
    "    mape = np.mean(np.abs( (y_true - y_pred)/y_true )) * 100\n",
    "    return rmse, mape"
   ]
  },
  {
   "cell_type": "code",
   "execution_count": null,
   "metadata": {
    "collapsed": true
   },
   "outputs": [],
   "source": [
    "x_train.head(2)"
   ]
  },
  {
   "cell_type": "code",
   "execution_count": null,
   "metadata": {
    "collapsed": true
   },
   "outputs": [],
   "source": [
    "y_train.head(2)"
   ]
  },
  {
   "cell_type": "code",
   "execution_count": 36,
   "metadata": {},
   "outputs": [
    {
     "data": {
      "text/plain": [
       "LinearRegression(copy_X=True, fit_intercept=True, n_jobs=10, normalize=True)"
      ]
     },
     "execution_count": 36,
     "metadata": {},
     "output_type": "execute_result"
    }
   ],
   "source": [
    "lr_reg = LinearRegression(fit_intercept=True, normalize=True, n_jobs = 10)\n",
    "\n",
    "lr_reg.fit(x_train, y_train)"
   ]
  },
  {
   "cell_type": "markdown",
   "metadata": {},
   "source": [
    "- __Train Data__"
   ]
  },
  {
   "cell_type": "code",
   "execution_count": 37,
   "metadata": {},
   "outputs": [
    {
     "data": {
      "text/plain": [
       "(0.8732285631100922, 26.540119744131275)"
      ]
     },
     "execution_count": 37,
     "metadata": {},
     "output_type": "execute_result"
    }
   ],
   "source": [
    "lr_reg_train_preds = lr_reg.predict(x_train)\n",
    "\n",
    "lr_reg_train_rmse, lr_reg_train_mape = get_error_metrics(y_train, lr_reg_train_preds)\n",
    "lr_reg_train_rmse, lr_reg_train_mape"
   ]
  },
  {
   "cell_type": "markdown",
   "metadata": {},
   "source": [
    "- __Test Data__"
   ]
  },
  {
   "cell_type": "code",
   "execution_count": 38,
   "metadata": {},
   "outputs": [
    {
     "data": {
      "text/plain": [
       "(1.0629627653197444, 31.266110475214827)"
      ]
     },
     "execution_count": 38,
     "metadata": {},
     "output_type": "execute_result"
    }
   ],
   "source": [
    "lr_reg_test_preds = lr_reg.predict(x_test)\n",
    "\n",
    "lr_reg_test_rmse, lr_reg_test_mape = get_error_metrics(y_test, lr_reg_test_preds)\n",
    "lr_reg_test_rmse, lr_reg_test_mape"
   ]
  },
  {
   "cell_type": "markdown",
   "metadata": {},
   "source": [
    " "
   ]
  },
  {
   "cell_type": "markdown",
   "metadata": {},
   "source": [
    " "
   ]
  },
  {
   "cell_type": "markdown",
   "metadata": {},
   "source": [
    " "
   ]
  },
  {
   "cell_type": "markdown",
   "metadata": {},
   "source": [
    " "
   ]
  },
  {
   "cell_type": "markdown",
   "metadata": {},
   "source": [
    "## Preparing Trainset and testset for Surprise based alorithms"
   ]
  },
  {
   "cell_type": "markdown",
   "metadata": {},
   "source": [
    "### TrainSet"
   ]
  },
  {
   "cell_type": "code",
   "execution_count": 41,
   "metadata": {
    "collapsed": true
   },
   "outputs": [],
   "source": [
    "from surprise import Reader, Dataset"
   ]
  },
  {
   "cell_type": "code",
   "execution_count": 42,
   "metadata": {
    "scrolled": true
   },
   "outputs": [
    {
     "data": {
      "text/html": [
       "<div>\n",
       "<style>\n",
       "    .dataframe thead tr:only-child th {\n",
       "        text-align: right;\n",
       "    }\n",
       "\n",
       "    .dataframe thead th {\n",
       "        text-align: left;\n",
       "    }\n",
       "\n",
       "    .dataframe tbody tr th {\n",
       "        vertical-align: top;\n",
       "    }\n",
       "</style>\n",
       "<table border=\"1\" class=\"dataframe\">\n",
       "  <thead>\n",
       "    <tr style=\"text-align: right;\">\n",
       "      <th></th>\n",
       "      <th>user</th>\n",
       "      <th>movie</th>\n",
       "      <th>rating</th>\n",
       "    </tr>\n",
       "  </thead>\n",
       "  <tbody>\n",
       "    <tr>\n",
       "      <th>0</th>\n",
       "      <td>1590</td>\n",
       "      <td>0</td>\n",
       "      <td>3.0</td>\n",
       "    </tr>\n",
       "    <tr>\n",
       "      <th>1</th>\n",
       "      <td>1907</td>\n",
       "      <td>0</td>\n",
       "      <td>1.0</td>\n",
       "    </tr>\n",
       "  </tbody>\n",
       "</table>\n",
       "</div>"
      ],
      "text/plain": [
       "   user  movie  rating\n",
       "0  1590      0     3.0\n",
       "1  1907      0     1.0"
      ]
     },
     "execution_count": 42,
     "metadata": {},
     "output_type": "execute_result"
    }
   ],
   "source": [
    "surp_train = pd.DataFrame({'user': sample_train_users,\n",
    "                           'movie': sample_train_movies,\n",
    "                           'rating': sample_train_ratings}, )\n",
    "surp_train = surp_train[['user','movie','rating']]\n",
    "surp_train.head(2)"
   ]
  },
  {
   "cell_type": "code",
   "execution_count": 43,
   "metadata": {
    "collapsed": true
   },
   "outputs": [],
   "source": [
    "trainset = Dataset.load_from_df(surp_train,Reader(rating_scale=(1,5))).build_full_trainset()"
   ]
  },
  {
   "cell_type": "code",
   "execution_count": 44,
   "metadata": {},
   "outputs": [
    {
     "data": {
      "text/plain": [
       "(18755, 1949, 486139)"
      ]
     },
     "execution_count": 44,
     "metadata": {},
     "output_type": "execute_result"
    }
   ],
   "source": [
    "trainset.n_users, trainset.n_items, trainset.n_ratings"
   ]
  },
  {
   "cell_type": "markdown",
   "metadata": {},
   "source": [
    "### TestSet"
   ]
  },
  {
   "cell_type": "code",
   "execution_count": 45,
   "metadata": {},
   "outputs": [
    {
     "data": {
      "text/html": [
       "<div>\n",
       "<style>\n",
       "    .dataframe thead tr:only-child th {\n",
       "        text-align: right;\n",
       "    }\n",
       "\n",
       "    .dataframe thead th {\n",
       "        text-align: left;\n",
       "    }\n",
       "\n",
       "    .dataframe tbody tr th {\n",
       "        vertical-align: top;\n",
       "    }\n",
       "</style>\n",
       "<table border=\"1\" class=\"dataframe\">\n",
       "  <thead>\n",
       "    <tr style=\"text-align: right;\">\n",
       "      <th></th>\n",
       "      <th>user</th>\n",
       "      <th>movie</th>\n",
       "      <th>rating</th>\n",
       "    </tr>\n",
       "  </thead>\n",
       "  <tbody>\n",
       "    <tr>\n",
       "      <th>0</th>\n",
       "      <td>118</td>\n",
       "      <td>0</td>\n",
       "      <td>3.0</td>\n",
       "    </tr>\n",
       "    <tr>\n",
       "      <th>1</th>\n",
       "      <td>192</td>\n",
       "      <td>0</td>\n",
       "      <td>5.0</td>\n",
       "    </tr>\n",
       "  </tbody>\n",
       "</table>\n",
       "</div>"
      ],
      "text/plain": [
       "   user  movie  rating\n",
       "0   118      0     3.0\n",
       "1   192      0     5.0"
      ]
     },
     "execution_count": 45,
     "metadata": {},
     "output_type": "execute_result"
    }
   ],
   "source": [
    "surp_test = pd.DataFrame({'user': sample_test_users,\n",
    "                           'movie': sample_test_movies,\n",
    "                           'rating': sample_test_ratings})\n",
    "surp_test = surp_test[['user','movie','rating']]\n",
    "surp_test.head(2)"
   ]
  },
  {
   "cell_type": "code",
   "execution_count": 46,
   "metadata": {
    "collapsed": true,
    "scrolled": false
   },
   "outputs": [],
   "source": [
    "testset = list(zip(sample_test_users, sample_test_movies, sample_test_ratings))"
   ]
  },
  {
   "cell_type": "markdown",
   "metadata": {},
   "source": [
    "## Generic function to run any surprise based algorithm \n",
    "\n",
    "    - given prefectly initialized ALGO, TRAINSET and TESTSET\n",
    "    "
   ]
  },
  {
   "cell_type": "code",
   "execution_count": 47,
   "metadata": {
    "collapsed": true
   },
   "outputs": [],
   "source": [
    "##########################################################\n",
    "# get  (actual_list , predicted_list) ratings given list \n",
    "# of predictions (prediction is a class in Surprise).    \n",
    "##########################################################\n",
    "def get_ratings(predictions):\n",
    "    actual = np.array([pred.r_ui for pred in predictions])\n",
    "    pred = np.array([pred.est for pred in predictions])\n",
    "    \n",
    "    return actual, pred\n",
    "\n",
    "################################################################\n",
    "# get ''rmse'' and ''mape'' , given list of prediction classes \n",
    "################################################################\n",
    "def get_errors(predictions, print_them=False):\n",
    "\n",
    "    actual, pred = get_ratings(predictions)\n",
    "    rmse = np.sqrt(np.mean((pred - actual)**2))\n",
    "    mape = np.mean(np.abs(pred - actual)/actual)\n",
    "\n",
    "    return rmse, mape*100\n",
    "\n",
    "##################################################################################\n",
    "# It will return predicted ratings, rmse and mape of both train and test data   #\n",
    "##################################################################################\n",
    "def run_surprise(algo, trainset, testset, verbose=True): \n",
    "    '''\n",
    "        return train_dict, test_dict\n",
    "    \n",
    "        It returns two dictionaries, one for train and the other is for test\n",
    "        Each of them have 3 key-value pairs, which specify ''rmse'', ''mape'', and ''predicted ratings''.\n",
    "    '''\n",
    "    start = datetime.now()\n",
    "    # dictionaries that stores metrics for train and test..\n",
    "    train = dict()\n",
    "    test = dict()\n",
    "    \n",
    "    # train the algorithm with the trainset\n",
    "    st = datetime.now()\n",
    "    print('Training the model...')\n",
    "    algo.fit(trainset)\n",
    "    print('Done. time taken : {} \\n'.format(datetime.now()-st))\n",
    "    \n",
    "    # ---------------- Evaluating train data--------------------#\n",
    "    st = datetime.now()\n",
    "    print('Evaluating the model with train data..')\n",
    "    # get the train predictions (list of prediction class inside Surprise)\n",
    "    train_preds = algo.test(trainset.build_testset())\n",
    "    # get predicted ratings from the train predictions..\n",
    "    train_actual_ratings, train_pred_ratings = get_ratings(train_preds)\n",
    "    # get ''rmse'' and ''mape'' from the train predictions.\n",
    "    train_rmse, train_mape = get_errors(train_preds)\n",
    "    print('time taken : {}'.format(datetime.now()-st))\n",
    "    \n",
    "    if verbose:\n",
    "        print('-'*15)\n",
    "        print('Train Data')\n",
    "        print('-'*15)\n",
    "        print(\"RMSE : {}\\n\\nMAPE : {}\\n\".format(train_rmse, train_mape))\n",
    "    \n",
    "    #store them in the train dictionary\n",
    "    if verbose:\n",
    "        print('adding train results in the dictionary..')\n",
    "    train['rmse'] = train_rmse\n",
    "    train['mape'] = train_mape\n",
    "    train['predictions'] = train_pred_ratings\n",
    "    \n",
    "    #------------ Evaluating Test data---------------#\n",
    "    st = datetime.now()\n",
    "    print('\\nEvaluating for test data...')\n",
    "    # get the predictions( list of prediction classes) of test data\n",
    "    test_preds = algo.test(testset)\n",
    "    # get the predicted ratings from the list of predictions\n",
    "    test_actual_ratings, test_pred_ratings = get_ratings(test_preds)\n",
    "    # get error metrics from the predicted and actual ratings\n",
    "    test_rmse, test_mape = get_errors(test_preds)\n",
    "    print('time taken : {}'.format(datetime.now()-st))\n",
    "    \n",
    "    if verbose:\n",
    "        print('-'*15)\n",
    "        print('Test Data')\n",
    "        print('-'*15)\n",
    "        print(\"RMSE : {}\\n\\nMAPE : {}\\n\".format(test_rmse, test_mape))\n",
    "    # store them in test dictionary\n",
    "    if verbose:\n",
    "        print('storing the test results in test dictionary...')\n",
    "    test['rmse'] = test_rmse\n",
    "    test['mape'] = test_mape\n",
    "    test['predictions'] = test_pred_ratings\n",
    "    \n",
    "    print('\\n'+'-'*45)\n",
    "    print('Total time taken to run this algorithm :', datetime.now() - start)\n",
    "    \n",
    "    # return two dictionaries train and test\n",
    "    return train, test"
   ]
  },
  {
   "cell_type": "markdown",
   "metadata": {},
   "source": [
    " "
   ]
  },
  {
   "cell_type": "markdown",
   "metadata": {},
   "source": [
    " "
   ]
  },
  {
   "cell_type": "markdown",
   "metadata": {},
   "source": [
    " "
   ]
  },
  {
   "cell_type": "markdown",
   "metadata": {},
   "source": [
    "### Some Global dictionary that stores rmse and mape for all the models....\n",
    "\n",
    "- It stores the metrics in a dictionary of dictionaries\n",
    "\n",
    "> __keys__ : model names(string)\n",
    "\n",
    "> __value__: dict(__key__ : metric, __value__ : value )"
   ]
  },
  {
   "cell_type": "code",
   "execution_count": 48,
   "metadata": {},
   "outputs": [
    {
     "data": {
      "text/plain": [
       "({}, {})"
      ]
     },
     "execution_count": 48,
     "metadata": {},
     "output_type": "execute_result"
    }
   ],
   "source": [
    "models_evaluation_train = dict()\n",
    "models_evaluation_test = dict()\n",
    "\n",
    "models_evaluation_train, models_evaluation_test"
   ]
  },
  {
   "cell_type": "markdown",
   "metadata": {},
   "source": [
    " "
   ]
  },
  {
   "cell_type": "markdown",
   "metadata": {},
   "source": [
    " "
   ]
  },
  {
   "cell_type": "markdown",
   "metadata": {},
   "source": [
    " "
   ]
  },
  {
   "cell_type": "markdown",
   "metadata": {},
   "source": [
    "## 1. Baseline Model  ( with User and Item biases )"
   ]
  },
  {
   "cell_type": "code",
   "execution_count": 49,
   "metadata": {
    "collapsed": true
   },
   "outputs": [],
   "source": [
    "from surprise import BaselineOnly"
   ]
  },
  {
   "cell_type": "markdown",
   "metadata": {},
   "source": [
    "- #### Predicted_rating : ( baseline prediction )\n",
    "\n",
    ">$   \\large {\\hat{r}_{ui} = b_{ui} =\\mu + b_u + b_i} $\n",
    "\n",
    "- ####  Optimization function ( Least Squares Problem )\n",
    "\n",
    "> $ \\large \\sum_{r_{ui} \\in R_{train}} \\left(r_{ui} - (\\mu + b_u + b_i)\\right)^2 +\n",
    "\\lambda \\left(b_u^2 + b_i^2 \\right).\\text {        [mimimize } {b_u, b_i]}$"
   ]
  },
  {
   "cell_type": "code",
   "execution_count": 50,
   "metadata": {
    "collapsed": true
   },
   "outputs": [],
   "source": [
    "bsl_options = {'method': 'sgd',\n",
    "               'learning_rate': .001\n",
    "               }\n",
    "bsl = BaselineOnly(bsl_options=bsl_options)"
   ]
  },
  {
   "cell_type": "code",
   "execution_count": 51,
   "metadata": {},
   "outputs": [
    {
     "name": "stdout",
     "output_type": "stream",
     "text": [
      "Training the model...\n",
      "Estimating biases using sgd...\n",
      "Done. time taken : 0:00:02.536001 \n",
      "\n",
      "Evaluating the model with train data..\n",
      "time taken : 0:00:03.756000\n",
      "---------------\n",
      "Train Data\n",
      "---------------\n",
      "RMSE : 0.9343933204486475\n",
      "\n",
      "MAPE : 29.3585572595359\n",
      "\n",
      "adding train results in the dictionary..\n",
      "\n",
      "Evaluating for test data...\n",
      "time taken : 0:00:00.812004\n",
      "---------------\n",
      "Test Data\n",
      "---------------\n",
      "RMSE : 1.1446096974315327\n",
      "\n",
      "MAPE : 34.61122256138336\n",
      "\n",
      "storing the test results in test dictionary...\n",
      "\n",
      "---------------------------------------------\n",
      "Total time taken to run this algorithm : 0:00:07.104005\n"
     ]
    }
   ],
   "source": [
    "bsl_train_results, bsl_test_results = run_surprise(bsl, trainset, testset, verbose=True)"
   ]
  },
  {
   "cell_type": "code",
   "execution_count": 52,
   "metadata": {},
   "outputs": [
    {
     "data": {
      "text/plain": [
       "{'mape': 34.61122256138336,\n",
       " 'predictions': array([4.0362061 , 3.63812962, 3.53202119, ..., 3.57248683, 3.52791376,\n",
       "        3.5332751 ]),\n",
       " 'rmse': 1.1446096974315327}"
      ]
     },
     "execution_count": 52,
     "metadata": {},
     "output_type": "execute_result"
    }
   ],
   "source": [
    "# store them in models dictionary..\n",
    "models_evaluation_train['bsl'] = bsl_train_results\n",
    "models_evaluation_test['bsl'] = bsl_test_results\n",
    "\n",
    "models_evaluation_test['bsl']"
   ]
  },
  {
   "cell_type": "markdown",
   "metadata": {},
   "source": [
    " "
   ]
  },
  {
   "cell_type": "markdown",
   "metadata": {},
   "source": [
    " "
   ]
  },
  {
   "cell_type": "markdown",
   "metadata": {},
   "source": [
    " "
   ]
  },
  {
   "cell_type": "markdown",
   "metadata": {},
   "source": [
    "# 2. KNN with Baseline_model "
   ]
  },
  {
   "cell_type": "code",
   "execution_count": 53,
   "metadata": {
    "collapsed": true
   },
   "outputs": [],
   "source": [
    "from surprise import KNNBaseline"
   ]
  },
  {
   "cell_type": "markdown",
   "metadata": {},
   "source": [
    "- __predicted Rating__ : ( ___ based on User-User similarity ___ )\n",
    "\n",
    "\\begin{align} \\hat{r}_{ui} = b_{ui} + \\frac{ \\sum\\limits_{v \\in N^k_i(u)}\n",
    "\\text{sim}(u, v) \\cdot (r_{vi} - b_{vi})} {\\sum\\limits_{v \\in\n",
    "N^k_i(u)} \\text{sim}(u, v)} \\end{align}\n",
    "\n",
    "- $\\pmb{b_{ui}}$ -  _Baseline prediction_ of (user,movie) rating\n",
    "\n",
    "\n",
    "- $ \\pmb {N_i^k (u)}$ - Set of __K similar__ users (neighbours) of __user (u)__ who rated __movie(i)__  \n",
    "\n",
    "\n",
    "- _sim (u, v)_ - __Similarity__ between users __u and v__  \n",
    "    - Generally, it will be cosine similarity or Pearson correlation coefficient. \n",
    "    - But we use __shrunk Pearson-baseline correlation coefficient__, which is based on the pearsonBaseline similarity ( we take base line predictions instead of mean rating of user/item)\n",
    "        - Computation of the correlation coefficient is based only on the common user support.\n",
    "        - similarities based on a greater user support are more reliable ie., Users who has more number of common movie ratings are considered as more similar than users who has few no of movies  in common which are rated.\n",
    "        - \\begin{align}\\begin{aligned}\\text{pearson_baseline_shrunk_sim}(u, v) &= \\frac{|I_{uv}| - 1}{|I_{uv}| - 1 + \\text{shrinkage}} \\cdot \\hat{\\rho}_{uv}\\end{aligned}\\end{align}\n",
    "            - $\\pmb{|I_{uv}|}$ - No of common movies between users(u and v)\n",
    "            - __shrinkage__ - kind of hyperparameter. The defalut value suggested is ___100___\n",
    "                - __0__ : There is no shrinkage at all ( It is normal pearson correlation coefficient ) \n",
    "            - $ \\pmb {\\hat \\rho_uv}$ - Pearson-baseline Correlation Coefficient ( between users )\n",
    "                - \\begin{align} \\text{pearson_baseline_sim}(u, v) = \\hat{\\rho}_{uv} = \\frac{\n",
    "    \\sum\\limits_{i \\in I_{uv}} (r_{ui} -  b_{ui}) \\cdot (r_{vi} -\n",
    "    b_{vi})} {\\sqrt{\\sum\\limits_{i \\in I_{uv}} (r_{ui} -  b_{ui})^2}\n",
    "    \\cdot \\sqrt{\\sum\\limits_{i \\in I_{uv}} (r_{vi} -  b_{vi})^2}} \\end{align}\n",
    " "
   ]
  },
  {
   "cell_type": "markdown",
   "metadata": {},
   "source": [
    " ------------ or \n",
    " --"
   ]
  },
  {
   "cell_type": "markdown",
   "metadata": {},
   "source": [
    "- __ Predicted rating __ ( based on Item Item similarity ):\n",
    " \\begin{align} \\hat{r}_{ui} = b_{ui} + \\frac{ \\sum\\limits_{j \\in N^k_u(i)}\\text{sim}(i, j) \\cdot (r_{uj} - b_{uj})} {\\sum\\limits_{j \\in N^k_u(j)} \\text{sim}(i, j)} \\end{align}\n",
    "\n",
    "    -  ___Notations follows same as above (user user based predicted rating ) ___"
   ]
  },
  {
   "cell_type": "markdown",
   "metadata": {},
   "source": [
    " "
   ]
  },
  {
   "cell_type": "markdown",
   "metadata": {},
   "source": [
    "> We can do both and blend them ( see if we can better results when combined ) "
   ]
  },
  {
   "cell_type": "markdown",
   "metadata": {},
   "source": [
    "## 2.1 KNN with User User similarities "
   ]
  },
  {
   "cell_type": "code",
   "execution_count": 29,
   "metadata": {
    "collapsed": true
   },
   "outputs": [],
   "source": [
    "# we specify , how to compute similarities and what to consider with sim_options to our algorithm\n",
    "sim_options = {'user_based' : True,\n",
    "               'name': 'pearson_baseline',\n",
    "               'shrinkage': 100,\n",
    "               'min_support': 2\n",
    "              } \n",
    "\n",
    "bsl_options = {'method': 'sgd'} # we keep other parameters like regularization parameter and learning_rate as default values."
   ]
  },
  {
   "cell_type": "code",
   "execution_count": null,
   "metadata": {
    "scrolled": false
   },
   "outputs": [
    {
     "name": "stdout",
     "output_type": "stream",
     "text": [
      "Training the model...\n",
      "Estimating biases using sgd...\n",
      "Computing the pearson_baseline similarity matrix...\n"
     ]
    }
   ],
   "source": [
    "knn_bsl_u = KNNBaseline(k=40, sim_options = sim_options, bsl_options = bsl_options)\n",
    "\n",
    "knn_bsl_u_train_results, knn_bsl_u_test_results = run_surprise(knn_bsl_u, trainset, testset, verbose=True)"
   ]
  },
  {
   "cell_type": "code",
   "execution_count": 63,
   "metadata": {},
   "outputs": [
    {
     "data": {
      "text/plain": [
       "{'mape': 36.31289890650797,\n",
       " 'predictions': array([4.46080639, 3.46900566, 3.46660633, ..., 3.5859398 , 3.48940251,\n",
       "        3.47741795]),\n",
       " 'rmse': 0.25956829995437974}"
      ]
     },
     "execution_count": 63,
     "metadata": {},
     "output_type": "execute_result"
    }
   ],
   "source": [
    "models_evaluation_train['knn_bsl_u'] = knn_bsl_u_train_results\n",
    "models_evaluation_test['knn_bsl_u']  = knn_bsl_u_test_results\n",
    "\n",
    "models_evaluation_test['knn_bsl_u'] "
   ]
  },
  {
   "cell_type": "markdown",
   "metadata": {},
   "source": [
    " "
   ]
  },
  {
   "cell_type": "markdown",
   "metadata": {},
   "source": [
    " "
   ]
  },
  {
   "cell_type": "markdown",
   "metadata": {},
   "source": [
    "## 2.2 KNN with Item Item similarities "
   ]
  },
  {
   "cell_type": "code",
   "execution_count": 54,
   "metadata": {
    "collapsed": true
   },
   "outputs": [],
   "source": [
    "# we specify , how to compute similarities and what to consider with sim_options to our algorithm\n",
    "sim_options = {'user_based' : False,\n",
    "               'name': 'pearson_baseline',\n",
    "               'shrinkage': 100,\n",
    "               'min_support': 2\n",
    "              } \n",
    "\n",
    "bsl_options = {'method': 'sgd'} # we keep other parameters like regularization parameter and learning_rate as default values."
   ]
  },
  {
   "cell_type": "code",
   "execution_count": 55,
   "metadata": {
    "scrolled": false
   },
   "outputs": [
    {
     "name": "stdout",
     "output_type": "stream",
     "text": [
      "Training the model...\n",
      "Estimating biases using sgd...\n",
      "Computing the pearson_baseline similarity matrix...\n",
      "Done computing similarity matrix.\n",
      "Done. time taken : 0:00:08.857885 \n",
      "\n",
      "Evaluating the model with train data..\n",
      "time taken : 0:01:00.123088\n",
      "---------------\n",
      "Train Data\n",
      "---------------\n",
      "RMSE : 0.46262597228542074\n",
      "\n",
      "MAPE : 12.925184816924947\n",
      "\n",
      "adding train results in the dictionary..\n",
      "\n",
      "Evaluating for test data...\n",
      "time taken : 0:00:03.216055\n",
      "---------------\n",
      "Test Data\n",
      "---------------\n",
      "RMSE : 1.2826278907087507\n",
      "\n",
      "MAPE : 36.735570014533124\n",
      "\n",
      "storing the test results in test dictionary...\n",
      "\n",
      "---------------------------------------------\n",
      "Total time taken to run this algorithm : 0:01:12.197028\n"
     ]
    }
   ],
   "source": [
    "knn_bsl_m = KNNBaseline(k=40, sim_options = sim_options, bsl_options = bsl_options)\n",
    "\n",
    "knn_bsl_m_train_results, knn_bsl_m_test_results = run_surprise(knn_bsl_m, trainset, testset, verbose=True)"
   ]
  },
  {
   "cell_type": "code",
   "execution_count": 56,
   "metadata": {},
   "outputs": [
    {
     "data": {
      "text/plain": [
       "{'mape': 36.735570014533124,\n",
       " 'predictions': array([4.09873046, 5.        , 3.46660633, ..., 3.5859398 , 3.48940251,\n",
       "        3.47741795]),\n",
       " 'rmse': 1.2826278907087507}"
      ]
     },
     "execution_count": 56,
     "metadata": {},
     "output_type": "execute_result"
    }
   ],
   "source": [
    "models_evaluation_train['knn_bsl_m'] = knn_bsl_m_train_results\n",
    "models_evaluation_test['knn_bsl_m']  = knn_bsl_m_test_results\n",
    "\n",
    "models_evaluation_test['knn_bsl_m'] "
   ]
  },
  {
   "cell_type": "markdown",
   "metadata": {},
   "source": [
    " "
   ]
  },
  {
   "cell_type": "markdown",
   "metadata": {},
   "source": [
    " "
   ]
  },
  {
   "cell_type": "markdown",
   "metadata": {},
   "source": [
    " "
   ]
  },
  {
   "cell_type": "markdown",
   "metadata": {},
   "source": [
    " "
   ]
  },
  {
   "cell_type": "markdown",
   "metadata": {},
   "source": [
    "# 3. Matrix Factorization Techniques"
   ]
  },
  {
   "cell_type": "markdown",
   "metadata": {},
   "source": [
    " "
   ]
  },
  {
   "cell_type": "markdown",
   "metadata": {},
   "source": [
    "## 3.1 SVD -  MF algorithm with user item interactions "
   ]
  },
  {
   "cell_type": "code",
   "execution_count": 57,
   "metadata": {
    "collapsed": true
   },
   "outputs": [],
   "source": [
    "from surprise import SVD"
   ]
  },
  {
   "cell_type": "markdown",
   "metadata": {},
   "source": [
    "- __ Predicted Rating : __\n",
    "    - $ \\large \\hat r_{ui} = \\mu + b_u + b_i + q_i^Tp_u $ "
   ]
  },
  {
   "cell_type": "markdown",
   "metadata": {},
   "source": [
    "- __Optimization problem with user item interactions and regularization (to avoid overfitting)__\n",
    "\n",
    "\n",
    "- $\\Large \\sum_{r_{ui} \\in R_{train}} \\left(r_{ui} - \\hat{r}_{ui} \\right)^2 +\n",
    "\\lambda\\left(b_i^2 + b_u^2 + ||q_i||^2 + ||p_u||^2\\right) $"
   ]
  },
  {
   "cell_type": "code",
   "execution_count": 58,
   "metadata": {
    "scrolled": false
   },
   "outputs": [
    {
     "name": "stdout",
     "output_type": "stream",
     "text": [
      "Training the model...\n",
      "Done. time taken : 0:00:37.520268 \n",
      "\n",
      "Evaluating the model with train data..\n",
      "time taken : 0:00:05.004003\n",
      "---------------\n",
      "Train Data\n",
      "---------------\n",
      "RMSE : 0.6461202059710703\n",
      "\n",
      "MAPE : 19.441192939322928\n",
      "\n",
      "adding train results in the dictionary..\n",
      "\n",
      "Evaluating for test data...\n",
      "time taken : 0:00:00.996002\n",
      "---------------\n",
      "Test Data\n",
      "---------------\n",
      "RMSE : 1.2003200344416367\n",
      "\n",
      "MAPE : 35.22882567005053\n",
      "\n",
      "storing the test results in test dictionary...\n",
      "\n",
      "---------------------------------------------\n",
      "Total time taken to run this algorithm : 0:00:43.520273\n"
     ]
    }
   ],
   "source": [
    "svd = SVD(n_factors=115, n_epochs=20, random_state=15)\n",
    "svd_train_results, svd_test_results = run_surprise(svd, trainset, testset, verbose=True)"
   ]
  },
  {
   "cell_type": "code",
   "execution_count": 59,
   "metadata": {},
   "outputs": [
    {
     "data": {
      "text/plain": [
       "{'mape': 35.22882567005053,\n",
       " 'predictions': array([3.99676015, 3.91945961, 3.62483684, ..., 3.58991885, 3.47264321,\n",
       "        3.42663803]),\n",
       " 'rmse': 1.2003200344416367}"
      ]
     },
     "execution_count": 59,
     "metadata": {},
     "output_type": "execute_result"
    }
   ],
   "source": [
    "models_evaluation_train['svd'] = svd_train_results\n",
    "models_evaluation_test['svd'] = svd_test_results\n",
    "\n",
    "models_evaluation_test['svd']"
   ]
  },
  {
   "cell_type": "markdown",
   "metadata": {},
   "source": [
    " "
   ]
  },
  {
   "cell_type": "markdown",
   "metadata": {},
   "source": [
    " \n",
    " "
   ]
  },
  {
   "cell_type": "markdown",
   "metadata": {},
   "source": [
    " ### 3.2 SVD -  with Implicit feedback of Items(movies)"
   ]
  },
  {
   "cell_type": "code",
   "execution_count": 60,
   "metadata": {
    "collapsed": true
   },
   "outputs": [],
   "source": [
    "from surprise import SVDpp"
   ]
  },
  {
   "cell_type": "markdown",
   "metadata": {},
   "source": [
    "- __ Predicted Rating : __ \n",
    "    - $ \\large \\hat{r}_{ui} = \\mu + b_u + b_i + q_i^T\\left(p_u +\n",
    "    |I_u|^{-\\frac{1}{2}} \\sum_{j \\in I_u}y_j\\right) $ \n",
    " \n"
   ]
  },
  {
   "cell_type": "markdown",
   "metadata": {},
   "source": [
    " - $ \\pmb{I_u}$ --- the set of all items rated by user u\n",
    "\n",
    "- $\\pmb{y_j}$ --- Our new set of item factors that capture implicit ratings.  "
   ]
  },
  {
   "cell_type": "markdown",
   "metadata": {},
   "source": [
    " \n",
    " "
   ]
  },
  {
   "cell_type": "markdown",
   "metadata": {},
   "source": [
    "- __Optimization problem with user item interactions and regularization (to avoid overfitting)__ \n"
   ]
  },
  {
   "cell_type": "markdown",
   "metadata": {},
   "source": [
    "   \n",
    "- $ \\Large \\sum_{r_{ui} \\in R_{train}} \\left(r_{ui} - \\hat{r}_{ui} \\right)^2 +\n",
    "\\lambda\\left(b_i^2 + b_u^2 + ||q_i||^2 + ||p_u||^2 + y_j^2\\right) $ "
   ]
  },
  {
   "cell_type": "markdown",
   "metadata": {},
   "source": [
    " \n",
    " "
   ]
  },
  {
   "cell_type": "markdown",
   "metadata": {},
   "source": [
    " \n",
    " "
   ]
  },
  {
   "cell_type": "code",
   "execution_count": 61,
   "metadata": {},
   "outputs": [
    {
     "name": "stdout",
     "output_type": "stream",
     "text": [
      "Training the model...\n",
      "Done. time taken : 0:10:48.144179 \n",
      "\n",
      "Evaluating the model with train data..\n",
      "time taken : 0:00:45.331538\n",
      "---------------\n",
      "Train Data\n",
      "---------------\n",
      "RMSE : 0.7023028587204827\n",
      "\n",
      "MAPE : 20.77144065505823\n",
      "\n",
      "adding train results in the dictionary..\n",
      "\n",
      "Evaluating for test data...\n",
      "time taken : 0:00:03.106590\n",
      "---------------\n",
      "Test Data\n",
      "---------------\n",
      "RMSE : 1.2188049381574173\n",
      "\n",
      "MAPE : 35.31675253673884\n",
      "\n",
      "storing the test results in test dictionary...\n",
      "\n",
      "---------------------------------------------\n",
      "Total time taken to run this algorithm : 0:11:36.583309\n"
     ]
    }
   ],
   "source": [
    "svdpp = SVDpp(n_factors=30, random_state=15)\n",
    "svdpp_train_results, svdpp_test_results = run_surprise(svdpp, trainset, testset)"
   ]
  },
  {
   "cell_type": "code",
   "execution_count": 62,
   "metadata": {},
   "outputs": [
    {
     "data": {
      "text/plain": [
       "{'mape': 35.31675253673884,\n",
       " 'predictions': array([3.91771285, 3.7912363 , 3.43484015, ..., 3.60432926, 3.51151561,\n",
       "        3.4300295 ]),\n",
       " 'rmse': 1.2188049381574173}"
      ]
     },
     "execution_count": 62,
     "metadata": {},
     "output_type": "execute_result"
    }
   ],
   "source": [
    "models_evaluation_train['svdpp'] = svdpp_train_results\n",
    "models_evaluation_test['svdpp'] = svdpp_test_results\n",
    "\n",
    "models_evaluation_test['svdpp']"
   ]
  },
  {
   "cell_type": "markdown",
   "metadata": {},
   "source": [
    " \n",
    " "
   ]
  },
  {
   "cell_type": "markdown",
   "metadata": {},
   "source": [
    " \n",
    " "
   ]
  },
  {
   "cell_type": "markdown",
   "metadata": {},
   "source": [
    " \n",
    " "
   ]
  },
  {
   "cell_type": "markdown",
   "metadata": {},
   "source": [
    " \n",
    " "
   ]
  },
  {
   "cell_type": "markdown",
   "metadata": {},
   "source": [
    " \n",
    " "
   ]
  },
  {
   "cell_type": "code",
   "execution_count": 63,
   "metadata": {},
   "outputs": [
    {
     "data": {
      "text/html": [
       "<div>\n",
       "<style>\n",
       "    .dataframe thead tr:only-child th {\n",
       "        text-align: right;\n",
       "    }\n",
       "\n",
       "    .dataframe thead th {\n",
       "        text-align: left;\n",
       "    }\n",
       "\n",
       "    .dataframe tbody tr th {\n",
       "        vertical-align: top;\n",
       "    }\n",
       "</style>\n",
       "<table border=\"1\" class=\"dataframe\">\n",
       "  <thead>\n",
       "    <tr style=\"text-align: right;\">\n",
       "      <th></th>\n",
       "      <th>bsl</th>\n",
       "      <th>knn_bsl_m</th>\n",
       "      <th>svd</th>\n",
       "      <th>svdpp</th>\n",
       "    </tr>\n",
       "  </thead>\n",
       "  <tbody>\n",
       "    <tr>\n",
       "      <th>mape</th>\n",
       "      <td>34.6112</td>\n",
       "      <td>36.7356</td>\n",
       "      <td>35.2288</td>\n",
       "      <td>35.3168</td>\n",
       "    </tr>\n",
       "    <tr>\n",
       "      <th>predictions</th>\n",
       "      <td>[4.036206096101787, 3.6381296161606014, 3.5320...</td>\n",
       "      <td>[4.098730457611819, 5.0, 3.466606330245642, 4....</td>\n",
       "      <td>[3.9967601536801123, 3.919459614654939, 3.6248...</td>\n",
       "      <td>[3.9177128477107477, 3.7912363045212905, 3.434...</td>\n",
       "    </tr>\n",
       "    <tr>\n",
       "      <th>rmse</th>\n",
       "      <td>1.14461</td>\n",
       "      <td>1.28263</td>\n",
       "      <td>1.20032</td>\n",
       "      <td>1.2188</td>\n",
       "    </tr>\n",
       "  </tbody>\n",
       "</table>\n",
       "</div>"
      ],
      "text/plain": [
       "                                                           bsl  \\\n",
       "mape                                                   34.6112   \n",
       "predictions  [4.036206096101787, 3.6381296161606014, 3.5320...   \n",
       "rmse                                                   1.14461   \n",
       "\n",
       "                                                     knn_bsl_m  \\\n",
       "mape                                                   36.7356   \n",
       "predictions  [4.098730457611819, 5.0, 3.466606330245642, 4....   \n",
       "rmse                                                   1.28263   \n",
       "\n",
       "                                                           svd  \\\n",
       "mape                                                   35.2288   \n",
       "predictions  [3.9967601536801123, 3.919459614654939, 3.6248...   \n",
       "rmse                                                   1.20032   \n",
       "\n",
       "                                                         svdpp  \n",
       "mape                                                   35.3168  \n",
       "predictions  [3.9177128477107477, 3.7912363045212905, 3.434...  \n",
       "rmse                                                    1.2188  "
      ]
     },
     "execution_count": 63,
     "metadata": {},
     "output_type": "execute_result"
    }
   ],
   "source": [
    "pd.DataFrame(models_evaluation_test)"
   ]
  },
  {
   "cell_type": "code",
   "execution_count": null,
   "metadata": {
    "collapsed": true
   },
   "outputs": [],
   "source": []
  },
  {
   "cell_type": "markdown",
   "metadata": {},
   "source": [
    " \n",
    " "
   ]
  },
  {
   "cell_type": "markdown",
   "metadata": {},
   "source": [
    " \n",
    " "
   ]
  },
  {
   "cell_type": "markdown",
   "metadata": {},
   "source": [
    " \n",
    " "
   ]
  },
  {
   "cell_type": "markdown",
   "metadata": {},
   "source": [
    " \n",
    " "
   ]
  },
  {
   "cell_type": "markdown",
   "metadata": {},
   "source": [
    " \n",
    " "
   ]
  },
  {
   "cell_type": "markdown",
   "metadata": {},
   "source": [
    " \n",
    " "
   ]
  },
  {
   "cell_type": "markdown",
   "metadata": {},
   "source": [
    " \n",
    " "
   ]
  }
 ],
 "metadata": {
  "kernelspec": {
   "display_name": "Python 3",
   "language": "python",
   "name": "python3"
  },
  "language_info": {
   "codemirror_mode": {
    "name": "ipython",
    "version": 3
   },
   "file_extension": ".py",
   "mimetype": "text/x-python",
   "name": "python",
   "nbconvert_exporter": "python",
   "pygments_lexer": "ipython3",
   "version": "3.6.3"
  }
 },
 "nbformat": 4,
 "nbformat_minor": 2
}
