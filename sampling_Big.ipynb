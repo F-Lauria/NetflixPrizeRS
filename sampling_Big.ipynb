{
 "cells": [
  {
   "cell_type": "code",
   "execution_count": 1,
   "metadata": {},
   "outputs": [],
   "source": [
    "# this is just to know how much time will it take to run this entire ipython notebook \n",
    "from datetime import datetime"
   ]
  },
  {
   "cell_type": "code",
   "execution_count": 2,
   "metadata": {},
   "outputs": [],
   "source": [
    "import pandas as pd\n",
    "import numpy as np"
   ]
  },
  {
   "cell_type": "code",
   "execution_count": 3,
   "metadata": {},
   "outputs": [],
   "source": [
    "import matplotlib\n",
    "matplotlib.use('nbagg')\n",
    "\n",
    "import matplotlib.pyplot as plt\n",
    "plt.rcParams.update({'figure.max_open_warning': 0})\n",
    "\n",
    "import seaborn as sns\n",
    "sns.set_style('whitegrid')"
   ]
  },
  {
   "cell_type": "markdown",
   "metadata": {},
   "source": [
    "## reading data from the csv file"
   ]
  },
  {
   "cell_type": "code",
   "execution_count": 4,
   "metadata": {},
   "outputs": [
    {
     "data": {
      "text/html": [
       "<div>\n",
       "<style scoped>\n",
       "    .dataframe tbody tr th:only-of-type {\n",
       "        vertical-align: middle;\n",
       "    }\n",
       "\n",
       "    .dataframe tbody tr th {\n",
       "        vertical-align: top;\n",
       "    }\n",
       "\n",
       "    .dataframe thead th {\n",
       "        text-align: right;\n",
       "    }\n",
       "</style>\n",
       "<table border=\"1\" class=\"dataframe\">\n",
       "  <thead>\n",
       "    <tr style=\"text-align: right;\">\n",
       "      <th></th>\n",
       "      <th>movie</th>\n",
       "      <th>user</th>\n",
       "      <th>rating</th>\n",
       "      <th>date</th>\n",
       "    </tr>\n",
       "  </thead>\n",
       "  <tbody>\n",
       "    <tr>\n",
       "      <th>58698779</th>\n",
       "      <td>10774</td>\n",
       "      <td>510180</td>\n",
       "      <td>3.0</td>\n",
       "      <td>1999-11-11</td>\n",
       "    </tr>\n",
       "    <tr>\n",
       "      <th>96212476</th>\n",
       "      <td>17064</td>\n",
       "      <td>510180</td>\n",
       "      <td>2.0</td>\n",
       "      <td>1999-11-11</td>\n",
       "    </tr>\n",
       "    <tr>\n",
       "      <th>6901473</th>\n",
       "      <td>1367</td>\n",
       "      <td>510180</td>\n",
       "      <td>5.0</td>\n",
       "      <td>1999-11-11</td>\n",
       "    </tr>\n",
       "    <tr>\n",
       "      <th>49973109</th>\n",
       "      <td>9003</td>\n",
       "      <td>510180</td>\n",
       "      <td>3.0</td>\n",
       "      <td>1999-11-11</td>\n",
       "    </tr>\n",
       "    <tr>\n",
       "      <th>20393918</th>\n",
       "      <td>3870</td>\n",
       "      <td>510180</td>\n",
       "      <td>2.0</td>\n",
       "      <td>1999-11-11</td>\n",
       "    </tr>\n",
       "  </tbody>\n",
       "</table>\n",
       "</div>"
      ],
      "text/plain": [
       "          movie    user  rating       date\n",
       "58698779  10774  510180     3.0 1999-11-11\n",
       "96212476  17064  510180     2.0 1999-11-11\n",
       "6901473    1367  510180     5.0 1999-11-11\n",
       "49973109   9003  510180     3.0 1999-11-11\n",
       "20393918   3870  510180     2.0 1999-11-11"
      ]
     },
     "execution_count": 4,
     "metadata": {},
     "output_type": "execute_result"
    }
   ],
   "source": [
    "df = pd.read_csv('data.csv', sep=',', \n",
    "                       names=['movie', 'user','rating','date'])\n",
    "df.date = pd.to_datetime(df.date)\n",
    "\n",
    "# we are arranging the ratings according to time.\n",
    "df.sort_values(by='date', inplace=True)\n",
    "df.head()"
   ]
  },
  {
   "cell_type": "code",
   "execution_count": 5,
   "metadata": {},
   "outputs": [
    {
     "data": {
      "text/html": [
       "<div>\n",
       "<style scoped>\n",
       "    .dataframe tbody tr th:only-of-type {\n",
       "        vertical-align: middle;\n",
       "    }\n",
       "\n",
       "    .dataframe tbody tr th {\n",
       "        vertical-align: top;\n",
       "    }\n",
       "\n",
       "    .dataframe thead th {\n",
       "        text-align: right;\n",
       "    }\n",
       "</style>\n",
       "<table border=\"1\" class=\"dataframe\">\n",
       "  <thead>\n",
       "    <tr style=\"text-align: right;\">\n",
       "      <th></th>\n",
       "      <th>movie</th>\n",
       "      <th>user</th>\n",
       "      <th>rating</th>\n",
       "      <th>date</th>\n",
       "    </tr>\n",
       "  </thead>\n",
       "  <tbody>\n",
       "    <tr>\n",
       "      <th>58698779</th>\n",
       "      <td>10774</td>\n",
       "      <td>510180</td>\n",
       "      <td>3.0</td>\n",
       "      <td>1999-11-11</td>\n",
       "    </tr>\n",
       "    <tr>\n",
       "      <th>96212476</th>\n",
       "      <td>17064</td>\n",
       "      <td>510180</td>\n",
       "      <td>2.0</td>\n",
       "      <td>1999-11-11</td>\n",
       "    </tr>\n",
       "    <tr>\n",
       "      <th>6901473</th>\n",
       "      <td>1367</td>\n",
       "      <td>510180</td>\n",
       "      <td>5.0</td>\n",
       "      <td>1999-11-11</td>\n",
       "    </tr>\n",
       "    <tr>\n",
       "      <th>49973109</th>\n",
       "      <td>9003</td>\n",
       "      <td>510180</td>\n",
       "      <td>3.0</td>\n",
       "      <td>1999-11-11</td>\n",
       "    </tr>\n",
       "    <tr>\n",
       "      <th>20393918</th>\n",
       "      <td>3870</td>\n",
       "      <td>510180</td>\n",
       "      <td>2.0</td>\n",
       "      <td>1999-11-11</td>\n",
       "    </tr>\n",
       "  </tbody>\n",
       "</table>\n",
       "</div>"
      ],
      "text/plain": [
       "          movie    user  rating       date\n",
       "58698779  10774  510180     3.0 1999-11-11\n",
       "96212476  17064  510180     2.0 1999-11-11\n",
       "6901473    1367  510180     5.0 1999-11-11\n",
       "49973109   9003  510180     3.0 1999-11-11\n",
       "20393918   3870  510180     2.0 1999-11-11"
      ]
     },
     "execution_count": 5,
     "metadata": {},
     "output_type": "execute_result"
    }
   ],
   "source": [
    "df = pd.read_csv('data.csv', sep=',', \n",
    "                       names=['movie', 'user','rating','date'])\n",
    "df.date = pd.to_datetime(df.date)\n",
    "\n",
    "# we are arranging the ratings according to time.\n",
    "df.sort_values(by='date', inplace=True)\n",
    "df.head()"
   ]
  },
  {
   "cell_type": "markdown",
   "metadata": {},
   "source": [
    "### Is there any entry that has Nan values...??"
   ]
  },
  {
   "cell_type": "code",
   "execution_count": 6,
   "metadata": {},
   "outputs": [
    {
     "data": {
      "text/html": [
       "<div>\n",
       "<style scoped>\n",
       "    .dataframe tbody tr th:only-of-type {\n",
       "        vertical-align: middle;\n",
       "    }\n",
       "\n",
       "    .dataframe tbody tr th {\n",
       "        vertical-align: top;\n",
       "    }\n",
       "\n",
       "    .dataframe thead th {\n",
       "        text-align: right;\n",
       "    }\n",
       "</style>\n",
       "<table border=\"1\" class=\"dataframe\">\n",
       "  <thead>\n",
       "    <tr style=\"text-align: right;\">\n",
       "      <th></th>\n",
       "      <th>movie</th>\n",
       "      <th>user</th>\n",
       "      <th>rating</th>\n",
       "      <th>date</th>\n",
       "    </tr>\n",
       "  </thead>\n",
       "  <tbody>\n",
       "    <tr>\n",
       "      <th>95880696</th>\n",
       "      <td>16992</td>\n",
       "      <td>962</td>\n",
       "      <td>NaN</td>\n",
       "      <td>NaT</td>\n",
       "    </tr>\n",
       "    <tr>\n",
       "      <th>95963294</th>\n",
       "      <td>17002</td>\n",
       "      <td>51082</td>\n",
       "      <td>NaN</td>\n",
       "      <td>NaT</td>\n",
       "    </tr>\n",
       "  </tbody>\n",
       "</table>\n",
       "</div>"
      ],
      "text/plain": [
       "          movie   user  rating date\n",
       "95880696  16992    962     NaN  NaT\n",
       "95963294  17002  51082     NaN  NaT"
      ]
     },
     "execution_count": 6,
     "metadata": {},
     "output_type": "execute_result"
    }
   ],
   "source": [
    "# it returns True for a row that has atleast one Nan value.\n",
    "null_bool = df.isnull().any(axis = 1)\n",
    "df[null_bool]"
   ]
  },
  {
   "cell_type": "code",
   "execution_count": 7,
   "metadata": {},
   "outputs": [],
   "source": [
    "df.drop(df[null_bool].index, inplace=True)"
   ]
  },
  {
   "cell_type": "code",
   "execution_count": 8,
   "metadata": {},
   "outputs": [
    {
     "name": "stdout",
     "output_type": "stream",
     "text": [
      "No of Nan values in our dataframe :  0\n"
     ]
    }
   ],
   "source": [
    "print(\"No of Nan values in our dataframe : \", sum(df.isnull().any()))"
   ]
  },
  {
   "cell_type": "markdown",
   "metadata": {},
   "source": [
    "### Let's try to find the duplicates if any..."
   ]
  },
  {
   "cell_type": "code",
   "execution_count": 9,
   "metadata": {},
   "outputs": [
    {
     "name": "stdout",
     "output_type": "stream",
     "text": [
      "There are 1211 duplicate rating entries in the data..\n"
     ]
    }
   ],
   "source": [
    "dup_bool = df.duplicated(['movie','user','rating'])\n",
    "dups = sum(dup_bool) # by considering all columns..( including timestamp )\n",
    "print(\"There are {} duplicate rating entries in the data..\".format(dups))"
   ]
  },
  {
   "cell_type": "code",
   "execution_count": 10,
   "metadata": {},
   "outputs": [
    {
     "data": {
      "text/plain": [
       "16969    762\n",
       "16968    449\n",
       "Name: movie, dtype: int64"
      ]
     },
     "execution_count": 10,
     "metadata": {},
     "output_type": "execute_result"
    }
   ],
   "source": [
    "# let's find what are the movies that has duplicate entries of user ratings....\n",
    "df[dup_bool].movie.value_counts()"
   ]
  },
  {
   "cell_type": "markdown",
   "metadata": {},
   "source": [
    "__Removing those duplicate entries__  (inplace)"
   ]
  },
  {
   "cell_type": "code",
   "execution_count": 11,
   "metadata": {},
   "outputs": [],
   "source": [
    "df.drop(df[dup_bool].index, inplace=True)"
   ]
  },
  {
   "cell_type": "code",
   "execution_count": 12,
   "metadata": {},
   "outputs": [
    {
     "name": "stdout",
     "output_type": "stream",
     "text": [
      "No of duplicate rows (movie, user, rating) entries : 0\n"
     ]
    }
   ],
   "source": [
    "print(\"No of duplicate rows (movie, user, rating) entries :\", sum(df.duplicated()))"
   ]
  },
  {
   "cell_type": "markdown",
   "metadata": {},
   "source": [
    " "
   ]
  },
  {
   "cell_type": "markdown",
   "metadata": {},
   "source": [
    " "
   ]
  },
  {
   "cell_type": "markdown",
   "metadata": {},
   "source": [
    " "
   ]
  },
  {
   "cell_type": "code",
   "execution_count": 13,
   "metadata": {},
   "outputs": [
    {
     "name": "stdout",
     "output_type": "stream",
     "text": [
      "\n",
      "No of ratings that we have, after removing nan rows and duplicates are : 100479045\n"
     ]
    }
   ],
   "source": [
    "print(\"\\nNo of ratings that we have, after removing nan rows and duplicates are :\", df.shape[0])"
   ]
  },
  {
   "cell_type": "markdown",
   "metadata": {},
   "source": [
    " "
   ]
  },
  {
   "cell_type": "markdown",
   "metadata": {},
   "source": [
    " "
   ]
  },
  {
   "cell_type": "markdown",
   "metadata": {},
   "source": [
    " "
   ]
  },
  {
   "cell_type": "markdown",
   "metadata": {},
   "source": [
    " "
   ]
  },
  {
   "cell_type": "markdown",
   "metadata": {},
   "source": [
    " "
   ]
  },
  {
   "cell_type": "markdown",
   "metadata": {},
   "source": [
    "## No. of Ratings, Users and Movies  "
   ]
  },
  {
   "cell_type": "code",
   "execution_count": 14,
   "metadata": {},
   "outputs": [
    {
     "name": "stdout",
     "output_type": "stream",
     "text": [
      "Total data \n",
      "--------------------------------------------------\n",
      "\n",
      "Total no of ratings : 100479045\n",
      "Total No of Users   : 480189\n",
      "Total No of movies  : 17770\n"
     ]
    }
   ],
   "source": [
    "movies = df.movie.value_counts()\n",
    "users = df.user.value_counts()\n",
    "ratings = df.rating\n",
    "print(\"Total data \")\n",
    "print(\"-\"*50)\n",
    "print(\"\\nTotal no of ratings :\",df.shape[0])\n",
    "print(\"Total No of Users   :\", len(users))\n",
    "print(\"Total No of movies  :\", len(movies))"
   ]
  },
  {
   "cell_type": "markdown",
   "metadata": {},
   "source": [
    "## Train data"
   ]
  },
  {
   "cell_type": "code",
   "execution_count": 15,
   "metadata": {},
   "outputs": [],
   "source": [
    "big_train_df = df.iloc[:int(df.shape[0]*0.80)]"
   ]
  },
  {
   "cell_type": "code",
   "execution_count": 16,
   "metadata": {},
   "outputs": [
    {
     "data": {
      "text/plain": [
       "(80383236, 4)"
      ]
     },
     "execution_count": 16,
     "metadata": {},
     "output_type": "execute_result"
    }
   ],
   "source": [
    "big_train_df.shape"
   ]
  },
  {
   "cell_type": "code",
   "execution_count": 17,
   "metadata": {},
   "outputs": [
    {
     "data": {
      "text/html": [
       "<div>\n",
       "<style scoped>\n",
       "    .dataframe tbody tr th:only-of-type {\n",
       "        vertical-align: middle;\n",
       "    }\n",
       "\n",
       "    .dataframe tbody tr th {\n",
       "        vertical-align: top;\n",
       "    }\n",
       "\n",
       "    .dataframe thead th {\n",
       "        text-align: right;\n",
       "    }\n",
       "</style>\n",
       "<table border=\"1\" class=\"dataframe\">\n",
       "  <thead>\n",
       "    <tr style=\"text-align: right;\">\n",
       "      <th></th>\n",
       "      <th>movie</th>\n",
       "      <th>user</th>\n",
       "      <th>rating</th>\n",
       "      <th>date</th>\n",
       "    </tr>\n",
       "  </thead>\n",
       "  <tbody>\n",
       "    <tr>\n",
       "      <th>58698779</th>\n",
       "      <td>10774</td>\n",
       "      <td>510180</td>\n",
       "      <td>3.0</td>\n",
       "      <td>1999-11-11</td>\n",
       "    </tr>\n",
       "    <tr>\n",
       "      <th>96212476</th>\n",
       "      <td>17064</td>\n",
       "      <td>510180</td>\n",
       "      <td>2.0</td>\n",
       "      <td>1999-11-11</td>\n",
       "    </tr>\n",
       "  </tbody>\n",
       "</table>\n",
       "</div>"
      ],
      "text/plain": [
       "          movie    user  rating       date\n",
       "58698779  10774  510180     3.0 1999-11-11\n",
       "96212476  17064  510180     2.0 1999-11-11"
      ]
     },
     "execution_count": 17,
     "metadata": {},
     "output_type": "execute_result"
    }
   ],
   "source": [
    "big_train_df.head(2)"
   ]
  },
  {
   "cell_type": "code",
   "execution_count": 18,
   "metadata": {},
   "outputs": [
    {
     "name": "stdout",
     "output_type": "stream",
     "text": [
      "Training data \n",
      "--------------------------------------------------\n",
      "\n",
      "Total no of ratings : 80383236\n",
      "Total No of Users   : 405024\n",
      "Total No of movies  : 17423\n"
     ]
    }
   ],
   "source": [
    "movies = big_train_df.movie.value_counts()\n",
    "users = big_train_df.user.value_counts()\n",
    "print(\"Training data \")\n",
    "print(\"-\"*50)\n",
    "print(\"\\nTotal no of ratings :\",big_train_df.shape[0])\n",
    "print(\"Total No of Users   :\", len(users))\n",
    "print(\"Total No of movies  :\", len(movies))"
   ]
  },
  {
   "cell_type": "markdown",
   "metadata": {},
   "source": [
    "# 2. Creating sparse matrix for Train data"
   ]
  },
  {
   "cell_type": "code",
   "execution_count": 19,
   "metadata": {},
   "outputs": [
    {
     "name": "stdout",
     "output_type": "stream",
     "text": [
      "It is present in your pwd, getting it from disk....\n",
      "DONE..\n",
      "0:00:03.095818\n"
     ]
    }
   ],
   "source": [
    "import os\n",
    "from scipy import sparse\n",
    "start = datetime.now()\n",
    "if os.path.isfile('sample/train_sparse_matrix.npz'):\n",
    "    print(\"It is present in your pwd, getting it from disk....\")\n",
    "    # just get it from the disk instead of computing it\n",
    "    train_sparse_matrix = sparse.load_npz('sample/train_sparse_matrix.npz')\n",
    "    print(\"DONE..\")\n",
    "else: \n",
    "    print(\"We are creating sparse_matrix from the dataframe..\")\n",
    "    # create sparse_matrix and store it for after usage.\n",
    "    # csr_matrix(data_values, (row_index, col_index), shape_of_matrix)\n",
    "    # It should be in such a way that, MATRIX[row, col] = data\n",
    "    train_sparse_matrix = sparse.csr_matrix((big_train_df.rating.values, (big_train_df.user.values,\n",
    "                                               big_train_df.movie.values)))\n",
    "    \n",
    "    print('Done. It\\'s shape is : (user, movie) : ',train_sparse_matrix.shape)\n",
    "    print('Saving it into disk for furthur usage..')\n",
    "    # save it into disk\n",
    "    sparse.save_npz(\"sample/train_sparse_matrix.npz\", train_sparse_matrix)\n",
    "    print('Done..\\n')\n",
    " \n",
    "print(datetime.now() - start)"
   ]
  },
  {
   "cell_type": "markdown",
   "metadata": {},
   "source": [
    "### Sparsity"
   ]
  },
  {
   "cell_type": "code",
   "execution_count": 20,
   "metadata": {},
   "outputs": [],
   "source": [
    "u,m = train_sparse_matrix.shape\n",
    "elem = train_sparse_matrix.count_nonzero()"
   ]
  },
  {
   "cell_type": "code",
   "execution_count": 21,
   "metadata": {},
   "outputs": [
    {
     "name": "stdout",
     "output_type": "stream",
     "text": [
      "Sparsity Of matrix : 99.82927583214679 % \n"
     ]
    }
   ],
   "source": [
    "print(\"Sparsity Of matrix : {} % \".format(  (1-(elem/(u*m))) * 100) )"
   ]
  },
  {
   "cell_type": "markdown",
   "metadata": {},
   "source": [
    "## Test"
   ]
  },
  {
   "cell_type": "code",
   "execution_count": 23,
   "metadata": {},
   "outputs": [
    {
     "data": {
      "text/plain": [
       "(20095809, 4)"
      ]
     },
     "execution_count": 23,
     "metadata": {},
     "output_type": "execute_result"
    }
   ],
   "source": [
    "big_test_df = df.iloc[int(df.shape[0]*0.80) : ]\n",
    "big_test_df.shape"
   ]
  },
  {
   "cell_type": "code",
   "execution_count": 24,
   "metadata": {},
   "outputs": [
    {
     "data": {
      "text/html": [
       "<div>\n",
       "<style scoped>\n",
       "    .dataframe tbody tr th:only-of-type {\n",
       "        vertical-align: middle;\n",
       "    }\n",
       "\n",
       "    .dataframe tbody tr th {\n",
       "        vertical-align: top;\n",
       "    }\n",
       "\n",
       "    .dataframe thead th {\n",
       "        text-align: right;\n",
       "    }\n",
       "</style>\n",
       "<table border=\"1\" class=\"dataframe\">\n",
       "  <thead>\n",
       "    <tr style=\"text-align: right;\">\n",
       "      <th></th>\n",
       "      <th>movie</th>\n",
       "      <th>user</th>\n",
       "      <th>rating</th>\n",
       "      <th>date</th>\n",
       "    </tr>\n",
       "  </thead>\n",
       "  <tbody>\n",
       "    <tr>\n",
       "      <th>52863848</th>\n",
       "      <td>9617</td>\n",
       "      <td>316390</td>\n",
       "      <td>2.0</td>\n",
       "      <td>2005-08-08</td>\n",
       "    </tr>\n",
       "    <tr>\n",
       "      <th>12989568</th>\n",
       "      <td>2462</td>\n",
       "      <td>605375</td>\n",
       "      <td>4.0</td>\n",
       "      <td>2005-08-08</td>\n",
       "    </tr>\n",
       "  </tbody>\n",
       "</table>\n",
       "</div>"
      ],
      "text/plain": [
       "          movie    user  rating       date\n",
       "52863848   9617  316390     2.0 2005-08-08\n",
       "12989568   2462  605375     4.0 2005-08-08"
      ]
     },
     "execution_count": 24,
     "metadata": {},
     "output_type": "execute_result"
    }
   ],
   "source": [
    "big_test_df.head(2)"
   ]
  },
  {
   "cell_type": "code",
   "execution_count": 25,
   "metadata": {},
   "outputs": [
    {
     "name": "stdout",
     "output_type": "stream",
     "text": [
      "Test data \n",
      "--------------------------------------------------\n",
      "\n",
      "Total no of ratings : 20095809\n",
      "Total No of Users   : 349327\n",
      "Total No of movies  : 17757\n"
     ]
    }
   ],
   "source": [
    "movies = big_test_df.movie.value_counts()\n",
    "users = big_test_df.user.value_counts()\n",
    "\n",
    "print(\"Test data \")\n",
    "print(\"-\"*50)\n",
    "print(\"\\nTotal no of ratings :\",big_test_df.shape[0])\n",
    "print(\"Total No of Users   :\", len(users))\n",
    "print(\"Total No of movies  :\", len(movies))"
   ]
  },
  {
   "cell_type": "markdown",
   "metadata": {},
   "source": [
    "# 3. Creating sparse matrix for Test data"
   ]
  },
  {
   "cell_type": "code",
   "execution_count": 26,
   "metadata": {},
   "outputs": [
    {
     "name": "stdout",
     "output_type": "stream",
     "text": [
      "It is present in your pwd, getting it from disk....\n",
      "DONE..\n",
      "0:00:00.847732\n"
     ]
    }
   ],
   "source": [
    "import os\n",
    "from scipy import sparse\n",
    "start = datetime.now()\n",
    "if os.path.isfile('sample/test_sparse_matrix.npz'):\n",
    "    print(\"It is present in your pwd, getting it from disk....\")\n",
    "    # just get it from the disk instead of computing it\n",
    "    test_sparse_matrix = sparse.load_npz('sample/test_sparse_matrix.npz')\n",
    "    print(\"DONE..\")\n",
    "else: \n",
    "    print(\"We are creating sparse_matrix from the dataframe..\")\n",
    "    # create sparse_matrix and store it for after usage.\n",
    "    # csr_matrix(data_values, (row_index, col_index), shape_of_matrix)\n",
    "    # It should be in such a way that, MATRIX[row, col] = data\n",
    "    test_sparse_matrix = sparse.csr_matrix((big_test_df.rating.values, (big_test_df.user.values,\n",
    "                                               big_test_df.movie.values)))\n",
    "    \n",
    "    print('Done. It\\'s shape is : (user, movie) : ',test_sparse_matrix.shape)\n",
    "    print('Saving it into disk for furthur usage..')\n",
    "    # save it into disk\n",
    "    sparse.save_npz(\"sample/test_sparse_matrix.npz\", test_sparse_matrix)\n",
    "    print('Done..\\n')\n",
    " \n",
    "print(datetime.now() - start)"
   ]
  },
  {
   "cell_type": "markdown",
   "metadata": {},
   "source": [
    "### Sparsity"
   ]
  },
  {
   "cell_type": "code",
   "execution_count": 27,
   "metadata": {},
   "outputs": [],
   "source": [
    "u,m = test_sparse_matrix.shape\n",
    "elem = test_sparse_matrix.count_nonzero()"
   ]
  },
  {
   "cell_type": "code",
   "execution_count": 28,
   "metadata": {},
   "outputs": [
    {
     "name": "stdout",
     "output_type": "stream",
     "text": [
      "Sparsity Of matrix : 99.95731855608713 % \n"
     ]
    }
   ],
   "source": [
    "print(\"Sparsity Of matrix : {} % \".format(  (1-(elem/(u*m))) * 100) )"
   ]
  },
  {
   "cell_type": "markdown",
   "metadata": {},
   "source": [
    " "
   ]
  },
  {
   "cell_type": "markdown",
   "metadata": {},
   "source": [
    " "
   ]
  },
  {
   "cell_type": "markdown",
   "metadata": {},
   "source": [
    "# Sampling Train and Test data "
   ]
  },
  {
   "cell_type": "code",
   "execution_count": 29,
   "metadata": {},
   "outputs": [],
   "source": [
    "import os\n",
    "import random"
   ]
  },
  {
   "cell_type": "markdown",
   "metadata": {},
   "source": [
    "## Train"
   ]
  },
  {
   "cell_type": "code",
   "execution_count": 121,
   "metadata": {
    "scrolled": true
   },
   "outputs": [
    {
     "name": "stdout",
     "output_type": "stream",
     "text": [
      "In big matrix, (users, movies) : (405024 17423)\n",
      "In sampled matrix, (users, movies) :  [18755, 1949]\n",
      "Saving it into disk for furthur usage..\n",
      "Done..\n",
      "\n",
      "0:00:06.566973\n"
     ]
    }
   ],
   "source": [
    "import os\n",
    "from scipy import sparse\n",
    "\n",
    "start = datetime.now()\n",
    "if os.path.isfile('sample/big/sample_train_sparse_matrix.npz'):\n",
    "    print(\"It is present in your pwd, getting it from disk....\")\n",
    "    # just get it from the disk instead of computing it\n",
    "    sample_train_sparse_matrix = sparse.load_npz('sample/big/sample_train_sparse_matrix.npz')\n",
    "    print(\"DONE..\")\n",
    "else: \n",
    "    train_row_ind, train_col_ind = train_sparse_matrix.nonzero()\n",
    "    train_row_ind = np.unique(train_row_ind)\n",
    "    train_col_ind = np.unique(train_col_ind)\n",
    "\n",
    "    print(\"In big matrix, (users, movies) : ({} {})\".format(len(train_row_ind), len(train_col_ind)))\n",
    "\n",
    "    np.random.seed(15)\n",
    "    sample_train_movies = np.random.choice(train_col_ind, 2000, replace=False)\n",
    "    sample_train_users = np.random.choice(train_row_ind, 20000, replace=False)\n",
    "\n",
    "    sample_train_sparse_matrix = train_sparse_matrix[sample_train_users, :][:,sample_train_movies]\n",
    "    \n",
    "    print('In sampled matrix, (users, movies) : ',[len(np.unique(i)) for i in sample_train_sparse_matrix.nonzero()])\n",
    "    print('Saving it into disk for furthur usage..')\n",
    "    # save it into disk\n",
    "    sparse.save_npz(\"sample/big/sample_train_sparse_matrix.npz\", sample_train_sparse_matrix)\n",
    "    print('Done..\\n')\n",
    "\n",
    "\n",
    "print(datetime.now() - start)"
   ]
  },
  {
   "cell_type": "code",
   "execution_count": 122,
   "metadata": {},
   "outputs": [
    {
     "data": {
      "text/plain": [
       "486139"
      ]
     },
     "execution_count": 122,
     "metadata": {},
     "output_type": "execute_result"
    }
   ],
   "source": [
    "sample_train_sparse_matrix.count_nonzero()"
   ]
  },
  {
   "cell_type": "markdown",
   "metadata": {},
   "source": [
    "## Test"
   ]
  },
  {
   "cell_type": "code",
   "execution_count": 62,
   "metadata": {
    "scrolled": true
   },
   "outputs": [
    {
     "name": "stdout",
     "output_type": "stream",
     "text": [
      "In big matrix (users, movies) : (349327 17757)\n",
      "In sampled matrix, (users, movies) :  [8377, 2843]\n",
      "Saving it into disk for furthur usage..\n",
      "Done..\n",
      "\n",
      "0:00:01.732235\n"
     ]
    }
   ],
   "source": [
    "import os\n",
    "from scipy import sparse\n",
    "\n",
    "start = datetime.now()\n",
    "if os.path.isfile('sample/big/sample_test_sparse_matrix.npz'):\n",
    "    print(\"It is present in your pwd, getting it from disk....\")\n",
    "    # just get it from the disk instead of computing it\n",
    "    sample_test_sparse_matrix = sparse.load_npz('sample/big/sample_test_sparse_matrix.npz')\n",
    "    print(\"DONE..\")\n",
    "else: \n",
    "    test_row_ind, test_col_ind = test_sparse_matrix.nonzero()\n",
    "    test_row_ind = np.unique(test_row_ind)\n",
    "    test_col_ind = np.unique(test_col_ind)\n",
    "\n",
    "    print(\"In big matrix (users, movies) : ({} {})\".format(len(test_row_ind), len(test_col_ind)))\n",
    "\n",
    "    np.random.seed(15)\n",
    "    sample_test_movies = np.random.choice(test_col_ind, 3500, replace=False)\n",
    "    sample_test_users = np.random.choice(test_row_ind, 10000, replace=False)\n",
    "\n",
    "    sample_test_sparse_matrix = test_sparse_matrix[sample_test_users, :][:,sample_test_movies]\n",
    "    print('In sampled matrix, (users, movies) : ',[len(np.unique(i)) for i in sample_test_sparse_matrix.nonzero()])\n",
    "    print('Saving it into disk for furthur usage..')\n",
    "    # save it into disk\n",
    "    sparse.save_npz(\"sample/big/sample_test_sparse_matrix.npz\", sample_test_sparse_matrix)\n",
    "    print('Done..\\n')\n",
    "\n",
    "\n",
    "print(datetime.now() - start)"
   ]
  },
  {
   "cell_type": "markdown",
   "metadata": {},
   "source": [
    " "
   ]
  },
  {
   "cell_type": "markdown",
   "metadata": {},
   "source": [
    " "
   ]
  },
  {
   "cell_type": "markdown",
   "metadata": {},
   "source": [
    " "
   ]
  },
  {
   "cell_type": "markdown",
   "metadata": {},
   "source": [
    " "
   ]
  },
  {
   "cell_type": "markdown",
   "metadata": {},
   "source": [
    " "
   ]
  },
  {
   "cell_type": "markdown",
   "metadata": {},
   "source": [
    " "
   ]
  },
  {
   "cell_type": "markdown",
   "metadata": {},
   "source": [
    " "
   ]
  },
  {
   "cell_type": "markdown",
   "metadata": {},
   "source": [
    " "
   ]
  },
  {
   "cell_type": "markdown",
   "metadata": {},
   "source": [
    " "
   ]
  },
  {
   "cell_type": "markdown",
   "metadata": {},
   "source": [
    " "
   ]
  },
  {
   "cell_type": "markdown",
   "metadata": {},
   "source": [
    " "
   ]
  },
  {
   "cell_type": "markdown",
   "metadata": {},
   "source": [
    "# Computing Average Ratings (from Train data)"
   ]
  },
  {
   "cell_type": "code",
   "execution_count": 123,
   "metadata": {},
   "outputs": [],
   "source": [
    "averages = dict()"
   ]
  },
  {
   "cell_type": "code",
   "execution_count": 124,
   "metadata": {},
   "outputs": [],
   "source": [
    "# Boolean matrix of ratings ( whether a user rated that movie or not)\n",
    "is_rated = sample_train_sparse_matrix!=0"
   ]
  },
  {
   "cell_type": "code",
   "execution_count": 125,
   "metadata": {},
   "outputs": [
    {
     "data": {
      "text/plain": [
       "{'global': 3.568888733469234}"
      ]
     },
     "execution_count": 125,
     "metadata": {},
     "output_type": "execute_result"
    }
   ],
   "source": [
    "# get the global average of ratings in our train set.\n",
    "global_average = sample_train_sparse_matrix.sum()/sample_train_sparse_matrix.count_nonzero()\n",
    "averages['global'] = global_average\n",
    "averages"
   ]
  },
  {
   "cell_type": "markdown",
   "metadata": {},
   "source": [
    "### User averages"
   ]
  },
  {
   "cell_type": "code",
   "execution_count": 126,
   "metadata": {},
   "outputs": [
    {
     "data": {
      "text/plain": [
       "4.416666666666667"
      ]
     },
     "execution_count": 126,
     "metadata": {},
     "output_type": "execute_result"
    }
   ],
   "source": [
    "# get the user averages in dictionary (key: userid, value: avg rating)\n",
    "#_____________________________________________________________________#\n",
    "\n",
    "# \".A1\" is for converting Column_Matrix to 1-D numpy array \n",
    "sum_of_ratings_per_user = sample_train_sparse_matrix.sum(axis=1).A1\n",
    "# no of ratings that each user has given.\n",
    "no_of_ratings_per_user = is_rated.sum(axis=1).A1\n",
    "\n",
    "# creae a dictonary of users and their average ratigns..\n",
    "average_user_ratings = { i : sum_of_ratings_per_user[i]/no_of_ratings_per_user[i]  \n",
    "                                 for i in range(sample_train_sparse_matrix.shape[0]) \n",
    "                                    if no_of_ratings_per_user[i] !=0}\n",
    "\n",
    "# add user averages to th eaverages dictionary\n",
    "averages['user'] = average_user_ratings\n",
    "\n",
    "# test it..\n",
    "averages['user'][97]"
   ]
  },
  {
   "cell_type": "markdown",
   "metadata": {},
   "source": [
    "### Movie Averages"
   ]
  },
  {
   "cell_type": "code",
   "execution_count": 127,
   "metadata": {},
   "outputs": [
    {
     "data": {
      "text/plain": [
       "3.7222222222222223"
      ]
     },
     "execution_count": 127,
     "metadata": {},
     "output_type": "execute_result"
    }
   ],
   "source": [
    "# get the Movie Average ratings in dictionary (key: movieId, value: avg_rating)\n",
    "#_____________________________________________________________________#\n",
    "\n",
    "# sum of the ratings that a movie got by any user(who rated that movie..)\n",
    "sum_of_ratings_per_movie = sample_train_sparse_matrix.sum(axis=0).A1\n",
    "# no of ratings that a movie got.\n",
    "no_of_ratings_per_movie = is_rated.sum(axis=0).A1\n",
    "\n",
    "average_movie_ratings = {i : sum_of_ratings_per_movie[i]/ no_of_ratings_per_movie[i] \n",
    "                                for i in range(sample_train_sparse_matrix.shape[1])\n",
    "                                    if no_of_ratings_per_movie[i]!=0 }\n",
    "\n",
    "# add thie'per_movie' avg ratings to averages dictionary\n",
    "averages['movie'] = average_movie_ratings\n",
    "\n",
    "# test this dictionary\n",
    "averages['movie'][30]"
   ]
  },
  {
   "cell_type": "markdown",
   "metadata": {},
   "source": [
    " "
   ]
  },
  {
   "cell_type": "markdown",
   "metadata": {},
   "source": [
    " "
   ]
  },
  {
   "cell_type": "markdown",
   "metadata": {},
   "source": [
    "# Preparing Train and Test data for XGBoost"
   ]
  },
  {
   "cell_type": "code",
   "execution_count": 128,
   "metadata": {},
   "outputs": [],
   "source": [
    "from sklearn.metrics.pairwise import cosine_similarity"
   ]
  },
  {
   "cell_type": "code",
   "execution_count": 130,
   "metadata": {},
   "outputs": [],
   "source": [
    "sample_train_users, sample_train_movies, sample_train_ratings = sparse.find(sample_train_sparse_matrix)"
   ]
  },
  {
   "cell_type": "code",
   "execution_count": 131,
   "metadata": {},
   "outputs": [
    {
     "data": {
      "text/plain": [
       "(486139, 486139, 486139)"
      ]
     },
     "execution_count": 131,
     "metadata": {},
     "output_type": "execute_result"
    }
   ],
   "source": [
    "len((sample_train_users)), len(sample_train_movies), len(sample_train_ratings)"
   ]
  },
  {
   "cell_type": "markdown",
   "metadata": {},
   "source": [
    "## Preparing Train data "
   ]
  },
  {
   "cell_type": "code",
   "execution_count": 135,
   "metadata": {
    "scrolled": true
   },
   "outputs": [
    {
     "name": "stdout",
     "output_type": "stream",
     "text": [
      "preparing 486139 tuples for the dataset..\n",
      "\n",
      "Done for 10000 rows----- 0:08:03.887619\n",
      "Done for 20000 rows----- 0:15:58.535663\n",
      "Done for 30000 rows----- 0:23:54.509861\n",
      "Done for 40000 rows----- 0:31:53.502397\n",
      "Done for 50000 rows----- 0:39:41.475544\n",
      "Done for 60000 rows----- 0:47:28.208205\n",
      "Done for 70000 rows----- 0:55:15.760737\n",
      "Done for 80000 rows----- 1:03:12.795898\n",
      "Done for 90000 rows----- 1:11:14.229762\n",
      "Done for 100000 rows----- 1:19:13.871468\n",
      "Done for 110000 rows----- 1:27:10.819626\n",
      "Done for 120000 rows----- 1:34:58.287869\n",
      "Done for 130000 rows----- 1:42:50.616603\n",
      "Done for 140000 rows----- 1:50:47.326196\n",
      "Done for 150000 rows----- 1:58:44.850418\n",
      "Done for 160000 rows----- 2:06:36.060288\n",
      "Done for 170000 rows----- 2:14:43.438436\n",
      "Done for 180000 rows----- 2:23:00.415882\n",
      "Done for 190000 rows----- 2:31:18.221799\n",
      "Done for 200000 rows----- 2:39:32.282568\n",
      "Done for 210000 rows----- 2:47:48.309580\n",
      "Done for 220000 rows----- 2:56:06.151247\n",
      "Done for 230000 rows----- 3:04:30.412961\n",
      "Done for 240000 rows----- 3:12:48.619998\n",
      "Done for 250000 rows----- 3:21:03.393227\n",
      "Done for 260000 rows----- 3:29:21.525029\n",
      "Done for 270000 rows----- 3:37:39.721762\n",
      "Done for 280000 rows----- 3:45:54.738170\n",
      "Done for 290000 rows----- 3:54:10.115237\n",
      "Done for 300000 rows----- 4:02:30.631196\n",
      "Done for 310000 rows----- 4:10:49.047300\n",
      "Done for 320000 rows----- 4:19:13.976089\n",
      "Done for 330000 rows----- 4:27:37.304085\n",
      "Done for 340000 rows----- 4:35:58.061818\n",
      "Done for 350000 rows----- 4:44:16.225785\n",
      "Done for 360000 rows----- 4:52:31.923895\n",
      "Done for 370000 rows----- 5:00:50.465181\n",
      "Done for 380000 rows----- 5:09:08.175021\n",
      "Done for 390000 rows----- 5:17:18.992430\n",
      "Done for 400000 rows----- 5:25:29.817594\n",
      "Done for 410000 rows----- 5:33:41.755607\n",
      "Done for 420000 rows----- 5:41:57.715335\n",
      "Done for 430000 rows----- 5:50:10.699747\n",
      "Done for 440000 rows----- 5:58:21.382829\n",
      "Done for 450000 rows----- 6:06:37.133218\n",
      "Done for 460000 rows----- 6:14:47.852215\n",
      "Done for 470000 rows----- 6:22:53.192760\n",
      "Done for 480000 rows----- 6:30:59.814284\n",
      "6:35:54.066816\n"
     ]
    }
   ],
   "source": [
    "start = datetime.now()\n",
    "print('preparing {} tuples for the dataset..\\n'.format(len(sample_train_ratings)))\n",
    "with open('sample/big/reg_train.csv', mode='a') as reg_data_file:\n",
    "    count = 0\n",
    "    for (user, movie, rating)  in zip(sample_train_users, sample_train_movies, sample_train_ratings):\n",
    "        st = datetime.now()\n",
    "    #     print(user, movie)    \n",
    "        #--------------------- Ratings of \"movie\" by similar users of \"user\" ---------------------\n",
    "        # compute the similar Users of the \"user\"        \n",
    "        user_sim = cosine_similarity(sample_train_sparse_matrix[user], sample_train_sparse_matrix).ravel()\n",
    "        top_sim_users = user_sim.argsort()[::-1][1:] # we are ignoring 'The User' from its similar users.\n",
    "        # get the ratings of most similar users for this movie\n",
    "        top_ratings = sample_train_sparse_matrix[top_sim_users, movie].toarray().ravel()\n",
    "        # we will make it's length \"5\" by adding movie averages to .\n",
    "        top_sim_users_ratings = list(top_ratings[top_ratings != 0][:5])\n",
    "        top_sim_users_ratings.extend([averages['movie'][movie]]*(5 - len(top_sim_users_ratings)))\n",
    "    #     print(top_sim_users_ratings, end=\" \")    \n",
    "\n",
    "\n",
    "        #--------------------- Ratings by \"user\"  to similar movies of \"movie\" ---------------------\n",
    "        # compute the similar movies of the \"movie\"        \n",
    "        movie_sim = cosine_similarity(sample_train_sparse_matrix[:,movie].T, sample_train_sparse_matrix.T).ravel()\n",
    "        top_sim_movies = movie_sim.argsort()[::-1][1:] # we are ignoring 'The User' from its similar users.\n",
    "        # get the ratings of most similar movie rated by this user..\n",
    "        top_ratings = sample_train_sparse_matrix[user, top_sim_movies].toarray().ravel()\n",
    "        # we will make it's length \"5\" by adding user averages to.\n",
    "        top_sim_movies_ratings = list(top_ratings[top_ratings != 0][:5])\n",
    "        top_sim_movies_ratings.extend([averages['user'][user]]*(5-len(top_sim_movies_ratings))) \n",
    "    #     print(top_sim_movies_ratings, end=\" : -- \")\n",
    "\n",
    "        #-----------------prepare the row to be stores in a file-----------------#\n",
    "        row = list()\n",
    "        row.append(averages['global']) # first feature\n",
    "        # next 5 features are similar_users \"movie\" ratings\n",
    "        row.extend(top_sim_users_ratings)\n",
    "        # next 5 features are \"user\" ratings for similar_movies\n",
    "        row.extend(top_sim_movies_ratings)\n",
    "        # Avg_user rating\n",
    "        row.append(averages['user'][user])\n",
    "        # Avg_movie rating\n",
    "        row.append(averages['movie'][movie])\n",
    "        \n",
    "        # finalley, The actual Rating of this user-movie pair...\n",
    "        row.append(rating)\n",
    "        count = count + 1\n",
    "    \n",
    "        # add rows to the file opened..\n",
    "        reg_data_file.write(','.join(map(str, row)))\n",
    "        reg_data_file.write('\\n')        \n",
    "        if (count)%10000 == 0:\n",
    "            # print(','.join(map(str, row)))\n",
    "            print(\"Done for {} rows----- {}\".format(count, datetime.now() - start))\n",
    "\n",
    "    \n",
    "print(datetime.now() - start)"
   ]
  },
  {
   "cell_type": "markdown",
   "metadata": {},
   "source": [
    "## Preparing Test data"
   ]
  },
  {
   "cell_type": "code",
   "execution_count": 152,
   "metadata": {},
   "outputs": [],
   "source": [
    "sample_test_users, sample_test_movies, sample_test_ratings = sparse.find(sample_test_sparse_matrix)"
   ]
  },
  {
   "cell_type": "code",
   "execution_count": 154,
   "metadata": {},
   "outputs": [
    {
     "data": {
      "text/plain": [
       "(110403, 110403, 110403)"
      ]
     },
     "execution_count": 154,
     "metadata": {},
     "output_type": "execute_result"
    }
   ],
   "source": [
    "len(sample_test_users), len(sample_test_movies), len(sample_test_ratings)"
   ]
  },
  {
   "cell_type": "code",
   "execution_count": 157,
   "metadata": {
    "scrolled": true
   },
   "outputs": [
    {
     "name": "stdout",
     "output_type": "stream",
     "text": [
      "preparing 110403 tuples for the dataset..\n",
      "\n",
      "Done for 5000 rows----- 0:00:47.641956\n",
      "Done for 10000 rows----- 0:01:37.213664\n",
      "Done for 15000 rows----- 0:02:27.491132\n",
      "Done for 20000 rows----- 0:03:17.163393\n",
      "Done for 25000 rows----- 0:04:07.150655\n",
      "Done for 30000 rows----- 0:04:57.326758\n",
      "Done for 35000 rows----- 0:05:47.083802\n",
      "Done for 40000 rows----- 0:06:37.829753\n",
      "Done for 45000 rows----- 0:07:27.659082\n",
      "Done for 50000 rows----- 0:08:17.933582\n",
      "Done for 55000 rows----- 0:09:08.228947\n",
      "Done for 60000 rows----- 0:09:58.370452\n",
      "Done for 65000 rows----- 0:10:48.477590\n",
      "Done for 70000 rows----- 0:11:38.465279\n",
      "Done for 75000 rows----- 0:12:28.649760\n",
      "Done for 80000 rows----- 0:13:18.481430\n",
      "Done for 85000 rows----- 0:14:08.208188\n",
      "Done for 90000 rows----- 0:14:57.167112\n",
      "Done for 95000 rows----- 0:15:45.948180\n",
      "Done for 100000 rows----- 0:16:35.284533\n",
      "Done for 105000 rows----- 0:17:22.691259\n",
      "Done for 110000 rows----- 0:18:08.849243\n",
      " 0:18:12.642936\n",
      "\n",
      "No. of cold start problems handled : 54799\n"
     ]
    }
   ],
   "source": [
    "start = datetime.now()\n",
    "cold_start_count = 0\n",
    "print('preparing {} tuples for the dataset..\\n'.format(len(sample_test_ratings)))\n",
    "with open('sample/big/reg_test.csv', mode='a') as reg_data_file:\n",
    "    count = 0 \n",
    "    for (user, movie, rating)  in zip(sample_test_users, sample_test_movies, sample_test_ratings):\n",
    "        st = datetime.now()\n",
    "\n",
    "    #--------------------- Ratings of \"movie\" by similar users of \"user\" ---------------------\n",
    "        #print(user, movie)\n",
    "        try:\n",
    "            # compute the similar Users of the \"user\"        \n",
    "            user_sim = cosine_similarity(sample_test_sparse_matrix[user], sample_test_sparse_matrix).ravel()\n",
    "            top_sim_users = user_sim.argsort()[::-1][1:] # we are ignoring 'The User' from its similar users.\n",
    "            # get the ratings of most similar users for this movie\n",
    "            top_ratings = sample_test_sparse_matrix[top_sim_users, movie].toarray().ravel()\n",
    "            # we will make it's length \"5\" by adding movie averages to .\n",
    "            top_sim_users_ratings = list(top_ratings[top_ratings != 0][:5])\n",
    "            top_sim_users_ratings.extend([averages['movie'][movie]]*(5 - len(top_sim_users_ratings)))\n",
    "            #print(top_sim_users_ratings, end=\"--\")\n",
    "                \n",
    "        except KeyError:\n",
    "            # It is a new User or new Movie or there are no ratings for given user for top similar movies...\n",
    "            ########## Cold STart Problem ##########\n",
    "            cold_start_count = cold_start_count + 1\n",
    "            top_sim_users_ratings.extend([averages['global']]*(5 - len(top_sim_users_ratings)))\n",
    "            #print(top_sim_users_ratings)\n",
    "        except:\n",
    "            # we just want KeyErrors to be resolved. Not every Exception...\n",
    "            raise\n",
    "\n",
    "    \n",
    "    \n",
    "        #--------------------- Ratings by \"user\"  to similar movies of \"movie\" ---------------------\n",
    "        try:\n",
    "            # compute the similar movies of the \"movie\"        \n",
    "            movie_sim = cosine_similarity(sample_test_sparse_matrix[:,movie].T, sample_test_sparse_matrix.T).ravel()\n",
    "            top_sim_movies = movie_sim.argsort()[::-1][1:] # we are ignoring 'The User' from its similar users.\n",
    "            # get the ratings of most similar movie rated by this user..\n",
    "            top_ratings = sample_test_sparse_matrix[user, top_sim_movies].toarray().ravel()\n",
    "            # we will make it's length \"5\" by adding user averages to.\n",
    "            top_sim_movies_ratings = list(top_ratings[top_ratings != 0][:5])\n",
    "            top_sim_movies_ratings.extend([averages['user'][user]]*(5-len(top_sim_movies_ratings))) \n",
    "            #print(top_sim_movies_ratings)\n",
    "        except KeyError:\n",
    "            cold_start_count = cold_start_count + 1\n",
    "            #print(top_sim_movies_ratings, end=\" : -- \")\n",
    "            top_sim_movies_ratings.extend([averages['global']]*(5-len(top_sim_movies_ratings)))\n",
    "            #print(top_sim_movies_ratings)\n",
    "        except :\n",
    "            raise\n",
    "\n",
    "        #-----------------prepare the row to be stores in a file-----------------#\n",
    "        row = list()\n",
    "        row.append(averages['global']) # first feature\n",
    "        #print(row)\n",
    "        # next 5 features are similar_users \"movie\" ratings\n",
    "        row.extend(top_sim_users_ratings)\n",
    "        #print(row)\n",
    "        # next 5 features are \"user\" ratings for similar_movies\n",
    "        row.extend(top_sim_movies_ratings)\n",
    "        #print(row)\n",
    "        # Avg_user rating\n",
    "        try:\n",
    "            row.append(averages['user'][user])\n",
    "        except KeyError:\n",
    "            row.append(averages['global'])\n",
    "        except:\n",
    "            raise\n",
    "        #print(row)\n",
    "        # Avg_movie rating\n",
    "        try:\n",
    "            row.append(averages['movie'][movie])\n",
    "        except KeyError:\n",
    "            row.append(averages['global'])\n",
    "        except:\n",
    "            raise\n",
    "        #print(row)\n",
    "        # finalley, The actual Rating of this user-movie pair...\n",
    "        row.append(rating)\n",
    "        #print(row)\n",
    "        count = count + 1\n",
    "    \n",
    "        # add rows to the file opened..\n",
    "        reg_data_file.write(','.join(map(str, row)))\n",
    "        #print(','.join(map(str, row)))\n",
    "        reg_data_file.write('\\n')        \n",
    "        if (count)%5000 == 0:\n",
    "            #print(','.join(map(str, row)))\n",
    "            print(\"Done for {} rows----- {}\".format(count, datetime.now() - start))\n",
    "print(\"\",datetime.now() - start)\n",
    "print(\"\\nNo. of cold start problems handled :\", cold_start_count)"
   ]
  },
  {
   "cell_type": "markdown",
   "metadata": {},
   "source": [
    "#### Percentage if Cold Start Cases handled"
   ]
  },
  {
   "cell_type": "code",
   "execution_count": 158,
   "metadata": {
    "scrolled": true
   },
   "outputs": [
    {
     "name": "stdout",
     "output_type": "stream",
     "text": [
      "Cold Start Cases : 49.635426573553254%\n"
     ]
    }
   ],
   "source": [
    "print(\"Cold Start Cases : {}%\".format((cold_start_count/len(sample_test_ratings)) * 100 ))"
   ]
  },
  {
   "cell_type": "markdown",
   "metadata": {},
   "source": [
    " \n",
    " "
   ]
  },
  {
   "cell_type": "markdown",
   "metadata": {},
   "source": [
    " ## Reading from the file to make a dataframe"
   ]
  },
  {
   "cell_type": "code",
   "execution_count": 136,
   "metadata": {},
   "outputs": [
    {
     "data": {
      "text/html": [
       "<div>\n",
       "<style scoped>\n",
       "    .dataframe tbody tr th:only-of-type {\n",
       "        vertical-align: middle;\n",
       "    }\n",
       "\n",
       "    .dataframe tbody tr th {\n",
       "        vertical-align: top;\n",
       "    }\n",
       "\n",
       "    .dataframe thead th {\n",
       "        text-align: right;\n",
       "    }\n",
       "</style>\n",
       "<table border=\"1\" class=\"dataframe\">\n",
       "  <thead>\n",
       "    <tr style=\"text-align: right;\">\n",
       "      <th></th>\n",
       "      <th>0</th>\n",
       "      <th>1</th>\n",
       "      <th>2</th>\n",
       "      <th>3</th>\n",
       "      <th>4</th>\n",
       "      <th>5</th>\n",
       "      <th>6</th>\n",
       "      <th>7</th>\n",
       "      <th>8</th>\n",
       "      <th>9</th>\n",
       "      <th>10</th>\n",
       "      <th>11</th>\n",
       "      <th>12</th>\n",
       "      <th>13</th>\n",
       "    </tr>\n",
       "  </thead>\n",
       "  <tbody>\n",
       "    <tr>\n",
       "      <th>0</th>\n",
       "      <td>3.624457</td>\n",
       "      <td>1.0</td>\n",
       "      <td>2.0</td>\n",
       "      <td>2.0</td>\n",
       "      <td>2.0</td>\n",
       "      <td>2.0</td>\n",
       "      <td>3.0</td>\n",
       "      <td>4.0</td>\n",
       "      <td>4.0</td>\n",
       "      <td>2.0</td>\n",
       "      <td>3.0</td>\n",
       "      <td>3.895522</td>\n",
       "      <td>2.00</td>\n",
       "      <td>3.0</td>\n",
       "    </tr>\n",
       "    <tr>\n",
       "      <th>1</th>\n",
       "      <td>3.624457</td>\n",
       "      <td>3.0</td>\n",
       "      <td>2.0</td>\n",
       "      <td>2.0</td>\n",
       "      <td>2.0</td>\n",
       "      <td>2.0</td>\n",
       "      <td>1.0</td>\n",
       "      <td>4.0</td>\n",
       "      <td>4.0</td>\n",
       "      <td>5.0</td>\n",
       "      <td>4.0</td>\n",
       "      <td>3.238636</td>\n",
       "      <td>2.00</td>\n",
       "      <td>1.0</td>\n",
       "    </tr>\n",
       "    <tr>\n",
       "      <th>2</th>\n",
       "      <td>3.624457</td>\n",
       "      <td>3.0</td>\n",
       "      <td>3.0</td>\n",
       "      <td>4.0</td>\n",
       "      <td>4.0</td>\n",
       "      <td>4.0</td>\n",
       "      <td>2.0</td>\n",
       "      <td>5.0</td>\n",
       "      <td>5.0</td>\n",
       "      <td>5.0</td>\n",
       "      <td>4.0</td>\n",
       "      <td>3.761905</td>\n",
       "      <td>3.35</td>\n",
       "      <td>3.0</td>\n",
       "    </tr>\n",
       "    <tr>\n",
       "      <th>3</th>\n",
       "      <td>3.624457</td>\n",
       "      <td>3.0</td>\n",
       "      <td>4.0</td>\n",
       "      <td>3.0</td>\n",
       "      <td>3.0</td>\n",
       "      <td>2.0</td>\n",
       "      <td>4.0</td>\n",
       "      <td>4.0</td>\n",
       "      <td>4.0</td>\n",
       "      <td>4.0</td>\n",
       "      <td>4.0</td>\n",
       "      <td>4.090909</td>\n",
       "      <td>3.35</td>\n",
       "      <td>5.0</td>\n",
       "    </tr>\n",
       "    <tr>\n",
       "      <th>4</th>\n",
       "      <td>3.624457</td>\n",
       "      <td>3.0</td>\n",
       "      <td>4.0</td>\n",
       "      <td>4.0</td>\n",
       "      <td>3.0</td>\n",
       "      <td>3.0</td>\n",
       "      <td>3.0</td>\n",
       "      <td>2.0</td>\n",
       "      <td>3.0</td>\n",
       "      <td>5.0</td>\n",
       "      <td>3.0</td>\n",
       "      <td>3.172414</td>\n",
       "      <td>3.35</td>\n",
       "      <td>3.0</td>\n",
       "    </tr>\n",
       "  </tbody>\n",
       "</table>\n",
       "</div>"
      ],
      "text/plain": [
       "         0    1    2    3    4    5    6    7    8    9    10        11    12  \\\n",
       "0  3.624457  1.0  2.0  2.0  2.0  2.0  3.0  4.0  4.0  2.0  3.0  3.895522  2.00   \n",
       "1  3.624457  3.0  2.0  2.0  2.0  2.0  1.0  4.0  4.0  5.0  4.0  3.238636  2.00   \n",
       "2  3.624457  3.0  3.0  4.0  4.0  4.0  2.0  5.0  5.0  5.0  4.0  3.761905  3.35   \n",
       "3  3.624457  3.0  4.0  3.0  3.0  2.0  4.0  4.0  4.0  4.0  4.0  4.090909  3.35   \n",
       "4  3.624457  3.0  4.0  4.0  3.0  3.0  3.0  2.0  3.0  5.0  3.0  3.172414  3.35   \n",
       "\n",
       "    13  \n",
       "0  3.0  \n",
       "1  1.0  \n",
       "2  3.0  \n",
       "3  5.0  \n",
       "4  3.0  "
      ]
     },
     "execution_count": 136,
     "metadata": {},
     "output_type": "execute_result"
    }
   ],
   "source": [
    "reg_train = pd.read_csv('sample/reg_train.csv', header=None)\n",
    "reg_train.head()"
   ]
  },
  {
   "cell_type": "code",
   "execution_count": 137,
   "metadata": {},
   "outputs": [
    {
     "data": {
      "text/plain": [
       "(126228, 14)"
      ]
     },
     "execution_count": 137,
     "metadata": {},
     "output_type": "execute_result"
    }
   ],
   "source": [
    "reg_train.shape"
   ]
  },
  {
   "cell_type": "markdown",
   "metadata": {},
   "source": [
    "# XGBoost Regressor"
   ]
  },
  {
   "cell_type": "markdown",
   "metadata": {},
   "source": [
    "Install xgboost in windows : https://www.youtube.com/watch?v=k51sX_ApQYU "
   ]
  },
  {
   "cell_type": "code",
   "execution_count": 138,
   "metadata": {},
   "outputs": [],
   "source": [
    "import os\n",
    "\n",
    "mingw_path = 'C:\\\\Program Files\\\\mingw-w64\\\\x86_64-7.2.0-posix-seh-rt_v5-rev1\\\\mingw64\\\\bin'\n",
    "\n",
    "os.environ['PATH'] = mingw_path + ';' + os.environ['PATH']"
   ]
  },
  {
   "cell_type": "code",
   "execution_count": 139,
   "metadata": {},
   "outputs": [],
   "source": [
    "import xgboost as xgb"
   ]
  },
  {
   "cell_type": "code",
   "execution_count": 140,
   "metadata": {},
   "outputs": [],
   "source": [
    "reg_xgb = xgb.XGBRegressor(silent=False, n_jobs=10, random_state=15)"
   ]
  },
  {
   "cell_type": "code",
   "execution_count": 141,
   "metadata": {},
   "outputs": [],
   "source": [
    "x_train = reg_train.drop([13], axis=1)\n",
    "\n",
    "y_train = reg_train[13]"
   ]
  },
  {
   "cell_type": "code",
   "execution_count": 142,
   "metadata": {},
   "outputs": [],
   "source": [
    "start = datetime.now()"
   ]
  },
  {
   "cell_type": "code",
   "execution_count": 143,
   "metadata": {
    "scrolled": true
   },
   "outputs": [
    {
     "data": {
      "text/plain": [
       "XGBRegressor(base_score=0.5, booster='gbtree', colsample_bylevel=1,\n",
       "       colsample_bytree=1, gamma=0, learning_rate=0.1, max_delta_step=0,\n",
       "       max_depth=3, min_child_weight=1, missing=None, n_estimators=100,\n",
       "       n_jobs=10, nthread=None, objective='reg:linear', random_state=15,\n",
       "       reg_alpha=0, reg_lambda=1, scale_pos_weight=1, seed=None,\n",
       "       silent=False, subsample=1)"
      ]
     },
     "execution_count": 143,
     "metadata": {},
     "output_type": "execute_result"
    }
   ],
   "source": [
    "reg_xgb.fit(x_train, y_train, eval_metric = 'rmse')"
   ]
  },
  {
   "cell_type": "code",
   "execution_count": 144,
   "metadata": {},
   "outputs": [
    {
     "name": "stdout",
     "output_type": "stream",
     "text": [
      "0:00:00.980052\n"
     ]
    }
   ],
   "source": [
    "print(datetime.now() - start)"
   ]
  },
  {
   "cell_type": "code",
   "execution_count": 145,
   "metadata": {},
   "outputs": [
    {
     "name": "stdout",
     "output_type": "stream",
     "text": [
      "0:00:00.060093\n"
     ]
    }
   ],
   "source": [
    "start =datetime.now()\n",
    "y_train_pred = reg_xgb.predict(x_train)\n",
    "print(datetime.now()-start)"
   ]
  },
  {
   "cell_type": "code",
   "execution_count": 146,
   "metadata": {},
   "outputs": [],
   "source": [
    "from sklearn.metrics import mean_squared_error"
   ]
  },
  {
   "cell_type": "code",
   "execution_count": 147,
   "metadata": {},
   "outputs": [],
   "source": [
    "rmse_train = np.sqrt(mean_squared_error(y_train, y_train_pred))\n",
    "mape_train = np.mean(np.abs( (y_train.values - y_train_pred)/y_train.values )) * 100"
   ]
  },
  {
   "cell_type": "code",
   "execution_count": 148,
   "metadata": {
    "scrolled": true
   },
   "outputs": [
    {
     "data": {
      "text/plain": [
       "(0.8473548013960125, 25.039259953928468)"
      ]
     },
     "execution_count": 148,
     "metadata": {},
     "output_type": "execute_result"
    }
   ],
   "source": [
    "rmse_train, mape_train"
   ]
  },
  {
   "cell_type": "code",
   "execution_count": 149,
   "metadata": {},
   "outputs": [
    {
     "data": {
      "text/plain": [
       "<matplotlib.axes._subplots.AxesSubplot at 0x208281b65c0>"
      ]
     },
     "execution_count": 149,
     "metadata": {},
     "output_type": "execute_result"
    }
   ],
   "source": [
    "xgb.plot_importance(reg_xgb)"
   ]
  },
  {
   "cell_type": "code",
   "execution_count": 150,
   "metadata": {},
   "outputs": [
    {
     "data": {
      "application/javascript": [
       "/* Put everything inside the global mpl namespace */\n",
       "window.mpl = {};\n",
       "\n",
       "\n",
       "mpl.get_websocket_type = function() {\n",
       "    if (typeof(WebSocket) !== 'undefined') {\n",
       "        return WebSocket;\n",
       "    } else if (typeof(MozWebSocket) !== 'undefined') {\n",
       "        return MozWebSocket;\n",
       "    } else {\n",
       "        alert('Your browser does not have WebSocket support.' +\n",
       "              'Please try Chrome, Safari or Firefox ≥ 6. ' +\n",
       "              'Firefox 4 and 5 are also supported but you ' +\n",
       "              'have to enable WebSockets in about:config.');\n",
       "    };\n",
       "}\n",
       "\n",
       "mpl.figure = function(figure_id, websocket, ondownload, parent_element) {\n",
       "    this.id = figure_id;\n",
       "\n",
       "    this.ws = websocket;\n",
       "\n",
       "    this.supports_binary = (this.ws.binaryType != undefined);\n",
       "\n",
       "    if (!this.supports_binary) {\n",
       "        var warnings = document.getElementById(\"mpl-warnings\");\n",
       "        if (warnings) {\n",
       "            warnings.style.display = 'block';\n",
       "            warnings.textContent = (\n",
       "                \"This browser does not support binary websocket messages. \" +\n",
       "                    \"Performance may be slow.\");\n",
       "        }\n",
       "    }\n",
       "\n",
       "    this.imageObj = new Image();\n",
       "\n",
       "    this.context = undefined;\n",
       "    this.message = undefined;\n",
       "    this.canvas = undefined;\n",
       "    this.rubberband_canvas = undefined;\n",
       "    this.rubberband_context = undefined;\n",
       "    this.format_dropdown = undefined;\n",
       "\n",
       "    this.image_mode = 'full';\n",
       "\n",
       "    this.root = $('<div/>');\n",
       "    this._root_extra_style(this.root)\n",
       "    this.root.attr('style', 'display: inline-block');\n",
       "\n",
       "    $(parent_element).append(this.root);\n",
       "\n",
       "    this._init_header(this);\n",
       "    this._init_canvas(this);\n",
       "    this._init_toolbar(this);\n",
       "\n",
       "    var fig = this;\n",
       "\n",
       "    this.waiting = false;\n",
       "\n",
       "    this.ws.onopen =  function () {\n",
       "            fig.send_message(\"supports_binary\", {value: fig.supports_binary});\n",
       "            fig.send_message(\"send_image_mode\", {});\n",
       "            if (mpl.ratio != 1) {\n",
       "                fig.send_message(\"set_dpi_ratio\", {'dpi_ratio': mpl.ratio});\n",
       "            }\n",
       "            fig.send_message(\"refresh\", {});\n",
       "        }\n",
       "\n",
       "    this.imageObj.onload = function() {\n",
       "            if (fig.image_mode == 'full') {\n",
       "                // Full images could contain transparency (where diff images\n",
       "                // almost always do), so we need to clear the canvas so that\n",
       "                // there is no ghosting.\n",
       "                fig.context.clearRect(0, 0, fig.canvas.width, fig.canvas.height);\n",
       "            }\n",
       "            fig.context.drawImage(fig.imageObj, 0, 0);\n",
       "        };\n",
       "\n",
       "    this.imageObj.onunload = function() {\n",
       "        fig.ws.close();\n",
       "    }\n",
       "\n",
       "    this.ws.onmessage = this._make_on_message_function(this);\n",
       "\n",
       "    this.ondownload = ondownload;\n",
       "}\n",
       "\n",
       "mpl.figure.prototype._init_header = function() {\n",
       "    var titlebar = $(\n",
       "        '<div class=\"ui-dialog-titlebar ui-widget-header ui-corner-all ' +\n",
       "        'ui-helper-clearfix\"/>');\n",
       "    var titletext = $(\n",
       "        '<div class=\"ui-dialog-title\" style=\"width: 100%; ' +\n",
       "        'text-align: center; padding: 3px;\"/>');\n",
       "    titlebar.append(titletext)\n",
       "    this.root.append(titlebar);\n",
       "    this.header = titletext[0];\n",
       "}\n",
       "\n",
       "\n",
       "\n",
       "mpl.figure.prototype._canvas_extra_style = function(canvas_div) {\n",
       "\n",
       "}\n",
       "\n",
       "\n",
       "mpl.figure.prototype._root_extra_style = function(canvas_div) {\n",
       "\n",
       "}\n",
       "\n",
       "mpl.figure.prototype._init_canvas = function() {\n",
       "    var fig = this;\n",
       "\n",
       "    var canvas_div = $('<div/>');\n",
       "\n",
       "    canvas_div.attr('style', 'position: relative; clear: both; outline: 0');\n",
       "\n",
       "    function canvas_keyboard_event(event) {\n",
       "        return fig.key_event(event, event['data']);\n",
       "    }\n",
       "\n",
       "    canvas_div.keydown('key_press', canvas_keyboard_event);\n",
       "    canvas_div.keyup('key_release', canvas_keyboard_event);\n",
       "    this.canvas_div = canvas_div\n",
       "    this._canvas_extra_style(canvas_div)\n",
       "    this.root.append(canvas_div);\n",
       "\n",
       "    var canvas = $('<canvas/>');\n",
       "    canvas.addClass('mpl-canvas');\n",
       "    canvas.attr('style', \"left: 0; top: 0; z-index: 0; outline: 0\")\n",
       "\n",
       "    this.canvas = canvas[0];\n",
       "    this.context = canvas[0].getContext(\"2d\");\n",
       "\n",
       "    var backingStore = this.context.backingStorePixelRatio ||\n",
       "\tthis.context.webkitBackingStorePixelRatio ||\n",
       "\tthis.context.mozBackingStorePixelRatio ||\n",
       "\tthis.context.msBackingStorePixelRatio ||\n",
       "\tthis.context.oBackingStorePixelRatio ||\n",
       "\tthis.context.backingStorePixelRatio || 1;\n",
       "\n",
       "    mpl.ratio = (window.devicePixelRatio || 1) / backingStore;\n",
       "\n",
       "    var rubberband = $('<canvas/>');\n",
       "    rubberband.attr('style', \"position: absolute; left: 0; top: 0; z-index: 1;\")\n",
       "\n",
       "    var pass_mouse_events = true;\n",
       "\n",
       "    canvas_div.resizable({\n",
       "        start: function(event, ui) {\n",
       "            pass_mouse_events = false;\n",
       "        },\n",
       "        resize: function(event, ui) {\n",
       "            fig.request_resize(ui.size.width, ui.size.height);\n",
       "        },\n",
       "        stop: function(event, ui) {\n",
       "            pass_mouse_events = true;\n",
       "            fig.request_resize(ui.size.width, ui.size.height);\n",
       "        },\n",
       "    });\n",
       "\n",
       "    function mouse_event_fn(event) {\n",
       "        if (pass_mouse_events)\n",
       "            return fig.mouse_event(event, event['data']);\n",
       "    }\n",
       "\n",
       "    rubberband.mousedown('button_press', mouse_event_fn);\n",
       "    rubberband.mouseup('button_release', mouse_event_fn);\n",
       "    // Throttle sequential mouse events to 1 every 20ms.\n",
       "    rubberband.mousemove('motion_notify', mouse_event_fn);\n",
       "\n",
       "    rubberband.mouseenter('figure_enter', mouse_event_fn);\n",
       "    rubberband.mouseleave('figure_leave', mouse_event_fn);\n",
       "\n",
       "    canvas_div.on(\"wheel\", function (event) {\n",
       "        event = event.originalEvent;\n",
       "        event['data'] = 'scroll'\n",
       "        if (event.deltaY < 0) {\n",
       "            event.step = 1;\n",
       "        } else {\n",
       "            event.step = -1;\n",
       "        }\n",
       "        mouse_event_fn(event);\n",
       "    });\n",
       "\n",
       "    canvas_div.append(canvas);\n",
       "    canvas_div.append(rubberband);\n",
       "\n",
       "    this.rubberband = rubberband;\n",
       "    this.rubberband_canvas = rubberband[0];\n",
       "    this.rubberband_context = rubberband[0].getContext(\"2d\");\n",
       "    this.rubberband_context.strokeStyle = \"#000000\";\n",
       "\n",
       "    this._resize_canvas = function(width, height) {\n",
       "        // Keep the size of the canvas, canvas container, and rubber band\n",
       "        // canvas in synch.\n",
       "        canvas_div.css('width', width)\n",
       "        canvas_div.css('height', height)\n",
       "\n",
       "        canvas.attr('width', width * mpl.ratio);\n",
       "        canvas.attr('height', height * mpl.ratio);\n",
       "        canvas.attr('style', 'width: ' + width + 'px; height: ' + height + 'px;');\n",
       "\n",
       "        rubberband.attr('width', width);\n",
       "        rubberband.attr('height', height);\n",
       "    }\n",
       "\n",
       "    // Set the figure to an initial 600x600px, this will subsequently be updated\n",
       "    // upon first draw.\n",
       "    this._resize_canvas(600, 600);\n",
       "\n",
       "    // Disable right mouse context menu.\n",
       "    $(this.rubberband_canvas).bind(\"contextmenu\",function(e){\n",
       "        return false;\n",
       "    });\n",
       "\n",
       "    function set_focus () {\n",
       "        canvas.focus();\n",
       "        canvas_div.focus();\n",
       "    }\n",
       "\n",
       "    window.setTimeout(set_focus, 100);\n",
       "}\n",
       "\n",
       "mpl.figure.prototype._init_toolbar = function() {\n",
       "    var fig = this;\n",
       "\n",
       "    var nav_element = $('<div/>')\n",
       "    nav_element.attr('style', 'width: 100%');\n",
       "    this.root.append(nav_element);\n",
       "\n",
       "    // Define a callback function for later on.\n",
       "    function toolbar_event(event) {\n",
       "        return fig.toolbar_button_onclick(event['data']);\n",
       "    }\n",
       "    function toolbar_mouse_event(event) {\n",
       "        return fig.toolbar_button_onmouseover(event['data']);\n",
       "    }\n",
       "\n",
       "    for(var toolbar_ind in mpl.toolbar_items) {\n",
       "        var name = mpl.toolbar_items[toolbar_ind][0];\n",
       "        var tooltip = mpl.toolbar_items[toolbar_ind][1];\n",
       "        var image = mpl.toolbar_items[toolbar_ind][2];\n",
       "        var method_name = mpl.toolbar_items[toolbar_ind][3];\n",
       "\n",
       "        if (!name) {\n",
       "            // put a spacer in here.\n",
       "            continue;\n",
       "        }\n",
       "        var button = $('<button/>');\n",
       "        button.addClass('ui-button ui-widget ui-state-default ui-corner-all ' +\n",
       "                        'ui-button-icon-only');\n",
       "        button.attr('role', 'button');\n",
       "        button.attr('aria-disabled', 'false');\n",
       "        button.click(method_name, toolbar_event);\n",
       "        button.mouseover(tooltip, toolbar_mouse_event);\n",
       "\n",
       "        var icon_img = $('<span/>');\n",
       "        icon_img.addClass('ui-button-icon-primary ui-icon');\n",
       "        icon_img.addClass(image);\n",
       "        icon_img.addClass('ui-corner-all');\n",
       "\n",
       "        var tooltip_span = $('<span/>');\n",
       "        tooltip_span.addClass('ui-button-text');\n",
       "        tooltip_span.html(tooltip);\n",
       "\n",
       "        button.append(icon_img);\n",
       "        button.append(tooltip_span);\n",
       "\n",
       "        nav_element.append(button);\n",
       "    }\n",
       "\n",
       "    var fmt_picker_span = $('<span/>');\n",
       "\n",
       "    var fmt_picker = $('<select/>');\n",
       "    fmt_picker.addClass('mpl-toolbar-option ui-widget ui-widget-content');\n",
       "    fmt_picker_span.append(fmt_picker);\n",
       "    nav_element.append(fmt_picker_span);\n",
       "    this.format_dropdown = fmt_picker[0];\n",
       "\n",
       "    for (var ind in mpl.extensions) {\n",
       "        var fmt = mpl.extensions[ind];\n",
       "        var option = $(\n",
       "            '<option/>', {selected: fmt === mpl.default_extension}).html(fmt);\n",
       "        fmt_picker.append(option)\n",
       "    }\n",
       "\n",
       "    // Add hover states to the ui-buttons\n",
       "    $( \".ui-button\" ).hover(\n",
       "        function() { $(this).addClass(\"ui-state-hover\");},\n",
       "        function() { $(this).removeClass(\"ui-state-hover\");}\n",
       "    );\n",
       "\n",
       "    var status_bar = $('<span class=\"mpl-message\"/>');\n",
       "    nav_element.append(status_bar);\n",
       "    this.message = status_bar[0];\n",
       "}\n",
       "\n",
       "mpl.figure.prototype.request_resize = function(x_pixels, y_pixels) {\n",
       "    // Request matplotlib to resize the figure. Matplotlib will then trigger a resize in the client,\n",
       "    // which will in turn request a refresh of the image.\n",
       "    this.send_message('resize', {'width': x_pixels, 'height': y_pixels});\n",
       "}\n",
       "\n",
       "mpl.figure.prototype.send_message = function(type, properties) {\n",
       "    properties['type'] = type;\n",
       "    properties['figure_id'] = this.id;\n",
       "    this.ws.send(JSON.stringify(properties));\n",
       "}\n",
       "\n",
       "mpl.figure.prototype.send_draw_message = function() {\n",
       "    if (!this.waiting) {\n",
       "        this.waiting = true;\n",
       "        this.ws.send(JSON.stringify({type: \"draw\", figure_id: this.id}));\n",
       "    }\n",
       "}\n",
       "\n",
       "\n",
       "mpl.figure.prototype.handle_save = function(fig, msg) {\n",
       "    var format_dropdown = fig.format_dropdown;\n",
       "    var format = format_dropdown.options[format_dropdown.selectedIndex].value;\n",
       "    fig.ondownload(fig, format);\n",
       "}\n",
       "\n",
       "\n",
       "mpl.figure.prototype.handle_resize = function(fig, msg) {\n",
       "    var size = msg['size'];\n",
       "    if (size[0] != fig.canvas.width || size[1] != fig.canvas.height) {\n",
       "        fig._resize_canvas(size[0], size[1]);\n",
       "        fig.send_message(\"refresh\", {});\n",
       "    };\n",
       "}\n",
       "\n",
       "mpl.figure.prototype.handle_rubberband = function(fig, msg) {\n",
       "    var x0 = msg['x0'] / mpl.ratio;\n",
       "    var y0 = (fig.canvas.height - msg['y0']) / mpl.ratio;\n",
       "    var x1 = msg['x1'] / mpl.ratio;\n",
       "    var y1 = (fig.canvas.height - msg['y1']) / mpl.ratio;\n",
       "    x0 = Math.floor(x0) + 0.5;\n",
       "    y0 = Math.floor(y0) + 0.5;\n",
       "    x1 = Math.floor(x1) + 0.5;\n",
       "    y1 = Math.floor(y1) + 0.5;\n",
       "    var min_x = Math.min(x0, x1);\n",
       "    var min_y = Math.min(y0, y1);\n",
       "    var width = Math.abs(x1 - x0);\n",
       "    var height = Math.abs(y1 - y0);\n",
       "\n",
       "    fig.rubberband_context.clearRect(\n",
       "        0, 0, fig.canvas.width, fig.canvas.height);\n",
       "\n",
       "    fig.rubberband_context.strokeRect(min_x, min_y, width, height);\n",
       "}\n",
       "\n",
       "mpl.figure.prototype.handle_figure_label = function(fig, msg) {\n",
       "    // Updates the figure title.\n",
       "    fig.header.textContent = msg['label'];\n",
       "}\n",
       "\n",
       "mpl.figure.prototype.handle_cursor = function(fig, msg) {\n",
       "    var cursor = msg['cursor'];\n",
       "    switch(cursor)\n",
       "    {\n",
       "    case 0:\n",
       "        cursor = 'pointer';\n",
       "        break;\n",
       "    case 1:\n",
       "        cursor = 'default';\n",
       "        break;\n",
       "    case 2:\n",
       "        cursor = 'crosshair';\n",
       "        break;\n",
       "    case 3:\n",
       "        cursor = 'move';\n",
       "        break;\n",
       "    }\n",
       "    fig.rubberband_canvas.style.cursor = cursor;\n",
       "}\n",
       "\n",
       "mpl.figure.prototype.handle_message = function(fig, msg) {\n",
       "    fig.message.textContent = msg['message'];\n",
       "}\n",
       "\n",
       "mpl.figure.prototype.handle_draw = function(fig, msg) {\n",
       "    // Request the server to send over a new figure.\n",
       "    fig.send_draw_message();\n",
       "}\n",
       "\n",
       "mpl.figure.prototype.handle_image_mode = function(fig, msg) {\n",
       "    fig.image_mode = msg['mode'];\n",
       "}\n",
       "\n",
       "mpl.figure.prototype.updated_canvas_event = function() {\n",
       "    // Called whenever the canvas gets updated.\n",
       "    this.send_message(\"ack\", {});\n",
       "}\n",
       "\n",
       "// A function to construct a web socket function for onmessage handling.\n",
       "// Called in the figure constructor.\n",
       "mpl.figure.prototype._make_on_message_function = function(fig) {\n",
       "    return function socket_on_message(evt) {\n",
       "        if (evt.data instanceof Blob) {\n",
       "            /* FIXME: We get \"Resource interpreted as Image but\n",
       "             * transferred with MIME type text/plain:\" errors on\n",
       "             * Chrome.  But how to set the MIME type?  It doesn't seem\n",
       "             * to be part of the websocket stream */\n",
       "            evt.data.type = \"image/png\";\n",
       "\n",
       "            /* Free the memory for the previous frames */\n",
       "            if (fig.imageObj.src) {\n",
       "                (window.URL || window.webkitURL).revokeObjectURL(\n",
       "                    fig.imageObj.src);\n",
       "            }\n",
       "\n",
       "            fig.imageObj.src = (window.URL || window.webkitURL).createObjectURL(\n",
       "                evt.data);\n",
       "            fig.updated_canvas_event();\n",
       "            fig.waiting = false;\n",
       "            return;\n",
       "        }\n",
       "        else if (typeof evt.data === 'string' && evt.data.slice(0, 21) == \"data:image/png;base64\") {\n",
       "            fig.imageObj.src = evt.data;\n",
       "            fig.updated_canvas_event();\n",
       "            fig.waiting = false;\n",
       "            return;\n",
       "        }\n",
       "\n",
       "        var msg = JSON.parse(evt.data);\n",
       "        var msg_type = msg['type'];\n",
       "\n",
       "        // Call the  \"handle_{type}\" callback, which takes\n",
       "        // the figure and JSON message as its only arguments.\n",
       "        try {\n",
       "            var callback = fig[\"handle_\" + msg_type];\n",
       "        } catch (e) {\n",
       "            console.log(\"No handler for the '\" + msg_type + \"' message type: \", msg);\n",
       "            return;\n",
       "        }\n",
       "\n",
       "        if (callback) {\n",
       "            try {\n",
       "                // console.log(\"Handling '\" + msg_type + \"' message: \", msg);\n",
       "                callback(fig, msg);\n",
       "            } catch (e) {\n",
       "                console.log(\"Exception inside the 'handler_\" + msg_type + \"' callback:\", e, e.stack, msg);\n",
       "            }\n",
       "        }\n",
       "    };\n",
       "}\n",
       "\n",
       "// from http://stackoverflow.com/questions/1114465/getting-mouse-location-in-canvas\n",
       "mpl.findpos = function(e) {\n",
       "    //this section is from http://www.quirksmode.org/js/events_properties.html\n",
       "    var targ;\n",
       "    if (!e)\n",
       "        e = window.event;\n",
       "    if (e.target)\n",
       "        targ = e.target;\n",
       "    else if (e.srcElement)\n",
       "        targ = e.srcElement;\n",
       "    if (targ.nodeType == 3) // defeat Safari bug\n",
       "        targ = targ.parentNode;\n",
       "\n",
       "    // jQuery normalizes the pageX and pageY\n",
       "    // pageX,Y are the mouse positions relative to the document\n",
       "    // offset() returns the position of the element relative to the document\n",
       "    var x = e.pageX - $(targ).offset().left;\n",
       "    var y = e.pageY - $(targ).offset().top;\n",
       "\n",
       "    return {\"x\": x, \"y\": y};\n",
       "};\n",
       "\n",
       "/*\n",
       " * return a copy of an object with only non-object keys\n",
       " * we need this to avoid circular references\n",
       " * http://stackoverflow.com/a/24161582/3208463\n",
       " */\n",
       "function simpleKeys (original) {\n",
       "  return Object.keys(original).reduce(function (obj, key) {\n",
       "    if (typeof original[key] !== 'object')\n",
       "        obj[key] = original[key]\n",
       "    return obj;\n",
       "  }, {});\n",
       "}\n",
       "\n",
       "mpl.figure.prototype.mouse_event = function(event, name) {\n",
       "    var canvas_pos = mpl.findpos(event)\n",
       "\n",
       "    if (name === 'button_press')\n",
       "    {\n",
       "        this.canvas.focus();\n",
       "        this.canvas_div.focus();\n",
       "    }\n",
       "\n",
       "    var x = canvas_pos.x * mpl.ratio;\n",
       "    var y = canvas_pos.y * mpl.ratio;\n",
       "\n",
       "    this.send_message(name, {x: x, y: y, button: event.button,\n",
       "                             step: event.step,\n",
       "                             guiEvent: simpleKeys(event)});\n",
       "\n",
       "    /* This prevents the web browser from automatically changing to\n",
       "     * the text insertion cursor when the button is pressed.  We want\n",
       "     * to control all of the cursor setting manually through the\n",
       "     * 'cursor' event from matplotlib */\n",
       "    event.preventDefault();\n",
       "    return false;\n",
       "}\n",
       "\n",
       "mpl.figure.prototype._key_event_extra = function(event, name) {\n",
       "    // Handle any extra behaviour associated with a key event\n",
       "}\n",
       "\n",
       "mpl.figure.prototype.key_event = function(event, name) {\n",
       "\n",
       "    // Prevent repeat events\n",
       "    if (name == 'key_press')\n",
       "    {\n",
       "        if (event.which === this._key)\n",
       "            return;\n",
       "        else\n",
       "            this._key = event.which;\n",
       "    }\n",
       "    if (name == 'key_release')\n",
       "        this._key = null;\n",
       "\n",
       "    var value = '';\n",
       "    if (event.ctrlKey && event.which != 17)\n",
       "        value += \"ctrl+\";\n",
       "    if (event.altKey && event.which != 18)\n",
       "        value += \"alt+\";\n",
       "    if (event.shiftKey && event.which != 16)\n",
       "        value += \"shift+\";\n",
       "\n",
       "    value += 'k';\n",
       "    value += event.which.toString();\n",
       "\n",
       "    this._key_event_extra(event, name);\n",
       "\n",
       "    this.send_message(name, {key: value,\n",
       "                             guiEvent: simpleKeys(event)});\n",
       "    return false;\n",
       "}\n",
       "\n",
       "mpl.figure.prototype.toolbar_button_onclick = function(name) {\n",
       "    if (name == 'download') {\n",
       "        this.handle_save(this, null);\n",
       "    } else {\n",
       "        this.send_message(\"toolbar_button\", {name: name});\n",
       "    }\n",
       "};\n",
       "\n",
       "mpl.figure.prototype.toolbar_button_onmouseover = function(tooltip) {\n",
       "    this.message.textContent = tooltip;\n",
       "};\n",
       "mpl.toolbar_items = [[\"Home\", \"Reset original view\", \"fa fa-home icon-home\", \"home\"], [\"Back\", \"Back to  previous view\", \"fa fa-arrow-left icon-arrow-left\", \"back\"], [\"Forward\", \"Forward to next view\", \"fa fa-arrow-right icon-arrow-right\", \"forward\"], [\"\", \"\", \"\", \"\"], [\"Pan\", \"Pan axes with left mouse, zoom with right\", \"fa fa-arrows icon-move\", \"pan\"], [\"Zoom\", \"Zoom to rectangle\", \"fa fa-square-o icon-check-empty\", \"zoom\"], [\"\", \"\", \"\", \"\"], [\"Download\", \"Download plot\", \"fa fa-floppy-o icon-save\", \"download\"]];\n",
       "\n",
       "mpl.extensions = [\"eps\", \"jpeg\", \"pdf\", \"png\", \"ps\", \"raw\", \"svg\", \"tif\"];\n",
       "\n",
       "mpl.default_extension = \"png\";var comm_websocket_adapter = function(comm) {\n",
       "    // Create a \"websocket\"-like object which calls the given IPython comm\n",
       "    // object with the appropriate methods. Currently this is a non binary\n",
       "    // socket, so there is still some room for performance tuning.\n",
       "    var ws = {};\n",
       "\n",
       "    ws.close = function() {\n",
       "        comm.close()\n",
       "    };\n",
       "    ws.send = function(m) {\n",
       "        //console.log('sending', m);\n",
       "        comm.send(m);\n",
       "    };\n",
       "    // Register the callback with on_msg.\n",
       "    comm.on_msg(function(msg) {\n",
       "        //console.log('receiving', msg['content']['data'], msg);\n",
       "        // Pass the mpl event to the overriden (by mpl) onmessage function.\n",
       "        ws.onmessage(msg['content']['data'])\n",
       "    });\n",
       "    return ws;\n",
       "}\n",
       "\n",
       "mpl.mpl_figure_comm = function(comm, msg) {\n",
       "    // This is the function which gets called when the mpl process\n",
       "    // starts-up an IPython Comm through the \"matplotlib\" channel.\n",
       "\n",
       "    var id = msg.content.data.id;\n",
       "    // Get hold of the div created by the display call when the Comm\n",
       "    // socket was opened in Python.\n",
       "    var element = $(\"#\" + id);\n",
       "    var ws_proxy = comm_websocket_adapter(comm)\n",
       "\n",
       "    function ondownload(figure, format) {\n",
       "        window.open(figure.imageObj.src);\n",
       "    }\n",
       "\n",
       "    var fig = new mpl.figure(id, ws_proxy,\n",
       "                           ondownload,\n",
       "                           element.get(0));\n",
       "\n",
       "    // Call onopen now - mpl needs it, as it is assuming we've passed it a real\n",
       "    // web socket which is closed, not our websocket->open comm proxy.\n",
       "    ws_proxy.onopen();\n",
       "\n",
       "    fig.parent_element = element.get(0);\n",
       "    fig.cell_info = mpl.find_output_cell(\"<div id='\" + id + \"'></div>\");\n",
       "    if (!fig.cell_info) {\n",
       "        console.error(\"Failed to find cell for figure\", id, fig);\n",
       "        return;\n",
       "    }\n",
       "\n",
       "    var output_index = fig.cell_info[2]\n",
       "    var cell = fig.cell_info[0];\n",
       "\n",
       "};\n",
       "\n",
       "mpl.figure.prototype.handle_close = function(fig, msg) {\n",
       "    var width = fig.canvas.width/mpl.ratio\n",
       "    fig.root.unbind('remove')\n",
       "\n",
       "    // Update the output cell to use the data from the current canvas.\n",
       "    fig.push_to_output();\n",
       "    var dataURL = fig.canvas.toDataURL();\n",
       "    // Re-enable the keyboard manager in IPython - without this line, in FF,\n",
       "    // the notebook keyboard shortcuts fail.\n",
       "    IPython.keyboard_manager.enable()\n",
       "    $(fig.parent_element).html('<img src=\"' + dataURL + '\" width=\"' + width + '\">');\n",
       "    fig.close_ws(fig, msg);\n",
       "}\n",
       "\n",
       "mpl.figure.prototype.close_ws = function(fig, msg){\n",
       "    fig.send_message('closing', msg);\n",
       "    // fig.ws.close()\n",
       "}\n",
       "\n",
       "mpl.figure.prototype.push_to_output = function(remove_interactive) {\n",
       "    // Turn the data on the canvas into data in the output cell.\n",
       "    var width = this.canvas.width/mpl.ratio\n",
       "    var dataURL = this.canvas.toDataURL();\n",
       "    this.cell_info[1]['text/html'] = '<img src=\"' + dataURL + '\" width=\"' + width + '\">';\n",
       "}\n",
       "\n",
       "mpl.figure.prototype.updated_canvas_event = function() {\n",
       "    // Tell IPython that the notebook contents must change.\n",
       "    IPython.notebook.set_dirty(true);\n",
       "    this.send_message(\"ack\", {});\n",
       "    var fig = this;\n",
       "    // Wait a second, then push the new image to the DOM so\n",
       "    // that it is saved nicely (might be nice to debounce this).\n",
       "    setTimeout(function () { fig.push_to_output() }, 1000);\n",
       "}\n",
       "\n",
       "mpl.figure.prototype._init_toolbar = function() {\n",
       "    var fig = this;\n",
       "\n",
       "    var nav_element = $('<div/>')\n",
       "    nav_element.attr('style', 'width: 100%');\n",
       "    this.root.append(nav_element);\n",
       "\n",
       "    // Define a callback function for later on.\n",
       "    function toolbar_event(event) {\n",
       "        return fig.toolbar_button_onclick(event['data']);\n",
       "    }\n",
       "    function toolbar_mouse_event(event) {\n",
       "        return fig.toolbar_button_onmouseover(event['data']);\n",
       "    }\n",
       "\n",
       "    for(var toolbar_ind in mpl.toolbar_items){\n",
       "        var name = mpl.toolbar_items[toolbar_ind][0];\n",
       "        var tooltip = mpl.toolbar_items[toolbar_ind][1];\n",
       "        var image = mpl.toolbar_items[toolbar_ind][2];\n",
       "        var method_name = mpl.toolbar_items[toolbar_ind][3];\n",
       "\n",
       "        if (!name) { continue; };\n",
       "\n",
       "        var button = $('<button class=\"btn btn-default\" href=\"#\" title=\"' + name + '\"><i class=\"fa ' + image + ' fa-lg\"></i></button>');\n",
       "        button.click(method_name, toolbar_event);\n",
       "        button.mouseover(tooltip, toolbar_mouse_event);\n",
       "        nav_element.append(button);\n",
       "    }\n",
       "\n",
       "    // Add the status bar.\n",
       "    var status_bar = $('<span class=\"mpl-message\" style=\"text-align:right; float: right;\"/>');\n",
       "    nav_element.append(status_bar);\n",
       "    this.message = status_bar[0];\n",
       "\n",
       "    // Add the close button to the window.\n",
       "    var buttongrp = $('<div class=\"btn-group inline pull-right\"></div>');\n",
       "    var button = $('<button class=\"btn btn-mini btn-primary\" href=\"#\" title=\"Stop Interaction\"><i class=\"fa fa-power-off icon-remove icon-large\"></i></button>');\n",
       "    button.click(function (evt) { fig.handle_close(fig, {}); } );\n",
       "    button.mouseover('Stop Interaction', toolbar_mouse_event);\n",
       "    buttongrp.append(button);\n",
       "    var titlebar = this.root.find($('.ui-dialog-titlebar'));\n",
       "    titlebar.prepend(buttongrp);\n",
       "}\n",
       "\n",
       "mpl.figure.prototype._root_extra_style = function(el){\n",
       "    var fig = this\n",
       "    el.on(\"remove\", function(){\n",
       "\tfig.close_ws(fig, {});\n",
       "    });\n",
       "}\n",
       "\n",
       "mpl.figure.prototype._canvas_extra_style = function(el){\n",
       "    // this is important to make the div 'focusable\n",
       "    el.attr('tabindex', 0)\n",
       "    // reach out to IPython and tell the keyboard manager to turn it's self\n",
       "    // off when our div gets focus\n",
       "\n",
       "    // location in version 3\n",
       "    if (IPython.notebook.keyboard_manager) {\n",
       "        IPython.notebook.keyboard_manager.register_events(el);\n",
       "    }\n",
       "    else {\n",
       "        // location in version 2\n",
       "        IPython.keyboard_manager.register_events(el);\n",
       "    }\n",
       "\n",
       "}\n",
       "\n",
       "mpl.figure.prototype._key_event_extra = function(event, name) {\n",
       "    var manager = IPython.notebook.keyboard_manager;\n",
       "    if (!manager)\n",
       "        manager = IPython.keyboard_manager;\n",
       "\n",
       "    // Check for shift+enter\n",
       "    if (event.shiftKey && event.which == 13) {\n",
       "        this.canvas_div.blur();\n",
       "        event.shiftKey = false;\n",
       "        // Send a \"J\" for go to next cell\n",
       "        event.which = 74;\n",
       "        event.keyCode = 74;\n",
       "        manager.command_mode();\n",
       "        manager.handle_keydown(event);\n",
       "    }\n",
       "}\n",
       "\n",
       "mpl.figure.prototype.handle_save = function(fig, msg) {\n",
       "    fig.ondownload(fig, null);\n",
       "}\n",
       "\n",
       "\n",
       "mpl.find_output_cell = function(html_output) {\n",
       "    // Return the cell and output element which can be found *uniquely* in the notebook.\n",
       "    // Note - this is a bit hacky, but it is done because the \"notebook_saving.Notebook\"\n",
       "    // IPython event is triggered only after the cells have been serialised, which for\n",
       "    // our purposes (turning an active figure into a static one), is too late.\n",
       "    var cells = IPython.notebook.get_cells();\n",
       "    var ncells = cells.length;\n",
       "    for (var i=0; i<ncells; i++) {\n",
       "        var cell = cells[i];\n",
       "        if (cell.cell_type === 'code'){\n",
       "            for (var j=0; j<cell.output_area.outputs.length; j++) {\n",
       "                var data = cell.output_area.outputs[j];\n",
       "                if (data.data) {\n",
       "                    // IPython >= 3 moved mimebundle to data attribute of output\n",
       "                    data = data.data;\n",
       "                }\n",
       "                if (data['text/html'] == html_output) {\n",
       "                    return [cell, data, j];\n",
       "                }\n",
       "            }\n",
       "        }\n",
       "    }\n",
       "}\n",
       "\n",
       "// Register the function which deals with the matplotlib target/channel.\n",
       "// The kernel may be null if the page has been refreshed.\n",
       "if (IPython.notebook.kernel != null) {\n",
       "    IPython.notebook.kernel.comm_manager.register_target('matplotlib', mpl.mpl_figure_comm);\n",
       "}\n"
      ],
      "text/plain": [
       "<IPython.core.display.Javascript object>"
      ]
     },
     "metadata": {},
     "output_type": "display_data"
    },
    {
     "data": {
      "text/html": [
       "<img src=\"data:image/png;base64,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\" width=\"640\">"
      ],
      "text/plain": [
       "<IPython.core.display.HTML object>"
      ]
     },
     "metadata": {},
     "output_type": "display_data"
    }
   ],
   "source": [
    "plt.show()"
   ]
  },
  {
   "cell_type": "markdown",
   "metadata": {},
   "source": [
    " "
   ]
  },
  {
   "cell_type": "markdown",
   "metadata": {},
   "source": [
    " "
   ]
  },
  {
   "cell_type": "markdown",
   "metadata": {},
   "source": [
    " "
   ]
  },
  {
   "cell_type": "markdown",
   "metadata": {},
   "source": [
    " "
   ]
  },
  {
   "cell_type": "markdown",
   "metadata": {},
   "source": [
    " "
   ]
  },
  {
   "cell_type": "markdown",
   "metadata": {},
   "source": [
    " "
   ]
  },
  {
   "cell_type": "markdown",
   "metadata": {},
   "source": [
    "## Testing it with the test data"
   ]
  },
  {
   "cell_type": "code",
   "execution_count": 159,
   "metadata": {},
   "outputs": [
    {
     "data": {
      "text/html": [
       "<div>\n",
       "<style scoped>\n",
       "    .dataframe tbody tr th:only-of-type {\n",
       "        vertical-align: middle;\n",
       "    }\n",
       "\n",
       "    .dataframe tbody tr th {\n",
       "        vertical-align: top;\n",
       "    }\n",
       "\n",
       "    .dataframe thead th {\n",
       "        text-align: right;\n",
       "    }\n",
       "</style>\n",
       "<table border=\"1\" class=\"dataframe\">\n",
       "  <thead>\n",
       "    <tr style=\"text-align: right;\">\n",
       "      <th></th>\n",
       "      <th>0</th>\n",
       "      <th>1</th>\n",
       "      <th>2</th>\n",
       "      <th>3</th>\n",
       "      <th>4</th>\n",
       "      <th>5</th>\n",
       "      <th>6</th>\n",
       "      <th>7</th>\n",
       "      <th>8</th>\n",
       "      <th>9</th>\n",
       "      <th>10</th>\n",
       "      <th>11</th>\n",
       "      <th>12</th>\n",
       "      <th>13</th>\n",
       "    </tr>\n",
       "  </thead>\n",
       "  <tbody>\n",
       "    <tr>\n",
       "      <th>0</th>\n",
       "      <td>3.624457</td>\n",
       "      <td>5.0</td>\n",
       "      <td>4.0</td>\n",
       "      <td>4.0</td>\n",
       "      <td>5.0</td>\n",
       "      <td>4.0</td>\n",
       "      <td>4.20339</td>\n",
       "      <td>4.20339</td>\n",
       "      <td>4.20339</td>\n",
       "      <td>4.20339</td>\n",
       "      <td>4.20339</td>\n",
       "      <td>4.203390</td>\n",
       "      <td>2.0</td>\n",
       "      <td>3.0</td>\n",
       "    </tr>\n",
       "    <tr>\n",
       "      <th>1</th>\n",
       "      <td>3.624457</td>\n",
       "      <td>3.0</td>\n",
       "      <td>3.0</td>\n",
       "      <td>2.0</td>\n",
       "      <td>4.0</td>\n",
       "      <td>4.0</td>\n",
       "      <td>5.00000</td>\n",
       "      <td>4.00000</td>\n",
       "      <td>3.00000</td>\n",
       "      <td>3.00000</td>\n",
       "      <td>3.00000</td>\n",
       "      <td>3.000000</td>\n",
       "      <td>2.0</td>\n",
       "      <td>5.0</td>\n",
       "    </tr>\n",
       "    <tr>\n",
       "      <th>2</th>\n",
       "      <td>3.624457</td>\n",
       "      <td>3.0</td>\n",
       "      <td>4.0</td>\n",
       "      <td>4.0</td>\n",
       "      <td>2.0</td>\n",
       "      <td>4.0</td>\n",
       "      <td>5.00000</td>\n",
       "      <td>4.00000</td>\n",
       "      <td>5.00000</td>\n",
       "      <td>3.00000</td>\n",
       "      <td>5.00000</td>\n",
       "      <td>3.500000</td>\n",
       "      <td>2.0</td>\n",
       "      <td>3.0</td>\n",
       "    </tr>\n",
       "    <tr>\n",
       "      <th>3</th>\n",
       "      <td>3.624457</td>\n",
       "      <td>3.0</td>\n",
       "      <td>3.0</td>\n",
       "      <td>5.0</td>\n",
       "      <td>4.0</td>\n",
       "      <td>4.0</td>\n",
       "      <td>5.00000</td>\n",
       "      <td>5.00000</td>\n",
       "      <td>5.00000</td>\n",
       "      <td>5.00000</td>\n",
       "      <td>2.00000</td>\n",
       "      <td>4.133333</td>\n",
       "      <td>2.0</td>\n",
       "      <td>5.0</td>\n",
       "    </tr>\n",
       "  </tbody>\n",
       "</table>\n",
       "</div>"
      ],
      "text/plain": [
       "         0    1    2    3    4    5        6        7        8        9   \\\n",
       "0  3.624457  5.0  4.0  4.0  5.0  4.0  4.20339  4.20339  4.20339  4.20339   \n",
       "1  3.624457  3.0  3.0  2.0  4.0  4.0  5.00000  4.00000  3.00000  3.00000   \n",
       "2  3.624457  3.0  4.0  4.0  2.0  4.0  5.00000  4.00000  5.00000  3.00000   \n",
       "3  3.624457  3.0  3.0  5.0  4.0  4.0  5.00000  5.00000  5.00000  5.00000   \n",
       "\n",
       "        10        11   12   13  \n",
       "0  4.20339  4.203390  2.0  3.0  \n",
       "1  3.00000  3.000000  2.0  5.0  \n",
       "2  5.00000  3.500000  2.0  3.0  \n",
       "3  2.00000  4.133333  2.0  5.0  "
      ]
     },
     "execution_count": 159,
     "metadata": {},
     "output_type": "execute_result"
    }
   ],
   "source": [
    "reg_test_df = pd.read_csv('sample/reg_test.csv', header=None)\n",
    "reg_test_df.head(4)"
   ]
  },
  {
   "cell_type": "code",
   "execution_count": 160,
   "metadata": {},
   "outputs": [],
   "source": [
    "x_test = reg_test_df.drop([13], axis=1)\n",
    "\n",
    "y_test = reg_test_df[13]"
   ]
  },
  {
   "cell_type": "markdown",
   "metadata": {},
   "source": [
    "## For basic model"
   ]
  },
  {
   "cell_type": "code",
   "execution_count": 161,
   "metadata": {},
   "outputs": [
    {
     "data": {
      "text/plain": [
       "(1.190164934503154, 35.03456000202348)"
      ]
     },
     "execution_count": 161,
     "metadata": {},
     "output_type": "execute_result"
    }
   ],
   "source": [
    "y_test_pred = reg_xgb.predict(x_test)\n",
    "mape_test = np.mean(np.abs( (y_test.values - y_test_pred)/y_test.values )) * 100\n",
    "rmse_test = np.sqrt(mean_squared_error(y_test, y_test_pred))\n",
    "\n",
    "rmse_test, mape_test"
   ]
  },
  {
   "cell_type": "markdown",
   "metadata": {},
   "source": [
    " \n",
    " "
   ]
  },
  {
   "cell_type": "markdown",
   "metadata": {},
   "source": [
    " \n",
    " "
   ]
  },
  {
   "cell_type": "markdown",
   "metadata": {},
   "source": [
    " \n",
    " "
   ]
  },
  {
   "cell_type": "markdown",
   "metadata": {},
   "source": [
    " \n",
    " "
   ]
  },
  {
   "cell_type": "markdown",
   "metadata": {},
   "source": [
    " \n",
    " "
   ]
  },
  {
   "cell_type": "markdown",
   "metadata": {},
   "source": [
    " \n",
    " "
   ]
  },
  {
   "cell_type": "markdown",
   "metadata": {},
   "source": [
    " \n",
    " "
   ]
  },
  {
   "cell_type": "markdown",
   "metadata": {},
   "source": [
    " \n",
    " "
   ]
  },
  {
   "cell_type": "markdown",
   "metadata": {},
   "source": [
    " \n",
    " "
   ]
  },
  {
   "cell_type": "markdown",
   "metadata": {},
   "source": [
    " \n",
    " "
   ]
  },
  {
   "cell_type": "markdown",
   "metadata": {},
   "source": [
    " \n",
    " "
   ]
  },
  {
   "cell_type": "markdown",
   "metadata": {},
   "source": [
    " \n",
    " "
   ]
  },
  {
   "cell_type": "markdown",
   "metadata": {},
   "source": [
    " \n",
    " "
   ]
  },
  {
   "cell_type": "markdown",
   "metadata": {},
   "source": [
    " \n",
    " "
   ]
  },
  {
   "cell_type": "markdown",
   "metadata": {},
   "source": [
    " \n",
    " "
   ]
  },
  {
   "cell_type": "markdown",
   "metadata": {},
   "source": [
    " \n",
    " "
   ]
  },
  {
   "cell_type": "markdown",
   "metadata": {},
   "source": [
    " \n",
    " "
   ]
  },
  {
   "cell_type": "markdown",
   "metadata": {},
   "source": [
    " \n",
    " "
   ]
  },
  {
   "cell_type": "markdown",
   "metadata": {},
   "source": [
    " \n",
    " "
   ]
  },
  {
   "cell_type": "markdown",
   "metadata": {},
   "source": [
    " \n",
    " "
   ]
  },
  {
   "cell_type": "markdown",
   "metadata": {},
   "source": [
    " \n",
    " "
   ]
  },
  {
   "cell_type": "markdown",
   "metadata": {},
   "source": [
    " \n",
    " "
   ]
  },
  {
   "cell_type": "markdown",
   "metadata": {},
   "source": [
    " \n",
    " "
   ]
  },
  {
   "cell_type": "markdown",
   "metadata": {},
   "source": [
    " \n",
    " "
   ]
  }
 ],
 "metadata": {
  "kernelspec": {
   "display_name": "Python 3",
   "language": "python",
   "name": "python3"
  },
  "language_info": {
   "codemirror_mode": {
    "name": "ipython",
    "version": 3
   },
   "file_extension": ".py",
   "mimetype": "text/x-python",
   "name": "python",
   "nbconvert_exporter": "python",
   "pygments_lexer": "ipython3",
   "version": "3.6.4"
  }
 },
 "nbformat": 4,
 "nbformat_minor": 2
}
