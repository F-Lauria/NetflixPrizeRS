{
 "cells": [
  {
   "cell_type": "code",
   "execution_count": 1,
   "metadata": {},
   "outputs": [],
   "source": [
    "# this is just to know how much time will it take to run this entire ipython notebook \n",
    "from datetime import datetime"
   ]
  },
  {
   "cell_type": "code",
   "execution_count": 2,
   "metadata": {},
   "outputs": [],
   "source": [
    "import pandas as pd\n",
    "import numpy as np"
   ]
  },
  {
   "cell_type": "code",
   "execution_count": 3,
   "metadata": {},
   "outputs": [],
   "source": [
    "import matplotlib\n",
    "matplotlib.use('nbagg')\n",
    "\n",
    "import matplotlib.pyplot as plt\n",
    "plt.rcParams.update({'figure.max_open_warning': 0})\n",
    "\n",
    "import seaborn as sns\n",
    "sns.set_style('whitegrid')"
   ]
  },
  {
   "cell_type": "markdown",
   "metadata": {},
   "source": [
    "## reading data from the csv file"
   ]
  },
  {
   "cell_type": "code",
   "execution_count": null,
   "metadata": {},
   "outputs": [],
   "source": [
    "df = pd.read_csv('data.csv', sep=',', \n",
    "                       names=['movie', 'user','rating','date'])\n",
    "df.date = pd.to_datetime(df.date)\n",
    "\n",
    "# we are arranging the ratings according to time.\n",
    "df.sort_values(by='date', inplace=True)\n",
    "df.head()"
   ]
  },
  {
   "cell_type": "code",
   "execution_count": null,
   "metadata": {
    "collapsed": true
   },
   "outputs": [],
   "source": [
    "df = pd.read_csv('data.csv', sep=',', \n",
    "                       names=['movie', 'user','rating','date'])\n",
    "df.date = pd.to_datetime(df.date)\n",
    "\n",
    "# we are arranging the ratings according to time.\n",
    "df.sort_values(by='date', inplace=True)\n",
    "df.head()"
   ]
  },
  {
   "cell_type": "markdown",
   "metadata": {},
   "source": [
    "### Is there any entry that has Nan values...??"
   ]
  },
  {
   "cell_type": "code",
   "execution_count": null,
   "metadata": {},
   "outputs": [],
   "source": [
    "# it returns True for a row that has atleast one Nan value.\n",
    "null_bool = df.isnull().any(axis = 1)\n",
    "df[null_bool]"
   ]
  },
  {
   "cell_type": "code",
   "execution_count": null,
   "metadata": {
    "collapsed": true
   },
   "outputs": [],
   "source": [
    "df.drop(df[null_bool].index, inplace=True)"
   ]
  },
  {
   "cell_type": "code",
   "execution_count": 8,
   "metadata": {},
   "outputs": [
    {
     "name": "stdout",
     "output_type": "stream",
     "text": [
      "No of Nan values in our dataframe :  0\n"
     ]
    }
   ],
   "source": [
    "print(\"No of Nan values in our dataframe : \", sum(df.isnull().any()))"
   ]
  },
  {
   "cell_type": "markdown",
   "metadata": {},
   "source": [
    "### Let's try to find the duplicates if any..."
   ]
  },
  {
   "cell_type": "code",
   "execution_count": 9,
   "metadata": {},
   "outputs": [
    {
     "name": "stdout",
     "output_type": "stream",
     "text": [
      "There are 1211 duplicate rating entries in the data..\n"
     ]
    }
   ],
   "source": [
    "dup_bool = df.duplicated(['movie','user','rating'])\n",
    "dups = sum(dup_bool) # by considering all columns..( including timestamp )\n",
    "print(\"There are {} duplicate rating entries in the data..\".format(dups))"
   ]
  },
  {
   "cell_type": "code",
   "execution_count": 10,
   "metadata": {},
   "outputs": [
    {
     "data": {
      "text/plain": [
       "16969    762\n",
       "16968    449\n",
       "Name: movie, dtype: int64"
      ]
     },
     "execution_count": 10,
     "metadata": {},
     "output_type": "execute_result"
    }
   ],
   "source": [
    "# let's find what are the movies that has duplicate entries of user ratings....\n",
    "df[dup_bool].movie.value_counts()"
   ]
  },
  {
   "cell_type": "markdown",
   "metadata": {},
   "source": [
    "__Removing those duplicate entries__  (inplace)"
   ]
  },
  {
   "cell_type": "code",
   "execution_count": 11,
   "metadata": {
    "collapsed": true
   },
   "outputs": [],
   "source": [
    "df.drop(df[dup_bool].index, inplace=True)"
   ]
  },
  {
   "cell_type": "code",
   "execution_count": 12,
   "metadata": {},
   "outputs": [
    {
     "name": "stdout",
     "output_type": "stream",
     "text": [
      "No of duplicate rows (movie, user, rating) entries : 0\n"
     ]
    }
   ],
   "source": [
    "print(\"No of duplicate rows (movie, user, rating) entries :\", sum(df.duplicated()))"
   ]
  },
  {
   "cell_type": "markdown",
   "metadata": {},
   "source": [
    " "
   ]
  },
  {
   "cell_type": "markdown",
   "metadata": {},
   "source": [
    " "
   ]
  },
  {
   "cell_type": "markdown",
   "metadata": {},
   "source": [
    " "
   ]
  },
  {
   "cell_type": "code",
   "execution_count": 13,
   "metadata": {},
   "outputs": [
    {
     "name": "stdout",
     "output_type": "stream",
     "text": [
      "\n",
      "No of ratings that we have, after removing nan rows and duplicates are : 100479045\n"
     ]
    }
   ],
   "source": [
    "print(\"\\nNo of ratings that we have, after removing nan rows and duplicates are :\", df.shape[0])"
   ]
  },
  {
   "cell_type": "markdown",
   "metadata": {},
   "source": [
    " "
   ]
  },
  {
   "cell_type": "markdown",
   "metadata": {},
   "source": [
    " "
   ]
  },
  {
   "cell_type": "markdown",
   "metadata": {},
   "source": [
    " "
   ]
  },
  {
   "cell_type": "markdown",
   "metadata": {},
   "source": [
    " "
   ]
  },
  {
   "cell_type": "markdown",
   "metadata": {},
   "source": [
    " "
   ]
  },
  {
   "cell_type": "markdown",
   "metadata": {},
   "source": [
    "## No. of Ratings, Users and Movies  "
   ]
  },
  {
   "cell_type": "code",
   "execution_count": 14,
   "metadata": {},
   "outputs": [
    {
     "name": "stdout",
     "output_type": "stream",
     "text": [
      "Total data \n",
      "--------------------------------------------------\n",
      "\n",
      "Total no of ratings : 100479045\n",
      "Total No of Users   : 480189\n",
      "Total No of movies  : 17770\n"
     ]
    }
   ],
   "source": [
    "movies = df.movie.value_counts()\n",
    "users = df.user.value_counts()\n",
    "ratings = df.rating\n",
    "print(\"Total data \")\n",
    "print(\"-\"*50)\n",
    "print(\"\\nTotal no of ratings :\",df.shape[0])\n",
    "print(\"Total No of Users   :\", len(users))\n",
    "print(\"Total No of movies  :\", len(movies))"
   ]
  },
  {
   "cell_type": "markdown",
   "metadata": {},
   "source": [
    "## Train data"
   ]
  },
  {
   "cell_type": "code",
   "execution_count": 15,
   "metadata": {
    "collapsed": true
   },
   "outputs": [],
   "source": [
    "big_train_df = df.iloc[:int(df.shape[0]*0.80)]"
   ]
  },
  {
   "cell_type": "code",
   "execution_count": 16,
   "metadata": {},
   "outputs": [
    {
     "data": {
      "text/plain": [
       "(80383236, 4)"
      ]
     },
     "execution_count": 16,
     "metadata": {},
     "output_type": "execute_result"
    }
   ],
   "source": [
    "big_train_df.shape"
   ]
  },
  {
   "cell_type": "code",
   "execution_count": 17,
   "metadata": {},
   "outputs": [
    {
     "data": {
      "text/html": [
       "<div>\n",
       "<style scoped>\n",
       "    .dataframe tbody tr th:only-of-type {\n",
       "        vertical-align: middle;\n",
       "    }\n",
       "\n",
       "    .dataframe tbody tr th {\n",
       "        vertical-align: top;\n",
       "    }\n",
       "\n",
       "    .dataframe thead th {\n",
       "        text-align: right;\n",
       "    }\n",
       "</style>\n",
       "<table border=\"1\" class=\"dataframe\">\n",
       "  <thead>\n",
       "    <tr style=\"text-align: right;\">\n",
       "      <th></th>\n",
       "      <th>movie</th>\n",
       "      <th>user</th>\n",
       "      <th>rating</th>\n",
       "      <th>date</th>\n",
       "    </tr>\n",
       "  </thead>\n",
       "  <tbody>\n",
       "    <tr>\n",
       "      <th>58698779</th>\n",
       "      <td>10774</td>\n",
       "      <td>510180</td>\n",
       "      <td>3.0</td>\n",
       "      <td>1999-11-11</td>\n",
       "    </tr>\n",
       "    <tr>\n",
       "      <th>96212476</th>\n",
       "      <td>17064</td>\n",
       "      <td>510180</td>\n",
       "      <td>2.0</td>\n",
       "      <td>1999-11-11</td>\n",
       "    </tr>\n",
       "  </tbody>\n",
       "</table>\n",
       "</div>"
      ],
      "text/plain": [
       "          movie    user  rating       date\n",
       "58698779  10774  510180     3.0 1999-11-11\n",
       "96212476  17064  510180     2.0 1999-11-11"
      ]
     },
     "execution_count": 17,
     "metadata": {},
     "output_type": "execute_result"
    }
   ],
   "source": [
    "big_train_df.head(2)"
   ]
  },
  {
   "cell_type": "code",
   "execution_count": 18,
   "metadata": {},
   "outputs": [
    {
     "name": "stdout",
     "output_type": "stream",
     "text": [
      "Training data \n",
      "--------------------------------------------------\n",
      "\n",
      "Total no of ratings : 80383236\n",
      "Total No of Users   : 405024\n",
      "Total No of movies  : 17423\n"
     ]
    }
   ],
   "source": [
    "movies = big_train_df.movie.value_counts()\n",
    "users = big_train_df.user.value_counts()\n",
    "print(\"Training data \")\n",
    "print(\"-\"*50)\n",
    "print(\"\\nTotal no of ratings :\",big_train_df.shape[0])\n",
    "print(\"Total No of Users   :\", len(users))\n",
    "print(\"Total No of movies  :\", len(movies))"
   ]
  },
  {
   "cell_type": "markdown",
   "metadata": {},
   "source": [
    "# 2. Creating sparse matrix for Train data"
   ]
  },
  {
   "cell_type": "code",
   "execution_count": null,
   "metadata": {
    "collapsed": true
   },
   "outputs": [],
   "source": [
    "import os\n",
    "from scipy import sparse\n",
    "start = datetime.now()\n",
    "if os.path.isfile('sample/train_sparse_matrix.npz'):\n",
    "    print(\"It is present in your pwd, getting it from disk....\")\n",
    "    # just get it from the disk instead of computing it\n",
    "    train_sparse_matrix = sparse.load_npz('sample/train_sparse_matrix.npz')\n",
    "    print(\"DONE..\")\n",
    "else: \n",
    "    print(\"We are creating sparse_matrix from the dataframe..\")\n",
    "    # create sparse_matrix and store it for after usage.\n",
    "    # csr_matrix(data_values, (row_index, col_index), shape_of_matrix)\n",
    "    # It should be in such a way that, MATRIX[row, col] = data\n",
    "    train_sparse_matrix = sparse.csr_matrix((big_train_df.rating.values, (big_train_df.user.values,\n",
    "                                               big_train_df.movie.values)))\n",
    "    \n",
    "    print('Done. It\\'s shape is : (user, movie) : ',train_sparse_matrix.shape)\n",
    "    print('Saving it into disk for furthur usage..')\n",
    "    # save it into disk\n",
    "    sparse.save_npz(\"sample/train_sparse_matrix.npz\", train_sparse_matrix)\n",
    "    print('Done..\\n')\n",
    " \n",
    "print(datetime.now() - start)"
   ]
  },
  {
   "cell_type": "markdown",
   "metadata": {},
   "source": [
    "### Sparsity"
   ]
  },
  {
   "cell_type": "code",
   "execution_count": 20,
   "metadata": {
    "collapsed": true
   },
   "outputs": [],
   "source": [
    "u,m = train_sparse_matrix.shape\n",
    "elem = train_sparse_matrix.count_nonzero()"
   ]
  },
  {
   "cell_type": "code",
   "execution_count": 21,
   "metadata": {},
   "outputs": [
    {
     "name": "stdout",
     "output_type": "stream",
     "text": [
      "Sparsity Of matrix : 99.82927583214679 % \n"
     ]
    }
   ],
   "source": [
    "print(\"Sparsity Of matrix : {} % \".format(  (1-(elem/(u*m))) * 100) )"
   ]
  },
  {
   "cell_type": "markdown",
   "metadata": {},
   "source": [
    "## Test"
   ]
  },
  {
   "cell_type": "code",
   "execution_count": 23,
   "metadata": {},
   "outputs": [
    {
     "data": {
      "text/plain": [
       "(20095809, 4)"
      ]
     },
     "execution_count": 23,
     "metadata": {},
     "output_type": "execute_result"
    }
   ],
   "source": [
    "big_test_df = df.iloc[int(df.shape[0]*0.80) : ]\n",
    "big_test_df.shape"
   ]
  },
  {
   "cell_type": "code",
   "execution_count": 24,
   "metadata": {},
   "outputs": [
    {
     "data": {
      "text/html": [
       "<div>\n",
       "<style scoped>\n",
       "    .dataframe tbody tr th:only-of-type {\n",
       "        vertical-align: middle;\n",
       "    }\n",
       "\n",
       "    .dataframe tbody tr th {\n",
       "        vertical-align: top;\n",
       "    }\n",
       "\n",
       "    .dataframe thead th {\n",
       "        text-align: right;\n",
       "    }\n",
       "</style>\n",
       "<table border=\"1\" class=\"dataframe\">\n",
       "  <thead>\n",
       "    <tr style=\"text-align: right;\">\n",
       "      <th></th>\n",
       "      <th>movie</th>\n",
       "      <th>user</th>\n",
       "      <th>rating</th>\n",
       "      <th>date</th>\n",
       "    </tr>\n",
       "  </thead>\n",
       "  <tbody>\n",
       "    <tr>\n",
       "      <th>52863848</th>\n",
       "      <td>9617</td>\n",
       "      <td>316390</td>\n",
       "      <td>2.0</td>\n",
       "      <td>2005-08-08</td>\n",
       "    </tr>\n",
       "    <tr>\n",
       "      <th>12989568</th>\n",
       "      <td>2462</td>\n",
       "      <td>605375</td>\n",
       "      <td>4.0</td>\n",
       "      <td>2005-08-08</td>\n",
       "    </tr>\n",
       "  </tbody>\n",
       "</table>\n",
       "</div>"
      ],
      "text/plain": [
       "          movie    user  rating       date\n",
       "52863848   9617  316390     2.0 2005-08-08\n",
       "12989568   2462  605375     4.0 2005-08-08"
      ]
     },
     "execution_count": 24,
     "metadata": {},
     "output_type": "execute_result"
    }
   ],
   "source": [
    "big_test_df.head(2)"
   ]
  },
  {
   "cell_type": "code",
   "execution_count": 25,
   "metadata": {},
   "outputs": [
    {
     "name": "stdout",
     "output_type": "stream",
     "text": [
      "Test data \n",
      "--------------------------------------------------\n",
      "\n",
      "Total no of ratings : 20095809\n",
      "Total No of Users   : 349327\n",
      "Total No of movies  : 17757\n"
     ]
    }
   ],
   "source": [
    "movies = big_test_df.movie.value_counts()\n",
    "users = big_test_df.user.value_counts()\n",
    "\n",
    "print(\"Test data \")\n",
    "print(\"-\"*50)\n",
    "print(\"\\nTotal no of ratings :\",big_test_df.shape[0])\n",
    "print(\"Total No of Users   :\", len(users))\n",
    "print(\"Total No of movies  :\", len(movies))"
   ]
  },
  {
   "cell_type": "markdown",
   "metadata": {},
   "source": [
    "# 3. Creating sparse matrix for Test data"
   ]
  },
  {
   "cell_type": "code",
   "execution_count": 26,
   "metadata": {},
   "outputs": [
    {
     "name": "stdout",
     "output_type": "stream",
     "text": [
      "It is present in your pwd, getting it from disk....\n",
      "DONE..\n",
      "0:00:00.847732\n"
     ]
    }
   ],
   "source": [
    "import os\n",
    "from scipy import sparse\n",
    "start = datetime.now()\n",
    "if os.path.isfile('sample/test_sparse_matrix.npz'):\n",
    "    print(\"It is present in your pwd, getting it from disk....\")\n",
    "    # just get it from the disk instead of computing it\n",
    "    test_sparse_matrix = sparse.load_npz('sample/test_sparse_matrix.npz')\n",
    "    print(\"DONE..\")\n",
    "else: \n",
    "    print(\"We are creating sparse_matrix from the dataframe..\")\n",
    "    # create sparse_matrix and store it for after usage.\n",
    "    # csr_matrix(data_values, (row_index, col_index), shape_of_matrix)\n",
    "    # It should be in such a way that, MATRIX[row, col] = data\n",
    "    test_sparse_matrix = sparse.csr_matrix((big_test_df.rating.values, (big_test_df.user.values,\n",
    "                                               big_test_df.movie.values)))\n",
    "    \n",
    "    print('Done. It\\'s shape is : (user, movie) : ',test_sparse_matrix.shape)\n",
    "    print('Saving it into disk for furthur usage..')\n",
    "    # save it into disk\n",
    "    sparse.save_npz(\"sample/test_sparse_matrix.npz\", test_sparse_matrix)\n",
    "    print('Done..\\n')\n",
    " \n",
    "print(datetime.now() - start)"
   ]
  },
  {
   "cell_type": "markdown",
   "metadata": {},
   "source": [
    "### Sparsity"
   ]
  },
  {
   "cell_type": "code",
   "execution_count": 27,
   "metadata": {
    "collapsed": true
   },
   "outputs": [],
   "source": [
    "u,m = test_sparse_matrix.shape\n",
    "elem = test_sparse_matrix.count_nonzero()"
   ]
  },
  {
   "cell_type": "code",
   "execution_count": 28,
   "metadata": {},
   "outputs": [
    {
     "name": "stdout",
     "output_type": "stream",
     "text": [
      "Sparsity Of matrix : 99.95731855608713 % \n"
     ]
    }
   ],
   "source": [
    "print(\"Sparsity Of matrix : {} % \".format(  (1-(elem/(u*m))) * 100) )"
   ]
  },
  {
   "cell_type": "markdown",
   "metadata": {},
   "source": [
    " "
   ]
  },
  {
   "cell_type": "markdown",
   "metadata": {},
   "source": [
    " "
   ]
  },
  {
   "cell_type": "markdown",
   "metadata": {},
   "source": [
    "# Sampling Train and Test data "
   ]
  },
  {
   "cell_type": "code",
   "execution_count": 4,
   "metadata": {},
   "outputs": [],
   "source": [
    "import os\n",
    "import random"
   ]
  },
  {
   "cell_type": "markdown",
   "metadata": {},
   "source": [
    "## Train"
   ]
  },
  {
   "cell_type": "code",
   "execution_count": 5,
   "metadata": {
    "scrolled": true
   },
   "outputs": [
    {
     "name": "stdout",
     "output_type": "stream",
     "text": [
      "It is present in your pwd, getting it from disk....\n",
      "DONE..\n",
      "0:00:00.033332\n"
     ]
    }
   ],
   "source": [
    "import os\n",
    "from scipy import sparse\n",
    "\n",
    "start = datetime.now()\n",
    "if os.path.isfile('sample/big/sample_train_sparse_matrix.npz'):\n",
    "    print(\"It is present in your pwd, getting it from disk....\")\n",
    "    # just get it from the disk instead of computing it\n",
    "    sample_train_sparse_matrix = sparse.load_npz('sample/big/sample_train_sparse_matrix.npz')\n",
    "    print(\"DONE..\")\n",
    "else: \n",
    "    train_row_ind, train_col_ind = train_sparse_matrix.nonzero()\n",
    "    train_row_ind = np.unique(train_row_ind)\n",
    "    train_col_ind = np.unique(train_col_ind)\n",
    "\n",
    "    print(\"In big matrix, (users, movies) : ({} {})\".format(len(train_row_ind), len(train_col_ind)))\n",
    "\n",
    "    np.random.seed(15)\n",
    "    sample_train_movies = np.random.choice(train_col_ind, 2000, replace=False)\n",
    "    sample_train_users = np.random.choice(train_row_ind, 20000, replace=False)\n",
    "\n",
    "    sample_train_sparse_matrix = train_sparse_matrix[sample_train_users, :][:,sample_train_movies]\n",
    "    \n",
    "    print('In sampled matrix, (users, movies) : ',[len(np.unique(i)) for i in sample_train_sparse_matrix.nonzero()])\n",
    "    print('Saving it into disk for furthur usage..')\n",
    "    # save it into disk\n",
    "    sparse.save_npz(\"sample/big/sample_train_sparse_matrix.npz\", sample_train_sparse_matrix)\n",
    "    print('Done..\\n')\n",
    "\n",
    "\n",
    "print(datetime.now() - start)"
   ]
  },
  {
   "cell_type": "code",
   "execution_count": 6,
   "metadata": {},
   "outputs": [
    {
     "data": {
      "text/plain": [
       "486139"
      ]
     },
     "execution_count": 6,
     "metadata": {},
     "output_type": "execute_result"
    }
   ],
   "source": [
    "sample_train_sparse_matrix.count_nonzero()"
   ]
  },
  {
   "cell_type": "markdown",
   "metadata": {},
   "source": [
    "## Test"
   ]
  },
  {
   "cell_type": "code",
   "execution_count": 7,
   "metadata": {
    "scrolled": true
   },
   "outputs": [
    {
     "name": "stdout",
     "output_type": "stream",
     "text": [
      "It is present in your pwd, getting it from disk....\n",
      "DONE..\n",
      "0:00:00.012123\n"
     ]
    }
   ],
   "source": [
    "import os\n",
    "from scipy import sparse\n",
    "\n",
    "start = datetime.now()\n",
    "if os.path.isfile('sample/big/sample_test_sparse_matrix.npz'):\n",
    "    print(\"It is present in your pwd, getting it from disk....\")\n",
    "    # just get it from the disk instead of computing it\n",
    "    sample_test_sparse_matrix = sparse.load_npz('sample/big/sample_test_sparse_matrix.npz')\n",
    "    print(\"DONE..\")\n",
    "else: \n",
    "    test_row_ind, test_col_ind = test_sparse_matrix.nonzero()\n",
    "    test_row_ind = np.unique(test_row_ind)\n",
    "    test_col_ind = np.unique(test_col_ind)\n",
    "\n",
    "    print(\"In big matrix (users, movies) : ({} {})\".format(len(test_row_ind), len(test_col_ind)))\n",
    "\n",
    "    np.random.seed(15)\n",
    "    sample_test_movies = np.random.choice(test_col_ind, 3500, replace=False)\n",
    "    sample_test_users = np.random.choice(test_row_ind, 10000, replace=False)\n",
    "\n",
    "    sample_test_sparse_matrix = test_sparse_matrix[sample_test_users, :][:,sample_test_movies]\n",
    "    print('In sampled matrix, (users, movies) : ',[len(np.unique(i)) for i in sample_test_sparse_matrix.nonzero()])\n",
    "    print('Saving it into disk for furthur usage..')\n",
    "    # save it into disk\n",
    "    sparse.save_npz(\"sample/big/sample_test_sparse_matrix.npz\", sample_test_sparse_matrix)\n",
    "    print('Done..\\n')\n",
    "\n",
    "\n",
    "print(datetime.now() - start)"
   ]
  },
  {
   "cell_type": "code",
   "execution_count": 8,
   "metadata": {},
   "outputs": [
    {
     "data": {
      "text/plain": [
       "110403"
      ]
     },
     "execution_count": 8,
     "metadata": {},
     "output_type": "execute_result"
    }
   ],
   "source": [
    "sample_test_sparse_matrix.count_nonzero()"
   ]
  },
  {
   "cell_type": "markdown",
   "metadata": {},
   "source": [
    " "
   ]
  },
  {
   "cell_type": "markdown",
   "metadata": {},
   "source": [
    "# Computing Average Ratings (from Train data)"
   ]
  },
  {
   "cell_type": "code",
   "execution_count": 10,
   "metadata": {},
   "outputs": [],
   "source": [
    "averages = dict()"
   ]
  },
  {
   "cell_type": "code",
   "execution_count": 11,
   "metadata": {},
   "outputs": [],
   "source": [
    "# Boolean matrix of ratings ( whether a user rated that movie or not)\n",
    "is_rated = sample_train_sparse_matrix!=0"
   ]
  },
  {
   "cell_type": "code",
   "execution_count": 12,
   "metadata": {},
   "outputs": [
    {
     "data": {
      "text/plain": [
       "{'global': 3.568888733469234}"
      ]
     },
     "execution_count": 12,
     "metadata": {},
     "output_type": "execute_result"
    }
   ],
   "source": [
    "# get the global average of ratings in our train set.\n",
    "global_average = sample_train_sparse_matrix.sum()/sample_train_sparse_matrix.count_nonzero()\n",
    "averages['global'] = global_average\n",
    "averages"
   ]
  },
  {
   "cell_type": "markdown",
   "metadata": {},
   "source": [
    "### User averages"
   ]
  },
  {
   "cell_type": "code",
   "execution_count": 13,
   "metadata": {},
   "outputs": [
    {
     "data": {
      "text/plain": [
       "4.416666666666667"
      ]
     },
     "execution_count": 13,
     "metadata": {},
     "output_type": "execute_result"
    }
   ],
   "source": [
    "# get the user averages in dictionary (key: userid, value: avg rating)\n",
    "#_____________________________________________________________________#\n",
    "\n",
    "# \".A1\" is for converting Column_Matrix to 1-D numpy array \n",
    "sum_of_ratings_per_user = sample_train_sparse_matrix.sum(axis=1).A1\n",
    "# no of ratings that each user has given.\n",
    "no_of_ratings_per_user = is_rated.sum(axis=1).A1\n",
    "\n",
    "# creae a dictonary of users and their average ratigns..\n",
    "average_user_ratings = { i : sum_of_ratings_per_user[i]/no_of_ratings_per_user[i]  \n",
    "                                 for i in range(sample_train_sparse_matrix.shape[0]) \n",
    "                                    if no_of_ratings_per_user[i] !=0}\n",
    "\n",
    "# add user averages to th eaverages dictionary\n",
    "averages['user'] = average_user_ratings\n",
    "\n",
    "# test it..\n",
    "averages['user'][97]"
   ]
  },
  {
   "cell_type": "markdown",
   "metadata": {},
   "source": [
    "### Movie Averages"
   ]
  },
  {
   "cell_type": "code",
   "execution_count": 14,
   "metadata": {},
   "outputs": [
    {
     "data": {
      "text/plain": [
       "3.7222222222222223"
      ]
     },
     "execution_count": 14,
     "metadata": {},
     "output_type": "execute_result"
    }
   ],
   "source": [
    "# get the Movie Average ratings in dictionary (key: movieId, value: avg_rating)\n",
    "#_____________________________________________________________________#\n",
    "\n",
    "# sum of the ratings that a movie got by any user(who rated that movie..)\n",
    "sum_of_ratings_per_movie = sample_train_sparse_matrix.sum(axis=0).A1\n",
    "# no of ratings that a movie got.\n",
    "no_of_ratings_per_movie = is_rated.sum(axis=0).A1\n",
    "\n",
    "average_movie_ratings = {i : sum_of_ratings_per_movie[i]/ no_of_ratings_per_movie[i] \n",
    "                                for i in range(sample_train_sparse_matrix.shape[1])\n",
    "                                    if no_of_ratings_per_movie[i]!=0 }\n",
    "\n",
    "# add thie'per_movie' avg ratings to averages dictionary\n",
    "averages['movie'] = average_movie_ratings\n",
    "\n",
    "# test this dictionary\n",
    "averages['movie'][30]"
   ]
  },
  {
   "cell_type": "markdown",
   "metadata": {},
   "source": [
    " "
   ]
  },
  {
   "cell_type": "markdown",
   "metadata": {},
   "source": [
    " "
   ]
  },
  {
   "cell_type": "markdown",
   "metadata": {},
   "source": [
    "# Preparing Train and Test data for XGBoost"
   ]
  },
  {
   "cell_type": "code",
   "execution_count": 13,
   "metadata": {},
   "outputs": [],
   "source": [
    "from sklearn.metrics.pairwise import cosine_similarity"
   ]
  },
  {
   "cell_type": "code",
   "execution_count": 9,
   "metadata": {},
   "outputs": [],
   "source": [
    "sample_train_users, sample_train_movies, sample_train_ratings = sparse.find(sample_train_sparse_matrix)"
   ]
  },
  {
   "cell_type": "code",
   "execution_count": 10,
   "metadata": {},
   "outputs": [
    {
     "data": {
      "text/plain": [
       "(486139, 486139, 486139)"
      ]
     },
     "execution_count": 10,
     "metadata": {},
     "output_type": "execute_result"
    }
   ],
   "source": [
    "len((sample_train_users)), len(sample_train_movies), len(sample_train_ratings)"
   ]
  },
  {
   "cell_type": "markdown",
   "metadata": {},
   "source": [
    "## Preparing Train data "
   ]
  },
  {
   "cell_type": "code",
   "execution_count": 16,
   "metadata": {
    "scrolled": true
   },
   "outputs": [
    {
     "name": "stdout",
     "output_type": "stream",
     "text": [
      "It is already in the disk. you don't have to prepare it again\n",
      "0:00:00.000566\n"
     ]
    }
   ],
   "source": [
    "start = datetime.now()\n",
    "if os.path.isfile('sample/big/reg_train.csv'):\n",
    "    print(\"It is already in the disk. you don't have to prepare it again\")\n",
    "else:\n",
    "    print('preparing {} tuples for the dataset..\\n'.format(len(sample_train_ratings)))\n",
    "    with open('sample/big/reg_train.csv', mode='a') as reg_data_file:\n",
    "        count = 0\n",
    "        for (user, movie, rating)  in zip(sample_train_users, sample_train_movies, sample_train_ratings):\n",
    "            st = datetime.now()\n",
    "        #     print(user, movie)    \n",
    "            #--------------------- Ratings of \"movie\" by similar users of \"user\" ---------------------\n",
    "            # compute the similar Users of the \"user\"        \n",
    "            user_sim = cosine_similarity(sample_train_sparse_matrix[user], sample_train_sparse_matrix).ravel()\n",
    "            top_sim_users = user_sim.argsort()[::-1][1:] # we are ignoring 'The User' from its similar users.\n",
    "            # get the ratings of most similar users for this movie\n",
    "            top_ratings = sample_train_sparse_matrix[top_sim_users, movie].toarray().ravel()\n",
    "            # we will make it's length \"5\" by adding movie averages to .\n",
    "            top_sim_users_ratings = list(top_ratings[top_ratings != 0][:5])\n",
    "            top_sim_users_ratings.extend([averages['movie'][movie]]*(5 - len(top_sim_users_ratings)))\n",
    "        #     print(top_sim_users_ratings, end=\" \")    \n",
    "\n",
    "\n",
    "            #--------------------- Ratings by \"user\"  to similar movies of \"movie\" ---------------------\n",
    "            # compute the similar movies of the \"movie\"        \n",
    "            movie_sim = cosine_similarity(sample_train_sparse_matrix[:,movie].T, sample_train_sparse_matrix.T).ravel()\n",
    "            top_sim_movies = movie_sim.argsort()[::-1][1:] # we are ignoring 'The User' from its similar users.\n",
    "            # get the ratings of most similar movie rated by this user..\n",
    "            top_ratings = sample_train_sparse_matrix[user, top_sim_movies].toarray().ravel()\n",
    "            # we will make it's length \"5\" by adding user averages to.\n",
    "            top_sim_movies_ratings = list(top_ratings[top_ratings != 0][:5])\n",
    "            top_sim_movies_ratings.extend([averages['user'][user]]*(5-len(top_sim_movies_ratings))) \n",
    "        #     print(top_sim_movies_ratings, end=\" : -- \")\n",
    "\n",
    "            #-----------------prepare the row to be stores in a file-----------------#\n",
    "            row = list()\n",
    "            row.append(averages['global']) # first feature\n",
    "            # next 5 features are similar_users \"movie\" ratings\n",
    "            row.extend(top_sim_users_ratings)\n",
    "            # next 5 features are \"user\" ratings for similar_movies\n",
    "            row.extend(top_sim_movies_ratings)\n",
    "            # Avg_user rating\n",
    "            row.append(averages['user'][user])\n",
    "            # Avg_movie rating\n",
    "            row.append(averages['movie'][movie])\n",
    "\n",
    "            # finalley, The actual Rating of this user-movie pair...\n",
    "            row.append(rating)\n",
    "            count = count + 1\n",
    "\n",
    "            # add rows to the file opened..\n",
    "            reg_data_file.write(','.join(map(str, row)))\n",
    "            reg_data_file.write('\\n')        \n",
    "            if (count)%10000 == 0:\n",
    "                # print(','.join(map(str, row)))\n",
    "                print(\"Done for {} rows----- {}\".format(count, datetime.now() - start))    \n",
    "print(datetime.now() - start)"
   ]
  },
  {
   "cell_type": "markdown",
   "metadata": {},
   "source": [
    "## Preparing Test data"
   ]
  },
  {
   "cell_type": "code",
   "execution_count": 11,
   "metadata": {},
   "outputs": [],
   "source": [
    "sample_test_users, sample_test_movies, sample_test_ratings = sparse.find(sample_test_sparse_matrix)"
   ]
  },
  {
   "cell_type": "code",
   "execution_count": 12,
   "metadata": {},
   "outputs": [
    {
     "data": {
      "text/plain": [
       "(110403, 110403, 110403)"
      ]
     },
     "execution_count": 12,
     "metadata": {},
     "output_type": "execute_result"
    }
   ],
   "source": [
    "len(sample_test_users), len(sample_test_movies), len(sample_test_ratings)"
   ]
  },
  {
   "cell_type": "code",
   "execution_count": 19,
   "metadata": {
    "scrolled": true
   },
   "outputs": [
    {
     "name": "stdout",
     "output_type": "stream",
     "text": [
      "It is already in the disk. you don't have to prepare it again\n",
      " 0:00:00.000775\n",
      "\n",
      "No. of cold start problems handled : 0\n"
     ]
    }
   ],
   "source": [
    "start = datetime.now()\n",
    "cold_start_count = 0\n",
    "\n",
    "if os.path.isfile('sample/big/reg_test.csv'):\n",
    "    print(\"It is already in the disk. you don't have to prepare it again\")\n",
    "else:\n",
    "    print('preparing {} tuples for the dataset..\\n'.format(len(sample_test_ratings)))\n",
    "    with open('sample/big/reg_test.csv', mode='a') as reg_data_file:\n",
    "        count = 0 \n",
    "        for (user, movie, rating)  in zip(sample_test_users, sample_test_movies, sample_test_ratings):\n",
    "            st = datetime.now()\n",
    "\n",
    "        #--------------------- Ratings of \"movie\" by similar users of \"user\" ---------------------\n",
    "            #print(user, movie)\n",
    "            try:\n",
    "                # compute the similar Users of the \"user\"        \n",
    "                user_sim = cosine_similarity(sample_test_sparse_matrix[user], sample_test_sparse_matrix).ravel()\n",
    "                top_sim_users = user_sim.argsort()[::-1][1:] # we are ignoring 'The User' from its similar users.\n",
    "                # get the ratings of most similar users for this movie\n",
    "                top_ratings = sample_test_sparse_matrix[top_sim_users, movie].toarray().ravel()\n",
    "                # we will make it's length \"5\" by adding movie averages to .\n",
    "                top_sim_users_ratings = list(top_ratings[top_ratings != 0][:5])\n",
    "                top_sim_users_ratings.extend([averages['movie'][movie]]*(5 - len(top_sim_users_ratings)))\n",
    "                #print(top_sim_users_ratings, end=\"--\")\n",
    "\n",
    "            except KeyError:\n",
    "                # It is a new User or new Movie or there are no ratings for given user for top similar movies...\n",
    "                ########## Cold STart Problem ##########\n",
    "                cold_start_count = cold_start_count + 1\n",
    "                top_sim_users_ratings.extend([averages['global']]*(5 - len(top_sim_users_ratings)))\n",
    "                #print(top_sim_users_ratings)\n",
    "            except:\n",
    "                # we just want KeyErrors to be resolved. Not every Exception...\n",
    "                raise\n",
    "\n",
    "\n",
    "\n",
    "            #--------------------- Ratings by \"user\"  to similar movies of \"movie\" ---------------------\n",
    "            try:\n",
    "                # compute the similar movies of the \"movie\"        \n",
    "                movie_sim = cosine_similarity(sample_test_sparse_matrix[:,movie].T, sample_test_sparse_matrix.T).ravel()\n",
    "                top_sim_movies = movie_sim.argsort()[::-1][1:] # we are ignoring 'The User' from its similar users.\n",
    "                # get the ratings of most similar movie rated by this user..\n",
    "                top_ratings = sample_test_sparse_matrix[user, top_sim_movies].toarray().ravel()\n",
    "                # we will make it's length \"5\" by adding user averages to.\n",
    "                top_sim_movies_ratings = list(top_ratings[top_ratings != 0][:5])\n",
    "                top_sim_movies_ratings.extend([averages['user'][user]]*(5-len(top_sim_movies_ratings))) \n",
    "                #print(top_sim_movies_ratings)\n",
    "            except KeyError:\n",
    "                cold_start_count = cold_start_count + 1\n",
    "                #print(top_sim_movies_ratings, end=\" : -- \")\n",
    "                top_sim_movies_ratings.extend([averages['global']]*(5-len(top_sim_movies_ratings)))\n",
    "                #print(top_sim_movies_ratings)\n",
    "            except :\n",
    "                raise\n",
    "\n",
    "            #-----------------prepare the row to be stores in a file-----------------#\n",
    "            row = list()\n",
    "            row.append(averages['global']) # first feature\n",
    "            #print(row)\n",
    "            # next 5 features are similar_users \"movie\" ratings\n",
    "            row.extend(top_sim_users_ratings)\n",
    "            #print(row)\n",
    "            # next 5 features are \"user\" ratings for similar_movies\n",
    "            row.extend(top_sim_movies_ratings)\n",
    "            #print(row)\n",
    "            # Avg_user rating\n",
    "            try:\n",
    "                row.append(averages['user'][user])\n",
    "            except KeyError:\n",
    "                row.append(averages['global'])\n",
    "            except:\n",
    "                raise\n",
    "            #print(row)\n",
    "            # Avg_movie rating\n",
    "            try:\n",
    "                row.append(averages['movie'][movie])\n",
    "            except KeyError:\n",
    "                row.append(averages['global'])\n",
    "            except:\n",
    "                raise\n",
    "            #print(row)\n",
    "            # finalley, The actual Rating of this user-movie pair...\n",
    "            row.append(rating)\n",
    "            #print(row)\n",
    "            count = count + 1\n",
    "\n",
    "            # add rows to the file opened..\n",
    "            reg_data_file.write(','.join(map(str, row)))\n",
    "            #print(','.join(map(str, row)))\n",
    "            reg_data_file.write('\\n')        \n",
    "            if (count)%5000 == 0:\n",
    "                #print(','.join(map(str, row)))\n",
    "                print(\"Done for {} rows----- {}\".format(count, datetime.now() - start))\n",
    "print(\"\",datetime.now() - start)\n",
    "print(\"\\nNo. of cold start problems handled :\", cold_start_count)"
   ]
  },
  {
   "cell_type": "markdown",
   "metadata": {},
   "source": [
    "#### Percentage if Cold Start Cases handled"
   ]
  },
  {
   "cell_type": "code",
   "execution_count": 158,
   "metadata": {
    "scrolled": true
   },
   "outputs": [
    {
     "name": "stdout",
     "output_type": "stream",
     "text": [
      "Cold Start Cases : 49.635426573553254%\n"
     ]
    }
   ],
   "source": [
    "print(\"Cold Start Cases : {}%\".format((cold_start_count/len(sample_test_ratings)) * 100 ))"
   ]
  },
  {
   "cell_type": "markdown",
   "metadata": {},
   "source": [
    "# Some Global dictionary that stores rmse and mape for all the models....\n",
    "\n",
    "- It stores the metrics in a dictionary of dictionaries\n",
    "\n",
    "> __keys__ : model names(string)\n",
    "\n",
    "> __value__: dict(__key__ : metric, __value__ : value )"
   ]
  },
  {
   "cell_type": "code",
   "execution_count": 13,
   "metadata": {
    "scrolled": true
   },
   "outputs": [
    {
     "data": {
      "text/plain": [
       "({}, {})"
      ]
     },
     "execution_count": 13,
     "metadata": {},
     "output_type": "execute_result"
    }
   ],
   "source": [
    "models_evaluation_train = dict()\n",
    "models_evaluation_test = dict()\n",
    "\n",
    "models_evaluation_train, models_evaluation_test"
   ]
  },
  {
   "cell_type": "markdown",
   "metadata": {},
   "source": [
    " \n",
    " "
   ]
  },
  {
   "cell_type": "markdown",
   "metadata": {},
   "source": [
    " ## Reading from the file to make a dataframe"
   ]
  },
  {
   "cell_type": "code",
   "execution_count": 14,
   "metadata": {},
   "outputs": [
    {
     "data": {
      "text/html": [
       "<div>\n",
       "<style scoped>\n",
       "    .dataframe tbody tr th:only-of-type {\n",
       "        vertical-align: middle;\n",
       "    }\n",
       "\n",
       "    .dataframe tbody tr th {\n",
       "        vertical-align: top;\n",
       "    }\n",
       "\n",
       "    .dataframe thead th {\n",
       "        text-align: right;\n",
       "    }\n",
       "</style>\n",
       "<table border=\"1\" class=\"dataframe\">\n",
       "  <thead>\n",
       "    <tr style=\"text-align: right;\">\n",
       "      <th></th>\n",
       "      <th>GAvg</th>\n",
       "      <th>sur1</th>\n",
       "      <th>sur2</th>\n",
       "      <th>sur3</th>\n",
       "      <th>sur4</th>\n",
       "      <th>sur5</th>\n",
       "      <th>smr1</th>\n",
       "      <th>smr2</th>\n",
       "      <th>smr3</th>\n",
       "      <th>smr4</th>\n",
       "      <th>smr5</th>\n",
       "      <th>UAvg</th>\n",
       "      <th>MAvg</th>\n",
       "      <th>rating</th>\n",
       "    </tr>\n",
       "  </thead>\n",
       "  <tbody>\n",
       "    <tr>\n",
       "      <th>0</th>\n",
       "      <td>3.568889</td>\n",
       "      <td>3.0</td>\n",
       "      <td>4.0</td>\n",
       "      <td>1.0</td>\n",
       "      <td>4.0</td>\n",
       "      <td>3.0</td>\n",
       "      <td>5.0</td>\n",
       "      <td>2.0</td>\n",
       "      <td>5.0</td>\n",
       "      <td>4.0</td>\n",
       "      <td>3.0</td>\n",
       "      <td>3.759690</td>\n",
       "      <td>3.0</td>\n",
       "      <td>3.0</td>\n",
       "    </tr>\n",
       "    <tr>\n",
       "      <th>1</th>\n",
       "      <td>3.568889</td>\n",
       "      <td>4.0</td>\n",
       "      <td>3.0</td>\n",
       "      <td>3.0</td>\n",
       "      <td>4.0</td>\n",
       "      <td>3.0</td>\n",
       "      <td>1.0</td>\n",
       "      <td>4.0</td>\n",
       "      <td>3.0</td>\n",
       "      <td>5.0</td>\n",
       "      <td>5.0</td>\n",
       "      <td>3.311377</td>\n",
       "      <td>3.0</td>\n",
       "      <td>1.0</td>\n",
       "    </tr>\n",
       "    <tr>\n",
       "      <th>2</th>\n",
       "      <td>3.568889</td>\n",
       "      <td>4.0</td>\n",
       "      <td>1.0</td>\n",
       "      <td>3.0</td>\n",
       "      <td>4.0</td>\n",
       "      <td>3.0</td>\n",
       "      <td>3.0</td>\n",
       "      <td>4.0</td>\n",
       "      <td>2.0</td>\n",
       "      <td>5.0</td>\n",
       "      <td>3.0</td>\n",
       "      <td>2.661871</td>\n",
       "      <td>3.0</td>\n",
       "      <td>3.0</td>\n",
       "    </tr>\n",
       "    <tr>\n",
       "      <th>3</th>\n",
       "      <td>3.568889</td>\n",
       "      <td>4.0</td>\n",
       "      <td>3.0</td>\n",
       "      <td>3.0</td>\n",
       "      <td>1.0</td>\n",
       "      <td>3.0</td>\n",
       "      <td>3.0</td>\n",
       "      <td>5.0</td>\n",
       "      <td>4.0</td>\n",
       "      <td>4.0</td>\n",
       "      <td>1.0</td>\n",
       "      <td>3.615385</td>\n",
       "      <td>3.0</td>\n",
       "      <td>4.0</td>\n",
       "    </tr>\n",
       "    <tr>\n",
       "      <th>4</th>\n",
       "      <td>3.568889</td>\n",
       "      <td>4.0</td>\n",
       "      <td>4.0</td>\n",
       "      <td>3.0</td>\n",
       "      <td>3.0</td>\n",
       "      <td>1.0</td>\n",
       "      <td>3.0</td>\n",
       "      <td>3.0</td>\n",
       "      <td>3.0</td>\n",
       "      <td>3.0</td>\n",
       "      <td>3.0</td>\n",
       "      <td>3.000000</td>\n",
       "      <td>3.0</td>\n",
       "      <td>3.0</td>\n",
       "    </tr>\n",
       "  </tbody>\n",
       "</table>\n",
       "</div>"
      ],
      "text/plain": [
       "       GAvg  sur1  sur2  sur3  sur4  sur5  smr1  smr2  smr3  smr4  smr5  \\\n",
       "0  3.568889   3.0   4.0   1.0   4.0   3.0   5.0   2.0   5.0   4.0   3.0   \n",
       "1  3.568889   4.0   3.0   3.0   4.0   3.0   1.0   4.0   3.0   5.0   5.0   \n",
       "2  3.568889   4.0   1.0   3.0   4.0   3.0   3.0   4.0   2.0   5.0   3.0   \n",
       "3  3.568889   4.0   3.0   3.0   1.0   3.0   3.0   5.0   4.0   4.0   1.0   \n",
       "4  3.568889   4.0   4.0   3.0   3.0   1.0   3.0   3.0   3.0   3.0   3.0   \n",
       "\n",
       "       UAvg  MAvg  rating  \n",
       "0  3.759690   3.0     3.0  \n",
       "1  3.311377   3.0     1.0  \n",
       "2  2.661871   3.0     3.0  \n",
       "3  3.615385   3.0     4.0  \n",
       "4  3.000000   3.0     3.0  "
      ]
     },
     "execution_count": 14,
     "metadata": {},
     "output_type": "execute_result"
    }
   ],
   "source": [
    "reg_train = pd.read_csv('sample/big/reg_train.csv',names = [ 'GAvg', 'sur1', 'sur2', 'sur3', 'sur4', 'sur5',\n",
    "                                                         'smr1', 'smr2', 'smr3', 'smr4', 'smr5',\n",
    "                                                        'UAvg', 'MAvg', 'rating'], header=None)\n",
    "reg_train.head()"
   ]
  },
  {
   "cell_type": "code",
   "execution_count": 15,
   "metadata": {},
   "outputs": [
    {
     "data": {
      "text/plain": [
       "(486139, 14)"
      ]
     },
     "execution_count": 15,
     "metadata": {},
     "output_type": "execute_result"
    }
   ],
   "source": [
    "reg_train.shape"
   ]
  },
  {
   "cell_type": "markdown",
   "metadata": {},
   "source": [
    "# XGBoost Regressor"
   ]
  },
  {
   "cell_type": "markdown",
   "metadata": {},
   "source": [
    "Install xgboost in windows : https://www.youtube.com/watch?v=k51sX_ApQYU \n",
    "\n",
    "- and run the below code before imporing in your ipython notebook\n",
    "\n",
    "    - import os\n",
    "\n",
    "    - mingw_path = 'C:\\\\Program Files\\\\mingw-w64\\\\x86_64-7.2.0-posix-seh-rt_v5-rev1\\\\mingw64\\\\bin'\n",
    "\n",
    "    - os.environ['PATH'] = mingw_path + ';' + os.environ['PATH']"
   ]
  },
  {
   "cell_type": "code",
   "execution_count": 16,
   "metadata": {},
   "outputs": [],
   "source": [
    "import xgboost as xgb"
   ]
  },
  {
   "cell_type": "code",
   "execution_count": 17,
   "metadata": {},
   "outputs": [
    {
     "name": "stdout",
     "output_type": "stream",
     "text": [
      "Time taken to train the model : 0:00:07.858805\n",
      "\n"
     ]
    }
   ],
   "source": [
    "reg_xgb = xgb.XGBRegressor(silent=False, n_jobs=10, random_state=15)\n",
    "\n",
    "x_train = reg_train.drop(['rating'], axis=1)\n",
    "\n",
    "y_train = reg_train['rating']\n",
    "\n",
    "start = datetime.now()\n",
    "\n",
    "reg_xgb.fit(x_train, y_train, eval_metric = 'rmse')\n",
    "\n",
    "print('Time taken to train the model : {}\\n'.format(datetime.now() - start))"
   ]
  },
  {
   "cell_type": "code",
   "execution_count": 18,
   "metadata": {},
   "outputs": [
    {
     "name": "stdout",
     "output_type": "stream",
     "text": [
      "Time taken to predict training data : 0:00:00.800216\n",
      "\n"
     ]
    }
   ],
   "source": [
    "start =datetime.now()\n",
    "y_train_pred = reg_xgb.predict(x_train)\n",
    "print('Time taken to predict training data : {}\\n'.format(datetime.now() - start))"
   ]
  },
  {
   "cell_type": "code",
   "execution_count": 19,
   "metadata": {},
   "outputs": [],
   "source": [
    "from sklearn.metrics import mean_squared_error"
   ]
  },
  {
   "cell_type": "code",
   "execution_count": 20,
   "metadata": {},
   "outputs": [
    {
     "data": {
      "text/plain": [
       "{'mape': 26.43305715452889,\n",
       " 'predictions': array([3.2484865, 2.7271154, 2.382434 , ..., 1.9439687, 2.1469421,\n",
       "        2.3933873], dtype=float32),\n",
       " 'rmse': 0.8704784998407008}"
      ]
     },
     "execution_count": 20,
     "metadata": {},
     "output_type": "execute_result"
    }
   ],
   "source": [
    "# storing in models_evaluations dict\n",
    "#################################################################\n",
    "models_evaluation_train['first_xgb'] = {'rmse': np.sqrt(mean_squared_error(y_train, y_train_pred)),\n",
    "                                        'mape': np.mean(np.abs((y_train.values-y_train_pred)/y_train.values ))*100,\n",
    "                                        'predictions': y_train_pred}\n",
    "\n",
    "models_evaluation_train['first_xgb']"
   ]
  },
  {
   "cell_type": "code",
   "execution_count": 21,
   "metadata": {
    "scrolled": false
   },
   "outputs": [
    {
     "data": {
      "application/javascript": [
       "/* Put everything inside the global mpl namespace */\n",
       "window.mpl = {};\n",
       "\n",
       "\n",
       "mpl.get_websocket_type = function() {\n",
       "    if (typeof(WebSocket) !== 'undefined') {\n",
       "        return WebSocket;\n",
       "    } else if (typeof(MozWebSocket) !== 'undefined') {\n",
       "        return MozWebSocket;\n",
       "    } else {\n",
       "        alert('Your browser does not have WebSocket support.' +\n",
       "              'Please try Chrome, Safari or Firefox ≥ 6. ' +\n",
       "              'Firefox 4 and 5 are also supported but you ' +\n",
       "              'have to enable WebSockets in about:config.');\n",
       "    };\n",
       "}\n",
       "\n",
       "mpl.figure = function(figure_id, websocket, ondownload, parent_element) {\n",
       "    this.id = figure_id;\n",
       "\n",
       "    this.ws = websocket;\n",
       "\n",
       "    this.supports_binary = (this.ws.binaryType != undefined);\n",
       "\n",
       "    if (!this.supports_binary) {\n",
       "        var warnings = document.getElementById(\"mpl-warnings\");\n",
       "        if (warnings) {\n",
       "            warnings.style.display = 'block';\n",
       "            warnings.textContent = (\n",
       "                \"This browser does not support binary websocket messages. \" +\n",
       "                    \"Performance may be slow.\");\n",
       "        }\n",
       "    }\n",
       "\n",
       "    this.imageObj = new Image();\n",
       "\n",
       "    this.context = undefined;\n",
       "    this.message = undefined;\n",
       "    this.canvas = undefined;\n",
       "    this.rubberband_canvas = undefined;\n",
       "    this.rubberband_context = undefined;\n",
       "    this.format_dropdown = undefined;\n",
       "\n",
       "    this.image_mode = 'full';\n",
       "\n",
       "    this.root = $('<div/>');\n",
       "    this._root_extra_style(this.root)\n",
       "    this.root.attr('style', 'display: inline-block');\n",
       "\n",
       "    $(parent_element).append(this.root);\n",
       "\n",
       "    this._init_header(this);\n",
       "    this._init_canvas(this);\n",
       "    this._init_toolbar(this);\n",
       "\n",
       "    var fig = this;\n",
       "\n",
       "    this.waiting = false;\n",
       "\n",
       "    this.ws.onopen =  function () {\n",
       "            fig.send_message(\"supports_binary\", {value: fig.supports_binary});\n",
       "            fig.send_message(\"send_image_mode\", {});\n",
       "            if (mpl.ratio != 1) {\n",
       "                fig.send_message(\"set_dpi_ratio\", {'dpi_ratio': mpl.ratio});\n",
       "            }\n",
       "            fig.send_message(\"refresh\", {});\n",
       "        }\n",
       "\n",
       "    this.imageObj.onload = function() {\n",
       "            if (fig.image_mode == 'full') {\n",
       "                // Full images could contain transparency (where diff images\n",
       "                // almost always do), so we need to clear the canvas so that\n",
       "                // there is no ghosting.\n",
       "                fig.context.clearRect(0, 0, fig.canvas.width, fig.canvas.height);\n",
       "            }\n",
       "            fig.context.drawImage(fig.imageObj, 0, 0);\n",
       "        };\n",
       "\n",
       "    this.imageObj.onunload = function() {\n",
       "        fig.ws.close();\n",
       "    }\n",
       "\n",
       "    this.ws.onmessage = this._make_on_message_function(this);\n",
       "\n",
       "    this.ondownload = ondownload;\n",
       "}\n",
       "\n",
       "mpl.figure.prototype._init_header = function() {\n",
       "    var titlebar = $(\n",
       "        '<div class=\"ui-dialog-titlebar ui-widget-header ui-corner-all ' +\n",
       "        'ui-helper-clearfix\"/>');\n",
       "    var titletext = $(\n",
       "        '<div class=\"ui-dialog-title\" style=\"width: 100%; ' +\n",
       "        'text-align: center; padding: 3px;\"/>');\n",
       "    titlebar.append(titletext)\n",
       "    this.root.append(titlebar);\n",
       "    this.header = titletext[0];\n",
       "}\n",
       "\n",
       "\n",
       "\n",
       "mpl.figure.prototype._canvas_extra_style = function(canvas_div) {\n",
       "\n",
       "}\n",
       "\n",
       "\n",
       "mpl.figure.prototype._root_extra_style = function(canvas_div) {\n",
       "\n",
       "}\n",
       "\n",
       "mpl.figure.prototype._init_canvas = function() {\n",
       "    var fig = this;\n",
       "\n",
       "    var canvas_div = $('<div/>');\n",
       "\n",
       "    canvas_div.attr('style', 'position: relative; clear: both; outline: 0');\n",
       "\n",
       "    function canvas_keyboard_event(event) {\n",
       "        return fig.key_event(event, event['data']);\n",
       "    }\n",
       "\n",
       "    canvas_div.keydown('key_press', canvas_keyboard_event);\n",
       "    canvas_div.keyup('key_release', canvas_keyboard_event);\n",
       "    this.canvas_div = canvas_div\n",
       "    this._canvas_extra_style(canvas_div)\n",
       "    this.root.append(canvas_div);\n",
       "\n",
       "    var canvas = $('<canvas/>');\n",
       "    canvas.addClass('mpl-canvas');\n",
       "    canvas.attr('style', \"left: 0; top: 0; z-index: 0; outline: 0\")\n",
       "\n",
       "    this.canvas = canvas[0];\n",
       "    this.context = canvas[0].getContext(\"2d\");\n",
       "\n",
       "    var backingStore = this.context.backingStorePixelRatio ||\n",
       "\tthis.context.webkitBackingStorePixelRatio ||\n",
       "\tthis.context.mozBackingStorePixelRatio ||\n",
       "\tthis.context.msBackingStorePixelRatio ||\n",
       "\tthis.context.oBackingStorePixelRatio ||\n",
       "\tthis.context.backingStorePixelRatio || 1;\n",
       "\n",
       "    mpl.ratio = (window.devicePixelRatio || 1) / backingStore;\n",
       "\n",
       "    var rubberband = $('<canvas/>');\n",
       "    rubberband.attr('style', \"position: absolute; left: 0; top: 0; z-index: 1;\")\n",
       "\n",
       "    var pass_mouse_events = true;\n",
       "\n",
       "    canvas_div.resizable({\n",
       "        start: function(event, ui) {\n",
       "            pass_mouse_events = false;\n",
       "        },\n",
       "        resize: function(event, ui) {\n",
       "            fig.request_resize(ui.size.width, ui.size.height);\n",
       "        },\n",
       "        stop: function(event, ui) {\n",
       "            pass_mouse_events = true;\n",
       "            fig.request_resize(ui.size.width, ui.size.height);\n",
       "        },\n",
       "    });\n",
       "\n",
       "    function mouse_event_fn(event) {\n",
       "        if (pass_mouse_events)\n",
       "            return fig.mouse_event(event, event['data']);\n",
       "    }\n",
       "\n",
       "    rubberband.mousedown('button_press', mouse_event_fn);\n",
       "    rubberband.mouseup('button_release', mouse_event_fn);\n",
       "    // Throttle sequential mouse events to 1 every 20ms.\n",
       "    rubberband.mousemove('motion_notify', mouse_event_fn);\n",
       "\n",
       "    rubberband.mouseenter('figure_enter', mouse_event_fn);\n",
       "    rubberband.mouseleave('figure_leave', mouse_event_fn);\n",
       "\n",
       "    canvas_div.on(\"wheel\", function (event) {\n",
       "        event = event.originalEvent;\n",
       "        event['data'] = 'scroll'\n",
       "        if (event.deltaY < 0) {\n",
       "            event.step = 1;\n",
       "        } else {\n",
       "            event.step = -1;\n",
       "        }\n",
       "        mouse_event_fn(event);\n",
       "    });\n",
       "\n",
       "    canvas_div.append(canvas);\n",
       "    canvas_div.append(rubberband);\n",
       "\n",
       "    this.rubberband = rubberband;\n",
       "    this.rubberband_canvas = rubberband[0];\n",
       "    this.rubberband_context = rubberband[0].getContext(\"2d\");\n",
       "    this.rubberband_context.strokeStyle = \"#000000\";\n",
       "\n",
       "    this._resize_canvas = function(width, height) {\n",
       "        // Keep the size of the canvas, canvas container, and rubber band\n",
       "        // canvas in synch.\n",
       "        canvas_div.css('width', width)\n",
       "        canvas_div.css('height', height)\n",
       "\n",
       "        canvas.attr('width', width * mpl.ratio);\n",
       "        canvas.attr('height', height * mpl.ratio);\n",
       "        canvas.attr('style', 'width: ' + width + 'px; height: ' + height + 'px;');\n",
       "\n",
       "        rubberband.attr('width', width);\n",
       "        rubberband.attr('height', height);\n",
       "    }\n",
       "\n",
       "    // Set the figure to an initial 600x600px, this will subsequently be updated\n",
       "    // upon first draw.\n",
       "    this._resize_canvas(600, 600);\n",
       "\n",
       "    // Disable right mouse context menu.\n",
       "    $(this.rubberband_canvas).bind(\"contextmenu\",function(e){\n",
       "        return false;\n",
       "    });\n",
       "\n",
       "    function set_focus () {\n",
       "        canvas.focus();\n",
       "        canvas_div.focus();\n",
       "    }\n",
       "\n",
       "    window.setTimeout(set_focus, 100);\n",
       "}\n",
       "\n",
       "mpl.figure.prototype._init_toolbar = function() {\n",
       "    var fig = this;\n",
       "\n",
       "    var nav_element = $('<div/>')\n",
       "    nav_element.attr('style', 'width: 100%');\n",
       "    this.root.append(nav_element);\n",
       "\n",
       "    // Define a callback function for later on.\n",
       "    function toolbar_event(event) {\n",
       "        return fig.toolbar_button_onclick(event['data']);\n",
       "    }\n",
       "    function toolbar_mouse_event(event) {\n",
       "        return fig.toolbar_button_onmouseover(event['data']);\n",
       "    }\n",
       "\n",
       "    for(var toolbar_ind in mpl.toolbar_items) {\n",
       "        var name = mpl.toolbar_items[toolbar_ind][0];\n",
       "        var tooltip = mpl.toolbar_items[toolbar_ind][1];\n",
       "        var image = mpl.toolbar_items[toolbar_ind][2];\n",
       "        var method_name = mpl.toolbar_items[toolbar_ind][3];\n",
       "\n",
       "        if (!name) {\n",
       "            // put a spacer in here.\n",
       "            continue;\n",
       "        }\n",
       "        var button = $('<button/>');\n",
       "        button.addClass('ui-button ui-widget ui-state-default ui-corner-all ' +\n",
       "                        'ui-button-icon-only');\n",
       "        button.attr('role', 'button');\n",
       "        button.attr('aria-disabled', 'false');\n",
       "        button.click(method_name, toolbar_event);\n",
       "        button.mouseover(tooltip, toolbar_mouse_event);\n",
       "\n",
       "        var icon_img = $('<span/>');\n",
       "        icon_img.addClass('ui-button-icon-primary ui-icon');\n",
       "        icon_img.addClass(image);\n",
       "        icon_img.addClass('ui-corner-all');\n",
       "\n",
       "        var tooltip_span = $('<span/>');\n",
       "        tooltip_span.addClass('ui-button-text');\n",
       "        tooltip_span.html(tooltip);\n",
       "\n",
       "        button.append(icon_img);\n",
       "        button.append(tooltip_span);\n",
       "\n",
       "        nav_element.append(button);\n",
       "    }\n",
       "\n",
       "    var fmt_picker_span = $('<span/>');\n",
       "\n",
       "    var fmt_picker = $('<select/>');\n",
       "    fmt_picker.addClass('mpl-toolbar-option ui-widget ui-widget-content');\n",
       "    fmt_picker_span.append(fmt_picker);\n",
       "    nav_element.append(fmt_picker_span);\n",
       "    this.format_dropdown = fmt_picker[0];\n",
       "\n",
       "    for (var ind in mpl.extensions) {\n",
       "        var fmt = mpl.extensions[ind];\n",
       "        var option = $(\n",
       "            '<option/>', {selected: fmt === mpl.default_extension}).html(fmt);\n",
       "        fmt_picker.append(option)\n",
       "    }\n",
       "\n",
       "    // Add hover states to the ui-buttons\n",
       "    $( \".ui-button\" ).hover(\n",
       "        function() { $(this).addClass(\"ui-state-hover\");},\n",
       "        function() { $(this).removeClass(\"ui-state-hover\");}\n",
       "    );\n",
       "\n",
       "    var status_bar = $('<span class=\"mpl-message\"/>');\n",
       "    nav_element.append(status_bar);\n",
       "    this.message = status_bar[0];\n",
       "}\n",
       "\n",
       "mpl.figure.prototype.request_resize = function(x_pixels, y_pixels) {\n",
       "    // Request matplotlib to resize the figure. Matplotlib will then trigger a resize in the client,\n",
       "    // which will in turn request a refresh of the image.\n",
       "    this.send_message('resize', {'width': x_pixels, 'height': y_pixels});\n",
       "}\n",
       "\n",
       "mpl.figure.prototype.send_message = function(type, properties) {\n",
       "    properties['type'] = type;\n",
       "    properties['figure_id'] = this.id;\n",
       "    this.ws.send(JSON.stringify(properties));\n",
       "}\n",
       "\n",
       "mpl.figure.prototype.send_draw_message = function() {\n",
       "    if (!this.waiting) {\n",
       "        this.waiting = true;\n",
       "        this.ws.send(JSON.stringify({type: \"draw\", figure_id: this.id}));\n",
       "    }\n",
       "}\n",
       "\n",
       "\n",
       "mpl.figure.prototype.handle_save = function(fig, msg) {\n",
       "    var format_dropdown = fig.format_dropdown;\n",
       "    var format = format_dropdown.options[format_dropdown.selectedIndex].value;\n",
       "    fig.ondownload(fig, format);\n",
       "}\n",
       "\n",
       "\n",
       "mpl.figure.prototype.handle_resize = function(fig, msg) {\n",
       "    var size = msg['size'];\n",
       "    if (size[0] != fig.canvas.width || size[1] != fig.canvas.height) {\n",
       "        fig._resize_canvas(size[0], size[1]);\n",
       "        fig.send_message(\"refresh\", {});\n",
       "    };\n",
       "}\n",
       "\n",
       "mpl.figure.prototype.handle_rubberband = function(fig, msg) {\n",
       "    var x0 = msg['x0'] / mpl.ratio;\n",
       "    var y0 = (fig.canvas.height - msg['y0']) / mpl.ratio;\n",
       "    var x1 = msg['x1'] / mpl.ratio;\n",
       "    var y1 = (fig.canvas.height - msg['y1']) / mpl.ratio;\n",
       "    x0 = Math.floor(x0) + 0.5;\n",
       "    y0 = Math.floor(y0) + 0.5;\n",
       "    x1 = Math.floor(x1) + 0.5;\n",
       "    y1 = Math.floor(y1) + 0.5;\n",
       "    var min_x = Math.min(x0, x1);\n",
       "    var min_y = Math.min(y0, y1);\n",
       "    var width = Math.abs(x1 - x0);\n",
       "    var height = Math.abs(y1 - y0);\n",
       "\n",
       "    fig.rubberband_context.clearRect(\n",
       "        0, 0, fig.canvas.width, fig.canvas.height);\n",
       "\n",
       "    fig.rubberband_context.strokeRect(min_x, min_y, width, height);\n",
       "}\n",
       "\n",
       "mpl.figure.prototype.handle_figure_label = function(fig, msg) {\n",
       "    // Updates the figure title.\n",
       "    fig.header.textContent = msg['label'];\n",
       "}\n",
       "\n",
       "mpl.figure.prototype.handle_cursor = function(fig, msg) {\n",
       "    var cursor = msg['cursor'];\n",
       "    switch(cursor)\n",
       "    {\n",
       "    case 0:\n",
       "        cursor = 'pointer';\n",
       "        break;\n",
       "    case 1:\n",
       "        cursor = 'default';\n",
       "        break;\n",
       "    case 2:\n",
       "        cursor = 'crosshair';\n",
       "        break;\n",
       "    case 3:\n",
       "        cursor = 'move';\n",
       "        break;\n",
       "    }\n",
       "    fig.rubberband_canvas.style.cursor = cursor;\n",
       "}\n",
       "\n",
       "mpl.figure.prototype.handle_message = function(fig, msg) {\n",
       "    fig.message.textContent = msg['message'];\n",
       "}\n",
       "\n",
       "mpl.figure.prototype.handle_draw = function(fig, msg) {\n",
       "    // Request the server to send over a new figure.\n",
       "    fig.send_draw_message();\n",
       "}\n",
       "\n",
       "mpl.figure.prototype.handle_image_mode = function(fig, msg) {\n",
       "    fig.image_mode = msg['mode'];\n",
       "}\n",
       "\n",
       "mpl.figure.prototype.updated_canvas_event = function() {\n",
       "    // Called whenever the canvas gets updated.\n",
       "    this.send_message(\"ack\", {});\n",
       "}\n",
       "\n",
       "// A function to construct a web socket function for onmessage handling.\n",
       "// Called in the figure constructor.\n",
       "mpl.figure.prototype._make_on_message_function = function(fig) {\n",
       "    return function socket_on_message(evt) {\n",
       "        if (evt.data instanceof Blob) {\n",
       "            /* FIXME: We get \"Resource interpreted as Image but\n",
       "             * transferred with MIME type text/plain:\" errors on\n",
       "             * Chrome.  But how to set the MIME type?  It doesn't seem\n",
       "             * to be part of the websocket stream */\n",
       "            evt.data.type = \"image/png\";\n",
       "\n",
       "            /* Free the memory for the previous frames */\n",
       "            if (fig.imageObj.src) {\n",
       "                (window.URL || window.webkitURL).revokeObjectURL(\n",
       "                    fig.imageObj.src);\n",
       "            }\n",
       "\n",
       "            fig.imageObj.src = (window.URL || window.webkitURL).createObjectURL(\n",
       "                evt.data);\n",
       "            fig.updated_canvas_event();\n",
       "            fig.waiting = false;\n",
       "            return;\n",
       "        }\n",
       "        else if (typeof evt.data === 'string' && evt.data.slice(0, 21) == \"data:image/png;base64\") {\n",
       "            fig.imageObj.src = evt.data;\n",
       "            fig.updated_canvas_event();\n",
       "            fig.waiting = false;\n",
       "            return;\n",
       "        }\n",
       "\n",
       "        var msg = JSON.parse(evt.data);\n",
       "        var msg_type = msg['type'];\n",
       "\n",
       "        // Call the  \"handle_{type}\" callback, which takes\n",
       "        // the figure and JSON message as its only arguments.\n",
       "        try {\n",
       "            var callback = fig[\"handle_\" + msg_type];\n",
       "        } catch (e) {\n",
       "            console.log(\"No handler for the '\" + msg_type + \"' message type: \", msg);\n",
       "            return;\n",
       "        }\n",
       "\n",
       "        if (callback) {\n",
       "            try {\n",
       "                // console.log(\"Handling '\" + msg_type + \"' message: \", msg);\n",
       "                callback(fig, msg);\n",
       "            } catch (e) {\n",
       "                console.log(\"Exception inside the 'handler_\" + msg_type + \"' callback:\", e, e.stack, msg);\n",
       "            }\n",
       "        }\n",
       "    };\n",
       "}\n",
       "\n",
       "// from http://stackoverflow.com/questions/1114465/getting-mouse-location-in-canvas\n",
       "mpl.findpos = function(e) {\n",
       "    //this section is from http://www.quirksmode.org/js/events_properties.html\n",
       "    var targ;\n",
       "    if (!e)\n",
       "        e = window.event;\n",
       "    if (e.target)\n",
       "        targ = e.target;\n",
       "    else if (e.srcElement)\n",
       "        targ = e.srcElement;\n",
       "    if (targ.nodeType == 3) // defeat Safari bug\n",
       "        targ = targ.parentNode;\n",
       "\n",
       "    // jQuery normalizes the pageX and pageY\n",
       "    // pageX,Y are the mouse positions relative to the document\n",
       "    // offset() returns the position of the element relative to the document\n",
       "    var x = e.pageX - $(targ).offset().left;\n",
       "    var y = e.pageY - $(targ).offset().top;\n",
       "\n",
       "    return {\"x\": x, \"y\": y};\n",
       "};\n",
       "\n",
       "/*\n",
       " * return a copy of an object with only non-object keys\n",
       " * we need this to avoid circular references\n",
       " * http://stackoverflow.com/a/24161582/3208463\n",
       " */\n",
       "function simpleKeys (original) {\n",
       "  return Object.keys(original).reduce(function (obj, key) {\n",
       "    if (typeof original[key] !== 'object')\n",
       "        obj[key] = original[key]\n",
       "    return obj;\n",
       "  }, {});\n",
       "}\n",
       "\n",
       "mpl.figure.prototype.mouse_event = function(event, name) {\n",
       "    var canvas_pos = mpl.findpos(event)\n",
       "\n",
       "    if (name === 'button_press')\n",
       "    {\n",
       "        this.canvas.focus();\n",
       "        this.canvas_div.focus();\n",
       "    }\n",
       "\n",
       "    var x = canvas_pos.x * mpl.ratio;\n",
       "    var y = canvas_pos.y * mpl.ratio;\n",
       "\n",
       "    this.send_message(name, {x: x, y: y, button: event.button,\n",
       "                             step: event.step,\n",
       "                             guiEvent: simpleKeys(event)});\n",
       "\n",
       "    /* This prevents the web browser from automatically changing to\n",
       "     * the text insertion cursor when the button is pressed.  We want\n",
       "     * to control all of the cursor setting manually through the\n",
       "     * 'cursor' event from matplotlib */\n",
       "    event.preventDefault();\n",
       "    return false;\n",
       "}\n",
       "\n",
       "mpl.figure.prototype._key_event_extra = function(event, name) {\n",
       "    // Handle any extra behaviour associated with a key event\n",
       "}\n",
       "\n",
       "mpl.figure.prototype.key_event = function(event, name) {\n",
       "\n",
       "    // Prevent repeat events\n",
       "    if (name == 'key_press')\n",
       "    {\n",
       "        if (event.which === this._key)\n",
       "            return;\n",
       "        else\n",
       "            this._key = event.which;\n",
       "    }\n",
       "    if (name == 'key_release')\n",
       "        this._key = null;\n",
       "\n",
       "    var value = '';\n",
       "    if (event.ctrlKey && event.which != 17)\n",
       "        value += \"ctrl+\";\n",
       "    if (event.altKey && event.which != 18)\n",
       "        value += \"alt+\";\n",
       "    if (event.shiftKey && event.which != 16)\n",
       "        value += \"shift+\";\n",
       "\n",
       "    value += 'k';\n",
       "    value += event.which.toString();\n",
       "\n",
       "    this._key_event_extra(event, name);\n",
       "\n",
       "    this.send_message(name, {key: value,\n",
       "                             guiEvent: simpleKeys(event)});\n",
       "    return false;\n",
       "}\n",
       "\n",
       "mpl.figure.prototype.toolbar_button_onclick = function(name) {\n",
       "    if (name == 'download') {\n",
       "        this.handle_save(this, null);\n",
       "    } else {\n",
       "        this.send_message(\"toolbar_button\", {name: name});\n",
       "    }\n",
       "};\n",
       "\n",
       "mpl.figure.prototype.toolbar_button_onmouseover = function(tooltip) {\n",
       "    this.message.textContent = tooltip;\n",
       "};\n",
       "mpl.toolbar_items = [[\"Home\", \"Reset original view\", \"fa fa-home icon-home\", \"home\"], [\"Back\", \"Back to  previous view\", \"fa fa-arrow-left icon-arrow-left\", \"back\"], [\"Forward\", \"Forward to next view\", \"fa fa-arrow-right icon-arrow-right\", \"forward\"], [\"\", \"\", \"\", \"\"], [\"Pan\", \"Pan axes with left mouse, zoom with right\", \"fa fa-arrows icon-move\", \"pan\"], [\"Zoom\", \"Zoom to rectangle\", \"fa fa-square-o icon-check-empty\", \"zoom\"], [\"\", \"\", \"\", \"\"], [\"Download\", \"Download plot\", \"fa fa-floppy-o icon-save\", \"download\"]];\n",
       "\n",
       "mpl.extensions = [\"eps\", \"jpeg\", \"pdf\", \"png\", \"ps\", \"raw\", \"svg\", \"tif\"];\n",
       "\n",
       "mpl.default_extension = \"png\";var comm_websocket_adapter = function(comm) {\n",
       "    // Create a \"websocket\"-like object which calls the given IPython comm\n",
       "    // object with the appropriate methods. Currently this is a non binary\n",
       "    // socket, so there is still some room for performance tuning.\n",
       "    var ws = {};\n",
       "\n",
       "    ws.close = function() {\n",
       "        comm.close()\n",
       "    };\n",
       "    ws.send = function(m) {\n",
       "        //console.log('sending', m);\n",
       "        comm.send(m);\n",
       "    };\n",
       "    // Register the callback with on_msg.\n",
       "    comm.on_msg(function(msg) {\n",
       "        //console.log('receiving', msg['content']['data'], msg);\n",
       "        // Pass the mpl event to the overriden (by mpl) onmessage function.\n",
       "        ws.onmessage(msg['content']['data'])\n",
       "    });\n",
       "    return ws;\n",
       "}\n",
       "\n",
       "mpl.mpl_figure_comm = function(comm, msg) {\n",
       "    // This is the function which gets called when the mpl process\n",
       "    // starts-up an IPython Comm through the \"matplotlib\" channel.\n",
       "\n",
       "    var id = msg.content.data.id;\n",
       "    // Get hold of the div created by the display call when the Comm\n",
       "    // socket was opened in Python.\n",
       "    var element = $(\"#\" + id);\n",
       "    var ws_proxy = comm_websocket_adapter(comm)\n",
       "\n",
       "    function ondownload(figure, format) {\n",
       "        window.open(figure.imageObj.src);\n",
       "    }\n",
       "\n",
       "    var fig = new mpl.figure(id, ws_proxy,\n",
       "                           ondownload,\n",
       "                           element.get(0));\n",
       "\n",
       "    // Call onopen now - mpl needs it, as it is assuming we've passed it a real\n",
       "    // web socket which is closed, not our websocket->open comm proxy.\n",
       "    ws_proxy.onopen();\n",
       "\n",
       "    fig.parent_element = element.get(0);\n",
       "    fig.cell_info = mpl.find_output_cell(\"<div id='\" + id + \"'></div>\");\n",
       "    if (!fig.cell_info) {\n",
       "        console.error(\"Failed to find cell for figure\", id, fig);\n",
       "        return;\n",
       "    }\n",
       "\n",
       "    var output_index = fig.cell_info[2]\n",
       "    var cell = fig.cell_info[0];\n",
       "\n",
       "};\n",
       "\n",
       "mpl.figure.prototype.handle_close = function(fig, msg) {\n",
       "    var width = fig.canvas.width/mpl.ratio\n",
       "    fig.root.unbind('remove')\n",
       "\n",
       "    // Update the output cell to use the data from the current canvas.\n",
       "    fig.push_to_output();\n",
       "    var dataURL = fig.canvas.toDataURL();\n",
       "    // Re-enable the keyboard manager in IPython - without this line, in FF,\n",
       "    // the notebook keyboard shortcuts fail.\n",
       "    IPython.keyboard_manager.enable()\n",
       "    $(fig.parent_element).html('<img src=\"' + dataURL + '\" width=\"' + width + '\">');\n",
       "    fig.close_ws(fig, msg);\n",
       "}\n",
       "\n",
       "mpl.figure.prototype.close_ws = function(fig, msg){\n",
       "    fig.send_message('closing', msg);\n",
       "    // fig.ws.close()\n",
       "}\n",
       "\n",
       "mpl.figure.prototype.push_to_output = function(remove_interactive) {\n",
       "    // Turn the data on the canvas into data in the output cell.\n",
       "    var width = this.canvas.width/mpl.ratio\n",
       "    var dataURL = this.canvas.toDataURL();\n",
       "    this.cell_info[1]['text/html'] = '<img src=\"' + dataURL + '\" width=\"' + width + '\">';\n",
       "}\n",
       "\n",
       "mpl.figure.prototype.updated_canvas_event = function() {\n",
       "    // Tell IPython that the notebook contents must change.\n",
       "    IPython.notebook.set_dirty(true);\n",
       "    this.send_message(\"ack\", {});\n",
       "    var fig = this;\n",
       "    // Wait a second, then push the new image to the DOM so\n",
       "    // that it is saved nicely (might be nice to debounce this).\n",
       "    setTimeout(function () { fig.push_to_output() }, 1000);\n",
       "}\n",
       "\n",
       "mpl.figure.prototype._init_toolbar = function() {\n",
       "    var fig = this;\n",
       "\n",
       "    var nav_element = $('<div/>')\n",
       "    nav_element.attr('style', 'width: 100%');\n",
       "    this.root.append(nav_element);\n",
       "\n",
       "    // Define a callback function for later on.\n",
       "    function toolbar_event(event) {\n",
       "        return fig.toolbar_button_onclick(event['data']);\n",
       "    }\n",
       "    function toolbar_mouse_event(event) {\n",
       "        return fig.toolbar_button_onmouseover(event['data']);\n",
       "    }\n",
       "\n",
       "    for(var toolbar_ind in mpl.toolbar_items){\n",
       "        var name = mpl.toolbar_items[toolbar_ind][0];\n",
       "        var tooltip = mpl.toolbar_items[toolbar_ind][1];\n",
       "        var image = mpl.toolbar_items[toolbar_ind][2];\n",
       "        var method_name = mpl.toolbar_items[toolbar_ind][3];\n",
       "\n",
       "        if (!name) { continue; };\n",
       "\n",
       "        var button = $('<button class=\"btn btn-default\" href=\"#\" title=\"' + name + '\"><i class=\"fa ' + image + ' fa-lg\"></i></button>');\n",
       "        button.click(method_name, toolbar_event);\n",
       "        button.mouseover(tooltip, toolbar_mouse_event);\n",
       "        nav_element.append(button);\n",
       "    }\n",
       "\n",
       "    // Add the status bar.\n",
       "    var status_bar = $('<span class=\"mpl-message\" style=\"text-align:right; float: right;\"/>');\n",
       "    nav_element.append(status_bar);\n",
       "    this.message = status_bar[0];\n",
       "\n",
       "    // Add the close button to the window.\n",
       "    var buttongrp = $('<div class=\"btn-group inline pull-right\"></div>');\n",
       "    var button = $('<button class=\"btn btn-mini btn-primary\" href=\"#\" title=\"Stop Interaction\"><i class=\"fa fa-power-off icon-remove icon-large\"></i></button>');\n",
       "    button.click(function (evt) { fig.handle_close(fig, {}); } );\n",
       "    button.mouseover('Stop Interaction', toolbar_mouse_event);\n",
       "    buttongrp.append(button);\n",
       "    var titlebar = this.root.find($('.ui-dialog-titlebar'));\n",
       "    titlebar.prepend(buttongrp);\n",
       "}\n",
       "\n",
       "mpl.figure.prototype._root_extra_style = function(el){\n",
       "    var fig = this\n",
       "    el.on(\"remove\", function(){\n",
       "\tfig.close_ws(fig, {});\n",
       "    });\n",
       "}\n",
       "\n",
       "mpl.figure.prototype._canvas_extra_style = function(el){\n",
       "    // this is important to make the div 'focusable\n",
       "    el.attr('tabindex', 0)\n",
       "    // reach out to IPython and tell the keyboard manager to turn it's self\n",
       "    // off when our div gets focus\n",
       "\n",
       "    // location in version 3\n",
       "    if (IPython.notebook.keyboard_manager) {\n",
       "        IPython.notebook.keyboard_manager.register_events(el);\n",
       "    }\n",
       "    else {\n",
       "        // location in version 2\n",
       "        IPython.keyboard_manager.register_events(el);\n",
       "    }\n",
       "\n",
       "}\n",
       "\n",
       "mpl.figure.prototype._key_event_extra = function(event, name) {\n",
       "    var manager = IPython.notebook.keyboard_manager;\n",
       "    if (!manager)\n",
       "        manager = IPython.keyboard_manager;\n",
       "\n",
       "    // Check for shift+enter\n",
       "    if (event.shiftKey && event.which == 13) {\n",
       "        this.canvas_div.blur();\n",
       "        event.shiftKey = false;\n",
       "        // Send a \"J\" for go to next cell\n",
       "        event.which = 74;\n",
       "        event.keyCode = 74;\n",
       "        manager.command_mode();\n",
       "        manager.handle_keydown(event);\n",
       "    }\n",
       "}\n",
       "\n",
       "mpl.figure.prototype.handle_save = function(fig, msg) {\n",
       "    fig.ondownload(fig, null);\n",
       "}\n",
       "\n",
       "\n",
       "mpl.find_output_cell = function(html_output) {\n",
       "    // Return the cell and output element which can be found *uniquely* in the notebook.\n",
       "    // Note - this is a bit hacky, but it is done because the \"notebook_saving.Notebook\"\n",
       "    // IPython event is triggered only after the cells have been serialised, which for\n",
       "    // our purposes (turning an active figure into a static one), is too late.\n",
       "    var cells = IPython.notebook.get_cells();\n",
       "    var ncells = cells.length;\n",
       "    for (var i=0; i<ncells; i++) {\n",
       "        var cell = cells[i];\n",
       "        if (cell.cell_type === 'code'){\n",
       "            for (var j=0; j<cell.output_area.outputs.length; j++) {\n",
       "                var data = cell.output_area.outputs[j];\n",
       "                if (data.data) {\n",
       "                    // IPython >= 3 moved mimebundle to data attribute of output\n",
       "                    data = data.data;\n",
       "                }\n",
       "                if (data['text/html'] == html_output) {\n",
       "                    return [cell, data, j];\n",
       "                }\n",
       "            }\n",
       "        }\n",
       "    }\n",
       "}\n",
       "\n",
       "// Register the function which deals with the matplotlib target/channel.\n",
       "// The kernel may be null if the page has been refreshed.\n",
       "if (IPython.notebook.kernel != null) {\n",
       "    IPython.notebook.kernel.comm_manager.register_target('matplotlib', mpl.mpl_figure_comm);\n",
       "}\n"
      ],
      "text/plain": [
       "<IPython.core.display.Javascript object>"
      ]
     },
     "metadata": {},
     "output_type": "display_data"
    },
    {
     "data": {
      "text/html": [
       "<img src=\"data:image/png;base64,iVBORw0KGgoAAAANSUhEUgAAAoAAAAHgCAYAAAA10dzkAAAgAElEQVR4XuydCZhUxbn+3zo9A4jinggYCWL3OTMkKBGExBWXG01MFFzQaxKXCNfEm0RxI+7RBONNBBQkapRETdyiBpKIG/krbrluCHF0mFM9A0gUIm5ERJaZPvV/qjM9txkGmJmqmq5m3vM8Pokzp776vt/7dfVrnWUEeJAACZAACZAACZAACXQrAqJbVctiSYAESIAESIAESIAEQAPIJiABEiABEiABEiCBbkaABrCbCc5ySYAESIAESIAESIAGkD1AAiRAAiRAAiRAAt2MAA1gNxOc5ZIACZAACZAACZAADSB7gARIgARIgARIgAS6GQEawG4mOMslARIgARIgARIgARpA9gAJkAAJkAAJkAAJdDMCNIDdTHCWSwIkQAIkQAIkQAI0gOwBEiABEiABEiABEuhmBGgAu5ngLJcESIAESIAESIAEaADZAyRAAiRAAiRAAiTQzQjQAHYzwVkuCZAACZAACZAACdAAsgdIgARIgARIgARIoJsRoAHsZoKzXBIgARIgARIgARKgAWQPkAAJkAAJkAAJkEA3I0AD2M0EZ7kkQAIkQAIkQAIkQAPIHiABEiABEiABEiCBbkaABrCbCc5ySYAESIAESIAESIAGkD1AAiRAAiRAAiRAAt2MAA1gNxOc5ZIACZAACZAACZAADSB7gARIgARIgARIgAS6GQEawG4mOMslARIgARIgARIgARpA9gAJkAAJkAAJkAAJdDMCNIDdTHCWSwIkQAIkQAIkQAI0gOwBEiABEiABEiABEuhmBGgAu5ngLJcESIAESIAESIAEaADZAyRAAiRAAiRAAiTQzQjQAHYzwVkuCZAACZAACZAACdAAsgdIgARIgARIgARIoJsRoAHsZoKzXBIgARIgARIgARKgAWQPkAAJkAAJkAAJkEA3I0AD2M0EZ7kkQAIkQAIkQAIkQAPIHiABEiABEiABEiCBbkaABrCbCc5ySYAESIAESIAESIAGkD1AAiRAAiRAAiRAAt2MAA1gNxOc5XYfAplM5kwhxG83U/FkKeVFLmhUVVUdmCTJVzds2HDj0qVLV7mYwyRmGIZLAcyTUp5pEqdUY9Pp9OAgCMYGQXBnXV2droUHCZAACXSYAA1gh5FxAAmUB4GCAVRKnaWUqivOOkmS5YsXL17mopJMJnOREOKXQRDs7aNBSafTXwLwcX19fYOL+l3HjKLoJKXUg0EQHF5XVzfP9XyMTwIksG0SoAHcNnVlVSSAggEUQhwQx/GrXYXElQH83Oc+t93bb7+9DoDqqlp8mmfYsGGVffr0UStWrBhNA+iTMsyFBMqTAA1geerGrElgqwQ6YABFGIbfB/BfACIA64QQ/y9Jkkuy2eziwkSZTOY/APxACDEMwO4A3gbw/wBcLqV8X58XhuFPAFzdOrnCblUYhtq8XSOl1Oe1HK0vyxZyT5Lk6FQqdapS6pt6zg0bNmy3dOnSddXV1ZlcLncNgKMA7ARA53mzlHLG1sC0nquqqmpUkiRPK6W+BWA/IcTpAPoAeLqxsXFcjx49PlVKTQZwQnPsv1RUVPywtrb2k8JczXXNUErVALhQCPF5AHqH8Vop5f3FOVVXV3+xqalpkhDiUADbAdC7s1OllHcVzivkBEDnMhTAqQD6KaXOFULc0rpGvcubzWbvbI9GxTolSfLFIAiuAPD1Zt3nNDY2Tli8ePG/iuYIMpnMfwshzm7uj/U6ZyHEdXEc/7mIwSkAzhdC7KuUUkKIF3K53I/r6+sXbE0T/p4ESKDrCdAAdj1zzkgCXUKg6BLwl/fcc8/5xZPOmzevqeiL+9cA9P1w04IgmJvL5XYVQlwFYJfGxsb9lixZ8q4+N5PJfE8IsXOSJG8KIf4lhBgI4AIAvfr06TNk/vz5jel0+nNBEFwC4IfaMCVJsqJ5ntr6+vqPO2oAAbwDYI4QYlaSJNtns9nZ6XQ6CoLgbwD0JexfKqX+KYQ4GsCEZsOljeFmj80ZQABvadMXBMH9uVxuoBDiBgCvAGgSQvw9SZIngyD4klLqOgC/klL+qJUB/AeA1QB+miTJmiAIzgVwjBDi5DiOH9LnRlEUKaV0zJXaCAP4AMC3AfynEGJiHMe/0OcVGcB3lFL/q5S6WwiRNDU1vVpZWfldADqH/06S5LXmHBrq6+vfa49GxQYQQAzgAaXUc0KIIQB+LoS4N45jPUf+CMPw7uYcZwoh/gJgg1Jqf6XUJ9lsdlrzOZcB+JlSSt9z+kchRA8hxMVKqX2TJBlRX19f2yVNz0lIgATaTYAGsN2oeCIJlBeBLT0E0r9//0ptAtPp9JeDIPhfvWslpZxSqLDZyEml1PRsNjuxjcrFqFGjUsuWLetfUVHxlhDi+MJu0JYuAXfCAN4tpTyjeP5MJvO4EOILSZJ8QZvKIqMyHcC4nj179q+pqfloc2ptzgBqcxPH8XGFcZlMZqoQQu9oTYvj+LyieWYBOFRKuVsrA7i2sbFx74JhBpAKw/ANABVSykyzUboPwJhcLpdpaGjQhrFgsh4VQhzW2NjYX+++FRnAZ6WUhxXX0oF7ADerUWGnVimld3l/WZSH3kH9rpSyt77UHobhIQCeFUJMiuNY7xRucuyzzz57pVIpvQN7S7EpHjx48A5NTU1ZPV5KqXcHeZAACXhEgAbQIzGYCgnYJFBkAE8XQiwqjl24JzCKIr1rc1kul+u71157fVh8zvLly58DEEgpR+qf77PPPp+tqKi4Vil1LID++neF84UQP47j+H/0v9s0gMXGUsceOHBgrx49euhdtlv69++vdx9bjuXLl+tL1I/qy5lSysc2x3ILl4DPyWazejc0f2Qymf8SQtymL0PX19c/WWSS9O7bpRUVFX0Kl4Gbje0jUkp9qbrlKBitJEn2qq+vfzsMQ72b+qqUUjNsOaIoGquUekAI8bU4jh8vuix9XmGXrXDylgxgezUq5CWEqIrjWO8CFmo+Rwhxa2NjY19tZMMwzNeaSqX6L1q0qLCbuxHaMAzHAbhd32var1+/ha00+T2Aw6WUe2xOD/6cBEigNARoAEvDnbOSgHMC7bkHMAzD2/Wu2RaSWSyl3EebvTAM9eXG/kqpn6ZSqRp9mVMpFQghXiy+r8+mAQQwQkqpL5nmjzAM92y+93BL/E6XUv5ucydsYQew5VKtHrs5fkX3OX6m6N5HfW/jHVLK8cXzNl+S1ffsDZVS/j0MQ33p/U4p5UbMwzA8GIC+DPvtOI7vKRhAIcTYOI4fbGUWN/cUcLs1aquG4poLT3A398dZUsrKzT18k8lkLhdC/GwLgiRSypTzhucEJEACHSJAA9ghXDyZBMqHQDsN4M8BTBRC6Et9+ub+jQ4hxPq6urqaKIr0jf1/1/cKFj+ssM8++6RTqZS+zNfyYMdWDKB+ilc/8HBp8URhGOpdvYcL7+bbXO79+/fvvcMOO+jLvr8TQrT5wIcQYkldXZ2+t67Nw6EBNN4BDILgmLq6uieKDOBGplQXtLkdwI5o1AEDuNUdwEwmk981VEqdFASBvo9yk6Mrn0Ivn08oMyWB0hKgASwtf85OAs4ItMcARlF0kFLqeSHEKXEc/2FzyVRVVQ1JkuR1/bBC8VOtURTphzD0C6WLDeAP9X1zSqnB2Wx2o0vPYRjqJ14bii+BRlF0hFJKP01819YMoM4vDMO5AD5TUVExora2dkNHATo0gJu7B7BSSpluzv1efQ+gEGKfOI6XF3IPw/ARIcThre8BLH6ApHBuOp3+ZhAE+unbjS51d0SjDhjA/D2Aetc3m83qB4M2OaqqqgYmSZIVQlxeeIilo5rwfBIgga4nQAPY9cw5Iwl0CYH2GMBmU3KbvvQIYEaSJM8GQbAmSZJ+AA4OgqAmjuNb9DvoVq9erc1chVJK3xP2YZIk+n43fd9dWGwAi3avbsvlcnelUqlG/bRpHMermy8X/lQp9TMhxDPaJAohfgBA3yM2uz0GsPkvYTwPIKuUuiWVSi1tamrqEwSBNlnflFIesSXADg1gm08B61e4SCkf0DkVPQW8Qgih76f8UL9+RgjxreIHMrayA7i3Uko/dDEbwGQhhH5tz5Ltt9/+4/Zq1F4D2NwfhaeAb0+S5BG9U5xKpb6UJMmn2WxWP3ijTbne0b1WCDFTKfV4kiQfpVKpPZRSIwCskVJu8mqgLvkQcBISIIHNEqABZHOQwDZKoL0GUJefyWTOEkKcA+CLzQ936N2pF4IgmFZXV5d/hUwmk6kWQtwE4Mv61ShKqb8mSXJhKpXSr2PZ6N1+zQ8P6Kd3++p4hfcADh48uEdjY+NPhRD/qd/rJ4R4WSmln7D9U/GfZ9ta7nrXKZfLXdn8+pfPAtB/ck4bwkez2eykEhnAGUKIN5VSFwIYoHc6m3fO9K5fy6HfA5gkyXVKqcJ7ABcppW7U7/ErnLQlA9hsJM9r5qbnSRW9B7BdGnXEAGr9oij6UZIkZwshtNlfK4So1TVks1ltCPNHFEXHN+ek3xPZE8A/9Stv9OVhKaXe4eVBAiTgEQEaQI/EYCokQALlSaDwImgppd7N5EECJEAC3hOgAfReIiZIAiTgOwEaQN8VYn4kQAKtCdAAsidIgARIwJAADaAhQA4nARLocgI0gF2OnBOSAAmQAAmQAAmQQGkJ0ACWlj9nJwESIAESIAESIIEuJ0AD2OXIOSEJkAAJkAAJkAAJlJYADWBp+XN2EiABEiABEiABEuhyAjSAXY6cE5IACZAACZAACZBAaQnQABrwf+mll3ZLpVJHJ0myNAgC/TdOeZAACZAACZAACXhOIEmSXkEQ6BfKPzFy5MjN/u1wz8swSo8G0ADfq6++ehqAewxCcCgJkAAJkAAJkEDpCHxr+PDhG/21ntKl0rUz0wAa8H755ZcPDILghQEDBmD77bc3iOT/0FwuByml/pufSKVS/idskCFrNYDn8VDq6rE4BqlRVwN4Hg91revatWuxdOlSJEly0IgRI/7mMQpnqdEAGqB99dVX9wcwX5uiPn36GETyf6j+MC5cuBBDhw7tFgaQtfrfkx3NkD3cUWLlcT51LQ+dOpqla10//fRTLFq0SKc1bPjw4a91NL9t4XwaQAMVaQAN4Hk81PXC41PprNUnNezlQl3tsfQpEnW1pwYNIEADaNBPNIAG8DweykXWY3EMUqOuBvA8HkpdPRbHIDXXutIA0gAatCdAA2iEz9vBrhcenwpnrT6pYS8X6mqPpU+RqKs9NWgAaQCNuokG0Aift4O5yHorjVFi1NUIn7eDqau30hgl5lpXGkAaQKMGpQE0wuftYNcLj0+Fs1af1LCXC3W1x9KnSNTVnho0gDSARt1EA2iEz9vBXGS9lcYoMepqhM/bwdTVW2mMEnOtKw0gDaBRg9IAGuHzdrDrhcenwlmrT2rYy4W62mPpUyTqak8NGkAaQKNuogE0wuftYC6y3kpjlBh1NcLn7WDq6q00Rom51pUGkAbQqEFpAI3weTvY9cLjU+Gs1Sc17OVCXe2x9CkSdbWnBg0gDaBRN9EAGuHzdjAXWW+lMUqMuhrh83YwdfVWGqPEXOtKA0gDaNSgNIBG+Lwd7Hrh8alw1uqTGvZyoa72WPoUibraU4MGkAbQqJtoAI3weTuYi6y30hglRl2N8Hk7mLp6K41RYq51pQGkATRqUBpAI3zeDna98PhUOGv1SQ17uVBXeyx9ikRd7alBA0gDaNRNNIBG+LwdzEXWW2mMEqOuRvi8HUxdvZXGKDHXutIA0gAaNSgNoBE+bwe7Xnh8Kpy1+qSGvVyoqz2WPkWirvbUoAGkATTqJhpAI3zeDuYi6600RolRVyN83g6mrt5KY5SYa11pAGkAjRqUBtAIn7eDXS88PhXOWn1Sw14u1NUeS58iUVd7atAA0gAadRMNoBE+bwdzkfVWGqPEqKsRPm8HU1dvpTFKzLWuNIA0gEYNSgNohM/bwa4XHp8KZ60+qWEvF+pqj6VPkairPTVoAGkAjbqJBtAIn7eDuch6K41RYtTVCJ+3g6mrn9K88sormDlzJt544w289957mDFjBo466qiWZN9//33ccMMNeP7557F69WoMHz4cV155JQYOHJg/R+s6efJkvP7666itrcWaNWugY+64445WCqYBpAE0aiQaQCN83g7mF4q30hglRl2N8Hk7mLr6Kc0zzzyD1157DV/4whfwwx/+cCMDqJTCqaeeioqKCkycOBE77LAD7rzzTjz33HOYM2cOevfunTeAP//5z7H77rsjCIK8GaQBtKu1sBvOfrQoiuYlSbIwm82eXxw9DMPRAGZJKVtq+NznPrdd7969lwNQn3766Z5vv/32WvsZ/V9EGkCXdEsXm18opWPvcmbq6pJu6WJT19Kxb+/MURRtZACXLFmCY445Bo888ggymUzLjt+BBx6Iiy66CCeffHLeAC5cuBBDhw7Fq6++itNPP50GsL3A23neNmUAoyj6tlLqHABCCHFLHMf3tJNDp04rGMCL5r6PJauaOhWDg0iABEiABEig3Aksvf7YzZbQ2gDGcYzjjjsOc+fOxYABA1rGHXzwwdD/XH/99TSAXdAQ25QBzGQyTwO4v9kAjpVSHlFgGIbhffrnUspTCz8bNmxY5erVq1copS7OZrO/jaKoD4BbAYxWSn0M4BdCiOPb2oHUMWgAu6BDOQUJkAAJkID3BDpiABsbG3H00UdjyJAhuPbaa7HddtvlLwHry7zaAOp7B7kD6F7ybcYAptPpfYIgeLNnz579kiQRjY2Ny5VSg7PZ7GKNMZPJfEMI8YeKiorP1tbWflL0sweTJNmjvr7+4zAMbwfwHwDOTqVS7+ZyuWsBHKWU+k3rS9A0gO6bkzOQAAmQAAmUB4GGScdsNtHBgwdj2rRpGz0E8uabb+KKK66A3g1MpVL4yle+oi/d5WPcdttteQNYU1OTN4nz58/HmWeeiRdffNHqQyBSSj3dsOHDh79WHpTtZrnNGMAwDCcBGCylHKMRhWE4WwjxRhzHV+QV/vdun74/8AIp5e+az7lXKVWRzWbH6t0/pdQHQojT4jh+SP9+0KBBO1VWVi5PkuR2GkC7jcdoJEACJEAC2w6Bh0/uu9liTjvtNEyYMAEHHHDAJufop3Gbmpryxk4/BTxo0CCcddZZG52nnwL+2c9+httvvx3bb7+9bWg0gLaJ2orXzodAUmEYvqWUOi+bzT6s546i6CSl1FQppX6mPKd/lslkfqV9XTabPWbffffdfv369SsBaMP3pzAM9wOwsKmp6fOLFy9eVsg/DMPXlFLP0gDaUpRxSIAESIAEtjUCHd0BbF3/0qVL8Y1vfCO/+3fQQQdxB7ALGqQcdgD/rHfmpJQb/SdBJpM5Uwhxk5RypzAMvw5gTsHoFXFLAfi6lPKxZlN4kFLqmVwu17+iouI/lFLTKioq+tXW1m7IZDJDhRALcrncgIaGhn8UGcAFegwNYBd0I6cgARIgARIoSwKt7wHU7+1btuzfeymjR4/GpZdeipEjR2KnnXZC//798dhjj2HXXXfN/399Gfi6667LvzJm+vTp+TH6EvC8efOwxx57YNGiRfnLxffcc09+B7Bfv37YeeedjTjxPYBl8B7AKIp+kSTJ17LZ7JBitcMwnAHgACnliDAM9a7fhlQqpS8DtxxNTU0/DoKgVxzHJzX/UIRhuFgpNUUI8TUhxLI4jr/XbA7zl4CVUv9Z2EVMp9M7BkGg7yW8Y0sGMAxD9Omjnx/Zdg++amHb1Ja6UtdyJ8Ae9lPBl156Kf/qltbHmDFj8k/53n333fmHPT744AN85jOfwfHHH49zzz0XPXr0aDGA2vT98Y9/3CSGfj/gCSecYFQ4DWAZGMCqqqqBSZLUAvgtgF8HQbA2SRL9oMZkIcR3crncvCAI3hFCHBfH8ePFHZHJZP5DCDEnSZI96+vr39O/a75XUL9DMARwuJTy+cKY5odAjhRCnJ3L5VamUqlrlFJfVUrNzGazE1p3G98DaPT583Ywv1C8lcYoMepqhM/bwdTVW2mMEnOtKw1gGRhA3UFVVVXDcrncJCHElwD0AqAf3Zkspbw/DMMLAVzRp0+fz86fP7+xuONGjRpVsXz58ncBTJJSTtG/S6fTg/XTwgDeklLurV8aXRjT1mtgAOjXxjwlpbyUBvDfL+XUT2xty4frhccndqzVJzXs5UJd7bH0KRJ1tacGDWCZGEB7kncskn5QZN26dXp38cI4jmfSANIAdqyD/D+bXyj+a9SZDKlrZ6j5P4a62tOIBpAGcKNuSqfTXxJCVCmlXgawUxAEVwEYpTcOpZTv0wDSANpbfvyIxC8UP3SwnQV1tU3Uj3jU1Z4ONIA0gJsYwFQqdYdSKtIPlQCYHwTBBXV1dTVttR3vAbT3YfQpEhdZn9Swlwt1tcfSp0jU1Sc17OXiWlcaQBpAo26lATTC5+1g1wuPT4WzVp/UsJcLdbXH0qdI1NWeGjSANIBG3UQDaITP28FcZL2Vxigx6mqEz9vB1NVbaYwSc60rDSANoFGD0gAa4fN2sOuFx6fCWatPatjLhbraY+lTJOpqTw0aQBpAo26iATTC5+1gLrLeSmOUGHU1wuftYOrqrTRGibnWlQaQBtCoQWkAjfB5O9j1wuNT4azVJzXs5UJd7bH0KRJ1tacGDSANoFE30QAa4fN2MBdZb6UxSoy6GuHzdjB19VYao8Rc60oDSANo1KA0gEb4vB3seuHxqXDW6pMa9nKhrvZY+hSJutpTgwaQBtCom2gAjfB5O5iLrLfSGCVGXY3weTuYunorjVFirnWlAaQBNGpQGkAjfN4Odr3w+FQ4a/VJDXu5UFd7LH2KRF3tqUEDSANo1E00gEb4vB3MRdZbaYwSo65G+LwdTF29lcYoMde60gDSABo1KA2gET5vB7teeHwqnLX6pIa9XKirPZY+RaKu9tSgAaQBNOomGkAjfN4O5iLrrTRGiVFXI3zeDqau3kpjlJhrXWkAaQCNGpQG0Aift4NdLzw+Fc5afVLDXi7U1R5LnyJRV3tq0ADSABp1Ew2gET5vB3OR9VYao8SoqxG+rQ5+5ZVXMHPmTLzxxht47733MGPGDBx11FEt46ZPn445c+bgn//8JyorK/GFL3wBEyZMwH777ddyzhFHHIF33nlno7nGjx+Piy66aLPzU9etSlOWJ7jWlQaQBtDog0EDaITP28GuFx6fCmetPqlhL5dS6PrMM8/gtddeyxu7H/7wh5sYwL/85S/YbbfdsNdee2HdunW488478fjjj2Pu3LnYdddd88VrA3jiiSdi7NixLTB69+6N7bffngYQQCl0tdeVHYvkulYaQI8NYBiGdwI4QwhxWxzH3ytunUwm8yshxPcB3CWlPLPwu6qqqgOTJHlOKTU3m80e07F26/jZNIAdZ1YOI1wvPD4xYK0+qWEvl1LrGkXRJgawdXWffPIJhg0bljeCX/nKV1oM4Omnn44zz2xZ1rcKpdS1bjVBiyewVnswaQD9N4BHANjx008/7ff222+v1dIPHDiwV48ePVYIIT5WSj1dbADDMLxDKfWJEGJcU1PT4MWLFy+z1y6bRqIBdEm3dLG5yJaOvcuZqatLuhvH3poB3LBhA373u9/hlltuwZNPPrnRDqD+XWNjI/r27YtjjjkGZ599Nnr06MEdQO4AWm1gGkD/DeDOAAYJIf4njuN7tPqZTOY0IcSPASwGsKpgAPfdd9/t161bp43hAUqpawDUSimvbe6YIAzDZUqpn2Wz2VsLXZROp/cPgmC+UmqfbDa7OAzDKgB3ABiu4yulfiSEmAtgjJRyduvuKxjAi+a+jyWrmqw2J4ORAAmQgM8Ell5/7GbT25wBfPrpp3HBBRdg7dq1+MxnPpPfJdx3331b4ujdwMGDB2PHHXdETU0NJk+ejCOPPBKTJk2iAaQBtPpxoAEsDwP4DIBjpZT5u4nDMPyrEOIRpdSoYgMYRdF3lVLfl1IekMlkviGEmC6lHARANY+7AcBIKeUhhS4Kw/AGIcSBcRwfCECbxFoAetfwYgB9AEwGMIIG0OrnjsFIgAS2AQINkzZ/l402cdOmTdvoIRBdsv7S1Q+IrFq1Cg8++CBeeukl3H///fl7A9s69O7g+eefj7/97W/YeWe9H7DpoXd2tVkcMmQIUqnUNkB28yWwVnvy6l6UUuqAw4YPH/6avcjlE0n4mmrzPYD6Ez8OwNtBEFQJIVQul6sDsFfzTl3LDmAYhi8IIf4Qx/FNo0aNqli+fPkKpdR/ZrPZv+oa0+n0l/RuXyqV2nvRokVvNRs+bfauk1L+KoqiY5RSf6moqNirtrb2n3pMJpM5ijuAvnYI8yIBEiglgYdP7rvZ6U877bT8E74HHHDAFlPU54waNQrHH398m+d9+OGH+MEPfoBrr71Wr+GlLJdzb7sEaAB907ZgAKWUo8MwfBjA6wCEEOKLcRyfFIahviSbN4BRFEVKqTcaGxs/t2TJknd1LWEY3gxgVynlaYXamnf47pZSXh9F0eFKqScA9JdSvh9F0XlKqfOadw3zQ9Lp9I5BEPyLO4C+dQfzIQESKDWBzuwAts756KOPxje/+c28yWvrmDdvHs4991z89a9/Rf/+/ds8h7tipe4EN/O71pU7gGVwCVgbwEwmc6wQQhs6ffy3lPLRVgbwF0opfdk2V9SKenezsWfPnv1qamo+0j/PZDKXCyFOkVLuG4bh7QD6Sim/qX8XRdH5SqkfSin3KcSgAXTzwWZUEiCB8ifQ+h7ANWvWYNmyfz93N3r0aFx66aUYOXIkdtppp/zl21tvvTX/mhd975++BHzvvffiz3/+M/74xz/qtRkLFizA3//+9/yYHXbYIX9Z9+c//zm++MUv5h8W2dzBh3vKv5faqsC1rrwHsEwMIICUfohDN4mUcoA2egUD2L9//3HLly9/G8AvUqnUk8WNlMvl9M6hvhcwbx6jKNpbKbU4CILhSZLoS8P6ngayHIsAACAASURBVMH7m3+XvwTcahfxSAD6vC0+BBKGIfr00bcMbruH6w+jT+RYq09q2MuFutpj2VYkfT+ffoVL62PMmDG45pprcOGFF+YN3kcffZQ3hPqeve9///stD4G8+eab+fMWL14M/SSw3vE79thjMW7cOGy33XY0gHwIxGoD0wCWjwHMX47V6tfX13+s/7dgAAHoS8EPNDU1fXbx4sX6cm3LEYahfnTs61LKLxV+qO8VBKDfKrrPp59++tnC62WaTeabSqmlQRBcoh8CUUrph0BGCiFGx3H8p9bdx9fAWP08ehOMRsEbKawmQl2t4vQmGHX1RgqribjWlQawjAxg684qMoD68bFASrnJOwkKr3lJkmRYfX19/imfMAzPBTADgL4X8IxWhrHwGhh957J+DczFQoi/BEFwTF1dnb5fcKODBtDq592bYK4XHm8K5Y6CT1JYzYU9bBWnN8Goqz0paAA9NoD2ZO58pCiKDlJKPZ8kSbq+vr6BBnAhhg4d2i1etbBwIWvt/CfHz5H88vRTF9OsqKspQT/Hu9aVBpAGcKPOD8NwjP5LIqlUKpvL5dJCiJsAfCSlPLitjwh3AP1cOEyzcr3wmOZnczxrtUnTn1jU1R8tbGZCXe3RpAGkAWxtAPUdzFc2v2fwff0ASBAEF9bV1X1AA5gDd8XsLT6+ROIXii9K2M2Dutrl6Us06mpPCRpAGkCjbuIOoBE+bwdzkfVWGqPEqKsRPm8HU1dvpTFKzLWuNIA0gEYNSgNohM/bwa4XHp8KZ60+qWEvF+pqj6VPkairPTVoAGkAjbqJBtAIn7eDuch6K41RYtTVCJ+3g6mrt9IYJeZaVxpAGkCjBqUBNMLn7WDXC49PhbNWn9Swlwt1tcfSp0jU1Z4aNIA0gEbdRANohM/bwVxkvZXGKDHqaoTP28HU1VtpjBJzrSsNIA2gUYPSABrh83aw64XHp8JZq09q2MuFutpj6VMk6mpPDRpAGkCjbqIBNMLn7WAust5KY5QYdTXC5+1g6uqtNEaJudaVBpAG0KhBaQCN8Hk72PXC41PhrNUnNezlQl3tsfQpEnW1pwYNIA2gUTfRABrh83YwF1lvpTFKjLoa4fN2MHX1VhqjxFzrSgNIA2jUoDSARvi8Hex64fGpcNbqkxr2cqGu9lj6FIm62lODBpAG0KibaACN8Hk7mIust9IYJUZdjfB5O5i6eiuNUWKudaUBpAE0alAaQCN83g52vfD4VDhr9UkNe7lQV3ssfYpEXe2pQQNIA2jUTTSARvi8HcxF1ltpjBKjrkb4vB1MXb2Vxigx17rSANIAGjUoDaARPm8Hu154fCqctfqkhr1cqKs9lj5Foq721KABpAE06iYaQCN83g7u7CI7ffp03HzzzRvVtfvuu+OFF17YpNarrroKDzzwAC699FKceeaZJWPR2VpLlrDBxKzVAJ7HQ6mrx+IYpOZaVxpAGsCN2nPgwIG9evTocatSapgQohrAI1LK0ZvrYRpAg0+3x0M7u/BoA/jEE0/gt7/9bUt1qVQKu+6660bV/vWvf4U+98MPP8TZZ59NA9hFvdBZXbsoPavTsFarOL0JRl3tSUEDSAPY0k3Dhg2rbGxs7LF+/foblFKvKaVOFEKsowH8NyIuPFtfeLSp0+buT3/602ZPfvfdd3HyySdj5syZOOecc3D66afTAG4drZUz2MNWMHoXhLp6J4mVhFzrSgNYRgYwiqKTkiS5WgiRBvApgAW9evU6ft26dTMA7AzgZQDnAegJYGr//v0nrVix4udKqbP1+UKIq+I4/o3uzKqqqoFJkiwRQpwC4Fyl1JeVUt/PZrMtWzdhGN6p47bHAF40930sWdVkpekZpHwILL3+2I2S1QZQG7sddtgBPXr0wH777YcLLrgAe+21V/68JEnyZu/II4/EGWecgSOOOIIGsAvldv2F0oWlbHUq1rpVRGV5AnW1JxsNYJkYwOrq6n65XG4ZgEuCIJgFoE+SJIdUVFTc3dTUpG+6OgHA3UKI6QAOUkrNVEo9IYR4NpVKPdjU1HSKNoC5XG6fhoaGfxQMIIClSqkLgyBYAGB9HMfLC+1FA2jvg7atRmptAJ955hmsW7cOAwcOxAcffIBbbrkFixcvxiOPPIJddtkFt912G1566aW8SRRC0AB2cWPwy7OLgXfRdNS1i0B38TSudaUBLBMDmE6n9w+CYH4qlRq4aNGit4r7sNmojZJSDtKbLPp3YRjWAVgppTy0+dxUGIb/AjBOSnl/0Q7g+XEc39RWX9MAdvGnvQyna5h0zBaz1gvM0Ucfnb/P74ADDsD3vvc9PPzww/jsZz+bH3fUUUfldwD1P6U69CJbU1ODIUOGQN+vuC0frHXbVJe6UtfOENDrs5RSDx02fPjw1zoTo9zHiDIpQBu4JwCMaN7Ze7Jnz54P1dTUfNRs1D4jpWy5HheG4TMA3pBS/nehviiK3kqSZHI2m51WZAAPjuN400c0/20ieQm4TJqjVGk+fHLfrU593XXXYY899kD//v3x+9//Pr/zVzj0JWH977vtthumTZu21Vg8gQRIgARIwDoBGkDrSO0HFFEUHaiU+iqAMQD6CiFGKqWubn2vXhRF85IkWZjNZs8vpBGG4VIhxI1xHN9YMIBKqS9ls9mFbaVKA2hfwG0t4tZ2ADds2JDfAdQPfZx22ml47733NkIwfvx4HHfccRgzZgz23nvvkuDh7klJsDuflLo6R1ySCairPezcASyTS8BtSK53BPWl4CkA9qUBtPehYKT2E2h9D+D//M//4PDDD0e/fv3yr3jR9wC+/PLL+Mtf/oI999xzk8B8CKT9rG2c6fqeIhs52orBWm2R9CsOdbWnB+8BLBMDmMlkRgohjhRCPNnY2LiysrJS7/z9HoB+R59+knejp3VNdgDT6fRgIUSPIAiuTZKkD4AJuuXa2inkewDtfRh9itTZRXbChAl45ZVXsGrVqvxDH0OHDsV5552HdFo/uL7pQQPYtap3VteuzdLObKzVDkffolBXe4rQAJaPAdQvZZ4qhNgfwI4A9O7fdCnlzW1dqjUxgPpSMYDPt24zKeUm90vSANr7MPoUiYusT2rYy4W62mPpUyTq6pMa9nJxrSsNYJkYQHstZTcSDaBdnr5Ec73w+FKnzoO1+qSGvVyoqz2WPkWirvbUoAGkATTqJhpAI3zeDuYi6600RolRVyN83g6mrt5KY5SYa11pAGkAjRqUBtAIn7eDXS88PhXOWn1Sw14u1NUeS58iUVd7atAA0gAadRMNoBE+bwdzkfVWGqPEqKsRPm8HU1dvpTFKzLWuNIA0gEYNSgNohM/bwa4XHp8KZ60+qWEvF+pqj6VPkairPTVoAGkAjbqJBtAIn7eDuch6K41RYtTVCJ+3g6mrt9IYJeZaVxpAGkCjBqUBNMLn7WDXC49PhbNWn9Swlwt1tcfSp0jU1Z4aNIA0gEbdRANohM/bwVxkvZXGKDHqaoTP28HU1VtpjBJzrSsNIA2gUYPSABrh83aw64XHp8JZq09q2MuFutpj6VMk6mpPDRpAGkCjbqIBNMLn7WAust5KY5QYdTXC5+1g6uqtNEaJudaVBpAG0KhBaQCN8Hk72PXC41PhrNUnNezlQl3tsfQpEnW1pwYNIA2gUTfRABrh83YwF1lvpTFKjLoa4fN2MHX1VhqjxFzrSgNIA2jUoDSARvi8Hex64fGpcNbqkxr2cqGu9lj6FIm62lODBpAG0KibaACN8Hk7mIust9IYJUZdjfB5O5i6eiuNUWKudaUBpAE0alAaQCN83g52vfD4VDhr9UkNe7lQV3ssfYpEXe2pQQNIA2jUTTSARvi8HcxF1ltpjBKjrkb4vB1MXb2Vxigx17rSANIAGjUoDaARPm8Hu154fCqctfqkhr1cqKs9lj5Foq721KABpAE06iYaQCN8Xg6+7bbbMGXKFBxzzDH5/02lUvk8FyxYgKlTp+L1119HRUUFqqurcfvtt6NXr15e1tHepPiF0l5S5XUedS0vvdqbLXVtL6mtn0cDSAO49S7Zwhk0gEb4vBuszd3555+PHXbYAXvvvXeLAdTmb9y4cTjnnHNw+OGHo7KyEnV1dTjiiCPQo0cP7+roSEL8QukIrfI5l7qWj1YdyZS6doTWls+lAaQB3KhDMpnM5UEQHKuUGgpgg5Ry5y21EA2gvQ9jqSOtWbMGJ5xwAq6++mr86le/wm677dZiAMeOHYsDDzwwbw63tYNfKNuaov+uh7pS13In4LqHaQBpAPOfkcGDB/eora3dEIbhNQBWAfgcgLPbawAvmvs+lqxqKvfPW7fJf+n1x25S68SJE7HTTjvhsssuw7e//e0WA7hq1aq8+bviiiswZ84cLFu2DIMGDcqbweHDh5c9M9eLrE+AWKtPatjLhbraY+lTJNe60gCWsQGMouikJEmuFkKkAXyqb9Pq1avX8evXr5+TJMnCbDbbsl0ThuFsbeyklGfqBg/DcKlS6o7msWMAzJZSnlFo/kwmc6YQ4kYaQJ+WA3u5tDaA2tjdeuuteOihh9CzZ8+NDGBNTQ1OOeUU7Lzzzrjkkkvy9/7Nnj0b9957Lx555BEMHDjQXmIliOR6kS1BSZudkrX6pIa9XKirPZY+RXKtKw1gmRrA6urqfrlcbhmAS4IgmAWgT5Ikh1RUVNydy+UeaY8BBLCLUuqnSZJoc4iGhoZ6GkCfPv7ucmmYdExL8BUrVkBf4tUPdFRVVeV/fvrpp2P33XfHL3/5y/xDH9/61rcwfvx4TJgwoWXc6NGjceihh+KCCy5wl2gXRNaLrDa5Q4YMaXngpQumLckUrLUk2J1PSl2dIy7JBK511QZQSqlrGzZ8+PDXSlJkiScVJZ6/U9On0+n9gyCYn0qlBi5atOit4iBRFM1rpwFcIKXUu3+bHNwB7JQsZTPo4ZP7tuT6yiuv5J/uDYKg5WdJkkAIkf9n8uTJeeN37rnn4uCDD245Z9q0afkxP/jBD8qmbiZKAiRAAiSwCQEawDJrilQYhk8AGKGUekII8WTPnj0fqqmp+ai9BlApdXs2m51EA1hmyltIt3gHUD/8sXz58o2i6vsAd9lll/zuXhRF+Sd/9QMiP/rRj1rO0/9+yCGHbLQraCG1Lg/h+r+yu7ygLUzIWn1Sw14u1NUeS58iudaVO4Blegm4uUlFFEUHKqW+CkDv5PUVQoxUSs0UQtTEcXxeoZnDMJwD4L3iewD1PX5xHN9IA+jTR75rcmnrIZDimYsfAtHvAbzzzjsxffp0TJo0KX8P4KxZs/Cb3/wmfw/ggAEDuiZpR7O4vs/GUdqdCstaO4XN+0HU1XuJOpWga115D2B5G8DiptI7gvpS8BQA2gSKbDY7tvmEVBRFi5VST7sygGEYok+fPp1q8nIZ5PrD6BOH1gZQ5/brX/8a99xzD/71r3/l7xW86KKL+BSwT6K1I5fu1MOstR0NUYanUFd7otEAlqkBzGQyI4UQR+pLv42NjSsrKyu16fs9gNFKqQFBEExJkmSsEKIBgL5z/1QAs7ZmAAcNGjQglUrtKoQ4DsDFSqlDdLtVVlbW19bWftK69fgeQHsfRp8icZH1SQ17uVBXeyx9ikRdfVLDXi6udaUBLF8DWA1gqhBifwA7AtC7f9OllDcPGzas8uOPP75JCHEKAP1yvqkAvtz6NTBtXQIOw/BOAC2vgym0chAEh9fV1c2jAVyIoUOHdounRRcuZK32lnI/Irn+QvGjyn9nwVp9UsNeLtTVHksawDI1gPZawCwSdwDN+Pk6mousr8qY5UVdzfj5Opq6+qqMWV6udaUBpAE06lAaQCN83g52vfD4VDhr9UkNe7lQV3ssfYpEXe2pQQNIA2jUTTSARvi8HcxF1ltpjBKjrkb4vB1MXb2Vxigx17rSANIAGjUoDaARPm8Hu154fCqctfqkhr1cqKs9lj5Foq721KABpAE06iYaQCN83g7mIuutNEaJUVcjfN4Opq7eSmOUmGtdaQBpAI0alAbQCJ+3g10vPD4Vzlp9UsNeLtTVHkufIlFXe2rQANIAGnUTDaARPm8Hc5H1VhqjxKirET5vB1NXb6UxSsy1rjSANIBGDUoDaITP28GuFx6fCmetPqlhLxfqao+lT5Goqz01aABpAI26iQbQCJ+3g7nIeiuNUWLU1Qift4Opq7fSGCXmWlcaQBpAowalATTC5+1g1wuPT4WzVp/UsJcLdbXH0qdI1NWeGjSANIBG3UQDaITP28FcZL2Vxigx6mqEz9vB1NVbaYwSc60rDSANoFGD0gAa4fN2sOuFx6fCWatPatjLhbraY+lTJOpqTw0aQBpAo26iATTC5+1gLrLeSmOUGHU1wuftYOrqrTRGibnWlQaQBtCoQWkAjfB5O9j1wuNT4azVJzXs5UJd7bH0KRJ1tacGDSANoFE30QAa4fN2MBdZb6UxSoy6GuHzdjB19VYao8Rc60oDSANo1KA0gEb4vB3seuHxqXDW6pMa9nKhrvZY+hSJutpTgwaQBtCom2gAjfB5O5iLrLfSGCVGXY3weTuYunorjVFirnWlAaQBNGpQGkAjfCUbfNttt2HKlCk4/fTTcfnll+fzuOqqq/C3v/0NK1euRO/evTFo0CBcc801yGQyJcuzKyZ2vch2RQ3tnYO1tpdUeZ1HXctLr/Zm61pXGkAawI16saqqalQul5sghBghhNhRKZUVQvwyjuN72mpaGsD2fpT9Oe/111/H+eefjx122AEjR45sMYAPPPBA3vT169cPH330Ea677josX74cTz31FFKplD8FWM7E9SJrOV2jcKzVCJ+3g6mrt9IYJeZaVxpAGsCWBh02bFjl6tWrLxZCbCeEeKypqeldIcSxQoipSZKMrq+v/0vrbqYBNPp8d/ngNWvW4IQTTsDVV1+NW265BVVVVS0GsDgZvfD8+c9/xo9//GPMnTsXAwYM6PJcu2pC14tsV9XRnnlYa3sold851LX8NGtPxq51pQEsIwMYRdFJSZJcLYRIA/gUwIJevXodv27duhkAdgbwMoDzAPQEMLV///6TVqxY8XOl1Nn6fCHEVXEc/0Y3XlVV1cAkSZYIIU4BcK5S6stKqe9ns9nftm7MMAznCCHejeP4u5szgBfNfR9LVjW1p6d5ThcRWHr9sZvMNHHiROy000647LLL8J3vfGezBnD16tW48sorUVNTg8ceeww9evTooqy7fhrXi2zXV7T5GVmrT2rYy4W62mPpUyTXutIAlokBrK6u7pfL5ZYBuCQIglkA+iRJckhFRcXdTU1NNwM4AcDdQojpAA5SSs1USj0hhHg2lUo92NTUdIo2gLlcbp+GhoZ/FAwggKVKqQuDIFgAYH0cx8vbMIDPA3hRSnkRDaBPy8OWc2ltAOfMmYNbb70VDz30EHr27NmmAbznnntwww03QC8M/fv3x29+8xvsvffe5VN0JzJ1vch2IiVnQ1irM7QlDUxdS4rf2eSudaUBLBMDmE6n9w+CYH4qlRq4aNGit4o7LgzDOwGMklIOApDo34VhWAdgpZTy0OZzU2EY/gvAOCnl/UU7gOfHcXzT5jpY7zoqpe5JkmT/+vr6N2kAnX3WrQdumHRMS8wVK1Zg7NixuP322/O7fvo444wz8v//0ksvbTlP7/x98MEHePfddzF9+nSsXbsW9957b94wbquHXmT1TueQIUO26XsdtX6sddvsYupKXTtDQBtAKaUeOmz48OGvdSZGuY8RZVKANnBPABjRvLP3ZM+ePR+qqan5qNkAfkZK2XLNLwzDZwC8IaX870J9URS9lSTJ5Gw2O63IAB4cx/ELbTHQD4QkSfKIvkQspby7rXMK9wDyErB/XfTwyX1bknrllVcwdepUBEHQ8rMkSSCEyP9z9913b/Q7fVJTUxPGjx+f/+fAAw/0r0BmRAIkQAIkYIMADaANio5jiCiKDlRKfRXAGAB9hRAjlVJX63sApZSji8zevCRJFmaz2fMLPwvDcKkQ4sY4jm8sGECl1Jey2ezC1nmn0+nDgiB4RF8ezmazv95cXTSAjhU3CF+8A6gf/tBP9BYf+vUv+vLuuHHjNnnVi95RWLBgAf7rv/4rfy/gmDG63bbNg7sn1LXcCbCHy13BtvN3rSt3AMvkEnAb7aF3BPWl4CkA9rVpAIt2/iZKKfUDJps9aAD9XXjaegikONvih0D+8Y9/4NFHH8VBBx2EXXfdFfqS8eTJk1FfX59/CGS33Xbzt1DDzFzfZ2OYntXhrNUqTm+CUVdvpLCaiGtdeQ9gmRjATCYzUghxpBDiycbGxpWVlZV65+/3APSun36S18oOoDZ/Sqk5SqmbKioqphW6WQix4c033/ywdXfzNTBWP+9dGqzYAOp7/q644gq8+eab+Pjjj/OGT78TUO8SptP6ofNt93C9yPpEjrX6pIa9XKirPZY+RXKtKw1g+RjAav1qFyHE/gB2BKB3/6ZLKW9uvgfQigFsjnVG6w+BEOKZOI5H0QAuxNChQ7vFwwILF7JWn74MbOTi+gvFRo62YrBWWyT9ikNd7elBA1gmBtCe5HYjcQfQLk9fonGR9UUJu3lQV7s8fYlGXX1Rwm4ernWlAaQBNOpYGkAjfN4Odr3w+FQ4a/VJDXu5UFd7LH2KRF3tqUEDSANo1E00gEb4vB3MRdZbaYwSo65G+LwdTF29lcYoMde60gDSABo1KA2gET5vB7teeHwqnLX6pIa9XKirPZY+RaKu9tSgAaQBNOomGkAjfN4O5iLrrTRGiVFXI3zeDqau3kpjlJhrXWkAaQCNGpQG0Aift4NdLzw+Fc5afVLDXi7U1R5LnyJRV3tq0ADSABp1Ew2gET5vB3OR9VYao8SoqxE+bwdTV2+lMUrMta40gDSARg1KA2iEz9vBrhcenwpnrT6pYS8X6mqPpU+RqKs9NWgAaQCNuokG0Aift4O5yHorjVFi1NUIn7eDqau30hgl5lpXGkAaQKMGpQE0wuftYNcLj0+Fs1af1LCXC3W1x9KnSNTVnho0gF1kAAcOHLjz0qVLV9mTzo9INIB+6GA7Cy6yton6EY+6+qGD7Syoq22ifsRzrSsNoAMDGEXRRKXUUinlA7qNMpnMH4QQJwL4J4CvSyn/7kd7mWdBA2jO0McIrhcen2pmrT6pYS8X6mqPpU+RqKs9NWgAHRjAMAwXB0Hw7bq6ur9lMpn/EEL8IUmSU4IgGAtggJTyq/YkLG0kGsDS8nc1OxdZV2RLG5e6lpa/q9mpqyuypY3rWlcaQDcGcG0ulwsbGhr+EUXRTUqpXlLKc6qqqsIkSV6SUu5S2rayNzsNoD2WPkVyvfCw1tIQoK6l4e56VurqmnBp4rvWlQbQjQFcHgTBSXoHMAzDWAhxRRzHD0ZRFCmlXpFS7liadrI/Kw2gfaY+RHS98PhQYyEH1uqTGvZyoa72WPoUibraU4MG0I0BvBnANwBkAXypoqJiYG1t7SdhGJ4CYKKUcn97EpY2Eg1gafm7mp2LrCuypY1LXUvL39Xs1NUV2dLGda0rDaADAzhs2LDKjz/++LwgCPbK5XJ31tfXL9BtFEXR+UqpT6SUd5S2rezNTgNoj6VPkVwvPKy1NASoa2m4u56VuromXJr4rnWlAXRgAEvTKqWZlQawNNw7M+ttt92GKVOm4PTTT8fll1+OVatWYfr06Xj++efxz3/+E7vssguOOuoonHfeeejduzcWLlyIoUOHIpVKdWa6shnjepH1CQRr9UkNe7lQV3ssfYrkWlcaQEcGMAzD7wA4B8CgVCr1lUWLFr2ldwABLInj+E8+NZlJLjSAJvS6buzrr7+O888/HzvssANGjhyZN4BSyrwBHDNmDNLpNN555x385Cc/0TvVmDp1Kg1g18nTZTO5/kLpskLaMRFrbQekMjyFutoTjQbQgQGMouj7SqlrlVI3CiEuV0p9MZvNLs5kMmcCOCObzR5uT0J7kaqqqgbmcrkrhRBHAOgLYDmA31dUVEyqra3d0NZMNID2+LuKtGbNGpxwwgm4+uqrccstt6CqqipvANs6HnvsMVx88cWYP38+3njjDe4AuhKlRHH55Vki8I6npa6OAZcovGtdaQAdGMAwDGsBXCalnB2G4Wql1H7aAFZXV38xl8vNk1LuXqJ+2uy0gwcP7pHL5Y5QSp2SJMl9Qoj6IAi+qJS6HcDvpJQXbckAXjT3fSxZ1eRbWd0un6XXH7tJzRMnTsROO+2Eyy67DN/5zne2aAAffPBBTJ48GS+88AJ3ALfB7nH9heITMtbqkxr2cqGu9ljSALoxgGtTqVSVvuzbygBmcrnc61LK7WxIGEXRSUmSXC2ESAP4FMCCXr16Hb9+/fo5SZIszGaz+pJz/gjDcDaAVVJKvQup/32pUuqO5rFjAMyWUp7ROq9MJnOxEOL7UspBNIA2VHMbo7UBnDNnDm699VY89NBD6Nmz5xYN4EcffZTfKTzuuOPwox/9iAbQrVQlic4vz5Jgdz4pdXWOuCQTuNaVBtCNAawVQlyq7/UrNoCZTOZHQRCcEcfxMNNuqq6u7pfL5ZYBuCQIglkA+iRJckhFRcXduVzukfYYQAC7KKV+miSJNodoaGiob51XFEU/S5LkmGw2O5wG0FQ19+MbJh3TMsmKFSswduxY3H777fldP32cccYZ+f9/6aWXbpTMJ598gnHjxmHHHXfEjBkzEAQBampqMGTIkG7xEAhrdd+bXT2D/vKkrl1N3f181NUeY20A9b3gAIYNHz78NXuRyyeSsJ1qJpM5SwjxUwAXApgJYJxSah9tCvX/l1LebzpnOp3ePwiC+alUaqDeaSyOF0XRvHYawAVSSr371+aRTqf3CYJAN8WFm3t1TeEeQF4CNlXUzviHT9a3bv77eOWVV/IPc2gzVziSJIEQIv/P3Xffnf/d2rVrcf3116NHjx75+//0//IgARIgARLoNgRoAG1KtH+LxAAAIABJREFUHYbheP0XQJRSezXHfUcI8ZM4jrUhtHGkwjB8AsAIpdQTQogne/bs+VBNTc1H7TWA+v6+bDY7qa1koijqr5R6BsAzUspxm0uYBtCGlPZiFO8A6oc/li/Xz/H836Ef/th7773zu32ZTAZ652/8+PF506cvFW+33b/vTuB/ZdvTxKdI1NUnNezlQl3tsfQpkmtduQNo/xKwqK6uHrB69eqVb7/99towDHfP5XJBQ0PDSgeNJaIoOlAp9VUAeievrxBipFJqphCiJo7j8wpzhmE4B8B7xfcACiFujOP4xtZ5NZu/pwHov1us7xlMaAAdqOcgZFsPgRRPU/wQiDZ/3/3ud/M7gPqyb8H86fP1QyP68hnfA+hApBKGdH1PUQlL22Rq1uqTGvZyoa72WPIeQPsGMAjDcF0qlfrCokWL9J+C66pD7wjqS8FTAGgTKLLZ7NjmyVNRFC1WSj29NQMYhuGe+jwhxHwp5bf1ZtCWCuBrYLpKXjvzFBvAl156Kf9S6LaOuXPn4r333qMBtIPdmyj88vRGCquJUFerOL0J5lpXGkD7BlA/YftmkiRn19fXv+iqkzKZzEghxJH60m9jY+PKyspKbfp+D2C0UmpAEARTkiQZK4RoADABwKkAZm3JABZd9tUPl5xeUVHRYv5qa2v/2VYtNICuFC5tXNcLT2mr23h21uqTGvZyoa72WPoUibraU4MG0IEBzGQyxwohfpxKpb6/aNGiN+zJ9X+RMplMNYCpQoj9AewIQO/+TZdS3tz8t4hvEkKcAkC/nG8qgC+3fg1M60vA+kXVQojftpWvlLLNh2VoAF2oW/qYXGRLr4GLDKirC6qlj0ldS6+Biwxc60oD6MAAhmH4EYDeACoA6L+gsba4OaSUu7pollLEpAEsBXX3c7peeNxX0P4ZWGv7WZXTmdS1nNRqf67Utf2stnYmDaAbA7jJC5VbGcC7tiZMufyeBrBclOpYnlxkO8arXM6mruWiVMfypK4d41UuZ7vWlQbQgQEsl+aykScNoA2K/sVwvfD4VDFr9UkNe7lQV3ssfYpEXe2pQQPowAAOGjRowJYkWrx4sX7IYps4aAC3CRk3KYKLLHUtdwLs4XJXsO38qas9XWkAHRjAMAz1e/PU5mSSUqbsSVjaSDSApeXvanYusq7IljYudS0tf1ezU1dXZEsb17WuNIBuDOB+xW0jhKhUSn0JwAVKqcuz2ewfS9tW9manAbTH0qdIrhce1loaAtS1NNxdz0pdXRMuTXzXutIAOjCAm2sV/XqYIAgujuN4VGnayf6sNID2mfoQ0fXC40ONhRxYq09q2MuFutpj6VMk6mpPDRrALjSA1dXVmSRJFsZxvL09CUsbiQawtPxdzc5F1hXZ0salrqXl72p26uqKbGnjutaVBtCBAUyn0/rFzC1HkiSioqKiH4CfAKiSUg4tbVvZm50G0B5LnyK5XnhYa2kIUNfScHc9K3V1Tbg08V3rSgPowABu5iEQIYT4Ry6XO7W+vv5/S9NO9melAbTP1IeIrhceH2os5MBafVLDXi7U1R5LnyJRV3tq0AA6MIDpdPqwYomCINBPBb/Xv3//+nnz5uk/zbbNHDSA24yUGxXCRZa6ljsB9nC5K9h2/tTVnq40gA4MYCaTOXTPPff8W2uzN2rUqIp33nnnwGw2+6w9CUsbiQawtPxdzc5F1hXZ0salrqXl72p26uqKbGnjutaVBtCBAQzDMJfL5fo1NDSsLG6fqqqq3ZIkWcn3AJb2Q9XZ2V1/GDubl4txrNUF1dLHpK6l18BFBtTVBdXSx3StKw2gGwOYJEmyR319/XutDGCYJMmrUsqNHhIpfZt1PgPuAHaenc8jXS88PtXOWn1Sw14u1NUeS58iUVd7atAAWjSAYRgWXvB8PIDHAawvSKWUSgkh9lVKxdls9hh7EpY2Eg1gafm7mp2LrCuypY1LXUvL39Xs1NUV2dLGda0rDaBdA/jb5nY5A8AfAKwtap8NAJYCuF1K+X5p28re7DSA9lj6FMn1wsNaS0OAupaGu+tZqatrwqWJ71pXGkCLBrDQImEYXt2rV68bXn/99TWlaZuum5UGsOtYd+VMrheerqxla3Ox1q0RKs/fU9fy1G1rWVPXrRFq/+9pAB0YwPbjL/8zaQC7VsN7770X9913H9555538xJlMBueeey4OO+wwvP322zjyyCPbTOjGG2/E1772tXYny0W23ajK6kTqWlZytTtZ6tpuVGV1omtdaQAdGcAoik5KkmSsEGIAgB7FXSel3N/3Lkyn0z2DIHgJwH5KqS9ls9mFbeVMA9i1Sj711FNIpVIYMEC3FTB79mzMnDkTs2bNwqBBg/Dhhx9ulNADDzyQ//3zzz+P7bdv/18gdL3wdC21Lc/GWn1Sw14u1NUeS58iUVd7atAAOjCAmUzmR0KISQDuAjBeCPFbpdQ+AA4AMENKebk9Ce1EGjx4cI/a2lp9n2L+iKLoJqVUBsDXaAD/zcTXhWfEiBG4+OKLcfLJJ2/SDKNHj8bgwYNx3XXXdahRfK21Q0W082TW2k5QZXYadS0zwdqZLnVtJ6h2nEYD6MAAhmFYp5S6JpvN3heG4Wql1H7ZbHZxJpO5Vgixq5TyB+3QZqunNO8yXi2ESAP4FMCCXr16Hb9+/fo5SZIszGaz5xeChGE4G8AqKeWZ+mdhGC5VSt3RPHaM3kySUuqHV/Tv9LXCKUmSnBgEwZvtMYAXzX0fS1ZtU3/kZKv8u+KEpdcfu9lp9EL4+OOPY+LEifmdwHRat8H/HW+88QZOPPHE/CXj/ffv2KYzF9muULfr56CuXc+8K2akrl1BuevncK0rDaAbA/hpKpWqXrRo0VthGOqXQf+HlPLv1dXVmVwu96KUcjfTVqquru6Xy+WWAbgkCIJZAPokSXJIRUXF3blc7pH2GEAAuyilfpokiTaHaGhoqN977733qKysnC+EGC2EeD9JkiU0gKZqdX58WwYwjmOceuqpWL9+PXr37o3Jkyfn7wFsffzkJz/Byy+/jEcffbTDCbheeDqckMMBrNUh3BKGpq4lhO9waupqDy4NoBsDuDhJkpPq6+tfC8PwFb3Tls1mb0un018NguB+KeWuphKm0+n9gyCYn0qlBmqjWRwviqJ57TSAC6SUevevcIgwDB9VSr2QzWZ/VlVVNZAG0FQps/ENkzZ9ZeSGDRuwYsUKrF69Gk8++SQefvhh3HXXXRvtAK5bty5vCr/3ve/hrLPO6nASepGtqanBkCFD8vccbssHa9021aWu1LXcCbjuYW0ApZQa07Dhw4e/Vu68OpO/6MygLY0Jw/AOAP+QUl6TyWS+J4SYAuAFAMOVUn/MZrNnW5gzFYbhEwBGKKWeEEI82bNnz4dqamo+aq8BVErdns1m9b2K+aP53sVTpJSH6lveaAAtqGQY4uGT+241wqRJk7DHHntg3LhxLec+99xz+PWvf40ZM2Zgxx23mT88s1UWPIEESIAESKDDBGgAO4xs8wOCUaNGBfPmzcvfFBdF0Vil1MFKqfrKyspbix+2MJxTRFF0oFLqqwD0Tl5fIcRIpdRMIURNHMfnFeKHYTgHwHvF9wAKIW6M4/jGonP0peBvAlBFeentnxyAewr3CBbnXHgKmPcAGiq5meFt7QC2PlXv8PXr12+jBz3OOOMM7LLLLtCvf+nM4fq/PDuTk6sxrNUV2dLGpa6l5e9qdupqjyx3AB1cArYnT4ci6R1BfSlY7zZqEyiy2ezY5gipKIoWK6We3pIBHDRo0ICePXu2bBc1Njb2D4LgCaXUSUqpl+rr699unRFfA9MhjYxPnjJlCg499FD07dsXa9asyd/fp3f67rjjDhx00EH5+G+99RaOPvro/M/1uZ05eJ9NZ6j5P4a6+q9RZzKkrp2h5v8Y17ryHkBHBjAMw0OUUucIIfTrX06SUr4ThuF3ACyRUj5v2nqZTGakEOJIfem3sbFxZWVlpTZ9vwcwWik1IAgC/RSvfg9hA4AJAE4FMGtLBrB1Th25BByGIfr06WNaltfjXX8Y21P8ZZddhhdffBErV67M846iCOPHj28xfzqGNol/+tOf8PTTTyMIgvaE3eQcH2rtVOKdGMRaOwGtDIZQ1zIQqRMpUtdOQNvMEBpABwYwk8mcKIT4nb5sCuA7SqnB+jUwYRieC+AbUsqvm0qYyWSqAUwVQuj3e+hdO737N11KefOwYcMqP/7445uEEKcA0JehpwL4cuvXwLS+BEwDuGVVuPCYdq2f46mrn7qYZkVdTQn6OZ662tOFBtCBAQzDcIE2XVLKu1u9B3CoEOJxKeXW7+y3p7HTSLwE7BRvyYJzkS0ZeqcTU1eneEsWnLqWDL3TiV3rSgPoxgB+GgTB4Lq6uqWtDOAgIUStlLKX067pwuA0gF0Iuwuncr3wdGEpW52KtW4VUVmeQF3LUratJk1dt4qo3SfQALoxgA36/r9sNvvXYgMYhuHpAH4spRzcboU8P5EG0HOBOpkeF9lOgvN8GHX1XKBOpkddOwnO82GudaUBdGAAoyi6RCl1hlLqu0KIuQC+LoT4vFJK34t3rb5Pz/O+a3d6NIDtRlVWJ7peeHyCwVp9UsNeLtTVHkufIlFXe2rQADowgFqeMAz1C5b107eFy73rhRA3xHF8pT35Sh+JBrD0GrjIgIusC6qlj0ldS6+BiwyoqwuqpY/pWlcaQIsGMJPJDMpms0sKL1Lu379/7z59+gxWSgUVFRW1tbW1n5S+pexmQANol6cv0VwvPL7UqfNgrT6pYS8X6mqPpU+RqKs9NWgALRrAMAxzuVyuX0NDw8rmXcAHGhsbf7RkyZJ37UnmVyQaQL/0sJUNF1lbJP2KQ1390sNWNtTVFkm/4rjWlQbQrgFMcrlc3yIDuFoptZ9+B6BfbWUvGxpAeyx9iuR64WGtpSFAXUvD3fWs1NU14dLEd60rDSANoFFn0wAa4fN2sOuFx6fCWatPatjLhbraY+lTJOpqTw0aQLsGMJckSd/6+vr3mi8BrxZC7BvHsb4vcJs8aAC3SVl5X9y2KSt1pa5lT4AG0J6ENIB2DWAC4DEA65sl+qYQ4iml1JpiyaSUJ9iTsLSRaABLy9/V7FxkXZEtbVzqWlr+rmanrq7Iljaua11pAO0awN+2p12klGe157xyOIcGsBxU6niOrheejmfkbgRrdce2lJGpaynpu5ubutpjSwNo0QDak6V8ItEAlo9WHcmUi2xHaJXPudS1fLTqSKbUtSO0yudc17rSANIAGn0aaACN8Hk72PXC41PhrNUnNezlQl3tsfQpEnW1pwYNIA2gUTfRABrh83YwF1lvpTFKjLoa4fN2MHX1VhqjxFzrSgNIA2jUoDSARvi8Hex64fGpcNbqkxr2cqGu9lj6FIm62lODBpAG0KibaACN8Hk7mIust9IYJUZdjfB5O5i6eiuNUWKudaUBpAE0alAaQCN8bQ6+9957cd999+Gdd97J/z6TyeDcc8/FYYcdttH5SimMHz8ezz33HGbMmIGjjjrKWjKuFx5riVoIxFotQPQwBHX1UBQLKVFXCxCbQ9AA0gAadRMNoBG+Ngc/9dRTSKVSGDBgQP73s2fPxsyZMzFr1qy8GSwcd955J1544QU8++yzNIAGMvALxQCex0Opq8fiGKRGXQ3gtRpKA0gDuFFLhGG4FMDni3+olPqfbDb747bajgbQ3odxS5FGjBiBiy++GCeffHL+tLq6Opxzzjl46KGHcPDBB9MAGsjALxQDeB4Ppa4ei2OQGnU1gEcDuAk8YQ9n+UYaPHhwj9ra2g3aAAohZqZSqduLqvmktrb2ky0ZwIvmvo8lq5rKF0AJM196/bGbnV0vdo8//jgmTpyY3wlMp9NYu3YtTjzxRFxwwQX5y75RFNEAGujHLxQDeB4Ppa4ei2OQGnU1gEcDuO0YwCiKTkqS5GohRBrApwAW9OrV6/j169fPSZJkYTabPb9QbRiGswGsklKeqX+mjZ5S6o7msWP0lUYp5RnNBvDGOI5vbE+bFXYAaQDbQ6vtc9oygHEc49RTT8X69evRu3dvTJ48ueUewKuuuir/N10nTZqUD0gD2Hn2eiS/UMz4+TqauvqqjFle1NWMX/FoXgIu00vA1dXV/XK53DIAlwRBMAtAnyRJDqmoqLg7l8s90h4DCGAXpdRPkyTR5hANDQ31zZeAewLoAeAfSqkHKysrf6l3B7kDaO+DVxypYdIxmwTesGEDVqxYgdWrV+PJJ5/Eww8/jLvuugvLli3DL37xi/y/b7/99vlxgwcPxrRp06w/BFJTU4MhQ4bk70fclg/9hcJatz2Fqeu2p2nhP9j4ebWjrTaAUkodbNjw4cNfsxO1vKKU5SXgdDq9fxAE81Op1MBFixa9VYw8iqJ57TSAC6SUevev5QjDcEKSJK+lUqmPlFIjAPwcwJ+klONoAN009sMn991qYL3bt8cee6BHjx544oknIMT/tW2SJPl/r6qqwpVXXrnVWDyBBEiABEiABIoI0ACWWTukwjB8AsAIpdQTQogne/bs+VBNTc1H7TWASqnbs9nsv68jbubIZDInCiEeCoJg97q6ug9an8ZLwOZd09YOYOuoZ511Fvr164cJEyZg1apVG/36+OOPx6WXXorDDz8cn/vc58wTar4syv/KtoLSqyDcFfNKDmvJUFdrKL0K5FpX7gCW6SXg5i4VURQdqJT6KgC9k9dXCDFSKTVTCFETx/F5hW4Ow3AOgPeK7wEUQmz1Xr8wDPcE8LZS6svZbPYlGkD760PrewCnTJmCQw89FH379sWaNWvw6KOP4te//jXuuOMOHHTQQZskwHsAzTThPUVm/HwdTV19VcYsL+pqxq94NO8BLG8DWKyl3hHUl4KnANAmUGSz2bHNJ6SiKFqslHq6owYwk8l8Qwjxl6amps8vXrxY33O40cHXwNj7MBYiXXbZZXjxxRexcuVK9OnTJ/+Qh37hc1vmT4+hATTTgF8oZvx8HU1dfVXGLC/qasaPBnBjfmV5D2AmkxkphDhSX/ptbGxcWVlZqU3f7wGMVkoNCIJgSpIkY4UQDQAmADgVwKwtGcB0Ov2VIAi+rI1iEAT/AnCAUmqqUurVbDZ7fFttRwNo78PoUyQusj6pYS8X6mqPpU+RqKtPatjLxbWu3AEs0x3ATCZTDWCqEGJ/ADsC0Lt/06WUNw8bNqzy448/vkkIcQoA/XK+qQC+3Po1MK0vATc/WPIrAFUA9JPAOub9n3zyyS+WL1+uXzOzyUEDaO/D7lMk1wsPay0NAepaGu6uZ6WurgmXJr5rXWkAy9QAlqYdaQAXLlyIoUOHdotXo7BWXz5l9vJw/YViL1PzSKzVnKGPEairPVVoAGkAjbqJO4BG+LwdzEXWW2mMEqOuRvi8HUxdvZXGKDHXutIA0gAaNSgNoBE+bwe7Xnh8Kpy1+qSGvVyoqz2WPkWirvbUoAGkATTqJhpAI3zeDuYi6600RolRVyN83g6mrt5KY5SYa11pAGkAjRqUBtAIn7eDXS88PhXOWn1Sw14u1NUeS58iUVd7atAA0gAadRMNoBE+bwdzkfVWGqPEqKsRPm8HU1dvpTFKzLWuNIA0gEYNSgNohM/bwa4XHp8KZ60+qWEvF+pqj6VPkairPTVoAGkAjbqJBtAIn7eDuch6K41RYtTVCJ+3g6mrt9IYJeZaVxpAGkCjBqUBNMLn7WDXC49PhbNWn9Swlwt1tcfSp0jU1Z4aNIA0gEbdRANohM/bwVxkvZXGKDHqaoTP28HU1VtpjBJzrSsNIA2gUYPSABrh83aw64XHp8JZq09q2MuFutpj6VMk6mpPDRpAGkCjbqIBNMLn7WAust5KY5QYdTXC5+1g6uqtNEaJudaVBpAG0KhBaQCN8Hk72PXC41PhrNUnNezlQl3tsfQpEnW1pwYNIA2gUTfRABrh83YwF1lvpTFKjLoa4fN2MHX1VhqjxFzrSgNIA2jUoDSARvi8Hex64fGpcNbqkxr2cqGu9lj6FIm62lODBpAG0KibaACN8Hk7mIust9IYJUZdjfB5O5i6eiuNUWKudaUBpAE0alAaQCN8bQ6+9957cd999+Gdd97J/z6TyeDcc8/FYYcdttH5SimMHz8ezz33HGbMmIGjjjrKWjKuFx5riVoIxFotQPQwBHX1UBQLKVFXCxCbQ9AA0gAadRMNoBG+Ngc/9dRTSKVSGDBgQP73s2fPxsyZMzFr1qy8GSwcd955J1544QU8++yzNIAGMvALxQCex0Opq8fiGKRGXQ3gtRpKA0gDuFFLRFH0Z6XUUACfBfARgL8KISbGcby8rbajAbT3YdxSpBEjRuDiiy/GySefnD+trq4O55xzDh566CEcfPDBNIAGMvALxQCex0Opq8fiGKRGXQ3g0QBuAk/Yw1m+kQYPHtyjtrZ2QxiGE5Ik+d/KysoVSqk9lVI36KriOD6QBjCHhQsXYujQofkduq449GL3+OOPY+LEifmdwHQ6jbVr1+LEE0/EBRdckL/sG0URDaCBGPxCMYDn8VDq6rE4BqlRVwN4NIDbjgGMouikJEmuFkKkAXwKYEGvXr2OX79+/ZwkSRZms9nzC9WGYTgbwCop5Zn6Z2EYLlVK3dE8doy+0iilPKM1nSiKjlNKze7Tp0/P+fPnN7b+fWEH8KK572PJqiZ7ndmNIi29/thNqo3jGKeeeirWr1+P3r17Y/LkyS33AF511VXQi+CkSZPy42gAzZqFXyhm/HwdTV19VcYsL+pqxq94NC8Bl+kl4Orq6n65XG4ZgEuCIJgFoE+SJIdUVFTcncvlHmmPAQSwi1Lqp0mSaHOIhoaG+uLm+MIXvrBrY2PjLQD2lFIevKUdQBrAzn8oGyYds8ngDRs2YMWKFVi9ejWefPJJPPzww7jrrruwbNky/OIXv8j/+/bbb58fN3jwYEybNs36QyA1NTUYMmRIl+12dp6g2Uj9hcJazRj6OJq6+qiKeU7U1ZxhIYI2gFJK/a/Dhv//9s49vqrqzPvPs/cJMCoOtl6AIiLJWTvBYlVQVCzYdobpVGewvGX07cVK1TpgZ4pTL61aL6OI2kFQrDPeKqWW3qTWegXtFPtWR6koY4Rkr51g0CqvaFFBFJKcveaz0nMyhxByW3snz5bf+Utz9rP283x/a6/8si6biROfT67l7LSUySXgqqqqYzzPW+P7/pi6urqN5biDIFjVQwP4gtbazv7t8snn8zd4nvcNY8w+RPSM53mn1tfX/wkGMJ1OvXzm8G4btrN9hxxyCA0aNIhWrFhBzP/bbeM4bvv/6upq+u53v9ttW7gABEAABEAABMoIwABmrDv4SqkVRHScMWYFM68cPHjwfbW1tW/31AAaY+6MoujP64hlH6XUgZ7nfaRQKBzGzFcS0bta61OJyHS8FkvA7r2msxnAjq3OmjWLRowYQRdccAG98847u3w9ffp0+s53vkOf+tSnaNSoUe4JEbUtMWNWLBGUohqBrqLkSCwZ6JoYSlENpa0rZgAzugRc7KUcBMGJxphpRGRn8oYz8yRjzN3MXBuG4TdLvVkp9TARvVm+B5CZF4VhuKirHl9VVTXK87xX4zg+saGh4b9gAJMfHzruAbzppptoypQpNHz4cNq+fTs98sgjdMcdd9Bdd91FkydP3i0B7AF00wR7itz4SY2GrlKVccsLurrxK4/GHsBsG8ByLe2MoF0KvomIrAnkKIr+oXiBHwTBBmPMb3trACsrKw/1ff8Vz/M+VV9fv2pPBlApRUOHDk2uZwpsqb8GnksvvZSeeeYZ2rx5cxtTa/DsC587M38WEwygW2fpL13dskwmGrUmw1FaK9BVmiLJ5JO2rjCAGTWA+Xx+EjN/xi79trS0bK6oqLCm714iOs0YM9rzvJviOP4HZm4koguI6Awiur8rA6iUOq64pPz7XC73dhzHY40x/0pEI+I4PqKhoWEnDGD/vgYmmWGk962kPfD0PqP0IlBremwHsmXoOpD007s3dE2OLQxgdg1gDREtZOZjiGh/IrKzf4u11rdOmDChYuvWrTcz8+lEZN/NspCIju/4GpiOS8DV1dXj4zi+mYg+QUT2iOkmZn7MGHOt1vrP/y5Zhw9eBJ3cwyipJQyyktRILhfomhxLSS1BV0lqJJdL2rrCAGbUACbXxdxaggF04yc1Ou2BR1LdqFWSGsnlAl2TYympJeianBowgDCATr0JBtAJn9hgDLJipXFKDLo64RMbDF3FSuOUWNq6wgDCADp1UBhAJ3xig9MeeCQVjlolqZFcLtA1OZaSWoKuyakBAwgD6NSbYACd8IkNxiArVhqnxKCrEz6xwdBVrDROiaWtKwwgDKBTB4UBdMInNjjtgUdS4ahVkhrJ5QJdk2MpqSXompwaMIAwgE69CQbQCZ/YYAyyYqVxSgy6OuETGwxdxUrjlFjausIAwgA6dVAYQCd8YoPTHngkFY5aJamRXC7QNTmWklqCrsmpAQMIA+jUm2AAnfCJDcYgK1Yap8SgqxM+scHQVaw0TomlrSsMIAygUweFAXTCJzY47YFHUuGoVZIayeUCXZNjKakl6JqcGjCAMIBOvQkG0Amf2GAMsmKlcUoMujrhExsMXcVK45RY2rrCAMIAOnVQGEAnfGKD0x54JBWOWiWpkVwu0DU5lpJagq7JqQEDCAPo1JtgAJ3wiQ3GICtWGqfEoKsTPrHB0FWsNE6Jpa0rDCAMoFMHhQF0wic2OO2BR1LhqFWSGsnlAl2TYympJeianBowgDCATr0JBtAJn9hgDLJipXFKDLo64RMbDF3FSuOUWNq6wgDCADp1UBhAJ3xig9MeeCQVjlolqZFcLtA1OZaSWoKuyakBAwgD6NSbYACd8IkNxiArVhqnxKCrEz6xwdBVrDROiaWtKwwgDKBTB4UBdMInNjjtgUdS4ahVkhrJ5QJdk2MpqSXompxODdUDAAAgAElEQVQaMIAwgE69CQawb/iWLVtGP/nJT+i1115rayCfz9OcOXNo6tSpbf//s5/9jB566CFat24dbd++nf7whz/Q/vvv37eb9SEKg2wfoGUgBLpmQKQ+pAhd+wAtAyFp6woDCAO4y2MQBEEQx/F/MPM4IvpLInqdmZftt99+V69Zs6al4zMDA9i3UeQ///M/yfd9Gj16dFsDv/rVr+juu++m+++/v80MLlmyhJqbm9u+W7BgAQxg3zD3KCrtQbZHSfTTRai1n0D3822gaz8D76fbpa0rDCAMYHtXnjBhQsXWrVsPJaKpzPy87/vvxHH8CWPMnUR0t9b6UhjAtXTUUUe1mbekP8cddxxddNFFNHPmzPamn332WTrzzDNhAJOGXdZe2oNsiqn3umnU2mtkmQiArpmQqddJpq0rDGCGDGAQBF+I4/hKZq4ioveJ6IUhQ4ZM37Fjx/eJaBgRrSaibxLRYCJaOHLkyHmbNm2ab4w5217PzFeEYfgD2wurq6vHxHH8MjOfTkRzjDHHG2NmR1F0T8deqpS6iYiO1Vp/ck8G8MLH36KX32ntdQffWwKarj9lj6Xah/yxxx6jSy65pG0msKrKyvvnDwxg+j0k7UE2/Qp6fgfU2nNWWboSumZJrZ7nmrauMIAZMYA1NTUjCoXCK0R0sed59xPR0DiOP5nL5Za2trbeSkQziGgpMy8mosnGmLuNMSuY+Xe+7/+itbX1dGsAC4VCZWNj46slA0hETcaYb3me9wIR7QzD8PXy7llZWVnl+/6vmfmXYRheDgPY84e3/MrODGAYhnTGGWfQzp07aZ999mlb6i3tAYQB7BvnvkSlPcj2Jae0YlBrWmQHtl3oOrD807p72rrCAGbEAFZVVR3jed4a3/fH1NXVbSzvcEqpJUR0stZ6LBHF9julVD0RbdZaTyle6yul3iWic7TWPy2bAZwbhuHNHTtwEARPG2OOKc4m3qG1nl1qu/za0h5AzAB2PQQ0zvvsbhfYPX6bNm2ibdu20cqVK2n58uX0wx/+cJcZwNWrV9NZZ51FzzzzTL8fAqmtraXx48enstyd1oDZl3btIIta+0JOdgx0la1PX7ODrn0lt3ucNYBaa/vFhIkTJz6fXMvZaYkzkqo1cCuI6LjizN7KwYMH31dbW/t20QAepLVuX2dUSj1JRC9prc8v1RcEwcY4jhdEUXRLmQE8KQzDpzoyqKysPJSZhzLzJ5j5e8x8SxiGN3a8DgawZ71n+czh3V44b948OuSQQ+icc85pv3b9+vV07bXX0p133kn77rtvt23gAhAAARAAARDoJQEYwF4CG4jLOQiCE40x04jo80Q0nJknGWOutHsAtdanlZm9VXEcr42iaG7pZ0qpJmZeFIbhopIBNMYcHUXR2q6KCYLgy8YYOws4lIgK5dfCAPasG3Q2A9gxctasWTRixAi67rrr2r/CDGDP+LpchRkFF3pyY6GrXG1cMoOuLvR2jcUMYEaWgDuR3M4I2qVge0DjyDQNoFLqK0T0g5EjR/7FqlWrdjnpAQPYs4ex4x7Am266iaZMmULDhw9ve8/fI488QnfccQfdddddNHnyZHrzzTfprbfeopdeeokuv/xy+vGPf9w2A2gN4rBh9rxPup+0956km33vWketveOVlauha1aU6l2e0LV3vLq6GnsAM2IA8/n8JGb+DDOvbGlp2VxRUWFn/u4lIjvrZ0/yJjIDGATBl4ioJY7jWnsoxPO8CcaYhcaYVVEUfbljZ8J7APv2MF566aVt+/o2b95MQ4cOpSAI6Nxzz20zf/azePFiuvVWe7Zn18/8+fNpxgx73ifdDwbZdPkOVOvQdaDIp3tf6Jou34FqPW1dYQCzYwBr7KtdmNkezLD/JISd/Vustb61uAcwEQOolLKnhS82xij6Mxt7n3ubm5sXNjU17YABTO89gAM1yHR237QHHtQ6MASg68BwT/uu0DVtwgPTftq6wgBmxAAOTPfr/q6YAeyeURavSHvgkcQEtUpSI7lcoGtyLCW1BF2TUwMGEAbQqTfBADrhExuMQVasNE6JQVcnfGKDoatYaZwSS1tXGEAYQKcOCgPohE9scNoDj6TCUaskNZLLBbomx1JSS9A1OTVgAGEAnXoTDKATPrHBGGTFSuOUGHR1wic2GLqKlcYpsbR1hQGEAXTqoDCATvjEBqc98EgqHLVKUiO5XKBrciwltQRdk1MDBhAG0Kk3wQA64RMbjEFWrDROiUFXJ3xig6GrWGmcEktbVxhAGECnDgoD6IRPbHDaA4+kwlGrJDWSywW6JsdSUkvQNTk1YABhAJ16EwygEz6xwRhkxUrjlBh0dcInNhi6ipXGKbG0dYUBhAF06qAwgE74xAanPfBIKhy1SlIjuVyga3IsJbUEXZNTAwYQBtCpN8EAOuETG4xBVqw0TolBVyd8YoOhq1hpnBJLW1cYQBhApw4KA+iET2xw2gOPpMJRqyQ1kssFuibHUlJL0DU5NWAAYQCdehMMoBM+scEYZMVK45QYdHXCJzYYuoqVximxtHWFAYQBdOqgMIBO+MQGpz3wSCoctUpSI7lcoGtyLCW1BF2TUwMGEAbQqTfBADrhExuMQVasNE6JQVcnfGKDoatYaZwSS1tXGEAYQKcOCgPohE9scNoDj6TCUaskNZLLBbomx1JSS9A1OTVgAGEAnXoTDKATPrHBGGTFSuOUGHR1wic2GLqKlcYpsbR1hQGEAXTqoDCATvjEBqc98EgqHLVKUiO5XKBrciwltQRdk1MDBhAG0Kk3wQB2ju/222+nlStX0oYNG2jIkCF09NFH04UXXkhjx45tD3jzzTfpxhtvpKeffpq2b99Ohx9+OJ133nn02c9+1kmTJIIxyCZBUV4b0FWeJklkBF2ToCivjbR1hQGEAXTq9TCAneM7++yz6ZRTTqHx48eTfYgXLlxIWmt6+OGHaZ999mkLmjVrFm3bto2uuOIKOuCAA+jBBx+kxYsX0/Lly2ncuHFOurgGpz3wuOaXZDxqTZKmnLagqxwtkswEuiZHEwYQBnCPvamysrLK9/0XiKigtR7W2YUwgD17GLds2UInnHAC3XvvvXTssce2BdlZwSuvvJJOO+209kYmTZrUNlM4c+bMnjWc0lUYZFMCO8DNQtcBFiCl20PXlMAOcLNp6woDCAPY3sUnTJhQsWbNmhb7A/vf27Zte5qI3iSiE7szgBc+/ha9/E7rAD8uA3v7putP2WMCGzdupGnTprXN8iml2q6zs4S5XI5uuOEG2n///enRRx+lyy+/nB544AEaPXr0gBaT9sAzoMV1uDlqlaRGcrlA1+RYSmoJuianBgxghgxgEARfiOP4SmauIqL3ieiFIUOGTN+xY8f3icjO0K0mom8S0WAiWjhy5Mh5mzZtmm+MOdtez8xXhGH4A9t9qqurx8Rx/DIzn05Ec4wxxxtjZkdRdI/9Pp/P38DMI40xv2HmRTCA3T90ezKAxhiaPXs2bd26lZYtW9bekF3+nTt3Lv3+979vM4J2r+Att9xCkydP7v5mKV+BQTZlwAPUPHQdIPAp3xa6pgx4gJpPW1cYwIwYwJqamhGFQuEVIrrY87z7iWhoHMefzOVyS1tbW28lohlEtJSZFxPRZGPM3caYFcz8O9/3f9Ha2nq6NYCFQqGysbHx1ZIBJKImY8y3PM+zS707wzB8PQiCTxtj7orj+ChmngED2LOnv3Fe54c3rrnmGnryySfbln+HDx/e3ti1115LtbW1bSbQ7gH8zW9+Q0uXLqUf/ehH7bOEPbtz8lfZgcfmZvcw+r6f/A0EtYhaBYmRYCrQNUGYgpqCrsmJYQ2g3ZtuF/0mTpz4fHItZ6clzkKqVVVVx3iet8b3/TF1dXUby3NWSi0hopO11vaIaWy/U0rVE9FmrfWU4rW+UupdIjpHa/3TshnAuWEY3lxqr7q6+qNxHL9gjPlyFEW/y+fzZ8EA9qyHLJ/5v+auFLFkyRJ67rnn2g56HHzwwe0NvfHGG3TBBRe0nQIeNWpU+8/nzZvXZhLt8jA+IAACIAACINAPBGAA+wGyyy2sgVtBRMcVZ/ZWDh48+L7a2tq3iwbwIK11+yY0pdSTRPSS1vr80k2DINgYx/GCKIpuKTOAJ4Vh+FTpGqXUL40xOoqib9ufwQD2XLLyGUC77GvN3BNPPEHWBI4ZM2aXhuxfXfbwh90TWFlZ2f7dueeeSyNHjqSrr7665zdO4Ur8lZ0CVAFNQlcBIqSQAnRNAaqAJtPWFTOAGVkCLvZFDoLgRGPMNCL6PBENZ+ZJxpgr7R5ArXX7cdIgCFbFcbw2iqK5Zeauyc7mhWG4qGQAjTFHR1G0tuyad4hov7K+b2dIPXsSmJm/XtpDWPq+dAoYh0CIyvcAXnXVVfTQQw/Rbbfd1vZ+v9Jn6NChbXv9Wlpa2l4Tc9BBB9Ell1xCw4YNazOLdkbQvkNw6tSpAzr8pL33ZECL63Bz1CpJjeRyga7JsZTUEnRNTg3sAcyWASxX3s4I2qXgm4joyKQMYD6fr8nlcu2bvlpbW6cz8yW+75+Yy+VeszOO5UngNTCdP4xBEHT6xfz582nGDLtdk6ipqYkWLFhAa9asIfsg2pO/X/va13Z5LUxyj3rvWsIg2zteWbkaumZFqd7lCV17xysrV6etKwxgRgxgPp+fxMyfYeaVLS0tmysqKuzM371EZGf97EneRGYAOz4YPV0Ctq82sbNbH+ZP2g+jJHaoVZIayeUCXZNjKakl6CpJjeRySVtXGMDsGMAa+2oXZj6GiPYnIjv7t1hrfWtxDyAMYHLPXactpf0wppx+r5pHrb3ClZmLoWtmpOpVotC1V7gyc3HausIAZsQASu2xWAKWqoxbXmkPPG7ZJRuNWpPlKaU16CpFiWTzgK7J8YQBhAF06k0wgE74xAZjkBUrjVNi0NUJn9hg6CpWGqfE0tYVBhAG0KmDwgA64RMbnPbAI6lw1CpJjeRyga7JsZTUEnRNTg0YQBhAp94EA+iET2wwBlmx0jglBl2d8IkNhq5ipXFKLG1dYQBhAJ06KAygEz6xwWkPPJIKR62S1EguF+iaHEtJLUHX5NSAAYQBdOpNMIBO+MQGY5AVK41TYtDVCZ/YYOgqVhqnxNLWFQYQBtCpg8IAOuETG5z2wCOpcNQqSY3kcoGuybGU1BJ0TU4NGEAYQKfeBAPohE9sMAZZsdI4JQZdnfCJDYauYqVxSixtXWEAYQCdOigMoBM+scFpDzySCketktRILhfomhxLSS1B1+TUgAGEAXTqTTCATvjEBmOQFSuNU2LQ1Qmf2GDoKlYap8TS1hUGEAbQqYPCADrhExuc9sAjqXDUKkmN5HKBrsmxlNQSdE1ODRhAGECn3gQD6IRPbDAGWbHSOCUGXZ3wiQ2GrmKlcUosbV1hAGEAnTooDKATPrHBaQ88kgpHrZLUSC4X6JocS0ktQdfk1IABhAF06k0wgE74xAZjkBUrjVNi0NUJn9hg6CpWGqfE0tYVBhAG0KmDwgA64RMbnPbAI6lw1CpJjeRyga7JsZTUEnRNTg0YQBhAp94EA+iET2wwBlmx0jglBl2d8IkNhq5ipXFKLG1dYQBhAJ06KAygEz6xwWkPPJIKR62S1EguF+iaHEtJLUHX5NSAAYQBdOpNe7MBvP3222nlypW0YcMGGjJkCB199NF04YUX0tixY9uZfuUrX6HVq1fvwvhzn/scLVy40Il72sEYZNMmPDDtQ9eB4Z72XaFr2oQHpv20dYUBhAHcpWdXV1ePieP45Y7dnZn/NgzDxzr+fG82gGeffTadcsopNH78eLIPqjV1Wmt6+OGHaZ999mlDZQ3gmDFj6J//+Z/b0VmzOHTo0IEZUXp417QHnh6m0S+XodZ+wdzvN4Gu/Y68X24IXZPDDAMIA9jemyZMmFCxffv2jxUN4F/lcrl1ZV1ty/r165thANfSUUcdRb7v7/YUbtmyhU444QS699576dhjj203gNXV1XTZZZcl99T2Q0sYZPsB8gDcAroOAPR+uCV07QfIA3CLtHWFAcyQAQyC4AtxHF/JzFVE9D4RvTBkyJDpO3bs+D4RDSMiu9b4TSIaTEQLR44cOW/Tpk3zjTFn2+uZ+YowDH9g+3Fppo+ZTyeiOcaY440xs33f/601gMaYo6MoWttdny/NAF74+Fv08jut3V2e+e+Xzxy+RwO4ceNGmjZtGj344IOklGo3gFEUkTGGDjzwQJoyZQqdf/75tN9++4lmkfbAI6l41CpJjeRyga7JsZTUEnRNTg0YwIwYwJqamhGFQuEVIrrY87z7iWhoHMefzOVyS1tbW28lohlEtJSZFxPRZGPM3caYFcz8O9/3f9Ha2nq6NYCFQqGysbHx1bKl3iZjzLc8z3uBiHYy86DiDOCrRDSEiCJmXhiG4X2ddTsYwD9TsQZv9uzZtHXrVlq2bFk7qp///Oc0atSoNvNnjeCCBQvosMMOo3vuuSe5pziFljDIpgBVQJPQVYAIKaQAXVOAKqDJtHWFAcyIAayqqjrG87w1vu+Pqaur21jeN5VSS4joZK21PX0Q2++UUvVEtFlrPaV4ra+UepeIztFa/7RsBnBuGIY3l9pTSh1ot64R0VPMHMdx/PfMfBkzfzUMw3s7PhN7owG0e/46LgFfc8019OSTT7Yt/w4fPnyPQ8e6deto5syZdN9999G4ceMEDDGdp2AHntra2rb9jZ0td4tNvA+JodY+QMtACHTNgEh9SBG69gHaHkKsAbT71olowsSJE59PruXstMQZSdUauBVEdFxxZm/l4MGD76utrX27aAAP0lqfUmbkniSil7TW55d+FgTBxjiOF0RRdEuZATwpDMOnumKglLKzilO11kfCAO5u7pYsWULPPfccXXHFFXTwwQd32Z3sTOGZZ55Jc+bMadsviA8IgAAIgAAIDDABGMABFqAnt+cgCE40xkwjos8T0XBmnmSMudLuAdRan1Zm9lbFcbw2iqK5ZaawiZkXhWG4qGQAe7LXLwiCLxlj7tJa/wUM4PD2WTFr5ubNm0dPPPEEWRNoT/t297HLwNOnT6elS5fSxIkTu7t8wL7HX9kDhj7VG0PXVPEOWOPQdcDQp3rjtHXFDGBGloA76WV2RtAuBd9ERHZmLjUDqJT6N7vHsLjEvEsqe+MScOkU8FVXXUUPPfQQ3XbbbXT44Ye3c7GveLGvennllVfo17/+NU2dOpUOOOAAamxspOuvv77tO7sELHlpNe29J6mOmr1sHLX2ElhGLoeuGRGql2lC114C6+Jy7AHMiAHM5/OTmPkzzLyypaVlc0VFhZ35s3vy7KyfPcmbiAFUSn3VGNNiTxh7nmf3AP4dM19HRJdorXd7e/He/B7AIAg6fbTmz59PM2bMoE2bNtFFF13Udvhj+/btNGLEiDYz+I1vfIOGDbOHtuV+MMjK1cYlM+jqQk9uLHSVq41LZmnrCgOYHQNYY1/twszHENH+RGRn/xZrrW8t7gFMzABas8fMhxljCsYY7XmeXTbe7QCI7dh7swF0ebClx6Y98EiqH7VKUiO5XKBrciwltQRdk1MDBjAjBjA5yZNtCQYwWZ5SWsMgK0WJZPOArsnylNIadJWiRLJ5pK0rDCAMoFOPhQF0wic2OO2BR1LhqFWSGsnlAl2TYympJeianBowgDCATr0JBtAJn9hgDLJipXFKDLo64RMbDF3FSuOUWNq6wgDCADp1UBhAJ3xig9MeeCQVjlolqZFcLtA1OZaSWoKuyakBAwgD6NSbYACd8IkNxiArVhqnxKCrEz6xwdBVrDROiaWtKwwgDKBTB4UBdMInNjjtgUdS4ahVkhrJ5QJdk2MpqSXompwaMIAwgE69CQbQCZ/YYAyyYqVxSgy6OuETGwxdxUrjlFjausIAwgA6dVAYQCd8YoPTHngkFY5aJamRXC7QNTmWklqCrsmpAQMIA+jUm2AAnfCJDcYgK1Yap8SgqxM+scHQVaw0TomlrSsMIAygUweFAXTCJzY47YFHUuGoVZIayeUCXZNjKakl6JqcGjCAMIBOvQkG0Amf2GAMsmKlcUoMujrhExsMXcVK45RY2rrCAMIAOnVQGEAnfGKD0x54JBWOWiWpkVwu0DU5lpJagq7JqQEDCAPo1JtgAJ3wiQ3GICtWGqfEoKsTPrHB0FWsNE6Jpa0rDCAMoFMHhQF0wic2OO2BR1LhqFWSGsnlAl2TYympJeianBowgDCATr0JBtAJn9hgDLJipXFKDLo64RMbDF3FSuOUWNq6wgDCADp1UBhAJ3xig9MeeCQVjlolqZFcLtA1OZaSWoKuyakBAwgD6NSbYACd8IkNxiArVhqnxKCrEz6xwdBVrDROiaWtKwwgDKBTB4UBdMInNjjtgUdS4ahVkhrJ5QJdk2MpqSXompwaMIAwgE69CQbQCZ/YYAyyYqVxSgy6OuETGwxdxUrjlFjausIAwgA6dVAYQCd8YoPTHngkFY5aJamRXC7QNTmWklqCrsmpAQMIA+jUm2AAnfCJDcYgK1Yap8SgqxM+scHQVaw0TomlrSsMIAygUweFAXTCJzY47YFHUuGoVZIayeUCXZNjKakl6JqcGjCAMIBOvWn16tUnep731OjRo2nfffd1akt6sB14tNaklCLf96Wn65QfanXCJzYYuoqVxikx6OqET2xw2rp+8MEH1NTURHEcTz7uuOOeFgsixcQ4xbY/9E0/99xzXySiH3/oC0WBIAACIAACIPDhJPCliRMnLvtwltZ1VTCADqo/++yzH/V9/2/iOG7yPG+HQ1MIBQEQAAEQAAEQ6CcCcRwP8TxvTKFQWDFp0qQ/9dNtRd0GBlCUHEgGBEAABEAABEAABNInAAOYPmPcAQRAAARAAARAAAREEYABFCUHkgEBEAABEAABEACB9AnAAKbPGHcAARAAARAAARAAAVEEYAD7KIdSag4RXUREI5h5nTFmrtb6//WxORFhSqnvENEMIqomog+I6GlmviQMw7CUYBAEq4wxUzsk/DOt9RkiiuhhEkqpq4joyg6Xv6G1Hl78GSul7PdfJ6IDmPnZQqFwfkNDw7oe3kLMZUqpJiI6rJOEbtNan59lTfP5/BRmts/hBPssEtHntda/Kqu1Wx3Hjx9/wM6dO28hor8vxv26ubn5n5qamt4RIyIRdVXrhAkTKrZu3XotEX3O87yxxph3iegJZv52GIavl+rorC8YY26IoujbWanV5qmUWkJEX+2Q87Na6+NLP6uqqhrsed6/EdH/Zea/IKLfFAqFOQ0NDX/MWK2ms3yNMRdHUfS9Io/dnnGJuvbkd0xPdBs7duzoXC73fWb+tDHG/q5alsvlLly/fn2zJG2l5wID2AeFlFKnE9GPiGiOMeYpIjqPmc9pbW0dt2HDhlf60KSIkHw+/xgR/dQY8wfP83JENI+Zxw8ePHjciy++uN0mWTQLOpfLXVFKeseOHR9s2LDB/sLJzKdoAL+Qy+X+qpR0c3NzoaGh4c1inZcYYy4zxpyVy+V0oVC4nIis2QjCMNyWmUKJqKqq6qBBgwa1v7yxpaXl48z8uOd5n6qvr1+VZU2VUn/LzJPjOH6emZd3NIBBEHSro1LqUWPMKGOMNfvEzHcwc5PW+u8k6dxVrWPHjv3LXC53HzPfSUT/XSgUDvA8b5ExJhdF0cRyA8jMd/u+b68rfd5bv379e1mptcwAHpLL5WaV8mbm5nXr1m0p/X8QBP9ujPk7+wwbY/7ked4CIvqI1tr+sVCQUm93fXjcuHGlP0rbUm5pabF9/m5jTFUURRtKBjALuvbwd0x3uvn5fH4tM78Zx/G3mPmjzPxDIvql1vqfpOiahTxgAPugklLqWWZ+PgzD2WUDax0R/UprbWfRPhQfaxw8z9tsZ/yiKPpdyQDGcbw2iqK5WS6yaABP01of1UkddtbodWZeFIbhDfb74l+lbxhjLomi6PYs157P5xcx86la6zwRGWsAPySa2pmS8hnAbnXM5/M1zLzeGHN8FEXPFrU+3vO8/2Lm6vLZb0maK6U61rpbekqpY4lodWtr62GlP0ztDGCxXy+SVE9XuXRWa3EGcJjW+rTOYouG2P4x9xWt9c+KY9dIY8yrnud9rr6+foXE+nuoq53hHqq1/kzZ75/M6Vp81nb5HdMT3axhJqKHmPnQ0uy2UsquQC2J4/jghoaGrRK1lZgTDGAvVRk3btyg1tbW94loptb6/rK/Nm82xhylte64PNrLO8i5vLKyssr3/cj3/fF1dXUvlQygMeYIO1FCRG8Q0aPMfHXWZsWsAbRLh8Wlsp1E9Kwx5lL7F3U+nx/LzI1xHB/T0NDwQkmRfD7/ADO/o7XuuPQkR7RuMin2X7skeJPW+roPmaa7mKKe6BgEwdeMMZbFsHJ0Sql3jDEXRFF0j0Rxe2IU8vn8XzHzyjiOh5V+KRaXgAcT0SAietUY84uKiorvSV4668IAWvPXbIx5h5mfLBQKlzU2Nm4u9mm7NPibwYMHf6S2tvbtMqP038U/1Dtu/xAhc3e6Hn744YdUVFT80Rjz1SiK2l9enEVdLfCOv2OCIOhWt3w+/6/MPF1r/YmSaMVtHFvsknAYhr8VIWYGkoAB7KVIQRDYvyJf8zxvcn19ffs/H6OUutTuSdFaB71sUurlHATBA8aYA7TWnywbQM81xrycy+X+f6FQ+DgRzSeiBq31X0stpLO87F+Rxph9fN+3y7uHeJ53uTGm2vM8a26DOI6fYuaPddg/ZZcGDwvD8G+yVGt5rkEQ/IMxZhkzjy776/nDoukuBrC6uvrE7nS0z61dIoyiSJVzyufzmpnv0Vrb/i3u051RGDNmzJCKiorfE1F9FEVfLnt+L7DL5b7vv22MOa74/D6gtT5HXJHFhPZgAE83xryXy+U2trS0HO553jVElIvjeEJDQ8POfD7/xaJ+1uy2f5RSK4noZa31edBQXnYAAAtRSURBVBLr7U7XIAguNsZ8u7m5eWRTU1P7Pz6glMqcrnYSoePvmJ7oppS6g4jGaK2nddB2Z/FZ/olEbSXmBAPYS1VKBjCO4xMbGhr+qxSez+cvY2a73GAPUGT+o5T6PhGdEsfxSV1tmq6urp4Qx/FzxYH3+awWfuSRR+67Y8eORiK60fO8Z6xx8H1/ZF1d3aayX553GmMOjaLos1mtMwiCFcaY5q72t2VV046/PEsGsCsd9/SHm1IqIqK7tdbXS9S6K6NgD4Rs27btF0Q0Oo7jk7taEsvn8/+Hme/zPO/A+vp6kf8aQnemyOpTU1MzolAobDTGnBFF0S+7MBKP29n9MAz/MWu62nyVUvVE9Hh3e90youtuv2N6ops1gJ39Ia6UsgdAztRa/1SithJzggHspSp7wxKwUmoxEZ3GzFPCMHy5G0R2n5VdQm3fa9NLpGIuV0rZXw4NcRx/78O4BFxTU3NYoVDYwMwzwjB8oAvwmdS0o1HYG5eAi+bv50Q01vO8T3dn6pRSHyMiu6TYvgdSzAPZxQxgZzla087Md9l9uz1ZSpRWZ9Hg7XFvp1LKrsTYvdh2q5Fdyt7jR7que/od0xPdsAScXM+FAewDS3sIxBizJooi+yqYto9Saj0R2aWULB8Csb/4rfn7vO/7J9fV1dlZkC4/NTU1Hy8UCrXlB0W6i5H4ffGQh50BvENrfU3xEMjCMAxvtPkWjb89EJPZQyDFgy/njRw58tBVq1a17kmHrGrayUxR6RDIHnUsHQIhokla69WWST6fn8TMz2TtEEiZ+cvHcfyp0on2rp63fD5/KjM/WH5QRNrz2ZMZwOrq6o/GcfyafW2T1npp6TABM385DENriEuzhH/M6iEQe/DFGPPx8lPde9JKsK5d/o7piW6lQyC+748qrdAU38zxQxwC6d3TCwPYO14ls9f2Ghhm/sc4ju0y8NeZ+Vzf94+oq6vb2IcmRYTk8/nbmPmLcRxPHzRoUPu7/7Zu3fruH//4xw+qqqoqPc/7EjM/wsxvxXE8jojsqxU+0FrbE4diXq3QHVCl1L/Fcfyg7/uv2EGDme1rXqYWD7xsLL4+xJr5WfYgTKFQsHs8T87ia2CKLLwgCF6O4/gn5e98y7qm48aN26+lpaXK1sjM9sDOvxhjflsoFLbYk6890dG+BoaIRsZx3LYvzPM8u8doo7TXwHRV6+jRo19/7bXXljPzMUR0ai6Xswe0Sp8t9pBHVVXVCZ7nHW/5eJ5nX9t0rDFmoTHmuSiKpnf3zPTn913VOmTIkC2tra1XxXG8PJfL2S0aY4wx1xljRjNzTelAWvE1MKcS0VlxHG8pvhPwo9JeA9NdH7bcq6qq9vd9f5N97UkURf9RrkWWdO3ud4ytqwe6lV4D80Ycxxd5nvcRewK4eLgHr4HpxYMKA9gLWOWXFl8EfXHxRdAvxXFsTwy2vSolq5/iX9q7pW+MmRVF0ZLKyspDfd+/l4js4Y/97ClCZn44l8tdXf7+rSzUr5Sy+0SmENGBRGRfF2H3/X23oaHBzuS2+Ynii6CtKTjAnhL2ff/80mnoLNTY4ZfENM/zVnieF9TX1+vSd1nXtLq6+uQ4jjs79fdDrfVZPdHxiCOO+Ehzc/MtzNz2ImhjzK9bWlq+Ie1F0F3V6nmeNUSdbtcove+xqqrqGM/zbiu+6N0ejrB/rP70vffeu/H111+3bzYQ8+mq1vfff3/2vvvu+ytjzNFENIyZNxVN/3cbGxtfLRVhD8IMGjTIvij5i0TU/iLo8mskFNyDPmxnpe0kw6LW1tYRHd+5miVdu/sdY/XoiW7FF0Hbvvzp4j9asCyO4wvtASAJmmYlBxjArCiFPEEABEAABEAABEAgIQIwgAmBRDMgAAIgAAIgAAIgkBUCMIBZUQp5ggAIgAAIgAAIgEBCBGAAEwKJZkAABEAABEAABEAgKwRgALOiFPIEARAAARAAARAAgYQIwAAmBBLNgAAIgAAIgAAIgEBWCMAAZkUp5AkCIAACIAACIAACCRGAAUwIJJoBARAAARAAARAAgawQgAHMilLIEwRAAARAAARAAAQSIgADmBBINAMCIAACIAACIAACWSEAA5gVpZAnCIDAbgSUUvbfAP1qxy8KhUK+sbGxAchAAARAAAQ6JwADiJ4BAiCQWQJFA3hILpebVV7E+vXr7b/vXBjowiZMmFCxZs2aloHOA/cHARAAgY4EYADRJ0AABDJLoGgAh2mtT+tJETU1NYcVCoVbiegkZh5kjGkioou01o/Y+KqqqiM8z7uRiD5JRHZ8XBvH8VkNDQ2NROQppS4noq8T0UFEVMfM3w7D8DEbW11dPSaO45eZ+XQimmOMOd4YMzuKonuqq6tPjOP4eiI6lojeIqL7hwwZ8p0XX3xxe0/yxjUgAAIgkDQBGMCkiaI9EACBfiPQWwOolHqIiAZ5nvetQqFgzdc4ItoaRdHvlFIfI6IXiWgVM89n5q2FQmGy53lPh2EYKqUuIKKriOg8Zn4hjuOvMfMFvu8fUVdXF5UMIBE1GWO+5XneC0S0k5k/Gsfx08z8Xc/zHjbGHBTHsTWh/6213mXmst/A4UYgAAJ7PQEYwL2+CwAACGSXQNEAfpmIdpSqMMY8GkXRzM6qUkpZg7dca311x++VUtcR0RlDhw4NOlu2VUq9RkTf11rb69o+SqnVRPQHrfX5ZTOAc8MwvLnsmqVE9IHW+ryyn51ERE82Nzfv29TU1J57dpVA5iAAAlkjAAOYNcWQLwiAQDuBogH8WKFQmF364aBBg7bX1dVt2oMBPIeI/p2IrHF7gpmXh2FoTaE1c3YZ+E2t9W6HSqqqqvb3PO/dOI5PbmhoeLLUdj6fX8jMn9Baf7rMAJ4UhuFTZWZvnV1dJqL2vYDMzMaYfYwx46IoqoOkIAACINDfBGAA+5s47gcCIJAYgd4uAdsbV1ZWHup53inMPI2ITrXLtVEULVZKLSei97oygMaYqXa5uMwALmLm8Vrrz5QMoDHm6CiK1pYZQGvwHi8UCrd0LHzw4MGvrF+/vjkxIGgIBEAABHpIAAawh6BwGQiAgDwCfTGA5VUopeYT0Sla6yOVUlfaV8r0YQl4tdb6G3sygEEQ/NgYM9yaRHkEkREIgMDeSgAGcG9VHnWDwIeAQG8NYD6fX+T7/qPGGF0oFA7wPM8uBzdprU+vrq62hzVCuzfPHgKxS76FQuF4Zl5tD4EEQTDXGGP3Dn6dme3p4FnM/C8dD4F0nAEMguBIY8wzRHSPMebOXC63PY7jGmPMX2ut/+lDIANKAAEQyCABGMAMioaUQQAE/kygtwZQKbWYiP6WiEbZ079E9JjneRfU19f/ybZnzRoRfc++JsYYY98juNYYc1YURRs6vAbmYCJa39lrYDoawGKe9vUv84johOLrZexrZX5WfqAEmoIACIBAfxKAAexP2rgXCIAACIAACIAACAggAAMoQASkAAIgAAIgAAIgAAL9SQAGsD9p414gAAIgAAIgAAIgIIAADKAAEZACCIAACIAACIAACPQnARjA/qSNe4EACIAACIAACICAAAIwgAJEQAogAAIgAAIgAAIg0J8EYAD7kzbuBQIgAAIgAAIgAAICCMAAChABKYAACIAACIAACIBAfxKAAexP2rgXCIAACIAACIAACAggAAMoQASkAAIgAAIgAAIgAAL9SQAGsD9p414gAAIgAAIgAAIgIIAADKAAEZACCIAACIAACIAACPQnARjA/qSNe4EACIAACIAACICAAAIwgAJEQAogAAIgAAIgAAIg0J8EYAD7kzbuBQIgAAIgAAIgAAICCMAAChABKYAACIAACIAACIBAfxKAAexP2rgXCIAACIAACIAACAgg8D/640olrBIr5AAAAABJRU5ErkJggg==\" width=\"640\">"
      ],
      "text/plain": [
       "<IPython.core.display.HTML object>"
      ]
     },
     "metadata": {},
     "output_type": "display_data"
    }
   ],
   "source": [
    "xgb.plot_importance(reg_xgb)\n",
    "\n",
    "plt.show()"
   ]
  },
  {
   "cell_type": "markdown",
   "metadata": {},
   "source": [
    "## Testing it with the test data"
   ]
  },
  {
   "cell_type": "code",
   "execution_count": 22,
   "metadata": {},
   "outputs": [
    {
     "data": {
      "text/html": [
       "<div>\n",
       "<style scoped>\n",
       "    .dataframe tbody tr th:only-of-type {\n",
       "        vertical-align: middle;\n",
       "    }\n",
       "\n",
       "    .dataframe tbody tr th {\n",
       "        vertical-align: top;\n",
       "    }\n",
       "\n",
       "    .dataframe thead th {\n",
       "        text-align: right;\n",
       "    }\n",
       "</style>\n",
       "<table border=\"1\" class=\"dataframe\">\n",
       "  <thead>\n",
       "    <tr style=\"text-align: right;\">\n",
       "      <th></th>\n",
       "      <th>GAvg</th>\n",
       "      <th>sur1</th>\n",
       "      <th>sur2</th>\n",
       "      <th>sur3</th>\n",
       "      <th>sur4</th>\n",
       "      <th>sur5</th>\n",
       "      <th>smr1</th>\n",
       "      <th>smr2</th>\n",
       "      <th>smr3</th>\n",
       "      <th>smr4</th>\n",
       "      <th>smr5</th>\n",
       "      <th>UAvg</th>\n",
       "      <th>MAvg</th>\n",
       "      <th>rating</th>\n",
       "    </tr>\n",
       "  </thead>\n",
       "  <tbody>\n",
       "    <tr>\n",
       "      <th>0</th>\n",
       "      <td>3.568889</td>\n",
       "      <td>4.0</td>\n",
       "      <td>3.0</td>\n",
       "      <td>3.0</td>\n",
       "      <td>5.0</td>\n",
       "      <td>5.0</td>\n",
       "      <td>5.0</td>\n",
       "      <td>4.0</td>\n",
       "      <td>5.0</td>\n",
       "      <td>5.0</td>\n",
       "      <td>5.0</td>\n",
       "      <td>4.154472</td>\n",
       "      <td>3.0</td>\n",
       "      <td>3.0</td>\n",
       "    </tr>\n",
       "    <tr>\n",
       "      <th>1</th>\n",
       "      <td>3.568889</td>\n",
       "      <td>4.0</td>\n",
       "      <td>3.0</td>\n",
       "      <td>4.0</td>\n",
       "      <td>3.0</td>\n",
       "      <td>4.0</td>\n",
       "      <td>4.0</td>\n",
       "      <td>2.0</td>\n",
       "      <td>5.0</td>\n",
       "      <td>5.0</td>\n",
       "      <td>1.0</td>\n",
       "      <td>4.285714</td>\n",
       "      <td>3.0</td>\n",
       "      <td>5.0</td>\n",
       "    </tr>\n",
       "    <tr>\n",
       "      <th>2</th>\n",
       "      <td>3.568889</td>\n",
       "      <td>3.0</td>\n",
       "      <td>1.0</td>\n",
       "      <td>4.0</td>\n",
       "      <td>5.0</td>\n",
       "      <td>3.0</td>\n",
       "      <td>5.0</td>\n",
       "      <td>5.0</td>\n",
       "      <td>5.0</td>\n",
       "      <td>5.0</td>\n",
       "      <td>4.0</td>\n",
       "      <td>3.500000</td>\n",
       "      <td>3.0</td>\n",
       "      <td>3.0</td>\n",
       "    </tr>\n",
       "    <tr>\n",
       "      <th>3</th>\n",
       "      <td>3.568889</td>\n",
       "      <td>4.0</td>\n",
       "      <td>5.0</td>\n",
       "      <td>3.0</td>\n",
       "      <td>3.0</td>\n",
       "      <td>5.0</td>\n",
       "      <td>5.0</td>\n",
       "      <td>5.0</td>\n",
       "      <td>5.0</td>\n",
       "      <td>5.0</td>\n",
       "      <td>4.0</td>\n",
       "      <td>4.173913</td>\n",
       "      <td>3.0</td>\n",
       "      <td>5.0</td>\n",
       "    </tr>\n",
       "  </tbody>\n",
       "</table>\n",
       "</div>"
      ],
      "text/plain": [
       "       GAvg  sur1  sur2  sur3  sur4  sur5  smr1  smr2  smr3  smr4  smr5  \\\n",
       "0  3.568889   4.0   3.0   3.0   5.0   5.0   5.0   4.0   5.0   5.0   5.0   \n",
       "1  3.568889   4.0   3.0   4.0   3.0   4.0   4.0   2.0   5.0   5.0   1.0   \n",
       "2  3.568889   3.0   1.0   4.0   5.0   3.0   5.0   5.0   5.0   5.0   4.0   \n",
       "3  3.568889   4.0   5.0   3.0   3.0   5.0   5.0   5.0   5.0   5.0   4.0   \n",
       "\n",
       "       UAvg  MAvg  rating  \n",
       "0  4.154472   3.0     3.0  \n",
       "1  4.285714   3.0     5.0  \n",
       "2  3.500000   3.0     3.0  \n",
       "3  4.173913   3.0     5.0  "
      ]
     },
     "execution_count": 22,
     "metadata": {},
     "output_type": "execute_result"
    }
   ],
   "source": [
    "reg_test_df = pd.read_csv('sample/big/reg_test.csv',names = ['GAvg', 'sur1', 'sur2', 'sur3', 'sur4', 'sur5',\n",
    "                                                         'smr1', 'smr2', 'smr3', 'smr4', 'smr5',\n",
    "                                                        'UAvg', 'MAvg', 'rating'], header=None)\n",
    "reg_test_df.head(4)"
   ]
  },
  {
   "cell_type": "code",
   "execution_count": 23,
   "metadata": {},
   "outputs": [],
   "source": [
    "x_test = reg_test_df.drop(['rating'], axis=1)\n",
    "\n",
    "y_test = reg_test_df['rating']"
   ]
  },
  {
   "cell_type": "markdown",
   "metadata": {},
   "source": [
    "## For basic model"
   ]
  },
  {
   "cell_type": "code",
   "execution_count": 25,
   "metadata": {},
   "outputs": [
    {
     "data": {
      "text/plain": [
       "{'first_xgb': {'mape': 31.616862205367706,\n",
       "  'predictions': array([4.0232067, 3.7947516, 3.265981 , ..., 3.7992482, 3.6917117,\n",
       "         3.9168785], dtype=float32),\n",
       "  'rmse': 1.0671246633875136}}"
      ]
     },
     "execution_count": 25,
     "metadata": {},
     "output_type": "execute_result"
    }
   ],
   "source": [
    "first_xgb_test_pred = reg_xgb.predict(x_test)\n",
    "\n",
    "# storing them in models_evaluations_test\n",
    "models_evaluation_test['first_xgb'] = {'rmse':np.sqrt(mean_squared_error(y_test, first_xgb_test_pred)),\n",
    "                                       'mape':np.mean(np.abs( (y_test.values - first_xgb_test_pred)/y_test.values )) * 100,\n",
    "                                       'predictions':first_xgb_test_pred}\n",
    "\n",
    "\n",
    "models_evaluation_test"
   ]
  },
  {
   "cell_type": "code",
   "execution_count": 28,
   "metadata": {},
   "outputs": [],
   "source": [
    "# to get rmse and mape for XGboost..\n",
    "def get_error_metrics(y_true, y_pred):\n",
    "    rmse = np.sqrt(np.mean([ (y_true[i] - y_pred[i])**2 for i in range(len(y_pred)) ]))\n",
    "    mape = np.mean(np.abs( (y_true - y_pred)/y_true )) * 100\n",
    "    return rmse, mape"
   ]
  },
  {
   "cell_type": "markdown",
   "metadata": {},
   "source": [
    " "
   ]
  },
  {
   "cell_type": "markdown",
   "metadata": {},
   "source": [
    " "
   ]
  },
  {
   "cell_type": "markdown",
   "metadata": {},
   "source": [
    " "
   ]
  },
  {
   "cell_type": "markdown",
   "metadata": {},
   "source": [
    "## Preparing Trainset and testset for Surprise based alorithms"
   ]
  },
  {
   "cell_type": "markdown",
   "metadata": {},
   "source": [
    "### TrainSet"
   ]
  },
  {
   "cell_type": "code",
   "execution_count": 29,
   "metadata": {},
   "outputs": [],
   "source": [
    "from surprise import Reader, Dataset"
   ]
  },
  {
   "cell_type": "code",
   "execution_count": 30,
   "metadata": {
    "scrolled": true
   },
   "outputs": [
    {
     "data": {
      "text/html": [
       "<div>\n",
       "<style scoped>\n",
       "    .dataframe tbody tr th:only-of-type {\n",
       "        vertical-align: middle;\n",
       "    }\n",
       "\n",
       "    .dataframe tbody tr th {\n",
       "        vertical-align: top;\n",
       "    }\n",
       "\n",
       "    .dataframe thead th {\n",
       "        text-align: right;\n",
       "    }\n",
       "</style>\n",
       "<table border=\"1\" class=\"dataframe\">\n",
       "  <thead>\n",
       "    <tr style=\"text-align: right;\">\n",
       "      <th></th>\n",
       "      <th>user</th>\n",
       "      <th>movie</th>\n",
       "      <th>rating</th>\n",
       "    </tr>\n",
       "  </thead>\n",
       "  <tbody>\n",
       "    <tr>\n",
       "      <th>0</th>\n",
       "      <td>1590</td>\n",
       "      <td>0</td>\n",
       "      <td>3.0</td>\n",
       "    </tr>\n",
       "    <tr>\n",
       "      <th>1</th>\n",
       "      <td>1907</td>\n",
       "      <td>0</td>\n",
       "      <td>1.0</td>\n",
       "    </tr>\n",
       "  </tbody>\n",
       "</table>\n",
       "</div>"
      ],
      "text/plain": [
       "   user  movie  rating\n",
       "0  1590      0     3.0\n",
       "1  1907      0     1.0"
      ]
     },
     "execution_count": 30,
     "metadata": {},
     "output_type": "execute_result"
    }
   ],
   "source": [
    "surp_train = pd.DataFrame({'user': sample_train_users,\n",
    "                           'movie': sample_train_movies,\n",
    "                           'rating': sample_train_ratings}, )\n",
    "surp_train = surp_train[['user','movie','rating']]\n",
    "surp_train.head(2)"
   ]
  },
  {
   "cell_type": "code",
   "execution_count": 31,
   "metadata": {},
   "outputs": [],
   "source": [
    "trainset = Dataset.load_from_df(surp_train,Reader(rating_scale=(1,5))).build_full_trainset()"
   ]
  },
  {
   "cell_type": "code",
   "execution_count": 32,
   "metadata": {},
   "outputs": [
    {
     "data": {
      "text/plain": [
       "(18755, 1949, 486139)"
      ]
     },
     "execution_count": 32,
     "metadata": {},
     "output_type": "execute_result"
    }
   ],
   "source": [
    "trainset.n_users, trainset.n_items, trainset.n_ratings"
   ]
  },
  {
   "cell_type": "markdown",
   "metadata": {},
   "source": [
    "### TestSet"
   ]
  },
  {
   "cell_type": "code",
   "execution_count": 33,
   "metadata": {},
   "outputs": [
    {
     "data": {
      "text/html": [
       "<div>\n",
       "<style scoped>\n",
       "    .dataframe tbody tr th:only-of-type {\n",
       "        vertical-align: middle;\n",
       "    }\n",
       "\n",
       "    .dataframe tbody tr th {\n",
       "        vertical-align: top;\n",
       "    }\n",
       "\n",
       "    .dataframe thead th {\n",
       "        text-align: right;\n",
       "    }\n",
       "</style>\n",
       "<table border=\"1\" class=\"dataframe\">\n",
       "  <thead>\n",
       "    <tr style=\"text-align: right;\">\n",
       "      <th></th>\n",
       "      <th>user</th>\n",
       "      <th>movie</th>\n",
       "      <th>rating</th>\n",
       "    </tr>\n",
       "  </thead>\n",
       "  <tbody>\n",
       "    <tr>\n",
       "      <th>0</th>\n",
       "      <td>118</td>\n",
       "      <td>0</td>\n",
       "      <td>3.0</td>\n",
       "    </tr>\n",
       "    <tr>\n",
       "      <th>1</th>\n",
       "      <td>192</td>\n",
       "      <td>0</td>\n",
       "      <td>5.0</td>\n",
       "    </tr>\n",
       "  </tbody>\n",
       "</table>\n",
       "</div>"
      ],
      "text/plain": [
       "   user  movie  rating\n",
       "0   118      0     3.0\n",
       "1   192      0     5.0"
      ]
     },
     "execution_count": 33,
     "metadata": {},
     "output_type": "execute_result"
    }
   ],
   "source": [
    "surp_test = pd.DataFrame({'user': sample_test_users,\n",
    "                           'movie': sample_test_movies,\n",
    "                           'rating': sample_test_ratings})\n",
    "surp_test = surp_test[['user','movie','rating']]\n",
    "surp_test.head(2)"
   ]
  },
  {
   "cell_type": "code",
   "execution_count": 34,
   "metadata": {
    "scrolled": false
   },
   "outputs": [],
   "source": [
    "testset = list(zip(sample_test_users, sample_test_movies, sample_test_ratings))"
   ]
  },
  {
   "cell_type": "markdown",
   "metadata": {},
   "source": [
    "## Generic function to run any surprise based algorithm \n",
    "\n",
    "    - given prefectly initialized ALGO, TRAINSET and TESTSET\n",
    "    "
   ]
  },
  {
   "cell_type": "code",
   "execution_count": 35,
   "metadata": {},
   "outputs": [],
   "source": [
    "##########################################################\n",
    "# get  (actual_list , predicted_list) ratings given list \n",
    "# of predictions (prediction is a class in Surprise).    \n",
    "##########################################################\n",
    "def get_ratings(predictions):\n",
    "    actual = np.array([pred.r_ui for pred in predictions])\n",
    "    pred = np.array([pred.est for pred in predictions])\n",
    "    \n",
    "    return actual, pred\n",
    "\n",
    "################################################################\n",
    "# get ''rmse'' and ''mape'' , given list of prediction classes \n",
    "################################################################\n",
    "def get_errors(predictions, print_them=False):\n",
    "\n",
    "    actual, pred = get_ratings(predictions)\n",
    "    rmse = np.sqrt(np.mean((pred - actual)**2))\n",
    "    mape = np.mean(np.abs(pred - actual)/actual)\n",
    "\n",
    "    return rmse, mape*100\n",
    "\n",
    "##################################################################################\n",
    "# It will return predicted ratings, rmse and mape of both train and test data   #\n",
    "##################################################################################\n",
    "def run_surprise(algo, trainset, testset, verbose=True): \n",
    "    '''\n",
    "        return train_dict, test_dict\n",
    "    \n",
    "        It returns two dictionaries, one for train and the other is for test\n",
    "        Each of them have 3 key-value pairs, which specify ''rmse'', ''mape'', and ''predicted ratings''.\n",
    "    '''\n",
    "    start = datetime.now()\n",
    "    # dictionaries that stores metrics for train and test..\n",
    "    train = dict()\n",
    "    test = dict()\n",
    "    \n",
    "    # train the algorithm with the trainset\n",
    "    st = datetime.now()\n",
    "    print('Training the model...')\n",
    "    algo.fit(trainset)\n",
    "    print('Done. time taken : {} \\n'.format(datetime.now()-st))\n",
    "    \n",
    "    # ---------------- Evaluating train data--------------------#\n",
    "    st = datetime.now()\n",
    "    print('Evaluating the model with train data..')\n",
    "    # get the train predictions (list of prediction class inside Surprise)\n",
    "    train_preds = algo.test(trainset.build_testset())\n",
    "    # get predicted ratings from the train predictions..\n",
    "    train_actual_ratings, train_pred_ratings = get_ratings(train_preds)\n",
    "    # get ''rmse'' and ''mape'' from the train predictions.\n",
    "    train_rmse, train_mape = get_errors(train_preds)\n",
    "    print('time taken : {}'.format(datetime.now()-st))\n",
    "    \n",
    "    if verbose:\n",
    "        print('-'*15)\n",
    "        print('Train Data')\n",
    "        print('-'*15)\n",
    "        print(\"RMSE : {}\\n\\nMAPE : {}\\n\".format(train_rmse, train_mape))\n",
    "    \n",
    "    #store them in the train dictionary\n",
    "    if verbose:\n",
    "        print('adding train results in the dictionary..')\n",
    "    train['rmse'] = train_rmse\n",
    "    train['mape'] = train_mape\n",
    "    train['predictions'] = train_pred_ratings\n",
    "    \n",
    "    #------------ Evaluating Test data---------------#\n",
    "    st = datetime.now()\n",
    "    print('\\nEvaluating for test data...')\n",
    "    # get the predictions( list of prediction classes) of test data\n",
    "    test_preds = algo.test(testset)\n",
    "    # get the predicted ratings from the list of predictions\n",
    "    test_actual_ratings, test_pred_ratings = get_ratings(test_preds)\n",
    "    # get error metrics from the predicted and actual ratings\n",
    "    test_rmse, test_mape = get_errors(test_preds)\n",
    "    print('time taken : {}'.format(datetime.now()-st))\n",
    "    \n",
    "    if verbose:\n",
    "        print('-'*15)\n",
    "        print('Test Data')\n",
    "        print('-'*15)\n",
    "        print(\"RMSE : {}\\n\\nMAPE : {}\\n\".format(test_rmse, test_mape))\n",
    "    # store them in test dictionary\n",
    "    if verbose:\n",
    "        print('storing the test results in test dictionary...')\n",
    "    test['rmse'] = test_rmse\n",
    "    test['mape'] = test_mape\n",
    "    test['predictions'] = test_pred_ratings\n",
    "    \n",
    "    print('\\n'+'-'*45)\n",
    "    print('Total time taken to run this algorithm :', datetime.now() - start)\n",
    "    \n",
    "    # return two dictionaries train and test\n",
    "    return train, test"
   ]
  },
  {
   "cell_type": "markdown",
   "metadata": {},
   "source": [
    " "
   ]
  },
  {
   "cell_type": "markdown",
   "metadata": {},
   "source": [
    " "
   ]
  },
  {
   "cell_type": "markdown",
   "metadata": {},
   "source": [
    " "
   ]
  },
  {
   "cell_type": "markdown",
   "metadata": {},
   "source": [
    " "
   ]
  },
  {
   "cell_type": "markdown",
   "metadata": {},
   "source": [
    "## 1. Baseline Model  ( with User and Item biases )"
   ]
  },
  {
   "cell_type": "code",
   "execution_count": 36,
   "metadata": {},
   "outputs": [],
   "source": [
    "from surprise import BaselineOnly"
   ]
  },
  {
   "cell_type": "markdown",
   "metadata": {},
   "source": [
    "- #### Predicted_rating : ( baseline prediction )\n",
    "\n",
    ">$   \\large {\\hat{r}_{ui} = b_{ui} =\\mu + b_u + b_i} $\n",
    "\n",
    "- ####  Optimization function ( Least Squares Problem )\n",
    "\n",
    "> $ \\large \\sum_{r_{ui} \\in R_{train}} \\left(r_{ui} - (\\mu + b_u + b_i)\\right)^2 +\n",
    "\\lambda \\left(b_u^2 + b_i^2 \\right).\\text {        [mimimize } {b_u, b_i]}$"
   ]
  },
  {
   "cell_type": "code",
   "execution_count": 37,
   "metadata": {},
   "outputs": [],
   "source": [
    "bsl_options = {'method': 'sgd',\n",
    "               'learning_rate': .001\n",
    "               }\n",
    "bsl = BaselineOnly(bsl_options=bsl_options)"
   ]
  },
  {
   "cell_type": "code",
   "execution_count": 38,
   "metadata": {
    "scrolled": false
   },
   "outputs": [
    {
     "name": "stdout",
     "output_type": "stream",
     "text": [
      "Training the model...\n",
      "Estimating biases using sgd...\n",
      "Done. time taken : 0:00:04.084733 \n",
      "\n",
      "Evaluating the model with train data..\n",
      "time taken : 0:00:05.061169\n",
      "---------------\n",
      "Train Data\n",
      "---------------\n",
      "RMSE : 0.9343933204486475\n",
      "\n",
      "MAPE : 29.3585572595359\n",
      "\n",
      "adding train results in the dictionary..\n",
      "\n",
      "Evaluating for test data...\n",
      "time taken : 0:00:01.585668\n",
      "---------------\n",
      "Test Data\n",
      "---------------\n",
      "RMSE : 1.1446096974315327\n",
      "\n",
      "MAPE : 34.61122256138336\n",
      "\n",
      "storing the test results in test dictionary...\n",
      "\n",
      "---------------------------------------------\n",
      "Total time taken to run this algorithm : 0:00:10.732529\n"
     ]
    }
   ],
   "source": [
    "bsl_train_results, bsl_test_results = run_surprise(bsl, trainset, testset, verbose=True)"
   ]
  },
  {
   "cell_type": "code",
   "execution_count": 39,
   "metadata": {},
   "outputs": [
    {
     "data": {
      "text/plain": [
       "{'mape': 34.61122256138336,\n",
       " 'predictions': array([4.0362061 , 3.63812962, 3.53202119, ..., 3.57248683, 3.52791376,\n",
       "        3.5332751 ]),\n",
       " 'rmse': 1.1446096974315327}"
      ]
     },
     "execution_count": 39,
     "metadata": {},
     "output_type": "execute_result"
    }
   ],
   "source": [
    "# store them in models dictionary..\n",
    "models_evaluation_train['bsl'] = bsl_train_results\n",
    "# storing testdata results...\n",
    "models_evaluation_test['bsl'] = bsl_test_results\n",
    "\n",
    "models_evaluation_test['bsl']"
   ]
  },
  {
   "cell_type": "markdown",
   "metadata": {},
   "source": [
    " "
   ]
  },
  {
   "cell_type": "markdown",
   "metadata": {},
   "source": [
    " "
   ]
  },
  {
   "cell_type": "markdown",
   "metadata": {},
   "source": [
    " "
   ]
  },
  {
   "cell_type": "markdown",
   "metadata": {},
   "source": [
    "# 2. KNN with Baseline_model "
   ]
  },
  {
   "cell_type": "code",
   "execution_count": 40,
   "metadata": {},
   "outputs": [],
   "source": [
    "from surprise import KNNBaseline"
   ]
  },
  {
   "cell_type": "markdown",
   "metadata": {},
   "source": [
    "- __predicted Rating__ : ( ___ based on User-User similarity ___ )\n",
    "\n",
    "\\begin{align} \\hat{r}_{ui} = b_{ui} + \\frac{ \\sum\\limits_{v \\in N^k_i(u)}\n",
    "\\text{sim}(u, v) \\cdot (r_{vi} - b_{vi})} {\\sum\\limits_{v \\in\n",
    "N^k_i(u)} \\text{sim}(u, v)} \\end{align}\n",
    "\n",
    "- $\\pmb{b_{ui}}$ -  _Baseline prediction_ of (user,movie) rating\n",
    "\n",
    "\n",
    "- $ \\pmb {N_i^k (u)}$ - Set of __K similar__ users (neighbours) of __user (u)__ who rated __movie(i)__  \n",
    "\n",
    "\n",
    "- _sim (u, v)_ - __Similarity__ between users __u and v__  \n",
    "    - Generally, it will be cosine similarity or Pearson correlation coefficient. \n",
    "    - But we use __shrunk Pearson-baseline correlation coefficient__, which is based on the pearsonBaseline similarity ( we take base line predictions instead of mean rating of user/item)\n",
    "        - Computation of the correlation coefficient is based only on the common user support.\n",
    "        - similarities based on a greater user support are more reliable ie., Users who has more number of common movie ratings are considered as more similar than users who has few no of movies  in common which are rated.\n",
    "        - \\begin{align}\\begin{aligned}\\text{pearson_baseline_shrunk_sim}(u, v) &= \\frac{|I_{uv}| - 1}{|I_{uv}| - 1 + \\text{shrinkage}} \\cdot \\hat{\\rho}_{uv}\\end{aligned}\\end{align}\n",
    "            - $\\pmb{|I_{uv}|}$ - No of common movies between users(u and v)\n",
    "            - __shrinkage__ - kind of hyperparameter. The defalut value suggested is ___100___\n",
    "                - __0__ : There is no shrinkage at all ( It is normal pearson correlation coefficient ) \n",
    "            - $ \\pmb {\\hat \\rho_uv}$ - Pearson-baseline Correlation Coefficient ( between users )\n",
    "                - \\begin{align} \\text{pearson_baseline_sim}(u, v) = \\hat{\\rho}_{uv} = \\frac{\n",
    "    \\sum\\limits_{i \\in I_{uv}} (r_{ui} -  b_{ui}) \\cdot (r_{vi} -\n",
    "    b_{vi})} {\\sqrt{\\sum\\limits_{i \\in I_{uv}} (r_{ui} -  b_{ui})^2}\n",
    "    \\cdot \\sqrt{\\sum\\limits_{i \\in I_{uv}} (r_{vi} -  b_{vi})^2}} \\end{align}\n",
    " "
   ]
  },
  {
   "cell_type": "markdown",
   "metadata": {},
   "source": [
    " ------------ or \n",
    " --"
   ]
  },
  {
   "cell_type": "markdown",
   "metadata": {},
   "source": [
    "- __ Predicted rating __ ( based on Item Item similarity ):\n",
    " \\begin{align} \\hat{r}_{ui} = b_{ui} + \\frac{ \\sum\\limits_{j \\in N^k_u(i)}\\text{sim}(i, j) \\cdot (r_{uj} - b_{uj})} {\\sum\\limits_{j \\in N^k_u(j)} \\text{sim}(i, j)} \\end{align}\n",
    "\n",
    "    -  ___Notations follows same as above (user user based predicted rating ) ___"
   ]
  },
  {
   "cell_type": "markdown",
   "metadata": {},
   "source": [
    " "
   ]
  },
  {
   "cell_type": "markdown",
   "metadata": {},
   "source": [
    "> We can do both and blend them ( see if we can better results when combined ) "
   ]
  },
  {
   "cell_type": "markdown",
   "metadata": {},
   "source": [
    "## 2.1 KNN with User User similarities "
   ]
  },
  {
   "cell_type": "code",
   "execution_count": 41,
   "metadata": {},
   "outputs": [],
   "source": [
    "# we specify , how to compute similarities and what to consider with sim_options to our algorithm\n",
    "sim_options = {'user_based' : True,\n",
    "               'name': 'pearson_baseline',\n",
    "               'shrinkage': 100,\n",
    "               'min_support': 2\n",
    "              } \n",
    "\n",
    "bsl_options = {'method': 'sgd'} # we keep other parameters like regularization parameter and learning_rate as default values."
   ]
  },
  {
   "cell_type": "code",
   "execution_count": 42,
   "metadata": {
    "scrolled": false
   },
   "outputs": [
    {
     "name": "stdout",
     "output_type": "stream",
     "text": [
      "Training the model...\n",
      "Estimating biases using sgd...\n",
      "Computing the pearson_baseline similarity matrix...\n",
      "Done computing similarity matrix.\n",
      "Done. time taken : 0:03:39.630876 \n",
      "\n",
      "Evaluating the model with train data..\n",
      "time taken : 0:11:39.262163\n",
      "---------------\n",
      "Train Data\n",
      "---------------\n",
      "RMSE : 0.424670643894361\n",
      "\n",
      "MAPE : 12.070669791163008\n",
      "\n",
      "adding train results in the dictionary..\n",
      "\n",
      "Evaluating for test data...\n",
      "time taken : 0:00:11.947690\n",
      "---------------\n",
      "Test Data\n",
      "---------------\n",
      "RMSE : 1.2678011657484112\n",
      "\n",
      "MAPE : 36.31289890650797\n",
      "\n",
      "storing the test results in test dictionary...\n",
      "\n",
      "---------------------------------------------\n",
      "Total time taken to run this algorithm : 0:15:30.841394\n"
     ]
    }
   ],
   "source": [
    "knn_bsl_u = KNNBaseline(k=40, sim_options = sim_options, bsl_options = bsl_options)\n",
    "\n",
    "knn_bsl_u_train_results, knn_bsl_u_test_results = run_surprise(knn_bsl_u, trainset, testset, verbose=True)"
   ]
  },
  {
   "cell_type": "code",
   "execution_count": 43,
   "metadata": {},
   "outputs": [
    {
     "data": {
      "text/plain": [
       "{'mape': 36.31289890650797,\n",
       " 'predictions': array([4.46080639, 3.46900566, 3.46660633, ..., 3.5859398 , 3.48940251,\n",
       "        3.47741795]),\n",
       " 'rmse': 1.2678011657484112}"
      ]
     },
     "execution_count": 43,
     "metadata": {},
     "output_type": "execute_result"
    }
   ],
   "source": [
    "models_evaluation_train['knn_bsl_u'] = knn_bsl_u_train_results\n",
    "models_evaluation_test['knn_bsl_u']  = knn_bsl_u_test_results\n",
    "\n",
    "models_evaluation_test['knn_bsl_u'] "
   ]
  },
  {
   "cell_type": "markdown",
   "metadata": {},
   "source": [
    " "
   ]
  },
  {
   "cell_type": "markdown",
   "metadata": {},
   "source": [
    " "
   ]
  },
  {
   "cell_type": "markdown",
   "metadata": {},
   "source": [
    "## 2.2 KNN with Item Item similarities "
   ]
  },
  {
   "cell_type": "code",
   "execution_count": 44,
   "metadata": {},
   "outputs": [],
   "source": [
    "# we specify , how to compute similarities and what to consider with sim_options to our algorithm\n",
    "sim_options = {'user_based' : False,\n",
    "               'name': 'pearson_baseline',\n",
    "               'shrinkage': 100,\n",
    "               'min_support': 2\n",
    "              } \n",
    "\n",
    "bsl_options = {'method': 'sgd'} # we keep other parameters like regularization parameter and learning_rate as default values."
   ]
  },
  {
   "cell_type": "code",
   "execution_count": 45,
   "metadata": {
    "scrolled": false
   },
   "outputs": [
    {
     "name": "stdout",
     "output_type": "stream",
     "text": [
      "Training the model...\n",
      "Estimating biases using sgd...\n",
      "Computing the pearson_baseline similarity matrix...\n",
      "Done computing similarity matrix.\n",
      "Done. time taken : 0:00:07.024447 \n",
      "\n",
      "Evaluating the model with train data..\n",
      "time taken : 0:01:00.011935\n",
      "---------------\n",
      "Train Data\n",
      "---------------\n",
      "RMSE : 0.46262597228542074\n",
      "\n",
      "MAPE : 12.925184816924947\n",
      "\n",
      "adding train results in the dictionary..\n",
      "\n",
      "Evaluating for test data...\n",
      "time taken : 0:00:04.581849\n",
      "---------------\n",
      "Test Data\n",
      "---------------\n",
      "RMSE : 1.2826278907087507\n",
      "\n",
      "MAPE : 36.735570014533124\n",
      "\n",
      "storing the test results in test dictionary...\n",
      "\n",
      "---------------------------------------------\n",
      "Total time taken to run this algorithm : 0:01:11.618706\n"
     ]
    }
   ],
   "source": [
    "knn_bsl_m = KNNBaseline(k=40, sim_options = sim_options, bsl_options = bsl_options)\n",
    "\n",
    "knn_bsl_m_train_results, knn_bsl_m_test_results = run_surprise(knn_bsl_m, trainset, testset, verbose=True)"
   ]
  },
  {
   "cell_type": "code",
   "execution_count": 46,
   "metadata": {},
   "outputs": [
    {
     "data": {
      "text/plain": [
       "{'mape': 36.735570014533124,\n",
       " 'predictions': array([4.09873046, 5.        , 3.46660633, ..., 3.5859398 , 3.48940251,\n",
       "        3.47741795]),\n",
       " 'rmse': 1.2826278907087507}"
      ]
     },
     "execution_count": 46,
     "metadata": {},
     "output_type": "execute_result"
    }
   ],
   "source": [
    "models_evaluation_train['knn_bsl_m'] = knn_bsl_m_train_results\n",
    "models_evaluation_test['knn_bsl_m']  = knn_bsl_m_test_results\n",
    "\n",
    "models_evaluation_test['knn_bsl_m'] "
   ]
  },
  {
   "cell_type": "markdown",
   "metadata": {},
   "source": [
    " "
   ]
  },
  {
   "cell_type": "markdown",
   "metadata": {},
   "source": [
    " "
   ]
  },
  {
   "cell_type": "markdown",
   "metadata": {},
   "source": [
    " "
   ]
  },
  {
   "cell_type": "markdown",
   "metadata": {},
   "source": [
    " "
   ]
  },
  {
   "cell_type": "markdown",
   "metadata": {},
   "source": [
    "# 3. Matrix Factorization Techniques"
   ]
  },
  {
   "cell_type": "markdown",
   "metadata": {},
   "source": [
    " "
   ]
  },
  {
   "cell_type": "markdown",
   "metadata": {},
   "source": [
    "## 3.1 SVD -  MF algorithm with user item interactions "
   ]
  },
  {
   "cell_type": "code",
   "execution_count": 47,
   "metadata": {},
   "outputs": [],
   "source": [
    "from surprise import SVD"
   ]
  },
  {
   "cell_type": "markdown",
   "metadata": {},
   "source": [
    "- __ Predicted Rating : __\n",
    "    - $ \\large \\hat r_{ui} = \\mu + b_u + b_i + q_i^Tp_u $ "
   ]
  },
  {
   "cell_type": "markdown",
   "metadata": {},
   "source": [
    "- __Optimization problem with user item interactions and regularization (to avoid overfitting)__\n",
    "\n",
    "\n",
    "- $\\Large \\sum_{r_{ui} \\in R_{train}} \\left(r_{ui} - \\hat{r}_{ui} \\right)^2 +\n",
    "\\lambda\\left(b_i^2 + b_u^2 + ||q_i||^2 + ||p_u||^2\\right) $"
   ]
  },
  {
   "cell_type": "code",
   "execution_count": 48,
   "metadata": {
    "scrolled": false
   },
   "outputs": [
    {
     "name": "stdout",
     "output_type": "stream",
     "text": [
      "Training the model...\n",
      "Done. time taken : 0:00:33.730995 \n",
      "\n",
      "Evaluating the model with train data..\n",
      "time taken : 0:00:05.544127\n",
      "---------------\n",
      "Train Data\n",
      "---------------\n",
      "RMSE : 0.6461202059710703\n",
      "\n",
      "MAPE : 19.441192939322928\n",
      "\n",
      "adding train results in the dictionary..\n",
      "\n",
      "Evaluating for test data...\n",
      "time taken : 0:00:01.705990\n",
      "---------------\n",
      "Test Data\n",
      "---------------\n",
      "RMSE : 1.2003200344416367\n",
      "\n",
      "MAPE : 35.22882567005053\n",
      "\n",
      "storing the test results in test dictionary...\n",
      "\n",
      "---------------------------------------------\n",
      "Total time taken to run this algorithm : 0:00:40.981906\n"
     ]
    }
   ],
   "source": [
    "svd = SVD(n_factors=115, n_epochs=20, random_state=15)\n",
    "svd_train_results, svd_test_results = run_surprise(svd, trainset, testset, verbose=True)"
   ]
  },
  {
   "cell_type": "code",
   "execution_count": 49,
   "metadata": {},
   "outputs": [
    {
     "data": {
      "text/plain": [
       "{'mape': 35.22882567005053,\n",
       " 'predictions': array([3.99676015, 3.91945961, 3.62483684, ..., 3.58991885, 3.47264321,\n",
       "        3.42663803]),\n",
       " 'rmse': 1.2003200344416367}"
      ]
     },
     "execution_count": 49,
     "metadata": {},
     "output_type": "execute_result"
    }
   ],
   "source": [
    "models_evaluation_train['svd'] = svd_train_results\n",
    "models_evaluation_test['svd'] = svd_test_results\n",
    "\n",
    "models_evaluation_test['svd']"
   ]
  },
  {
   "cell_type": "markdown",
   "metadata": {},
   "source": [
    " "
   ]
  },
  {
   "cell_type": "markdown",
   "metadata": {},
   "source": [
    " \n",
    " "
   ]
  },
  {
   "cell_type": "markdown",
   "metadata": {},
   "source": [
    " ### 3.2 SVD -  with Implicit feedback of Items(movies)"
   ]
  },
  {
   "cell_type": "code",
   "execution_count": 50,
   "metadata": {},
   "outputs": [],
   "source": [
    "from surprise import SVDpp"
   ]
  },
  {
   "cell_type": "markdown",
   "metadata": {},
   "source": [
    "- __ Predicted Rating : __ \n",
    "    - $ \\large \\hat{r}_{ui} = \\mu + b_u + b_i + q_i^T\\left(p_u +\n",
    "    |I_u|^{-\\frac{1}{2}} \\sum_{j \\in I_u}y_j\\right) $ \n",
    " \n"
   ]
  },
  {
   "cell_type": "markdown",
   "metadata": {},
   "source": [
    " - $ \\pmb{I_u}$ --- the set of all items rated by user u\n",
    "\n",
    "- $\\pmb{y_j}$ --- Our new set of item factors that capture implicit ratings.  "
   ]
  },
  {
   "cell_type": "markdown",
   "metadata": {},
   "source": [
    " \n",
    " "
   ]
  },
  {
   "cell_type": "markdown",
   "metadata": {},
   "source": [
    "- __Optimization problem with user item interactions and regularization (to avoid overfitting)__ \n"
   ]
  },
  {
   "cell_type": "markdown",
   "metadata": {},
   "source": [
    "   \n",
    "- $ \\Large \\sum_{r_{ui} \\in R_{train}} \\left(r_{ui} - \\hat{r}_{ui} \\right)^2 +\n",
    "\\lambda\\left(b_i^2 + b_u^2 + ||q_i||^2 + ||p_u||^2 + y_j^2\\right) $ "
   ]
  },
  {
   "cell_type": "markdown",
   "metadata": {},
   "source": [
    " \n",
    " "
   ]
  },
  {
   "cell_type": "markdown",
   "metadata": {},
   "source": [
    " \n",
    " "
   ]
  },
  {
   "cell_type": "code",
   "execution_count": 51,
   "metadata": {},
   "outputs": [
    {
     "name": "stdout",
     "output_type": "stream",
     "text": [
      "Training the model...\n",
      "Done. time taken : 0:11:50.868536 \n",
      "\n",
      "Evaluating the model with train data..\n",
      "time taken : 0:00:45.240420\n",
      "---------------\n",
      "Train Data\n",
      "---------------\n",
      "RMSE : 0.7023028587204827\n",
      "\n",
      "MAPE : 20.77144065505823\n",
      "\n",
      "adding train results in the dictionary..\n",
      "\n",
      "Evaluating for test data...\n",
      "time taken : 0:00:04.280815\n",
      "---------------\n",
      "Test Data\n",
      "---------------\n",
      "RMSE : 1.218804938157417\n",
      "\n",
      "MAPE : 35.31675253673884\n",
      "\n",
      "storing the test results in test dictionary...\n",
      "\n",
      "---------------------------------------------\n",
      "Total time taken to run this algorithm : 0:12:40.390612\n"
     ]
    }
   ],
   "source": [
    "svdpp = SVDpp(n_factors=30, random_state=15)\n",
    "svdpp_train_results, svdpp_test_results = run_surprise(svdpp, trainset, testset)"
   ]
  },
  {
   "cell_type": "code",
   "execution_count": 52,
   "metadata": {},
   "outputs": [
    {
     "data": {
      "text/plain": [
       "{'mape': 35.31675253673884,\n",
       " 'predictions': array([3.91771285, 3.7912363 , 3.43484015, ..., 3.60432926, 3.51151561,\n",
       "        3.4300295 ]),\n",
       " 'rmse': 1.218804938157417}"
      ]
     },
     "execution_count": 52,
     "metadata": {},
     "output_type": "execute_result"
    }
   ],
   "source": [
    "models_evaluation_train['svdpp'] = svdpp_train_results\n",
    "models_evaluation_test['svdpp'] = svdpp_test_results\n",
    "\n",
    "models_evaluation_test['svdpp']"
   ]
  },
  {
   "cell_type": "markdown",
   "metadata": {},
   "source": [
    " \n",
    " "
   ]
  },
  {
   "cell_type": "markdown",
   "metadata": {},
   "source": [
    " \n",
    " "
   ]
  },
  {
   "cell_type": "markdown",
   "metadata": {},
   "source": [
    " \n",
    " "
   ]
  },
  {
   "cell_type": "code",
   "execution_count": 53,
   "metadata": {},
   "outputs": [
    {
     "data": {
      "text/html": [
       "<div>\n",
       "<style scoped>\n",
       "    .dataframe tbody tr th:only-of-type {\n",
       "        vertical-align: middle;\n",
       "    }\n",
       "\n",
       "    .dataframe tbody tr th {\n",
       "        vertical-align: top;\n",
       "    }\n",
       "\n",
       "    .dataframe thead th {\n",
       "        text-align: right;\n",
       "    }\n",
       "</style>\n",
       "<table border=\"1\" class=\"dataframe\">\n",
       "  <thead>\n",
       "    <tr style=\"text-align: right;\">\n",
       "      <th></th>\n",
       "      <th>bsl</th>\n",
       "      <th>first_xgb</th>\n",
       "      <th>knn_bsl_m</th>\n",
       "      <th>knn_bsl_u</th>\n",
       "      <th>svd</th>\n",
       "      <th>svdpp</th>\n",
       "    </tr>\n",
       "  </thead>\n",
       "  <tbody>\n",
       "    <tr>\n",
       "      <th>mape</th>\n",
       "      <td>34.6112</td>\n",
       "      <td>31.6169</td>\n",
       "      <td>36.7356</td>\n",
       "      <td>36.3129</td>\n",
       "      <td>35.2288</td>\n",
       "      <td>35.3168</td>\n",
       "    </tr>\n",
       "    <tr>\n",
       "      <th>predictions</th>\n",
       "      <td>[4.036206096101787, 3.6381296161606014, 3.5320...</td>\n",
       "      <td>[4.0232067, 3.7947516, 3.265981, 4.029171, 3.6...</td>\n",
       "      <td>[4.098730457611819, 5.0, 3.466606330245642, 4....</td>\n",
       "      <td>[4.460806391864557, 3.4690056553542377, 3.4666...</td>\n",
       "      <td>[3.9967601536801123, 3.919459614654939, 3.6248...</td>\n",
       "      <td>[3.9177128477107477, 3.7912363045212905, 3.434...</td>\n",
       "    </tr>\n",
       "    <tr>\n",
       "      <th>rmse</th>\n",
       "      <td>1.14461</td>\n",
       "      <td>1.06712</td>\n",
       "      <td>1.28263</td>\n",
       "      <td>1.2678</td>\n",
       "      <td>1.20032</td>\n",
       "      <td>1.2188</td>\n",
       "    </tr>\n",
       "  </tbody>\n",
       "</table>\n",
       "</div>"
      ],
      "text/plain": [
       "                                                           bsl  \\\n",
       "mape                                                   34.6112   \n",
       "predictions  [4.036206096101787, 3.6381296161606014, 3.5320...   \n",
       "rmse                                                   1.14461   \n",
       "\n",
       "                                                     first_xgb  \\\n",
       "mape                                                   31.6169   \n",
       "predictions  [4.0232067, 3.7947516, 3.265981, 4.029171, 3.6...   \n",
       "rmse                                                   1.06712   \n",
       "\n",
       "                                                     knn_bsl_m  \\\n",
       "mape                                                   36.7356   \n",
       "predictions  [4.098730457611819, 5.0, 3.466606330245642, 4....   \n",
       "rmse                                                   1.28263   \n",
       "\n",
       "                                                     knn_bsl_u  \\\n",
       "mape                                                   36.3129   \n",
       "predictions  [4.460806391864557, 3.4690056553542377, 3.4666...   \n",
       "rmse                                                    1.2678   \n",
       "\n",
       "                                                           svd  \\\n",
       "mape                                                   35.2288   \n",
       "predictions  [3.9967601536801123, 3.919459614654939, 3.6248...   \n",
       "rmse                                                   1.20032   \n",
       "\n",
       "                                                         svdpp  \n",
       "mape                                                   35.3168  \n",
       "predictions  [3.9177128477107477, 3.7912363045212905, 3.434...  \n",
       "rmse                                                    1.2188  "
      ]
     },
     "execution_count": 53,
     "metadata": {},
     "output_type": "execute_result"
    }
   ],
   "source": [
    "pd.DataFrame(models_evaluation_test)"
   ]
  },
  {
   "cell_type": "markdown",
   "metadata": {},
   "source": [
    " \n",
    " "
   ]
  },
  {
   "cell_type": "markdown",
   "metadata": {},
   "source": [
    "## Applying XgBoost with all the features including previous models predictions \n",
    " "
   ]
  },
  {
   "cell_type": "markdown",
   "metadata": {},
   "source": [
    "### Prepare train data"
   ]
  },
  {
   "cell_type": "code",
   "execution_count": 54,
   "metadata": {},
   "outputs": [
    {
     "data": {
      "text/html": [
       "<div>\n",
       "<style scoped>\n",
       "    .dataframe tbody tr th:only-of-type {\n",
       "        vertical-align: middle;\n",
       "    }\n",
       "\n",
       "    .dataframe tbody tr th {\n",
       "        vertical-align: top;\n",
       "    }\n",
       "\n",
       "    .dataframe thead th {\n",
       "        text-align: right;\n",
       "    }\n",
       "</style>\n",
       "<table border=\"1\" class=\"dataframe\">\n",
       "  <thead>\n",
       "    <tr style=\"text-align: right;\">\n",
       "      <th></th>\n",
       "      <th>GAvg</th>\n",
       "      <th>sur1</th>\n",
       "      <th>sur2</th>\n",
       "      <th>sur3</th>\n",
       "      <th>sur4</th>\n",
       "      <th>sur5</th>\n",
       "      <th>smr1</th>\n",
       "      <th>smr2</th>\n",
       "      <th>smr3</th>\n",
       "      <th>smr4</th>\n",
       "      <th>smr5</th>\n",
       "      <th>UAvg</th>\n",
       "      <th>MAvg</th>\n",
       "    </tr>\n",
       "  </thead>\n",
       "  <tbody>\n",
       "    <tr>\n",
       "      <th>0</th>\n",
       "      <td>3.568889</td>\n",
       "      <td>3.0</td>\n",
       "      <td>4.0</td>\n",
       "      <td>1.0</td>\n",
       "      <td>4.0</td>\n",
       "      <td>3.0</td>\n",
       "      <td>5.0</td>\n",
       "      <td>2.0</td>\n",
       "      <td>5.0</td>\n",
       "      <td>4.0</td>\n",
       "      <td>3.0</td>\n",
       "      <td>3.759690</td>\n",
       "      <td>3.0</td>\n",
       "    </tr>\n",
       "    <tr>\n",
       "      <th>1</th>\n",
       "      <td>3.568889</td>\n",
       "      <td>4.0</td>\n",
       "      <td>3.0</td>\n",
       "      <td>3.0</td>\n",
       "      <td>4.0</td>\n",
       "      <td>3.0</td>\n",
       "      <td>1.0</td>\n",
       "      <td>4.0</td>\n",
       "      <td>3.0</td>\n",
       "      <td>5.0</td>\n",
       "      <td>5.0</td>\n",
       "      <td>3.311377</td>\n",
       "      <td>3.0</td>\n",
       "    </tr>\n",
       "  </tbody>\n",
       "</table>\n",
       "</div>"
      ],
      "text/plain": [
       "       GAvg  sur1  sur2  sur3  sur4  sur5  smr1  smr2  smr3  smr4  smr5  \\\n",
       "0  3.568889   3.0   4.0   1.0   4.0   3.0   5.0   2.0   5.0   4.0   3.0   \n",
       "1  3.568889   4.0   3.0   3.0   4.0   3.0   1.0   4.0   3.0   5.0   5.0   \n",
       "\n",
       "       UAvg  MAvg  \n",
       "0  3.759690   3.0  \n",
       "1  3.311377   3.0  "
      ]
     },
     "execution_count": 54,
     "metadata": {},
     "output_type": "execute_result"
    }
   ],
   "source": [
    "x_train.head(2)"
   ]
  },
  {
   "cell_type": "code",
   "execution_count": 63,
   "metadata": {},
   "outputs": [
    {
     "data": {
      "text/html": [
       "<div>\n",
       "<style scoped>\n",
       "    .dataframe tbody tr th:only-of-type {\n",
       "        vertical-align: middle;\n",
       "    }\n",
       "\n",
       "    .dataframe tbody tr th {\n",
       "        vertical-align: top;\n",
       "    }\n",
       "\n",
       "    .dataframe thead th {\n",
       "        text-align: right;\n",
       "    }\n",
       "</style>\n",
       "<table border=\"1\" class=\"dataframe\">\n",
       "  <thead>\n",
       "    <tr style=\"text-align: right;\">\n",
       "      <th></th>\n",
       "      <th>GAvg</th>\n",
       "      <th>sur1</th>\n",
       "      <th>sur2</th>\n",
       "      <th>sur3</th>\n",
       "      <th>sur4</th>\n",
       "      <th>sur5</th>\n",
       "      <th>smr1</th>\n",
       "      <th>smr2</th>\n",
       "      <th>smr3</th>\n",
       "      <th>smr4</th>\n",
       "      <th>smr5</th>\n",
       "      <th>UAvg</th>\n",
       "      <th>MAvg</th>\n",
       "      <th>first_xgb</th>\n",
       "      <th>bsl</th>\n",
       "      <th>knn_bsl_u</th>\n",
       "      <th>knn_bsl_m</th>\n",
       "      <th>svd</th>\n",
       "      <th>svdpp</th>\n",
       "    </tr>\n",
       "  </thead>\n",
       "  <tbody>\n",
       "    <tr>\n",
       "      <th>0</th>\n",
       "      <td>3.568889</td>\n",
       "      <td>3.0</td>\n",
       "      <td>4.0</td>\n",
       "      <td>1.0</td>\n",
       "      <td>4.0</td>\n",
       "      <td>3.0</td>\n",
       "      <td>5.0</td>\n",
       "      <td>2.0</td>\n",
       "      <td>5.0</td>\n",
       "      <td>4.0</td>\n",
       "      <td>3.0</td>\n",
       "      <td>3.759690</td>\n",
       "      <td>3.0</td>\n",
       "      <td>3.248487</td>\n",
       "      <td>3.700158</td>\n",
       "      <td>3.075490</td>\n",
       "      <td>3.190400</td>\n",
       "      <td>3.548893</td>\n",
       "      <td>3.331747</td>\n",
       "    </tr>\n",
       "    <tr>\n",
       "      <th>1</th>\n",
       "      <td>3.568889</td>\n",
       "      <td>4.0</td>\n",
       "      <td>3.0</td>\n",
       "      <td>3.0</td>\n",
       "      <td>4.0</td>\n",
       "      <td>3.0</td>\n",
       "      <td>1.0</td>\n",
       "      <td>4.0</td>\n",
       "      <td>3.0</td>\n",
       "      <td>5.0</td>\n",
       "      <td>5.0</td>\n",
       "      <td>3.311377</td>\n",
       "      <td>3.0</td>\n",
       "      <td>2.727115</td>\n",
       "      <td>3.088687</td>\n",
       "      <td>3.864727</td>\n",
       "      <td>3.973345</td>\n",
       "      <td>3.977670</td>\n",
       "      <td>3.766997</td>\n",
       "    </tr>\n",
       "  </tbody>\n",
       "</table>\n",
       "</div>"
      ],
      "text/plain": [
       "       GAvg  sur1  sur2  sur3  sur4  sur5  smr1  smr2  smr3  smr4  smr5  \\\n",
       "0  3.568889   3.0   4.0   1.0   4.0   3.0   5.0   2.0   5.0   4.0   3.0   \n",
       "1  3.568889   4.0   3.0   3.0   4.0   3.0   1.0   4.0   3.0   5.0   5.0   \n",
       "\n",
       "       UAvg  MAvg  first_xgb       bsl  knn_bsl_u  knn_bsl_m       svd  \\\n",
       "0  3.759690   3.0   3.248487  3.700158   3.075490   3.190400  3.548893   \n",
       "1  3.311377   3.0   2.727115  3.088687   3.864727   3.973345  3.977670   \n",
       "\n",
       "      svdpp  \n",
       "0  3.331747  \n",
       "1  3.766997  "
      ]
     },
     "execution_count": 63,
     "metadata": {},
     "output_type": "execute_result"
    }
   ],
   "source": [
    "# add all the models predictions to this x_train \n",
    "for model in models_evaluation_train.keys():\n",
    "    x_train[model] = models_evaluation_train[model]['predictions']\n",
    "    \n",
    "\n",
    "x_train.head(2)"
   ]
  },
  {
   "cell_type": "markdown",
   "metadata": {},
   "source": [
    "### prepare Test data"
   ]
  },
  {
   "cell_type": "code",
   "execution_count": 67,
   "metadata": {},
   "outputs": [
    {
     "data": {
      "text/html": [
       "<div>\n",
       "<style scoped>\n",
       "    .dataframe tbody tr th:only-of-type {\n",
       "        vertical-align: middle;\n",
       "    }\n",
       "\n",
       "    .dataframe tbody tr th {\n",
       "        vertical-align: top;\n",
       "    }\n",
       "\n",
       "    .dataframe thead th {\n",
       "        text-align: right;\n",
       "    }\n",
       "</style>\n",
       "<table border=\"1\" class=\"dataframe\">\n",
       "  <thead>\n",
       "    <tr style=\"text-align: right;\">\n",
       "      <th></th>\n",
       "      <th>GAvg</th>\n",
       "      <th>sur1</th>\n",
       "      <th>sur2</th>\n",
       "      <th>sur3</th>\n",
       "      <th>sur4</th>\n",
       "      <th>sur5</th>\n",
       "      <th>smr1</th>\n",
       "      <th>smr2</th>\n",
       "      <th>smr3</th>\n",
       "      <th>smr4</th>\n",
       "      <th>smr5</th>\n",
       "      <th>UAvg</th>\n",
       "      <th>MAvg</th>\n",
       "      <th>first_xgb</th>\n",
       "      <th>bsl</th>\n",
       "      <th>knn_bsl_u</th>\n",
       "      <th>knn_bsl_m</th>\n",
       "      <th>svd</th>\n",
       "      <th>svdpp</th>\n",
       "    </tr>\n",
       "  </thead>\n",
       "  <tbody>\n",
       "    <tr>\n",
       "      <th>0</th>\n",
       "      <td>3.568889</td>\n",
       "      <td>4.0</td>\n",
       "      <td>3.0</td>\n",
       "      <td>3.0</td>\n",
       "      <td>5.0</td>\n",
       "      <td>5.0</td>\n",
       "      <td>5.0</td>\n",
       "      <td>4.0</td>\n",
       "      <td>5.0</td>\n",
       "      <td>5.0</td>\n",
       "      <td>5.0</td>\n",
       "      <td>4.154472</td>\n",
       "      <td>3.0</td>\n",
       "      <td>4.023207</td>\n",
       "      <td>4.036206</td>\n",
       "      <td>4.460806</td>\n",
       "      <td>4.09873</td>\n",
       "      <td>3.99676</td>\n",
       "      <td>3.917713</td>\n",
       "    </tr>\n",
       "    <tr>\n",
       "      <th>1</th>\n",
       "      <td>3.568889</td>\n",
       "      <td>4.0</td>\n",
       "      <td>3.0</td>\n",
       "      <td>4.0</td>\n",
       "      <td>3.0</td>\n",
       "      <td>4.0</td>\n",
       "      <td>4.0</td>\n",
       "      <td>2.0</td>\n",
       "      <td>5.0</td>\n",
       "      <td>5.0</td>\n",
       "      <td>1.0</td>\n",
       "      <td>4.285714</td>\n",
       "      <td>3.0</td>\n",
       "      <td>3.794752</td>\n",
       "      <td>3.638130</td>\n",
       "      <td>3.469006</td>\n",
       "      <td>5.00000</td>\n",
       "      <td>3.91946</td>\n",
       "      <td>3.791236</td>\n",
       "    </tr>\n",
       "  </tbody>\n",
       "</table>\n",
       "</div>"
      ],
      "text/plain": [
       "       GAvg  sur1  sur2  sur3  sur4  sur5  smr1  smr2  smr3  smr4  smr5  \\\n",
       "0  3.568889   4.0   3.0   3.0   5.0   5.0   5.0   4.0   5.0   5.0   5.0   \n",
       "1  3.568889   4.0   3.0   4.0   3.0   4.0   4.0   2.0   5.0   5.0   1.0   \n",
       "\n",
       "       UAvg  MAvg  first_xgb       bsl  knn_bsl_u  knn_bsl_m      svd  \\\n",
       "0  4.154472   3.0   4.023207  4.036206   4.460806    4.09873  3.99676   \n",
       "1  4.285714   3.0   3.794752  3.638130   3.469006    5.00000  3.91946   \n",
       "\n",
       "      svdpp  \n",
       "0  3.917713  \n",
       "1  3.791236  "
      ]
     },
     "execution_count": 67,
     "metadata": {},
     "output_type": "execute_result"
    }
   ],
   "source": [
    "x_test.head(2)"
   ]
  },
  {
   "cell_type": "code",
   "execution_count": 66,
   "metadata": {},
   "outputs": [
    {
     "data": {
      "text/html": [
       "<div>\n",
       "<style scoped>\n",
       "    .dataframe tbody tr th:only-of-type {\n",
       "        vertical-align: middle;\n",
       "    }\n",
       "\n",
       "    .dataframe tbody tr th {\n",
       "        vertical-align: top;\n",
       "    }\n",
       "\n",
       "    .dataframe thead th {\n",
       "        text-align: right;\n",
       "    }\n",
       "</style>\n",
       "<table border=\"1\" class=\"dataframe\">\n",
       "  <thead>\n",
       "    <tr style=\"text-align: right;\">\n",
       "      <th></th>\n",
       "      <th>GAvg</th>\n",
       "      <th>sur1</th>\n",
       "      <th>sur2</th>\n",
       "      <th>sur3</th>\n",
       "      <th>sur4</th>\n",
       "      <th>sur5</th>\n",
       "      <th>smr1</th>\n",
       "      <th>smr2</th>\n",
       "      <th>smr3</th>\n",
       "      <th>smr4</th>\n",
       "      <th>smr5</th>\n",
       "      <th>UAvg</th>\n",
       "      <th>MAvg</th>\n",
       "      <th>first_xgb</th>\n",
       "      <th>bsl</th>\n",
       "      <th>knn_bsl_u</th>\n",
       "      <th>knn_bsl_m</th>\n",
       "      <th>svd</th>\n",
       "      <th>svdpp</th>\n",
       "    </tr>\n",
       "  </thead>\n",
       "  <tbody>\n",
       "    <tr>\n",
       "      <th>0</th>\n",
       "      <td>3.568889</td>\n",
       "      <td>4.0</td>\n",
       "      <td>3.0</td>\n",
       "      <td>3.0</td>\n",
       "      <td>5.0</td>\n",
       "      <td>5.0</td>\n",
       "      <td>5.0</td>\n",
       "      <td>4.0</td>\n",
       "      <td>5.0</td>\n",
       "      <td>5.0</td>\n",
       "      <td>5.0</td>\n",
       "      <td>4.154472</td>\n",
       "      <td>3.0</td>\n",
       "      <td>4.023207</td>\n",
       "      <td>4.036206</td>\n",
       "      <td>4.460806</td>\n",
       "      <td>4.09873</td>\n",
       "      <td>3.99676</td>\n",
       "      <td>3.917713</td>\n",
       "    </tr>\n",
       "    <tr>\n",
       "      <th>1</th>\n",
       "      <td>3.568889</td>\n",
       "      <td>4.0</td>\n",
       "      <td>3.0</td>\n",
       "      <td>4.0</td>\n",
       "      <td>3.0</td>\n",
       "      <td>4.0</td>\n",
       "      <td>4.0</td>\n",
       "      <td>2.0</td>\n",
       "      <td>5.0</td>\n",
       "      <td>5.0</td>\n",
       "      <td>1.0</td>\n",
       "      <td>4.285714</td>\n",
       "      <td>3.0</td>\n",
       "      <td>3.794752</td>\n",
       "      <td>3.638130</td>\n",
       "      <td>3.469006</td>\n",
       "      <td>5.00000</td>\n",
       "      <td>3.91946</td>\n",
       "      <td>3.791236</td>\n",
       "    </tr>\n",
       "  </tbody>\n",
       "</table>\n",
       "</div>"
      ],
      "text/plain": [
       "       GAvg  sur1  sur2  sur3  sur4  sur5  smr1  smr2  smr3  smr4  smr5  \\\n",
       "0  3.568889   4.0   3.0   3.0   5.0   5.0   5.0   4.0   5.0   5.0   5.0   \n",
       "1  3.568889   4.0   3.0   4.0   3.0   4.0   4.0   2.0   5.0   5.0   1.0   \n",
       "\n",
       "       UAvg  MAvg  first_xgb       bsl  knn_bsl_u  knn_bsl_m      svd  \\\n",
       "0  4.154472   3.0   4.023207  4.036206   4.460806    4.09873  3.99676   \n",
       "1  4.285714   3.0   3.794752  3.638130   3.469006    5.00000  3.91946   \n",
       "\n",
       "      svdpp  \n",
       "0  3.917713  \n",
       "1  3.791236  "
      ]
     },
     "execution_count": 66,
     "metadata": {},
     "output_type": "execute_result"
    }
   ],
   "source": [
    "# add all the models predictions to this x_train \n",
    "for model in models_evaluation_test.keys():\n",
    "    x_test[model] = models_evaluation_test[model]['predictions']\n",
    "    \n",
    "\n",
    "x_test.head(2)"
   ]
  },
  {
   "cell_type": "markdown",
   "metadata": {},
   "source": [
    "## train the model with this data"
   ]
  },
  {
   "cell_type": "code",
   "execution_count": 68,
   "metadata": {},
   "outputs": [
    {
     "name": "stdout",
     "output_type": "stream",
     "text": [
      "Time taken to train the model : 0:00:15.232532\n",
      "\n"
     ]
    }
   ],
   "source": [
    "xgb_all = xgb.XGBRegressor(silent=False, n_jobs=10, random_state=15)\n",
    "\n",
    "start = datetime.now()\n",
    "xgb_all.fit(x_train, y_train, eval_metric = 'rmse')\n",
    "print('Time taken to train the model : {}\\n'.format(datetime.now() - start))\n",
    "\n",
    "\n",
    "\n",
    "\n",
    "# storing in models_evaluations dict\n",
    "#################################################################\n",
    "models_evaluation_train['xgb_all'] = {'rmse': None,\n",
    "                                        'mape': None,\n",
    "                                        'predictions': None}\n",
    "\n"
   ]
  },
  {
   "cell_type": "code",
   "execution_count": 70,
   "metadata": {
    "scrolled": false
   },
   "outputs": [
    {
     "data": {
      "application/javascript": [
       "/* Put everything inside the global mpl namespace */\n",
       "window.mpl = {};\n",
       "\n",
       "\n",
       "mpl.get_websocket_type = function() {\n",
       "    if (typeof(WebSocket) !== 'undefined') {\n",
       "        return WebSocket;\n",
       "    } else if (typeof(MozWebSocket) !== 'undefined') {\n",
       "        return MozWebSocket;\n",
       "    } else {\n",
       "        alert('Your browser does not have WebSocket support.' +\n",
       "              'Please try Chrome, Safari or Firefox ≥ 6. ' +\n",
       "              'Firefox 4 and 5 are also supported but you ' +\n",
       "              'have to enable WebSockets in about:config.');\n",
       "    };\n",
       "}\n",
       "\n",
       "mpl.figure = function(figure_id, websocket, ondownload, parent_element) {\n",
       "    this.id = figure_id;\n",
       "\n",
       "    this.ws = websocket;\n",
       "\n",
       "    this.supports_binary = (this.ws.binaryType != undefined);\n",
       "\n",
       "    if (!this.supports_binary) {\n",
       "        var warnings = document.getElementById(\"mpl-warnings\");\n",
       "        if (warnings) {\n",
       "            warnings.style.display = 'block';\n",
       "            warnings.textContent = (\n",
       "                \"This browser does not support binary websocket messages. \" +\n",
       "                    \"Performance may be slow.\");\n",
       "        }\n",
       "    }\n",
       "\n",
       "    this.imageObj = new Image();\n",
       "\n",
       "    this.context = undefined;\n",
       "    this.message = undefined;\n",
       "    this.canvas = undefined;\n",
       "    this.rubberband_canvas = undefined;\n",
       "    this.rubberband_context = undefined;\n",
       "    this.format_dropdown = undefined;\n",
       "\n",
       "    this.image_mode = 'full';\n",
       "\n",
       "    this.root = $('<div/>');\n",
       "    this._root_extra_style(this.root)\n",
       "    this.root.attr('style', 'display: inline-block');\n",
       "\n",
       "    $(parent_element).append(this.root);\n",
       "\n",
       "    this._init_header(this);\n",
       "    this._init_canvas(this);\n",
       "    this._init_toolbar(this);\n",
       "\n",
       "    var fig = this;\n",
       "\n",
       "    this.waiting = false;\n",
       "\n",
       "    this.ws.onopen =  function () {\n",
       "            fig.send_message(\"supports_binary\", {value: fig.supports_binary});\n",
       "            fig.send_message(\"send_image_mode\", {});\n",
       "            if (mpl.ratio != 1) {\n",
       "                fig.send_message(\"set_dpi_ratio\", {'dpi_ratio': mpl.ratio});\n",
       "            }\n",
       "            fig.send_message(\"refresh\", {});\n",
       "        }\n",
       "\n",
       "    this.imageObj.onload = function() {\n",
       "            if (fig.image_mode == 'full') {\n",
       "                // Full images could contain transparency (where diff images\n",
       "                // almost always do), so we need to clear the canvas so that\n",
       "                // there is no ghosting.\n",
       "                fig.context.clearRect(0, 0, fig.canvas.width, fig.canvas.height);\n",
       "            }\n",
       "            fig.context.drawImage(fig.imageObj, 0, 0);\n",
       "        };\n",
       "\n",
       "    this.imageObj.onunload = function() {\n",
       "        fig.ws.close();\n",
       "    }\n",
       "\n",
       "    this.ws.onmessage = this._make_on_message_function(this);\n",
       "\n",
       "    this.ondownload = ondownload;\n",
       "}\n",
       "\n",
       "mpl.figure.prototype._init_header = function() {\n",
       "    var titlebar = $(\n",
       "        '<div class=\"ui-dialog-titlebar ui-widget-header ui-corner-all ' +\n",
       "        'ui-helper-clearfix\"/>');\n",
       "    var titletext = $(\n",
       "        '<div class=\"ui-dialog-title\" style=\"width: 100%; ' +\n",
       "        'text-align: center; padding: 3px;\"/>');\n",
       "    titlebar.append(titletext)\n",
       "    this.root.append(titlebar);\n",
       "    this.header = titletext[0];\n",
       "}\n",
       "\n",
       "\n",
       "\n",
       "mpl.figure.prototype._canvas_extra_style = function(canvas_div) {\n",
       "\n",
       "}\n",
       "\n",
       "\n",
       "mpl.figure.prototype._root_extra_style = function(canvas_div) {\n",
       "\n",
       "}\n",
       "\n",
       "mpl.figure.prototype._init_canvas = function() {\n",
       "    var fig = this;\n",
       "\n",
       "    var canvas_div = $('<div/>');\n",
       "\n",
       "    canvas_div.attr('style', 'position: relative; clear: both; outline: 0');\n",
       "\n",
       "    function canvas_keyboard_event(event) {\n",
       "        return fig.key_event(event, event['data']);\n",
       "    }\n",
       "\n",
       "    canvas_div.keydown('key_press', canvas_keyboard_event);\n",
       "    canvas_div.keyup('key_release', canvas_keyboard_event);\n",
       "    this.canvas_div = canvas_div\n",
       "    this._canvas_extra_style(canvas_div)\n",
       "    this.root.append(canvas_div);\n",
       "\n",
       "    var canvas = $('<canvas/>');\n",
       "    canvas.addClass('mpl-canvas');\n",
       "    canvas.attr('style', \"left: 0; top: 0; z-index: 0; outline: 0\")\n",
       "\n",
       "    this.canvas = canvas[0];\n",
       "    this.context = canvas[0].getContext(\"2d\");\n",
       "\n",
       "    var backingStore = this.context.backingStorePixelRatio ||\n",
       "\tthis.context.webkitBackingStorePixelRatio ||\n",
       "\tthis.context.mozBackingStorePixelRatio ||\n",
       "\tthis.context.msBackingStorePixelRatio ||\n",
       "\tthis.context.oBackingStorePixelRatio ||\n",
       "\tthis.context.backingStorePixelRatio || 1;\n",
       "\n",
       "    mpl.ratio = (window.devicePixelRatio || 1) / backingStore;\n",
       "\n",
       "    var rubberband = $('<canvas/>');\n",
       "    rubberband.attr('style', \"position: absolute; left: 0; top: 0; z-index: 1;\")\n",
       "\n",
       "    var pass_mouse_events = true;\n",
       "\n",
       "    canvas_div.resizable({\n",
       "        start: function(event, ui) {\n",
       "            pass_mouse_events = false;\n",
       "        },\n",
       "        resize: function(event, ui) {\n",
       "            fig.request_resize(ui.size.width, ui.size.height);\n",
       "        },\n",
       "        stop: function(event, ui) {\n",
       "            pass_mouse_events = true;\n",
       "            fig.request_resize(ui.size.width, ui.size.height);\n",
       "        },\n",
       "    });\n",
       "\n",
       "    function mouse_event_fn(event) {\n",
       "        if (pass_mouse_events)\n",
       "            return fig.mouse_event(event, event['data']);\n",
       "    }\n",
       "\n",
       "    rubberband.mousedown('button_press', mouse_event_fn);\n",
       "    rubberband.mouseup('button_release', mouse_event_fn);\n",
       "    // Throttle sequential mouse events to 1 every 20ms.\n",
       "    rubberband.mousemove('motion_notify', mouse_event_fn);\n",
       "\n",
       "    rubberband.mouseenter('figure_enter', mouse_event_fn);\n",
       "    rubberband.mouseleave('figure_leave', mouse_event_fn);\n",
       "\n",
       "    canvas_div.on(\"wheel\", function (event) {\n",
       "        event = event.originalEvent;\n",
       "        event['data'] = 'scroll'\n",
       "        if (event.deltaY < 0) {\n",
       "            event.step = 1;\n",
       "        } else {\n",
       "            event.step = -1;\n",
       "        }\n",
       "        mouse_event_fn(event);\n",
       "    });\n",
       "\n",
       "    canvas_div.append(canvas);\n",
       "    canvas_div.append(rubberband);\n",
       "\n",
       "    this.rubberband = rubberband;\n",
       "    this.rubberband_canvas = rubberband[0];\n",
       "    this.rubberband_context = rubberband[0].getContext(\"2d\");\n",
       "    this.rubberband_context.strokeStyle = \"#000000\";\n",
       "\n",
       "    this._resize_canvas = function(width, height) {\n",
       "        // Keep the size of the canvas, canvas container, and rubber band\n",
       "        // canvas in synch.\n",
       "        canvas_div.css('width', width)\n",
       "        canvas_div.css('height', height)\n",
       "\n",
       "        canvas.attr('width', width * mpl.ratio);\n",
       "        canvas.attr('height', height * mpl.ratio);\n",
       "        canvas.attr('style', 'width: ' + width + 'px; height: ' + height + 'px;');\n",
       "\n",
       "        rubberband.attr('width', width);\n",
       "        rubberband.attr('height', height);\n",
       "    }\n",
       "\n",
       "    // Set the figure to an initial 600x600px, this will subsequently be updated\n",
       "    // upon first draw.\n",
       "    this._resize_canvas(600, 600);\n",
       "\n",
       "    // Disable right mouse context menu.\n",
       "    $(this.rubberband_canvas).bind(\"contextmenu\",function(e){\n",
       "        return false;\n",
       "    });\n",
       "\n",
       "    function set_focus () {\n",
       "        canvas.focus();\n",
       "        canvas_div.focus();\n",
       "    }\n",
       "\n",
       "    window.setTimeout(set_focus, 100);\n",
       "}\n",
       "\n",
       "mpl.figure.prototype._init_toolbar = function() {\n",
       "    var fig = this;\n",
       "\n",
       "    var nav_element = $('<div/>')\n",
       "    nav_element.attr('style', 'width: 100%');\n",
       "    this.root.append(nav_element);\n",
       "\n",
       "    // Define a callback function for later on.\n",
       "    function toolbar_event(event) {\n",
       "        return fig.toolbar_button_onclick(event['data']);\n",
       "    }\n",
       "    function toolbar_mouse_event(event) {\n",
       "        return fig.toolbar_button_onmouseover(event['data']);\n",
       "    }\n",
       "\n",
       "    for(var toolbar_ind in mpl.toolbar_items) {\n",
       "        var name = mpl.toolbar_items[toolbar_ind][0];\n",
       "        var tooltip = mpl.toolbar_items[toolbar_ind][1];\n",
       "        var image = mpl.toolbar_items[toolbar_ind][2];\n",
       "        var method_name = mpl.toolbar_items[toolbar_ind][3];\n",
       "\n",
       "        if (!name) {\n",
       "            // put a spacer in here.\n",
       "            continue;\n",
       "        }\n",
       "        var button = $('<button/>');\n",
       "        button.addClass('ui-button ui-widget ui-state-default ui-corner-all ' +\n",
       "                        'ui-button-icon-only');\n",
       "        button.attr('role', 'button');\n",
       "        button.attr('aria-disabled', 'false');\n",
       "        button.click(method_name, toolbar_event);\n",
       "        button.mouseover(tooltip, toolbar_mouse_event);\n",
       "\n",
       "        var icon_img = $('<span/>');\n",
       "        icon_img.addClass('ui-button-icon-primary ui-icon');\n",
       "        icon_img.addClass(image);\n",
       "        icon_img.addClass('ui-corner-all');\n",
       "\n",
       "        var tooltip_span = $('<span/>');\n",
       "        tooltip_span.addClass('ui-button-text');\n",
       "        tooltip_span.html(tooltip);\n",
       "\n",
       "        button.append(icon_img);\n",
       "        button.append(tooltip_span);\n",
       "\n",
       "        nav_element.append(button);\n",
       "    }\n",
       "\n",
       "    var fmt_picker_span = $('<span/>');\n",
       "\n",
       "    var fmt_picker = $('<select/>');\n",
       "    fmt_picker.addClass('mpl-toolbar-option ui-widget ui-widget-content');\n",
       "    fmt_picker_span.append(fmt_picker);\n",
       "    nav_element.append(fmt_picker_span);\n",
       "    this.format_dropdown = fmt_picker[0];\n",
       "\n",
       "    for (var ind in mpl.extensions) {\n",
       "        var fmt = mpl.extensions[ind];\n",
       "        var option = $(\n",
       "            '<option/>', {selected: fmt === mpl.default_extension}).html(fmt);\n",
       "        fmt_picker.append(option)\n",
       "    }\n",
       "\n",
       "    // Add hover states to the ui-buttons\n",
       "    $( \".ui-button\" ).hover(\n",
       "        function() { $(this).addClass(\"ui-state-hover\");},\n",
       "        function() { $(this).removeClass(\"ui-state-hover\");}\n",
       "    );\n",
       "\n",
       "    var status_bar = $('<span class=\"mpl-message\"/>');\n",
       "    nav_element.append(status_bar);\n",
       "    this.message = status_bar[0];\n",
       "}\n",
       "\n",
       "mpl.figure.prototype.request_resize = function(x_pixels, y_pixels) {\n",
       "    // Request matplotlib to resize the figure. Matplotlib will then trigger a resize in the client,\n",
       "    // which will in turn request a refresh of the image.\n",
       "    this.send_message('resize', {'width': x_pixels, 'height': y_pixels});\n",
       "}\n",
       "\n",
       "mpl.figure.prototype.send_message = function(type, properties) {\n",
       "    properties['type'] = type;\n",
       "    properties['figure_id'] = this.id;\n",
       "    this.ws.send(JSON.stringify(properties));\n",
       "}\n",
       "\n",
       "mpl.figure.prototype.send_draw_message = function() {\n",
       "    if (!this.waiting) {\n",
       "        this.waiting = true;\n",
       "        this.ws.send(JSON.stringify({type: \"draw\", figure_id: this.id}));\n",
       "    }\n",
       "}\n",
       "\n",
       "\n",
       "mpl.figure.prototype.handle_save = function(fig, msg) {\n",
       "    var format_dropdown = fig.format_dropdown;\n",
       "    var format = format_dropdown.options[format_dropdown.selectedIndex].value;\n",
       "    fig.ondownload(fig, format);\n",
       "}\n",
       "\n",
       "\n",
       "mpl.figure.prototype.handle_resize = function(fig, msg) {\n",
       "    var size = msg['size'];\n",
       "    if (size[0] != fig.canvas.width || size[1] != fig.canvas.height) {\n",
       "        fig._resize_canvas(size[0], size[1]);\n",
       "        fig.send_message(\"refresh\", {});\n",
       "    };\n",
       "}\n",
       "\n",
       "mpl.figure.prototype.handle_rubberband = function(fig, msg) {\n",
       "    var x0 = msg['x0'] / mpl.ratio;\n",
       "    var y0 = (fig.canvas.height - msg['y0']) / mpl.ratio;\n",
       "    var x1 = msg['x1'] / mpl.ratio;\n",
       "    var y1 = (fig.canvas.height - msg['y1']) / mpl.ratio;\n",
       "    x0 = Math.floor(x0) + 0.5;\n",
       "    y0 = Math.floor(y0) + 0.5;\n",
       "    x1 = Math.floor(x1) + 0.5;\n",
       "    y1 = Math.floor(y1) + 0.5;\n",
       "    var min_x = Math.min(x0, x1);\n",
       "    var min_y = Math.min(y0, y1);\n",
       "    var width = Math.abs(x1 - x0);\n",
       "    var height = Math.abs(y1 - y0);\n",
       "\n",
       "    fig.rubberband_context.clearRect(\n",
       "        0, 0, fig.canvas.width, fig.canvas.height);\n",
       "\n",
       "    fig.rubberband_context.strokeRect(min_x, min_y, width, height);\n",
       "}\n",
       "\n",
       "mpl.figure.prototype.handle_figure_label = function(fig, msg) {\n",
       "    // Updates the figure title.\n",
       "    fig.header.textContent = msg['label'];\n",
       "}\n",
       "\n",
       "mpl.figure.prototype.handle_cursor = function(fig, msg) {\n",
       "    var cursor = msg['cursor'];\n",
       "    switch(cursor)\n",
       "    {\n",
       "    case 0:\n",
       "        cursor = 'pointer';\n",
       "        break;\n",
       "    case 1:\n",
       "        cursor = 'default';\n",
       "        break;\n",
       "    case 2:\n",
       "        cursor = 'crosshair';\n",
       "        break;\n",
       "    case 3:\n",
       "        cursor = 'move';\n",
       "        break;\n",
       "    }\n",
       "    fig.rubberband_canvas.style.cursor = cursor;\n",
       "}\n",
       "\n",
       "mpl.figure.prototype.handle_message = function(fig, msg) {\n",
       "    fig.message.textContent = msg['message'];\n",
       "}\n",
       "\n",
       "mpl.figure.prototype.handle_draw = function(fig, msg) {\n",
       "    // Request the server to send over a new figure.\n",
       "    fig.send_draw_message();\n",
       "}\n",
       "\n",
       "mpl.figure.prototype.handle_image_mode = function(fig, msg) {\n",
       "    fig.image_mode = msg['mode'];\n",
       "}\n",
       "\n",
       "mpl.figure.prototype.updated_canvas_event = function() {\n",
       "    // Called whenever the canvas gets updated.\n",
       "    this.send_message(\"ack\", {});\n",
       "}\n",
       "\n",
       "// A function to construct a web socket function for onmessage handling.\n",
       "// Called in the figure constructor.\n",
       "mpl.figure.prototype._make_on_message_function = function(fig) {\n",
       "    return function socket_on_message(evt) {\n",
       "        if (evt.data instanceof Blob) {\n",
       "            /* FIXME: We get \"Resource interpreted as Image but\n",
       "             * transferred with MIME type text/plain:\" errors on\n",
       "             * Chrome.  But how to set the MIME type?  It doesn't seem\n",
       "             * to be part of the websocket stream */\n",
       "            evt.data.type = \"image/png\";\n",
       "\n",
       "            /* Free the memory for the previous frames */\n",
       "            if (fig.imageObj.src) {\n",
       "                (window.URL || window.webkitURL).revokeObjectURL(\n",
       "                    fig.imageObj.src);\n",
       "            }\n",
       "\n",
       "            fig.imageObj.src = (window.URL || window.webkitURL).createObjectURL(\n",
       "                evt.data);\n",
       "            fig.updated_canvas_event();\n",
       "            fig.waiting = false;\n",
       "            return;\n",
       "        }\n",
       "        else if (typeof evt.data === 'string' && evt.data.slice(0, 21) == \"data:image/png;base64\") {\n",
       "            fig.imageObj.src = evt.data;\n",
       "            fig.updated_canvas_event();\n",
       "            fig.waiting = false;\n",
       "            return;\n",
       "        }\n",
       "\n",
       "        var msg = JSON.parse(evt.data);\n",
       "        var msg_type = msg['type'];\n",
       "\n",
       "        // Call the  \"handle_{type}\" callback, which takes\n",
       "        // the figure and JSON message as its only arguments.\n",
       "        try {\n",
       "            var callback = fig[\"handle_\" + msg_type];\n",
       "        } catch (e) {\n",
       "            console.log(\"No handler for the '\" + msg_type + \"' message type: \", msg);\n",
       "            return;\n",
       "        }\n",
       "\n",
       "        if (callback) {\n",
       "            try {\n",
       "                // console.log(\"Handling '\" + msg_type + \"' message: \", msg);\n",
       "                callback(fig, msg);\n",
       "            } catch (e) {\n",
       "                console.log(\"Exception inside the 'handler_\" + msg_type + \"' callback:\", e, e.stack, msg);\n",
       "            }\n",
       "        }\n",
       "    };\n",
       "}\n",
       "\n",
       "// from http://stackoverflow.com/questions/1114465/getting-mouse-location-in-canvas\n",
       "mpl.findpos = function(e) {\n",
       "    //this section is from http://www.quirksmode.org/js/events_properties.html\n",
       "    var targ;\n",
       "    if (!e)\n",
       "        e = window.event;\n",
       "    if (e.target)\n",
       "        targ = e.target;\n",
       "    else if (e.srcElement)\n",
       "        targ = e.srcElement;\n",
       "    if (targ.nodeType == 3) // defeat Safari bug\n",
       "        targ = targ.parentNode;\n",
       "\n",
       "    // jQuery normalizes the pageX and pageY\n",
       "    // pageX,Y are the mouse positions relative to the document\n",
       "    // offset() returns the position of the element relative to the document\n",
       "    var x = e.pageX - $(targ).offset().left;\n",
       "    var y = e.pageY - $(targ).offset().top;\n",
       "\n",
       "    return {\"x\": x, \"y\": y};\n",
       "};\n",
       "\n",
       "/*\n",
       " * return a copy of an object with only non-object keys\n",
       " * we need this to avoid circular references\n",
       " * http://stackoverflow.com/a/24161582/3208463\n",
       " */\n",
       "function simpleKeys (original) {\n",
       "  return Object.keys(original).reduce(function (obj, key) {\n",
       "    if (typeof original[key] !== 'object')\n",
       "        obj[key] = original[key]\n",
       "    return obj;\n",
       "  }, {});\n",
       "}\n",
       "\n",
       "mpl.figure.prototype.mouse_event = function(event, name) {\n",
       "    var canvas_pos = mpl.findpos(event)\n",
       "\n",
       "    if (name === 'button_press')\n",
       "    {\n",
       "        this.canvas.focus();\n",
       "        this.canvas_div.focus();\n",
       "    }\n",
       "\n",
       "    var x = canvas_pos.x * mpl.ratio;\n",
       "    var y = canvas_pos.y * mpl.ratio;\n",
       "\n",
       "    this.send_message(name, {x: x, y: y, button: event.button,\n",
       "                             step: event.step,\n",
       "                             guiEvent: simpleKeys(event)});\n",
       "\n",
       "    /* This prevents the web browser from automatically changing to\n",
       "     * the text insertion cursor when the button is pressed.  We want\n",
       "     * to control all of the cursor setting manually through the\n",
       "     * 'cursor' event from matplotlib */\n",
       "    event.preventDefault();\n",
       "    return false;\n",
       "}\n",
       "\n",
       "mpl.figure.prototype._key_event_extra = function(event, name) {\n",
       "    // Handle any extra behaviour associated with a key event\n",
       "}\n",
       "\n",
       "mpl.figure.prototype.key_event = function(event, name) {\n",
       "\n",
       "    // Prevent repeat events\n",
       "    if (name == 'key_press')\n",
       "    {\n",
       "        if (event.which === this._key)\n",
       "            return;\n",
       "        else\n",
       "            this._key = event.which;\n",
       "    }\n",
       "    if (name == 'key_release')\n",
       "        this._key = null;\n",
       "\n",
       "    var value = '';\n",
       "    if (event.ctrlKey && event.which != 17)\n",
       "        value += \"ctrl+\";\n",
       "    if (event.altKey && event.which != 18)\n",
       "        value += \"alt+\";\n",
       "    if (event.shiftKey && event.which != 16)\n",
       "        value += \"shift+\";\n",
       "\n",
       "    value += 'k';\n",
       "    value += event.which.toString();\n",
       "\n",
       "    this._key_event_extra(event, name);\n",
       "\n",
       "    this.send_message(name, {key: value,\n",
       "                             guiEvent: simpleKeys(event)});\n",
       "    return false;\n",
       "}\n",
       "\n",
       "mpl.figure.prototype.toolbar_button_onclick = function(name) {\n",
       "    if (name == 'download') {\n",
       "        this.handle_save(this, null);\n",
       "    } else {\n",
       "        this.send_message(\"toolbar_button\", {name: name});\n",
       "    }\n",
       "};\n",
       "\n",
       "mpl.figure.prototype.toolbar_button_onmouseover = function(tooltip) {\n",
       "    this.message.textContent = tooltip;\n",
       "};\n",
       "mpl.toolbar_items = [[\"Home\", \"Reset original view\", \"fa fa-home icon-home\", \"home\"], [\"Back\", \"Back to  previous view\", \"fa fa-arrow-left icon-arrow-left\", \"back\"], [\"Forward\", \"Forward to next view\", \"fa fa-arrow-right icon-arrow-right\", \"forward\"], [\"\", \"\", \"\", \"\"], [\"Pan\", \"Pan axes with left mouse, zoom with right\", \"fa fa-arrows icon-move\", \"pan\"], [\"Zoom\", \"Zoom to rectangle\", \"fa fa-square-o icon-check-empty\", \"zoom\"], [\"\", \"\", \"\", \"\"], [\"Download\", \"Download plot\", \"fa fa-floppy-o icon-save\", \"download\"]];\n",
       "\n",
       "mpl.extensions = [\"eps\", \"jpeg\", \"pdf\", \"png\", \"ps\", \"raw\", \"svg\", \"tif\"];\n",
       "\n",
       "mpl.default_extension = \"png\";var comm_websocket_adapter = function(comm) {\n",
       "    // Create a \"websocket\"-like object which calls the given IPython comm\n",
       "    // object with the appropriate methods. Currently this is a non binary\n",
       "    // socket, so there is still some room for performance tuning.\n",
       "    var ws = {};\n",
       "\n",
       "    ws.close = function() {\n",
       "        comm.close()\n",
       "    };\n",
       "    ws.send = function(m) {\n",
       "        //console.log('sending', m);\n",
       "        comm.send(m);\n",
       "    };\n",
       "    // Register the callback with on_msg.\n",
       "    comm.on_msg(function(msg) {\n",
       "        //console.log('receiving', msg['content']['data'], msg);\n",
       "        // Pass the mpl event to the overriden (by mpl) onmessage function.\n",
       "        ws.onmessage(msg['content']['data'])\n",
       "    });\n",
       "    return ws;\n",
       "}\n",
       "\n",
       "mpl.mpl_figure_comm = function(comm, msg) {\n",
       "    // This is the function which gets called when the mpl process\n",
       "    // starts-up an IPython Comm through the \"matplotlib\" channel.\n",
       "\n",
       "    var id = msg.content.data.id;\n",
       "    // Get hold of the div created by the display call when the Comm\n",
       "    // socket was opened in Python.\n",
       "    var element = $(\"#\" + id);\n",
       "    var ws_proxy = comm_websocket_adapter(comm)\n",
       "\n",
       "    function ondownload(figure, format) {\n",
       "        window.open(figure.imageObj.src);\n",
       "    }\n",
       "\n",
       "    var fig = new mpl.figure(id, ws_proxy,\n",
       "                           ondownload,\n",
       "                           element.get(0));\n",
       "\n",
       "    // Call onopen now - mpl needs it, as it is assuming we've passed it a real\n",
       "    // web socket which is closed, not our websocket->open comm proxy.\n",
       "    ws_proxy.onopen();\n",
       "\n",
       "    fig.parent_element = element.get(0);\n",
       "    fig.cell_info = mpl.find_output_cell(\"<div id='\" + id + \"'></div>\");\n",
       "    if (!fig.cell_info) {\n",
       "        console.error(\"Failed to find cell for figure\", id, fig);\n",
       "        return;\n",
       "    }\n",
       "\n",
       "    var output_index = fig.cell_info[2]\n",
       "    var cell = fig.cell_info[0];\n",
       "\n",
       "};\n",
       "\n",
       "mpl.figure.prototype.handle_close = function(fig, msg) {\n",
       "    var width = fig.canvas.width/mpl.ratio\n",
       "    fig.root.unbind('remove')\n",
       "\n",
       "    // Update the output cell to use the data from the current canvas.\n",
       "    fig.push_to_output();\n",
       "    var dataURL = fig.canvas.toDataURL();\n",
       "    // Re-enable the keyboard manager in IPython - without this line, in FF,\n",
       "    // the notebook keyboard shortcuts fail.\n",
       "    IPython.keyboard_manager.enable()\n",
       "    $(fig.parent_element).html('<img src=\"' + dataURL + '\" width=\"' + width + '\">');\n",
       "    fig.close_ws(fig, msg);\n",
       "}\n",
       "\n",
       "mpl.figure.prototype.close_ws = function(fig, msg){\n",
       "    fig.send_message('closing', msg);\n",
       "    // fig.ws.close()\n",
       "}\n",
       "\n",
       "mpl.figure.prototype.push_to_output = function(remove_interactive) {\n",
       "    // Turn the data on the canvas into data in the output cell.\n",
       "    var width = this.canvas.width/mpl.ratio\n",
       "    var dataURL = this.canvas.toDataURL();\n",
       "    this.cell_info[1]['text/html'] = '<img src=\"' + dataURL + '\" width=\"' + width + '\">';\n",
       "}\n",
       "\n",
       "mpl.figure.prototype.updated_canvas_event = function() {\n",
       "    // Tell IPython that the notebook contents must change.\n",
       "    IPython.notebook.set_dirty(true);\n",
       "    this.send_message(\"ack\", {});\n",
       "    var fig = this;\n",
       "    // Wait a second, then push the new image to the DOM so\n",
       "    // that it is saved nicely (might be nice to debounce this).\n",
       "    setTimeout(function () { fig.push_to_output() }, 1000);\n",
       "}\n",
       "\n",
       "mpl.figure.prototype._init_toolbar = function() {\n",
       "    var fig = this;\n",
       "\n",
       "    var nav_element = $('<div/>')\n",
       "    nav_element.attr('style', 'width: 100%');\n",
       "    this.root.append(nav_element);\n",
       "\n",
       "    // Define a callback function for later on.\n",
       "    function toolbar_event(event) {\n",
       "        return fig.toolbar_button_onclick(event['data']);\n",
       "    }\n",
       "    function toolbar_mouse_event(event) {\n",
       "        return fig.toolbar_button_onmouseover(event['data']);\n",
       "    }\n",
       "\n",
       "    for(var toolbar_ind in mpl.toolbar_items){\n",
       "        var name = mpl.toolbar_items[toolbar_ind][0];\n",
       "        var tooltip = mpl.toolbar_items[toolbar_ind][1];\n",
       "        var image = mpl.toolbar_items[toolbar_ind][2];\n",
       "        var method_name = mpl.toolbar_items[toolbar_ind][3];\n",
       "\n",
       "        if (!name) { continue; };\n",
       "\n",
       "        var button = $('<button class=\"btn btn-default\" href=\"#\" title=\"' + name + '\"><i class=\"fa ' + image + ' fa-lg\"></i></button>');\n",
       "        button.click(method_name, toolbar_event);\n",
       "        button.mouseover(tooltip, toolbar_mouse_event);\n",
       "        nav_element.append(button);\n",
       "    }\n",
       "\n",
       "    // Add the status bar.\n",
       "    var status_bar = $('<span class=\"mpl-message\" style=\"text-align:right; float: right;\"/>');\n",
       "    nav_element.append(status_bar);\n",
       "    this.message = status_bar[0];\n",
       "\n",
       "    // Add the close button to the window.\n",
       "    var buttongrp = $('<div class=\"btn-group inline pull-right\"></div>');\n",
       "    var button = $('<button class=\"btn btn-mini btn-primary\" href=\"#\" title=\"Stop Interaction\"><i class=\"fa fa-power-off icon-remove icon-large\"></i></button>');\n",
       "    button.click(function (evt) { fig.handle_close(fig, {}); } );\n",
       "    button.mouseover('Stop Interaction', toolbar_mouse_event);\n",
       "    buttongrp.append(button);\n",
       "    var titlebar = this.root.find($('.ui-dialog-titlebar'));\n",
       "    titlebar.prepend(buttongrp);\n",
       "}\n",
       "\n",
       "mpl.figure.prototype._root_extra_style = function(el){\n",
       "    var fig = this\n",
       "    el.on(\"remove\", function(){\n",
       "\tfig.close_ws(fig, {});\n",
       "    });\n",
       "}\n",
       "\n",
       "mpl.figure.prototype._canvas_extra_style = function(el){\n",
       "    // this is important to make the div 'focusable\n",
       "    el.attr('tabindex', 0)\n",
       "    // reach out to IPython and tell the keyboard manager to turn it's self\n",
       "    // off when our div gets focus\n",
       "\n",
       "    // location in version 3\n",
       "    if (IPython.notebook.keyboard_manager) {\n",
       "        IPython.notebook.keyboard_manager.register_events(el);\n",
       "    }\n",
       "    else {\n",
       "        // location in version 2\n",
       "        IPython.keyboard_manager.register_events(el);\n",
       "    }\n",
       "\n",
       "}\n",
       "\n",
       "mpl.figure.prototype._key_event_extra = function(event, name) {\n",
       "    var manager = IPython.notebook.keyboard_manager;\n",
       "    if (!manager)\n",
       "        manager = IPython.keyboard_manager;\n",
       "\n",
       "    // Check for shift+enter\n",
       "    if (event.shiftKey && event.which == 13) {\n",
       "        this.canvas_div.blur();\n",
       "        event.shiftKey = false;\n",
       "        // Send a \"J\" for go to next cell\n",
       "        event.which = 74;\n",
       "        event.keyCode = 74;\n",
       "        manager.command_mode();\n",
       "        manager.handle_keydown(event);\n",
       "    }\n",
       "}\n",
       "\n",
       "mpl.figure.prototype.handle_save = function(fig, msg) {\n",
       "    fig.ondownload(fig, null);\n",
       "}\n",
       "\n",
       "\n",
       "mpl.find_output_cell = function(html_output) {\n",
       "    // Return the cell and output element which can be found *uniquely* in the notebook.\n",
       "    // Note - this is a bit hacky, but it is done because the \"notebook_saving.Notebook\"\n",
       "    // IPython event is triggered only after the cells have been serialised, which for\n",
       "    // our purposes (turning an active figure into a static one), is too late.\n",
       "    var cells = IPython.notebook.get_cells();\n",
       "    var ncells = cells.length;\n",
       "    for (var i=0; i<ncells; i++) {\n",
       "        var cell = cells[i];\n",
       "        if (cell.cell_type === 'code'){\n",
       "            for (var j=0; j<cell.output_area.outputs.length; j++) {\n",
       "                var data = cell.output_area.outputs[j];\n",
       "                if (data.data) {\n",
       "                    // IPython >= 3 moved mimebundle to data attribute of output\n",
       "                    data = data.data;\n",
       "                }\n",
       "                if (data['text/html'] == html_output) {\n",
       "                    return [cell, data, j];\n",
       "                }\n",
       "            }\n",
       "        }\n",
       "    }\n",
       "}\n",
       "\n",
       "// Register the function which deals with the matplotlib target/channel.\n",
       "// The kernel may be null if the page has been refreshed.\n",
       "if (IPython.notebook.kernel != null) {\n",
       "    IPython.notebook.kernel.comm_manager.register_target('matplotlib', mpl.mpl_figure_comm);\n",
       "}\n"
      ],
      "text/plain": [
       "<IPython.core.display.Javascript object>"
      ]
     },
     "metadata": {},
     "output_type": "display_data"
    },
    {
     "data": {
      "text/html": [
       "<img src=\"data:image/png;base64,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\" width=\"640\">"
      ],
      "text/plain": [
       "<IPython.core.display.HTML object>"
      ]
     },
     "metadata": {},
     "output_type": "display_data"
    }
   ],
   "source": [
    "xgb.plot_importance(xgb_all)\n",
    "\n",
    "plt.show()"
   ]
  },
  {
   "cell_type": "markdown",
   "metadata": {},
   "source": [
    "## Testing it with the test data"
   ]
  },
  {
   "cell_type": "code",
   "execution_count": 71,
   "metadata": {
    "scrolled": true
   },
   "outputs": [
    {
     "data": {
      "text/plain": [
       "{'mape': 31.66772902356496,\n",
       " 'predictions': array([4.0621133, 3.8182564, 3.245235 , ..., 3.8016276, 3.6903937,\n",
       "        3.9304974], dtype=float32),\n",
       " 'rmse': 1.0785668555196084}"
      ]
     },
     "execution_count": 71,
     "metadata": {},
     "output_type": "execute_result"
    }
   ],
   "source": [
    "xgb_all_test_pred = xgb_all.predict(x_test)\n",
    "\n",
    "# storing them in models_evaluations_test\n",
    "models_evaluation_test['xgb_all'] = {'rmse':np.sqrt(mean_squared_error(y_test, xgb_all_test_pred)),\n",
    "                                       'mape':np.mean(np.abs( (y_test.values - xgb_all_test_pred)/y_test.values )) * 100,\n",
    "                                       'predictions':xgb_all_test_pred}\n",
    "\n",
    "\n",
    "models_evaluation_test['xgb_all']"
   ]
  },
  {
   "cell_type": "markdown",
   "metadata": {},
   "source": [
    "# XGBoost with just the model predictions"
   ]
  },
  {
   "cell_type": "code",
   "execution_count": 72,
   "metadata": {},
   "outputs": [
    {
     "data": {
      "text/plain": [
       "Index(['GAvg', 'sur1', 'sur2', 'sur3', 'sur4', 'sur5', 'smr1', 'smr2', 'smr3',\n",
       "       'smr4', 'smr5', 'UAvg', 'MAvg', 'first_xgb', 'bsl', 'knn_bsl_u',\n",
       "       'knn_bsl_m', 'svd', 'svdpp'],\n",
       "      dtype='object')"
      ]
     },
     "execution_count": 72,
     "metadata": {},
     "output_type": "execute_result"
    }
   ],
   "source": [
    "x_train.columns"
   ]
  },
  {
   "cell_type": "code",
   "execution_count": 81,
   "metadata": {},
   "outputs": [
    {
     "name": "stdout",
     "output_type": "stream",
     "text": [
      "Time taken to train the model : 0:00:12.067340\n",
      "\n"
     ]
    }
   ],
   "source": [
    "xgb_final = xgb.XGBRegressor(silent=False, n_jobs=10, random_state=15)\n",
    "\n",
    "start = datetime.now()\n",
    "xgb_final.fit(x_train[['bsl','knn_bsl_u','knn_bsl_m', 'svd', 'svdpp']],\n",
    "              y_train, eval_metric = 'rmse')\n",
    "print('Time taken to train the model : {}\\n'.format(datetime.now() - start))\n",
    "\n",
    "\n",
    "\n",
    "\n",
    "# storing in models_evaluations dict\n",
    "#################################################################\n",
    "models_evaluation_train['xgb_final'] = {'rmse': None,\n",
    "                                        'mape': None,\n",
    "                                        'predictions': None}\n",
    "\n"
   ]
  },
  {
   "cell_type": "code",
   "execution_count": 82,
   "metadata": {
    "scrolled": false
   },
   "outputs": [
    {
     "data": {
      "application/javascript": [
       "/* Put everything inside the global mpl namespace */\n",
       "window.mpl = {};\n",
       "\n",
       "\n",
       "mpl.get_websocket_type = function() {\n",
       "    if (typeof(WebSocket) !== 'undefined') {\n",
       "        return WebSocket;\n",
       "    } else if (typeof(MozWebSocket) !== 'undefined') {\n",
       "        return MozWebSocket;\n",
       "    } else {\n",
       "        alert('Your browser does not have WebSocket support.' +\n",
       "              'Please try Chrome, Safari or Firefox ≥ 6. ' +\n",
       "              'Firefox 4 and 5 are also supported but you ' +\n",
       "              'have to enable WebSockets in about:config.');\n",
       "    };\n",
       "}\n",
       "\n",
       "mpl.figure = function(figure_id, websocket, ondownload, parent_element) {\n",
       "    this.id = figure_id;\n",
       "\n",
       "    this.ws = websocket;\n",
       "\n",
       "    this.supports_binary = (this.ws.binaryType != undefined);\n",
       "\n",
       "    if (!this.supports_binary) {\n",
       "        var warnings = document.getElementById(\"mpl-warnings\");\n",
       "        if (warnings) {\n",
       "            warnings.style.display = 'block';\n",
       "            warnings.textContent = (\n",
       "                \"This browser does not support binary websocket messages. \" +\n",
       "                    \"Performance may be slow.\");\n",
       "        }\n",
       "    }\n",
       "\n",
       "    this.imageObj = new Image();\n",
       "\n",
       "    this.context = undefined;\n",
       "    this.message = undefined;\n",
       "    this.canvas = undefined;\n",
       "    this.rubberband_canvas = undefined;\n",
       "    this.rubberband_context = undefined;\n",
       "    this.format_dropdown = undefined;\n",
       "\n",
       "    this.image_mode = 'full';\n",
       "\n",
       "    this.root = $('<div/>');\n",
       "    this._root_extra_style(this.root)\n",
       "    this.root.attr('style', 'display: inline-block');\n",
       "\n",
       "    $(parent_element).append(this.root);\n",
       "\n",
       "    this._init_header(this);\n",
       "    this._init_canvas(this);\n",
       "    this._init_toolbar(this);\n",
       "\n",
       "    var fig = this;\n",
       "\n",
       "    this.waiting = false;\n",
       "\n",
       "    this.ws.onopen =  function () {\n",
       "            fig.send_message(\"supports_binary\", {value: fig.supports_binary});\n",
       "            fig.send_message(\"send_image_mode\", {});\n",
       "            if (mpl.ratio != 1) {\n",
       "                fig.send_message(\"set_dpi_ratio\", {'dpi_ratio': mpl.ratio});\n",
       "            }\n",
       "            fig.send_message(\"refresh\", {});\n",
       "        }\n",
       "\n",
       "    this.imageObj.onload = function() {\n",
       "            if (fig.image_mode == 'full') {\n",
       "                // Full images could contain transparency (where diff images\n",
       "                // almost always do), so we need to clear the canvas so that\n",
       "                // there is no ghosting.\n",
       "                fig.context.clearRect(0, 0, fig.canvas.width, fig.canvas.height);\n",
       "            }\n",
       "            fig.context.drawImage(fig.imageObj, 0, 0);\n",
       "        };\n",
       "\n",
       "    this.imageObj.onunload = function() {\n",
       "        fig.ws.close();\n",
       "    }\n",
       "\n",
       "    this.ws.onmessage = this._make_on_message_function(this);\n",
       "\n",
       "    this.ondownload = ondownload;\n",
       "}\n",
       "\n",
       "mpl.figure.prototype._init_header = function() {\n",
       "    var titlebar = $(\n",
       "        '<div class=\"ui-dialog-titlebar ui-widget-header ui-corner-all ' +\n",
       "        'ui-helper-clearfix\"/>');\n",
       "    var titletext = $(\n",
       "        '<div class=\"ui-dialog-title\" style=\"width: 100%; ' +\n",
       "        'text-align: center; padding: 3px;\"/>');\n",
       "    titlebar.append(titletext)\n",
       "    this.root.append(titlebar);\n",
       "    this.header = titletext[0];\n",
       "}\n",
       "\n",
       "\n",
       "\n",
       "mpl.figure.prototype._canvas_extra_style = function(canvas_div) {\n",
       "\n",
       "}\n",
       "\n",
       "\n",
       "mpl.figure.prototype._root_extra_style = function(canvas_div) {\n",
       "\n",
       "}\n",
       "\n",
       "mpl.figure.prototype._init_canvas = function() {\n",
       "    var fig = this;\n",
       "\n",
       "    var canvas_div = $('<div/>');\n",
       "\n",
       "    canvas_div.attr('style', 'position: relative; clear: both; outline: 0');\n",
       "\n",
       "    function canvas_keyboard_event(event) {\n",
       "        return fig.key_event(event, event['data']);\n",
       "    }\n",
       "\n",
       "    canvas_div.keydown('key_press', canvas_keyboard_event);\n",
       "    canvas_div.keyup('key_release', canvas_keyboard_event);\n",
       "    this.canvas_div = canvas_div\n",
       "    this._canvas_extra_style(canvas_div)\n",
       "    this.root.append(canvas_div);\n",
       "\n",
       "    var canvas = $('<canvas/>');\n",
       "    canvas.addClass('mpl-canvas');\n",
       "    canvas.attr('style', \"left: 0; top: 0; z-index: 0; outline: 0\")\n",
       "\n",
       "    this.canvas = canvas[0];\n",
       "    this.context = canvas[0].getContext(\"2d\");\n",
       "\n",
       "    var backingStore = this.context.backingStorePixelRatio ||\n",
       "\tthis.context.webkitBackingStorePixelRatio ||\n",
       "\tthis.context.mozBackingStorePixelRatio ||\n",
       "\tthis.context.msBackingStorePixelRatio ||\n",
       "\tthis.context.oBackingStorePixelRatio ||\n",
       "\tthis.context.backingStorePixelRatio || 1;\n",
       "\n",
       "    mpl.ratio = (window.devicePixelRatio || 1) / backingStore;\n",
       "\n",
       "    var rubberband = $('<canvas/>');\n",
       "    rubberband.attr('style', \"position: absolute; left: 0; top: 0; z-index: 1;\")\n",
       "\n",
       "    var pass_mouse_events = true;\n",
       "\n",
       "    canvas_div.resizable({\n",
       "        start: function(event, ui) {\n",
       "            pass_mouse_events = false;\n",
       "        },\n",
       "        resize: function(event, ui) {\n",
       "            fig.request_resize(ui.size.width, ui.size.height);\n",
       "        },\n",
       "        stop: function(event, ui) {\n",
       "            pass_mouse_events = true;\n",
       "            fig.request_resize(ui.size.width, ui.size.height);\n",
       "        },\n",
       "    });\n",
       "\n",
       "    function mouse_event_fn(event) {\n",
       "        if (pass_mouse_events)\n",
       "            return fig.mouse_event(event, event['data']);\n",
       "    }\n",
       "\n",
       "    rubberband.mousedown('button_press', mouse_event_fn);\n",
       "    rubberband.mouseup('button_release', mouse_event_fn);\n",
       "    // Throttle sequential mouse events to 1 every 20ms.\n",
       "    rubberband.mousemove('motion_notify', mouse_event_fn);\n",
       "\n",
       "    rubberband.mouseenter('figure_enter', mouse_event_fn);\n",
       "    rubberband.mouseleave('figure_leave', mouse_event_fn);\n",
       "\n",
       "    canvas_div.on(\"wheel\", function (event) {\n",
       "        event = event.originalEvent;\n",
       "        event['data'] = 'scroll'\n",
       "        if (event.deltaY < 0) {\n",
       "            event.step = 1;\n",
       "        } else {\n",
       "            event.step = -1;\n",
       "        }\n",
       "        mouse_event_fn(event);\n",
       "    });\n",
       "\n",
       "    canvas_div.append(canvas);\n",
       "    canvas_div.append(rubberband);\n",
       "\n",
       "    this.rubberband = rubberband;\n",
       "    this.rubberband_canvas = rubberband[0];\n",
       "    this.rubberband_context = rubberband[0].getContext(\"2d\");\n",
       "    this.rubberband_context.strokeStyle = \"#000000\";\n",
       "\n",
       "    this._resize_canvas = function(width, height) {\n",
       "        // Keep the size of the canvas, canvas container, and rubber band\n",
       "        // canvas in synch.\n",
       "        canvas_div.css('width', width)\n",
       "        canvas_div.css('height', height)\n",
       "\n",
       "        canvas.attr('width', width * mpl.ratio);\n",
       "        canvas.attr('height', height * mpl.ratio);\n",
       "        canvas.attr('style', 'width: ' + width + 'px; height: ' + height + 'px;');\n",
       "\n",
       "        rubberband.attr('width', width);\n",
       "        rubberband.attr('height', height);\n",
       "    }\n",
       "\n",
       "    // Set the figure to an initial 600x600px, this will subsequently be updated\n",
       "    // upon first draw.\n",
       "    this._resize_canvas(600, 600);\n",
       "\n",
       "    // Disable right mouse context menu.\n",
       "    $(this.rubberband_canvas).bind(\"contextmenu\",function(e){\n",
       "        return false;\n",
       "    });\n",
       "\n",
       "    function set_focus () {\n",
       "        canvas.focus();\n",
       "        canvas_div.focus();\n",
       "    }\n",
       "\n",
       "    window.setTimeout(set_focus, 100);\n",
       "}\n",
       "\n",
       "mpl.figure.prototype._init_toolbar = function() {\n",
       "    var fig = this;\n",
       "\n",
       "    var nav_element = $('<div/>')\n",
       "    nav_element.attr('style', 'width: 100%');\n",
       "    this.root.append(nav_element);\n",
       "\n",
       "    // Define a callback function for later on.\n",
       "    function toolbar_event(event) {\n",
       "        return fig.toolbar_button_onclick(event['data']);\n",
       "    }\n",
       "    function toolbar_mouse_event(event) {\n",
       "        return fig.toolbar_button_onmouseover(event['data']);\n",
       "    }\n",
       "\n",
       "    for(var toolbar_ind in mpl.toolbar_items) {\n",
       "        var name = mpl.toolbar_items[toolbar_ind][0];\n",
       "        var tooltip = mpl.toolbar_items[toolbar_ind][1];\n",
       "        var image = mpl.toolbar_items[toolbar_ind][2];\n",
       "        var method_name = mpl.toolbar_items[toolbar_ind][3];\n",
       "\n",
       "        if (!name) {\n",
       "            // put a spacer in here.\n",
       "            continue;\n",
       "        }\n",
       "        var button = $('<button/>');\n",
       "        button.addClass('ui-button ui-widget ui-state-default ui-corner-all ' +\n",
       "                        'ui-button-icon-only');\n",
       "        button.attr('role', 'button');\n",
       "        button.attr('aria-disabled', 'false');\n",
       "        button.click(method_name, toolbar_event);\n",
       "        button.mouseover(tooltip, toolbar_mouse_event);\n",
       "\n",
       "        var icon_img = $('<span/>');\n",
       "        icon_img.addClass('ui-button-icon-primary ui-icon');\n",
       "        icon_img.addClass(image);\n",
       "        icon_img.addClass('ui-corner-all');\n",
       "\n",
       "        var tooltip_span = $('<span/>');\n",
       "        tooltip_span.addClass('ui-button-text');\n",
       "        tooltip_span.html(tooltip);\n",
       "\n",
       "        button.append(icon_img);\n",
       "        button.append(tooltip_span);\n",
       "\n",
       "        nav_element.append(button);\n",
       "    }\n",
       "\n",
       "    var fmt_picker_span = $('<span/>');\n",
       "\n",
       "    var fmt_picker = $('<select/>');\n",
       "    fmt_picker.addClass('mpl-toolbar-option ui-widget ui-widget-content');\n",
       "    fmt_picker_span.append(fmt_picker);\n",
       "    nav_element.append(fmt_picker_span);\n",
       "    this.format_dropdown = fmt_picker[0];\n",
       "\n",
       "    for (var ind in mpl.extensions) {\n",
       "        var fmt = mpl.extensions[ind];\n",
       "        var option = $(\n",
       "            '<option/>', {selected: fmt === mpl.default_extension}).html(fmt);\n",
       "        fmt_picker.append(option)\n",
       "    }\n",
       "\n",
       "    // Add hover states to the ui-buttons\n",
       "    $( \".ui-button\" ).hover(\n",
       "        function() { $(this).addClass(\"ui-state-hover\");},\n",
       "        function() { $(this).removeClass(\"ui-state-hover\");}\n",
       "    );\n",
       "\n",
       "    var status_bar = $('<span class=\"mpl-message\"/>');\n",
       "    nav_element.append(status_bar);\n",
       "    this.message = status_bar[0];\n",
       "}\n",
       "\n",
       "mpl.figure.prototype.request_resize = function(x_pixels, y_pixels) {\n",
       "    // Request matplotlib to resize the figure. Matplotlib will then trigger a resize in the client,\n",
       "    // which will in turn request a refresh of the image.\n",
       "    this.send_message('resize', {'width': x_pixels, 'height': y_pixels});\n",
       "}\n",
       "\n",
       "mpl.figure.prototype.send_message = function(type, properties) {\n",
       "    properties['type'] = type;\n",
       "    properties['figure_id'] = this.id;\n",
       "    this.ws.send(JSON.stringify(properties));\n",
       "}\n",
       "\n",
       "mpl.figure.prototype.send_draw_message = function() {\n",
       "    if (!this.waiting) {\n",
       "        this.waiting = true;\n",
       "        this.ws.send(JSON.stringify({type: \"draw\", figure_id: this.id}));\n",
       "    }\n",
       "}\n",
       "\n",
       "\n",
       "mpl.figure.prototype.handle_save = function(fig, msg) {\n",
       "    var format_dropdown = fig.format_dropdown;\n",
       "    var format = format_dropdown.options[format_dropdown.selectedIndex].value;\n",
       "    fig.ondownload(fig, format);\n",
       "}\n",
       "\n",
       "\n",
       "mpl.figure.prototype.handle_resize = function(fig, msg) {\n",
       "    var size = msg['size'];\n",
       "    if (size[0] != fig.canvas.width || size[1] != fig.canvas.height) {\n",
       "        fig._resize_canvas(size[0], size[1]);\n",
       "        fig.send_message(\"refresh\", {});\n",
       "    };\n",
       "}\n",
       "\n",
       "mpl.figure.prototype.handle_rubberband = function(fig, msg) {\n",
       "    var x0 = msg['x0'] / mpl.ratio;\n",
       "    var y0 = (fig.canvas.height - msg['y0']) / mpl.ratio;\n",
       "    var x1 = msg['x1'] / mpl.ratio;\n",
       "    var y1 = (fig.canvas.height - msg['y1']) / mpl.ratio;\n",
       "    x0 = Math.floor(x0) + 0.5;\n",
       "    y0 = Math.floor(y0) + 0.5;\n",
       "    x1 = Math.floor(x1) + 0.5;\n",
       "    y1 = Math.floor(y1) + 0.5;\n",
       "    var min_x = Math.min(x0, x1);\n",
       "    var min_y = Math.min(y0, y1);\n",
       "    var width = Math.abs(x1 - x0);\n",
       "    var height = Math.abs(y1 - y0);\n",
       "\n",
       "    fig.rubberband_context.clearRect(\n",
       "        0, 0, fig.canvas.width, fig.canvas.height);\n",
       "\n",
       "    fig.rubberband_context.strokeRect(min_x, min_y, width, height);\n",
       "}\n",
       "\n",
       "mpl.figure.prototype.handle_figure_label = function(fig, msg) {\n",
       "    // Updates the figure title.\n",
       "    fig.header.textContent = msg['label'];\n",
       "}\n",
       "\n",
       "mpl.figure.prototype.handle_cursor = function(fig, msg) {\n",
       "    var cursor = msg['cursor'];\n",
       "    switch(cursor)\n",
       "    {\n",
       "    case 0:\n",
       "        cursor = 'pointer';\n",
       "        break;\n",
       "    case 1:\n",
       "        cursor = 'default';\n",
       "        break;\n",
       "    case 2:\n",
       "        cursor = 'crosshair';\n",
       "        break;\n",
       "    case 3:\n",
       "        cursor = 'move';\n",
       "        break;\n",
       "    }\n",
       "    fig.rubberband_canvas.style.cursor = cursor;\n",
       "}\n",
       "\n",
       "mpl.figure.prototype.handle_message = function(fig, msg) {\n",
       "    fig.message.textContent = msg['message'];\n",
       "}\n",
       "\n",
       "mpl.figure.prototype.handle_draw = function(fig, msg) {\n",
       "    // Request the server to send over a new figure.\n",
       "    fig.send_draw_message();\n",
       "}\n",
       "\n",
       "mpl.figure.prototype.handle_image_mode = function(fig, msg) {\n",
       "    fig.image_mode = msg['mode'];\n",
       "}\n",
       "\n",
       "mpl.figure.prototype.updated_canvas_event = function() {\n",
       "    // Called whenever the canvas gets updated.\n",
       "    this.send_message(\"ack\", {});\n",
       "}\n",
       "\n",
       "// A function to construct a web socket function for onmessage handling.\n",
       "// Called in the figure constructor.\n",
       "mpl.figure.prototype._make_on_message_function = function(fig) {\n",
       "    return function socket_on_message(evt) {\n",
       "        if (evt.data instanceof Blob) {\n",
       "            /* FIXME: We get \"Resource interpreted as Image but\n",
       "             * transferred with MIME type text/plain:\" errors on\n",
       "             * Chrome.  But how to set the MIME type?  It doesn't seem\n",
       "             * to be part of the websocket stream */\n",
       "            evt.data.type = \"image/png\";\n",
       "\n",
       "            /* Free the memory for the previous frames */\n",
       "            if (fig.imageObj.src) {\n",
       "                (window.URL || window.webkitURL).revokeObjectURL(\n",
       "                    fig.imageObj.src);\n",
       "            }\n",
       "\n",
       "            fig.imageObj.src = (window.URL || window.webkitURL).createObjectURL(\n",
       "                evt.data);\n",
       "            fig.updated_canvas_event();\n",
       "            fig.waiting = false;\n",
       "            return;\n",
       "        }\n",
       "        else if (typeof evt.data === 'string' && evt.data.slice(0, 21) == \"data:image/png;base64\") {\n",
       "            fig.imageObj.src = evt.data;\n",
       "            fig.updated_canvas_event();\n",
       "            fig.waiting = false;\n",
       "            return;\n",
       "        }\n",
       "\n",
       "        var msg = JSON.parse(evt.data);\n",
       "        var msg_type = msg['type'];\n",
       "\n",
       "        // Call the  \"handle_{type}\" callback, which takes\n",
       "        // the figure and JSON message as its only arguments.\n",
       "        try {\n",
       "            var callback = fig[\"handle_\" + msg_type];\n",
       "        } catch (e) {\n",
       "            console.log(\"No handler for the '\" + msg_type + \"' message type: \", msg);\n",
       "            return;\n",
       "        }\n",
       "\n",
       "        if (callback) {\n",
       "            try {\n",
       "                // console.log(\"Handling '\" + msg_type + \"' message: \", msg);\n",
       "                callback(fig, msg);\n",
       "            } catch (e) {\n",
       "                console.log(\"Exception inside the 'handler_\" + msg_type + \"' callback:\", e, e.stack, msg);\n",
       "            }\n",
       "        }\n",
       "    };\n",
       "}\n",
       "\n",
       "// from http://stackoverflow.com/questions/1114465/getting-mouse-location-in-canvas\n",
       "mpl.findpos = function(e) {\n",
       "    //this section is from http://www.quirksmode.org/js/events_properties.html\n",
       "    var targ;\n",
       "    if (!e)\n",
       "        e = window.event;\n",
       "    if (e.target)\n",
       "        targ = e.target;\n",
       "    else if (e.srcElement)\n",
       "        targ = e.srcElement;\n",
       "    if (targ.nodeType == 3) // defeat Safari bug\n",
       "        targ = targ.parentNode;\n",
       "\n",
       "    // jQuery normalizes the pageX and pageY\n",
       "    // pageX,Y are the mouse positions relative to the document\n",
       "    // offset() returns the position of the element relative to the document\n",
       "    var x = e.pageX - $(targ).offset().left;\n",
       "    var y = e.pageY - $(targ).offset().top;\n",
       "\n",
       "    return {\"x\": x, \"y\": y};\n",
       "};\n",
       "\n",
       "/*\n",
       " * return a copy of an object with only non-object keys\n",
       " * we need this to avoid circular references\n",
       " * http://stackoverflow.com/a/24161582/3208463\n",
       " */\n",
       "function simpleKeys (original) {\n",
       "  return Object.keys(original).reduce(function (obj, key) {\n",
       "    if (typeof original[key] !== 'object')\n",
       "        obj[key] = original[key]\n",
       "    return obj;\n",
       "  }, {});\n",
       "}\n",
       "\n",
       "mpl.figure.prototype.mouse_event = function(event, name) {\n",
       "    var canvas_pos = mpl.findpos(event)\n",
       "\n",
       "    if (name === 'button_press')\n",
       "    {\n",
       "        this.canvas.focus();\n",
       "        this.canvas_div.focus();\n",
       "    }\n",
       "\n",
       "    var x = canvas_pos.x * mpl.ratio;\n",
       "    var y = canvas_pos.y * mpl.ratio;\n",
       "\n",
       "    this.send_message(name, {x: x, y: y, button: event.button,\n",
       "                             step: event.step,\n",
       "                             guiEvent: simpleKeys(event)});\n",
       "\n",
       "    /* This prevents the web browser from automatically changing to\n",
       "     * the text insertion cursor when the button is pressed.  We want\n",
       "     * to control all of the cursor setting manually through the\n",
       "     * 'cursor' event from matplotlib */\n",
       "    event.preventDefault();\n",
       "    return false;\n",
       "}\n",
       "\n",
       "mpl.figure.prototype._key_event_extra = function(event, name) {\n",
       "    // Handle any extra behaviour associated with a key event\n",
       "}\n",
       "\n",
       "mpl.figure.prototype.key_event = function(event, name) {\n",
       "\n",
       "    // Prevent repeat events\n",
       "    if (name == 'key_press')\n",
       "    {\n",
       "        if (event.which === this._key)\n",
       "            return;\n",
       "        else\n",
       "            this._key = event.which;\n",
       "    }\n",
       "    if (name == 'key_release')\n",
       "        this._key = null;\n",
       "\n",
       "    var value = '';\n",
       "    if (event.ctrlKey && event.which != 17)\n",
       "        value += \"ctrl+\";\n",
       "    if (event.altKey && event.which != 18)\n",
       "        value += \"alt+\";\n",
       "    if (event.shiftKey && event.which != 16)\n",
       "        value += \"shift+\";\n",
       "\n",
       "    value += 'k';\n",
       "    value += event.which.toString();\n",
       "\n",
       "    this._key_event_extra(event, name);\n",
       "\n",
       "    this.send_message(name, {key: value,\n",
       "                             guiEvent: simpleKeys(event)});\n",
       "    return false;\n",
       "}\n",
       "\n",
       "mpl.figure.prototype.toolbar_button_onclick = function(name) {\n",
       "    if (name == 'download') {\n",
       "        this.handle_save(this, null);\n",
       "    } else {\n",
       "        this.send_message(\"toolbar_button\", {name: name});\n",
       "    }\n",
       "};\n",
       "\n",
       "mpl.figure.prototype.toolbar_button_onmouseover = function(tooltip) {\n",
       "    this.message.textContent = tooltip;\n",
       "};\n",
       "mpl.toolbar_items = [[\"Home\", \"Reset original view\", \"fa fa-home icon-home\", \"home\"], [\"Back\", \"Back to  previous view\", \"fa fa-arrow-left icon-arrow-left\", \"back\"], [\"Forward\", \"Forward to next view\", \"fa fa-arrow-right icon-arrow-right\", \"forward\"], [\"\", \"\", \"\", \"\"], [\"Pan\", \"Pan axes with left mouse, zoom with right\", \"fa fa-arrows icon-move\", \"pan\"], [\"Zoom\", \"Zoom to rectangle\", \"fa fa-square-o icon-check-empty\", \"zoom\"], [\"\", \"\", \"\", \"\"], [\"Download\", \"Download plot\", \"fa fa-floppy-o icon-save\", \"download\"]];\n",
       "\n",
       "mpl.extensions = [\"eps\", \"jpeg\", \"pdf\", \"png\", \"ps\", \"raw\", \"svg\", \"tif\"];\n",
       "\n",
       "mpl.default_extension = \"png\";var comm_websocket_adapter = function(comm) {\n",
       "    // Create a \"websocket\"-like object which calls the given IPython comm\n",
       "    // object with the appropriate methods. Currently this is a non binary\n",
       "    // socket, so there is still some room for performance tuning.\n",
       "    var ws = {};\n",
       "\n",
       "    ws.close = function() {\n",
       "        comm.close()\n",
       "    };\n",
       "    ws.send = function(m) {\n",
       "        //console.log('sending', m);\n",
       "        comm.send(m);\n",
       "    };\n",
       "    // Register the callback with on_msg.\n",
       "    comm.on_msg(function(msg) {\n",
       "        //console.log('receiving', msg['content']['data'], msg);\n",
       "        // Pass the mpl event to the overriden (by mpl) onmessage function.\n",
       "        ws.onmessage(msg['content']['data'])\n",
       "    });\n",
       "    return ws;\n",
       "}\n",
       "\n",
       "mpl.mpl_figure_comm = function(comm, msg) {\n",
       "    // This is the function which gets called when the mpl process\n",
       "    // starts-up an IPython Comm through the \"matplotlib\" channel.\n",
       "\n",
       "    var id = msg.content.data.id;\n",
       "    // Get hold of the div created by the display call when the Comm\n",
       "    // socket was opened in Python.\n",
       "    var element = $(\"#\" + id);\n",
       "    var ws_proxy = comm_websocket_adapter(comm)\n",
       "\n",
       "    function ondownload(figure, format) {\n",
       "        window.open(figure.imageObj.src);\n",
       "    }\n",
       "\n",
       "    var fig = new mpl.figure(id, ws_proxy,\n",
       "                           ondownload,\n",
       "                           element.get(0));\n",
       "\n",
       "    // Call onopen now - mpl needs it, as it is assuming we've passed it a real\n",
       "    // web socket which is closed, not our websocket->open comm proxy.\n",
       "    ws_proxy.onopen();\n",
       "\n",
       "    fig.parent_element = element.get(0);\n",
       "    fig.cell_info = mpl.find_output_cell(\"<div id='\" + id + \"'></div>\");\n",
       "    if (!fig.cell_info) {\n",
       "        console.error(\"Failed to find cell for figure\", id, fig);\n",
       "        return;\n",
       "    }\n",
       "\n",
       "    var output_index = fig.cell_info[2]\n",
       "    var cell = fig.cell_info[0];\n",
       "\n",
       "};\n",
       "\n",
       "mpl.figure.prototype.handle_close = function(fig, msg) {\n",
       "    var width = fig.canvas.width/mpl.ratio\n",
       "    fig.root.unbind('remove')\n",
       "\n",
       "    // Update the output cell to use the data from the current canvas.\n",
       "    fig.push_to_output();\n",
       "    var dataURL = fig.canvas.toDataURL();\n",
       "    // Re-enable the keyboard manager in IPython - without this line, in FF,\n",
       "    // the notebook keyboard shortcuts fail.\n",
       "    IPython.keyboard_manager.enable()\n",
       "    $(fig.parent_element).html('<img src=\"' + dataURL + '\" width=\"' + width + '\">');\n",
       "    fig.close_ws(fig, msg);\n",
       "}\n",
       "\n",
       "mpl.figure.prototype.close_ws = function(fig, msg){\n",
       "    fig.send_message('closing', msg);\n",
       "    // fig.ws.close()\n",
       "}\n",
       "\n",
       "mpl.figure.prototype.push_to_output = function(remove_interactive) {\n",
       "    // Turn the data on the canvas into data in the output cell.\n",
       "    var width = this.canvas.width/mpl.ratio\n",
       "    var dataURL = this.canvas.toDataURL();\n",
       "    this.cell_info[1]['text/html'] = '<img src=\"' + dataURL + '\" width=\"' + width + '\">';\n",
       "}\n",
       "\n",
       "mpl.figure.prototype.updated_canvas_event = function() {\n",
       "    // Tell IPython that the notebook contents must change.\n",
       "    IPython.notebook.set_dirty(true);\n",
       "    this.send_message(\"ack\", {});\n",
       "    var fig = this;\n",
       "    // Wait a second, then push the new image to the DOM so\n",
       "    // that it is saved nicely (might be nice to debounce this).\n",
       "    setTimeout(function () { fig.push_to_output() }, 1000);\n",
       "}\n",
       "\n",
       "mpl.figure.prototype._init_toolbar = function() {\n",
       "    var fig = this;\n",
       "\n",
       "    var nav_element = $('<div/>')\n",
       "    nav_element.attr('style', 'width: 100%');\n",
       "    this.root.append(nav_element);\n",
       "\n",
       "    // Define a callback function for later on.\n",
       "    function toolbar_event(event) {\n",
       "        return fig.toolbar_button_onclick(event['data']);\n",
       "    }\n",
       "    function toolbar_mouse_event(event) {\n",
       "        return fig.toolbar_button_onmouseover(event['data']);\n",
       "    }\n",
       "\n",
       "    for(var toolbar_ind in mpl.toolbar_items){\n",
       "        var name = mpl.toolbar_items[toolbar_ind][0];\n",
       "        var tooltip = mpl.toolbar_items[toolbar_ind][1];\n",
       "        var image = mpl.toolbar_items[toolbar_ind][2];\n",
       "        var method_name = mpl.toolbar_items[toolbar_ind][3];\n",
       "\n",
       "        if (!name) { continue; };\n",
       "\n",
       "        var button = $('<button class=\"btn btn-default\" href=\"#\" title=\"' + name + '\"><i class=\"fa ' + image + ' fa-lg\"></i></button>');\n",
       "        button.click(method_name, toolbar_event);\n",
       "        button.mouseover(tooltip, toolbar_mouse_event);\n",
       "        nav_element.append(button);\n",
       "    }\n",
       "\n",
       "    // Add the status bar.\n",
       "    var status_bar = $('<span class=\"mpl-message\" style=\"text-align:right; float: right;\"/>');\n",
       "    nav_element.append(status_bar);\n",
       "    this.message = status_bar[0];\n",
       "\n",
       "    // Add the close button to the window.\n",
       "    var buttongrp = $('<div class=\"btn-group inline pull-right\"></div>');\n",
       "    var button = $('<button class=\"btn btn-mini btn-primary\" href=\"#\" title=\"Stop Interaction\"><i class=\"fa fa-power-off icon-remove icon-large\"></i></button>');\n",
       "    button.click(function (evt) { fig.handle_close(fig, {}); } );\n",
       "    button.mouseover('Stop Interaction', toolbar_mouse_event);\n",
       "    buttongrp.append(button);\n",
       "    var titlebar = this.root.find($('.ui-dialog-titlebar'));\n",
       "    titlebar.prepend(buttongrp);\n",
       "}\n",
       "\n",
       "mpl.figure.prototype._root_extra_style = function(el){\n",
       "    var fig = this\n",
       "    el.on(\"remove\", function(){\n",
       "\tfig.close_ws(fig, {});\n",
       "    });\n",
       "}\n",
       "\n",
       "mpl.figure.prototype._canvas_extra_style = function(el){\n",
       "    // this is important to make the div 'focusable\n",
       "    el.attr('tabindex', 0)\n",
       "    // reach out to IPython and tell the keyboard manager to turn it's self\n",
       "    // off when our div gets focus\n",
       "\n",
       "    // location in version 3\n",
       "    if (IPython.notebook.keyboard_manager) {\n",
       "        IPython.notebook.keyboard_manager.register_events(el);\n",
       "    }\n",
       "    else {\n",
       "        // location in version 2\n",
       "        IPython.keyboard_manager.register_events(el);\n",
       "    }\n",
       "\n",
       "}\n",
       "\n",
       "mpl.figure.prototype._key_event_extra = function(event, name) {\n",
       "    var manager = IPython.notebook.keyboard_manager;\n",
       "    if (!manager)\n",
       "        manager = IPython.keyboard_manager;\n",
       "\n",
       "    // Check for shift+enter\n",
       "    if (event.shiftKey && event.which == 13) {\n",
       "        this.canvas_div.blur();\n",
       "        event.shiftKey = false;\n",
       "        // Send a \"J\" for go to next cell\n",
       "        event.which = 74;\n",
       "        event.keyCode = 74;\n",
       "        manager.command_mode();\n",
       "        manager.handle_keydown(event);\n",
       "    }\n",
       "}\n",
       "\n",
       "mpl.figure.prototype.handle_save = function(fig, msg) {\n",
       "    fig.ondownload(fig, null);\n",
       "}\n",
       "\n",
       "\n",
       "mpl.find_output_cell = function(html_output) {\n",
       "    // Return the cell and output element which can be found *uniquely* in the notebook.\n",
       "    // Note - this is a bit hacky, but it is done because the \"notebook_saving.Notebook\"\n",
       "    // IPython event is triggered only after the cells have been serialised, which for\n",
       "    // our purposes (turning an active figure into a static one), is too late.\n",
       "    var cells = IPython.notebook.get_cells();\n",
       "    var ncells = cells.length;\n",
       "    for (var i=0; i<ncells; i++) {\n",
       "        var cell = cells[i];\n",
       "        if (cell.cell_type === 'code'){\n",
       "            for (var j=0; j<cell.output_area.outputs.length; j++) {\n",
       "                var data = cell.output_area.outputs[j];\n",
       "                if (data.data) {\n",
       "                    // IPython >= 3 moved mimebundle to data attribute of output\n",
       "                    data = data.data;\n",
       "                }\n",
       "                if (data['text/html'] == html_output) {\n",
       "                    return [cell, data, j];\n",
       "                }\n",
       "            }\n",
       "        }\n",
       "    }\n",
       "}\n",
       "\n",
       "// Register the function which deals with the matplotlib target/channel.\n",
       "// The kernel may be null if the page has been refreshed.\n",
       "if (IPython.notebook.kernel != null) {\n",
       "    IPython.notebook.kernel.comm_manager.register_target('matplotlib', mpl.mpl_figure_comm);\n",
       "}\n"
      ],
      "text/plain": [
       "<IPython.core.display.Javascript object>"
      ]
     },
     "metadata": {},
     "output_type": "display_data"
    },
    {
     "data": {
      "text/html": [
       "<img src=\"data:image/png;base64,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\" width=\"640\">"
      ],
      "text/plain": [
       "<IPython.core.display.HTML object>"
      ]
     },
     "metadata": {},
     "output_type": "display_data"
    }
   ],
   "source": [
    "xgb.plot_importance(xgb_final)\n",
    "\n",
    "plt.show()"
   ]
  },
  {
   "cell_type": "markdown",
   "metadata": {},
   "source": [
    "## Testing it with the test data"
   ]
  },
  {
   "cell_type": "code",
   "execution_count": 87,
   "metadata": {},
   "outputs": [
    {
     "data": {
      "text/plain": [
       "Index(['GAvg', 'sur1', 'sur2', 'sur3', 'sur4', 'sur5', 'smr1', 'smr2', 'smr3',\n",
       "       'smr4', 'smr5', 'UAvg', 'MAvg', 'first_xgb', 'bsl', 'knn_bsl_u',\n",
       "       'knn_bsl_m', 'svd', 'svdpp'],\n",
       "      dtype='object')"
      ]
     },
     "execution_count": 87,
     "metadata": {},
     "output_type": "execute_result"
    }
   ],
   "source": [
    "x_test.keys()"
   ]
  },
  {
   "cell_type": "code",
   "execution_count": 89,
   "metadata": {},
   "outputs": [
    {
     "data": {
      "text/html": [
       "<div>\n",
       "<style scoped>\n",
       "    .dataframe tbody tr th:only-of-type {\n",
       "        vertical-align: middle;\n",
       "    }\n",
       "\n",
       "    .dataframe tbody tr th {\n",
       "        vertical-align: top;\n",
       "    }\n",
       "\n",
       "    .dataframe thead th {\n",
       "        text-align: right;\n",
       "    }\n",
       "</style>\n",
       "<table border=\"1\" class=\"dataframe\">\n",
       "  <thead>\n",
       "    <tr style=\"text-align: right;\">\n",
       "      <th></th>\n",
       "      <th>bsl</th>\n",
       "      <th>knn_bsl_u</th>\n",
       "      <th>knn_bsl_m</th>\n",
       "      <th>svd</th>\n",
       "      <th>svdpp</th>\n",
       "    </tr>\n",
       "  </thead>\n",
       "  <tbody>\n",
       "    <tr>\n",
       "      <th>0</th>\n",
       "      <td>4.036206</td>\n",
       "      <td>4.460806</td>\n",
       "      <td>4.09873</td>\n",
       "      <td>3.99676</td>\n",
       "      <td>3.917713</td>\n",
       "    </tr>\n",
       "    <tr>\n",
       "      <th>1</th>\n",
       "      <td>3.638130</td>\n",
       "      <td>3.469006</td>\n",
       "      <td>5.00000</td>\n",
       "      <td>3.91946</td>\n",
       "      <td>3.791236</td>\n",
       "    </tr>\n",
       "  </tbody>\n",
       "</table>\n",
       "</div>"
      ],
      "text/plain": [
       "        bsl  knn_bsl_u  knn_bsl_m      svd     svdpp\n",
       "0  4.036206   4.460806    4.09873  3.99676  3.917713\n",
       "1  3.638130   3.469006    5.00000  3.91946  3.791236"
      ]
     },
     "execution_count": 89,
     "metadata": {},
     "output_type": "execute_result"
    }
   ],
   "source": [
    "x_test[['bsl', 'knn_bsl_u','knn_bsl_m', 'svd', 'svdpp']].head(2)"
   ]
  },
  {
   "cell_type": "code",
   "execution_count": 90,
   "metadata": {
    "scrolled": false
   },
   "outputs": [
    {
     "data": {
      "text/plain": [
       "{'mape': 34.320874710533104,\n",
       " 'predictions': array([3.5701306, 3.5867603, 3.5734663, ..., 3.5734663, 3.5734663,\n",
       "        3.5734663], dtype=float32),\n",
       " 'rmse': 1.0991812250101678}"
      ]
     },
     "execution_count": 90,
     "metadata": {},
     "output_type": "execute_result"
    }
   ],
   "source": [
    "xgb_final_test_pred = xgb_final.predict(x_test[['bsl', 'knn_bsl_u', 'knn_bsl_m', 'svd', 'svdpp']])\n",
    "\n",
    "# storing them in models_evaluations_test\n",
    "models_evaluation_test['xgb_final'] = {'rmse':np.sqrt(mean_squared_error(y_test, xgb_final_test_pred)),\n",
    "                                       'mape':np.mean(np.abs( (y_test.values - xgb_final_test_pred)/y_test.values )) * 100,\n",
    "                                       'predictions':xgb_final_test_pred}\n",
    "\n",
    "\n",
    "models_evaluation_test['xgb_final']"
   ]
  },
  {
   "cell_type": "code",
   "execution_count": 92,
   "metadata": {
    "scrolled": true
   },
   "outputs": [
    {
     "data": {
      "text/html": [
       "<div>\n",
       "<style scoped>\n",
       "    .dataframe tbody tr th:only-of-type {\n",
       "        vertical-align: middle;\n",
       "    }\n",
       "\n",
       "    .dataframe tbody tr th {\n",
       "        vertical-align: top;\n",
       "    }\n",
       "\n",
       "    .dataframe thead th {\n",
       "        text-align: right;\n",
       "    }\n",
       "</style>\n",
       "<table border=\"1\" class=\"dataframe\">\n",
       "  <thead>\n",
       "    <tr style=\"text-align: right;\">\n",
       "      <th></th>\n",
       "      <th>bsl</th>\n",
       "      <th>first_xgb</th>\n",
       "      <th>knn_bsl_m</th>\n",
       "      <th>knn_bsl_u</th>\n",
       "      <th>svd</th>\n",
       "      <th>svdpp</th>\n",
       "      <th>xgb_all</th>\n",
       "      <th>xgb_final</th>\n",
       "    </tr>\n",
       "  </thead>\n",
       "  <tbody>\n",
       "    <tr>\n",
       "      <th>mape</th>\n",
       "      <td>34.6112</td>\n",
       "      <td>31.6169</td>\n",
       "      <td>36.7356</td>\n",
       "      <td>36.3129</td>\n",
       "      <td>35.2288</td>\n",
       "      <td>35.3168</td>\n",
       "      <td>31.6677</td>\n",
       "      <td>34.3209</td>\n",
       "    </tr>\n",
       "    <tr>\n",
       "      <th>predictions</th>\n",
       "      <td>[4.036206096101787, 3.6381296161606014, 3.5320...</td>\n",
       "      <td>[4.0232067, 3.7947516, 3.265981, 4.029171, 3.6...</td>\n",
       "      <td>[4.098730457611819, 5.0, 3.466606330245642, 4....</td>\n",
       "      <td>[4.460806391864557, 3.4690056553542377, 3.4666...</td>\n",
       "      <td>[3.9967601536801123, 3.919459614654939, 3.6248...</td>\n",
       "      <td>[3.9177128477107477, 3.7912363045212905, 3.434...</td>\n",
       "      <td>[4.0621133, 3.8182564, 3.245235, 4.0615153, 3....</td>\n",
       "      <td>[3.5701306, 3.5867603, 3.5734663, 3.5547884, 3...</td>\n",
       "    </tr>\n",
       "    <tr>\n",
       "      <th>rmse</th>\n",
       "      <td>1.14461</td>\n",
       "      <td>1.06712</td>\n",
       "      <td>1.28263</td>\n",
       "      <td>1.2678</td>\n",
       "      <td>1.20032</td>\n",
       "      <td>1.2188</td>\n",
       "      <td>1.07857</td>\n",
       "      <td>1.09918</td>\n",
       "    </tr>\n",
       "  </tbody>\n",
       "</table>\n",
       "</div>"
      ],
      "text/plain": [
       "                                                           bsl  \\\n",
       "mape                                                   34.6112   \n",
       "predictions  [4.036206096101787, 3.6381296161606014, 3.5320...   \n",
       "rmse                                                   1.14461   \n",
       "\n",
       "                                                     first_xgb  \\\n",
       "mape                                                   31.6169   \n",
       "predictions  [4.0232067, 3.7947516, 3.265981, 4.029171, 3.6...   \n",
       "rmse                                                   1.06712   \n",
       "\n",
       "                                                     knn_bsl_m  \\\n",
       "mape                                                   36.7356   \n",
       "predictions  [4.098730457611819, 5.0, 3.466606330245642, 4....   \n",
       "rmse                                                   1.28263   \n",
       "\n",
       "                                                     knn_bsl_u  \\\n",
       "mape                                                   36.3129   \n",
       "predictions  [4.460806391864557, 3.4690056553542377, 3.4666...   \n",
       "rmse                                                    1.2678   \n",
       "\n",
       "                                                           svd  \\\n",
       "mape                                                   35.2288   \n",
       "predictions  [3.9967601536801123, 3.919459614654939, 3.6248...   \n",
       "rmse                                                   1.20032   \n",
       "\n",
       "                                                         svdpp  \\\n",
       "mape                                                   35.3168   \n",
       "predictions  [3.9177128477107477, 3.7912363045212905, 3.434...   \n",
       "rmse                                                    1.2188   \n",
       "\n",
       "                                                       xgb_all  \\\n",
       "mape                                                   31.6677   \n",
       "predictions  [4.0621133, 3.8182564, 3.245235, 4.0615153, 3....   \n",
       "rmse                                                   1.07857   \n",
       "\n",
       "                                                     xgb_final  \n",
       "mape                                                   34.3209  \n",
       "predictions  [3.5701306, 3.5867603, 3.5734663, 3.5547884, 3...  \n",
       "rmse                                                   1.09918  "
      ]
     },
     "execution_count": 92,
     "metadata": {},
     "output_type": "execute_result"
    }
   ],
   "source": [
    "pd.DataFrame(models_evaluation_test)"
   ]
  },
  {
   "cell_type": "markdown",
   "metadata": {},
   "source": [
    " \n",
    " "
   ]
  },
  {
   "cell_type": "markdown",
   "metadata": {},
   "source": [
    " \n",
    " "
   ]
  },
  {
   "cell_type": "markdown",
   "metadata": {},
   "source": [
    " \n",
    " "
   ]
  },
  {
   "cell_type": "code",
   "execution_count": 92,
   "metadata": {
    "scrolled": true
   },
   "outputs": [
    {
     "data": {
      "text/html": [
       "<div>\n",
       "<style scoped>\n",
       "    .dataframe tbody tr th:only-of-type {\n",
       "        vertical-align: middle;\n",
       "    }\n",
       "\n",
       "    .dataframe tbody tr th {\n",
       "        vertical-align: top;\n",
       "    }\n",
       "\n",
       "    .dataframe thead th {\n",
       "        text-align: right;\n",
       "    }\n",
       "</style>\n",
       "<table border=\"1\" class=\"dataframe\">\n",
       "  <thead>\n",
       "    <tr style=\"text-align: right;\">\n",
       "      <th></th>\n",
       "      <th>bsl</th>\n",
       "      <th>first_xgb</th>\n",
       "      <th>knn_bsl_m</th>\n",
       "      <th>knn_bsl_u</th>\n",
       "      <th>svd</th>\n",
       "      <th>svdpp</th>\n",
       "      <th>xgb_all</th>\n",
       "      <th>xgb_final</th>\n",
       "    </tr>\n",
       "  </thead>\n",
       "  <tbody>\n",
       "    <tr>\n",
       "      <th>mape</th>\n",
       "      <td>34.6112</td>\n",
       "      <td>31.6169</td>\n",
       "      <td>36.7356</td>\n",
       "      <td>36.3129</td>\n",
       "      <td>35.2288</td>\n",
       "      <td>35.3168</td>\n",
       "      <td>31.6677</td>\n",
       "      <td>34.3209</td>\n",
       "    </tr>\n",
       "    <tr>\n",
       "      <th>predictions</th>\n",
       "      <td>[4.036206096101787, 3.6381296161606014, 3.5320...</td>\n",
       "      <td>[4.0232067, 3.7947516, 3.265981, 4.029171, 3.6...</td>\n",
       "      <td>[4.098730457611819, 5.0, 3.466606330245642, 4....</td>\n",
       "      <td>[4.460806391864557, 3.4690056553542377, 3.4666...</td>\n",
       "      <td>[3.9967601536801123, 3.919459614654939, 3.6248...</td>\n",
       "      <td>[3.9177128477107477, 3.7912363045212905, 3.434...</td>\n",
       "      <td>[4.0621133, 3.8182564, 3.245235, 4.0615153, 3....</td>\n",
       "      <td>[3.5701306, 3.5867603, 3.5734663, 3.5547884, 3...</td>\n",
       "    </tr>\n",
       "    <tr>\n",
       "      <th>rmse</th>\n",
       "      <td>1.14461</td>\n",
       "      <td>1.06712</td>\n",
       "      <td>1.28263</td>\n",
       "      <td>1.2678</td>\n",
       "      <td>1.20032</td>\n",
       "      <td>1.2188</td>\n",
       "      <td>1.07857</td>\n",
       "      <td>1.09918</td>\n",
       "    </tr>\n",
       "  </tbody>\n",
       "</table>\n",
       "</div>"
      ],
      "text/plain": [
       "                                                           bsl  \\\n",
       "mape                                                   34.6112   \n",
       "predictions  [4.036206096101787, 3.6381296161606014, 3.5320...   \n",
       "rmse                                                   1.14461   \n",
       "\n",
       "                                                     first_xgb  \\\n",
       "mape                                                   31.6169   \n",
       "predictions  [4.0232067, 3.7947516, 3.265981, 4.029171, 3.6...   \n",
       "rmse                                                   1.06712   \n",
       "\n",
       "                                                     knn_bsl_m  \\\n",
       "mape                                                   36.7356   \n",
       "predictions  [4.098730457611819, 5.0, 3.466606330245642, 4....   \n",
       "rmse                                                   1.28263   \n",
       "\n",
       "                                                     knn_bsl_u  \\\n",
       "mape                                                   36.3129   \n",
       "predictions  [4.460806391864557, 3.4690056553542377, 3.4666...   \n",
       "rmse                                                    1.2678   \n",
       "\n",
       "                                                           svd  \\\n",
       "mape                                                   35.2288   \n",
       "predictions  [3.9967601536801123, 3.919459614654939, 3.6248...   \n",
       "rmse                                                   1.20032   \n",
       "\n",
       "                                                         svdpp  \\\n",
       "mape                                                   35.3168   \n",
       "predictions  [3.9177128477107477, 3.7912363045212905, 3.434...   \n",
       "rmse                                                    1.2188   \n",
       "\n",
       "                                                       xgb_all  \\\n",
       "mape                                                   31.6677   \n",
       "predictions  [4.0621133, 3.8182564, 3.245235, 4.0615153, 3....   \n",
       "rmse                                                   1.07857   \n",
       "\n",
       "                                                     xgb_final  \n",
       "mape                                                   34.3209  \n",
       "predictions  [3.5701306, 3.5867603, 3.5734663, 3.5547884, 3...  \n",
       "rmse                                                   1.09918  "
      ]
     },
     "execution_count": 92,
     "metadata": {},
     "output_type": "execute_result"
    }
   ],
   "source": [
    "pd.DataFrame(models_evaluation_test)"
   ]
  },
  {
   "cell_type": "markdown",
   "metadata": {},
   "source": [
    " \n",
    " "
   ]
  },
  {
   "cell_type": "markdown",
   "metadata": {},
   "source": [
    " \n",
    " "
   ]
  },
  {
   "cell_type": "markdown",
   "metadata": {},
   "source": [
    " \n",
    " "
   ]
  },
  {
   "cell_type": "markdown",
   "metadata": {},
   "source": [
    " \n",
    " "
   ]
  }
 ],
 "metadata": {
  "kernelspec": {
   "display_name": "Python 3",
   "language": "python",
   "name": "python3"
  },
  "language_info": {
   "codemirror_mode": {
    "name": "ipython",
    "version": 3
   },
   "file_extension": ".py",
   "mimetype": "text/x-python",
   "name": "python",
   "nbconvert_exporter": "python",
   "pygments_lexer": "ipython3",
   "version": "3.6.4"
  }
 },
 "nbformat": 4,
 "nbformat_minor": 2
}
